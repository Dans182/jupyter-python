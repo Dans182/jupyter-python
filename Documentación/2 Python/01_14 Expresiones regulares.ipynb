{
 "cells": [
  {
   "attachments": {
    "681808f2-9777-4b02-8340-43884f26a29e.png": {
     "image/png": "[encoded data removed]"
    }
   },
   "cell_type": "markdown",
   "metadata": {},
   "source": [
    "![Cabecera cuadernos Jupyter.png](attachment:681808f2-9777-4b02-8340-43884f26a29e.png)\n",
    "<a name = \"inicio\"></a>"
   ]
  },
  {
   "cell_type": "markdown",
   "metadata": {},
   "source": [
    "<div style=\"font-size: 50px;text-align: center;height:80px;padding:10px;margin:10px 0 0 0;\">Expresiones regulares</div>"
   ]
  },
  {
   "cell_type": "markdown",
   "metadata": {},
   "source": [
    "La librería **re** de Python se utiliza para trabajar con expresiones regulares (*regex*, *regular expressions*), que son secuencias de caracteres que forman un patrón de búsqueda. Las expresiones regulares suponen una versátil herramienta para el procesamiento de texto, permitiendo realizar tareas como:\n",
    "\n",
    "* Buscar patrones dentro de una cadena\n",
    "* Dividir una cadena en subcadenas\n",
    "* Reemplazar partes de una cadena\n",
    "* Validar si una cadena cumple con un patrón específico"
   ]
  },
  {
   "cell_type": "markdown",
   "metadata": {},
   "source": [
    "# Importación de la librería"
   ]
  },
  {
   "cell_type": "markdown",
   "metadata": {},
   "source": [
    "Comencemos importando esta librería, que se importa sin alias:"
   ]
  },
  {
   "cell_type": "code",
   "execution_count": 1,
   "metadata": {},
   "outputs": [],
   "source": [
    "import re"
   ]
  },
  {
   "cell_type": "markdown",
   "metadata": {},
   "source": [
    "Y veamos a continuación algunas funciones útiles."
   ]
  },
  {
   "cell_type": "markdown",
   "metadata": {},
   "source": [
    "# Búsqueda de patrones simples"
   ]
  },
  {
   "cell_type": "markdown",
   "metadata": {},
   "source": [
    "La función **re.search()** busca un patrón dentro de una cadena y devuelve un objeto de tipo **Match** si encuentra una coincidencia. Si no hay coincidencias, devuelve *None*. Por ejemplo, supongamos que partimos del siguiente texto:"
   ]
  },
  {
   "cell_type": "code",
   "execution_count": 2,
   "metadata": {},
   "outputs": [],
   "source": [
    "texto = \"Python for Data Science\""
   ]
  },
  {
   "cell_type": "markdown",
   "metadata": {},
   "source": [
    "y queremos saber si se encuentra en él el texto \"Data\":"
   ]
  },
  {
   "cell_type": "code",
   "execution_count": 3,
   "metadata": {},
   "outputs": [],
   "source": [
    "patron = \"Data\""
   ]
  },
  {
   "cell_type": "markdown",
   "metadata": {},
   "source": [
    "Realicemos la búsqueda:"
   ]
  },
  {
   "cell_type": "code",
   "execution_count": 4,
   "metadata": {},
   "outputs": [],
   "source": [
    "resultado = re.search(patron, texto)"
   ]
  },
  {
   "cell_type": "markdown",
   "metadata": {},
   "source": [
    "Comprobemos el tipo del resultado obtenido:"
   ]
  },
  {
   "cell_type": "code",
   "execution_count": 5,
   "metadata": {},
   "outputs": [
    {
     "data": {
      "text/plain": [
       "re.Match"
      ]
     },
     "execution_count": 5,
     "metadata": {},
     "output_type": "execute_result"
    }
   ],
   "source": [
    "type(resultado)"
   ]
  },
  {
   "cell_type": "markdown",
   "metadata": {},
   "source": [
    "Lo que indica que se encontró el patrón buscado en el texto. Otra forma de averiguarlo sería con un *if*:"
   ]
  },
  {
   "cell_type": "code",
   "execution_count": 6,
   "metadata": {},
   "outputs": [
    {
     "name": "stdout",
     "output_type": "stream",
     "text": [
      "Se encontró el patrón\n"
     ]
    }
   ],
   "source": [
    "if resultado:\n",
    "    print(\"Se encontró el patrón\")\n",
    "else:\n",
    "    print(\"No se encontró el patrón\")"
   ]
  },
  {
   "cell_type": "markdown",
   "metadata": {},
   "source": [
    "### El objeto Match"
   ]
  },
  {
   "cell_type": "markdown",
   "metadata": {},
   "source": [
    "Este objeto **Match** ofrece varios métodos y atributos que podemos utilizar para obtener más detalles sobre la parte del texto que coincidió con el patrón de búsqueda. Algunos de los más útiles son:"
   ]
  },
  {
   "cell_type": "markdown",
   "metadata": {},
   "source": [
    "#### start()"
   ]
  },
  {
   "cell_type": "markdown",
   "metadata": {},
   "source": [
    "Este método devuelve el índice (posición) en el texto en el que estamos haciendo la búsqueda en el cual se ha encontrado el patrón de búsqueda:"
   ]
  },
  {
   "cell_type": "code",
   "execution_count": 7,
   "metadata": {},
   "outputs": [
    {
     "data": {
      "text/plain": [
       "11"
      ]
     },
     "execution_count": 7,
     "metadata": {},
     "output_type": "execute_result"
    }
   ],
   "source": [
    "resultado.start()"
   ]
  },
  {
   "cell_type": "markdown",
   "metadata": {},
   "source": [
    "Efectivamente, el texto que estamos buscando (\"Data\") comienza en la posición 11 del texto en el que hacemos la búsqueda:"
   ]
  },
  {
   "cell_type": "code",
   "execution_count": 8,
   "metadata": {},
   "outputs": [
    {
     "data": {
      "text/plain": [
       "'D'"
      ]
     },
     "execution_count": 8,
     "metadata": {},
     "output_type": "execute_result"
    }
   ],
   "source": [
    "texto[11]   # Primera letra del bloque de texto que satisface el patrón de búsqueda"
   ]
  },
  {
   "cell_type": "markdown",
   "metadata": {},
   "source": [
    "#### end()"
   ]
  },
  {
   "cell_type": "markdown",
   "metadata": {},
   "source": [
    "De forma análoga, el método **end()** devuelve el índice o posición final:"
   ]
  },
  {
   "cell_type": "code",
   "execution_count": 9,
   "metadata": {},
   "outputs": [
    {
     "data": {
      "text/plain": [
       "15"
      ]
     },
     "execution_count": 9,
     "metadata": {},
     "output_type": "execute_result"
    }
   ],
   "source": [
    "resultado.end()"
   ]
  },
  {
   "cell_type": "code",
   "execution_count": 10,
   "metadata": {},
   "outputs": [
    {
     "data": {
      "text/plain": [
       "' '"
      ]
     },
     "execution_count": 10,
     "metadata": {},
     "output_type": "execute_result"
    }
   ],
   "source": [
    "texto[15]"
   ]
  },
  {
   "cell_type": "markdown",
   "metadata": {},
   "source": [
    "Obsérvese que esta posición es la del carácter que sigue al texto que se ha encontrado."
   ]
  },
  {
   "cell_type": "markdown",
   "metadata": {},
   "source": [
    "#### span()"
   ]
  },
  {
   "cell_type": "markdown",
   "metadata": {},
   "source": [
    "El método **span()** devuelve una tupla que contiene los índices inicial y final de la subcadena que coincide con el patrón. Esencialmente combina start() y end() en una sola llamada."
   ]
  },
  {
   "cell_type": "code",
   "execution_count": 11,
   "metadata": {},
   "outputs": [
    {
     "data": {
      "text/plain": [
       "(11, 15)"
      ]
     },
     "execution_count": 11,
     "metadata": {},
     "output_type": "execute_result"
    }
   ],
   "source": [
    "resultado.span()"
   ]
  },
  {
   "cell_type": "markdown",
   "metadata": {},
   "source": [
    "#### string"
   ]
  },
  {
   "cell_type": "markdown",
   "metadata": {},
   "source": [
    "El atributo **string** devuelve la cadena de texto original que se pasó a *re.search()* (es decir, el texto en el que estamos realizando la búsqueda):"
   ]
  },
  {
   "cell_type": "code",
   "execution_count": 12,
   "metadata": {},
   "outputs": [
    {
     "data": {
      "text/plain": [
       "'Python for Data Science'"
      ]
     },
     "execution_count": 12,
     "metadata": {},
     "output_type": "execute_result"
    }
   ],
   "source": [
    "resultado.string"
   ]
  },
  {
   "cell_type": "markdown",
   "metadata": {},
   "source": [
    "#### re"
   ]
  },
  {
   "cell_type": "markdown",
   "metadata": {},
   "source": [
    "El atributo **re** devuelve el patrón de búsqueda utilizado:"
   ]
  },
  {
   "cell_type": "code",
   "execution_count": 13,
   "metadata": {},
   "outputs": [
    {
     "data": {
      "text/plain": [
       "re.compile(r'Data', re.UNICODE)"
      ]
     },
     "execution_count": 13,
     "metadata": {},
     "output_type": "execute_result"
    }
   ],
   "source": [
    "resultado.re"
   ]
  },
  {
   "cell_type": "markdown",
   "metadata": {},
   "source": [
    "#### group()"
   ]
  },
  {
   "cell_type": "markdown",
   "metadata": {},
   "source": [
    "El método **.group()** devuelve el texto que satisface nuestro patrón de búsqueda (veremos más adelante este método con algo más de detalle):"
   ]
  },
  {
   "cell_type": "code",
   "execution_count": 14,
   "metadata": {},
   "outputs": [
    {
     "data": {
      "text/plain": [
       "'Data'"
      ]
     },
     "execution_count": 14,
     "metadata": {},
     "output_type": "execute_result"
    }
   ],
   "source": [
    "resultado.group()"
   ]
  },
  {
   "cell_type": "markdown",
   "metadata": {},
   "source": [
    "<div style = \"float:right\"><a style=\"text-decoration:none\" href = \"#inicio\">Inicio</a></div>"
   ]
  },
  {
   "cell_type": "markdown",
   "metadata": {},
   "source": [
    "# Raw strings"
   ]
  },
  {
   "cell_type": "markdown",
   "metadata": {},
   "source": [
    "Observa en el resultado anterior que el patrón de búsqueda se muestra precedido con una \"r\":"
   ]
  },
  {
   "cell_type": "code",
   "execution_count": 15,
   "metadata": {},
   "outputs": [
    {
     "data": {
      "text/plain": [
       "'Data'"
      ]
     },
     "execution_count": 15,
     "metadata": {},
     "output_type": "execute_result"
    }
   ],
   "source": [
    "r'Data'"
   ]
  },
  {
   "cell_type": "markdown",
   "metadata": {},
   "source": [
    "El prefijo r al comienzo de una cadena de texto en Python indica que la cadena es una *cadena cruda* (**raw string**). En el contexto de las expresiones regulares, usar cadenas crudas es una práctica común y recomendada porque simplifica la escritura de los patrones de búsqueda.\r\n",
    "\r\n",
    "Las cadenas crudas le dicen a Python que ignore las secuencias de escape dentro de la cadena, tratándolas como texto literal. Las secuencias de escape en Python son combinaciones especiales que comienzan con una barra invertida (\\) seguidas por una letra o combinación de dígitos que representan un carácter especial. Por ejemplo, \\n representa un salto de línea, y \\t representa un tabuladocruda:"
   ]
  },
  {
   "cell_type": "markdown",
   "metadata": {},
   "source": [
    "En las expresiones regulares -lo veremos en breve-, se utilizan con frecuencia caracteres especiales y secuencias que incluyen la barra invertida. Por ejemplo, **\\b** representa un límite de palabra, y **\\d** representa cualquier dígito. Sin el prefijo r, Python intentaría interpretar estas secuencias de escape antes de que la expresión regular fuese procesada, lo que podría llevar a errores o comportamientos no deseados.\n",
    "\n",
    "Por ejemplo, considera el siguiente patrón de expresión regular sin usar una cadena cruda:"
   ]
  },
  {
   "cell_type": "code",
   "execution_count": 16,
   "metadata": {},
   "outputs": [],
   "source": [
    "patron = \"\\\\bPython\\\\b\""
   ]
  },
  {
   "cell_type": "markdown",
   "metadata": {},
   "source": [
    "Aquí, para representar el límite de palabra \\b en la expresión regular, necesitamos \"escapar\" cada barra invertida con otra barra invertida, lo que resulta en \\\\b. Esto hace que el patrón sea más difícil de leer y de escribir.\r\n",
    "\r\n",
    "Usando una cadena cruda, el mismo patrón se simplifica a:"
   ]
  },
  {
   "cell_type": "code",
   "execution_count": 17,
   "metadata": {},
   "outputs": [],
   "source": [
    "patron = r\"\\bPython\\b\""
   ]
  },
  {
   "cell_type": "markdown",
   "metadata": {},
   "source": [
    "En este caso, no necesitamos escapar las barras invertidas, haciendo que el patrón sea más claro y más cercano a cómo se expresaría en la mayoría de los lenguajes y herramientas que utilizan expresiones regulares.\n",
    "\n",
    "En muchos casos verás que los resultados que obtenemos son los mismos tanto si marcamos el patrón de búsqueda como \"crudo\" como si no, pero, en general, siempre es buena práctica asegurarse de que trabajamos siempre con textos crudos para evitar problemas."
   ]
  },
  {
   "cell_type": "markdown",
   "metadata": {},
   "source": [
    "<div style = \"float:right\"><a style=\"text-decoration:none\" href = \"#inicio\">Inicio</a></div>"
   ]
  },
  {
   "cell_type": "markdown",
   "metadata": {},
   "source": [
    "# Resultados múltiples"
   ]
  },
  {
   "cell_type": "markdown",
   "metadata": {},
   "source": [
    "Si el patrón buscado se encuentra en más de un lugar de la cadena de texto, el método *re.search* solo devuelve la primera coincidencia:"
   ]
  },
  {
   "cell_type": "code",
   "execution_count": 18,
   "metadata": {},
   "outputs": [],
   "source": [
    "texto = \"mi gato y tu gata juegan con los gatitos de los gatos del vecino\"\n",
    "patron = r\"gat\""
   ]
  },
  {
   "cell_type": "code",
   "execution_count": 19,
   "metadata": {},
   "outputs": [],
   "source": [
    "resultado = re.search(patron, texto)"
   ]
  },
  {
   "cell_type": "code",
   "execution_count": 20,
   "metadata": {},
   "outputs": [
    {
     "data": {
      "text/plain": [
       "(3, 6)"
      ]
     },
     "execution_count": 20,
     "metadata": {},
     "output_type": "execute_result"
    }
   ],
   "source": [
    "resultado.span()"
   ]
  },
  {
   "cell_type": "markdown",
   "metadata": {},
   "source": [
    "Si estamos interesados en encontrar todas las ocurrencias del patrón en la cadena de texto, deberemos usar la función **re.findall()** o **re.finditer()**."
   ]
  },
  {
   "cell_type": "markdown",
   "metadata": {},
   "source": [
    "### re.findall()"
   ]
  },
  {
   "cell_type": "markdown",
   "metadata": {},
   "source": [
    "La primera de estas funciones, **re.findall()** devuelve una lista conteniendo los textos encontrados:"
   ]
  },
  {
   "cell_type": "code",
   "execution_count": 21,
   "metadata": {},
   "outputs": [
    {
     "data": {
      "text/plain": [
       "['gat', 'gat', 'gat', 'gat']"
      ]
     },
     "execution_count": 21,
     "metadata": {},
     "output_type": "execute_result"
    }
   ],
   "source": [
    "re.findall(patron, texto)"
   ]
  },
  {
   "cell_type": "markdown",
   "metadata": {},
   "source": [
    "### re.finditer()"
   ]
  },
  {
   "cell_type": "markdown",
   "metadata": {},
   "source": [
    "La función **re.finditer()**, por otro lado, devuelve un iterador que produce objetos *Match* para todas las coincidencias del patrón. Esto es útil si necesitamos acceso a la información detallada de cada coincidencia (como las posiciones de inicio y fin de éstas):"
   ]
  },
  {
   "cell_type": "code",
   "execution_count": 22,
   "metadata": {},
   "outputs": [
    {
     "name": "stdout",
     "output_type": "stream",
     "text": [
      "re.compile('gat') (3, 6)\n",
      "re.compile('gat') (13, 16)\n",
      "re.compile('gat') (33, 36)\n",
      "re.compile('gat') (48, 51)\n"
     ]
    }
   ],
   "source": [
    "for match in re.finditer(patron, texto):\n",
    "    print(match.re, match.span())"
   ]
  },
  {
   "cell_type": "markdown",
   "metadata": {},
   "source": [
    "<div style = \"float:right\"><a style=\"text-decoration:none\" href = \"#inicio\">Inicio</a></div>"
   ]
  },
  {
   "cell_type": "markdown",
   "metadata": {},
   "source": [
    "# Búsqueda de patrones complejos"
   ]
  },
  {
   "cell_type": "markdown",
   "metadata": {
    "jp-MarkdownHeadingCollapsed": true
   },
   "source": [
    "Sin embargo, la potencia de las expresiones regulares no reside en facilitar la búsqueda de un texto fijo dentro de otro texto, sino en permitir búsquedas complejas. Por ejemplo, sigamos trabajando con la frase anterior:"
   ]
  },
  {
   "cell_type": "code",
   "execution_count": 23,
   "metadata": {},
   "outputs": [],
   "source": [
    "texto = \"mi gato y tu gata juegan con los gatitos de los gatos del vecino\""
   ]
  },
  {
   "cell_type": "markdown",
   "metadata": {},
   "source": [
    "Podríamos estar interesados en encontrar todas las ocurrencias de los textos \"gato\" y \"gata\". Esto podría conseguirse usando un patrón de búsqueda del tipo \"gat.\". En este patrón, el punto representa cualquier carácter, con lo que se identificaría una coincidencia siempre que se encontrase el texto \"gat\" seguido de cualquier otro carácter:"
   ]
  },
  {
   "cell_type": "code",
   "execution_count": 24,
   "metadata": {},
   "outputs": [
    {
     "data": {
      "text/plain": [
       "['gato', 'gata', 'gati', 'gato']"
      ]
     },
     "execution_count": 24,
     "metadata": {},
     "output_type": "execute_result"
    }
   ],
   "source": [
    "re.findall(r\"gat.\", texto)"
   ]
  },
  {
   "cell_type": "markdown",
   "metadata": {},
   "source": [
    "Comprobamos que también se ha identificado como coincidencia los cuatro primeros caracteres de la palabra \"gatitos\" (pues cumple nuestro patrón de búsqueda). Si quisiéramos que el patrón solo considerase como cuarto carácter la \"o\" o la \"a\" (es decir, si solo quisiéramos encontrar las palabras \"gato\" y \"gata\"), podríamos conseguirlo con el siguiente patrón:"
   ]
  },
  {
   "cell_type": "code",
   "execution_count": 25,
   "metadata": {},
   "outputs": [
    {
     "data": {
      "text/plain": [
       "['gato', 'gata', 'gato']"
      ]
     },
     "execution_count": 25,
     "metadata": {},
     "output_type": "execute_result"
    }
   ],
   "source": [
    "re.findall(r\"gat[oa]\", texto)"
   ]
  },
  {
   "cell_type": "markdown",
   "metadata": {},
   "source": [
    "Situar entre corchetes uno o más caracteres obliga a que cualquier coincidencia tenga que incluir, en dicha posición, uno de ellos."
   ]
  },
  {
   "cell_type": "markdown",
   "metadata": {},
   "source": [
    "Si quisiéramos buscar los textos \"gato\", \"gata\", \"gatos\" y \"gatas\" (es decir, si quisiéramos buscar los textos \"gato\" y \"gata\" seguidos o no por una letra \"s\"), podríamos conseguirlo con el siguiente patrón:"
   ]
  },
  {
   "cell_type": "code",
   "execution_count": 26,
   "metadata": {},
   "outputs": [
    {
     "data": {
      "text/plain": [
       "['gato', 'gata', 'gatos']"
      ]
     },
     "execution_count": 26,
     "metadata": {},
     "output_type": "execute_result"
    }
   ],
   "source": [
    "re.findall(r\"gat[oa]s?\", texto)"
   ]
  },
  {
   "cell_type": "markdown",
   "metadata": {},
   "source": [
    "La interrogración indica que el patrón que la precede (en nuestro caso, la letra \"s\") puede aparecer cero o una veces para que sea considerada una coincidencia (es decir, que es opcional)."
   ]
  },
  {
   "cell_type": "markdown",
   "metadata": {},
   "source": [
    "Esto nos permitiría encontrar todas las coincidencias con los textos \"gato\", \"gata\", \"gatos\", \"gatas\", \"gatito\", \"gatita\", \"gatitos\" y \"gatitas\". Para esto basta con observar que, en todos estos términos, las letras \"gat\" siempre se encuentran al comienzo, las letras \"it\" son opcionales, a continuación tiene que aparecer una \"o\" o una \"a\" y, por último, hay una \"s\" opcional. Probemos:"
   ]
  },
  {
   "cell_type": "code",
   "execution_count": 27,
   "metadata": {},
   "outputs": [],
   "source": [
    "patron = r\"gat(it)?[oa]s?\""
   ]
  },
  {
   "cell_type": "code",
   "execution_count": 28,
   "metadata": {},
   "outputs": [
    {
     "name": "stdout",
     "output_type": "stream",
     "text": [
      "gato (3, 7)\n",
      "gata (13, 17)\n",
      "gatitos (33, 40)\n",
      "gatos (48, 53)\n"
     ]
    }
   ],
   "source": [
    "for match in re.finditer(patron, texto):\n",
    "    palabra = texto[match.start():match.end()]\n",
    "    print(palabra, match.span())"
   ]
  },
  {
   "cell_type": "markdown",
   "metadata": {},
   "source": [
    "En el patrón anterior se ha encerrado entre paréntesis las letras \"it\" para poder considerarlas a ambas como opcionales (usando la interrogación que sigue a este bloque). Por otro lado, en el bucle, usamos los métodos *.start()* y *.end() para extraer la cadena de texto que se ha encontrado. Hay métodos más sencillos de hacer esto, pero requieren alguna explicación adicional que veremos en breve."
   ]
  },
  {
   "cell_type": "markdown",
   "metadata": {},
   "source": [
    "Por otro lado, si usamos la función *re.findall()*:"
   ]
  },
  {
   "cell_type": "code",
   "execution_count": 29,
   "metadata": {},
   "outputs": [
    {
     "data": {
      "text/plain": [
       "['', '', 'it', '']"
      ]
     },
     "execution_count": 29,
     "metadata": {},
     "output_type": "execute_result"
    }
   ],
   "source": [
    "re.findall(patron, texto)"
   ]
  },
  {
   "cell_type": "markdown",
   "metadata": {},
   "source": [
    "vemos que el resultado no es el que esperábamos. Sí lo sería si utilizásemos el siguiente patrón de búsqueda:"
   ]
  },
  {
   "cell_type": "code",
   "execution_count": 30,
   "metadata": {},
   "outputs": [
    {
     "data": {
      "text/plain": [
       "['gato', 'gata', 'gatitos', 'gatos']"
      ]
     },
     "execution_count": 30,
     "metadata": {},
     "output_type": "execute_result"
    }
   ],
   "source": [
    "patron = r\"gat(?:it)?[oa]s?\"\n",
    "re.findall(patron, texto)"
   ]
  },
  {
   "cell_type": "markdown",
   "metadata": {},
   "source": [
    "pero la explicación queda para un poco más adelante, cuando hablemos de grupos..."
   ]
  },
  {
   "cell_type": "markdown",
   "metadata": {},
   "source": [
    "<div style = \"float:right\"><a style=\"text-decoration:none\" href = \"#inicio\">Inicio</a></div>"
   ]
  },
  {
   "cell_type": "markdown",
   "metadata": {},
   "source": [
    "# Patrones de búsqueda"
   ]
  },
  {
   "cell_type": "markdown",
   "metadata": {},
   "source": [
    "Hemos visto que ciertos caracteres tienen significado especial (el punto, la interrogación...). Usando expresiones regulares hay una gran variedad de símbolos, letras y combinaciones de letras especiales para construir patrones de búsqueda complejos. Revisemos los más utilizados:"
   ]
  },
  {
   "cell_type": "markdown",
   "metadata": {},
   "source": [
    "###### Caracteres literales\n",
    "\n",
    "* Cualquier carácter alfanumérico y el guion bajo (_) se representa a sí mismo, a menos que se especifique lo contrario"
   ]
  },
  {
   "cell_type": "markdown",
   "metadata": {},
   "source": [
    "###### Metacaracteres\n",
    "\n",
    "* . (punto): Representa con cualquier carácter excepto el carácter de nueva línea.\n",
    "* ^: Coincide con el inicio de la cadena\n",
    "* $: Coincide con el final de la cadena\n",
    "* *: Coincide con 0 o más repeticiones del patrón precedente\n",
    "* +: Coincide con 1 o más repeticiones del patrón precedente\n",
    "* ?: Coincide con 0 o 1 repetición del patrón precedente\n",
    "* {n}: Coincide con exactamente n repeticiones del patrón precedente\n",
    "* {n,}: Coincide con n o más repeticiones del patrón precedente\n",
    "* {n,m}: Coincide con entre n y m repeticiones del patrón precedente"
   ]
  },
  {
   "cell_type": "markdown",
   "metadata": {},
   "source": [
    "###### Conjuntos de caracteres\n",
    "\n",
    "* \\[...\\]: Coincide con cualquier carácter (solo uno) incluido en los corchetes. Si queremos hacer referencia a caracteres consecutivos, podemos usar la expresión [0-9], por ejemplo (para incluir todos los caracteres entre el \"0\" y el \"9\"), o [a-d] (para incluir todos los caracteres entre la \"a\" y la \"d\"), etc.\n",
    "* \\[^...\\]: Coincide con cualquier carácter (solo uno) que no esté incluido en los corchetes\n",
    "* (xxx|yyy|...): Coincide con el texto \"xxx\" o con el texto \"yyy\", etc."
   ]
  },
  {
   "cell_type": "markdown",
   "metadata": {},
   "source": [
    "###### Clases de caracteres especiales\n",
    "\n",
    "* \\\\d: Coincide con cualquier dígito decimal; equivalente a \\[0-9\\]\n",
    "* \\\\D: Coincide con cualquier carácter que no sea un dígito decimal; equivalente a \\[^0-9\\]\n",
    "* \\s: Coincide con cualquier carácter de espacio en blanco; equivalente a \\[ \\t\\n\\r\\f\\v\\]\n",
    "* \\\\S: Coincide con cualquier carácter que no sea un espacio en blanco; equivalente a \\[^ \\t\\n\\r\\f\\v\\]\n",
    "* \\\\w: Coincide con cualquier carácter alfanumérico; equivalente a \\[a-zA-Z0-9_\\]\n",
    "* \\\\W: Coincide con cualquier carácter que no sea alfanumérico; equivalente a \\[^a-zA-Z0-9_\\]\n",
    "* \\\\b: Representa un límite de palabra"
   ]
  },
  {
   "cell_type": "markdown",
   "metadata": {},
   "source": [
    "<div style = \"float:right\"><a style=\"text-decoration:none\" href = \"#inicio\">Inicio</a></div>"
   ]
  },
  {
   "cell_type": "markdown",
   "metadata": {},
   "source": [
    "# Otras funciones"
   ]
  },
  {
   "cell_type": "markdown",
   "metadata": {},
   "source": [
    "Hemos visto que:\n",
    "* La función *re.search()* busca la primera coincidencia del patrón de búsqueda\n",
    "* La función *re.findall()* busca todas las coincidencias del patrón de búsqueda, devolviendo los textos que cumplen el patrón, y\n",
    "* La función *re.finditer()* devuelve un iterador con objetos *Match* que hacen referencia a las coincidencias encontradas\n",
    "\n",
    "pero hay otras funciones útiles:"
   ]
  },
  {
   "cell_type": "markdown",
   "metadata": {},
   "source": [
    "### re.split()"
   ]
  },
  {
   "cell_type": "markdown",
   "metadata": {},
   "source": [
    "Esta función divide una cadena de texto en una lista de subcadenas de texto, utilizando un patrón como delimitador:"
   ]
  },
  {
   "cell_type": "code",
   "execution_count": 31,
   "metadata": {},
   "outputs": [
    {
     "data": {
      "text/plain": [
       "['Python', 'for', 'Data', 'Science']"
      ]
     },
     "execution_count": 31,
     "metadata": {},
     "output_type": "execute_result"
    }
   ],
   "source": [
    "texto = \"Python for Data Science\"\n",
    "patron = r\" \"\n",
    "re.split(patron, texto)"
   ]
  },
  {
   "cell_type": "code",
   "execution_count": 32,
   "metadata": {},
   "outputs": [
    {
     "data": {
      "text/plain": [
       "['mi ',\n",
       " None,\n",
       " ' y tu ',\n",
       " None,\n",
       " ' juegan con los ',\n",
       " 'it',\n",
       " ' de los ',\n",
       " None,\n",
       " ' del vecino']"
      ]
     },
     "execution_count": 32,
     "metadata": {},
     "output_type": "execute_result"
    }
   ],
   "source": [
    "texto = \"mi gato y tu gata juegan con los gatitos de los gatos del vecino\"\n",
    "patron = r\"gat(it)?[oa]s?\"\n",
    "re.split(patron, texto)"
   ]
  },
  {
   "cell_type": "markdown",
   "metadata": {},
   "source": [
    "En este último ejemplo vemos que se utiliza como delimitador para dividir el texto inicial cualquier texto que satisfaga nuestro patrón de búsqueda: \"gato\", \"gata\", \"gatos\", etc."
   ]
  },
  {
   "cell_type": "markdown",
   "metadata": {},
   "source": [
    "### re.sub()"
   ]
  },
  {
   "cell_type": "markdown",
   "metadata": {},
   "source": [
    "La función **re.sub()** reemplaza las coincidencias encontradas de un patrón dentro de una cadena por un nuevo substring:"
   ]
  },
  {
   "cell_type": "code",
   "execution_count": 33,
   "metadata": {},
   "outputs": [
    {
     "data": {
      "text/plain": [
       "'Python for DAtA Science'"
      ]
     },
     "execution_count": 33,
     "metadata": {},
     "output_type": "execute_result"
    }
   ],
   "source": [
    "texto = \"Python for Data Science\"\n",
    "patron = r\"a\"\n",
    "reemplazo = r\"A\"\n",
    "re.sub(patron, reemplazo, texto)"
   ]
  },
  {
   "cell_type": "code",
   "execution_count": 34,
   "metadata": {},
   "outputs": [
    {
     "data": {
      "text/plain": [
       "'mi perro y tu perra juegan con los perritos de los perros del vecino'"
      ]
     },
     "execution_count": 34,
     "metadata": {},
     "output_type": "execute_result"
    }
   ],
   "source": [
    "texto = \"mi gato y tu gata juegan con los gatitos de los gatos del vecino\"\n",
    "patron = r\"gat\"\n",
    "reemplazo = \"perr\"\n",
    "re.sub(patron, reemplazo, texto)"
   ]
  },
  {
   "cell_type": "markdown",
   "metadata": {},
   "source": [
    "### re.fullmatch()"
   ]
  },
  {
   "cell_type": "markdown",
   "metadata": {},
   "source": [
    "la función **re.fullmatch()** devuelve un objeto de tipo *Match* si el texto coincide en su totalidad con el patrón de búsqueda, o *None* en caso contrario."
   ]
  },
  {
   "cell_type": "markdown",
   "metadata": {},
   "source": [
    "Por ejemplo, dado un número de teléfono ¿está formado solo por números o espacios en blanco?:"
   ]
  },
  {
   "cell_type": "code",
   "execution_count": 35,
   "metadata": {},
   "outputs": [
    {
     "data": {
      "text/plain": [
       "<re.Match object; span=(0, 14), match='91 789 456 123'>"
      ]
     },
     "execution_count": 35,
     "metadata": {},
     "output_type": "execute_result"
    }
   ],
   "source": [
    "texto = \"91 789 456 123\"\n",
    "patron = r\"[0-9 ]+\"    # Números o espacio en blanco, una o más veces\n",
    "re.fullmatch(patron, texto)"
   ]
  },
  {
   "cell_type": "markdown",
   "metadata": {},
   "source": [
    "Comprobamos que sí, el texto completo cumple el patrón de búsqueda. Otro ejemplo:"
   ]
  },
  {
   "cell_type": "code",
   "execution_count": 36,
   "metadata": {},
   "outputs": [],
   "source": [
    "texto = \"+91 789 456 123\"\n",
    "patron = r\"[0-9 ]+\"    # Números o espacio en blanco, una o más veces\n",
    "re.fullmatch(patron, texto)"
   ]
  },
  {
   "cell_type": "markdown",
   "metadata": {},
   "source": [
    "En este caso no lo cumple (el texto incluye un carácter \"+\"), por lo que la función devuelve *None*."
   ]
  },
  {
   "cell_type": "markdown",
   "metadata": {},
   "source": [
    "### re.compile()"
   ]
  },
  {
   "cell_type": "markdown",
   "metadata": {},
   "source": [
    "Para mejorar la eficiencia cuando se necesita utilizar un mismo patrón varias veces, se puede compilar el patrón en un objeto **Regex**, utilizando la función **re.compile()**:"
   ]
  },
  {
   "cell_type": "code",
   "execution_count": 37,
   "metadata": {},
   "outputs": [],
   "source": [
    "patron = re.compile(r\"gat(it)?[oa]s?\")"
   ]
  },
  {
   "cell_type": "markdown",
   "metadata": {},
   "source": [
    "Veamos, por curiosidad, el tipo del objeto devuelto:"
   ]
  },
  {
   "cell_type": "code",
   "execution_count": 38,
   "metadata": {},
   "outputs": [
    {
     "data": {
      "text/plain": [
       "re.Pattern"
      ]
     },
     "execution_count": 38,
     "metadata": {},
     "output_type": "execute_result"
    }
   ],
   "source": [
    "type(patron)"
   ]
  },
  {
   "cell_type": "markdown",
   "metadata": {},
   "source": [
    "Ahora podríamos reutilizar este patrón mejorando la eficiencia de las búsquedas (lo que no será demasiado perceptible salvo que se trate de un elevado número de ellas, o patrones muy complejos en textos muy largos, etc.):"
   ]
  },
  {
   "cell_type": "code",
   "execution_count": 39,
   "metadata": {},
   "outputs": [
    {
     "data": {
      "text/plain": [
       "<callable_iterator at 0x151fccd06d0>"
      ]
     },
     "execution_count": 39,
     "metadata": {},
     "output_type": "execute_result"
    }
   ],
   "source": [
    "texto = \"mi gato y tu gata juegan con los gatitos de los gatos del vecino\"\n",
    "re.finditer(patron, texto)"
   ]
  },
  {
   "cell_type": "markdown",
   "metadata": {},
   "source": [
    "<div style = \"float:right\"><a style=\"text-decoration:none\" href = \"#inicio\">Inicio</a></div>"
   ]
  },
  {
   "cell_type": "markdown",
   "metadata": {},
   "source": [
    "# Grupos"
   ]
  },
  {
   "cell_type": "markdown",
   "metadata": {},
   "source": [
    "Los *grupos* usados en expresiones regulares permiten extraer partes de una cadena que coinciden con subpatrones específicos. Por ejemplo, supongamos que queremos identificar si un texto contiene una dirección de email o no. Una dirección de email puede tener una expresión relativamente compleja, pero planteemos un escenario sencillo en el que las direcciones de email son siempre de la forma\n",
    "\n",
    "nombre@dominio.dominio-de-nivel-superior\n",
    "\n",
    "Y supongamos que tanto *nombre* como *dominio* y *dominio-de-nivel-superior* solo puede estar compuesto por letras del abecedario en minúsculas, no por caracteres de subrayado, o guiones, o números, etc.\n",
    "\n",
    "En este escenario, un patrón para identificar si un texto contiene o no una dirección de email podría ser el siguiente:"
   ]
  },
  {
   "cell_type": "code",
   "execution_count": 40,
   "metadata": {},
   "outputs": [],
   "source": [
    "patron = r\"[a-z]+@[a-z]+\\.[a-z]+\""
   ]
  },
  {
   "cell_type": "markdown",
   "metadata": {},
   "source": [
    "Es decir, buscamos:\n",
    "* [a-z]+: combinaciones de una o más letras entre la \"a\" y la \"z\" (el nombre de usuario)\n",
    "* @: seguidas del carácter \"@\"\n",
    "* [a-z]+: seguido de una o más letras entre la \"a\" y la \"z\" (el dominio)\n",
    "* \\.: seguido de un punto, y para que este símbolo (el punto) se considere estrictamente como un punto y no como cualquier carácter (que es lo que, por defecto, representa un punto en una expresión regular), es necesario \"escaparlo\" añadiendo un símbolo \"\\\\\" precediéndolo\n",
    "* [a-z]+: seguido de una o más letras entre la \"a\" y la \"z\" (el dominio de nivel superior)"
   ]
  },
  {
   "cell_type": "markdown",
   "metadata": {},
   "source": [
    "Este patrón de búsqueda es muy sencillo (como se ha comentado, una dirección de email puede ser mucho más compleja), pero nos sirve para este ejemplo."
   ]
  },
  {
   "cell_type": "markdown",
   "metadata": {},
   "source": [
    "Probemos el patrón:"
   ]
  },
  {
   "cell_type": "code",
   "execution_count": 41,
   "metadata": {},
   "outputs": [
    {
     "data": {
      "text/plain": [
       "<re.Match object; span=(0, 27), match='daniel@interactivechaos.com'>"
      ]
     },
     "execution_count": 41,
     "metadata": {},
     "output_type": "execute_result"
    }
   ],
   "source": [
    "email = \"daniel@interactivechaos.com\"\n",
    "re.fullmatch(patron, email)"
   ]
  },
  {
   "cell_type": "markdown",
   "metadata": {},
   "source": [
    "La dirección de email satisface nuestro patrón de búsqueda. Veamos otro ejemplo:"
   ]
  },
  {
   "cell_type": "code",
   "execution_count": 42,
   "metadata": {},
   "outputs": [],
   "source": [
    "email = \"daniel@interactivechaoscom\"\n",
    "re.fullmatch(patron, email)"
   ]
  },
  {
   "cell_type": "markdown",
   "metadata": {},
   "source": [
    "En este caso, no la cumple (no incluye un punto entre el dominio y el dominio de nivel superior).\n",
    "\n",
    "Lo importante aquí es que estamos comprobando si el texto cumple el patrón, pero sin identificar subbloques en la cadena de texto que satisfagan o no partes del patrón de búsqueda (los llamados **grupos**). Estos grupos se crean encerrando partes del patrón de búsqueda entre paréntesis. Veamos un ejemplo. Si utilizamos el siguiente patrón de búsqueda:"
   ]
  },
  {
   "cell_type": "code",
   "execution_count": 43,
   "metadata": {},
   "outputs": [],
   "source": [
    "patron = r\"([a-z]+)@([a-z]+)\\.([a-z]+)\""
   ]
  },
  {
   "cell_type": "markdown",
   "metadata": {},
   "source": [
    "estamos identificado tres grupos:\n",
    "* ([a-z]+): el nombre de usuario\n",
    "* ([a-z]+): el dominio, y\n",
    "* ([a-z]+): el dominio de nivel superior"
   ]
  },
  {
   "cell_type": "markdown",
   "metadata": {},
   "source": [
    "Ahora, si un texto satisface nuestro patrón (si se encuentra una coincidencia), es posible extraer los contenidos de los grupos:"
   ]
  },
  {
   "cell_type": "code",
   "execution_count": 44,
   "metadata": {},
   "outputs": [
    {
     "name": "stdout",
     "output_type": "stream",
     "text": [
      "el texto cumple el patrón de búsqueda\n"
     ]
    }
   ],
   "source": [
    "email = \"daniel@interactivechaos.com\"\n",
    "resultado = re.fullmatch(patron, email)   # Realizamos la búsqueda\n",
    "if resultado:\n",
    "    print(\"el texto cumple el patrón de búsqueda\")"
   ]
  },
  {
   "cell_type": "markdown",
   "metadata": {},
   "source": [
    "Si lo cumple -como es el caso-, podemos hacer uso de los métodos **.groups()** y **.group()** del resultado obtenido para extraer la parte del email que corresponde a cada grupo. Por ejemplo, *.groups()* devuelve el texto del email original que satisface cada uno de los patrones de búsqueda correspondientes a cada grupo:"
   ]
  },
  {
   "cell_type": "code",
   "execution_count": 45,
   "metadata": {},
   "outputs": [
    {
     "data": {
      "text/plain": [
       "('daniel', 'interactivechaos', 'com')"
      ]
     },
     "execution_count": 45,
     "metadata": {},
     "output_type": "execute_result"
    }
   ],
   "source": [
    "resultado.groups()"
   ]
  },
  {
   "cell_type": "markdown",
   "metadata": {},
   "source": [
    "Es decir:\n",
    "* el texto \"daniel\" satisface el patrón de búsqueda contenido en el primer grupo: [a-z]+\n",
    "* el texto \"interactivechaos\" satisface el segundo, etc."
   ]
  },
  {
   "cell_type": "markdown",
   "metadata": {},
   "source": [
    "El método *.group()*, usado sin argumentos, devuelve la parte del texto (del email en nuestro caso), que satisface el patrón (en este caso, todo el texto):"
   ]
  },
  {
   "cell_type": "code",
   "execution_count": 46,
   "metadata": {},
   "outputs": [
    {
     "data": {
      "text/plain": [
       "'daniel@interactivechaos.com'"
      ]
     },
     "execution_count": 46,
     "metadata": {},
     "output_type": "execute_result"
    }
   ],
   "source": [
    "resultado.group()"
   ]
  },
  {
   "cell_type": "markdown",
   "metadata": {},
   "source": [
    "Pero si pasamos un índice a este método (1, 2 o 3 en nuestro caso, pues tenemos tres grupos), extraemos la parte del texto que satisface el grupo correspondiente:"
   ]
  },
  {
   "cell_type": "code",
   "execution_count": 47,
   "metadata": {},
   "outputs": [
    {
     "data": {
      "text/plain": [
       "'daniel'"
      ]
     },
     "execution_count": 47,
     "metadata": {},
     "output_type": "execute_result"
    }
   ],
   "source": [
    "nombre = resultado.group(1)\n",
    "nombre"
   ]
  },
  {
   "cell_type": "code",
   "execution_count": 48,
   "metadata": {},
   "outputs": [
    {
     "data": {
      "text/plain": [
       "'interactivechaos'"
      ]
     },
     "execution_count": 48,
     "metadata": {},
     "output_type": "execute_result"
    }
   ],
   "source": [
    "dominio = resultado.group(2)\n",
    "dominio"
   ]
  },
  {
   "cell_type": "code",
   "execution_count": 49,
   "metadata": {},
   "outputs": [
    {
     "data": {
      "text/plain": [
       "'com'"
      ]
     },
     "execution_count": 49,
     "metadata": {},
     "output_type": "execute_result"
    }
   ],
   "source": [
    "dominio_nivel_superior = resultado.group(3)\n",
    "dominio_nivel_superior"
   ]
  },
  {
   "cell_type": "markdown",
   "metadata": {},
   "source": [
    "De hecho, también podemos pasar a este método el índice 0, lo que es equivalente a no pasar ningún argumento:"
   ]
  },
  {
   "cell_type": "code",
   "execution_count": 50,
   "metadata": {},
   "outputs": [
    {
     "data": {
      "text/plain": [
       "'daniel@interactivechaos.com'"
      ]
     },
     "execution_count": 50,
     "metadata": {},
     "output_type": "execute_result"
    }
   ],
   "source": [
    "resultado.group(0)"
   ]
  },
  {
   "cell_type": "markdown",
   "metadata": {},
   "source": [
    "Podemos decir, por lo tanto, que un grupo \"captura\" la parte del texto original que satisfacen la parte del patrón de búsqueda que le corresponde (encerrada entre paréntesis)."
   ]
  },
  {
   "cell_type": "markdown",
   "metadata": {},
   "source": [
    "Por cierto, una forma algo mejorada de patrón de búsqueda para el tipo de email que estamos usando sería:"
   ]
  },
  {
   "cell_type": "code",
   "execution_count": 51,
   "metadata": {},
   "outputs": [],
   "source": [
    "patron = \"\\w+@\\w+.\\w+\""
   ]
  },
  {
   "cell_type": "markdown",
   "metadata": {},
   "source": [
    "Aquí hacemos uso de la combinación de caracteres **\\w** que representa cualquier carácter alfanumérico."
   ]
  },
  {
   "cell_type": "markdown",
   "metadata": {},
   "source": [
    "<div style = \"float:right\"><a style=\"text-decoration:none\" href = \"#inicio\">Inicio</a></div>"
   ]
  },
  {
   "cell_type": "markdown",
   "metadata": {},
   "source": [
    "# Renombrado de grupos"
   ]
  },
  {
   "cell_type": "markdown",
   "metadata": {},
   "source": [
    "De hecho, es incluso posible dar nombre a los grupos para referirnos posteriormente a ellos por su nombre. Para dar nombre a un grupo, hay que incluir tras el paréntesis de apertura una interrogación, una \"P\" y, entre los símbolos \"<\" y \">\", su nombre:"
   ]
  },
  {
   "cell_type": "code",
   "execution_count": 52,
   "metadata": {},
   "outputs": [],
   "source": [
    "email = \"daniel@interactivechaos.com\""
   ]
  },
  {
   "cell_type": "code",
   "execution_count": 53,
   "metadata": {},
   "outputs": [],
   "source": [
    "patron = r\"(?P<nombre>[a-z]+)@(?P<dominio>[a-z]+)\\.(?P<superior>[a-z]+)\""
   ]
  },
  {
   "cell_type": "code",
   "execution_count": 54,
   "metadata": {},
   "outputs": [
    {
     "name": "stdout",
     "output_type": "stream",
     "text": [
      "daniel\n",
      "interactivechaos\n",
      "com\n"
     ]
    }
   ],
   "source": [
    "resultado = re.fullmatch(patron, email)   # Realizamos la búsqueda\n",
    "if resultado:\n",
    "    print(resultado.group(\"nombre\"))\n",
    "    print(resultado.group(\"dominio\"))\n",
    "    print(resultado.group(\"superior\"))"
   ]
  },
  {
   "cell_type": "markdown",
   "metadata": {},
   "source": [
    "<div style = \"float:right\"><a style=\"text-decoration:none\" href = \"#inicio\">Inicio</a></div>"
   ]
  },
  {
   "cell_type": "markdown",
   "metadata": {},
   "source": [
    "# Grupos y captura"
   ]
  },
  {
   "cell_type": "markdown",
   "metadata": {},
   "source": [
    "¿Recuerdas cuando usamos el siguiente texto y el siguiente patrón de búsqueda?:"
   ]
  },
  {
   "cell_type": "code",
   "execution_count": 55,
   "metadata": {},
   "outputs": [],
   "source": [
    "texto = \"mi gato y tu gata juegan con los gatitos de los gatos del vecino\"\n",
    "patron = r\"gat(it)?[oa]s?\""
   ]
  },
  {
   "cell_type": "markdown",
   "metadata": {},
   "source": [
    "Nuestra intención era que el bloque \"it\" fuese opcional, para lo que recurrimos a \"agruparlo\" usando paréntesis y a indicar con la interrogación posterior que dicho grupo podía aparecer una vez o no aparecer -ser opcional-. Si mostrábamos todos los textos que satisfacían el patrón:"
   ]
  },
  {
   "cell_type": "code",
   "execution_count": 56,
   "metadata": {},
   "outputs": [
    {
     "data": {
      "text/plain": [
       "['', '', 'it', '']"
      ]
     },
     "execution_count": 56,
     "metadata": {},
     "output_type": "execute_result"
    }
   ],
   "source": [
    "re.findall(patron, texto)"
   ]
  },
  {
   "cell_type": "markdown",
   "metadata": {
    "jp-MarkdownHeadingCollapsed": true
   },
   "source": [
    "<div style = \"float:right\"><a style=\"text-decoration:none\" href = \"#inicio\">Inicio</a></div>"
   ]
  },
  {
   "cell_type": "markdown",
   "metadata": {},
   "source": [
    "Comprobábamos que no se devuelven los textos de nuestra frase original que satisfacen el patrón de búsqueda. Esto se debe a la forma en la que la función *re.findall()* gestiona los grupos, y es que devuelve no las coincidencias completas del patrón, sino las coincidencias de los grupos. Concretamente, en nuestra frase hay cuatro textos que satisfacen el patrón de búsqueda: \"*gato*\", \"*gata*\", \"*gatitos*\" y \"*gatos*\". Como existe un grupo (encerrado entre paréntesis), la función *re.findall()* devuelve, para cada uno de esos cuatro textos, las coincidencias con el patrón de búsqueda:\n",
    "* \"*gato*\" no satisface el patrón del grupo, así que se devuelve un texto vacío (\"\")\n",
    "* \"*gata*\" tampoco, así que se devuelve otro texto vacío\n",
    "* \"*gatitos*\" sí cumple el patrón del grupo, de forma que se devuelve la parte de este texto que satisface el patrón del grupo: \"it\"\n",
    "* y, por último, \"*gatos*\" tampoco satisface el patrón del grupo, de forma que se devuelve un texto vacío"
   ]
  },
  {
   "cell_type": "markdown",
   "metadata": {},
   "source": [
    "La pregunta es ¿cómo podemos agrupar parte de una expresión regular usando paréntesis sin \"capturar\" esa sección de la cadena de texto como hace un grupo? Muy sencillo: incluyendo los caracteres \"?:\" dentro de los paréntesis, antes del texto que define el patrón. Es por esto que, en su momento, usamos el siguiente patrón:"
   ]
  },
  {
   "cell_type": "code",
   "execution_count": 57,
   "metadata": {},
   "outputs": [],
   "source": [
    "patron = \"gat(?:it)?[oa]s?\""
   ]
  },
  {
   "cell_type": "markdown",
   "metadata": {},
   "source": [
    "para encontrar todas las ocurrencias con *re.findall()*:"
   ]
  },
  {
   "cell_type": "code",
   "execution_count": 58,
   "metadata": {},
   "outputs": [
    {
     "data": {
      "text/plain": [
       "['gato', 'gata', 'gatitos', 'gatos']"
      ]
     },
     "execution_count": 58,
     "metadata": {},
     "output_type": "execute_result"
    }
   ],
   "source": [
    "re.findall(patron, texto)"
   ]
  },
  {
   "cell_type": "markdown",
   "metadata": {},
   "source": [
    "<div style = \"float:right\"><a style=\"text-decoration:none\" href = \"#inicio\">Inicio</a></div>"
   ]
  },
  {
   "cell_type": "markdown",
   "metadata": {},
   "source": [
    "# Ejemplos"
   ]
  },
  {
   "cell_type": "markdown",
   "metadata": {},
   "source": [
    "Realicemos algunos ejemplos adicionales. Supongamos que seguimos con el mismo texto:"
   ]
  },
  {
   "cell_type": "code",
   "execution_count": 59,
   "metadata": {},
   "outputs": [],
   "source": [
    "texto = \"mi gato y tu gata juegan con los gatitos de los gatos del vecino\""
   ]
  },
  {
   "cell_type": "markdown",
   "metadata": {},
   "source": [
    "Podríamos extraer todas las palabras de tres letras con el siguiente patrón:"
   ]
  },
  {
   "cell_type": "code",
   "execution_count": 60,
   "metadata": {},
   "outputs": [
    {
     "data": {
      "text/plain": [
       "['con', 'los', 'los', 'del']"
      ]
     },
     "execution_count": 60,
     "metadata": {},
     "output_type": "execute_result"
    }
   ],
   "source": [
    "patron = r\"\\b\\w{3}\\b\"\n",
    "re.findall(patron, texto)"
   ]
  },
  {
   "cell_type": "markdown",
   "metadata": {},
   "source": [
    "###### Fechas"
   ]
  },
  {
   "cell_type": "markdown",
   "metadata": {},
   "source": [
    "Ahora supongamos que tenemos las siguientes fechas (todas ellas en un mismo string, separadas por saltos de línea):"
   ]
  },
  {
   "cell_type": "code",
   "execution_count": 61,
   "metadata": {},
   "outputs": [],
   "source": [
    "dates = \"\"\"\n",
    "2023-05-31\n",
    "05-31-2023\n",
    "31/05/2023\n",
    "3110522023\n",
    "\"\"\""
   ]
  },
  {
   "cell_type": "markdown",
   "metadata": {},
   "source": [
    "Podríamos buscar aquellas fechas que tuviesen el año al final con el siguiente patrón:"
   ]
  },
  {
   "cell_type": "code",
   "execution_count": 62,
   "metadata": {},
   "outputs": [
    {
     "data": {
      "text/plain": [
       "['05-31-2023', '31/05/2023', '3110522023']"
      ]
     },
     "execution_count": 62,
     "metadata": {},
     "output_type": "execute_result"
    }
   ],
   "source": [
    "pattern = r\"\\d\\d.\\d\\d.\\d\\d\\d\\d\"\n",
    "re.findall(pattern, dates)"
   ]
  },
  {
   "cell_type": "markdown",
   "metadata": {},
   "source": [
    "o:"
   ]
  },
  {
   "cell_type": "code",
   "execution_count": 63,
   "metadata": {},
   "outputs": [
    {
     "data": {
      "text/plain": [
       "['05-31-2023', '31/05/2023', '3110522023']"
      ]
     },
     "execution_count": 63,
     "metadata": {},
     "output_type": "execute_result"
    }
   ],
   "source": [
    "pattern = r\"\\d{2}.\\d{2}.\\d{4}\"\n",
    "re.findall(pattern, dates)"
   ]
  },
  {
   "cell_type": "markdown",
   "metadata": {},
   "source": [
    "Es decir, estamos buscando dos números seguidos de cualquier carácter, otros dos números, otro carácter cualquiera, y cuatro nùmeros más."
   ]
  },
  {
   "cell_type": "markdown",
   "metadata": {},
   "source": [
    "Comprobamos que el último texto (\"3110522023\") también cumple el patrón, pues hemos ignorado el separador. Si quisiéramos asegurarnos de que los separadores no son números, podríamos hacerlo así:"
   ]
  },
  {
   "cell_type": "code",
   "execution_count": 64,
   "metadata": {},
   "outputs": [
    {
     "data": {
      "text/plain": [
       "['05-31-2023', '31/05/2023']"
      ]
     },
     "execution_count": 64,
     "metadata": {},
     "output_type": "execute_result"
    }
   ],
   "source": [
    "pattern = r\"\\d{2}\\D\\d{2}\\D\\d{4}\"\n",
    "re.findall(pattern, dates)"
   ]
  },
  {
   "cell_type": "markdown",
   "metadata": {},
   "source": [
    "En esta ocasión hemos especificado que entre los tres bloques numéricos no puede existir un número."
   ]
  },
  {
   "cell_type": "markdown",
   "metadata": {},
   "source": [
    "###### Nombres"
   ]
  },
  {
   "cell_type": "markdown",
   "metadata": {},
   "source": [
    "En este ejemplo partimos de los siguientes nombres:"
   ]
  },
  {
   "cell_type": "code",
   "execution_count": 65,
   "metadata": {},
   "outputs": [],
   "source": [
    "names = \"\"\"\n",
    "Sr Bond\n",
    "Sra Martínez\n",
    "Sr. Gómez\n",
    "Sra. Fernández\n",
    "Srta. Leira\n",
    "Data Science\n",
    "\"\"\""
   ]
  },
  {
   "cell_type": "markdown",
   "metadata": {},
   "source": [
    "Y querríamos extraer los nombres correspondientes a hombres. Éstos contienen el prefijo \"Sr\", pero comprobamos que, tras él, puede o no existir un punto. El patrón podría ser:"
   ]
  },
  {
   "cell_type": "code",
   "execution_count": 66,
   "metadata": {},
   "outputs": [
    {
     "name": "stdout",
     "output_type": "stream",
     "text": [
      "Sr Bond\n",
      "Sr. Gómez\n"
     ]
    }
   ],
   "source": [
    "pattern = r\"Sr\\.?\\s.+\"\n",
    "matches = re.finditer(pattern, names)\n",
    "for match in matches:\n",
    "    print(match.group())"
   ]
  },
  {
   "cell_type": "markdown",
   "metadata": {},
   "source": [
    "En este ejemplo hemos usado el patrón \"Sr\\.\" para buscar el texto \"Sr\" seguido o no de un punto (que tenemos que escapar para que no se considere como una equivalencia a \"cualquier carácter\"), el patrón \"\\s\" para buscar un separador tras el texto anterior, y hemos capturado el resto del texto (hasta el salto de línea) con el patrón \".+\"."
   ]
  },
  {
   "cell_type": "markdown",
   "metadata": {},
   "source": [
    "Si quisiéramos extraer solo los nombres (y no el prefijo), podríamos crear un grupo que capture el nombre:"
   ]
  },
  {
   "cell_type": "code",
   "execution_count": 67,
   "metadata": {},
   "outputs": [
    {
     "name": "stdout",
     "output_type": "stream",
     "text": [
      "Bond\n",
      "Gómez\n"
     ]
    }
   ],
   "source": [
    "pattern = r\"Sr\\.?\\s(.+)\"\n",
    "matches = re.finditer(pattern, names)\n",
    "for match in matches:\n",
    "    print(match.group(1))"
   ]
  },
  {
   "cell_type": "markdown",
   "metadata": {},
   "source": [
    "¿Y si quisiésemos extraer las mujeres? Sería un poquito más complicado, pues pueden aparecer precedidas por \"Sra\" o por \"Srta\", con o sin un punto a continuación:"
   ]
  },
  {
   "cell_type": "code",
   "execution_count": 68,
   "metadata": {},
   "outputs": [
    {
     "name": "stdout",
     "output_type": "stream",
     "text": [
      "Martínez\n",
      "Fernández\n",
      "Leira\n"
     ]
    }
   ],
   "source": [
    "pattern = r\"((Sra|Srta)\\.?)\\s(.+)\"\n",
    "matches = re.finditer(pattern, names)\n",
    "for match in matches:\n",
    "    print(match.group(3))"
   ]
  },
  {
   "cell_type": "markdown",
   "metadata": {},
   "source": [
    "Aquí hemos creado dos grupos: el primero para el prefijo, y el segundo para el nombre (que es el que realmente nos interesa)."
   ]
  },
  {
   "cell_type": "markdown",
   "metadata": {},
   "source": [
    "¿Y si quisiéramos extraer todos los nombres tanto de hombres como de mujeres?. En este caso, el prefijo sería siempre \"Sr\", seguido de una \"t\" opcional y de una \"a\" opcional:"
   ]
  },
  {
   "cell_type": "code",
   "execution_count": 69,
   "metadata": {},
   "outputs": [
    {
     "name": "stdout",
     "output_type": "stream",
     "text": [
      "Bond\n",
      "Martínez\n",
      "Gómez\n",
      "Fernández\n",
      "Leira\n"
     ]
    }
   ],
   "source": [
    "pattern = r\"(Srt?a?\\.?)\\s(.+)\"\n",
    "matches = re.finditer(pattern, names)\n",
    "for match in matches:\n",
    "    print(match.group(2))"
   ]
  },
  {
   "cell_type": "markdown",
   "metadata": {},
   "source": [
    "<div style = \"float:right\"><a style=\"text-decoration:none\" href = \"#inicio\">Inicio</a></div>"
   ]
  }
 ],
 "metadata": {
  "kernelspec": {
   "display_name": "Python 3 (ipykernel)",
   "language": "python",
   "name": "python3"
  },
  "language_info": {
   "codemirror_mode": {
    "name": "ipython",
    "version": 3
   },
   "file_extension": ".py",
   "mimetype": "text/x-python",
   "name": "python",
   "nbconvert_exporter": "python",
   "pygments_lexer": "ipython3",
   "version": "3.11.7"
  }
 },
 "nbformat": 4,
 "nbformat_minor": 4
}
