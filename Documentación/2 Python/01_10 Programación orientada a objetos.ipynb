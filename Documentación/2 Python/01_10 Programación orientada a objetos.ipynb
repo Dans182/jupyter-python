{
 "cells": [
  {
   "attachments": {
    "653922a3-d42d-4e2f-929e-5c19ac3f94c5.png": {
     "image/png": "[encoded data removed]"
    }
   },
   "cell_type": "markdown",
   "metadata": {},
   "source": [
    "![Cabecera cuadernos Jupyter.png](attachment:653922a3-d42d-4e2f-929e-5c19ac3f94c5.png)\n",
    "<a name = \"inicio\"></a>"
   ]
  },
  {
   "cell_type": "markdown",
   "metadata": {},
   "source": [
    "<div style=\"font-size: 50px;text-align: center;height:70px;padding:10px;margin:10px 0 0 0;\">Programación orientada a objetos</div>"
   ]
  },
  {
   "cell_type": "markdown",
   "metadata": {},
   "source": [
    "Hay varios enfoque a la hora de plantearse el desarrollo de un programa (suele hablarse de \"*paradigmas de programación*\"), pero los dos más comunes son los que se denominan *programación estructurada* y *programación orientada a objetos* (*Object Oriented Programing* u *OOP*).\n",
    "\n",
    "En el paradigma de la programación estructurada encontramos un bloque de código principal en el que se hacen llamadas a subrutinas o funciones, estando todo el programa gestionado por tres tipos de estructuras básicas:\n",
    "\n",
    "* secuencias: bloques de código con diferentes instrucciones\n",
    "* selecciones, del tipo **if** y **switch**, que ejecutan una secuencia u otra en función de que se cumpla o no una condición\n",
    "* bucles, del tipo **for** y **while**\n",
    "\n",
    "En este paradigma, los datos fluyen por el programa al ser transferidos de unas funciones a otras, no estando asociados a ningún bloque de código en particular. Es por esto que suele decirse que en la programación estructurada los datos están separados del código.\n",
    "\n",
    "En el paradigma de la programación orientada a objetos, por el contrario, se trabaja con \"objetos\" que intercambian información entre sí, pero conservando cada uno un estado y unos datos que les son propios y que no son visibles desde otros objetos.\n",
    "\n",
    "Este enfoque tiene numerosos beneficios. Imagina, por ejemplo, que has desarrollado un programa en Python para la gestión del personal de una empresa en el que cada persona viene definida por un conjunto de variables como nombre, apellidos, fecha de nacimiento, sexo, departamento en el que trabaja... Cada una de estas variables tiene un tipo distinto (texto, fecha, número...) lo que exige escribir código personalizado para trabajar con cada una de ellas cuando queremos crear un nuevo trabajador, editarlo, eliminarlo, mostrar los nombres de los trabajadores de un departamento... Y esto es algo que tenemos que hacer a lo largo de todo el programa.\n",
    "\n",
    "Pero imagina que llega el responsable de desarrollo y te dice que dichos datos tienen que almacenarse ahora en una estructura tipo \"diccionario\". Habría que modificar todo el programa para adecuarlo a las nuevas exigencias. Sería casi como empezar de nuevo..."
   ]
  },
  {
   "cell_type": "markdown",
   "metadata": {},
   "source": [
    "<div style = \"float:right\"><a style=\"text-decoration:none\" href = \"#inicio\">Inicio</a></div>"
   ]
  },
  {
   "cell_type": "markdown",
   "metadata": {},
   "source": [
    "<a name = \"inicio\"></a>"
   ]
  },
  {
   "cell_type": "markdown",
   "metadata": {},
   "source": [
    "<div style=\"font-size: 40px;text-align: center;height:50px;padding:10px;margin:0 0 10px 0;\">Introducción a la OOP</div>"
   ]
  },
  {
   "cell_type": "markdown",
   "metadata": {},
   "source": [
    "* [Atributos y métodos](#Atributos-y-métodos)\n",
    "* [Clases e instancias](#Clases-e-instancias)\n",
    "* [Ventajas de la OOP](#Ventajas-de-la-OOP)\n",
    "* [Principios de la OOP](#Principios-de-la-OOP)\n",
    "* [¿Necesito la OOP?](#¿Necesito-la-OOP?)"
   ]
  },
  {
   "cell_type": "markdown",
   "metadata": {},
   "source": [
    "# Atributos y métodos\n",
    "<div style = \"float:right\"><a style=\"text-decoration:none\" href = \"#inicio\">Inicio</a></div>"
   ]
  },
  {
   "cell_type": "markdown",
   "metadata": {},
   "source": [
    "Siguiendo con el ejemplo comentado, en el paradigma de la programación orientada a objetos definiríamos un objeto al que podríamos llamar \"*persona*\", con una serie de características (nombre, edad, sexo...) y un conjunto de funciones propias como \"*modificar_departamento*\", o \"*asignar_plaza_de_garaje*\". Podríamos definir otro objeto para representar los departamentos (con información sobre su presupuesto, número de trabajadores...), otro objeto para la plaza de garaje (con información sobre la planta en la que se encuentra, su identificador, la persona a la que está asignada)... Cada uno de estos objetos tendría sus propias características (a las que llamamos **atributos**) y sus propias funciones (a las que llamamos **métodos**).\n",
    "\n",
    "Todo el programa se desarrollaría asumiendo que estos objetos existen y que tienen la \"interfaz\" descrita (esos atributos y esos métodos). Cómo estén desarrollados dichos métodos es irrelevante (mientras funcionen y lo hagan de una forma razonablemente eficiente). Lo que nos importa es que, por ejemplo, si Alicia Arjona es transferida desde el departamento de finanzas al de marketing, si ejecuto el método \"modificar_departamento\" del objeto \"persona\" que representa a Alicia incluyendo como argumento el código \"mkt\" del departamento de marketing al que va transferida, dicho objeto va a actualizarse con la nueva información y va a comunicarse automáticamente con los objetos de tipo \"departamento\" que representan a \"Finanzas\" y a \"Marketing\" para eliminarlo del primero y añadirlo al segundo. Y, de nuevo: cómo esté cada objeto programado internamente no nos importa: no importa si internamente unas variables se almacenan como diccionario o como lista, no importan los nombres con los que dichas variables estén representadas internamente, y no nos importa cómo cada uno de esos métodos esté programado. Lo que nos importa es cómo esté definida la interfaz del objeto y su funcionalidad.\n",
    "\n",
    "En estas condiciones, hacer un cambio como el descrito que afecte al tipo de estructura a usar para almacenar la información de una persona solo obliga a revisar el objeto que las representa, no todo el programa."
   ]
  },
  {
   "cell_type": "markdown",
   "metadata": {},
   "source": [
    "# Clases e instancias\n",
    "<div style = \"float:right\"><a style=\"text-decoration:none\" href = \"#inicio\">Inicio</a></div>"
   ]
  },
  {
   "cell_type": "markdown",
   "metadata": {},
   "source": [
    "Cuando queremos desarrollar un programa con esta metodología orientada a objetos, hay que comenzar por definir la estructura de los objetos. Y cada una de estas estructuras es a lo que llamamos **clase**. Y una vez que hemos definido una clase (la clase \"*persona*\", por ejemplo) ya podemos comenzar a crear objetos de esa clase (el objeto \"Alicia Arjona\" o el objeto \"David Martín\"). Esto es como si quisiéramos construir 100 casas iguales. No vamos a empezar todo desde cero con cada una de ellas: primero creamos un esquema que represente la casa que queremos replicar 100 veces (y este esquema sería la clase) y después creamos las 100 casas basadas en dicho esquema (y cada una de estas 100 casas sería el equivalente a un objeto). La clase no es más que la descripción \"teórica\" de los objetos, incluyendo información sobre sus atributos y métodos. Cuando queremos crear un objeto de una clase lo que hacemos es \"*instanciar*\" la clase (crear una **instancia** de dicha clase) -el verbo *instanciar* no existe en español, pero a veces resulta más cómodo que decir \"crear una instancia\"-.\n",
    "\n",
    "Una cosa importante es que tanto la clase como los objetos creados a partir de ella son \"entes\" con características propias: los objetos pueden tener atributos que se definen en la clase, pero la propia clase puede tener sus propios atributos. Veremos un ejemplo de esto más adelante."
   ]
  },
  {
   "cell_type": "markdown",
   "metadata": {},
   "source": [
    "# Ventajas de la OOP\n",
    "<div style = \"float:right\"><a style=\"text-decoration:none\" href = \"#inicio\">Inicio</a></div>"
   ]
  },
  {
   "cell_type": "markdown",
   "metadata": {},
   "source": [
    "Este enfoque tiene numerosas ventajas. Mencionemos algunas:\n",
    "\n",
    "* Resulta más sencillo de entender, pues la ejecución del programa se reduce a comprender la interfaz de los objetos y cómo éstos interactúan entre sí\n",
    "* Es posible crear clases a partir de otras clases ya existentes, lo que elimina el código redundante y minimiza la posibilidad de cometer errores. Por ejemplo, si estamos gestionando un parque zoológico, podemos tener una clase \"*animal*\" que represente a cualquier animal del zoo, con información sobre su edad, registro médico, etc., y crear las subclases \"*hipopótamo*\" o \"*cebra*\" a partir de la clase \"*animal*\" que hereden todas las características de esta última y que nos permitan añadir atributos o métodos específicos que tengan sentido solo para dichas especies (y no para todas).\n",
    "* Una vez creada una clase, podemos reutilizarla en otros programas sin necesidad de reescribir el código, con la ventaja que esto supone en los tiempos de desarrollo y en la fiabilidad de nuestros programas.\n",
    "* Los cambios en el código interior de una clase no afectan al programa entero.\n",
    "* El hecho de que el interior de un objeto no sea visible desde el exterior (más allá de sus atributos y métodos) nos permite crear código más seguro, sabiendo que una parte del código no va a modificar por error los datos utilizados en otra parte del código.\n",
    "* El estar dividiendo el problema en partes más pequeñas nos permite probarlas de forma independiente, lo que redunda en una mayor fiabilidad del software."
   ]
  },
  {
   "cell_type": "markdown",
   "metadata": {},
   "source": [
    "# Principios de la OOP\n",
    "<div style = \"float:right\"><a style=\"text-decoration:none\" href = \"#inicio\">Inicio</a></div>"
   ]
  },
  {
   "cell_type": "markdown",
   "metadata": {},
   "source": [
    "La programación orientada a objetos se basa en un conjunto de principios de entre los que podemos destacar los siguientes:\n",
    "\n",
    "* **Abstracción**: Solo es relevante la funcionalidad de un objeto, no cómo está desarrollado.\n",
    "* **Encapsulamiento**: El estado de un objeto está oculto a cualquier otro objeto, de forma que la única forma de interactuar con él es a través de los métodos y atributos que tiene definidos.\n",
    "* **Herencia**: Es posible crear una clase de objetos a partir de otra clase existente, heredando todas sus características y permitiendo añadir otras nuevas.\n",
    "* **Poliformismo**: Podemos enviar mensajes sintacticamente iguales a objetos distintos. Por ejemplo, en Python, tanto las listas como los números pueden ser sumados, siendo el resultado diferente en cada caso."
   ]
  },
  {
   "cell_type": "markdown",
   "metadata": {},
   "source": [
    "# ¿Necesito la OOP?\n",
    "<div style = \"float:right\"><a style=\"text-decoration:none\" href = \"#inicio\">Inicio</a></div>"
   ]
  },
  {
   "cell_type": "markdown",
   "metadata": {},
   "source": [
    "Ésta es una pregunta legítima que puedes estar haciéndote: ¿es necesario programar bajo el paraguas de este paradigma? La respuesta corta es sí, es imprescindible. Bien es cierto que si ignoramos la funcionalidad que ofrece la OOP en Python, todavía podríamos escribir código, pero con muchísimas limitaciones. Por ejemplo, hemos visto que podemos crear listas de valores con la siguiente estructura:"
   ]
  },
  {
   "cell_type": "code",
   "execution_count": 1,
   "metadata": {},
   "outputs": [],
   "source": [
    "a = [2, 4, 6]"
   ]
  },
  {
   "cell_type": "markdown",
   "metadata": {},
   "source": [
    "Ahora bien, si quisiéramos añadir un valor a esta lista, la única forma sería usando un *método* de la clase *list*: el método *append*:"
   ]
  },
  {
   "cell_type": "code",
   "execution_count": 2,
   "metadata": {},
   "outputs": [
    {
     "data": {
      "text/plain": [
       "[2, 4, 6, 8]"
      ]
     },
     "execution_count": 2,
     "metadata": {},
     "output_type": "execute_result"
    }
   ],
   "source": [
    "a.append(8)\n",
    "a"
   ]
  },
  {
   "cell_type": "markdown",
   "metadata": {},
   "source": [
    "Y no sería posible replicar esta funcionalidad (u otras) sin hacer uso de los métodos y atributos asociados a las clases de objetos que estemos utilizando en nuestro código."
   ]
  },
  {
   "cell_type": "markdown",
   "metadata": {},
   "source": [
    "Otra pregunta distinta es si necesitamos crear nuestras propias clases. En este caso la respuesta sería que no, no es algo siempre imprescindible, pues casi todo lo que se pueden conseguir creando clases puede también conseguirse usando clases ya existentes, funciones y otras estructuras de Python. Simplemente, si no somos capaces de crear nuestras propias clases, estamos dejando de aprovechar las ventajas ya comentadas que este estilo de programación ofrece."
   ]
  },
  {
   "cell_type": "markdown",
   "metadata": {},
   "source": [
    "<div style = \"float:right\"><a style=\"text-decoration:none\" href = \"#inicio\">Inicio</a></div>"
   ]
  },
  {
   "cell_type": "markdown",
   "metadata": {},
   "source": [
    "<a name = \"inicio\"></a>"
   ]
  },
  {
   "cell_type": "markdown",
   "metadata": {},
   "source": [
    "<div style=\"font-size: 40px;text-align: center;height:50px;padding:10px;margin:0 0 10px 0;\">Creación de clases</div>"
   ]
  },
  {
   "cell_type": "markdown",
   "metadata": {},
   "source": [
    "La creación de una clase es tan simple como crear una función, con la diferencia de que, en este caso, en lugar de la sentencia **def** debemos usar la sentencia **class**, y no se añaden paréntesis:"
   ]
  },
  {
   "cell_type": "code",
   "execution_count": 3,
   "metadata": {},
   "outputs": [],
   "source": [
    "class MiClase:\n",
    "    pass"
   ]
  },
  {
   "cell_type": "markdown",
   "metadata": {},
   "source": [
    "En este ejemplo hemos creado una clase a la que hemos llamado *MiClase*... que no hace nada. Podríamos crear un objeto de esta clase de la siguiente forma:"
   ]
  },
  {
   "cell_type": "code",
   "execution_count": 4,
   "metadata": {},
   "outputs": [],
   "source": [
    "c = MiClase()"
   ]
  },
  {
   "cell_type": "markdown",
   "metadata": {},
   "source": [
    "Fíjate en que el nombre de la clase va seguido de paréntesis aunque no se pasen argumentos a la clase. Otra convención habitual en Python es comenzar el nombre de las clases con una letra mayúscula.\n",
    "\n",
    "Podemos comprobar el \"tipo\" de la variable *c* con la función *type* ya conocida:"
   ]
  },
  {
   "cell_type": "code",
   "execution_count": 5,
   "metadata": {},
   "outputs": [
    {
     "data": {
      "text/plain": [
       "__main__.MiClase"
      ]
     },
     "execution_count": 5,
     "metadata": {},
     "output_type": "execute_result"
    }
   ],
   "source": [
    "type(c)"
   ]
  },
  {
   "cell_type": "markdown",
   "metadata": {},
   "source": [
    "<div style = \"float:right\"><a style=\"text-decoration:none\" href = \"#inicio\">Inicio</a></div>"
   ]
  },
  {
   "cell_type": "markdown",
   "metadata": {},
   "source": [
    "<a name = \"inicio\"></a>"
   ]
  },
  {
   "cell_type": "markdown",
   "metadata": {},
   "source": [
    "<div style=\"font-size: 40px;text-align: center;height:50px;padding:10px;margin:0 0 10px 0;\">Atributos del objeto</div>"
   ]
  },
  {
   "cell_type": "markdown",
   "metadata": {},
   "source": [
    "Ya hemos comentado que las clases definen los atributos y métodos de los objetos que se creen a partir de ella. Veamos un ejemplo sencillo en el que vamos a crear una clase que incluye un simple atributo (es decir, cuando creemos un objeto de esta clase, tendrá un único valor asociado):"
   ]
  },
  {
   "cell_type": "code",
   "execution_count": 6,
   "metadata": {},
   "outputs": [],
   "source": [
    "class MiClase:\n",
    "    \n",
    "    def __init__(self, numero):\n",
    "        self.valor = numero"
   ]
  },
  {
   "cell_type": "markdown",
   "metadata": {},
   "source": [
    "Si no has trabajado antes con programación orientada a objetos, el código anterior puede sonar un tanto críptico, pero es más sencillo de lo que parece. Vamos punto por punto:\n",
    "\n",
    "* En primer lugar hemos escrito la sentencia **class** seguido del nombre de la clase y los dos puntos, como ya sabíamos.\n",
    "* Debajo, y con la sangría habitual en estos casos (cuatro espacios en blanco o un tabulador), se definen los métodos de nuestra clase. En este caso solo hay uno: **\\_\\_init__**\n",
    "* ¿Por qué el único método que hay tiene un nombre tan sofisticado? ¿Y para qué sirve? La respuesta compleja es que \"*incluye dos guiones bajos al principio y al final porque se trata de lo que se denomina un método de sobrecarga, y sirve para inicializar el objeto cuando se crea*\", pero de esta respuesta compleja solo nos sirve aquí la última parte: \"el método \\_\\_init__ sirve para inicializar el objeto cuando se crea\", lo que suena mucho más útil. Es decir, cuando \"instanciamos\" un objeto de la clase *MiClase*, se ejecuta el método \\_\\_init__. Este método suele llamarse **constructor** de la clase (aunque, si somos estrictos, este método se ejecuta para inicializar el objeto una vez se ha construido. En todo caso podemos llamarlo \"*constructor*\" para abreviar...).\n",
    "* ¿Y por qué tiene este método dos parámetros? El segundo parámetro (\"*numero*\") parece ser el número que queremos asociar al objeto, pero ¿y \"*self*\"? La respuesta sencilla aquí es que todos los métodos de una clase deberán tener como primer parámetro \"*self*\", parámetro que hace referencia al objeto al que van asociados. En realidad no necesitamos usar el identificador \"*self*\", podríamos usar otro nombre. Pero el uso de \"*self*\" es una convención entre la comunidad Python.\n",
    "* Dentro del constructor ejecutamos \"self.valor = numero\". Aquí estamos creando un atributo del objeto llamado \"*valor*\" al que también se accede usando el prefijo *self* (para indicar que se trata de un atributo del objeto que se está creando), y le estamos asignando el número que hemos recibido como segundo parámetro.\n",
    "* Una vez se ha instanciado el objeto -es decir, una vez que se haya ejecutado el constructor-, el objeto resultante tendrá asociado un atributo llamado \"*valor*\" que contendrá el número que hayamos pasado como argumento al crear el objeto.\n",
    "* Una cosa importante: si el constructor tiene un parámetro (además de self) es porque para crear el objeto tenemos que incluir tras el nombre de la clase y entre paréntesis un argumento. Por ejemplo:"
   ]
  },
  {
   "cell_type": "code",
   "execution_count": 7,
   "metadata": {},
   "outputs": [],
   "source": [
    "c = MiClase(4)"
   ]
  },
  {
   "cell_type": "markdown",
   "metadata": {},
   "source": [
    "En esta instrucción hemos instanciado la clase *MiClase* pasando como argumento el número 4. Este argumento es el que le llega al constructor de la clase que, como ya sabemos, va a asociar al objeto. Para acceder al atributo \"*valor*\" basta con escribir el nombre del objeto seguido de un punto y del nombre del atributo:"
   ]
  },
  {
   "cell_type": "code",
   "execution_count": 8,
   "metadata": {},
   "outputs": [
    {
     "data": {
      "text/plain": [
       "4"
      ]
     },
     "execution_count": 8,
     "metadata": {},
     "output_type": "execute_result"
    }
   ],
   "source": [
    "c.valor"
   ]
  },
  {
   "cell_type": "markdown",
   "metadata": {},
   "source": [
    "Si el método \\_\\_init__ tuviese dos parámetros (además de self) sería porque tenemos que incluir dos argumentos al instanciar el objeto. Para verlo, supongamos que el valor que queda asociado al objeto es la suma de los dos números que pasemos al constructor:"
   ]
  },
  {
   "cell_type": "code",
   "execution_count": 9,
   "metadata": {},
   "outputs": [],
   "source": [
    "class MiClase:\n",
    "    \n",
    "    def __init__(self, numero1, numero2):\n",
    "        self.valor = numero1 + numero2"
   ]
  },
  {
   "cell_type": "markdown",
   "metadata": {},
   "source": [
    "Ahora instanciamos la clase:"
   ]
  },
  {
   "cell_type": "code",
   "execution_count": 10,
   "metadata": {},
   "outputs": [],
   "source": [
    "c = MiClase(3, 5)"
   ]
  },
  {
   "cell_type": "markdown",
   "metadata": {},
   "source": [
    "y mostramos el contenido del atributo *valor*:"
   ]
  },
  {
   "cell_type": "code",
   "execution_count": 11,
   "metadata": {},
   "outputs": [
    {
     "data": {
      "text/plain": [
       "8"
      ]
     },
     "execution_count": 11,
     "metadata": {},
     "output_type": "execute_result"
    }
   ],
   "source": [
    "c.valor"
   ]
  },
  {
   "cell_type": "markdown",
   "metadata": {},
   "source": [
    "En el constructor podemos inicializar los atributos que necesitemos. En el siguiente ejemplo se inicializan dos de ellos (\"nombre\" y \"sexo\") a partir de los datos pasados como argumentos, y un tercero (\"parking\") con el valor *None*, indicando que todavía no se ha asociado a dicha persona una plaza de parking (se supone que podrá ser actualizado más tarde):"
   ]
  },
  {
   "cell_type": "code",
   "execution_count": 12,
   "metadata": {},
   "outputs": [],
   "source": [
    "class Trabajador:\n",
    "    \n",
    "    def __init__(self, nombre, sexo):\n",
    "        self.nombre = nombre\n",
    "        self.sexo = sexo\n",
    "        self.parking = None"
   ]
  },
  {
   "cell_type": "markdown",
   "metadata": {},
   "source": [
    "Instanciamos dos objetos a partir de esta clase, uno para representar a Óscar y otro para representar a Luisa, ambos trabajadores de la empresa en cuestión:"
   ]
  },
  {
   "cell_type": "code",
   "execution_count": 13,
   "metadata": {},
   "outputs": [],
   "source": [
    "trabajador1 = Trabajador(\"Óscar\", \"H\")\n",
    "trabajador2 = Trabajador(\"Luisa\", \"M\")"
   ]
  },
  {
   "cell_type": "markdown",
   "metadata": {},
   "source": [
    "Ahora podemos visualizar los diferentes atributos de ambos objetos:"
   ]
  },
  {
   "cell_type": "code",
   "execution_count": 14,
   "metadata": {},
   "outputs": [
    {
     "data": {
      "text/plain": [
       "('Óscar', 'H', None)"
      ]
     },
     "execution_count": 14,
     "metadata": {},
     "output_type": "execute_result"
    }
   ],
   "source": [
    "trabajador1.nombre, trabajador1.sexo, trabajador1.parking"
   ]
  },
  {
   "cell_type": "code",
   "execution_count": 15,
   "metadata": {},
   "outputs": [
    {
     "data": {
      "text/plain": [
       "('Luisa', 'M', None)"
      ]
     },
     "execution_count": 15,
     "metadata": {},
     "output_type": "execute_result"
    }
   ],
   "source": [
    "trabajador2.nombre, trabajador2.sexo, trabajador2.parking"
   ]
  },
  {
   "cell_type": "markdown",
   "metadata": {},
   "source": [
    "Cada objeto que creemos a partir de la clase \"Trabajador\" tendrá su propio conjunto de atributos, independientes unos de otros.\n",
    "\n",
    "Un comentario adicional: los atributos de los objetos pueden crearse en cualquiera de los métodos, no necesariamente en el constructor. Hacerlo en éste simplemente permite dar un valor por defecto (y evitar errores si se intenta acceder al atributo antes de haberlo creado) y poner  un poco de orden en la clase."
   ]
  },
  {
   "cell_type": "markdown",
   "metadata": {},
   "source": [
    "<div style = \"float:right\"><a style=\"text-decoration:none\" href = \"#inicio\">Inicio</a></div>"
   ]
  },
  {
   "cell_type": "markdown",
   "metadata": {},
   "source": [
    "<a name = \"inicio\"></a>"
   ]
  },
  {
   "cell_type": "markdown",
   "metadata": {},
   "source": [
    "<div style=\"font-size: 40px;text-align: center;height:50px;padding:10px;margin:0 0 10px 0;\">Atributos de la clase</div>"
   ]
  },
  {
   "cell_type": "markdown",
   "metadata": {},
   "source": [
    "Pero la propia clase puede tener también atributos, que se heredarán por los objetos que se creen a partir de ella. Estos atributos de clase se definen fuera de los métodos. En el siguiente ejemplo vamos a crear la clase *Circulo* que incluirá el atributo de clase \"*pi*\" al que vamos a asignar el valor 3.141592:"
   ]
  },
  {
   "cell_type": "code",
   "execution_count": 16,
   "metadata": {},
   "outputs": [],
   "source": [
    "class Circulo:\n",
    "    \n",
    "    pi = 3.141592\n",
    "    \n",
    "    def __init__(self, radio):\n",
    "        self.radio = radio\n",
    "    \n",
    "    def area(self):\n",
    "        return Circulo.pi * (self.radio ** 2)"
   ]
  },
  {
   "cell_type": "markdown",
   "metadata": {},
   "source": [
    "Como habrás visto en la última línea de código, se accede a un atributo de clase precediendo el nombre del atributo con el nombre de la clase y un punto, en este caso *Circulo.pi*. Ahora creamos un objeto a partir de esta clase y ejecutamos el método *area* que devuelve el área del círculo:"
   ]
  },
  {
   "cell_type": "code",
   "execution_count": 17,
   "metadata": {},
   "outputs": [],
   "source": [
    "c = Circulo(2)"
   ]
  },
  {
   "cell_type": "code",
   "execution_count": 18,
   "metadata": {},
   "outputs": [
    {
     "data": {
      "text/plain": [
       "12.566368"
      ]
     },
     "execution_count": 18,
     "metadata": {},
     "output_type": "execute_result"
    }
   ],
   "source": [
    "c.area()"
   ]
  },
  {
   "cell_type": "markdown",
   "metadata": {},
   "source": [
    "Los atributos de clase también son accesibles con la \"notación punto\" ya conocida:"
   ]
  },
  {
   "cell_type": "code",
   "execution_count": 19,
   "metadata": {},
   "outputs": [
    {
     "data": {
      "text/plain": [
       "3.141592"
      ]
     },
     "execution_count": 19,
     "metadata": {},
     "output_type": "execute_result"
    }
   ],
   "source": [
    "c.pi"
   ]
  },
  {
   "cell_type": "markdown",
   "metadata": {},
   "source": [
    "igual que los atribujos de los objetos:"
   ]
  },
  {
   "cell_type": "code",
   "execution_count": 20,
   "metadata": {},
   "outputs": [
    {
     "data": {
      "text/plain": [
       "2"
      ]
     },
     "execution_count": 20,
     "metadata": {},
     "output_type": "execute_result"
    }
   ],
   "source": [
    "c.radio"
   ]
  },
  {
   "cell_type": "markdown",
   "metadata": {},
   "source": [
    "<div style = \"float:right\"><a style=\"text-decoration:none\" href = \"#inicio\">Inicio</a></div>"
   ]
  },
  {
   "cell_type": "markdown",
   "metadata": {},
   "source": [
    "<a name = \"inicio\"></a>"
   ]
  },
  {
   "cell_type": "markdown",
   "metadata": {},
   "source": [
    "<div style=\"font-size: 40px;text-align: center;height:50px;padding:10px;margin:0 0 10px 0;\">Métodos</div>"
   ]
  },
  {
   "cell_type": "markdown",
   "metadata": {},
   "source": [
    "* [El alfabeto](#El-alfabeto)\n",
    "* [El método de cifrado](#El-método-de-cifrado)\n",
    "* [El método de descifrado](#El-método-de-descifrado)"
   ]
  },
  {
   "cell_type": "markdown",
   "metadata": {},
   "source": [
    "A estas alturas ya no debe sorprendernos demasiado la creación de métodos, pues hemos visto dos ya: el método \\_\\_init__ y, en el ejemplo anterior, el método *area*. Básicamente, los métodos de una clase se crean como cualquier otra función, sin olvidar que el primer parámetro deberá ser siempre self.\n",
    "\n",
    "Vamos a hacer un ejemplo en el que combinemos lo visto hasta ahora. Vamos a implementar un codificador César (¿recuerdas cuando de niño jugabas a cifrar mensajes sustituyendo cada letra por otra resultado de añadir a la primera un número de posiciones en el alfabeto?):\n",
    "\n",
    "* La clase (que define el codificador/decodificador) deberá tener asociada una clave que no es más que el número de posiciones en el alfabeto que hay que añadir a una letra para cifrarla. En nuestro ejemplo aceptaremos tanto números enteros positivos como negativos.\n",
    "* La clase deberá también trabajar con un conjunto de letras limitado, por supuesto, de forma que si una letra -tras añadirle o quitarle un número de posiciones- recibe un índice excesivamente alto o excesivamente bajo, se consideren las letras del otro extremo del alfabeto en círculo. Es decir, si el alfabeto considerado fuese, por ejemplo, \"aeiou\" y estuviésemos cifrando la letra \"o\" con la clave \"2\", tendríamos que sumar a \"o\" dos posiciones: una sería la correspondiente a la letra \"u\" y la segunda sería la correspondiente a la letra \"a\". Dicho con otras palabras, el índice a recibir será el índice de la letra a cifrar más la clave, \"módulo\" (resto de la división) la longitud del alfabeto. Es decir: nuevo_indice = (indice + clave) % len(alfabeto).\n",
    "* Necesitaremos un método para cifrar un texto y otro para descifrarlo.\n",
    "\n",
    "Comencemos:\n",
    "\n",
    "La clave se definirá al instanciar la clase, pasándose al constructor vía argumentos:"
   ]
  },
  {
   "cell_type": "code",
   "execution_count": 21,
   "metadata": {},
   "outputs": [],
   "source": [
    "class CifradorCesar:\n",
    "    \n",
    "    def __init__(self, clave):\n",
    "        self.clave = clave"
   ]
  },
  {
   "cell_type": "markdown",
   "metadata": {},
   "source": [
    "Probemos esta clase creando un objeto a partir de ella y accediendo al atributo *clave* creado:"
   ]
  },
  {
   "cell_type": "code",
   "execution_count": 22,
   "metadata": {},
   "outputs": [],
   "source": [
    "c = CifradorCesar(7)"
   ]
  },
  {
   "cell_type": "code",
   "execution_count": 23,
   "metadata": {},
   "outputs": [
    {
     "data": {
      "text/plain": [
       "7"
      ]
     },
     "execution_count": 23,
     "metadata": {},
     "output_type": "execute_result"
    }
   ],
   "source": [
    "c.clave"
   ]
  },
  {
   "cell_type": "markdown",
   "metadata": {},
   "source": [
    "# El alfabeto\n",
    "<div style = \"float:right\"><a style=\"text-decoration:none\" href = \"#inicio\">Inicio</a></div>"
   ]
  },
  {
   "cell_type": "markdown",
   "metadata": {},
   "source": [
    "El alfabeto a considerar será el conjunto de letras minúsculas y mayúsculas, números y caracteres imprimibles típicos. Podríamos crear este listado de caracteres a mano, pero resulta más cómodo importar la librería **string** y hacer uso de la variable **printable**, que contiene todos los caracteres que nos interesan:"
   ]
  },
  {
   "cell_type": "code",
   "execution_count": 24,
   "metadata": {},
   "outputs": [
    {
     "data": {
      "text/plain": [
       "'0123456789abcdefghijklmnopqrstuvwxyzABCDEFGHIJKLMNOPQRSTUVWXYZ!\"#$%&\\'()*+,-./:;<=>?@[\\\\]^_`{|}~ \\t\\n\\r\\x0b\\x0c'"
      ]
     },
     "execution_count": 24,
     "metadata": {},
     "output_type": "execute_result"
    }
   ],
   "source": [
    "import string\n",
    "string.printable"
   ]
  },
  {
   "cell_type": "markdown",
   "metadata": {},
   "source": [
    "Nuestra clase quedaría de la siguiente forma:"
   ]
  },
  {
   "cell_type": "code",
   "execution_count": 25,
   "metadata": {},
   "outputs": [],
   "source": [
    "class CifradorCesar:\n",
    "    \n",
    "    import string\n",
    "    alfabeto = string.printable\n",
    "    \n",
    "    def __init__(self, clave):\n",
    "        self.clave = clave"
   ]
  },
  {
   "cell_type": "markdown",
   "metadata": {},
   "source": [
    "Ahora ya podemos hacer uso del atributo de clase *CifradorCesar.alfabeto* desde los métodos de la clase."
   ]
  },
  {
   "cell_type": "markdown",
   "metadata": {},
   "source": [
    "# El método de cifrado\n",
    "<div style = \"float:right\"><a style=\"text-decoration:none\" href = \"#inicio\">Inicio</a></div>"
   ]
  },
  {
   "cell_type": "markdown",
   "metadata": {},
   "source": [
    "Vamos a crear ahora un método -al que vamos a llamar \"*cifra*\"- que cifre un mensaje de texto: tendrá que recorrer cada una de las letras de dicho mensaje calculando su índice en \"alfabeto\" y añadiendo a este índice la clave, para calcular a continuación el módulo con respecto a la longitud del alfabeto (ya sabes, para estar considerando siempre como nuevo índice una letra del mismo). Este método quedaría así:"
   ]
  },
  {
   "cell_type": "code",
   "execution_count": 26,
   "metadata": {},
   "outputs": [],
   "source": [
    "def cifra(self, mensaje):\n",
    "    mensaje_cifrado = \"\"                                                         # Inicializamos el mensaje cifrado final\n",
    "    for letra in mensaje:                                                        # Recorremos las letras del mensaje a cifrar\n",
    "        indice = CifradorCesar.alfabeto.index(letra)                             # Obtenemos el índice de la letra en el alfabeto\n",
    "        nuevo_indice = (indice + self.clave) % len(CifradorCesar.alfabeto)       # Obtenemos el nuevo índice\n",
    "        mensaje_cifrado += CifradorCesar.alfabeto[nuevo_indice]                  # Añadimos al mensaje cifrado el nuevo carácter\n",
    "    return mensaje_cifrado                                                       # Devolvemos el mensaje cifrado"
   ]
  },
  {
   "cell_type": "markdown",
   "metadata": {},
   "source": [
    "Comenzamos creando una variable (\"*mensaje_cifrado*\") para almacenar las letras una vez cifradas. En el bucle *for* extraemos el índice de cada letra a cifrar, calculamos el nuevo índice sumando la clave (a la que accedemos por medio de *self.clave*) y calculando el módulo con respecto a la longitud del alfabeto (al que accedemos por medio de *CifradorCesar.alfabeto*), y añadimos a \"mensaje_cifrado\" la letra con el nuevo índice. Finalmente devolvemos el mensaje cifrado.\n",
    "\n",
    "La clase completa quedaría de la siguiente forma:"
   ]
  },
  {
   "cell_type": "code",
   "execution_count": 27,
   "metadata": {},
   "outputs": [],
   "source": [
    "class CifradorCesar:\n",
    "    \n",
    "    import string\n",
    "    alfabeto = string.printable\n",
    "    \n",
    "    def __init__(self, clave):\n",
    "        self.clave = clave\n",
    "        \n",
    "    def cifra(self, mensaje):\n",
    "        mensaje_cifrado = \"\"\n",
    "        for letra in mensaje:\n",
    "            indice = CifradorCesar.alfabeto.index(letra) \n",
    "            nuevo_indice = (indice + self.clave) % len(CifradorCesar.alfabeto)\n",
    "            mensaje_cifrado += CifradorCesar.alfabeto[nuevo_indice]\n",
    "        return mensaje_cifrado"
   ]
  },
  {
   "cell_type": "markdown",
   "metadata": {},
   "source": [
    "Probémosla:"
   ]
  },
  {
   "cell_type": "code",
   "execution_count": 28,
   "metadata": {},
   "outputs": [
    {
     "data": {
      "text/plain": [
       "'WFAovu1whyh1KhAh1Zjplujl'"
      ]
     },
     "execution_count": 28,
     "metadata": {},
     "output_type": "execute_result"
    }
   ],
   "source": [
    "c = CifradorCesar(7)\n",
    "c.cifra(\"Python para Data Science\")"
   ]
  },
  {
   "cell_type": "markdown",
   "metadata": {},
   "source": [
    "¡Parece que funciona!"
   ]
  },
  {
   "cell_type": "markdown",
   "metadata": {},
   "source": [
    "# El método de descifrado\n",
    "<div style = \"float:right\"><a style=\"text-decoration:none\" href = \"#inicio\">Inicio</a></div>"
   ]
  },
  {
   "cell_type": "markdown",
   "metadata": {},
   "source": [
    "El método de descifrado es prácticamente igual al anterior. El único cambio significativo (además de usar otros nombres de variables) es que ahora la clave se resta, no se suma:"
   ]
  },
  {
   "cell_type": "code",
   "execution_count": 29,
   "metadata": {},
   "outputs": [],
   "source": [
    "def descifra(self, mensaje):\n",
    "    mensaje_cifrado = \"\"                                                         # Inicializamos el mensaje descifrado final\n",
    "    for letra in mensaje:                                                        # Recorremos las letras del mensaje a descifrar\n",
    "        indice = CifradorCesar.alfabeto.index(letra)                             # Obtenemos el índice de la letra en el alfabeto\n",
    "        nuevo_indice = (indice - self.clave) % len(CifradorCesar.alfabeto)       # Obtenemos el nuevo índice\n",
    "        mensaje_cifrado += CifradorCesar.alfabeto[nuevo_indice]                  # Añadimos al mensaje descifrado el nuevo carácter\n",
    "    return mensaje_cifrado                                                       # Devolvemos el mensaje descifrado"
   ]
  },
  {
   "cell_type": "markdown",
   "metadata": {},
   "source": [
    "La clase quedaría así:"
   ]
  },
  {
   "cell_type": "code",
   "execution_count": 30,
   "metadata": {},
   "outputs": [],
   "source": [
    "class CifradorCesar:\n",
    "    \n",
    "    import string\n",
    "    alfabeto = string.printable\n",
    "    \n",
    "    def __init__(self, clave):\n",
    "        self.clave = clave\n",
    "        \n",
    "    def cifra(self, mensaje):\n",
    "        mensaje_cifrado = \"\"\n",
    "        for letra in mensaje:\n",
    "            indice = CifradorCesar.alfabeto.index(letra) \n",
    "            nuevo_indice = (indice + self.clave) % len(CifradorCesar.alfabeto)\n",
    "            mensaje_cifrado += CifradorCesar.alfabeto[nuevo_indice]\n",
    "        return mensaje_cifrado\n",
    "    \n",
    "    def descifra(self, mensaje_cifrado):\n",
    "        mensaje = \"\"\n",
    "        for letra_cifrada in mensaje_cifrado:\n",
    "            indice = CifradorCesar.alfabeto.index(letra_cifrada)\n",
    "            nuevo_indice = (indice - self.clave) % len(CifradorCesar.alfabeto)\n",
    "            mensaje += CifradorCesar.alfabeto[nuevo_indice]\n",
    "        return mensaje"
   ]
  },
  {
   "cell_type": "markdown",
   "metadata": {},
   "source": [
    "Para probar la clase, vamos a cifrar un texto y a descifrarlo a continuación (¡debería devolver el texto inicial!). Comenzamos instanciando la clase:"
   ]
  },
  {
   "cell_type": "code",
   "execution_count": 31,
   "metadata": {},
   "outputs": [],
   "source": [
    "c = CifradorCesar(7)"
   ]
  },
  {
   "cell_type": "code",
   "execution_count": 32,
   "metadata": {},
   "outputs": [
    {
     "data": {
      "text/plain": [
       "'WFAovu1whyh1KhAh1Zjplujl'"
      ]
     },
     "execution_count": 32,
     "metadata": {},
     "output_type": "execute_result"
    }
   ],
   "source": [
    "m = c.cifra(\"Python para Data Science\")\n",
    "m"
   ]
  },
  {
   "cell_type": "code",
   "execution_count": 33,
   "metadata": {},
   "outputs": [
    {
     "data": {
      "text/plain": [
       "'Python para Data Science'"
      ]
     },
     "execution_count": 33,
     "metadata": {},
     "output_type": "execute_result"
    }
   ],
   "source": [
    "c.descifra(m)"
   ]
  },
  {
   "cell_type": "markdown",
   "metadata": {},
   "source": [
    "Y funciona también..."
   ]
  },
  {
   "cell_type": "markdown",
   "metadata": {},
   "source": [
    "<div style = \"float:right\"><a style=\"text-decoration:none\" href = \"#inicio\">Inicio</a></div>"
   ]
  },
  {
   "cell_type": "markdown",
   "metadata": {},
   "source": [
    "<div style=\"font-size: 40px;text-align: center;height:50px;padding:10px;margin:0 0 10px 0;\">Ocultando atributos y métodos</div>"
   ]
  },
  {
   "cell_type": "markdown",
   "metadata": {},
   "source": [
    "Una de los principios de la programación orientada a objetos es el encapsulamiento, que -como ya se ha comentado- es el nombre que damos a la propiedad según la cual ocultamos el estado de un objeto de forma que solo sea posible interactuar con él a través de sus métodos. Sin embargo, esto no es del todo cierto en lo que hemos visto hasta ahora. Volvamos a la clase que definía un círculo:"
   ]
  },
  {
   "cell_type": "code",
   "execution_count": 34,
   "metadata": {},
   "outputs": [],
   "source": [
    "class Circulo:\n",
    "    \n",
    "    pi = 3.141592\n",
    "    \n",
    "    def __init__(self, radio):\n",
    "        self.radio = radio\n",
    "    \n",
    "    def area(self):\n",
    "        return Circulo.pi * (self.radio ** 2)"
   ]
  },
  {
   "cell_type": "markdown",
   "metadata": {},
   "source": [
    "Si instanciamos la clase..."
   ]
  },
  {
   "cell_type": "code",
   "execution_count": 35,
   "metadata": {},
   "outputs": [],
   "source": [
    "c = Circulo(2)"
   ]
  },
  {
   "cell_type": "markdown",
   "metadata": {},
   "source": [
    "para empezar, podemos acceder al atributo radio:"
   ]
  },
  {
   "cell_type": "code",
   "execution_count": 36,
   "metadata": {},
   "outputs": [
    {
     "data": {
      "text/plain": [
       "2"
      ]
     },
     "execution_count": 36,
     "metadata": {},
     "output_type": "execute_result"
    }
   ],
   "source": [
    "c.radio"
   ]
  },
  {
   "cell_type": "markdown",
   "metadata": {},
   "source": [
    "Pero no solo, eso, podemos cambiarlo:"
   ]
  },
  {
   "cell_type": "code",
   "execution_count": 37,
   "metadata": {},
   "outputs": [
    {
     "data": {
      "text/plain": [
       "5"
      ]
     },
     "execution_count": 37,
     "metadata": {},
     "output_type": "execute_result"
    }
   ],
   "source": [
    "c.radio = 5\n",
    "c.radio"
   ]
  },
  {
   "cell_type": "markdown",
   "metadata": {},
   "source": [
    "Y podemos acceder al atributo *pi* de la clase:"
   ]
  },
  {
   "cell_type": "code",
   "execution_count": 38,
   "metadata": {},
   "outputs": [
    {
     "data": {
      "text/plain": [
       "3.141592"
      ]
     },
     "execution_count": 38,
     "metadata": {},
     "output_type": "execute_result"
    }
   ],
   "source": [
    "Circulo.pi"
   ]
  },
  {
   "cell_type": "markdown",
   "metadata": {},
   "source": [
    "Y modificarlo también:"
   ]
  },
  {
   "cell_type": "code",
   "execution_count": 39,
   "metadata": {},
   "outputs": [
    {
     "data": {
      "text/plain": [
       "4"
      ]
     },
     "execution_count": 39,
     "metadata": {},
     "output_type": "execute_result"
    }
   ],
   "source": [
    "c._Circulo__radio = 4\n",
    "c._Circulo__radio"
   ]
  },
  {
   "cell_type": "markdown",
   "metadata": {},
   "source": [
    "¿Recuerdas que la función **dir** nos permitía obtener un listado de nombres (atributos, métodos...) de un objeto? Podemos aplicarla aquí:"
   ]
  },
  {
   "cell_type": "code",
   "execution_count": 40,
   "metadata": {},
   "outputs": [
    {
     "data": {
      "text/plain": [
       "['_Circulo__radio',\n",
       " '__class__',\n",
       " '__delattr__',\n",
       " '__dict__',\n",
       " '__dir__',\n",
       " '__doc__',\n",
       " '__eq__',\n",
       " '__format__',\n",
       " '__ge__',\n",
       " '__getattribute__',\n",
       " '__getstate__',\n",
       " '__gt__',\n",
       " '__hash__',\n",
       " '__init__',\n",
       " '__init_subclass__',\n",
       " '__le__',\n",
       " '__lt__',\n",
       " '__module__',\n",
       " '__ne__',\n",
       " '__new__',\n",
       " '__reduce__',\n",
       " '__reduce_ex__',\n",
       " '__repr__',\n",
       " '__setattr__',\n",
       " '__sizeof__',\n",
       " '__str__',\n",
       " '__subclasshook__',\n",
       " '__weakref__',\n",
       " 'area',\n",
       " 'pi',\n",
       " 'radio']"
      ]
     },
     "execution_count": 40,
     "metadata": {},
     "output_type": "execute_result"
    }
   ],
   "source": [
    "dir(c)"
   ]
  },
  {
   "cell_type": "markdown",
   "metadata": {},
   "source": [
    "Vemos también que tenemos acceso a los métodos definidos en la clase."
   ]
  },
  {
   "cell_type": "markdown",
   "metadata": {},
   "source": [
    "La forma de \"ocultar\" (y verás en breve por qué lo pongo entre comillas) un atributo o un método es precediéndolo con dos guiones bajos:"
   ]
  },
  {
   "cell_type": "code",
   "execution_count": 41,
   "metadata": {},
   "outputs": [],
   "source": [
    "class Circulo:\n",
    "    \n",
    "    __pi = 3.141592\n",
    "    \n",
    "    def __init__(self, radio):\n",
    "        self.__radio = radio\n",
    "    \n",
    "    def __cuadrado(self, n):\n",
    "        return n ** 2\n",
    "    \n",
    "    def area(self):\n",
    "        return Circulo.__pi * self.__cuadrado(self.__radio)"
   ]
  },
  {
   "cell_type": "markdown",
   "metadata": {},
   "source": [
    "(He creado un método que devuelve el cuadrado de un número solo para tener un método para ocultar y otro para no ocultar).\n",
    "\n",
    "En el código anterior hemos ocultado el atributo de clase *\\_\\_pi*, el atributo de objeto *\\_\\_radio* y el método *\\_\\_cuadrado*. Solo está accesible el método *area*. Probemos éste último y uno de los ocultos:"
   ]
  },
  {
   "cell_type": "code",
   "execution_count": 42,
   "metadata": {},
   "outputs": [],
   "source": [
    "c = Circulo(2)"
   ]
  },
  {
   "cell_type": "code",
   "execution_count": 43,
   "metadata": {},
   "outputs": [
    {
     "data": {
      "text/plain": [
       "12.566368"
      ]
     },
     "execution_count": 43,
     "metadata": {},
     "output_type": "execute_result"
    }
   ],
   "source": [
    "c.area()"
   ]
  },
  {
   "cell_type": "code",
   "execution_count": 44,
   "metadata": {},
   "outputs": [
    {
     "name": "stdout",
     "output_type": "stream",
     "text": [
      "Error\n"
     ]
    }
   ],
   "source": [
    "try:\n",
    "    c.radio\n",
    "except:\n",
    "    print(\"Error\")"
   ]
  },
  {
   "cell_type": "code",
   "execution_count": 45,
   "metadata": {},
   "outputs": [
    {
     "name": "stdout",
     "output_type": "stream",
     "text": [
      "Error\n"
     ]
    }
   ],
   "source": [
    "try:\n",
    "    c.__radio\n",
    "except:\n",
    "    print(\"Error\")"
   ]
  },
  {
   "cell_type": "markdown",
   "metadata": {},
   "source": [
    "Intentar acceder a estos atributos devuelve un error, pero ¿hemos conseguido ocultar realmente dichos atributos y métodos? Bueno, no del todo. Si volvemos a ejecutar la función *dir* sobre este objeto:"
   ]
  },
  {
   "cell_type": "code",
   "execution_count": 46,
   "metadata": {},
   "outputs": [
    {
     "data": {
      "text/plain": [
       "['_Circulo__cuadrado',\n",
       " '_Circulo__pi',\n",
       " '_Circulo__radio',\n",
       " '__class__',\n",
       " '__delattr__',\n",
       " '__dict__',\n",
       " '__dir__',\n",
       " '__doc__',\n",
       " '__eq__',\n",
       " '__format__',\n",
       " '__ge__',\n",
       " '__getattribute__',\n",
       " '__getstate__',\n",
       " '__gt__',\n",
       " '__hash__',\n",
       " '__init__',\n",
       " '__init_subclass__',\n",
       " '__le__',\n",
       " '__lt__',\n",
       " '__module__',\n",
       " '__ne__',\n",
       " '__new__',\n",
       " '__reduce__',\n",
       " '__reduce_ex__',\n",
       " '__repr__',\n",
       " '__setattr__',\n",
       " '__sizeof__',\n",
       " '__str__',\n",
       " '__subclasshook__',\n",
       " '__weakref__',\n",
       " 'area']"
      ]
     },
     "execution_count": 46,
     "metadata": {},
     "output_type": "execute_result"
    }
   ],
   "source": [
    "dir(c)"
   ]
  },
  {
   "cell_type": "markdown",
   "metadata": {},
   "source": [
    "vemos que seguimos teniendo acceso a lo que parece un \"alias\" de los atributos y métodos ocultos:"
   ]
  },
  {
   "cell_type": "code",
   "execution_count": 47,
   "metadata": {},
   "outputs": [
    {
     "data": {
      "text/plain": [
       "3.141592"
      ]
     },
     "execution_count": 47,
     "metadata": {},
     "output_type": "execute_result"
    }
   ],
   "source": [
    "c._Circulo__pi"
   ]
  },
  {
   "cell_type": "code",
   "execution_count": 48,
   "metadata": {},
   "outputs": [
    {
     "data": {
      "text/plain": [
       "2"
      ]
     },
     "execution_count": 48,
     "metadata": {},
     "output_type": "execute_result"
    }
   ],
   "source": [
    "c._Circulo__radio"
   ]
  },
  {
   "cell_type": "markdown",
   "metadata": {},
   "source": [
    "¡Upps! pues parece que seguimos teniendo acceso a los atributos ¿y podemos cambiarlos?"
   ]
  },
  {
   "cell_type": "code",
   "execution_count": 49,
   "metadata": {},
   "outputs": [
    {
     "data": {
      "text/plain": [
       "4"
      ]
     },
     "execution_count": 49,
     "metadata": {},
     "output_type": "execute_result"
    }
   ],
   "source": [
    "c._Circulo__radio = 4\n",
    "c._Circulo__radio"
   ]
  },
  {
   "cell_type": "markdown",
   "metadata": {},
   "source": [
    "A ver, calculemos el área nuevamente (antes era de 12.56):"
   ]
  },
  {
   "cell_type": "code",
   "execution_count": 50,
   "metadata": {},
   "outputs": [
    {
     "data": {
      "text/plain": [
       "50.265472"
      ]
     },
     "execution_count": 50,
     "metadata": {},
     "output_type": "execute_result"
    }
   ],
   "source": [
    "c.area()"
   ]
  },
  {
   "cell_type": "markdown",
   "metadata": {},
   "source": [
    "Definitivamente tenemos acceso a los atributos. ¿Es esto un error de Python? Realmente no. Se trata de una decisión de diseño que, en muchos escenarios, es incluso preferible. En realidad hay <a href=\"https://stackoverflow.com/questions/70528/why-are-pythons-private-methods-not-actually-private\">formas de ocultar</a> un método mediante programación, pero normalmente es innecesario llegar a ese punto."
   ]
  },
  {
   "cell_type": "markdown",
   "metadata": {},
   "source": [
    "<div style = \"float:right\"><a style=\"text-decoration:none\" href = \"#inicio\">Inicio</a></div>"
   ]
  },
  {
   "cell_type": "markdown",
   "metadata": {},
   "source": [
    "<div style=\"font-size: 40px;text-align: center;height:50px;padding:10px;margin:0 0 10px 0;\">Getters y Setters</div>"
   ]
  },
  {
   "cell_type": "markdown",
   "metadata": {},
   "source": [
    "Una vez explicado cómo podemos \"ocultar\" (entre comillas) nuestros atributos y métodos, debemos preguntarnos entonces ¿y cómo debemos acceder y modificar los atributos en caso de que lo necesitemos? Como el objetivo del principio de encapsulamiento es dar acceso solo a través de los métodos pertinentes, lo que suele hacerse crear métodos para acceder al valor de un atributo y métodos para fijar el valor de un atributo (siempre que veamos oportuno dar este tipo de accesos, por supuesto). Los métodos que permiten acceder al valor de un atributo se denominan \"**getters**\" (del verbo inglés \"*get*\", obtener) y los que fijan el valor de un atributo se denominan \"**setters**\" (del verbo inglés \"*set*\", fijar).\n",
    "\n",
    "Vamos a hacer un ejemplo con nuestra clase *Círculo*, implementando un método para acceder al radio del mismo y otro para modificarlo. Partimos de la siguiente clase:"
   ]
  },
  {
   "cell_type": "code",
   "execution_count": 51,
   "metadata": {},
   "outputs": [],
   "source": [
    "class Circulo:\n",
    "    \n",
    "    __pi = 3.141592\n",
    "    \n",
    "    def __init__(self, radio):\n",
    "        self.__radio = radio\n",
    "    \n",
    "    def __cuadrado(self, n):\n",
    "        return n ** 2\n",
    "    \n",
    "    def area(self):\n",
    "        return Circulo.__pi * self.__cuadrado(self.__radio)"
   ]
  },
  {
   "cell_type": "markdown",
   "metadata": {},
   "source": [
    "en la que solo hemos dado acceso al método area. Creemos entonces un método público que devuelva el valor del radio -y llamémoslo *valorRadio*-, y otro para cambiar el valor -y llamémoslo *fijaRadio*-:"
   ]
  },
  {
   "cell_type": "code",
   "execution_count": 52,
   "metadata": {},
   "outputs": [],
   "source": [
    "class Circulo:\n",
    "    \n",
    "    __pi = 3.141592\n",
    "    \n",
    "    def __init__(self, radio):\n",
    "        self.__radio = radio\n",
    "    \n",
    "    def __cuadrado(self, n):\n",
    "        return n ** 2\n",
    "    \n",
    "    def area(self):\n",
    "        return Circulo.__pi * self.__cuadrado(self.__radio)\n",
    "    \n",
    "    def valorRadio(self):\n",
    "        return self.__radio\n",
    "    \n",
    "    def fijaRadio(self, nuevoRadio):\n",
    "        self.__radio = nuevoRadio"
   ]
  },
  {
   "cell_type": "markdown",
   "metadata": {},
   "source": [
    "Para probarlo vamos a instanciar la clase con un radio de 3 y a calcular el área correspondiente:"
   ]
  },
  {
   "cell_type": "code",
   "execution_count": 53,
   "metadata": {},
   "outputs": [
    {
     "data": {
      "text/plain": [
       "28.274328"
      ]
     },
     "execution_count": 53,
     "metadata": {},
     "output_type": "execute_result"
    }
   ],
   "source": [
    "c = Circulo(3)\n",
    "c.area()"
   ]
  },
  {
   "cell_type": "markdown",
   "metadata": {},
   "source": [
    "Accedamos al valor del atributo que representa al radio:"
   ]
  },
  {
   "cell_type": "code",
   "execution_count": 54,
   "metadata": {},
   "outputs": [
    {
     "data": {
      "text/plain": [
       "3"
      ]
     },
     "execution_count": 54,
     "metadata": {},
     "output_type": "execute_result"
    }
   ],
   "source": [
    "c.valorRadio()"
   ]
  },
  {
   "cell_type": "markdown",
   "metadata": {},
   "source": [
    "Cambiémoslo a 4 y comprobemos su nuevo valor:"
   ]
  },
  {
   "cell_type": "code",
   "execution_count": 55,
   "metadata": {},
   "outputs": [],
   "source": [
    "c.fijaRadio(4)"
   ]
  },
  {
   "cell_type": "code",
   "execution_count": 56,
   "metadata": {},
   "outputs": [
    {
     "data": {
      "text/plain": [
       "4"
      ]
     },
     "execution_count": 56,
     "metadata": {},
     "output_type": "execute_result"
    }
   ],
   "source": [
    "c.valorRadio()"
   ]
  },
  {
   "cell_type": "markdown",
   "metadata": {},
   "source": [
    "Y como última comprobación, calculemos el área del círculo con el nuevo radio:"
   ]
  },
  {
   "cell_type": "code",
   "execution_count": 57,
   "metadata": {},
   "outputs": [
    {
     "data": {
      "text/plain": [
       "50.265472"
      ]
     },
     "execution_count": 57,
     "metadata": {},
     "output_type": "execute_result"
    }
   ],
   "source": [
    "c.area()"
   ]
  },
  {
   "cell_type": "markdown",
   "metadata": {},
   "source": [
    "<div style = \"float:right\"><a style=\"text-decoration:none\" href = \"#inicio\">Inicio</a></div>"
   ]
  },
  {
   "cell_type": "markdown",
   "metadata": {},
   "source": [
    "<div style=\"font-size: 40px;text-align: center;height:50px;padding:10px;margin:0 0 10px 0;\">Métodos frecuentes</div>"
   ]
  },
  {
   "cell_type": "markdown",
   "metadata": {},
   "source": [
    "Los métodos que comienzan y terminan con un doble guión bajo son una especie de \"ganchos\" que se ejecutan cuando ocurre algo con el objeto, por ejemplo, cuando se crea (ya hemos visto que esto provoca la ejecución del método *\\_\\_init__*). Pero hay otros métodos. Veamos un par de ellos:"
   ]
  },
  {
   "cell_type": "markdown",
   "metadata": {},
   "source": [
    "# El método \\_\\_del__"
   ]
  },
  {
   "cell_type": "markdown",
   "metadata": {},
   "source": [
    "Este método se ejecuta cada vez que se elimina un objeto y puede servirnos para \"avisar\" a otros objetos de que va a ser eliminado, o para hacer limpieza de variables que ya no van a ser necesarias:"
   ]
  },
  {
   "cell_type": "code",
   "execution_count": 58,
   "metadata": {},
   "outputs": [],
   "source": [
    "class Circulo:\n",
    "    \n",
    "    def __init__(self, radio):\n",
    "        self.radio = radio\n",
    "    \n",
    "    def __del__(self):\n",
    "        print(\"Círculo eliminado\")"
   ]
  },
  {
   "cell_type": "code",
   "execution_count": 59,
   "metadata": {},
   "outputs": [],
   "source": [
    "c = Circulo(3)"
   ]
  },
  {
   "cell_type": "code",
   "execution_count": 60,
   "metadata": {},
   "outputs": [
    {
     "name": "stdout",
     "output_type": "stream",
     "text": [
      "Círculo eliminado\n"
     ]
    }
   ],
   "source": [
    "del(c)"
   ]
  },
  {
   "cell_type": "markdown",
   "metadata": {},
   "source": [
    "# El método \\_\\_str__"
   ]
  },
  {
   "cell_type": "markdown",
   "metadata": {},
   "source": [
    "Este método se ejecuta cuando se imprime el objeto (usando la función *print*):"
   ]
  },
  {
   "cell_type": "code",
   "execution_count": 61,
   "metadata": {},
   "outputs": [],
   "source": [
    "class Circulo:\n",
    "    \n",
    "    def __init__(self, radio):\n",
    "        self.radio = radio\n",
    "    \n",
    "    def __str__(self):\n",
    "        return \"Círculo de radio {}\".format(self.radio)"
   ]
  },
  {
   "cell_type": "code",
   "execution_count": 62,
   "metadata": {},
   "outputs": [],
   "source": [
    "c = Circulo(3)"
   ]
  },
  {
   "cell_type": "code",
   "execution_count": 63,
   "metadata": {},
   "outputs": [
    {
     "name": "stdout",
     "output_type": "stream",
     "text": [
      "Círculo de radio 3\n"
     ]
    }
   ],
   "source": [
    "print(c)"
   ]
  },
  {
   "cell_type": "markdown",
   "metadata": {},
   "source": [
    "# El método \\_\\_eq__"
   ]
  },
  {
   "cell_type": "markdown",
   "metadata": {},
   "source": [
    "El método **\\_\\_eq__** define el comportamiento de la clase cuando se comparan dos objetos de la misma:"
   ]
  },
  {
   "cell_type": "code",
   "execution_count": 64,
   "metadata": {},
   "outputs": [],
   "source": [
    "class Circulo:\n",
    "    \n",
    "    def __init__(self, radio, color):\n",
    "        self.radio = radio\n",
    "        self.color = color\n",
    "    \n",
    "    def __eq__(self, otro_circulo):\n",
    "        return (self.radio == otro_circulo.radio) and (self.color == otro_circulo.color)"
   ]
  },
  {
   "cell_type": "code",
   "execution_count": 65,
   "metadata": {},
   "outputs": [
    {
     "data": {
      "text/plain": [
       "False"
      ]
     },
     "execution_count": 65,
     "metadata": {},
     "output_type": "execute_result"
    }
   ],
   "source": [
    "c1 = Circulo(2, \"azul\")\n",
    "c2 = Circulo(3, \"azul\")\n",
    "c1 == c2"
   ]
  },
  {
   "cell_type": "code",
   "execution_count": 66,
   "metadata": {},
   "outputs": [
    {
     "data": {
      "text/plain": [
       "True"
      ]
     },
     "execution_count": 66,
     "metadata": {},
     "output_type": "execute_result"
    }
   ],
   "source": [
    "c1 = Circulo(2, \"azul\")\n",
    "c2 = Circulo(2, \"azul\")\n",
    "c1 == c2"
   ]
  },
  {
   "cell_type": "markdown",
   "metadata": {},
   "source": [
    "<div style=\"font-size: 40px;text-align: center;height:50px;padding:10px;margin:0 0 10px 0;\">Creación de subclases</div>"
   ]
  },
  {
   "cell_type": "markdown",
   "metadata": {},
   "source": [
    "Una vez que hemos creado una clase, es posible crear otra clase a partir de ella (una \"*subclase*\") que \"*herede*\" las características -atributos y métodos- de la clase original (a la que, en estas circunstancias, se denomina \"*superclase*\" o \"*clase padre*\").\n",
    "\n",
    "Por ejemplo, sigamos trabajando con la clase que nos permitía crear círculos:"
   ]
  },
  {
   "cell_type": "code",
   "execution_count": 67,
   "metadata": {},
   "outputs": [],
   "source": [
    "class Circulo:\n",
    "    \n",
    "    pi = 3.141592\n",
    "    \n",
    "    def __init__(self, radio):\n",
    "        self.radio = radio\n",
    "    \n",
    "    def area(self):\n",
    "        return Circulo.pi * (self.radio ** 2)"
   ]
  },
  {
   "cell_type": "markdown",
   "metadata": {},
   "source": [
    "Ésta va a ser nuestra clase \"*padre*\" -la superclase- a partir de la que crear las clases \"*hijas*\" o subclases. Como sabemos ya, podríamos instanciar un objeto de esta clase con el código:"
   ]
  },
  {
   "cell_type": "code",
   "execution_count": 68,
   "metadata": {},
   "outputs": [],
   "source": [
    "c = Circulo(3)"
   ]
  },
  {
   "cell_type": "markdown",
   "metadata": {},
   "source": [
    "Para crear una subclase basta con definir una nueva clase pasando como argumento el nombre de la clase padre. Por ejemplo, supongamos que queremos crear un tipo especial de círculo que tenga un color asociado:"
   ]
  },
  {
   "cell_type": "code",
   "execution_count": 69,
   "metadata": {},
   "outputs": [],
   "source": [
    "class CirculoColoreado(Circulo):\n",
    "    \n",
    "    pass"
   ]
  },
  {
   "cell_type": "markdown",
   "metadata": {},
   "source": [
    "Vemos que estamos creando una clase a la que llamamos *CirculoColoreado* que se va a basar en la clase *Circulo*. Si quisiéramos poder inicializar el estado de nuestro \"*círculo coloreado*\" tendríamos que añadir un método constructor:"
   ]
  },
  {
   "cell_type": "code",
   "execution_count": 70,
   "metadata": {},
   "outputs": [],
   "source": [
    "class CirculoColoreado(Circulo):\n",
    "    \n",
    "    def __init__(self, color):\n",
    "        self.color = color"
   ]
  },
  {
   "cell_type": "markdown",
   "metadata": {},
   "source": [
    "Ahora ya podríamos crear un \"círculo coloreado\" pasando el color correspondiente:"
   ]
  },
  {
   "cell_type": "code",
   "execution_count": 71,
   "metadata": {},
   "outputs": [
    {
     "data": {
      "text/plain": [
       "'azul'"
      ]
     },
     "execution_count": 71,
     "metadata": {},
     "output_type": "execute_result"
    }
   ],
   "source": [
    "c = CirculoColoreado(\"azul\")\n",
    "c.color"
   ]
  },
  {
   "cell_type": "markdown",
   "metadata": {},
   "source": [
    "Eso sí, con el código que define nuestra subclase no estamos previendo la posibilidad de definir el radio del círculo. Podríamos invocar el método *.area()*, pero obtendríamos un error de tipo *AttributeError* ya que no se ha inicializado dicho atributo:"
   ]
  },
  {
   "cell_type": "code",
   "execution_count": 72,
   "metadata": {},
   "outputs": [
    {
     "name": "stdout",
     "output_type": "stream",
     "text": [
      "Error\n"
     ]
    }
   ],
   "source": [
    "try:\n",
    "    c.area()\n",
    "except:\n",
    "    print(\"Error\")"
   ]
  },
  {
   "cell_type": "markdown",
   "metadata": {},
   "source": [
    "Lo que debemos hacer es, cuando instanciamos nuestro círculo coloreado invocando al constructor de la subclase, invocar también el constructor de la clase padre, de la siguiente forma:"
   ]
  },
  {
   "cell_type": "code",
   "execution_count": 73,
   "metadata": {},
   "outputs": [],
   "source": [
    "class CirculoColoreado(Circulo):\n",
    "    \n",
    "    def __init__(self, radio, color):\n",
    "        self.color = color\n",
    "        super().__init__(radio)"
   ]
  },
  {
   "cell_type": "markdown",
   "metadata": {},
   "source": [
    "Como podemos comprobar, además de crear el atributo *color*, estamos invocando el método constructor de la clase padre mediante la instrucción *super().\\_\\_init__()* pasando los argumentos necesarios -en este caso el radio del círculo-.\n",
    "\n",
    "La instanciación del objeto exige ahora pasar dos argumentos, el radio y el color:"
   ]
  },
  {
   "cell_type": "code",
   "execution_count": 74,
   "metadata": {},
   "outputs": [],
   "source": [
    "c = CirculoColoreado(5, \"azul\")"
   ]
  },
  {
   "cell_type": "markdown",
   "metadata": {},
   "source": [
    "Y ahora ya tenemos acceso a los atributos *radio* y *color* de nuestro objeto:"
   ]
  },
  {
   "cell_type": "code",
   "execution_count": 75,
   "metadata": {},
   "outputs": [
    {
     "data": {
      "text/plain": [
       "5"
      ]
     },
     "execution_count": 75,
     "metadata": {},
     "output_type": "execute_result"
    }
   ],
   "source": [
    "c.radio"
   ]
  },
  {
   "cell_type": "code",
   "execution_count": 76,
   "metadata": {},
   "outputs": [
    {
     "data": {
      "text/plain": [
       "'azul'"
      ]
     },
     "execution_count": 76,
     "metadata": {},
     "output_type": "execute_result"
    }
   ],
   "source": [
    "c.color"
   ]
  },
  {
   "cell_type": "markdown",
   "metadata": {},
   "source": [
    "así como al método *area*:"
   ]
  },
  {
   "cell_type": "code",
   "execution_count": 77,
   "metadata": {},
   "outputs": [
    {
     "data": {
      "text/plain": [
       "78.5398"
      ]
     },
     "execution_count": 77,
     "metadata": {},
     "output_type": "execute_result"
    }
   ],
   "source": [
    "c.area()"
   ]
  },
  {
   "cell_type": "markdown",
   "metadata": {},
   "source": [
    "<div style = \"float:right\"><a style=\"text-decoration:none\" href = \"#inicio\">Inicio</a></div>"
   ]
  }
 ],
 "metadata": {
  "kernelspec": {
   "display_name": "Python 3 (ipykernel)",
   "language": "python",
   "name": "python3"
  },
  "language_info": {
   "codemirror_mode": {
    "name": "ipython",
    "version": 3
   },
   "file_extension": ".py",
   "mimetype": "text/x-python",
   "name": "python",
   "nbconvert_exporter": "python",
   "pygments_lexer": "ipython3",
   "version": "3.11.7"
  }
 },
 "nbformat": 4,
 "nbformat_minor": 4
}
