{
 "cells": [
  {
   "attachments": {
    "d9adad46-8c92-451f-aa84-ba77fc46401b.png": {
     "image/png": "[encoded data removed]"
    }
   },
   "cell_type": "markdown",
   "metadata": {},
   "source": [
    "![Cabecera cuadernos Jupyter.png](attachment:d9adad46-8c92-451f-aa84-ba77fc46401b.png)\n",
    "<a name = \"inicio\"></a>"
   ]
  },
  {
   "cell_type": "markdown",
   "metadata": {},
   "source": [
    "<div style=\"font-size: 50px;text-align: center;height:60px;padding:10px;margin:10px 0 0 0;\">Funciones</div>"
   ]
  },
  {
   "cell_type": "markdown",
   "metadata": {},
   "source": [
    "Un elemento extremadamente útil es la posibilidad de definir y usar funciones. En realidad ya hemos usado funciones (como la función *range*), pero eran funciones definidas por Python -las llamadas **funciones integradas**- y que nos ofrecen una funcionalidad concreta que no siempre va a adaptarse a nuestras necesidades. Python nos permite definir nuestra propias funciones, lo que tiene dos grandes ventajas:\n",
    "\n",
    "* Nos evita tener que escribir el mismo código una y otra vez en nuestro programa. En lugar de esto movemos ese código a la función e invocamos ésta con los argumentos adecuados cada vez que queramos ejecutar esas instrucciones.\n",
    "* También nos permiten sacar más provecho de nuestro trabajo al poder reutilizar estas funciones en diferentes programas.\n",
    "\n",
    "La estructura de una función es la siguiente:"
   ]
  },
  {
   "cell_type": "markdown",
   "metadata": {},
   "source": [
    "def nombre-de-la-función(parámetro1, parámetro2, ...):\n",
    "\n",
    "    código-de-la-función\n",
    "\n",
    "    return valor-a-devolver"
   ]
  },
  {
   "cell_type": "markdown",
   "metadata": {},
   "source": [
    "En su forma más simple, la función es llamada sin ningún argumento y no devuelve ningún valor, simplemente ejecuta el código que contiene:"
   ]
  },
  {
   "cell_type": "code",
   "execution_count": 1,
   "metadata": {},
   "outputs": [
    {
     "name": "stdout",
     "output_type": "stream",
     "text": [
      "Hola\n"
     ]
    }
   ],
   "source": [
    "def imprimeHola():\n",
    "    print(\"Hola\")\n",
    "\n",
    "imprimeHola()"
   ]
  },
  {
   "cell_type": "markdown",
   "metadata": {},
   "source": [
    "En el ejemplo anterior definimos la función -a la que hemos dado el nombre de \"*imprimeHola*\"-, entre paréntesis no añadimos el nombre de ningún parámetro y, con el sangrado que ya conocemos de cuatro espacios en blanco o un tabulador, hemos añadido el código que se ejecutará cuando se invoque la función, lo que podemos hacer con la instrucción \"*imprimeHola()*\", cosa que hacemos en la última línea de código de la celda. Obsérvese que, aun sin añadir ningún argumento, es necesario invocar la función con los paréntesis.\n",
    "\n",
    "Lo más frecuente, sin embargo, es que la función requiera de cierta información para poder realizar su trabajo -información que se le va a pasar vía argumentos- y que queramos que devuelva el resultado de dicho trabajo -lo que haremos usando la sentencia *return*-.\n",
    "\n",
    "Veamos un ejemplo concreto: Supongamos que tenemos en un diccionario las ventas realizadas por cada comercial de la empresa:"
   ]
  },
  {
   "cell_type": "code",
   "execution_count": 2,
   "metadata": {},
   "outputs": [
    {
     "data": {
      "text/plain": [
       "{'Óscar': 15000, 'Sonia': 12000, 'Ángel': 9000}"
      ]
     },
     "execution_count": 2,
     "metadata": {},
     "output_type": "execute_result"
    }
   ],
   "source": [
    "ventas_realizadas = {\"Óscar\": 15000, \"Sonia\": 12000, \"Ángel\": 9000}\n",
    "ventas_realizadas"
   ]
  },
  {
   "cell_type": "markdown",
   "metadata": {},
   "source": [
    "Y supongamos también que queremos calcular la comisión que le corresponde a cada comercial y que este cálculo es complejo (aunque en este ejemplo supondremos que simplemente es el 5% de las ventas). La estructura de nuestro programa escrita en pseudo-código sería algo como"
   ]
  },
  {
   "cell_type": "markdown",
   "metadata": {},
   "source": [
    "para cada comercial en ventas:\n",
    "\n",
    "    comisión a pagar = comisión(ventas-del-comercial)\n",
    "    imprime comisión a pagar"
   ]
  },
  {
   "cell_type": "markdown",
   "metadata": {},
   "source": [
    "En el anterior esquema, \"*comisión*\" debería ser una función que aceptase como argumento de entrada las ventas de un comercial y devolviese la comisión correspondiente. Escribamos el código llamando a esa función \"*comision*\":"
   ]
  },
  {
   "cell_type": "code",
   "execution_count": 3,
   "metadata": {},
   "outputs": [],
   "source": [
    "def comision(ventas):\n",
    "    comision_comercial = ventas * 0.05\n",
    "    return comision_comercial"
   ]
  },
  {
   "cell_type": "markdown",
   "metadata": {},
   "source": [
    "La función que hemos definido, *comision*, espera un argumento al que, dentro de la función, se va a llamar *ventas* (el parámetro *ventas*). Una vez realizados los cálculos pertinentes, la función devuelve un valor con la sentencia **return**. En este caso se trata de la comisión a pagar al comercial."
   ]
  },
  {
   "cell_type": "markdown",
   "metadata": {},
   "source": [
    "Podemos invocar nuestra función pasándole las ventas de uno de los comerciales:"
   ]
  },
  {
   "cell_type": "code",
   "execution_count": 4,
   "metadata": {},
   "outputs": [
    {
     "data": {
      "text/plain": [
       "750.0"
      ]
     },
     "execution_count": 4,
     "metadata": {},
     "output_type": "execute_result"
    }
   ],
   "source": [
    "comision(15000)"
   ]
  },
  {
   "cell_type": "markdown",
   "metadata": {},
   "source": [
    "obteniendo como resultado la comisión a pagar. Si quisiéramos aplicar nuestra función a todos los comerciales (cuya información de ventas hemos almacenado en la variable *ventas_realizadas*, podríamos hacerlo usando un buble *for*:"
   ]
  },
  {
   "cell_type": "code",
   "execution_count": 5,
   "metadata": {},
   "outputs": [
    {
     "name": "stdout",
     "output_type": "stream",
     "text": [
      "Óscar : 750.0 €\n",
      "Sonia : 600.0 €\n",
      "Ángel : 450.0 €\n"
     ]
    }
   ],
   "source": [
    "for nombre, venta in ventas_realizadas.items():\n",
    "    comision_comercial = comision(venta)\n",
    "    print(nombre, \":\", comision_comercial, \"€\")"
   ]
  },
  {
   "cell_type": "markdown",
   "metadata": {},
   "source": [
    "El bucle *for* recorre la lista de tuplas, extrayéndose los dos valores de cada tupla (la clave y el valor) y almacenándose éstos en las variables *nombre* y *venta*."
   ]
  },
  {
   "cell_type": "markdown",
   "metadata": {},
   "source": [
    "### Documentación de la función"
   ]
  },
  {
   "cell_type": "markdown",
   "metadata": {},
   "source": [
    "Si queremos documentar nuestra función, es común hacerlo añadiendo lo que se denomina el *docstring* tras la cabecera. El *docstring* se delimita por bloques de tres comillas dobles. Por ejemplo:"
   ]
  },
  {
   "cell_type": "code",
   "execution_count": 6,
   "metadata": {},
   "outputs": [],
   "source": [
    "def comision(ventas):\n",
    "    \"\"\"Calcula la comisión a pagar en función de las ventas realizadas\"\"\"\n",
    "    comision_comercial = ventas * 0.05\n",
    "    return comision_comercial"
   ]
  },
  {
   "cell_type": "markdown",
   "metadata": {},
   "source": [
    "Esta información es la que se muestra al ejecutar la función *help* pasando como argumento el nombre de nuestra función*"
   ]
  },
  {
   "cell_type": "code",
   "execution_count": 7,
   "metadata": {},
   "outputs": [
    {
     "name": "stdout",
     "output_type": "stream",
     "text": [
      "Help on function comision in module __main__:\n",
      "\n",
      "comision(ventas)\n",
      "    Calcula la comisión a pagar en función de las ventas realizadas\n",
      "\n"
     ]
    }
   ],
   "source": [
    "help(comision)"
   ]
  },
  {
   "cell_type": "markdown",
   "metadata": {},
   "source": [
    "<div style=\"font-size: 40px;text-align: center;height:50px;padding:10px;margin:0 0 10px 0;\">Tipos de argumentos</div>\n",
    "<div style = \"float:right\"><a style=\"text-decoration:none\" href = \"#inicio\">Inicio</a></div>"
   ]
  },
  {
   "cell_type": "markdown",
   "metadata": {},
   "source": [
    "Cuando invocamos una función podemos pasar nuestros argumentos según diferentes métodos que vamos a llamar de la siguiente forma:\n",
    "\n",
    "* Argumentos posicionales\n",
    "* Argumentos con valor por defecto\n",
    "* Argumentos posicionales arbitrarios\n",
    "* Argumentos clave\n",
    "* Argumentos clave arbitrarios\n",
    "\n",
    "Veámoslos uno por uno con algún ejemplo."
   ]
  },
  {
   "cell_type": "markdown",
   "metadata": {},
   "source": [
    "# Argumentos posicionales\n",
    "<div style = \"float:right\"><a style=\"text-decoration:none\" href = \"#inicio\">Inicio</a></div>"
   ]
  },
  {
   "cell_type": "markdown",
   "metadata": {},
   "source": [
    "En esta estrategia la función incluye en su definición un cierto número de parámetros y en la invocación de la función incluimos los valores que queremos pasar (uno para cada uno de los argumentos). En este caso el primer argumento será asignado al primer parámetro, el segundo argumento al segundo parámetro, etc. Por ejemplo:"
   ]
  },
  {
   "cell_type": "code",
   "execution_count": 8,
   "metadata": {},
   "outputs": [
    {
     "data": {
      "text/plain": [
       "8"
      ]
     },
     "execution_count": 8,
     "metadata": {},
     "output_type": "execute_result"
    }
   ],
   "source": [
    "def suma(a, b):\n",
    "    return a + b\n",
    "\n",
    "suma(3, 5)"
   ]
  },
  {
   "cell_type": "markdown",
   "metadata": {},
   "source": [
    "En el código anterior estamos invocando la función con dos argumentos: 3 y 5, y la cabecera de la función incluye la definición de dos parámetros: *a* y *b*. Pues bien, el parámetro *a* recibirá el valor 3 y el parámetro *b* recibirá el valor 5, cosa que podemos comprobar fácilmente:"
   ]
  },
  {
   "cell_type": "code",
   "execution_count": 9,
   "metadata": {},
   "outputs": [
    {
     "name": "stdout",
     "output_type": "stream",
     "text": [
      "a: 3\n",
      "b: 5\n"
     ]
    }
   ],
   "source": [
    "def suma(a, b):\n",
    "    print(\"a:\", a)\n",
    "    print(\"b:\", b)\n",
    "\n",
    "suma(3, 5)"
   ]
  },
  {
   "cell_type": "markdown",
   "metadata": {},
   "source": [
    "# Argumentos con valor por defecto\n",
    "<div style = \"float:right\"><a style=\"text-decoration:none\" href = \"#inicio\">Inicio</a></div>"
   ]
  },
  {
   "cell_type": "markdown",
   "metadata": {},
   "source": [
    "En este segundo método incluimos en la definición de la función los valores que tomarán los parámetros en el caso de que la invocación a la función no incluya todos los argumentos necesarios. Por ejemplo, en la siguiente función definimos dos parámetros, *a* y *b*, y damos al segundo el valor por defecto de 0:"
   ]
  },
  {
   "cell_type": "code",
   "execution_count": 10,
   "metadata": {},
   "outputs": [
    {
     "data": {
      "text/plain": [
       "8"
      ]
     },
     "execution_count": 10,
     "metadata": {},
     "output_type": "execute_result"
    }
   ],
   "source": [
    "def suma(a, b = 0):\n",
    "    return a + b\n",
    "\n",
    "suma(3, 5)"
   ]
  },
  {
   "cell_type": "markdown",
   "metadata": {},
   "source": [
    "Tal y como vemos, podemos seguir invocando la función con tantos argumentos como parámetros, y éstos siguen siendo asignados según su posición. Pero ahora podríamos no incluir argumentos para los parámetros que incluyen un valor por defecto. Por ejemplo:"
   ]
  },
  {
   "cell_type": "code",
   "execution_count": 11,
   "metadata": {},
   "outputs": [
    {
     "data": {
      "text/plain": [
       "3"
      ]
     },
     "execution_count": 11,
     "metadata": {},
     "output_type": "execute_result"
    }
   ],
   "source": [
    "def suma(a, b = 0):\n",
    "    return a + b\n",
    "\n",
    "suma(3)"
   ]
  },
  {
   "cell_type": "markdown",
   "metadata": {},
   "source": [
    "Comprobamos que la función sigue considerando los parámetros *a* y *b*, pero este último, al no haber recibido un valor en la invocación, adopta su valor por defecto, cosa que podemos comprobar con el siguiente código:"
   ]
  },
  {
   "cell_type": "code",
   "execution_count": 12,
   "metadata": {},
   "outputs": [
    {
     "name": "stdout",
     "output_type": "stream",
     "text": [
      "a: 3\n",
      "b: 0\n"
     ]
    }
   ],
   "source": [
    "def suma(a, b = 0):\n",
    "    print(\"a:\", a)\n",
    "    print(\"b:\", b)\n",
    "\n",
    "suma(3)"
   ]
  },
  {
   "cell_type": "markdown",
   "metadata": {},
   "source": [
    "El único requisito para utilizar este tipo de argumentos es que, en la definición de la función, no haya parámetros sin valor por defecto a la derecha de algún parámetro con valor por defecto. Por ejemplo, el siguiente código devolvería un error:"
   ]
  },
  {
   "cell_type": "code",
   "execution_count": 13,
   "metadata": {},
   "outputs": [
    {
     "ename": "SyntaxError",
     "evalue": "non-default argument follows default argument (1560828653.py, line 1)",
     "output_type": "error",
     "traceback": [
      "\u001b[1;36m  Cell \u001b[1;32mIn[13], line 1\u001b[1;36m\u001b[0m\n\u001b[1;33m    def suma(a = 0, b):\u001b[0m\n\u001b[1;37m                    ^\u001b[0m\n\u001b[1;31mSyntaxError\u001b[0m\u001b[1;31m:\u001b[0m non-default argument follows default argument\n"
     ]
    }
   ],
   "source": [
    "def suma(a = 0, b):\n",
    "    return a + b"
   ]
  },
  {
   "cell_type": "markdown",
   "metadata": {},
   "source": [
    "El motivo es claro: si invocamos la función con un único argumento ¿a qué parámetro se asignaría? ¿al parámetro \"*a*\" por ser el primero? ¿o al parámetro \"*b*\" ya que \"*a*\" tiene ya un valor por defecto?"
   ]
  },
  {
   "cell_type": "markdown",
   "metadata": {},
   "source": [
    "# Argumentos posicionales arbitrarios\n",
    "<div style = \"float:right\"><a style=\"text-decoration:none\" href = \"#inicio\">Inicio</a></div>"
   ]
  },
  {
   "cell_type": "markdown",
   "metadata": {},
   "source": [
    "En este tercer método estamos considerando argumentos posicionales pero, en la definición de la función, no especificamos exactamente cuántos argumentos esperamos. En su lugar, incluimos un único parámetro que va a recibir todos los argumentos que se pasen en la invocación de la función:"
   ]
  },
  {
   "cell_type": "code",
   "execution_count": 14,
   "metadata": {},
   "outputs": [],
   "source": [
    "def suma(*args):\n",
    "    pass           # Esta sentencia no hace nada\n",
    "\n",
    "suma(2, 3, 5)"
   ]
  },
  {
   "cell_type": "markdown",
   "metadata": {},
   "source": [
    "En el código anterior estamos invocando la función con tres argumentos (2, 3 y 5) pero la cabecera de nuestra función no incluye tres parámetros, sino solo uno precedido por un asterisco. El nombre de este parámetro podría ser cualquiera pero, por convenio, se utiliza el nombre **args**. Esta variable es, de hecho, una tupla que va a contener todos los argumentos recibidos, cosa que podemos ver con el siguiente código:"
   ]
  },
  {
   "cell_type": "code",
   "execution_count": 15,
   "metadata": {},
   "outputs": [
    {
     "name": "stdout",
     "output_type": "stream",
     "text": [
      "<class 'tuple'>\n",
      "(2, 3, 5)\n"
     ]
    }
   ],
   "source": [
    "def suma(*args):\n",
    "    print(type(args))\n",
    "    print(args)\n",
    "\n",
    "suma(2, 3, 5)"
   ]
  },
  {
   "cell_type": "markdown",
   "metadata": {},
   "source": [
    "Comprobamos que, en primer lugar, para hacer referencia a dicha variable tenemos que usar su nombre sin el asterisco (\"*args*\"). Y, efectivamente, vemos que se trata de una tupla que contiene los argumentos de nuestra invocación.\n",
    "\n",
    "Si queremos realizar alguna operación con estos argumentos, no tenemos más que operar con los valores de la tupla. Por ejemplo, nuestra función suma devolvería la suma de los argumentos recibidos con el siguiente código:"
   ]
  },
  {
   "cell_type": "code",
   "execution_count": 16,
   "metadata": {},
   "outputs": [
    {
     "data": {
      "text/plain": [
       "10"
      ]
     },
     "execution_count": 16,
     "metadata": {},
     "output_type": "execute_result"
    }
   ],
   "source": [
    "def suma(*args):\n",
    "    total = 0\n",
    "    for n in args:\n",
    "        total += n\n",
    "    return total\n",
    "\n",
    "suma(2, 3, 5)"
   ]
  },
  {
   "cell_type": "markdown",
   "metadata": {},
   "source": [
    "O simplemente:"
   ]
  },
  {
   "cell_type": "code",
   "execution_count": 17,
   "metadata": {},
   "outputs": [
    {
     "data": {
      "text/plain": [
       "10"
      ]
     },
     "execution_count": 17,
     "metadata": {},
     "output_type": "execute_result"
    }
   ],
   "source": [
    "def suma(*args):\n",
    "    return sum(args)\n",
    "\n",
    "suma(2, 3, 5)"
   ]
  },
  {
   "cell_type": "markdown",
   "metadata": {},
   "source": [
    "Estos argumentos posicionales arbitrarios siempre deberán aparecer a la derecha de los argumentos posicionales. Así, el siguiente código devolvería un error:"
   ]
  },
  {
   "cell_type": "code",
   "execution_count": 18,
   "metadata": {},
   "outputs": [
    {
     "ename": "TypeError",
     "evalue": "suma() missing 1 required keyword-only argument: 'c'",
     "output_type": "error",
     "traceback": [
      "\u001b[1;31m---------------------------------------------------------------------------\u001b[0m",
      "\u001b[1;31mTypeError\u001b[0m                                 Traceback (most recent call last)",
      "Cell \u001b[1;32mIn[18], line 4\u001b[0m\n\u001b[0;32m      1\u001b[0m \u001b[38;5;28;01mdef\u001b[39;00m \u001b[38;5;21msuma\u001b[39m(\u001b[38;5;241m*\u001b[39margs, c):\n\u001b[0;32m      2\u001b[0m     \u001b[38;5;28;01mreturn\u001b[39;00m \u001b[38;5;28msum\u001b[39m(args)\n\u001b[1;32m----> 4\u001b[0m suma(\u001b[38;5;241m2\u001b[39m, \u001b[38;5;241m3\u001b[39m, \u001b[38;5;241m5\u001b[39m)\n",
      "\u001b[1;31mTypeError\u001b[0m: suma() missing 1 required keyword-only argument: 'c'"
     ]
    }
   ],
   "source": [
    "def suma(*args, c):\n",
    "    return sum(args)\n",
    "\n",
    "suma(2, 3, 5)"
   ]
  },
  {
   "cell_type": "markdown",
   "metadata": {},
   "source": [
    "# Argumentos clave\n",
    "<div style = \"float:right\"><a style=\"text-decoration:none\" href = \"#inicio\">Inicio</a></div>"
   ]
  },
  {
   "cell_type": "markdown",
   "metadata": {},
   "source": [
    "En este enfoque invocamos nuestra función con tantos argumentos como parámetros se hayan determinado, pero especificando los parámetros a los que se asignan los argumentos. Por ejemplo:"
   ]
  },
  {
   "cell_type": "code",
   "execution_count": 19,
   "metadata": {},
   "outputs": [
    {
     "data": {
      "text/plain": [
       "7"
      ]
     },
     "execution_count": 19,
     "metadata": {},
     "output_type": "execute_result"
    }
   ],
   "source": [
    "def suma(a, b):\n",
    "    return a + b\n",
    "\n",
    "suma(b = 2, a = 5)"
   ]
  },
  {
   "cell_type": "markdown",
   "metadata": {},
   "source": [
    "Ahora la asignación no se realiza en función de la posición de cada argumento, sino por el nombre del parámetro que se especifique.\n",
    "\n",
    "No es imprescindible especificar el nombre de todos los parámetros siempre que respetemos una sencilla regla: no es posible usar argumentos posicionales a la derecha de un argumento clave. Por ejemplo, el siguiente código es perfectamente válido pues se invoca la función incluyendo los argumentos posicionales primero y los argumentos clave después (a la derecha de los anteriores):"
   ]
  },
  {
   "cell_type": "code",
   "execution_count": 20,
   "metadata": {},
   "outputs": [
    {
     "data": {
      "text/plain": [
       "10"
      ]
     },
     "execution_count": 20,
     "metadata": {},
     "output_type": "execute_result"
    }
   ],
   "source": [
    "def suma(a, b, c):\n",
    "    return a + b + c\n",
    "\n",
    "suma(3, c = 2, b = 5)"
   ]
  },
  {
   "cell_type": "markdown",
   "metadata": {},
   "source": [
    "Sin embargo, en el siguiente código se especifican primero los argumentos clave y después los posicionales, devolviendo un error:"
   ]
  },
  {
   "cell_type": "code",
   "execution_count": 21,
   "metadata": {},
   "outputs": [
    {
     "ename": "SyntaxError",
     "evalue": "positional argument follows keyword argument (2583638009.py, line 4)",
     "output_type": "error",
     "traceback": [
      "\u001b[1;36m  Cell \u001b[1;32mIn[21], line 4\u001b[1;36m\u001b[0m\n\u001b[1;33m    suma(b = 2, a)\u001b[0m\n\u001b[1;37m                 ^\u001b[0m\n\u001b[1;31mSyntaxError\u001b[0m\u001b[1;31m:\u001b[0m positional argument follows keyword argument\n"
     ]
    }
   ],
   "source": [
    "def suma(a, b):\n",
    "    return a + b\n",
    "\n",
    "suma(b = 2, a)"
   ]
  },
  {
   "cell_type": "markdown",
   "metadata": {},
   "source": [
    "# Argumentos clave arbitrarios\n",
    "<div style = \"float:right\"><a style=\"text-decoration:none\" href = \"#inicio\">Inicio</a></div>"
   ]
  },
  {
   "cell_type": "markdown",
   "metadata": {},
   "source": [
    "Por último, en este enfoque pasamos a la función un cierto número de argumentos clave sin que la función sepa cuántos va a recibir -tal y como ocurría con los argumentos posicionales arbitrarios- ni sus nombres. Al igual que entonces, es un único parámetro el que recibe todos los argumentos que, en este caso, están compuestos por un nombre y un valor:"
   ]
  },
  {
   "cell_type": "code",
   "execution_count": 22,
   "metadata": {},
   "outputs": [],
   "source": [
    "def suma(**kwargs):\n",
    "    pass\n",
    "\n",
    "suma(a = 1, b = 3, c = 2)"
   ]
  },
  {
   "cell_type": "markdown",
   "metadata": {},
   "source": [
    "Vemos cuál es la sintaxis: en la cabecera de la función usamos dos asteriscos seguidos por el nombre de una variable que, por convenio, es **kwargs** (podría ser otra). Esta variable es un diccionario que contiene los nombres de los parámetros y sus valores:"
   ]
  },
  {
   "cell_type": "code",
   "execution_count": 23,
   "metadata": {},
   "outputs": [
    {
     "name": "stdout",
     "output_type": "stream",
     "text": [
      "<class 'dict'>\n",
      "Clave: a Valor: 1\n",
      "Clave: b Valor: 3\n",
      "Clave: c Valor: 2\n"
     ]
    }
   ],
   "source": [
    "def suma(**kwargs):\n",
    "    print(type(kwargs))\n",
    "    for key, value in kwargs.items():\n",
    "        print(\"Clave:\", key, \"Valor:\", value)\n",
    "\n",
    "suma(a = 1, b = 3, c = 2)"
   ]
  },
  {
   "cell_type": "markdown",
   "metadata": {},
   "source": [
    "Una vez más, si queremos operar con las claves o los valores contenidos en este diccionario podemos hacerlo sin mayor problema. En nuestro ejemplo queremos devolver la suma de los valores (ignorando los nombres recibidos como clave), cosa que podríamos hacer con el siguiente código:"
   ]
  },
  {
   "cell_type": "code",
   "execution_count": 24,
   "metadata": {},
   "outputs": [
    {
     "data": {
      "text/plain": [
       "6"
      ]
     },
     "execution_count": 24,
     "metadata": {},
     "output_type": "execute_result"
    }
   ],
   "source": [
    "def suma(**kwargs):\n",
    "    total = 0\n",
    "    for value in kwargs.values():\n",
    "        total += value\n",
    "    return total\n",
    "\n",
    "suma(a = 1, b = 3, c = 2)"
   ]
  },
  {
   "cell_type": "markdown",
   "metadata": {},
   "source": [
    "O simplemente:"
   ]
  },
  {
   "cell_type": "code",
   "execution_count": 25,
   "metadata": {},
   "outputs": [
    {
     "data": {
      "text/plain": [
       "6"
      ]
     },
     "execution_count": 25,
     "metadata": {},
     "output_type": "execute_result"
    }
   ],
   "source": [
    "def suma(**kwargs):\n",
    "    return sum(kwargs.values())\n",
    "\n",
    "suma(a = 1, b = 3, c = 2)"
   ]
  },
  {
   "cell_type": "markdown",
   "metadata": {},
   "source": [
    "Estos argumentos clave arbitrarios deberán siempre aparecer a la derecha de los argumentos clave. Por ejemplo, el siguiente código devolvería un error:"
   ]
  },
  {
   "cell_type": "code",
   "execution_count": 26,
   "metadata": {},
   "outputs": [
    {
     "ename": "SyntaxError",
     "evalue": "arguments cannot follow var-keyword argument (338413003.py, line 1)",
     "output_type": "error",
     "traceback": [
      "\u001b[1;36m  Cell \u001b[1;32mIn[26], line 1\u001b[1;36m\u001b[0m\n\u001b[1;33m    def suma(**kwargs, c):\u001b[0m\n\u001b[1;37m                       ^\u001b[0m\n\u001b[1;31mSyntaxError\u001b[0m\u001b[1;31m:\u001b[0m arguments cannot follow var-keyword argument\n"
     ]
    }
   ],
   "source": [
    "def suma(**kwargs, c):\n",
    "    return sum(kwargs.values())\n",
    "\n",
    "suma(a = 1, b = 3, c = 2)"
   ]
  },
  {
   "cell_type": "markdown",
   "metadata": {},
   "source": [
    "# Combinación de tipos de argumentos\n",
    "<div style = \"float:right\"><a style=\"text-decoration:none\" href = \"#inicio\">Inicio</a></div>"
   ]
  },
  {
   "cell_type": "markdown",
   "metadata": {},
   "source": [
    "Estos enfoques se pueden combinar siempre que respetemos las reglas mencionadas:\n",
    "\n",
    "1. Los argumentos con valor por defecto siempre deberán incluirse a la derecha de los argumentos sin valor por defecto\n",
    "1. Los argumentos posiciones arbitrarios deben incluirse a la derecha de los argumentos posicionales\n",
    "1. Los argumentos clave siempre deberán incluirse a la derecha de los argumentos posicionales\n",
    "1. Los argumentos clave arbitrarios deberán incluir a la derecha de los argumentos clave\n",
    "\n",
    "Por ejemplo, la siguiente función suma todos los argumentos que recibe, con independencia de su tipo:"
   ]
  },
  {
   "cell_type": "code",
   "execution_count": 27,
   "metadata": {},
   "outputs": [
    {
     "data": {
      "text/plain": [
       "16"
      ]
     },
     "execution_count": 27,
     "metadata": {},
     "output_type": "execute_result"
    }
   ],
   "source": [
    "def suma(a, *args, b = 0, c = 0, **kwargs):\n",
    "    # Argumentos posicionales\n",
    "    total = a\n",
    "    # Argumentos posicionales arbitrarios\n",
    "    for value in args:\n",
    "        total += value\n",
    "    # Argumentos posicionales con valor por defecto\n",
    "    total += b\n",
    "    # Argumentos clave\n",
    "    total += c\n",
    "    # Argumentos clave arbitrarios\n",
    "    for value in kwargs.values():\n",
    "        total+= value\n",
    "    return total\n",
    "\n",
    "suma(2, 1, 3, 2, c = 1, d = 3, e = 4)"
   ]
  },
  {
   "cell_type": "markdown",
   "metadata": {},
   "source": [
    "En este código Python interpreta correctamente las asignaciones:\n",
    "\n",
    "* El argumento 2 es posicional\n",
    "* Los argumentos 1 y 3 son posicionales arbitrarios\n",
    "* El argumento 2 es un argumento posicional con valor por defecto\n",
    "* El argumento c = 1 es un argumento clave\n",
    "* Los argumentos d = 3 y e = 4 son argumentos clave arbitrarios"
   ]
  },
  {
   "cell_type": "markdown",
   "metadata": {},
   "source": [
    "<div style=\"font-size: 40px;text-align: center;height:50px;padding:10px;margin:0 0 10px 0;\">Funciones lambda</div>\n",
    "<div style = \"float:right\"><a style=\"text-decoration:none\" href = \"#inicio\">Inicio</a></div>"
   ]
  },
  {
   "cell_type": "markdown",
   "metadata": {},
   "source": [
    "Hay escenarios en los que queremos definir funciones muy sencillas y no necesitamos ni siquiera darles un nombre. La palabra reservada **lambda** nos permite este tipo de definiciones. La estructura general de estas funciones es la siguiente:"
   ]
  },
  {
   "cell_type": "markdown",
   "metadata": {},
   "source": [
    "f = lambda x:codigo"
   ]
  },
  {
   "cell_type": "markdown",
   "metadata": {},
   "source": [
    "Algunos comentarios al respecto:\n",
    "\n",
    "* La función creada no tiene nombre. En este caso estamos asignando la función lambda a una variable *f* a través de la cual la invocaremos, pero ni siquiera es siempre necesario hacer esto. Veremos en breve un ejemplo.\n",
    "* Tras la palabra reservada *lambda* añadimos el argumento (o argumentos) de entrada -podemos tener más de uno, o incluso no tener ninguno-.\n",
    "* A continuación de los argumentos deberemos añadir el carácter \":\".\n",
    "* Tras el carácter \":\" deberemos escribir el código de la función, que deberá estar formada por una única expresión en una única línea de código.\n",
    "\n",
    "Un ejemplo sencillo de función lambda: Supongamos que queremos calcular el cuadrado de un número. Podríamos crear una función para esto:"
   ]
  },
  {
   "cell_type": "code",
   "execution_count": 28,
   "metadata": {},
   "outputs": [
    {
     "name": "stdout",
     "output_type": "stream",
     "text": [
      "4\n",
      "25\n"
     ]
    }
   ],
   "source": [
    "def square(n):\n",
    "    return n ** 2\n",
    "\n",
    "print(square(2))\n",
    "print(square(5))"
   ]
  },
  {
   "cell_type": "markdown",
   "metadata": {},
   "source": [
    "Pero también podríamos definir una función lambda, y asignarla a una variable, llamémosla *square* también:"
   ]
  },
  {
   "cell_type": "code",
   "execution_count": 29,
   "metadata": {},
   "outputs": [
    {
     "name": "stdout",
     "output_type": "stream",
     "text": [
      "4\n",
      "25\n"
     ]
    }
   ],
   "source": [
    "square = lambda n: n ** 2\n",
    "\n",
    "print(square(2))\n",
    "print(square(5))"
   ]
  },
  {
   "cell_type": "markdown",
   "metadata": {},
   "source": [
    "Tanto si definimos la función con la sentencie **def** como si la definimos con **lambda**, la definición de la función es realmente simple. Te estarás preguntando entonces qué utilidad tiene la función lambda: el hecho es que hay escenarios en los que no es físicamente posible definir una función \"normal\" (una \"función def\") o, simplemente, no es conveniente su uso. Por ejemplo, veamos la función integrada **filter** que no vimos en la sección correspondiente (si recuerdas, ya comentamos que irían saliendo otras funciones integradas). Esta función acepta dos argumentos de entrada: una función y un iterable. Y devuelve los elementos del iterable para los que la función devuelva *True*. Es decir, la estructura de la función es:\n",
    "\n",
    "resultado = filter(función, iterable)\n",
    "\n",
    "Y la pregunta que debemos hacernos es ¿cómo metemos una función en la posición de un argumento? La respuesta ya la conocemos: con una función lambda. Veamos un ejemplo: Partimos de una lista de números enteros, positivos y negativos, y queremos extraer solo los positivos:"
   ]
  },
  {
   "cell_type": "code",
   "execution_count": 30,
   "metadata": {},
   "outputs": [
    {
     "data": {
      "text/plain": [
       "[3, 4]"
      ]
     },
     "execution_count": 30,
     "metadata": {},
     "output_type": "execute_result"
    }
   ],
   "source": [
    "resultado = filter(lambda n: n > 0, [-2, 3, 0, -1, 4])\n",
    "list(resultado)"
   ]
  },
  {
   "cell_type": "markdown",
   "metadata": {},
   "source": [
    "Como vemos, la función lambda definida acepta un único argumento de entrada, *n*, y devuelve el resultado de evaluar la expresión n > 0. Es decir, si n es mayor que cero la función devuelve el booleano *True*. Y si no lo es, devuelve *False*. Para la lista de números [-2, 3, 0, -1, 4] los resultados devueltos van a ser [False, True, False, False, True], y la función *filter* va a devolver, tal y como se ha comentado, los elementos para los que la función devuelva *True*: el segundo elemento (2) y el último (4). En el ejemplo se ha convertido a lista el resultado devuelto por la función filter pues, como ya sabemos que ocurre en ocasiones, dicho resultado es una estructura de datos no visible directamente."
   ]
  },
  {
   "cell_type": "markdown",
   "metadata": {},
   "source": [
    "También podríamos haber creado una función *def* externa, pero el proceso hubiera resultado un poco más engorroso:"
   ]
  },
  {
   "cell_type": "code",
   "execution_count": 31,
   "metadata": {},
   "outputs": [
    {
     "data": {
      "text/plain": [
       "[3, 4]"
      ]
     },
     "execution_count": 31,
     "metadata": {},
     "output_type": "execute_result"
    }
   ],
   "source": [
    "def positivo(n):\n",
    "    return n >0\n",
    "\n",
    "resultado = filter(positivo, [-2, 3, 0, -1, 4])\n",
    "list(resultado)"
   ]
  },
  {
   "cell_type": "markdown",
   "metadata": {},
   "source": [
    "Y comentábamos al principio de este bloque que una función lambda ni siquiera tiene que ser asignada a una variable. Y esto es así porque podemos usar la función *lambda* directamente:"
   ]
  },
  {
   "cell_type": "code",
   "execution_count": 32,
   "metadata": {},
   "outputs": [
    {
     "data": {
      "text/plain": [
       "25"
      ]
     },
     "execution_count": 32,
     "metadata": {},
     "output_type": "execute_result"
    }
   ],
   "source": [
    "(lambda n: n ** 2)(5)"
   ]
  },
  {
   "cell_type": "markdown",
   "metadata": {},
   "source": [
    "<div style = \"float:right\"><a style=\"text-decoration:none\" href = \"#inicio\">Inicio</a></div>"
   ]
  }
 ],
 "metadata": {
  "kernelspec": {
   "display_name": "Python 3 (ipykernel)",
   "language": "python",
   "name": "python3"
  },
  "language_info": {
   "codemirror_mode": {
    "name": "ipython",
    "version": 3
   },
   "file_extension": ".py",
   "mimetype": "text/x-python",
   "name": "python",
   "nbconvert_exporter": "python",
   "pygments_lexer": "ipython3",
   "version": "3.11.7"
  }
 },
 "nbformat": 4,
 "nbformat_minor": 4
}
