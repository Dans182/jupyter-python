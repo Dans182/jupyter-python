{
 "cells": [
  {
   "attachments": {
    "5f695534-e58c-4207-be3c-d793db8ee1e3.png": {
     "image/png": "[encoded data removed]"
    }
   },
   "cell_type": "markdown",
   "metadata": {},
   "source": [
    "![Cabecera cuadernos Jupyter.png](attachment:5f695534-e58c-4207-be3c-d793db8ee1e3.png)\n",
    "<a name = \"inicio\"></a>"
   ]
  },
  {
   "cell_type": "markdown",
   "metadata": {},
   "source": [
    "<a name = \"inicio\"></a>"
   ]
  },
  {
   "cell_type": "markdown",
   "metadata": {},
   "source": [
    "<div style=\"font-size: 40px;text-align: center;height:50px;padding:10px;margin:0 0 10px 0;\">Comprehensions</div>"
   ]
  },
  {
   "cell_type": "markdown",
   "metadata": {},
   "source": [
    "Python dispone de una estructura que nos permite crear listas, conjuntos, diccionarios y generadores a partir de otras estructuras de una forma mucho más eficiente y legible que utilizando bucles *for*. Veámosla..."
   ]
  },
  {
   "cell_type": "markdown",
   "metadata": {},
   "source": [
    "# List comprehensions"
   ]
  },
  {
   "cell_type": "markdown",
   "metadata": {},
   "source": [
    "Esta herramienta -con nombre de difícil traducción- ofrece un método conciso para la creación de listas. Frecuentemente nos encontramos con que una lista se forma al aplicar ciertas operaciones a los elementos de otra secuencia de valores. Por ejemplo, si quisiéramos crear una lista con los cuadrados de los números entre 1 y 5, podríamos hacerlo con el siguiente bucle for:"
   ]
  },
  {
   "cell_type": "code",
   "execution_count": 1,
   "metadata": {},
   "outputs": [
    {
     "data": {
      "text/plain": [
       "[1, 4, 9, 16, 25]"
      ]
     },
     "execution_count": 1,
     "metadata": {},
     "output_type": "execute_result"
    }
   ],
   "source": [
    "m = []\n",
    "for n in [1, 2, 3, 4, 5]:\n",
    "    m.append(n ** 2)\n",
    "\n",
    "m"
   ]
  },
  {
   "cell_type": "markdown",
   "metadata": {},
   "source": [
    "Básicamente, lo que estamos haciendo es recorrer la lista [1, 2, 3, 4, 5] y crear los elementos de la nueva lista *m* (inicialmente vacía) elevando al cuadrado cada valor recorrido. Pues bien, las \"list comprehensions\" nos permiten hacer esto mismo de una forma más sucinta:"
   ]
  },
  {
   "cell_type": "code",
   "execution_count": 2,
   "metadata": {},
   "outputs": [
    {
     "data": {
      "text/plain": [
       "[1, 4, 9, 16, 25]"
      ]
     },
     "execution_count": 2,
     "metadata": {},
     "output_type": "execute_result"
    }
   ],
   "source": [
    "m = [n ** 2 for n in [1, 2, 3, 4, 5]]\n",
    "m"
   ]
  },
  {
   "cell_type": "markdown",
   "metadata": {},
   "source": [
    "O, un poco más simplificado:"
   ]
  },
  {
   "cell_type": "code",
   "execution_count": 3,
   "metadata": {},
   "outputs": [
    {
     "data": {
      "text/plain": [
       "[1, 4, 9, 16, 25]"
      ]
     },
     "execution_count": 3,
     "metadata": {},
     "output_type": "execute_result"
    }
   ],
   "source": [
    "m = [n ** 2 for n in range(1, 6)]\n",
    "m"
   ]
  },
  {
   "cell_type": "markdown",
   "metadata": {},
   "source": [
    "La estructura de una \"*list comprehension*\" es la siguiente: entre corchetes situamos una expresión (\"n ** 2\" en nuestro ejemplo) que es la que va a generar los valores de la lista, seguida de una sentencia *for* que definirá los datos de partida."
   ]
  },
  {
   "cell_type": "markdown",
   "metadata": {},
   "source": [
    "### Condiciones"
   ]
  },
  {
   "cell_type": "markdown",
   "metadata": {},
   "source": [
    "Es posible añadir también una condición para escoger los datos de partida a considerar añadiendo una sentencia *if* después de la sentencia *for*. Por ejemplo, supongamos que partimos de la lista de números entre 1 y 10 y queremos calcular el cuadrado solo de los números pares. Podríamos hacerlo del siguiente modo:"
   ]
  },
  {
   "cell_type": "code",
   "execution_count": 4,
   "metadata": {},
   "outputs": [
    {
     "data": {
      "text/plain": [
       "[4, 16, 36, 64, 100]"
      ]
     },
     "execution_count": 4,
     "metadata": {},
     "output_type": "execute_result"
    }
   ],
   "source": [
    "m = [n ** 2 for n in range(1, 11) if n % 2 == 0]\n",
    "m"
   ]
  },
  {
   "cell_type": "markdown",
   "metadata": {},
   "source": [
    "Si quisiéramos leer esto sería algo como \"*genera una lista con el cuadrado de los números, perteneciendo estos números al rango 1-10 (ambos incluidos) pero solo si el número es par*\"."
   ]
  },
  {
   "cell_type": "markdown",
   "metadata": {},
   "source": [
    "### Anidación de bucles"
   ]
  },
  {
   "cell_type": "markdown",
   "metadata": {},
   "source": [
    "De hecho, podríamos incluir varias sentencias *for* y varias sentencias *if* en la \"*list comprehension*\". Por ejemplo:"
   ]
  },
  {
   "cell_type": "code",
   "execution_count": 5,
   "metadata": {},
   "outputs": [],
   "source": [
    "cities = [\"Madrid\", \"Londres\", \"Ámsterdam\", \"Múnich\"]\n",
    "years = [2017, 2018, 2019, 2020]"
   ]
  },
  {
   "cell_type": "code",
   "execution_count": 6,
   "metadata": {},
   "outputs": [
    {
     "data": {
      "text/plain": [
       "[('Madrid', 2017),\n",
       " ('Madrid', 2018),\n",
       " ('Madrid', 2019),\n",
       " ('Madrid', 2020),\n",
       " ('Londres', 2017),\n",
       " ('Londres', 2018),\n",
       " ('Londres', 2019),\n",
       " ('Londres', 2020),\n",
       " ('Ámsterdam', 2017),\n",
       " ('Ámsterdam', 2018),\n",
       " ('Ámsterdam', 2019),\n",
       " ('Ámsterdam', 2020),\n",
       " ('Múnich', 2017),\n",
       " ('Múnich', 2018),\n",
       " ('Múnich', 2019),\n",
       " ('Múnich', 2020)]"
      ]
     },
     "execution_count": 6,
     "metadata": {},
     "output_type": "execute_result"
    }
   ],
   "source": [
    "[(c, y) for c in cities for y in years]"
   ]
  },
  {
   "cell_type": "markdown",
   "metadata": {},
   "source": [
    "Comprobamos que el resultado es equivalente al devuelto por el siguiente código:"
   ]
  },
  {
   "cell_type": "code",
   "execution_count": 7,
   "metadata": {},
   "outputs": [
    {
     "data": {
      "text/plain": [
       "[('Madrid', 2017),\n",
       " ('Madrid', 2018),\n",
       " ('Madrid', 2019),\n",
       " ('Madrid', 2020),\n",
       " ('Londres', 2017),\n",
       " ('Londres', 2018),\n",
       " ('Londres', 2019),\n",
       " ('Londres', 2020),\n",
       " ('Ámsterdam', 2017),\n",
       " ('Ámsterdam', 2018),\n",
       " ('Ámsterdam', 2019),\n",
       " ('Ámsterdam', 2020),\n",
       " ('Múnich', 2017),\n",
       " ('Múnich', 2018),\n",
       " ('Múnich', 2019),\n",
       " ('Múnich', 2020)]"
      ]
     },
     "execution_count": 7,
     "metadata": {},
     "output_type": "execute_result"
    }
   ],
   "source": [
    "a = []\n",
    "for c in cities:\n",
    "    for y in years:\n",
    "        a.append((c, y))\n",
    "a"
   ]
  },
  {
   "cell_type": "markdown",
   "metadata": {},
   "source": [
    "Por supuesto, podríamos anidar tantos bucles como quisiéramos:"
   ]
  },
  {
   "cell_type": "code",
   "execution_count": 8,
   "metadata": {},
   "outputs": [
    {
     "data": {
      "text/plain": [
       "[('a1', 'b1', 'c1', 'd1'),\n",
       " ('a1', 'b1', 'c1', 'd2'),\n",
       " ('a1', 'b1', 'c2', 'd1'),\n",
       " ('a1', 'b1', 'c2', 'd2'),\n",
       " ('a1', 'b2', 'c1', 'd1'),\n",
       " ('a1', 'b2', 'c1', 'd2'),\n",
       " ('a1', 'b2', 'c2', 'd1'),\n",
       " ('a1', 'b2', 'c2', 'd2'),\n",
       " ('a2', 'b1', 'c1', 'd1'),\n",
       " ('a2', 'b1', 'c1', 'd2'),\n",
       " ('a2', 'b1', 'c2', 'd1'),\n",
       " ('a2', 'b1', 'c2', 'd2'),\n",
       " ('a2', 'b2', 'c1', 'd1'),\n",
       " ('a2', 'b2', 'c1', 'd2'),\n",
       " ('a2', 'b2', 'c2', 'd1'),\n",
       " ('a2', 'b2', 'c2', 'd2')]"
      ]
     },
     "execution_count": 8,
     "metadata": {},
     "output_type": "execute_result"
    }
   ],
   "source": [
    "[(a, b, c, d) for a in [\"a1\", \"a2\"] for b in [\"b1\", \"b2\"] for c in [\"c1\", \"c2\"] for d in [\"d1\", \"d2\"]]"
   ]
  },
  {
   "cell_type": "markdown",
   "metadata": {},
   "source": [
    "En estos casos resulta imprescindible especificar la estructura que van a tener los datos generados. En los ejemplos anteriores estamos generando una lista de tuplas (obsérvese los paréntesis: [(a, b, c, d) for...), pero podría ser otro tipo de estructura. En el siguiente ejemplo generamos una lista de listas:"
   ]
  },
  {
   "cell_type": "code",
   "execution_count": 9,
   "metadata": {},
   "outputs": [
    {
     "data": {
      "text/plain": [
       "[['Madrid', 2017],\n",
       " ['Madrid', 2018],\n",
       " ['Madrid', 2019],\n",
       " ['Madrid', 2020],\n",
       " ['Londres', 2017],\n",
       " ['Londres', 2018],\n",
       " ['Londres', 2019],\n",
       " ['Londres', 2020],\n",
       " ['Ámsterdam', 2017],\n",
       " ['Ámsterdam', 2018],\n",
       " ['Ámsterdam', 2019],\n",
       " ['Ámsterdam', 2020],\n",
       " ['Múnich', 2017],\n",
       " ['Múnich', 2018],\n",
       " ['Múnich', 2019],\n",
       " ['Múnich', 2020]]"
      ]
     },
     "execution_count": 9,
     "metadata": {},
     "output_type": "execute_result"
    }
   ],
   "source": [
    "[[c, y] for c in cities for y in years]"
   ]
  },
  {
   "cell_type": "markdown",
   "metadata": {},
   "source": [
    "No se permite en ningún caso algo como lo siguiente:"
   ]
  },
  {
   "cell_type": "code",
   "execution_count": 10,
   "metadata": {},
   "outputs": [],
   "source": [
    "# [c, y for c in cities for y in years]"
   ]
  },
  {
   "cell_type": "markdown",
   "metadata": {},
   "source": [
    "### Anidación con condiciones"
   ]
  },
  {
   "cell_type": "markdown",
   "metadata": {},
   "source": [
    "Cuando anidamos varios bucles, sigue siendo posible aplicar condiciones a todos ellos. Por ejemplo, seguimos con el mismo ejemplo que acabamos de ver:"
   ]
  },
  {
   "cell_type": "code",
   "execution_count": 11,
   "metadata": {},
   "outputs": [],
   "source": [
    "cities = [\"Madrid\", \"Londres\", \"Ámsterdam\", \"Múnich\"]\n",
    "years = [2017, 2018, 2019, 2020]"
   ]
  },
  {
   "cell_type": "markdown",
   "metadata": {},
   "source": [
    "Si quisiéramos crear una lista de tuplas formadas por las combinaciones de ciudades que empiezan por la letra \"M\" y los años pares, podríamos hacerlo de la siguiente forma:"
   ]
  },
  {
   "cell_type": "code",
   "execution_count": 12,
   "metadata": {},
   "outputs": [
    {
     "data": {
      "text/plain": [
       "[('Madrid', 2018), ('Madrid', 2020), ('Múnich', 2018), ('Múnich', 2020)]"
      ]
     },
     "execution_count": 12,
     "metadata": {},
     "output_type": "execute_result"
    }
   ],
   "source": [
    "[(c, y) for c in cities for y in years if c.startswith(\"M\") if y % 2 == 0]"
   ]
  },
  {
   "cell_type": "markdown",
   "metadata": {},
   "source": [
    "Tal y como vemos, las condiciones se suceden una tras otra sin añadir ningún operador lógico entre ellas.\n",
    "\n",
    "También podríamos haber combinado ambas condiciones en una sola:"
   ]
  },
  {
   "cell_type": "code",
   "execution_count": 13,
   "metadata": {},
   "outputs": [
    {
     "data": {
      "text/plain": [
       "[('Madrid', 2018), ('Madrid', 2020), ('Múnich', 2018), ('Múnich', 2020)]"
      ]
     },
     "execution_count": 13,
     "metadata": {},
     "output_type": "execute_result"
    }
   ],
   "source": [
    "[(c, y) for c in cities for y in years if (c.startswith(\"M\")) and (y % 2 == 0)]"
   ]
  },
  {
   "cell_type": "markdown",
   "metadata": {},
   "source": [
    "Las condiciones pueden \"moverse\" por la expresión siempre que hagan mención a una variable que ya haya sido declarada (si leemos la expresión de izquierda a derecha):"
   ]
  },
  {
   "cell_type": "code",
   "execution_count": 14,
   "metadata": {},
   "outputs": [
    {
     "data": {
      "text/plain": [
       "[('Madrid', 2018), ('Madrid', 2020), ('Múnich', 2018), ('Múnich', 2020)]"
      ]
     },
     "execution_count": 14,
     "metadata": {},
     "output_type": "execute_result"
    }
   ],
   "source": [
    "[(c, y) for c in cities if c.startswith(\"M\") for y in years if y % 2 == 0]"
   ]
  },
  {
   "cell_type": "markdown",
   "metadata": {},
   "source": [
    "En el anterior ejemplo obtendríamos un error si intercambiásemos las dos condiciones:"
   ]
  },
  {
   "cell_type": "code",
   "execution_count": 15,
   "metadata": {},
   "outputs": [
    {
     "name": "stdout",
     "output_type": "stream",
     "text": [
      "Error\n"
     ]
    }
   ],
   "source": [
    "try:\n",
    "    [(c, y) for c in cities if y % 2 == 0 for y in years if c.startswith(\"M\")]\n",
    "except:\n",
    "    print(\"Error\")"
   ]
  },
  {
   "cell_type": "markdown",
   "metadata": {},
   "source": [
    "...pues la condición \"if y % 2 == 0\" se estaría ejecutando antes de declarar la variable \"y\"."
   ]
  },
  {
   "cell_type": "markdown",
   "metadata": {},
   "source": [
    "### Rendimiento de la anidación con bucles"
   ]
  },
  {
   "cell_type": "markdown",
   "metadata": {},
   "source": [
    "En todo caso, aun cuando desde un punto de vista conceptual sea posible \"mover\" las condiciones (respetando siempre la regla de que la variable deba ser declarada antes que la condición) el rendimiento del código no es siempre el mismo.\n",
    "\n",
    "Por ejemplo, partamos de las siguientes dos listas de diez mil valores aleatorios 0 o 1:"
   ]
  },
  {
   "cell_type": "code",
   "execution_count": 16,
   "metadata": {},
   "outputs": [],
   "source": [
    "import random"
   ]
  },
  {
   "cell_type": "code",
   "execution_count": 17,
   "metadata": {},
   "outputs": [],
   "source": [
    "a = random.choices([0, 1], k = 10000)\n",
    "b = random.choices([0, 1], k = 10000)"
   ]
  },
  {
   "cell_type": "markdown",
   "metadata": {},
   "source": [
    "Supongamos que queremos recorrerlas de forma anidada extrayendo las parejas de unos. Es decir, queremos replicar el comportamiento del siguiente código:"
   ]
  },
  {
   "cell_type": "code",
   "execution_count": 18,
   "metadata": {},
   "outputs": [
    {
     "name": "stdout",
     "output_type": "stream",
     "text": [
      "CPU times: total: 13 s\n",
      "Wall time: 13 s\n"
     ]
    }
   ],
   "source": [
    "%%time\n",
    "m = []\n",
    "for x in a:\n",
    "    for y in b:\n",
    "        if (x == 1) & (y == 1):\n",
    "            m.append((x, y))"
   ]
  },
  {
   "cell_type": "code",
   "execution_count": 19,
   "metadata": {},
   "outputs": [
    {
     "name": "stdout",
     "output_type": "stream",
     "text": [
      "25,148,929\n"
     ]
    }
   ],
   "source": [
    "print(f\"{len(m):,d}\")"
   ]
  },
  {
   "cell_type": "markdown",
   "metadata": {},
   "source": [
    "Comprobamos que el resultado está formado por unos 25 millones de tuplas.\n",
    "\n",
    "Ahora creamos nuestra primera versión de la list comprehension:"
   ]
  },
  {
   "cell_type": "code",
   "execution_count": 20,
   "metadata": {},
   "outputs": [
    {
     "name": "stdout",
     "output_type": "stream",
     "text": [
      "CPU times: total: 4.08 s\n",
      "Wall time: 4.12 s\n"
     ]
    }
   ],
   "source": [
    "%%time\n",
    "c = [(x, y) for x in a for y in b if x == 1 if y == 1]"
   ]
  },
  {
   "cell_type": "markdown",
   "metadata": {},
   "source": [
    "Tal y como está escrita (y tal y como se ha escrito el bucle *for* inicial) se recorren todos los valores de la lista \"a\", para cada uno de ellos se recorren todos los valores de la lista \"b\" y solo al final se aplican las condiciones.\n",
    "\n",
    "Pero podríamos mejorarlo de la siguiente forma:"
   ]
  },
  {
   "cell_type": "code",
   "execution_count": 21,
   "metadata": {},
   "outputs": [
    {
     "name": "stdout",
     "output_type": "stream",
     "text": [
      "CPU times: total: 3.14 s\n",
      "Wall time: 3.13 s\n"
     ]
    }
   ],
   "source": [
    "%%time\n",
    "c = [(x, y) for x in a if x == 1 for y in b if y == 1]"
   ]
  },
  {
   "cell_type": "markdown",
   "metadata": {},
   "source": [
    "Ahora, recorremos la lista \"a\" y solo cuando toma el valor 1, recorremos la lista \"b\".\n",
    "\n",
    "De hecho, podríamos preguntarnos si mejoraría el rendimiento de la primera versión de nuestra list comprehension con el siguiente código:"
   ]
  },
  {
   "cell_type": "code",
   "execution_count": 22,
   "metadata": {},
   "outputs": [
    {
     "name": "stdout",
     "output_type": "stream",
     "text": [
      "CPU times: total: 4.42 s\n",
      "Wall time: 4.46 s\n"
     ]
    }
   ],
   "source": [
    "%%time\n",
    "c = [(x, y) for x in a for y in b if (x == 1) and (y == 1)]"
   ]
  },
  {
   "cell_type": "markdown",
   "metadata": {},
   "source": [
    "pero comprobamos que no es así."
   ]
  },
  {
   "cell_type": "markdown",
   "metadata": {},
   "source": [
    "Comprobamos, en todo caso, que los tiempos de ejecución de la list comprehension es mucho menor que el de los bucles *for* que estamos emulando."
   ]
  },
  {
   "cell_type": "markdown",
   "metadata": {},
   "source": [
    "# Set comprehensions"
   ]
  },
  {
   "cell_type": "markdown",
   "metadata": {},
   "source": [
    "También es posible generar conjuntos con el mismo enfoque:"
   ]
  },
  {
   "cell_type": "code",
   "execution_count": 23,
   "metadata": {},
   "outputs": [
    {
     "data": {
      "text/plain": [
       "{0, 4, 16, 36, 64, 100}"
      ]
     },
     "execution_count": 23,
     "metadata": {},
     "output_type": "execute_result"
    }
   ],
   "source": [
    "{n ** 2 for n in range(11) if n % 2 == 0}"
   ]
  },
  {
   "cell_type": "markdown",
   "metadata": {},
   "source": [
    "Vemos que el único cambio es el uso de las llaves para delimitar la expresión."
   ]
  },
  {
   "cell_type": "markdown",
   "metadata": {},
   "source": [
    "# Dict comprehensions"
   ]
  },
  {
   "cell_type": "markdown",
   "metadata": {},
   "source": [
    "Los **Dictionary comprehensions** -o **Dict comprehensions** para abreviar- son estructuras semejantes a las vistas pero, tal y como indica su nombre, generan diccionarios. Un ejemplo es el siguiente:"
   ]
  },
  {
   "cell_type": "code",
   "execution_count": 24,
   "metadata": {},
   "outputs": [],
   "source": [
    "cities = [\"Madrid\", \"Londres\", \"Ámsterdam\", \"Múnich\"]"
   ]
  },
  {
   "cell_type": "code",
   "execution_count": 25,
   "metadata": {},
   "outputs": [
    {
     "data": {
      "text/plain": [
       "{'Madrid': 6, 'Londres': 7, 'Ámsterdam': 9, 'Múnich': 6}"
      ]
     },
     "execution_count": 25,
     "metadata": {},
     "output_type": "execute_result"
    }
   ],
   "source": [
    "{c: len(c) for c in cities}"
   ]
  },
  {
   "cell_type": "markdown",
   "metadata": {},
   "source": [
    "Comprobamos que, en este caso, la expresión que define los datos a generar está compuesta de una clave (\"c\"), seguida de dos puntos (\":\") y, por último, el valor asociado a la clave (\"len(c)\")."
   ]
  },
  {
   "cell_type": "markdown",
   "metadata": {},
   "source": [
    "En este ejemplo hemos hecho referencia a una única lista, pero no tiene por qué ser así:"
   ]
  },
  {
   "cell_type": "code",
   "execution_count": 26,
   "metadata": {},
   "outputs": [],
   "source": [
    "cities = [\"Madrid\", \"Londres\", \"Ámsterdam\", \"Múnich\"]\n",
    "years = [2017, 2018, 2019, 2020]"
   ]
  },
  {
   "cell_type": "code",
   "execution_count": 27,
   "metadata": {},
   "outputs": [
    {
     "data": {
      "text/plain": [
       "{'Madrid': 2020, 'Londres': 2020, 'Ámsterdam': 2020, 'Múnich': 2020}"
      ]
     },
     "execution_count": 27,
     "metadata": {},
     "output_type": "execute_result"
    }
   ],
   "source": [
    "{c: y for c in cities for y in years}"
   ]
  },
  {
   "cell_type": "markdown",
   "metadata": {},
   "source": [
    "Obsérvese que, en este caso, también se está simulando el mismo bucle *for* anidado que ya hemos visto (aunque, en este caso, para generar parejas clave-valor):"
   ]
  },
  {
   "cell_type": "code",
   "execution_count": 28,
   "metadata": {},
   "outputs": [
    {
     "data": {
      "text/plain": [
       "{'Madrid': 2020, 'Londres': 2020, 'Ámsterdam': 2020, 'Múnich': 2020}"
      ]
     },
     "execution_count": 28,
     "metadata": {},
     "output_type": "execute_result"
    }
   ],
   "source": [
    "d = {}\n",
    "for c in cities:\n",
    "    for y in years:\n",
    "        d.update({c: y})\n",
    "d"
   ]
  },
  {
   "cell_type": "markdown",
   "metadata": {},
   "source": [
    "Solo subsisten cuatro parejas clave-valor (en lugar de 16) pues ya sabemos que en un diccionario no puede haber claves repetidas, por lo que para cada valor c se recorren todos los años en la variable \"y\" y se va sobrescribiendo el valor que pueda existir para la clave c.\n",
    "\n",
    "Si quisiéramos obtener un diccionario que relacionase cada par de valores de *cities* y *years*, podríamos hacerlo con la función [zip](https://docs.python.org/3/library/functions.html#zip) que ya hemos visto:"
   ]
  },
  {
   "cell_type": "code",
   "execution_count": 29,
   "metadata": {},
   "outputs": [
    {
     "data": {
      "text/plain": [
       "{'Madrid': 2017, 'Londres': 2018, 'Ámsterdam': 2019, 'Múnich': 2020}"
      ]
     },
     "execution_count": 29,
     "metadata": {},
     "output_type": "execute_result"
    }
   ],
   "source": [
    "{c: y for c, y in zip(cities, years)}"
   ]
  },
  {
   "cell_type": "markdown",
   "metadata": {},
   "source": [
    "# Generator expression"
   ]
  },
  {
   "cell_type": "markdown",
   "metadata": {},
   "source": [
    "Por último, también es posible crear generadores usando la misma estructura. Por ejemplo, podríamos crear un generador que devolviese los cuadrados de los primeros 10 números enteros (a partir del 0) con la siguiente expresión:"
   ]
  },
  {
   "cell_type": "code",
   "execution_count": 30,
   "metadata": {},
   "outputs": [],
   "source": [
    "s = (n ** 2 for n in range(11))"
   ]
  },
  {
   "cell_type": "markdown",
   "metadata": {},
   "source": [
    "Vemos que el único cambio es el uso de los paréntesis en lugar de los corchetes o las llaves. El resultado devuelto es un generador:"
   ]
  },
  {
   "cell_type": "code",
   "execution_count": 31,
   "metadata": {},
   "outputs": [
    {
     "data": {
      "text/plain": [
       "generator"
      ]
     },
     "execution_count": 31,
     "metadata": {},
     "output_type": "execute_result"
    }
   ],
   "source": [
    "type(s)"
   ]
  },
  {
   "cell_type": "markdown",
   "metadata": {},
   "source": [
    "La ventaja del uso de generadores es que los valores \"contenidos\" en él no ocupan espacio en memoria como lo harían en una lista, conjunto o diccionario, sino que solo se generarán cuando se solicite."
   ]
  },
  {
   "cell_type": "markdown",
   "metadata": {},
   "source": [
    "Por ejemplo, podemos extraer los valores con un bucle:"
   ]
  },
  {
   "cell_type": "code",
   "execution_count": 32,
   "metadata": {},
   "outputs": [
    {
     "name": "stdout",
     "output_type": "stream",
     "text": [
      "0\n",
      "1\n",
      "4\n",
      "9\n",
      "16\n",
      "25\n",
      "36\n",
      "49\n",
      "64\n",
      "81\n",
      "100\n"
     ]
    }
   ],
   "source": [
    "for n in s:\n",
    "    print(n)"
   ]
  },
  {
   "cell_type": "markdown",
   "metadata": {},
   "source": [
    "O podríamos sumar dichos valores pasando el generador como argumento a la función [sum](https://docs.python.org/3/library/functions.html#sum), por poner un segundo ejemplo:"
   ]
  },
  {
   "cell_type": "code",
   "execution_count": 33,
   "metadata": {},
   "outputs": [
    {
     "data": {
      "text/plain": [
       "385"
      ]
     },
     "execution_count": 33,
     "metadata": {},
     "output_type": "execute_result"
    }
   ],
   "source": [
    "s = (n ** 2 for n in range(11))\n",
    "sum(s)"
   ]
  },
  {
   "cell_type": "markdown",
   "metadata": {},
   "source": [
    "<div style = \"float:right\"><a style=\"text-decoration:none\" href = \"#inicio\">Inicio</a></div>"
   ]
  }
 ],
 "metadata": {
  "kernelspec": {
   "display_name": "Python 3 (ipykernel)",
   "language": "python",
   "name": "python3"
  },
  "language_info": {
   "codemirror_mode": {
    "name": "ipython",
    "version": 3
   },
   "file_extension": ".py",
   "mimetype": "text/x-python",
   "name": "python",
   "nbconvert_exporter": "python",
   "pygments_lexer": "ipython3",
   "version": "3.11.7"
  }
 },
 "nbformat": 4,
 "nbformat_minor": 4
}
