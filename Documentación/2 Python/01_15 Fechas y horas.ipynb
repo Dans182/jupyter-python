{
 "cells": [
  {
   "attachments": {
    "681808f2-9777-4b02-8340-43884f26a29e.png": {
     "image/png": "[encoded data removed]"
    }
   },
   "cell_type": "markdown",
   "metadata": {},
   "source": [
    "![Cabecera cuadernos Jupyter.png](attachment:681808f2-9777-4b02-8340-43884f26a29e.png)\n",
    "<a name = \"inicio\"></a>"
   ]
  },
  {
   "cell_type": "markdown",
   "metadata": {},
   "source": [
    "<div style=\"font-size: 50px;text-align: center;height:60px;padding:10px;margin:10px 0 0 0;\">Fechas y horas</div>"
   ]
  },
  {
   "cell_type": "markdown",
   "metadata": {},
   "source": [
    "<div style = \"float:right\"><a style=\"text-decoration:none\" href = \"#inicio\">Inicio</a></div>"
   ]
  },
  {
   "cell_type": "markdown",
   "metadata": {},
   "source": [
    "Para trabajar con fechas y horas en Python se utilizan principalmente dos bibliotecas integradas: **datetime** y **time**. Comencemos importando *datetime*:"
   ]
  },
  {
   "cell_type": "code",
   "execution_count": 1,
   "metadata": {},
   "outputs": [],
   "source": [
    "import datetime"
   ]
  },
  {
   "cell_type": "markdown",
   "metadata": {},
   "source": [
    "# Librería datetime"
   ]
  },
  {
   "cell_type": "markdown",
   "metadata": {},
   "source": [
    "La biblioteca **datetime** proporciona clases para manipular fechas y horas. Veamos algunas de estas clases:"
   ]
  },
  {
   "cell_type": "markdown",
   "metadata": {},
   "source": [
    "# Creación de objetos de fecha y hora"
   ]
  },
  {
   "cell_type": "markdown",
   "metadata": {},
   "source": [
    "### Fecha"
   ]
  },
  {
   "cell_type": "markdown",
   "metadata": {},
   "source": [
    "La creación de un objeto que represente una fecha se realiza con la clase **date**. El constructor de esta clase requiere que le pasemos como argumentos el año, el mes y el día:"
   ]
  },
  {
   "cell_type": "code",
   "execution_count": 2,
   "metadata": {},
   "outputs": [
    {
     "name": "stdout",
     "output_type": "stream",
     "text": [
      "La fecha es 1970-10-28\n"
     ]
    }
   ],
   "source": [
    "fecha = datetime.date(year = 1970, month = 10, day = 28)\n",
    "print(f\"La fecha es {fecha}\")"
   ]
  },
  {
   "cell_type": "markdown",
   "metadata": {},
   "source": [
    "No es imprescindible incluir los nombres de los parámetros siempre que el orden de los argumentos sea el correcto. De esta forma, la fecha anterior también se podría haber escrito así:"
   ]
  },
  {
   "cell_type": "code",
   "execution_count": 3,
   "metadata": {},
   "outputs": [
    {
     "name": "stdout",
     "output_type": "stream",
     "text": [
      "La fecha es 1970-10-28\n"
     ]
    }
   ],
   "source": [
    "fecha = datetime.date(1970, 10, 28)\n",
    "print(f\"La fecha es {fecha}\")"
   ]
  },
  {
   "cell_type": "markdown",
   "metadata": {},
   "source": [
    "Podemos comprobar que esta fecha es de tipo \"date\":"
   ]
  },
  {
   "cell_type": "code",
   "execution_count": 4,
   "metadata": {},
   "outputs": [
    {
     "data": {
      "text/plain": [
       "datetime.date"
      ]
     },
     "execution_count": 4,
     "metadata": {},
     "output_type": "execute_result"
    }
   ],
   "source": [
    "type(fecha)"
   ]
  },
  {
   "cell_type": "markdown",
   "metadata": {},
   "source": [
    "Un objeto de este tipo posee atributos que nos permiten extraer sus componentes:"
   ]
  },
  {
   "cell_type": "code",
   "execution_count": 5,
   "metadata": {},
   "outputs": [
    {
     "name": "stdout",
     "output_type": "stream",
     "text": [
      "fecha.year = 1970\n",
      "fecha.month = 10\n",
      "fecha.day = 28\n"
     ]
    }
   ],
   "source": [
    "print(f\"{fecha.year = }\")\n",
    "print(f\"{fecha.month = }\")\n",
    "print(f\"{fecha.day = }\")"
   ]
  },
  {
   "cell_type": "markdown",
   "metadata": {},
   "source": [
    "Podemos extraer la fecha actual con el método **.today()** de la clase *date*:"
   ]
  },
  {
   "cell_type": "code",
   "execution_count": 6,
   "metadata": {},
   "outputs": [
    {
     "name": "stdout",
     "output_type": "stream",
     "text": [
      "Hoy es 2024-03-31\n"
     ]
    }
   ],
   "source": [
    "hoy = datetime.date.today()\n",
    "print(\"Hoy es\", hoy)"
   ]
  },
  {
   "cell_type": "markdown",
   "metadata": {},
   "source": [
    "Esta fecha también tiene el mismo tipo \"date\":"
   ]
  },
  {
   "cell_type": "code",
   "execution_count": 7,
   "metadata": {},
   "outputs": [
    {
     "data": {
      "text/plain": [
       "datetime.date"
      ]
     },
     "execution_count": 7,
     "metadata": {},
     "output_type": "execute_result"
    }
   ],
   "source": [
    "type(hoy)"
   ]
  },
  {
   "cell_type": "markdown",
   "metadata": {},
   "source": [
    "### La clase timedelta"
   ]
  },
  {
   "cell_type": "markdown",
   "metadata": {},
   "source": [
    "Si restamos dos fechas, obtenemos un objeto de la clase **datetime.timedelta**:"
   ]
  },
  {
   "cell_type": "code",
   "execution_count": 8,
   "metadata": {},
   "outputs": [
    {
     "data": {
      "text/plain": [
       "datetime.timedelta(days=19513)"
      ]
     },
     "execution_count": 8,
     "metadata": {},
     "output_type": "execute_result"
    }
   ],
   "source": [
    "hoy - fecha"
   ]
  },
  {
   "cell_type": "markdown",
   "metadata": {},
   "source": [
    "Vemos que el objeto resultante nos indica -al menos en nuestro ejemplo- el número de días transcurridos entre ambas fechas."
   ]
  },
  {
   "cell_type": "markdown",
   "metadata": {},
   "source": [
    "También podemos crear manualmente un objeto de este tipo para añadirlo o restarlo a una fecha. El constructor de la clase *timedelta* nos permite indicar el número de días, de horas, de minutos, de segundos, de milisegundos, de microsegundos y de semanas, aunque todos estos argumentos son opcionales (y, en caso de no indicarse, tomarán el valor 0):"
   ]
  },
  {
   "cell_type": "code",
   "execution_count": 9,
   "metadata": {},
   "outputs": [],
   "source": [
    "periodo = datetime.timedelta(days = 5, weeks = 1)"
   ]
  },
  {
   "cell_type": "code",
   "execution_count": 10,
   "metadata": {},
   "outputs": [
    {
     "data": {
      "text/plain": [
       "datetime.date(2024, 4, 12)"
      ]
     },
     "execution_count": 10,
     "metadata": {},
     "output_type": "execute_result"
    }
   ],
   "source": [
    "hoy + periodo"
   ]
  },
  {
   "cell_type": "code",
   "execution_count": 11,
   "metadata": {},
   "outputs": [
    {
     "data": {
      "text/plain": [
       "datetime.date(2024, 3, 19)"
      ]
     },
     "execution_count": 11,
     "metadata": {},
     "output_type": "execute_result"
    }
   ],
   "source": [
    "hoy - periodo"
   ]
  },
  {
   "cell_type": "markdown",
   "metadata": {},
   "source": [
    "Podemos extraer los componentes de un objeto *timedelta* a través de sus atributos *days*, *seconds* y *microseconds* (no existen los atributos *hours*, *minutes*, etc.):"
   ]
  },
  {
   "cell_type": "code",
   "execution_count": 12,
   "metadata": {},
   "outputs": [
    {
     "name": "stdout",
     "output_type": "stream",
     "text": [
      "periodo.days = 12\n",
      "periodo.seconds = 0\n",
      "periodo.microseconds = 0\n"
     ]
    }
   ],
   "source": [
    "print(f\"{periodo.days = }\")\n",
    "print(f\"{periodo.seconds = }\")\n",
    "print(f\"{periodo.microseconds = }\")"
   ]
  },
  {
   "cell_type": "markdown",
   "metadata": {},
   "source": [
    "### Hora"
   ]
  },
  {
   "cell_type": "markdown",
   "metadata": {},
   "source": [
    "La creación de objetos representando una hora se realiza con la clase **time**. A la hora de instanciar la clase podemos pasar la hora, el minuto, el segundo, el microsegundo, y la información de la zona horaria. Eso sí, todos los argumentos son opcionales:"
   ]
  },
  {
   "cell_type": "code",
   "execution_count": 13,
   "metadata": {},
   "outputs": [],
   "source": [
    "hora = datetime.time(hour = 20, minute = 15, second = 45)"
   ]
  },
  {
   "cell_type": "markdown",
   "metadata": {},
   "source": [
    "O también:"
   ]
  },
  {
   "cell_type": "code",
   "execution_count": 14,
   "metadata": {},
   "outputs": [],
   "source": [
    "hora = datetime.time(20, 15, 45)"
   ]
  },
  {
   "cell_type": "markdown",
   "metadata": {},
   "source": [
    "El tipo de este objeto es, por supuesto, *time*:"
   ]
  },
  {
   "cell_type": "code",
   "execution_count": 15,
   "metadata": {},
   "outputs": [
    {
     "data": {
      "text/plain": [
       "datetime.time"
      ]
     },
     "execution_count": 15,
     "metadata": {},
     "output_type": "execute_result"
    }
   ],
   "source": [
    "type(hora)"
   ]
  },
  {
   "cell_type": "markdown",
   "metadata": {},
   "source": [
    "Aquí tenemos un ejemplo en el que se incluye información sobre la zona horaria:"
   ]
  },
  {
   "cell_type": "code",
   "execution_count": 16,
   "metadata": {},
   "outputs": [
    {
     "data": {
      "text/plain": [
       "datetime.time(20, 15, 45, tzinfo=datetime.timezone(datetime.timedelta(seconds=7200)))"
      ]
     },
     "execution_count": 16,
     "metadata": {},
     "output_type": "execute_result"
    }
   ],
   "source": [
    "datetime.time(20, 15, 45, tzinfo = datetime.timezone(datetime.timedelta(hours = 2)))"
   ]
  },
  {
   "cell_type": "markdown",
   "metadata": {},
   "source": [
    "También podemos extraer los componentes de un objeto de este tipo haciendo referencia a los atributos adecuados:"
   ]
  },
  {
   "cell_type": "code",
   "execution_count": 17,
   "metadata": {},
   "outputs": [
    {
     "name": "stdout",
     "output_type": "stream",
     "text": [
      "hora.hour = 20\n",
      "hora.minute = 15\n",
      "hora.second = 45\n",
      "hora.microsecond = 0\n",
      "hora.tzinfo = None\n"
     ]
    }
   ],
   "source": [
    "print(f\"{hora.hour = }\")\n",
    "print(f\"{hora.minute = }\")\n",
    "print(f\"{hora.second = }\")\n",
    "print(f\"{hora.microsecond = }\")\n",
    "print(f\"{hora.tzinfo = }\")"
   ]
  },
  {
   "cell_type": "markdown",
   "metadata": {},
   "source": [
    "Estos objetos de tipo *time* no pueden ser restados entre sí, ni es posible operar con ellos y con objetos *timedelta*."
   ]
  },
  {
   "cell_type": "markdown",
   "metadata": {},
   "source": [
    "### Fecha y hora"
   ]
  },
  {
   "cell_type": "markdown",
   "metadata": {},
   "source": [
    "Por último, podemos crear un objeto que represente una fecha y hora usando clase **datetime** (obsérvese que esta clase tiene el mismo nombre que la librería). El constructor de esta clase exige que le pasemos el año, el mes y el día, y nos permite (pues todos los demás son opcionales) incluir la hora, el minuto, el segundo, el microsegundo e información sobre la zona horaria. Por ejemplo:"
   ]
  },
  {
   "cell_type": "code",
   "execution_count": 18,
   "metadata": {},
   "outputs": [
    {
     "name": "stdout",
     "output_type": "stream",
     "text": [
      "2020-10-28 15:30:22\n"
     ]
    }
   ],
   "source": [
    "fecha_y_hora = datetime.datetime(year = 2020, month = 10, day = 28, hour = 15, minute = 30, second = 22)\n",
    "print(fecha_y_hora)"
   ]
  },
  {
   "cell_type": "markdown",
   "metadata": {},
   "source": [
    "O también:"
   ]
  },
  {
   "cell_type": "code",
   "execution_count": 19,
   "metadata": {},
   "outputs": [
    {
     "name": "stdout",
     "output_type": "stream",
     "text": [
      "2020-10-28 15:30:22\n"
     ]
    }
   ],
   "source": [
    "fecha_y_hora = datetime.datetime(2020, 10, 28, 15, 30, 22)\n",
    "print(fecha_y_hora)"
   ]
  },
  {
   "cell_type": "markdown",
   "metadata": {},
   "source": [
    "Este objeto de fecha y hora ha recibido el tipo \"datetime\":"
   ]
  },
  {
   "cell_type": "code",
   "execution_count": 20,
   "metadata": {},
   "outputs": [
    {
     "data": {
      "text/plain": [
       "datetime.datetime"
      ]
     },
     "execution_count": 20,
     "metadata": {},
     "output_type": "execute_result"
    }
   ],
   "source": [
    "type(fecha_y_hora)"
   ]
  },
  {
   "cell_type": "markdown",
   "metadata": {},
   "source": [
    "El método **.now()** de la clase *datetime* nos devuelve la fecha y hora actual:"
   ]
  },
  {
   "cell_type": "code",
   "execution_count": 21,
   "metadata": {},
   "outputs": [
    {
     "name": "stdout",
     "output_type": "stream",
     "text": [
      "Ahora son las 2024-03-31 10:38:06.372689\n"
     ]
    }
   ],
   "source": [
    "ahora = datetime.datetime.now()\n",
    "print(\"Ahora son las\", ahora)"
   ]
  },
  {
   "cell_type": "markdown",
   "metadata": {},
   "source": [
    "Podemos comprobar que el tipo de este objeto es también *datetime*:"
   ]
  },
  {
   "cell_type": "code",
   "execution_count": 22,
   "metadata": {},
   "outputs": [
    {
     "data": {
      "text/plain": [
       "datetime.datetime"
      ]
     },
     "execution_count": 22,
     "metadata": {},
     "output_type": "execute_result"
    }
   ],
   "source": [
    "type(ahora)"
   ]
  },
  {
   "cell_type": "markdown",
   "metadata": {},
   "source": [
    "Esta clase también incluye atributos que nos permiten acceder a sus componentes:"
   ]
  },
  {
   "cell_type": "code",
   "execution_count": 23,
   "metadata": {},
   "outputs": [
    {
     "name": "stdout",
     "output_type": "stream",
     "text": [
      "ahora.year = 2024\n",
      "ahora.month = 3\n",
      "ahora.day = 31\n",
      "ahora.hour = 10\n",
      "ahora.minute = 38\n",
      "ahora.second = 6\n",
      "ahora.microsecond = 372689\n",
      "ahora.tzinfo = None\n"
     ]
    }
   ],
   "source": [
    "print(f\"{ahora.year = }\")\n",
    "print(f\"{ahora.month = }\")\n",
    "print(f\"{ahora.day = }\")\n",
    "print(f\"{ahora.hour = }\")\n",
    "print(f\"{ahora.minute = }\")\n",
    "print(f\"{ahora.second = }\")\n",
    "print(f\"{ahora.microsecond = }\")\n",
    "print(f\"{ahora.tzinfo = }\")"
   ]
  },
  {
   "cell_type": "markdown",
   "metadata": {},
   "source": [
    "#### timedelta"
   ]
  },
  {
   "cell_type": "markdown",
   "metadata": {},
   "source": [
    "Y también con esta clase, si restamos dos objetos obtenemos un objeto de clase *timedelta*:"
   ]
  },
  {
   "cell_type": "code",
   "execution_count": 24,
   "metadata": {},
   "outputs": [
    {
     "data": {
      "text/plain": [
       "datetime.timedelta(days=1249, seconds=68864, microseconds=372689)"
      ]
     },
     "execution_count": 24,
     "metadata": {},
     "output_type": "execute_result"
    }
   ],
   "source": [
    "ahora - fecha_y_hora"
   ]
  },
  {
   "cell_type": "markdown",
   "metadata": {},
   "source": [
    "O podemos crear un objeto de esta clase manualmente para añadirlo o restarlo a un objeto de clase *datetime*:"
   ]
  },
  {
   "cell_type": "code",
   "execution_count": 25,
   "metadata": {},
   "outputs": [
    {
     "data": {
      "text/plain": [
       "datetime.datetime(2024, 4, 4, 0, 38, 6, 372707)"
      ]
     },
     "execution_count": 25,
     "metadata": {},
     "output_type": "execute_result"
    }
   ],
   "source": [
    "periodo = datetime.timedelta(days = 3, hours = 14, microseconds = 18)\n",
    "ahora + periodo"
   ]
  },
  {
   "cell_type": "markdown",
   "metadata": {},
   "source": [
    "# Conversión de tipos"
   ]
  },
  {
   "cell_type": "markdown",
   "metadata": {},
   "source": [
    "Podemos extraer el componente de fecha de un valor de tipo *datetime* usando el método **.date()**:"
   ]
  },
  {
   "cell_type": "code",
   "execution_count": 26,
   "metadata": {},
   "outputs": [
    {
     "data": {
      "text/plain": [
       "datetime.datetime(2024, 5, 17, 12, 6, 24)"
      ]
     },
     "execution_count": 26,
     "metadata": {},
     "output_type": "execute_result"
    }
   ],
   "source": [
    "d = datetime.datetime(year = 2024, month = 5, day = 17, hour = 12, minute = 6, second = 24)\n",
    "d"
   ]
  },
  {
   "cell_type": "code",
   "execution_count": 27,
   "metadata": {},
   "outputs": [
    {
     "data": {
      "text/plain": [
       "datetime.date(2024, 5, 17)"
      ]
     },
     "execution_count": 27,
     "metadata": {},
     "output_type": "execute_result"
    }
   ],
   "source": [
    "d.date()"
   ]
  },
  {
   "cell_type": "markdown",
   "metadata": {},
   "source": [
    "Y el componente de hora usando el método **.time()**:"
   ]
  },
  {
   "cell_type": "code",
   "execution_count": 28,
   "metadata": {},
   "outputs": [
    {
     "data": {
      "text/plain": [
       "datetime.time(12, 6, 24)"
      ]
     },
     "execution_count": 28,
     "metadata": {},
     "output_type": "execute_result"
    }
   ],
   "source": [
    "d.time()"
   ]
  },
  {
   "cell_type": "markdown",
   "metadata": {},
   "source": [
    "Sin embargo, para convertir un objeto de tipo *date* o *time* a otro de tipo *datetime* deberemos usar el constructor de este último pasando los argumentos correspondiente. Por ejemplo:"
   ]
  },
  {
   "cell_type": "code",
   "execution_count": 29,
   "metadata": {},
   "outputs": [],
   "source": [
    "d = datetime.date(year = 2024, month = 5, day = 17)"
   ]
  },
  {
   "cell_type": "code",
   "execution_count": 30,
   "metadata": {},
   "outputs": [
    {
     "data": {
      "text/plain": [
       "datetime.datetime(2024, 5, 17, 0, 0)"
      ]
     },
     "execution_count": 30,
     "metadata": {},
     "output_type": "execute_result"
    }
   ],
   "source": [
    "datetime.datetime(d.year, d.month, d.day)"
   ]
  },
  {
   "cell_type": "markdown",
   "metadata": {},
   "source": [
    "# Formateo de fechas y horas"
   ]
  },
  {
   "cell_type": "markdown",
   "metadata": {},
   "source": [
    "Para convertir objetos de fecha y tiempo en strings según un formato específico, podemos usars el método **.strftime()** de un valor de tipo *date*, *time* o *datetime*. A este método deberemos pasar como argumento una cadena de texto con el patrón de formato deseado."
   ]
  },
  {
   "cell_type": "markdown",
   "metadata": {},
   "source": [
    "### Fecha"
   ]
  },
  {
   "cell_type": "markdown",
   "metadata": {},
   "source": [
    "Por ejemplo, recordemos que en la variable *hoy* teníamos almacenado la fecha actual:"
   ]
  },
  {
   "cell_type": "code",
   "execution_count": 31,
   "metadata": {},
   "outputs": [
    {
     "data": {
      "text/plain": [
       "datetime.date(2024, 3, 31)"
      ]
     },
     "execution_count": 31,
     "metadata": {},
     "output_type": "execute_result"
    }
   ],
   "source": [
    "hoy"
   ]
  },
  {
   "cell_type": "markdown",
   "metadata": {},
   "source": [
    "Mostremos entonces esta fecha con un formato personalizado:"
   ]
  },
  {
   "cell_type": "code",
   "execution_count": 32,
   "metadata": {},
   "outputs": [
    {
     "data": {
      "text/plain": [
       "'Sunday, March 31, 2024'"
      ]
     },
     "execution_count": 32,
     "metadata": {},
     "output_type": "execute_result"
    }
   ],
   "source": [
    "hoy.strftime(\"%A, %B %d, %Y\")"
   ]
  },
  {
   "cell_type": "markdown",
   "metadata": {},
   "source": [
    "Los códigos de formato más comunes para fechas son los siguientes:"
   ]
  },
  {
   "cell_type": "markdown",
   "metadata": {},
   "source": [
    "* %Y: Año con cuatro cifras, por ejemplo, \"2024\".\n",
    "* %y: Año con dos cifras (00-99), por ejemplo, \"24\" para el año 2024.\n",
    "* %m: Mes como un número entero rellenado con ceros (01-12).\n",
    "* %B: Nombre completo del mes, por ejemplo, \"March\".\n",
    "* %b: Nombre abreviado del mes, por ejemplo, \"Mar\".\n",
    "* %d: Día del mes como un número entero rellenado con ceros (01-31).\n",
    "* %A: Nombre completo del día de la semana, por ejemplo, \"Sunday\".\n",
    "* %a: Nombre abreviado del día de la semana, por ejemplo, \"Sun\".\n",
    "* %j: Día del año como un número entero rellenado con ceros (001-366).\n",
    "* %W: Número de semana del año (considerando el lunes como primer día de la semana) como un número entero. La primera semana es aquella que contiene al menos cuatro días del nuevo año.\n",
    "* %w: Día de la semana como un número decimal, donde el domingo es 0 y el sábado es 6."
   ]
  },
  {
   "cell_type": "markdown",
   "metadata": {},
   "source": [
    "### Modificación del idioma"
   ]
  },
  {
   "cell_type": "markdown",
   "metadata": {},
   "source": [
    "Si quisiéramos mostrar el texto resultante en un idioma que no fuese el inglés, deberemos recurrir al módulo **locale** para configurarlo:"
   ]
  },
  {
   "cell_type": "code",
   "execution_count": 33,
   "metadata": {},
   "outputs": [],
   "source": [
    "import locale"
   ]
  },
  {
   "cell_type": "markdown",
   "metadata": {},
   "source": [
    "Por ejemplo, para mostrar el texto en español de España:"
   ]
  },
  {
   "cell_type": "code",
   "execution_count": 34,
   "metadata": {},
   "outputs": [
    {
     "data": {
      "text/plain": [
       "'ES_es'"
      ]
     },
     "execution_count": 34,
     "metadata": {},
     "output_type": "execute_result"
    }
   ],
   "source": [
    "locale.setlocale(locale.LC_TIME, \"ES_es\")"
   ]
  },
  {
   "cell_type": "markdown",
   "metadata": {},
   "source": [
    "A partir de ahora ya se mostrarán los nombres (de días y meses) en este idioma:"
   ]
  },
  {
   "cell_type": "code",
   "execution_count": 35,
   "metadata": {},
   "outputs": [
    {
     "data": {
      "text/plain": [
       "'domingo, 31 de marzo de 2024'"
      ]
     },
     "execution_count": 35,
     "metadata": {},
     "output_type": "execute_result"
    }
   ],
   "source": [
    "hoy.strftime(\"%A, %d de %B de %Y\")"
   ]
  },
  {
   "cell_type": "markdown",
   "metadata": {},
   "source": [
    "En todo caso, las cadenas de formato (f-string) son compatibles con estos códigos, de forma que no resulta necesario usar el método *.strftime()*:"
   ]
  },
  {
   "cell_type": "code",
   "execution_count": 36,
   "metadata": {},
   "outputs": [
    {
     "name": "stdout",
     "output_type": "stream",
     "text": [
      "hoy es domingo, 31 de marzo de 2024\n"
     ]
    }
   ],
   "source": [
    "print(f\"hoy es {hoy:%A, %d de %B de %Y}\")"
   ]
  },
  {
   "cell_type": "markdown",
   "metadata": {},
   "source": [
    "### Hora"
   ]
  },
  {
   "cell_type": "markdown",
   "metadata": {},
   "source": [
    "Los códigos de formato más comunes para esta clase son los siguientes:"
   ]
  },
  {
   "cell_type": "markdown",
   "metadata": {},
   "source": [
    "* %H: Hora (reloj de 24 horas) como un número entero rellenado con ceros (00-23).\n",
    "* %I: Hora (reloj de 12 horas) como un número entero rellenado con ceros (01-12).\n",
    "* %p: AM o PM.\n",
    "* %M: Minuto como un número entero rellenado con ceros (00-59).\n",
    "* %S: Segundo como un número entero rellenado con ceros (00-59).\n",
    "* %f: Microsegundo como un número entero rellenado con ceros, de 6 dígitos.\n",
    "* %z: Desplazamiento de la zona horaria UTC en formato +HHMM o -HHMM. Vacío si la información de la zona horaria no está disponible.\n",
    "* %Z: Nombre de la zona horaria. Vacío si la información de la zona horaria no está disponible."
   ]
  },
  {
   "cell_type": "markdown",
   "metadata": {},
   "source": [
    "Por ejemplo:"
   ]
  },
  {
   "cell_type": "code",
   "execution_count": 37,
   "metadata": {},
   "outputs": [
    {
     "data": {
      "text/plain": [
       "'EN_us'"
      ]
     },
     "execution_count": 37,
     "metadata": {},
     "output_type": "execute_result"
    }
   ],
   "source": [
    "locale.setlocale(locale.LC_TIME, \"EN_us\")"
   ]
  },
  {
   "cell_type": "code",
   "execution_count": 38,
   "metadata": {},
   "outputs": [
    {
     "data": {
      "text/plain": [
       "'15:04 PM'"
      ]
     },
     "execution_count": 38,
     "metadata": {},
     "output_type": "execute_result"
    }
   ],
   "source": [
    "hora = datetime.time(15, 4, 20)\n",
    "hora.strftime(\"%H:%M %p\")"
   ]
  },
  {
   "cell_type": "markdown",
   "metadata": {},
   "source": [
    "(el uso del formato AM/PM no es posible en español)"
   ]
  },
  {
   "cell_type": "markdown",
   "metadata": {},
   "source": [
    "O también:"
   ]
  },
  {
   "cell_type": "code",
   "execution_count": 39,
   "metadata": {},
   "outputs": [
    {
     "name": "stdout",
     "output_type": "stream",
     "text": [
      " 15:04 PM\n"
     ]
    }
   ],
   "source": [
    "print(f\"{hora: %H:%M %p}\")"
   ]
  },
  {
   "cell_type": "markdown",
   "metadata": {},
   "source": [
    "### Fecha y hora"
   ]
  },
  {
   "cell_type": "markdown",
   "metadata": {},
   "source": [
    "Por último, para dar formato a un objeto de la clase *datetime* podemos usar todos los códigos de formato vistos:"
   ]
  },
  {
   "cell_type": "code",
   "execution_count": 40,
   "metadata": {},
   "outputs": [
    {
     "data": {
      "text/plain": [
       "'ES_es'"
      ]
     },
     "execution_count": 40,
     "metadata": {},
     "output_type": "execute_result"
    }
   ],
   "source": [
    "locale.setlocale(locale.LC_TIME, \"ES_es\")"
   ]
  },
  {
   "cell_type": "code",
   "execution_count": 41,
   "metadata": {},
   "outputs": [
    {
     "data": {
      "text/plain": [
       "'Son las 10 horas y 38 minutos del domingo, 31 de marzo de 2024'"
      ]
     },
     "execution_count": 41,
     "metadata": {},
     "output_type": "execute_result"
    }
   ],
   "source": [
    "ahora.strftime(\"Son las %H horas y %M minutos del %A, %d de %B de %Y\")"
   ]
  },
  {
   "cell_type": "markdown",
   "metadata": {},
   "source": [
    "O:"
   ]
  },
  {
   "cell_type": "code",
   "execution_count": 42,
   "metadata": {},
   "outputs": [
    {
     "name": "stdout",
     "output_type": "stream",
     "text": [
      "Son las 10 horas y 38 minutos del domingo, 31 de marzo de 2024\n"
     ]
    }
   ],
   "source": [
    "print(f\"{ahora:Son las %H horas y %M minutos del %A, %d de %B de %Y}\")"
   ]
  },
  {
   "cell_type": "markdown",
   "metadata": {},
   "source": [
    "Puedes encontrar un listado completo de estos códigos de formato <a href=\"https://docs.python.org/es/3/library/datetime.html#strftime-and-strptime-format-codes\">aquí</a>."
   ]
  },
  {
   "cell_type": "markdown",
   "metadata": {},
   "source": [
    "# Parseo de fechas y horas"
   ]
  },
  {
   "cell_type": "markdown",
   "metadata": {},
   "source": [
    "El proceso inverso -convertir strings a objetos de fecha y hora- se realiza con el método **.strptime()**, método que solo está disponible para la clase *datetime*. Por ejemplo, supongamos que tenemos la siguiente cadena de texto conteniendo una fecha y hora:"
   ]
  },
  {
   "cell_type": "code",
   "execution_count": 43,
   "metadata": {},
   "outputs": [],
   "source": [
    "s = \"2024-03-29 15:30:00\""
   ]
  },
  {
   "cell_type": "markdown",
   "metadata": {},
   "source": [
    "Podemos convertirla en un objeto de tipo *datetime* ejecutando el método comentado y pasándole el texto y la cadena de formato que se deberá a aplicar:"
   ]
  },
  {
   "cell_type": "code",
   "execution_count": 44,
   "metadata": {},
   "outputs": [
    {
     "data": {
      "text/plain": [
       "datetime.datetime(2024, 3, 29, 15, 30)"
      ]
     },
     "execution_count": 44,
     "metadata": {},
     "output_type": "execute_result"
    }
   ],
   "source": [
    "datetime.datetime.strptime(s, \"%Y-%m-%d %H:%M:%S\")"
   ]
  },
  {
   "cell_type": "markdown",
   "metadata": {},
   "source": [
    "Si el texto a \"parsear\" solo contiene información de fecha, por ejemplo, tendremos que adaptar la cadena de formato adecuadamente:"
   ]
  },
  {
   "cell_type": "code",
   "execution_count": 45,
   "metadata": {},
   "outputs": [
    {
     "data": {
      "text/plain": [
       "datetime.datetime(2024, 3, 29, 0, 0)"
      ]
     },
     "execution_count": 45,
     "metadata": {},
     "output_type": "execute_result"
    }
   ],
   "source": [
    "s = \"2024/03/29\"\n",
    "datetime.datetime.strptime(s, \"%Y/%m/%d\")"
   ]
  },
  {
   "cell_type": "markdown",
   "metadata": {},
   "source": [
    "Podríamos incluso extraer la fecha de patrones complejos:"
   ]
  },
  {
   "cell_type": "code",
   "execution_count": 46,
   "metadata": {},
   "outputs": [
    {
     "data": {
      "text/plain": [
       "datetime.datetime(2024, 3, 29, 20, 37)"
      ]
     },
     "execution_count": 46,
     "metadata": {},
     "output_type": "execute_result"
    }
   ],
   "source": [
    "s = \"Son las 20 horas y 37 minutos del viernes, 29 de marzo de 2024\"\n",
    "datetime.datetime.strptime(s, \"Son las %H horas y %M minutos del %A, %d de %B de %Y\")"
   ]
  },
  {
   "cell_type": "markdown",
   "metadata": {},
   "source": [
    "# Biblioteca time"
   ]
  },
  {
   "cell_type": "markdown",
   "metadata": {},
   "source": [
    "La biblioteca **time** es útil para trabajar con tiempo en segundos, realizar pausas en la ejecución del código y obtener el tiempo \"epoch\" (número de segundos transcurridos desde las 0 horas del 1 de enero de 1970).\n",
    "\n",
    "Comencemos importando la librería:"
   ]
  },
  {
   "cell_type": "code",
   "execution_count": 47,
   "metadata": {},
   "outputs": [],
   "source": [
    "import time"
   ]
  },
  {
   "cell_type": "markdown",
   "metadata": {},
   "source": [
    "Podemos obtener el tiempo epoch usando la función **time** (que se llama igual que la librería):"
   ]
  },
  {
   "cell_type": "code",
   "execution_count": 48,
   "metadata": {},
   "outputs": [
    {
     "data": {
      "text/plain": [
       "1711874286.697403"
      ]
     },
     "execution_count": 48,
     "metadata": {},
     "output_type": "execute_result"
    }
   ],
   "source": [
    "time.time()"
   ]
  },
  {
   "cell_type": "markdown",
   "metadata": {},
   "source": [
    "Obsérvese que esto nos permite medir el tiempo de ejecución de nuestro código, aunque éste se encuentre repartido en varias celdas:"
   ]
  },
  {
   "cell_type": "code",
   "execution_count": 49,
   "metadata": {},
   "outputs": [],
   "source": [
    "time_start = time.time()"
   ]
  },
  {
   "cell_type": "code",
   "execution_count": 50,
   "metadata": {},
   "outputs": [],
   "source": [
    "n = 100000000"
   ]
  },
  {
   "cell_type": "code",
   "execution_count": 51,
   "metadata": {},
   "outputs": [],
   "source": [
    "for _ in range(n):\n",
    "    a = 3.141592 ** 3.141592"
   ]
  },
  {
   "cell_type": "code",
   "execution_count": 52,
   "metadata": {},
   "outputs": [],
   "source": [
    "time_end = time.time()"
   ]
  },
  {
   "cell_type": "code",
   "execution_count": 53,
   "metadata": {},
   "outputs": [
    {
     "name": "stdout",
     "output_type": "stream",
     "text": [
      "Tiempo transcurrido: 4.714144468307495 segundos\n"
     ]
    }
   ],
   "source": [
    "print(f\"Tiempo transcurrido: {time_end - time_start} segundos\")"
   ]
  },
  {
   "cell_type": "markdown",
   "metadata": {},
   "source": [
    "### Pausar ejecución del código"
   ]
  },
  {
   "cell_type": "markdown",
   "metadata": {},
   "source": [
    "También podemos parar la ejecución del código durante un número de segundos usando la función **time.sleep()**:"
   ]
  },
  {
   "cell_type": "code",
   "execution_count": 54,
   "metadata": {},
   "outputs": [
    {
     "name": "stdout",
     "output_type": "stream",
     "text": [
      "Inicio\n",
      "Fin\n"
     ]
    }
   ],
   "source": [
    "print(\"Inicio\")\n",
    "time.sleep(2.5)          # Pausa de 2 segundos y medio\n",
    "print(\"Fin\")"
   ]
  },
  {
   "cell_type": "markdown",
   "metadata": {},
   "source": [
    "<div style = \"float:right\"><a style=\"text-decoration:none\" href = \"#inicio\">Inicio</a></div>"
   ]
  }
 ],
 "metadata": {
  "kernelspec": {
   "display_name": "Python 3 (ipykernel)",
   "language": "python",
   "name": "python3"
  },
  "language_info": {
   "codemirror_mode": {
    "name": "ipython",
    "version": 3
   },
   "file_extension": ".py",
   "mimetype": "text/x-python",
   "name": "python",
   "nbconvert_exporter": "python",
   "pygments_lexer": "ipython3",
   "version": "3.11.7"
  }
 },
 "nbformat": 4,
 "nbformat_minor": 4
}
