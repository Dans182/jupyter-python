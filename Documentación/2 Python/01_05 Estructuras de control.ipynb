{
 "cells": [
  {
   "attachments": {
    "d322fea4-5091-46df-9188-e7ddf486fffb.png": {
     "image/png": "[encoded data removed]"
    }
   },
   "cell_type": "markdown",
   "metadata": {},
   "source": [
    "![Cabecera cuadernos Jupyter.png](attachment:d322fea4-5091-46df-9188-e7ddf486fffb.png)\n",
    "<a name = \"inicio\"></a>"
   ]
  },
  {
   "cell_type": "markdown",
   "metadata": {},
   "source": [
    "<div style=\"font-size: 50px;text-align: center;height:60px;padding:10px;margin:10px 0 0 0;\">Estructuras de control</div>"
   ]
  },
  {
   "cell_type": "markdown",
   "metadata": {},
   "source": [
    "Una de las grandes ventajas de un ordenador es que nos permite automatizar tareas, lo que significa poder repetir un proceso un cierto número de veces, o hasta que se cumpla cierta condición. En otras ocasiones deseamos ejecutar un proceso u otro en función de que se cumpla o no otra condición.\n",
    "\n",
    "Vamos a ver en esta sección cómo usar este tipo de estructuras de control. Concretamente vamos a ver las *sentencias condicionales*, y las *sentencias iterativas* **for** y **while**."
   ]
  },
  {
   "cell_type": "markdown",
   "metadata": {},
   "source": [
    "<div style = \"float:right\"><a style=\"text-decoration:none\" href = \"#inicio\">Inicio</a></div>"
   ]
  },
  {
   "cell_type": "markdown",
   "metadata": {},
   "source": [
    "<a name = \"inicio\"></a>"
   ]
  },
  {
   "cell_type": "markdown",
   "metadata": {},
   "source": [
    "<div style=\"font-size: 40px;text-align: center;height:50px;padding:10px;margin:0 0 10px 0;\">Sentencia condicional if</div>"
   ]
  },
  {
   "cell_type": "markdown",
   "metadata": {},
   "source": [
    "La sentencia condicional **if** nos permite comprobar si se cumple una cierta condición con el fin de ejecutar un proceso u otro. En su forma más simple se utiliza la palabra reservada *if* seguida de la condición a evaluar y dos puntos. En la siguiente -o siguientes- líneas, con un sangrado de cuatro espacios en blanco o un tabulador, incluiremos el código a ejecutar en caso de que se cumpla la condición. Es decir, la estructura de esta sentencia es, por lo tanto:\n",
    "\n",
    "if condición:\n",
    "\n",
    "    código\n",
    "\n",
    "donde *condición* es una expresión que devuelve un booleano (True/False). Por ejemplo:"
   ]
  },
  {
   "cell_type": "code",
   "execution_count": 1,
   "metadata": {},
   "outputs": [
    {
     "name": "stdout",
     "output_type": "stream",
     "text": [
      "Es un dos\n"
     ]
    }
   ],
   "source": [
    "n = 2\n",
    "if n == 2:\n",
    "    print(\"Es un dos\")"
   ]
  },
  {
   "cell_type": "markdown",
   "metadata": {},
   "source": [
    "En este caso, la condición a probar es n == 2. Si se cumple, se ejecuta el código sangrado que hay a continuación que, en el ejemplo, es una única instrucción que imprime el texto \"Es un dos\".\n",
    "\n",
    "Algunos comentarios:\n",
    "\n",
    "* La condición puede ir encerrada entre paréntesis o no, pero no es necesario.\n",
    "* Al final de la condición es necesario incluir los dos puntos.\n",
    "* El código a ejecutar en el caso de que la condición se cumpla deberá mostrarse con la sangría comentada (4 espacios en blanco o un tabulador).\n",
    "* Al menos deberá haber una línea de código a ejecutar. Si no lo hacemos así lo único que conseguiremos es un error.\n",
    "* Y recuerda que el operador de igualdad (si es que la condición probada es de igualdad) son dos signos \"=\" (no uno solo).\n",
    "Si queremos especificar qué código hay que ejecutar en el caso de que la condición **no** se cumpla podemos añadir la sentencia **else**:"
   ]
  },
  {
   "cell_type": "code",
   "execution_count": 2,
   "metadata": {},
   "outputs": [
    {
     "name": "stdout",
     "output_type": "stream",
     "text": [
      "No es un dos\n"
     ]
    }
   ],
   "source": [
    "n = 3\n",
    "if n == 2:\n",
    "    print(\"Es un dos\")\n",
    "else:\n",
    "    print(\"No es un dos\")"
   ]
  },
  {
   "cell_type": "markdown",
   "metadata": {},
   "source": [
    "En este código estamos comprobando si *n* toma el valor 2. En caso de que sea así, se ejecuta la función *print* que muestra el texto \"Es un dos\". Si no se cumple, se ejecuta la función *print* que muestra el texto \"No es un dos\".\n",
    "\n",
    "Los comentarios respectivos:\n",
    "\n",
    "* La instrucción *else* deberá ir alineada con *if* (en la misma columna)\n",
    "* Deberá ir seguida de dos puntos\n",
    "* Las líneas de código a ejecutar deberán tener el sangrado comentado, y\n",
    "* Al menos deberá haber una línea a ejecutar tras el *else*.\n",
    "Si no lo hacemos así, ya sabemos que recibiremos un error.\n",
    "\n",
    "También podemos realizar comprobaciones adicionales además de la primera usando la palabra reservada **elif**. Observa:"
   ]
  },
  {
   "cell_type": "code",
   "execution_count": 3,
   "metadata": {},
   "outputs": [
    {
     "name": "stdout",
     "output_type": "stream",
     "text": [
      "Número positivo\n"
     ]
    }
   ],
   "source": [
    "n = 3\n",
    "if n < 0:\n",
    "    print(\"Número negativo\")\n",
    "elif n > 0:\n",
    "    print(\"Número positivo\")\n",
    "else:\n",
    "    print(\"Cero\")"
   ]
  },
  {
   "cell_type": "markdown",
   "metadata": {},
   "source": [
    "En primer lugar se comprueba la condición que acompaña al *if*. Si se cumple, se ejecuta el código asociado. Si no se cumple, se comprueba la condición del primer *elif*. Si se cumple, se ejecuta su código y así sucesivamente. Si no se cumple ninguna condición y hay un *else*, se ejecuta su código. Si no hubiese un *else* (y no se cumpliese ninguna condición), no se ejecutaría código alguno.\n",
    "\n",
    "Podemos añadir tantas instrucciones *elif* como deseemos. Se evaluarán en orden y así que se cumpla una de las condiciones, se ejecutará el código sangrado que la sigue."
   ]
  },
  {
   "cell_type": "markdown",
   "metadata": {},
   "source": [
    "<div style = \"float:right\"><a style=\"text-decoration:none\" href = \"#inicio\">Inicio</a></div>"
   ]
  },
  {
   "cell_type": "markdown",
   "metadata": {},
   "source": [
    "### Expresión condicional (Operador ternario)"
   ]
  },
  {
   "cell_type": "markdown",
   "metadata": {},
   "source": [
    "Las \"*expresiones condicionales*\" -también llamadas \"*operadores ternarios*\"- son una forma concisa de escribir una instrucción *if-else* en una sola línea, y es particularmente útil para asignaciones condicionales. La sintaxis es:"
   ]
  },
  {
   "cell_type": "markdown",
   "metadata": {},
   "source": [
    "variable = valor_si_verdadero if condición else valor_si_falso"
   ]
  },
  {
   "cell_type": "markdown",
   "metadata": {},
   "source": [
    "Esta expresión evalúa la condición y\r",
    "* \r\n",
    "Si la condición es verdadera, asign*a valor_si_verdade*ro a la variabe* .\r\n",
    "Si la condición es falsa, asig*na valor_si_fa*lso a la variale."
   ]
  },
  {
   "cell_type": "markdown",
   "metadata": {},
   "source": [
    "Por ejemplo:"
   ]
  },
  {
   "cell_type": "code",
   "execution_count": 4,
   "metadata": {},
   "outputs": [
    {
     "data": {
      "text/plain": [
       "'Número positivo'"
      ]
     },
     "execution_count": 4,
     "metadata": {},
     "output_type": "execute_result"
    }
   ],
   "source": [
    "n = 3\n",
    "resultado = \"Número positivo\" if n >=0 else \"Número negativo\"\n",
    "resultado"
   ]
  },
  {
   "cell_type": "markdown",
   "metadata": {},
   "source": [
    "Con esta estructura, no es posible usar *elif* como haríamos en un bloque *if* tradicional. Sin embargo, sí podríamos anidar expresiones condicionales si necesitamos evaluar múltiples condiciones usando la palabra reservada *else*:"
   ]
  },
  {
   "cell_type": "code",
   "execution_count": 5,
   "metadata": {},
   "outputs": [
    {
     "data": {
      "text/plain": [
       "'Cero'"
      ]
     },
     "execution_count": 5,
     "metadata": {},
     "output_type": "execute_result"
    }
   ],
   "source": [
    "n = 0\n",
    "resultado = \"Positivo\" if n > 0 else \"Negativo\" if n < 0 else \"Cero\"\n",
    "resultado"
   ]
  },
  {
   "cell_type": "markdown",
   "metadata": {},
   "source": [
    "Esto, en todo caso, hace la expresión menos legible."
   ]
  },
  {
   "cell_type": "markdown",
   "metadata": {},
   "source": [
    "Veamos un ejemplo de uso en una función:"
   ]
  },
  {
   "cell_type": "code",
   "execution_count": 6,
   "metadata": {},
   "outputs": [],
   "source": [
    "def is_even(n):\n",
    "    return True if n %2 == 0 else False"
   ]
  },
  {
   "cell_type": "markdown",
   "metadata": {},
   "source": [
    "Esta función devuelve el booleano *True* si el número que reciba como argumento es par, y *False* en caso contrario:"
   ]
  },
  {
   "cell_type": "code",
   "execution_count": 7,
   "metadata": {},
   "outputs": [
    {
     "data": {
      "text/plain": [
       "False"
      ]
     },
     "execution_count": 7,
     "metadata": {},
     "output_type": "execute_result"
    }
   ],
   "source": [
    "is_even(7)"
   ]
  },
  {
   "cell_type": "markdown",
   "metadata": {},
   "source": [
    "<div style = \"float:right\"><a style=\"text-decoration:none\" href = \"#inicio\">Inicio</a></div>"
   ]
  },
  {
   "cell_type": "markdown",
   "metadata": {},
   "source": [
    "<a name = \"inicio\"></a>"
   ]
  },
  {
   "cell_type": "markdown",
   "metadata": {},
   "source": [
    "<div style=\"font-size: 40px;text-align: center;height:50px;padding:10px;margin:0 0 10px 0;\">Sentencia iterativa for</div>"
   ]
  },
  {
   "cell_type": "markdown",
   "metadata": {},
   "source": [
    "La sentencia iterativa **for** nos permite ejecutar un proceso un número determinado de veces o para un conjunto determinado de valores. Para explicar este último comentario veamos la estructura de este tipo de bucles:\n",
    "\n",
    "for variable in serie-de-valores:\n",
    "\n",
    "    código\n",
    "\n",
    "Si quisiéramos leer esta instrucción sería algo como \"*para cada valor que hay en serie-de-valores, asigna dicho valor a 'variable' y ejecuta el código que sigue*\". Es decir, se va a ejecutar el código una vez para cada uno de los elementos en \"serie-de-valores\". Comencemos por el ejemplo más simple, cuando la serie de valores son números:"
   ]
  },
  {
   "cell_type": "code",
   "execution_count": 8,
   "metadata": {},
   "outputs": [
    {
     "name": "stdout",
     "output_type": "stream",
     "text": [
      "1\n",
      "2\n",
      "3\n"
     ]
    }
   ],
   "source": [
    "for n in [1, 2, 3]:\n",
    "    print(n)"
   ]
  },
  {
   "cell_type": "markdown",
   "metadata": {},
   "source": [
    "Para cada ejecución del código, la variable *n* va tomando cada uno de los valores de la lista [1, 2, 3], y el código que se repite simplemente imprime el valor de *n*. Hay tres valores en la lista, y el código se repite tres veces. En este caso hemos especificado los valores que va a tomar *n* con una lista, pero podríamos haber utilizado una tupla u otra estructura iterable.\n",
    "\n",
    "En un caso como éste, en lugar de incluir la lista explícita de valores que va a tomar la variable *n* puede utilizarse una función como *range*. Esta función --que ya hemos visto- genera un conjunto de números entre dos valores, pudiendo especificarse el incremento entre ellos. La gran ventaja de *range* respecto de una lista o una tupla es que la lista o tupla va a ocupar un tamaño en memoria proporcional al número de elementos que la compone. *range*, por el contrario, va a ocupar siempre el mismo tamaño (pequeño) pues solo se van a generar los números que representa a medida que sea necesario. Es decir, algo como range(1, 1000000) no genera un millón de valores y los almacena en memoria. Simplemente se crea un \"objeto range\" que irá generando ese millón de números cuando se solicite.\n",
    "\n",
    "El código mostrado en la anterior celda podría reescribirse de la siguiente forma, por tanto:"
   ]
  },
  {
   "cell_type": "code",
   "execution_count": 9,
   "metadata": {},
   "outputs": [
    {
     "name": "stdout",
     "output_type": "stream",
     "text": [
      "1\n",
      "2\n",
      "3\n"
     ]
    }
   ],
   "source": [
    "for n in range(1, 4):\n",
    "    print(n)"
   ]
  },
  {
   "cell_type": "markdown",
   "metadata": {},
   "source": [
    "Recuerda que los números generados por *range(a, b)* van desde *a* (incluido) hasta *b* (sin incluir), por lo que deberemos especificar como límites 1 y 4 si queremos que los valores generados sean 1, 2, y 3.\n",
    "\n",
    "Si simplemente queremos especificar el número de veces que queremos que se repita el proceso, digamos 3 veces, bastará con escribir *for n in range(3):* pues ya sabemos que esto generará todos los valores entre 0 y 2, es decir, 3 números:"
   ]
  },
  {
   "cell_type": "code",
   "execution_count": 10,
   "metadata": {},
   "outputs": [
    {
     "name": "stdout",
     "output_type": "stream",
     "text": [
      "0\n",
      "1\n",
      "2\n"
     ]
    }
   ],
   "source": [
    "for n in range(3):\n",
    "    print(n)"
   ]
  },
  {
   "cell_type": "markdown",
   "metadata": {},
   "source": [
    "Los valores a recorrer no tienen por qué ser siempre numéricos, por ejemplo:"
   ]
  },
  {
   "cell_type": "code",
   "execution_count": 11,
   "metadata": {},
   "outputs": [
    {
     "name": "stdout",
     "output_type": "stream",
     "text": [
      "Carbono\n",
      "Helio\n",
      "Plata\n"
     ]
    }
   ],
   "source": [
    "for elemento in [\"Carbono\", \"Helio\", \"Plata\"]:\n",
    "    print(elemento)"
   ]
  },
  {
   "cell_type": "markdown",
   "metadata": {},
   "source": [
    "# Bucles for con diccionarios"
   ]
  },
  {
   "cell_type": "markdown",
   "metadata": {},
   "source": [
    "Un caso interesante (y práctico) es el uso de este tipo de bucles con diccionarios. Si recuerdas, el método *items* devolvía una estructura semejante a una lista que contenía tuplas con cada pareja clave-valor:"
   ]
  },
  {
   "cell_type": "code",
   "execution_count": 12,
   "metadata": {},
   "outputs": [
    {
     "data": {
      "text/plain": [
       "dict_items([('ene', 18), ('feb', 32), ('mar', 25)])"
      ]
     },
     "execution_count": 12,
     "metadata": {},
     "output_type": "execute_result"
    }
   ],
   "source": [
    "ventas = {\"ene\": 18, \"feb\": 32, \"mar\": 25}\n",
    "ventas.items()"
   ]
  },
  {
   "cell_type": "markdown",
   "metadata": {},
   "source": [
    "Pues bien, si recorremos esta lista estaremos extrayendo tuplas (pues se trata de una lista de tuplas), por lo que podemos asignar a una tupla de variables la tupla extraída en cada iteración del bucle for:"
   ]
  },
  {
   "cell_type": "code",
   "execution_count": 13,
   "metadata": {},
   "outputs": [
    {
     "name": "stdout",
     "output_type": "stream",
     "text": [
      "Ventas en ene :  18\n",
      "Ventas en feb :  32\n",
      "Ventas en mar :  25\n"
     ]
    }
   ],
   "source": [
    "for (mes, venta) in ventas.items():\n",
    "    print(\"Ventas en\", mes, \": \", venta)"
   ]
  },
  {
   "cell_type": "markdown",
   "metadata": {},
   "source": [
    "En la práctica no es necesario encerrar las dos variables a los que se asignan los valores entre paréntesis, pudiéndose escribir simplemente lo siguiente:"
   ]
  },
  {
   "cell_type": "code",
   "execution_count": 14,
   "metadata": {},
   "outputs": [
    {
     "name": "stdout",
     "output_type": "stream",
     "text": [
      "Ventas en ene :  18\n",
      "Ventas en feb :  32\n",
      "Ventas en mar :  25\n"
     ]
    }
   ],
   "source": [
    "for mes, venta in ventas.items():\n",
    "    print(\"Ventas en\", mes, \": \", venta)"
   ]
  },
  {
   "cell_type": "markdown",
   "metadata": {},
   "source": [
    "<div style = \"float:right\"><a style=\"text-decoration:none\" href = \"#inicio\">Inicio</a></div>"
   ]
  },
  {
   "cell_type": "markdown",
   "metadata": {},
   "source": [
    "<a name = \"inicio\"></a>"
   ]
  },
  {
   "cell_type": "markdown",
   "metadata": {},
   "source": [
    "<div style=\"font-size: 40px;text-align: center;height:50px;padding:10px;margin:0 0 10px 0;\">Sentencia iterativa while</div>"
   ]
  },
  {
   "cell_type": "markdown",
   "metadata": {},
   "source": [
    "Al contrario de lo que ocurre con los bucles *for*, los bucles **while** no se repiten un número determinado de veces, sino mientras se cumpla una condición. La estructura de estos bucles es la siguiente:\n",
    "\n",
    "while condición:\n",
    "\n",
    "    código\n",
    "\n",
    "Si quisiéramos leerlo sería algo como \"*Mientras se cumpla la condición, ejecuta el código y vuelve a evaluar si se sigue cumpliendo la condición*\". Tal y como ocurría con la sentencia *if*, *condición* es una expresión que devuelve un booleano (True/False). Y, nuevamente, el código que deseamos ejecutar dentro del bucle deberá aparecer sangrado con cuatro espacios en blanco o un tabulador. Por ejemplo:"
   ]
  },
  {
   "cell_type": "code",
   "execution_count": 15,
   "metadata": {},
   "outputs": [
    {
     "name": "stdout",
     "output_type": "stream",
     "text": [
      "1\n",
      "2\n",
      "4\n"
     ]
    }
   ],
   "source": [
    "n = 1\n",
    "while n < 8:\n",
    "    print(n)\n",
    "    n = n + n  "
   ]
  },
  {
   "cell_type": "markdown",
   "metadata": {},
   "source": [
    "Veamos con detalle cómo se ejecutaría este código:\n",
    "\n",
    "* Inicialmente *n* toma el valor 1 (primera línea del código).\n",
    "* Llegamos al bucle while y la primera línea del mismo (while n < 8) comprueba si se cumple la condición \"*¿es n menor que 8?*\". Sí, se cumple, de forma que se ejecuta el código que hay en el interior del bucle, imprimiendo *n* y asignando a *n* un nuevo valor resultante de sumar a *n* su propio valor. Es decir, ahora *n* vale 2.\n",
    "* Y volvemos al comienzo del bucle y volvemos a preguntarnos si la condición se sigue cumpliendo \"*¿es n menor que 8?*\" Sí, por lo que se vuelve a ejecutar el código del bucle y se asigna a *n* el nuevo valor de 4 (= 2 + 2).\n",
    "* Vuelve a cumplirse la condición de ser *n* menor que 8, por lo que se vuelve a ejecutar el código del bucle. Y se asigna a *n* el nuevo valor de 8 (= 4 + 4).\n",
    "* Y volvemos al comienzo del bucle y a preguntarnos \"*¿es n menor que 8?*\" Y ahora la respuesta es negativa (8 no es menor que 8), por lo que no se ejecuta el código del bucle y el programa continuaría ejecutando las instrucciones que hubiese a continuación."
   ]
  },
  {
   "cell_type": "markdown",
   "metadata": {},
   "source": [
    "<div style = \"float:right\"><a style=\"text-decoration:none\" href = \"#inicio\">Inicio</a></div>"
   ]
  },
  {
   "cell_type": "markdown",
   "metadata": {},
   "source": [
    "<a name = \"inicio\"></a>"
   ]
  },
  {
   "cell_type": "markdown",
   "metadata": {},
   "source": [
    "<div style=\"font-size: 40px;text-align: center;height:50px;padding:10px;margin:0 0 10px 0;\">break y continue</div>"
   ]
  },
  {
   "cell_type": "markdown",
   "metadata": {},
   "source": [
    "Los bucles for y while pueden ser interrumpidos con la sentencia **break**: cuando se ejecuta, el programa sale del bucle y continúa ejecutando el resto del código:"
   ]
  },
  {
   "cell_type": "code",
   "execution_count": 16,
   "metadata": {},
   "outputs": [
    {
     "name": "stdout",
     "output_type": "stream",
     "text": [
      "0\n",
      "1\n",
      "2\n",
      "3\n"
     ]
    }
   ],
   "source": [
    "for n in range(10000):\n",
    "    print(n)\n",
    "    if n == 3:\n",
    "        break"
   ]
  },
  {
   "cell_type": "markdown",
   "metadata": {},
   "source": [
    "En este ejemplo, el bucle *for* se inicializa para que se ejecute 10.000 veces. Pero cuando la variable *n* toma el valor 3 se ejecuta la sentencia *break*, que interrumpe el bucle y obliga a Python a seguir ejecutando el resto del programa.\n",
    "\n",
    "En el caso de que la sentencia *if* incluya un *else*, éste no se ejecuta si se sale del bucle con un *break*."
   ]
  },
  {
   "cell_type": "markdown",
   "metadata": {},
   "source": [
    "La sentencia **continue**, cuando se ejecuta, obliga a Python a dejar de ejecutar el código que haya dentro del bucle y a iniciar una nueva iteración (es decir, a volver al comienzo del bucle y seguir con la ejecución del programa):"
   ]
  },
  {
   "cell_type": "code",
   "execution_count": 17,
   "metadata": {},
   "outputs": [
    {
     "name": "stdout",
     "output_type": "stream",
     "text": [
      "0\n",
      "1\n",
      "3\n",
      "4\n"
     ]
    }
   ],
   "source": [
    "for n in range(5):\n",
    "    if n == 2:\n",
    "        continue\n",
    "    print(n)"
   ]
  },
  {
   "cell_type": "markdown",
   "metadata": {},
   "source": [
    "Ahora, el bucle for se inicializa para que se ejecute 5 veces, tomando *n* los valores desde 0 hasta 4. En cada iteración se imprime el valor de *n*. Pero cuando *n* toma el valor de 2, el programa vuelve al comienzo del bucle y comienza la siguiente iteración, saltándose la instrucción *print*. Es por ello que no se imprime el valor 2."
   ]
  },
  {
   "cell_type": "markdown",
   "metadata": {},
   "source": [
    "Si estamos trabajando con bucles anidados, las sentencias break y continue afectan solo al bucle \"más próximo\". Por ejemplo, partimos de los siguientes dos bucles anidados:"
   ]
  },
  {
   "cell_type": "code",
   "execution_count": 18,
   "metadata": {},
   "outputs": [
    {
     "name": "stdout",
     "output_type": "stream",
     "text": [
      "A 0\n",
      "A 1\n",
      "A 2\n",
      "B 0\n",
      "B 1\n",
      "B 2\n",
      "C 0\n",
      "C 1\n",
      "C 2\n"
     ]
    }
   ],
   "source": [
    "for letter in [\"A\", \"B\", \"C\"]:\n",
    "    for number in range(3):\n",
    "        print(letter, number)"
   ]
  },
  {
   "cell_type": "markdown",
   "metadata": {},
   "source": [
    "Si ejecutamos el siguiente código:"
   ]
  },
  {
   "cell_type": "code",
   "execution_count": 19,
   "metadata": {},
   "outputs": [
    {
     "name": "stdout",
     "output_type": "stream",
     "text": [
      "A 0\n",
      "B 0\n",
      "C 0\n"
     ]
    }
   ],
   "source": [
    "for letter in [\"A\", \"B\", \"C\"]:\n",
    "    for number in range(3):\n",
    "        if number == 1:\n",
    "            break\n",
    "        print(letter, number)"
   ]
  },
  {
   "cell_type": "markdown",
   "metadata": {},
   "source": [
    "Comprobamos que el buble interior termina en cuanto la variable *number* toma el valor 1, pero el buble exterior se sigue ejecutando. De forma semejante, si ejecutamos el siguiente código:"
   ]
  },
  {
   "cell_type": "code",
   "execution_count": 20,
   "metadata": {},
   "outputs": [
    {
     "name": "stdout",
     "output_type": "stream",
     "text": [
      "A 0\n",
      "A 2\n",
      "B 0\n",
      "B 2\n",
      "C 0\n",
      "C 2\n"
     ]
    }
   ],
   "source": [
    "for letter in [\"A\", \"B\", \"C\"]:\n",
    "    for number in range(3):\n",
    "        if number == 1:\n",
    "            continue\n",
    "        print(letter, number)"
   ]
  },
  {
   "cell_type": "markdown",
   "metadata": {},
   "source": [
    "Comprobamos que es el bucle interior el que, tras la ejecución de la sentencia *continue*, salta a la siguiente iteración, mientras que el bucle exterior no se ve afectado."
   ]
  },
  {
   "cell_type": "markdown",
   "metadata": {},
   "source": [
    "<div style = \"float:right\"><a style=\"text-decoration:none\" href = \"#inicio\">Inicio</a></div>"
   ]
  }
 ],
 "metadata": {
  "kernelspec": {
   "display_name": "Python 3 (ipykernel)",
   "language": "python",
   "name": "python3"
  },
  "language_info": {
   "codemirror_mode": {
    "name": "ipython",
    "version": 3
   },
   "file_extension": ".py",
   "mimetype": "text/x-python",
   "name": "python",
   "nbconvert_exporter": "python",
   "pygments_lexer": "ipython3",
   "version": "3.11.7"
  }
 },
 "nbformat": 4,
 "nbformat_minor": 4
}
