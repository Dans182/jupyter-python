{
 "cells": [
  {
   "attachments": {
    "681808f2-9777-4b02-8340-43884f26a29e.png": {
     "image/png": "[encoded data removed]"
    }
   },
   "cell_type": "markdown",
   "metadata": {},
   "source": [
    "![Cabecera cuadernos Jupyter.png](attachment:681808f2-9777-4b02-8340-43884f26a29e.png)\n",
    "<a name = \"inicio\"></a>"
   ]
  },
  {
   "cell_type": "markdown",
   "metadata": {},
   "source": [
    "<div style=\"font-size: 50px;text-align: center;height:60px;padding:10px;margin:10px 0 0 0;\">Decoradores</div>"
   ]
  },
  {
   "cell_type": "markdown",
   "metadata": {},
   "source": [
    "# La sucesión de Fibonacci"
   ]
  },
  {
   "cell_type": "markdown",
   "metadata": {},
   "source": [
    "Planteémonos el siguiente objetivo: crear una función que nos devuelva el n-ésimo valor de la sucesión de Fibonacci. En esta sucesión, el primer valor es el 1, el segundo también es el 1 y, a partir de ahí, los valores se calculan como la suma de los dos anteriores. De esta forma, el tercer valor es el 2 (1 + 1), el cuarto es el 3 (1 + 2), etc.:\n",
    "\n",
    "1, 1, 2, 3, 5, 8..."
   ]
  },
  {
   "cell_type": "markdown",
   "metadata": {},
   "source": [
    "Podríamos implementar esta función fácilmente de forma tal que, si el valor solicitado es el primero o el segundo, se devuelva 1 directamente. Y si no lo es, se devuelva la suma de los dos valores previos, que pueden obtenerse invocando a la misma función de forma recursiva:"
   ]
  },
  {
   "cell_type": "code",
   "execution_count": 1,
   "metadata": {},
   "outputs": [],
   "source": [
    "def fibonacci(n):\n",
    "    if (n == 1) or (n == 2):\n",
    "        return 1\n",
    "    else:\n",
    "        return fibonacci(n - 1) + fibonacci(n - 2)"
   ]
  },
  {
   "cell_type": "markdown",
   "metadata": {},
   "source": [
    "Probemos la función pidiéndole los primeros 10 valores de la sucesión y midamos el tiempo de ejecución:"
   ]
  },
  {
   "cell_type": "code",
   "execution_count": 2,
   "metadata": {},
   "outputs": [
    {
     "name": "stdout",
     "output_type": "stream",
     "text": [
      "1 1\n",
      "2 1\n",
      "3 2\n",
      "4 3\n",
      "5 5\n",
      "6 8\n",
      "7 13\n",
      "8 21\n",
      "9 34\n",
      "10 55\n",
      "CPU times: total: 0 ns\n",
      "Wall time: 0 ns\n"
     ]
    }
   ],
   "source": [
    "%%time\n",
    "for n in range(1, 11):\n",
    "    print(n, fibonacci(n))"
   ]
  },
  {
   "cell_type": "markdown",
   "metadata": {},
   "source": [
    "Muy rápida. Ahora bien, pidámosle los primeros 35 valores, también midiendo el tiempo de ejecución: "
   ]
  },
  {
   "cell_type": "code",
   "execution_count": 3,
   "metadata": {
    "scrolled": true
   },
   "outputs": [
    {
     "name": "stdout",
     "output_type": "stream",
     "text": [
      "1 1\n",
      "2 1\n",
      "3 2\n",
      "4 3\n",
      "5 5\n",
      "6 8\n",
      "7 13\n",
      "8 21\n",
      "9 34\n",
      "10 55\n",
      "11 89\n",
      "12 144\n",
      "13 233\n",
      "14 377\n",
      "15 610\n",
      "16 987\n",
      "17 1597\n",
      "18 2584\n",
      "19 4181\n",
      "20 6765\n",
      "21 10946\n",
      "22 17711\n",
      "23 28657\n",
      "24 46368\n",
      "25 75025\n",
      "26 121393\n",
      "27 196418\n",
      "28 317811\n",
      "29 514229\n",
      "30 832040\n",
      "31 1346269\n",
      "32 2178309\n",
      "33 3524578\n",
      "34 5702887\n",
      "35 9227465\n",
      "CPU times: total: 3.11 s\n",
      "Wall time: 3.12 s\n"
     ]
    }
   ],
   "source": [
    "%%time\n",
    "for n in range(1, 36):\n",
    "    print(n, fibonacci(n))"
   ]
  },
  {
   "cell_type": "markdown",
   "metadata": {},
   "source": [
    "Comprobamos que el tiempo para obtener el n-ésimo valor se hace mayor y mayor a medida que n crece, lo que es lógico tal y como hemos escrito la función: para calcular el valor 30, por ejemplo, es necesario calcular los valores 29 y 28. Pero para obtener el valor 29, es necesario calcular los valores 28 y 27, etc."
   ]
  },
  {
   "cell_type": "markdown",
   "metadata": {},
   "source": [
    "Comprobemos solamente el tiempo que tarda en obtener los 35 valores, sin mostrarlos en pantalla:"
   ]
  },
  {
   "cell_type": "code",
   "execution_count": 4,
   "metadata": {},
   "outputs": [
    {
     "name": "stdout",
     "output_type": "stream",
     "text": [
      "CPU times: total: 3.02 s\n",
      "Wall time: 3.01 s\n"
     ]
    }
   ],
   "source": [
    "%%time\n",
    "for n in range(1, 36):\n",
    "    fibonacci(n)"
   ]
  },
  {
   "cell_type": "markdown",
   "metadata": {},
   "source": [
    "Podríamos solucionar esto \"cacheando\" (memorizando) los valores que vayamos obteniendo. Con este objetivo podríamos crear un diccionario que recibiese, como clave, el valor n y, como valor, su valor en la sucesión de Fibonacci. Ahora, nuestra función comprobaría en primer lugar si un valor ha sido ya calculado y, si es el caso, lo obtendría directamente del diccionario (si no se hubiese obtenido se calcularía):"
   ]
  },
  {
   "cell_type": "code",
   "execution_count": 5,
   "metadata": {},
   "outputs": [],
   "source": [
    "cache = {}"
   ]
  },
  {
   "cell_type": "code",
   "execution_count": 6,
   "metadata": {},
   "outputs": [],
   "source": [
    "def fibonacci(n):\n",
    "    if (n == 1) or (n == 2):\n",
    "        return 1\n",
    "    else:\n",
    "        if n in cache:\n",
    "            return cache[n]\n",
    "        else:\n",
    "            valor = fibonacci(n - 1) + fibonacci(n - 2)\n",
    "            cache[n] = valor\n",
    "            return valor"
   ]
  },
  {
   "cell_type": "markdown",
   "metadata": {},
   "source": [
    "Comprobemos el tiempo de ejecución tras esta mejora:"
   ]
  },
  {
   "cell_type": "code",
   "execution_count": 7,
   "metadata": {},
   "outputs": [
    {
     "name": "stdout",
     "output_type": "stream",
     "text": [
      "CPU times: total: 0 ns\n",
      "Wall time: 0 ns\n"
     ]
    }
   ],
   "source": [
    "%%time\n",
    "for n in range(1, 36):\n",
    "    fibonacci(n)"
   ]
  },
  {
   "cell_type": "markdown",
   "metadata": {},
   "source": [
    "Tras este cambio, el cálculo de los primeros 35 valores es instantáneo."
   ]
  },
  {
   "cell_type": "markdown",
   "metadata": {},
   "source": [
    "<div style = \"float:right\"><a style=\"text-decoration:none\" href = \"#inicio\">Inicio</a></div>"
   ]
  },
  {
   "cell_type": "markdown",
   "metadata": {},
   "source": [
    "# Decoradores"
   ]
  },
  {
   "cell_type": "markdown",
   "metadata": {},
   "source": [
    "Los decoradores en Python son una potente herramienta que permite modificar el comportamiento de una función, método o clase. Se utilizan para \"envolver\" otra función o método, permitiéndonos ejecutar código antes y después de la función envuelta sin modificar su código fuente (o, como suele decirse, de esta forma \"aumentamos\" la función con el decorador). Esto es particularmente útil para agregar funcionalidades de manera limpia y reutilizable a nuestras funciones y métodos, como logging, control de acceso, medición de tiempo, \"cacheado\" de resultados, etc.\n",
    "\n",
    "Un decorador en Python es usualmente definido como una función que recibe una función como argumento y devuelve otra función.\n",
    "\n",
    "Aquí tenemos un ejemplo simple de cómo crear un decorador:"
   ]
  },
  {
   "cell_type": "code",
   "execution_count": 8,
   "metadata": {},
   "outputs": [],
   "source": [
    "def decorator(func):\n",
    "    def wrapper():\n",
    "        print(\"Este código se ejecuta antes de llamar a la función\")\n",
    "        func()\n",
    "        print(\"Este código se ejecuta después de llamar a la función\")\n",
    "    return wrapper"
   ]
  },
  {
   "cell_type": "markdown",
   "metadata": {},
   "source": [
    "Una vez creado, podemos ejecutarlo pasándole cualquier función. Por ejemplo:"
   ]
  },
  {
   "cell_type": "code",
   "execution_count": 9,
   "metadata": {},
   "outputs": [],
   "source": [
    "def saluda():\n",
    "    print(\"¡Hola mundo!\")"
   ]
  },
  {
   "cell_type": "code",
   "execution_count": 10,
   "metadata": {},
   "outputs": [
    {
     "name": "stdout",
     "output_type": "stream",
     "text": [
      "Este código se ejecuta antes de llamar a la función\n",
      "¡Hola mundo!\n",
      "Este código se ejecuta después de llamar a la función\n"
     ]
    }
   ],
   "source": [
    "f = decorator(saluda)\n",
    "f()"
   ]
  },
  {
   "cell_type": "markdown",
   "metadata": {},
   "source": [
    "Es decir, cuando ejecutamos la función *decorator* pasándole como argumento la función *saluda*, lo que obtenemos es otra función (la función *wrapper* que estamos almacenando en la variable *f*) que, en nuestro caso, -cuando se ejecute- ejecutará tres instrucciones:\n",
    "\n",
    "1. Imprimirá el texto \"*Este código se ejecuta antes de llamar a la función*\"\n",
    "2. Ejecutará la función *saluda*, y\n",
    "3. Imprimirá el texto \"*Este código se ejecuta después de llamar a la función*\"\n",
    "\n",
    "Eso sí, todo esto ocurrirá cuando ejecutemos la función. Para ello, una vez hemos obtenido la función *wrapper* y la hemos almacenado en *f*, podemos ejecutarla como ejecutamos cualquier función: haciendo referencia a su nombre seguido de paréntesis: f().\n",
    "\n",
    "Habríamos obtenido el mismo resultado con:"
   ]
  },
  {
   "cell_type": "code",
   "execution_count": 11,
   "metadata": {},
   "outputs": [
    {
     "name": "stdout",
     "output_type": "stream",
     "text": [
      "Este código se ejecuta antes de llamar a la función\n",
      "¡Hola mundo!\n",
      "Este código se ejecuta después de llamar a la función\n"
     ]
    }
   ],
   "source": [
    "decorator(saluda)()"
   ]
  },
  {
   "cell_type": "markdown",
   "metadata": {},
   "source": [
    "aunque, en este caso, queda un poco menos obvio el proceso seguido."
   ]
  },
  {
   "cell_type": "markdown",
   "metadata": {},
   "source": [
    "# Syntax sugar"
   ]
  },
  {
   "cell_type": "markdown",
   "metadata": {},
   "source": [
    "Sin embargo, Python nos ofrece otro método mucho más cómodo para aplicar automáticamente un decorador a una función, y es añadir el código *@nombre-del-decorador* antes de la definición de la función:"
   ]
  },
  {
   "cell_type": "code",
   "execution_count": 12,
   "metadata": {},
   "outputs": [],
   "source": [
    "@decorator\n",
    "def saluda():\n",
    "    print(\"¡Hola mundo!\")"
   ]
  },
  {
   "cell_type": "markdown",
   "metadata": {},
   "source": [
    "Ahora, cuando ejecutemos la función, se invocará automáticamente el decorador:"
   ]
  },
  {
   "cell_type": "code",
   "execution_count": 13,
   "metadata": {},
   "outputs": [
    {
     "name": "stdout",
     "output_type": "stream",
     "text": [
      "Este código se ejecuta antes de llamar a la función\n",
      "¡Hola mundo!\n",
      "Este código se ejecuta después de llamar a la función\n"
     ]
    }
   ],
   "source": [
    "saluda()"
   ]
  },
  {
   "cell_type": "markdown",
   "metadata": {},
   "source": [
    "Este tipo de mejoras en la sintaxis de un lenguaje de programación que nos permiten ejecutar una herramienta más cómodamente es lo que se denomina **syntax sugar** (*azúcar sintáctico*)."
   ]
  },
  {
   "cell_type": "markdown",
   "metadata": {},
   "source": [
    "# Decoradores con parámetros"
   ]
  },
  {
   "cell_type": "markdown",
   "metadata": {},
   "source": [
    "Por supuesto, si la función que estamos aumentando con el decorador espera recibir argumentos, el código del decorador tendrá que tener esto en cuenta. Por ejemplo, supongamos que partimos de una sencilla función que suma dos números:"
   ]
  },
  {
   "cell_type": "code",
   "execution_count": 14,
   "metadata": {},
   "outputs": [],
   "source": [
    "def suma(a, b):\n",
    "    return a + b"
   ]
  },
  {
   "cell_type": "markdown",
   "metadata": {},
   "source": [
    "Si quisiéramos crear un decorador que ejecutase cierto código antes y después de ejecutar la función, tendríamos que crearlo del siguiente modo:"
   ]
  },
  {
   "cell_type": "code",
   "execution_count": 15,
   "metadata": {},
   "outputs": [],
   "source": [
    "def decorator(func):\n",
    "    def wrapper(a, b):\n",
    "        print(\"Este código se ejecuta antes de llamar a la función\")\n",
    "        result = func(a, b)\n",
    "        print(result)\n",
    "        print(\"Este código se ejecuta después de llamar a la función\")\n",
    "    return wrapper"
   ]
  },
  {
   "cell_type": "markdown",
   "metadata": {},
   "source": [
    "Ahora, ya podríamos aumentar nuestra función:"
   ]
  },
  {
   "cell_type": "code",
   "execution_count": 16,
   "metadata": {},
   "outputs": [],
   "source": [
    "@decorator\n",
    "def suma(a, b):\n",
    "    return a + b"
   ]
  },
  {
   "cell_type": "code",
   "execution_count": 17,
   "metadata": {},
   "outputs": [
    {
     "name": "stdout",
     "output_type": "stream",
     "text": [
      "Este código se ejecuta antes de llamar a la función\n",
      "10\n",
      "Este código se ejecuta después de llamar a la función\n"
     ]
    }
   ],
   "source": [
    "suma(4, 6)"
   ]
  },
  {
   "cell_type": "markdown",
   "metadata": {},
   "source": [
    "En cualquier caso, resulta conveniente que, cuando creamos un decorador, lo hagamos intentando que sea aplicable al mayor número de funciones que sea posible. En el ejemplo que acabamos de ver, el decorador solo sería aplicable a funciones con dos argumentos, lo que no es muy generalizable. Es por ello por lo que, habitualmente, los decoradores se crean para que funcionen con cualquier número de argumentos, tanto posicionales como nominales, lo que puede conseguirse con el siguiente código:"
   ]
  },
  {
   "cell_type": "code",
   "execution_count": 18,
   "metadata": {},
   "outputs": [],
   "source": [
    "def decorator(func):\n",
    "    def wrapper(*args, **kwargs):\n",
    "        print(\"Este código se ejecuta antes de llamar a la función\")\n",
    "        result = func(*args, **kwargs)\n",
    "        print(result)\n",
    "        print(\"Este código se ejecuta después de llamar a la función\")\n",
    "    return wrapper"
   ]
  },
  {
   "cell_type": "markdown",
   "metadata": {},
   "source": [
    "Aquí, la función *wrapper* devuelta por el decorador acepta cualquier número de argumentos."
   ]
  },
  {
   "cell_type": "code",
   "execution_count": 19,
   "metadata": {},
   "outputs": [],
   "source": [
    "@decorator\n",
    "def suma(a, b):\n",
    "    return a + b"
   ]
  },
  {
   "cell_type": "code",
   "execution_count": 20,
   "metadata": {},
   "outputs": [
    {
     "name": "stdout",
     "output_type": "stream",
     "text": [
      "Este código se ejecuta antes de llamar a la función\n",
      "10\n",
      "Este código se ejecuta después de llamar a la función\n"
     ]
    }
   ],
   "source": [
    "suma(4, 6)"
   ]
  },
  {
   "cell_type": "markdown",
   "metadata": {},
   "source": [
    "# Otros decoradorres"
   ]
  },
  {
   "cell_type": "markdown",
   "metadata": {},
   "source": [
    "En todo caso, existen decoradores ya implementados en Python. Por ejemplo, *cache* o *lru_cache*. Veamos cómo podríamos aplicarlos a nuestro escenario basado en la sucesión de Fibonacci."
   ]
  },
  {
   "cell_type": "markdown",
   "metadata": {},
   "source": [
    "### cache"
   ]
  },
  {
   "cell_type": "markdown",
   "metadata": {},
   "source": [
    "El decorador **cache** que podemos importar de la librería *functools* nos permite memorizar los valores devueltos por nuestra función:"
   ]
  },
  {
   "cell_type": "code",
   "execution_count": 21,
   "metadata": {},
   "outputs": [],
   "source": [
    "from functools import cache"
   ]
  },
  {
   "cell_type": "markdown",
   "metadata": {},
   "source": [
    "Apliquémosla a nuestra función *fibonacci* original:"
   ]
  },
  {
   "cell_type": "code",
   "execution_count": 22,
   "metadata": {},
   "outputs": [],
   "source": [
    "@cache\n",
    "def fibonacci(n):\n",
    "    if (n == 1) or (n == 2):\n",
    "        return 1\n",
    "    else:\n",
    "        return fibonacci(n - 1) + fibonacci(n - 2)"
   ]
  },
  {
   "cell_type": "markdown",
   "metadata": {},
   "source": [
    "Comprobemos el resultado:"
   ]
  },
  {
   "cell_type": "code",
   "execution_count": 23,
   "metadata": {},
   "outputs": [
    {
     "name": "stdout",
     "output_type": "stream",
     "text": [
      "CPU times: total: 0 ns\n",
      "Wall time: 0 ns\n"
     ]
    }
   ],
   "source": [
    "%%time\n",
    "for n in range(1, 36):\n",
    "    fibonacci(n)"
   ]
  },
  {
   "cell_type": "markdown",
   "metadata": {},
   "source": [
    "Vemos que, efectivamente, el cálculo es instantáneo. "
   ]
  },
  {
   "cell_type": "markdown",
   "metadata": {},
   "source": [
    "### lru_cache"
   ]
  },
  {
   "cell_type": "markdown",
   "metadata": {},
   "source": [
    "El decorador **cache** memoriza todos los resultados devueltos por la función, lo que puede suponer un consumo de memoria excesivo. **lru_cache** (*Least Recently Used Cache*) que también podemos importar de la librería *functools* nos permite memorizar un número limitado de los valores devueltos por nuestra función."
   ]
  },
  {
   "cell_type": "code",
   "execution_count": 24,
   "metadata": {},
   "outputs": [],
   "source": [
    "from functools import lru_cache"
   ]
  },
  {
   "cell_type": "markdown",
   "metadata": {},
   "source": [
    "Apliquémosla a nuestra función:"
   ]
  },
  {
   "cell_type": "code",
   "execution_count": 25,
   "metadata": {},
   "outputs": [],
   "source": [
    "@lru_cache\n",
    "def fibonacci(n):\n",
    "    if (n == 1) or (n == 2):\n",
    "        return 1\n",
    "    else:\n",
    "        return fibonacci(n - 1) + fibonacci(n - 2)"
   ]
  },
  {
   "cell_type": "markdown",
   "metadata": {},
   "source": [
    "Y comprobemos el resultado:"
   ]
  },
  {
   "cell_type": "code",
   "execution_count": 26,
   "metadata": {},
   "outputs": [
    {
     "name": "stdout",
     "output_type": "stream",
     "text": [
      "CPU times: total: 0 ns\n",
      "Wall time: 0 ns\n"
     ]
    }
   ],
   "source": [
    "%%time\n",
    "for n in range(1, 36):\n",
    "    fibonacci(n)"
   ]
  },
  {
   "cell_type": "markdown",
   "metadata": {},
   "source": [
    "Este decorador memoriza, por defecto, un máximo de 128 valores. Pero podemos modificar este número usando el parámetro *maxsize*:"
   ]
  },
  {
   "cell_type": "code",
   "execution_count": 27,
   "metadata": {},
   "outputs": [],
   "source": [
    "@lru_cache(maxsize = 1000)\n",
    "def fibonacci(n):\n",
    "    if (n == 1) or (n == 2):\n",
    "        return 1\n",
    "    else:\n",
    "        return fibonacci(n - 1) + fibonacci(n - 2)"
   ]
  },
  {
   "cell_type": "markdown",
   "metadata": {},
   "source": [
    "<div style = \"float:right\"><a style=\"text-decoration:none\" href = \"#inicio\">Inicio</a></div>"
   ]
  }
 ],
 "metadata": {
  "kernelspec": {
   "display_name": "Python 3 (ipykernel)",
   "language": "python",
   "name": "python3"
  },
  "language_info": {
   "codemirror_mode": {
    "name": "ipython",
    "version": 3
   },
   "file_extension": ".py",
   "mimetype": "text/x-python",
   "name": "python",
   "nbconvert_exporter": "python",
   "pygments_lexer": "ipython3",
   "version": "3.11.7"
  }
 },
 "nbformat": 4,
 "nbformat_minor": 4
}
