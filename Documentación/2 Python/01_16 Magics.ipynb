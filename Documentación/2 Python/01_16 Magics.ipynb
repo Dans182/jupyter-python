{
 "cells": [
  {
   "attachments": {
    "681808f2-9777-4b02-8340-43884f26a29e.png": {
     "image/png": "[encoded data removed]"
    }
   },
   "cell_type": "markdown",
   "metadata": {},
   "source": [
    "![Cabecera cuadernos Jupyter.png](attachment:681808f2-9777-4b02-8340-43884f26a29e.png)\n",
    "<a name = \"inicio\"></a>"
   ]
  },
  {
   "cell_type": "markdown",
   "metadata": {},
   "source": [
    "<div style=\"font-size: 50px;text-align: center;height:70px;padding:10px;margin:10px 0 0 0;\">Magics</div>"
   ]
  },
  {
   "cell_type": "markdown",
   "metadata": {},
   "source": [
    "Las **magics** (**cell magics** y **line magics**) o **comandos mágicos integrados** son comandos especiales en Jupyter Notebooks que proporcionan herramientas para interactuar con el cuaderno de manera más eficiente, realizar tareas específicas, o interactuar con el sistema subyacente. Estos comandos están precedidos por uno o dos signos de porcentaje (**\"%\"** para line magics, **\"%%\"** para cell magics), y su alcance y uso varían dependiendo de si son line magics o cell magics."
   ]
  },
  {
   "cell_type": "markdown",
   "metadata": {},
   "source": [
    "# Cell magics"
   ]
  },
  {
   "cell_type": "markdown",
   "metadata": {},
   "source": [
    "Las **cell magics** son comandos precedidos por dos signos de porcentaje (%%) y afectan a toda la celda en la que se escriben. Permiten realizar acciones complejas o aplicar un comportamiento específico a todo el código dentro de la celda. Por ejemplo, puedes ejecutar celdas con código en diferentes lenguajes de programación, medir el tiempo de ejecución de una celda, o escribir contenido directamente a un archivo. Estos comandos deberán escribirse en la primera línea sin comentarios ni ningún otro texto. Veamos las principales *cell magics*:"
   ]
  },
  {
   "cell_type": "markdown",
   "metadata": {},
   "source": [
    "### %%time\n",
    "Mide el tiempo de ejecución de la celda completa."
   ]
  },
  {
   "cell_type": "code",
   "execution_count": 1,
   "metadata": {},
   "outputs": [
    {
     "name": "stdout",
     "output_type": "stream",
     "text": [
      "CPU times: total: 125 ms\n",
      "Wall time: 125 ms\n"
     ]
    }
   ],
   "source": [
    "%%time\n",
    "result = 0\n",
    "for i in range(1000):\n",
    "    x = list(range(10000))"
   ]
  },
  {
   "cell_type": "markdown",
   "metadata": {},
   "source": [
    "### %%timeit\n",
    "%%timeit mide el tiempo de ejecución de la celda entera varias veces para obtener una estimación más precisa del tiempo de ejecución. Es útil para pruebas de rendimiento y benchmarking:"
   ]
  },
  {
   "cell_type": "code",
   "execution_count": 2,
   "metadata": {},
   "outputs": [
    {
     "name": "stdout",
     "output_type": "stream",
     "text": [
      "114 ms ± 1.63 ms per loop (mean ± std. dev. of 7 runs, 10 loops each)\n"
     ]
    }
   ],
   "source": [
    "%%timeit\n",
    "result = 0\n",
    "for i in range(1000):\n",
    "    x = list(range(10000))"
   ]
  },
  {
   "cell_type": "markdown",
   "metadata": {},
   "source": [
    "En la salida de la celda anterior vemos que la función se ha repetido 7 veces, y en cada uno de esos ciclos nuestra celda se ha ejecutado 10 veces. Nos indica el tiempo medio por ejecución, así como la desviación estándar de los tiempos obtenidos."
   ]
  },
  {
   "cell_type": "markdown",
   "metadata": {},
   "source": [
    "Para modificar el número de veces que se ejecutará la celda podemos utilizar las opciones **-r** y **-n**:"
   ]
  },
  {
   "cell_type": "markdown",
   "metadata": {},
   "source": [
    "* -r <number\\>: Establece el número de veces (número de ciclos) que se va a repetir la medición (por defecto es 7).\n",
    "* -n <number\\>: Especifica el número de veces que, en cada ciclo, se va a ejecutar nuestra instrucción. Si no se especifica, se escogerá de forma automática de forma que el resultado tenga suficiente exactitud."
   ]
  },
  {
   "cell_type": "markdown",
   "metadata": {},
   "source": [
    "Por ejemplo:"
   ]
  },
  {
   "cell_type": "code",
   "execution_count": 3,
   "metadata": {},
   "outputs": [
    {
     "name": "stdout",
     "output_type": "stream",
     "text": [
      "114 ms ± 1.6 ms per loop (mean ± std. dev. of 3 runs, 20 loops each)\n"
     ]
    }
   ],
   "source": [
    "%%timeit -r 3 -n 20\n",
    "result = 0\n",
    "for i in range(1000):\n",
    "    x = list(range(10000))"
   ]
  },
  {
   "cell_type": "markdown",
   "metadata": {},
   "source": [
    "En este ejemplo se han realizado 3 pruebas, cada una consistente en la ejecución de nuestra celda 20 veces."
   ]
  },
  {
   "cell_type": "markdown",
   "metadata": {},
   "source": [
    "### %%writefile\n",
    "Escribe el contenido de la celda a un archivo. Por ejemplo, *%%writefile code.py* escribirá el contenido de la celda al archivo \"code.py\":"
   ]
  },
  {
   "cell_type": "code",
   "execution_count": 4,
   "metadata": {},
   "outputs": [
    {
     "name": "stdout",
     "output_type": "stream",
     "text": [
      "Writing code.py\n"
     ]
    }
   ],
   "source": [
    "%%writefile code.py\n",
    "import random\n",
    "result = 0\n",
    "for i in range(100):\n",
    "    result += random.randint(-5, 6)\n",
    "print(result)"
   ]
  },
  {
   "cell_type": "markdown",
   "metadata": {},
   "source": [
    "### %%html\n",
    "Permite escribir y mostrar directamente código HTML en la celda."
   ]
  },
  {
   "cell_type": "code",
   "execution_count": 5,
   "metadata": {},
   "outputs": [
    {
     "data": {
      "text/html": [
       "<table style=\"width:50%\">\n",
       "  <tr>\n",
       "    <th>Nombre</th>\n",
       "    <th>Edad</th> \n",
       "    <th>Ciudad</th>\n",
       "  </tr>\n",
       "  <tr>\n",
       "    <td>Juan</td>\n",
       "    <td>30</td> \n",
       "    <td>Madrid</td>\n",
       "  </tr>\n",
       "  <tr>\n",
       "    <td>Ana</td>\n",
       "    <td>25</td> \n",
       "    <td>Burgos</td>\n",
       "  </tr>\n",
       "  <tr>\n",
       "    <td>Pedro</td>\n",
       "    <td>35</td> \n",
       "    <td>Valencia</td>\n",
       "  </tr>\n",
       "</table>\n"
      ],
      "text/plain": [
       "<IPython.core.display.HTML object>"
      ]
     },
     "metadata": {},
     "output_type": "display_data"
    }
   ],
   "source": [
    "%%html\n",
    "<table style=\"width:50%\">\n",
    "  <tr>\n",
    "    <th>Nombre</th>\n",
    "    <th>Edad</th> \n",
    "    <th>Ciudad</th>\n",
    "  </tr>\n",
    "  <tr>\n",
    "    <td>Juan</td>\n",
    "    <td>30</td> \n",
    "    <td>Madrid</td>\n",
    "  </tr>\n",
    "  <tr>\n",
    "    <td>Ana</td>\n",
    "    <td>25</td> \n",
    "    <td>Burgos</td>\n",
    "  </tr>\n",
    "  <tr>\n",
    "    <td>Pedro</td>\n",
    "    <td>35</td> \n",
    "    <td>Valencia</td>\n",
    "  </tr>\n",
    "</table>"
   ]
  },
  {
   "cell_type": "markdown",
   "metadata": {},
   "source": [
    "### %%latex\n",
    "Permite escribir y renderizar directamente expresiones LaTeX en la celda para la presentación de fórmulas matemáticas."
   ]
  },
  {
   "cell_type": "code",
   "execution_count": 6,
   "metadata": {},
   "outputs": [
    {
     "data": {
      "text/latex": [
       "Sea $f(x)$ una función definida como $f(x) = x^2$. La derivada de $f$, denotada como $f'(x)$, se calcula como:\n",
       "$$ f'(x) = 2x $$\n",
       "Podemos integrar $f(x)$ respecto a $x$:\n",
       "$$ \\int f(x) \\, dx = \\frac{1}{3}x^3 + C $$\n",
       "Donde $C$ es la constante de integración.\n",
       "También podemos representar matrices y vectores. Por ejemplo, un vector $\\mathbf{v}$ puede ser representado como:\n",
       "$$ \\mathbf{v} = \\begin{pmatrix} v_1 \\\\ v_2 \\\\ \\vdots \\\\ v_n \\end{pmatrix} $$\n",
       "Y una matriz $A$ de tamaño $2 \\times 2$ es:\n",
       "$$ A = \\begin{pmatrix} a_{11} & a_{12} \\\\ a_{21} & a_{22} \\end{pmatrix} $$\n"
      ],
      "text/plain": [
       "<IPython.core.display.Latex object>"
      ]
     },
     "metadata": {},
     "output_type": "display_data"
    }
   ],
   "source": [
    "%%latex\n",
    "Sea $f(x)$ una función definida como $f(x) = x^2$. La derivada de $f$, denotada como $f'(x)$, se calcula como:\n",
    "$$ f'(x) = 2x $$\n",
    "Podemos integrar $f(x)$ respecto a $x$:\n",
    "$$ \\int f(x) \\, dx = \\frac{1}{3}x^3 + C $$\n",
    "Donde $C$ es la constante de integración.\n",
    "También podemos representar matrices y vectores. Por ejemplo, un vector $\\mathbf{v}$ puede ser representado como:\n",
    "$$ \\mathbf{v} = \\begin{pmatrix} v_1 \\\\ v_2 \\\\ \\vdots \\\\ v_n \\end{pmatrix} $$\n",
    "Y una matriz $A$ de tamaño $2 \\times 2$ es:\n",
    "$$ A = \\begin{pmatrix} a_{11} & a_{12} \\\\ a_{21} & a_{22} \\end{pmatrix} $$"
   ]
  },
  {
   "cell_type": "markdown",
   "metadata": {},
   "source": [
    "### %%python2 / %%python3\n",
    "Permite ejecutar la celda utilizando Python 2 o Python 3, respectivamente. Esto es útil para comparar comportamientos entre versiones de Python o para ejecutar código en una versión específica si tienes múltiples versiones de Python instaladas. Para usar %%python2 deberemos tener instalada esta versión de Python en nuestro equipo."
   ]
  },
  {
   "cell_type": "markdown",
   "metadata": {},
   "source": [
    "<div style = \"float:right\"><a style=\"text-decoration:none\" href = \"#inicio\">Inicio</a></div>"
   ]
  },
  {
   "cell_type": "markdown",
   "metadata": {},
   "source": [
    "# Line magics"
   ]
  },
  {
   "cell_type": "markdown",
   "metadata": {},
   "source": [
    "Las **line magics**, por otro lado, son comandos precedidos por un único signo de porcentaje (\"%\") y actúan sobre una sola línea de código en una celda de Jupyter Notebook. Pueden ser utilizados para configurar el comportamiento del notebook, obtener información sobre el estado actual del entorno Python, o realizar operaciones del sistema, entre otras funcionalidades.\n",
    "\n",
    "Entre estos comandos encontramos:"
   ]
  },
  {
   "cell_type": "markdown",
   "metadata": {},
   "source": [
    "### %lsmagic\n",
    "Muestra una lista de todos los magics disponibles, tanto *line magics* como *cell magics*."
   ]
  },
  {
   "cell_type": "code",
   "execution_count": 7,
   "metadata": {},
   "outputs": [
    {
     "data": {
      "application/json": {
       "cell": {
        "!": "OSMagics",
        "HTML": "Other",
        "SVG": "Other",
        "bash": "Other",
        "capture": "ExecutionMagics",
        "cmd": "Other",
        "code_wrap": "ExecutionMagics",
        "debug": "ExecutionMagics",
        "file": "Other",
        "html": "DisplayMagics",
        "javascript": "DisplayMagics",
        "js": "DisplayMagics",
        "latex": "DisplayMagics",
        "markdown": "DisplayMagics",
        "perl": "Other",
        "prun": "ExecutionMagics",
        "pypy": "Other",
        "python": "Other",
        "python2": "Other",
        "python3": "Other",
        "ruby": "Other",
        "script": "ScriptMagics",
        "sh": "Other",
        "svg": "DisplayMagics",
        "sx": "OSMagics",
        "system": "OSMagics",
        "time": "ExecutionMagics",
        "timeit": "ExecutionMagics",
        "writefile": "OSMagics"
       },
       "line": {
        "alias": "OSMagics",
        "alias_magic": "BasicMagics",
        "autoawait": "AsyncMagics",
        "autocall": "AutoMagics",
        "automagic": "AutoMagics",
        "autosave": "KernelMagics",
        "bookmark": "OSMagics",
        "cd": "OSMagics",
        "clear": "KernelMagics",
        "cls": "KernelMagics",
        "code_wrap": "ExecutionMagics",
        "colors": "BasicMagics",
        "conda": "PackagingMagics",
        "config": "ConfigMagics",
        "connect_info": "KernelMagics",
        "copy": "Other",
        "ddir": "Other",
        "debug": "ExecutionMagics",
        "dhist": "OSMagics",
        "dirs": "OSMagics",
        "doctest_mode": "BasicMagics",
        "echo": "Other",
        "ed": "Other",
        "edit": "KernelMagics",
        "env": "OSMagics",
        "gui": "BasicMagics",
        "hist": "Other",
        "history": "HistoryMagics",
        "killbgscripts": "ScriptMagics",
        "ldir": "Other",
        "less": "KernelMagics",
        "load": "CodeMagics",
        "load_ext": "ExtensionMagics",
        "loadpy": "CodeMagics",
        "logoff": "LoggingMagics",
        "logon": "LoggingMagics",
        "logstart": "LoggingMagics",
        "logstate": "LoggingMagics",
        "logstop": "LoggingMagics",
        "ls": "Other",
        "lsmagic": "BasicMagics",
        "macro": "ExecutionMagics",
        "magic": "BasicMagics",
        "mamba": "PackagingMagics",
        "matplotlib": "PylabMagics",
        "micromamba": "PackagingMagics",
        "mkdir": "Other",
        "more": "KernelMagics",
        "notebook": "BasicMagics",
        "page": "BasicMagics",
        "pastebin": "CodeMagics",
        "pdb": "ExecutionMagics",
        "pdef": "NamespaceMagics",
        "pdoc": "NamespaceMagics",
        "pfile": "NamespaceMagics",
        "pinfo": "NamespaceMagics",
        "pinfo2": "NamespaceMagics",
        "pip": "PackagingMagics",
        "popd": "OSMagics",
        "pprint": "BasicMagics",
        "precision": "BasicMagics",
        "prun": "ExecutionMagics",
        "psearch": "NamespaceMagics",
        "psource": "NamespaceMagics",
        "pushd": "OSMagics",
        "pwd": "OSMagics",
        "pycat": "OSMagics",
        "pylab": "PylabMagics",
        "qtconsole": "KernelMagics",
        "quickref": "BasicMagics",
        "recall": "HistoryMagics",
        "rehashx": "OSMagics",
        "reload_ext": "ExtensionMagics",
        "ren": "Other",
        "rep": "Other",
        "rerun": "HistoryMagics",
        "reset": "NamespaceMagics",
        "reset_selective": "NamespaceMagics",
        "rmdir": "Other",
        "run": "ExecutionMagics",
        "save": "CodeMagics",
        "sc": "OSMagics",
        "set_env": "OSMagics",
        "store": "StoreMagics",
        "sx": "OSMagics",
        "system": "OSMagics",
        "tb": "ExecutionMagics",
        "time": "ExecutionMagics",
        "timeit": "ExecutionMagics",
        "unalias": "OSMagics",
        "unload_ext": "ExtensionMagics",
        "who": "NamespaceMagics",
        "who_ls": "NamespaceMagics",
        "whos": "NamespaceMagics",
        "xdel": "NamespaceMagics",
        "xmode": "BasicMagics"
       }
      },
      "text/plain": [
       "Available line magics:\n",
       "%alias  %alias_magic  %autoawait  %autocall  %automagic  %autosave  %bookmark  %cd  %clear  %cls  %code_wrap  %colors  %conda  %config  %connect_info  %copy  %ddir  %debug  %dhist  %dirs  %doctest_mode  %echo  %ed  %edit  %env  %gui  %hist  %history  %killbgscripts  %ldir  %less  %load  %load_ext  %loadpy  %logoff  %logon  %logstart  %logstate  %logstop  %ls  %lsmagic  %macro  %magic  %mamba  %matplotlib  %micromamba  %mkdir  %more  %notebook  %page  %pastebin  %pdb  %pdef  %pdoc  %pfile  %pinfo  %pinfo2  %pip  %popd  %pprint  %precision  %prun  %psearch  %psource  %pushd  %pwd  %pycat  %pylab  %qtconsole  %quickref  %recall  %rehashx  %reload_ext  %ren  %rep  %rerun  %reset  %reset_selective  %rmdir  %run  %save  %sc  %set_env  %store  %sx  %system  %tb  %time  %timeit  %unalias  %unload_ext  %who  %who_ls  %whos  %xdel  %xmode\n",
       "\n",
       "Available cell magics:\n",
       "%%!  %%HTML  %%SVG  %%bash  %%capture  %%cmd  %%code_wrap  %%debug  %%file  %%html  %%javascript  %%js  %%latex  %%markdown  %%perl  %%prun  %%pypy  %%python  %%python2  %%python3  %%ruby  %%script  %%sh  %%svg  %%sx  %%system  %%time  %%timeit  %%writefile\n",
       "\n",
       "Automagic is ON, % prefix IS NOT needed for line magics."
      ]
     },
     "execution_count": 7,
     "metadata": {},
     "output_type": "execute_result"
    }
   ],
   "source": [
    "%lsmagic"
   ]
  },
  {
   "cell_type": "markdown",
   "metadata": {},
   "source": [
    "### %matplotlib\n",
    "Configura la integración de la librería matplotlib con el notebook de Jupyter. Por ejemplo, *%matplotlib inline* hará que las figuras de matplotlib se muestren dentro del notebook."
   ]
  },
  {
   "cell_type": "code",
   "execution_count": 8,
   "metadata": {},
   "outputs": [],
   "source": [
    "%matplotlib inline"
   ]
  },
  {
   "cell_type": "markdown",
   "metadata": {},
   "source": [
    "### %time\n",
    "Mide y muestra el tiempo de ejecución de una única instrucción:"
   ]
  },
  {
   "cell_type": "code",
   "execution_count": 9,
   "metadata": {},
   "outputs": [
    {
     "name": "stdout",
     "output_type": "stream",
     "text": [
      "CPU times: total: 15.6 ms\n",
      "Wall time: 15 ms\n"
     ]
    }
   ],
   "source": [
    "%time x = [list(range(10000)) for _ in range(100)]"
   ]
  },
  {
   "cell_type": "markdown",
   "metadata": {},
   "source": [
    "### %timeit\n",
    "De forma semejante a *%%timeit*, este comando ejecuta una instrucción varias veces para obtener una estimación más precisa del tiempo de ejecución:"
   ]
  },
  {
   "cell_type": "code",
   "execution_count": 10,
   "metadata": {},
   "outputs": [
    {
     "name": "stdout",
     "output_type": "stream",
     "text": [
      "21.4 ms ± 991 µs per loop (mean ± std. dev. of 7 runs, 10 loops each)\n"
     ]
    }
   ],
   "source": [
    "%timeit x = [list(range(10000)) for _ in range(100)]"
   ]
  },
  {
   "cell_type": "markdown",
   "metadata": {},
   "source": [
    "permitiéndonos también controlar el número de repeticiones y el número de veces que se va a ejecutar nuestra instrucción:"
   ]
  },
  {
   "cell_type": "code",
   "execution_count": 11,
   "metadata": {},
   "outputs": [
    {
     "name": "stdout",
     "output_type": "stream",
     "text": [
      "16.9 ms ± 566 µs per loop (mean ± std. dev. of 5 runs, 75 loops each)\n"
     ]
    }
   ],
   "source": [
    "%timeit -r 5 -n 75 x = [list(range(10000)) for _ in range(100)]"
   ]
  },
  {
   "cell_type": "markdown",
   "metadata": {},
   "source": [
    "### %pwd\n",
    "Muestra el directorio de trabajo actual del notebook."
   ]
  },
  {
   "cell_type": "code",
   "execution_count": 12,
   "metadata": {},
   "outputs": [
    {
     "data": {
      "text/plain": [
       "'d:\\\\OneDrive - Daniel Burrueco\\\\Profesional\\\\30 Cursos\\\\Python para Data Science\\\\2 Python'"
      ]
     },
     "execution_count": 12,
     "metadata": {},
     "output_type": "execute_result"
    }
   ],
   "source": [
    "%pwd"
   ]
  },
  {
   "cell_type": "markdown",
   "metadata": {},
   "source": [
    "### %cd\n",
    "Cambia el directorio de trabajo actual:"
   ]
  },
  {
   "cell_type": "code",
   "execution_count": 13,
   "metadata": {},
   "outputs": [
    {
     "name": "stdout",
     "output_type": "stream",
     "text": [
      "d:\\OneDrive - Daniel Burrueco\\Profesional\\30 Cursos\\Python para Data Science\\2 Python\\test\n"
     ]
    }
   ],
   "source": [
    "%cd ./test"
   ]
  },
  {
   "cell_type": "markdown",
   "metadata": {},
   "source": [
    "Lógicamente, si el directorio no existe devolverá un mensaje avisando:"
   ]
  },
  {
   "cell_type": "code",
   "execution_count": 14,
   "metadata": {},
   "outputs": [
    {
     "name": "stdout",
     "output_type": "stream",
     "text": [
      "[WinError 2] El sistema no puede encontrar el archivo especificado: './directorio'\n",
      "d:\\OneDrive - Daniel Burrueco\\Profesional\\30 Cursos\\Python para Data Science\\2 Python\\test\n"
     ]
    }
   ],
   "source": [
    "%cd ./directorio"
   ]
  },
  {
   "cell_type": "markdown",
   "metadata": {},
   "source": [
    "### %ls\n",
    "Lista los archivos en el directorio de trabajo actual."
   ]
  },
  {
   "cell_type": "code",
   "execution_count": 15,
   "metadata": {},
   "outputs": [
    {
     "name": "stdout",
     "output_type": "stream",
     "text": [
      " El volumen de la unidad D es D\n",
      " El número de serie del volumen es: F673-4984\n",
      "\n",
      " Directorio de d:\\OneDrive - Daniel Burrueco\\Profesional\\30 Cursos\\Python para Data Science\\2 Python\\test\n",
      "\n",
      "30/03/2024  11:52    <DIR>          .\n",
      "30/03/2024  11:52    <DIR>          ..\n",
      "27/03/2024  14:20            41.370 01_01 Variables.ipynb\n",
      "27/03/2024  11:23            98.966 01_02 Operaciones con variables.ipynb\n",
      "27/03/2024  14:21           122.919 01_03 Tipos de datos.ipynb\n",
      "27/03/2024  14:51            58.737 01_04 Funciones integradas.ipynb\n",
      "28/03/2024  14:14            39.084 01_05 Estructuras de control.ipynb\n",
      "               5 archivos        361.076 bytes\n",
      "               2 dirs  4.748.646.182.912 bytes libres\n"
     ]
    }
   ],
   "source": [
    "%ls"
   ]
  },
  {
   "cell_type": "markdown",
   "metadata": {},
   "source": [
    "### %env\n",
    "Sin argumentos, lista las variables de entorno. También se puede utilizar para establecer una variable de entorno, por ejemplo, *%env MY_VAR=123*."
   ]
  },
  {
   "cell_type": "markdown",
   "metadata": {},
   "source": [
    "### %run\n",
    "Ejecuta un archivo Python dentro del notebook. Por ejemplo, *%run code.py* ejecutará el script contenido en el fichero *code.py* y cargará todas sus variables en el espacio de trabajo del notebook. Probémoslo con el fichero *code.py* que generamos anteriormente:"
   ]
  },
  {
   "cell_type": "code",
   "execution_count": 16,
   "metadata": {},
   "outputs": [
    {
     "name": "stdout",
     "output_type": "stream",
     "text": [
      "52\n"
     ]
    }
   ],
   "source": [
    "%run ../code.py"
   ]
  },
  {
   "cell_type": "markdown",
   "metadata": {},
   "source": [
    "Obsérvese que habíamos cambiado el directorio actual a \"./test\", por lo que ahora hemos tenido que apuntar al directorio padre (que fue donde generamos el fichero)"
   ]
  },
  {
   "cell_type": "markdown",
   "metadata": {},
   "source": [
    "### %load\n",
    "Carga el código de un archivo fuente en una celda del notebook (por ejemplo, %load ../code.py). Una vez se ejecuta el comando, se añade una almohadilla delante y se carga el código en la celda (a continuación se muestra la celda una vez se ha ejecutado el comando):"
   ]
  },
  {
   "cell_type": "code",
   "execution_count": 17,
   "metadata": {},
   "outputs": [
    {
     "name": "stdout",
     "output_type": "stream",
     "text": [
      "15\n"
     ]
    }
   ],
   "source": [
    "# %load ../code.py\n",
    "import random\n",
    "result = 0\n",
    "for i in range(100):\n",
    "    result += random.randint(-5, 6)\n",
    "print(result)\n"
   ]
  },
  {
   "cell_type": "markdown",
   "metadata": {},
   "source": [
    "### %debug\n",
    "Invoca el depurador de Python (pdb) en la celda. Es útil para depurar excepciones y errores en el código."
   ]
  },
  {
   "cell_type": "markdown",
   "metadata": {},
   "source": [
    "### %history\n",
    "Muestra el historial de comandos ejecutados en el notebook."
   ]
  },
  {
   "cell_type": "code",
   "execution_count": 18,
   "metadata": {},
   "outputs": [
    {
     "name": "stdout",
     "output_type": "stream",
     "text": [
      "%%time\n",
      "result = 0\n",
      "for i in range(1000):\n",
      "    x = list(range(10000))\n",
      "%%timeit\n",
      "result = 0\n",
      "for i in range(1000):\n",
      "    x = list(range(10000))\n",
      "%%timeit -r 3 -n 20\n",
      "result = 0\n",
      "for i in range(1000):\n",
      "    x = list(range(10000))\n",
      "%%writefile code.py\n",
      "import random\n",
      "result = 0\n",
      "for i in range(100):\n",
      "    result += random.randint(-5, 6)\n",
      "print(result)\n",
      "%%html\n",
      "<table style=\"width:50%\">\n",
      "  <tr>\n",
      "    <th>Nombre</th>\n",
      "    <th>Edad</th> \n",
      "    <th>Ciudad</th>\n",
      "  </tr>\n",
      "  <tr>\n",
      "    <td>Juan</td>\n",
      "    <td>30</td> \n",
      "    <td>Madrid</td>\n",
      "  </tr>\n",
      "  <tr>\n",
      "    <td>Ana</td>\n",
      "    <td>25</td> \n",
      "    <td>Burgos</td>\n",
      "  </tr>\n",
      "  <tr>\n",
      "    <td>Pedro</td>\n",
      "    <td>35</td> \n",
      "    <td>Valencia</td>\n",
      "  </tr>\n",
      "</table>\n",
      "%%latex\n",
      "Sea $f(x)$ una función definida como $f(x) = x^2$. La derivada de $f$, denotada como $f'(x)$, se calcula como:\n",
      "$$ f'(x) = 2x $$\n",
      "Podemos integrar $f(x)$ respecto a $x$:\n",
      "$$ \\int f(x) \\, dx = \\frac{1}{3}x^3 + C $$\n",
      "Donde $C$ es la constante de integración.\n",
      "También podemos representar matrices y vectores. Por ejemplo, un vector $\\mathbf{v}$ puede ser representado como:\n",
      "$$ \\mathbf{v} = \\begin{pmatrix} v_1 \\\\ v_2 \\\\ \\vdots \\\\ v_n \\end{pmatrix} $$\n",
      "Y una matriz $A$ de tamaño $2 \\times 2$ es:\n",
      "$$ A = \\begin{pmatrix} a_{11} & a_{12} \\\\ a_{21} & a_{22} \\end{pmatrix} $$\n",
      "%lsmagic\n",
      "%matplotlib inline\n",
      "%time x = [list(range(10000)) for _ in range(100)]\n",
      "%timeit x = [list(range(10000)) for _ in range(100)]\n",
      "%timeit -r 5 -n 75 x = [list(range(10000)) for _ in range(100)]\n",
      "%pwd\n",
      "%cd ./test\n",
      "%cd ./directorio\n",
      "%ls\n",
      "%run ../code.py\n",
      "# %load ../code.py\n",
      "import random\n",
      "result = 0\n",
      "for i in range(100):\n",
      "    result += random.randint(-5, 6)\n",
      "print(result)\n",
      "%history\n"
     ]
    }
   ],
   "source": [
    "%history"
   ]
  },
  {
   "cell_type": "markdown",
   "metadata": {},
   "source": [
    "Puedes encontrar un listado completo de las \"magics\" en la <a href = \"https://ipython.readthedocs.io/en/stable/interactive/magics.html\">documentación oficial de Python</a>."
   ]
  },
  {
   "cell_type": "markdown",
   "metadata": {},
   "source": [
    "<div style = \"float:right\"><a style=\"text-decoration:none\" href = \"#inicio\">Inicio</a></div>"
   ]
  }
 ],
 "metadata": {
  "kernelspec": {
   "display_name": "Python 3 (ipykernel)",
   "language": "python",
   "name": "python3"
  },
  "language_info": {
   "codemirror_mode": {
    "name": "ipython",
    "version": 3
   },
   "file_extension": ".py",
   "mimetype": "text/x-python",
   "name": "python",
   "nbconvert_exporter": "python",
   "pygments_lexer": "ipython3",
   "version": "3.11.7"
  }
 },
 "nbformat": 4,
 "nbformat_minor": 4
}
