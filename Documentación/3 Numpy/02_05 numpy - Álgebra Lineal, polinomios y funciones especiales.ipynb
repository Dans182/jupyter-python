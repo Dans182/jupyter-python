{
 "cells": [
  {
   "attachments": {
    "799d14f3-2db1-4f2a-a07f-45dbbce2ee84.png": {
     "image/png": "[encoded data removed]"
    }
   },
   "cell_type": "markdown",
   "metadata": {},
   "source": [
    "![Cabecera cuadernos Jupyter.png](attachment:799d14f3-2db1-4f2a-a07f-45dbbce2ee84.png)\n",
    "<a name = \"inicio\"></a>"
   ]
  },
  {
   "cell_type": "markdown",
   "metadata": {},
   "source": [
    "<div style=\"font-size: 50px;text-align: center;height:120px;line-height: 60px;padding:10px;margin:10px 0 0 0;\">Álgebra Lineal, polinomios y funciones especiales</div>"
   ]
  },
  {
   "cell_type": "markdown",
   "metadata": {},
   "source": [
    "1. [Funciones de álgebra lineal](#Funciones-de-álgebra-lineal)\n",
    "1. [Funciones polinómicas](#Funciones-polinómicas)"
   ]
  },
  {
   "cell_type": "code",
   "execution_count": 1,
   "metadata": {},
   "outputs": [],
   "source": [
    "import numpy as np"
   ]
  },
  {
   "cell_type": "markdown",
   "metadata": {},
   "source": [
    "# Funciones de álgebra lineal"
   ]
  },
  {
   "cell_type": "markdown",
   "metadata": {},
   "source": [
    "NumPy también incluye un buen número de funciones de álgebra lineal (muchas de ellas contenidas en la sublibrería **linalg**). Podemos consultar el listado completo en la siguiente página de la documentación oficial:"
   ]
  },
  {
   "cell_type": "markdown",
   "metadata": {},
   "source": [
    "https://numpy.org/devdocs/reference/routines.linalg.html"
   ]
  },
  {
   "cell_type": "markdown",
   "metadata": {},
   "source": [
    "### numpy.dot()"
   ]
  },
  {
   "cell_type": "markdown",
   "metadata": {},
   "source": [
    "https://docs.scipy.org/doc/numpy/reference/generated/numpy.dot.html"
   ]
  },
  {
   "cell_type": "markdown",
   "metadata": {},
   "source": [
    "La función **numpy.dot()** devuelve el producto de dos arrays considerados como matrices:"
   ]
  },
  {
   "cell_type": "code",
   "execution_count": 2,
   "metadata": {},
   "outputs": [
    {
     "data": {
      "text/plain": [
       "array([[1, 2],\n",
       "       [3, 4],\n",
       "       [5, 6]])"
      ]
     },
     "execution_count": 2,
     "metadata": {},
     "output_type": "execute_result"
    }
   ],
   "source": [
    "a = np.array([[1, 2], [3, 4], [5, 6]])\n",
    "a"
   ]
  },
  {
   "cell_type": "code",
   "execution_count": 3,
   "metadata": {},
   "outputs": [
    {
     "data": {
      "text/plain": [
       "array([[-2, -3],\n",
       "       [ 2,  1]])"
      ]
     },
     "execution_count": 3,
     "metadata": {},
     "output_type": "execute_result"
    }
   ],
   "source": [
    "b = np.array([[-2, -3], [2, 1]])\n",
    "b"
   ]
  },
  {
   "cell_type": "code",
   "execution_count": 4,
   "metadata": {},
   "outputs": [
    {
     "data": {
      "text/plain": [
       "array([[ 2, -1],\n",
       "       [ 2, -5],\n",
       "       [ 2, -9]])"
      ]
     },
     "execution_count": 4,
     "metadata": {},
     "output_type": "execute_result"
    }
   ],
   "source": [
    "np.dot(a, b)"
   ]
  },
  {
   "cell_type": "markdown",
   "metadata": {},
   "source": [
    "Esta funcionalidad también está disponible en el método **numpy.ndarray.dot()**:"
   ]
  },
  {
   "cell_type": "markdown",
   "metadata": {},
   "source": [
    "https://docs.scipy.org/doc/numpy/reference/generated/numpy.ndarray.dot.html"
   ]
  },
  {
   "cell_type": "code",
   "execution_count": 5,
   "metadata": {},
   "outputs": [
    {
     "data": {
      "text/plain": [
       "array([[ 2, -1],\n",
       "       [ 2, -5],\n",
       "       [ 2, -9]])"
      ]
     },
     "execution_count": 5,
     "metadata": {},
     "output_type": "execute_result"
    }
   ],
   "source": [
    "a.dot(b)"
   ]
  },
  {
   "cell_type": "markdown",
   "metadata": {},
   "source": [
    "### numpy.linalg.det()"
   ]
  },
  {
   "cell_type": "markdown",
   "metadata": {},
   "source": [
    "https://docs.scipy.org/doc/numpy/reference/generated/numpy.linalg.det.html"
   ]
  },
  {
   "cell_type": "markdown",
   "metadata": {},
   "source": [
    "La función **numpy.linalg.det()** devuelve el determinante de la matriz representada por el array:"
   ]
  },
  {
   "cell_type": "code",
   "execution_count": 6,
   "metadata": {},
   "outputs": [
    {
     "data": {
      "text/plain": [
       "array([[ 1,  2, -2],\n",
       "       [ 3,  4,  0],\n",
       "       [ 3,  1,  1]])"
      ]
     },
     "execution_count": 6,
     "metadata": {},
     "output_type": "execute_result"
    }
   ],
   "source": [
    "a = np.array([[1, 2, -2], [3, 4, 0], [3, 1, 1]])\n",
    "a"
   ]
  },
  {
   "cell_type": "code",
   "execution_count": 7,
   "metadata": {},
   "outputs": [
    {
     "data": {
      "text/plain": [
       "16.000000000000007"
      ]
     },
     "execution_count": 7,
     "metadata": {},
     "output_type": "execute_result"
    }
   ],
   "source": [
    "np.linalg.det(a)"
   ]
  },
  {
   "cell_type": "markdown",
   "metadata": {},
   "source": [
    "### numpy.linalg.inv()"
   ]
  },
  {
   "cell_type": "markdown",
   "metadata": {},
   "source": [
    "https://docs.scipy.org/doc/numpy/reference/generated/numpy.linalg.inv.html"
   ]
  },
  {
   "cell_type": "markdown",
   "metadata": {},
   "source": [
    "La función **numpy.linalg.inv()** devuelve la inversa de la matriz representada por el array pasado como argumento:"
   ]
  },
  {
   "cell_type": "code",
   "execution_count": 8,
   "metadata": {},
   "outputs": [
    {
     "data": {
      "text/plain": [
       "array([[ 1,  2, -2],\n",
       "       [ 3,  4,  0],\n",
       "       [ 3,  1,  1]])"
      ]
     },
     "execution_count": 8,
     "metadata": {},
     "output_type": "execute_result"
    }
   ],
   "source": [
    "a = np.array([[1, 2, -2], [3, 4, 0], [3, 1, 1]])\n",
    "a"
   ]
  },
  {
   "cell_type": "code",
   "execution_count": 9,
   "metadata": {},
   "outputs": [
    {
     "data": {
      "text/plain": [
       "array([[ 0.25  , -0.25  ,  0.5   ],\n",
       "       [-0.1875,  0.4375, -0.375 ],\n",
       "       [-0.5625,  0.3125, -0.125 ]])"
      ]
     },
     "execution_count": 9,
     "metadata": {},
     "output_type": "execute_result"
    }
   ],
   "source": [
    "np.linalg.inv(a)"
   ]
  },
  {
   "cell_type": "markdown",
   "metadata": {},
   "source": [
    "Podemos confirmar que se trata de la inversa calculando el producto de ambas:"
   ]
  },
  {
   "cell_type": "code",
   "execution_count": 10,
   "metadata": {},
   "outputs": [
    {
     "data": {
      "text/plain": [
       "array([[ 1., -0.,  0.],\n",
       "       [ 0.,  1.,  0.],\n",
       "       [ 0.,  0.,  1.]])"
      ]
     },
     "execution_count": 10,
     "metadata": {},
     "output_type": "execute_result"
    }
   ],
   "source": [
    "np.round(a.dot(np.linalg.inv(a)))"
   ]
  },
  {
   "cell_type": "markdown",
   "metadata": {},
   "source": [
    "### numpy.linalg.eig"
   ]
  },
  {
   "cell_type": "markdown",
   "metadata": {},
   "source": [
    "La función **numpy.linalg.eig()** devuelve los **eigenvalues** (*valores propios*) y **eigenvectors** (*vectores propios*) de una matriz cuadrada:"
   ]
  },
  {
   "cell_type": "code",
   "execution_count": 11,
   "metadata": {},
   "outputs": [
    {
     "data": {
      "text/plain": [
       "array([[ 1,  2, -2],\n",
       "       [ 3,  4,  0],\n",
       "       [ 3,  1,  1]])"
      ]
     },
     "execution_count": 11,
     "metadata": {},
     "output_type": "execute_result"
    }
   ],
   "source": [
    "a = np.array([[1, 2, -2], [3, 4, 0], [3, 1, 1]])\n",
    "a"
   ]
  },
  {
   "cell_type": "code",
   "execution_count": 12,
   "metadata": {},
   "outputs": [
    {
     "data": {
      "text/plain": [
       "EigResult(eigenvalues=array([4.82164016+0.j        , 0.58917992+1.72372849j,\n",
       "       0.58917992-1.72372849j]), eigenvectors=array([[ 0.24000392+0.j        ,  0.2063866 -0.50676373j,\n",
       "         0.2063866 +0.50676373j],\n",
       "       [ 0.87631033+0.j        , -0.32402831+0.28197159j,\n",
       "        -0.32402831-0.28197159j],\n",
       "       [ 0.41770602+0.j        , -0.71839597+0.j        ,\n",
       "        -0.71839597-0.j        ]]))"
      ]
     },
     "execution_count": 12,
     "metadata": {},
     "output_type": "execute_result"
    }
   ],
   "source": [
    "np.linalg.eig(a)"
   ]
  },
  {
   "cell_type": "markdown",
   "metadata": {},
   "source": [
    "Podemos extraer los *eigenvalues* y los *eigenvectors* por separado:"
   ]
  },
  {
   "cell_type": "code",
   "execution_count": 13,
   "metadata": {},
   "outputs": [],
   "source": [
    "eigenvalues, eigenvectors = np.linalg.eig(a)"
   ]
  },
  {
   "cell_type": "code",
   "execution_count": 14,
   "metadata": {},
   "outputs": [
    {
     "data": {
      "text/plain": [
       "array([4.82164016+0.j        , 0.58917992+1.72372849j,\n",
       "       0.58917992-1.72372849j])"
      ]
     },
     "execution_count": 14,
     "metadata": {},
     "output_type": "execute_result"
    }
   ],
   "source": [
    "eigenvalues"
   ]
  },
  {
   "cell_type": "code",
   "execution_count": 15,
   "metadata": {},
   "outputs": [
    {
     "data": {
      "text/plain": [
       "array([[ 0.24000392+0.j        ,  0.2063866 -0.50676373j,\n",
       "         0.2063866 +0.50676373j],\n",
       "       [ 0.87631033+0.j        , -0.32402831+0.28197159j,\n",
       "        -0.32402831-0.28197159j],\n",
       "       [ 0.41770602+0.j        , -0.71839597+0.j        ,\n",
       "        -0.71839597-0.j        ]])"
      ]
     },
     "execution_count": 15,
     "metadata": {},
     "output_type": "execute_result"
    }
   ],
   "source": [
    "eigenvectors"
   ]
  },
  {
   "cell_type": "markdown",
   "metadata": {},
   "source": [
    "### numpy.linalg.norm"
   ]
  },
  {
   "cell_type": "markdown",
   "metadata": {},
   "source": [
    "La función np.linalg.norm de NumPy se utiliza para calcular la norma, o magnitud, de un vector o matriz. El tipo de normal a calcular se especifica mediante el parámetro **ord**. Por ejemplo:"
   ]
  },
  {
   "cell_type": "markdown",
   "metadata": {},
   "source": [
    "#### Norma Euclidiana (L2) de un vector (raíz cuadrada de la suma de los cuadrados):"
   ]
  },
  {
   "cell_type": "code",
   "execution_count": 16,
   "metadata": {},
   "outputs": [
    {
     "data": {
      "text/plain": [
       "5.0"
      ]
     },
     "execution_count": 16,
     "metadata": {},
     "output_type": "execute_result"
    }
   ],
   "source": [
    "x = np.array([3, 4])\n",
    "np.linalg.norm(x)"
   ]
  },
  {
   "cell_type": "markdown",
   "metadata": {},
   "source": [
    "#### Norma L1 de un vector (suma de los valores absolutos):"
   ]
  },
  {
   "cell_type": "code",
   "execution_count": 17,
   "metadata": {},
   "outputs": [
    {
     "data": {
      "text/plain": [
       "9.0"
      ]
     },
     "execution_count": 17,
     "metadata": {},
     "output_type": "execute_result"
    }
   ],
   "source": [
    "x = np.array([-3, 4, -2])\n",
    "np.linalg.norm(x, ord = 1)"
   ]
  },
  {
   "cell_type": "markdown",
   "metadata": {},
   "source": [
    "#### Norma infinito de un vector (el valor absoluto máximo):"
   ]
  },
  {
   "cell_type": "code",
   "execution_count": 18,
   "metadata": {},
   "outputs": [
    {
     "data": {
      "text/plain": [
       "7.0"
      ]
     },
     "execution_count": 18,
     "metadata": {},
     "output_type": "execute_result"
    }
   ],
   "source": [
    "x = np.array([-3, 7, -2])\n",
    "np.linalg.norm(x, ord = np.inf)"
   ]
  },
  {
   "cell_type": "markdown",
   "metadata": {},
   "source": [
    "#### Norma Frobenius de una matriz (similar a la norma L2 para vectores, aplicada a matrices):"
   ]
  },
  {
   "cell_type": "code",
   "execution_count": 19,
   "metadata": {},
   "outputs": [
    {
     "data": {
      "text/plain": [
       "5.477225575051661"
      ]
     },
     "execution_count": 19,
     "metadata": {},
     "output_type": "execute_result"
    }
   ],
   "source": [
    "A = np.array([[1, 2], [3, 4]])\n",
    "np.linalg.norm(A, 'fro')"
   ]
  },
  {
   "cell_type": "markdown",
   "metadata": {},
   "source": [
    "<div style = \"float:right\"><a style=\"text-decoration:none\" href = \"#inicio\">Inicio</a></div>"
   ]
  },
  {
   "cell_type": "markdown",
   "metadata": {},
   "source": [
    "# Funciones polinómicas"
   ]
  },
  {
   "cell_type": "markdown",
   "metadata": {},
   "source": [
    "Un tipo de funciones que pueden resultar especialmente útiles en análisis de datos son aquellas que lidian con polinómios. NumPy incluye una sublibrería completa dedicada a este tipo de funciones: la llamada \"*Polynomial package*\" (**numpy.polynomial**). Esta sublibrería proporciona varias clases para diferentes tipos de polinomios y operaciones relacionadas. Algunas de estas clases son:\n",
    "\n",
    "* **Polynomial**: Representa polinomios en la base estándar, $p(x) = c_0 + c_1x + c_2x^2 + \\ldots + c_nx^n$\n",
    "* **Chebyshev**: Representa polinomios en la base de Chebyshev, útiles para la aproximación de funciones debido a sus propiedades numéricas.\n",
    "* **Legendre**: Representa polinomios en la base de Legendre, que tienen aplicaciones en problemas de física y ingeniería.\n",
    "* **Hermite**: Representa polinomios en la base de Hermite, que se utilizan en probabilidad y estadística.\n",
    "* **HermiteE**: Representa polinomios en la base de Hermite \"E\" (probabilistas), otra variante de los polinomios de Hermite.\n",
    "* **Laguerre**: Representa polinomios en la base de Laguerre, utilizados en la mecánica cuántica y otras áreas de la física."
   ]
  },
  {
   "cell_type": "markdown",
   "metadata": {},
   "source": [
    "Además de estas clases, dicha sublibrería incluye el módulo **polynomial** que no solo incluye la mencionada clase **Polynomial** (representando polinomios en la base estándar), sino que también incluye funciones relacionadas con polinomios no disponibles a través de la clase."
   ]
  },
  {
   "cell_type": "markdown",
   "metadata": {},
   "source": [
    "### La clase polynomial"
   ]
  },
  {
   "cell_type": "markdown",
   "metadata": {},
   "source": [
    "https://docs.scipy.org/doc/numpy/reference/generated/numpy.polynomial.polynomial.Polynomial.html"
   ]
  },
  {
   "cell_type": "markdown",
   "metadata": {},
   "source": [
    "Hay dos formas de trabajar con polinomios: La primera consiste en representar el polinomio utilizando la clase **numpy.polynomial.polynomial.Polynomial** (es decir, la clase **Polynomial** que podemos encontrar en la sublibrería **numpy.polynomial.polynomial**). Esta clase proporciona los métodos estándar +, -, &#42;, //, %, divmod, ** y (), así como otros métodos y atributos para operar con polinomios.\n",
    "\n",
    "Al instanciar esta clase, el principal argumento a incluir es una estructura de tipo \"array\" conteniendo los coeficientes ordenados de menor a mayor grado. Por ejemplo, si queremos crear una instancia de esta clase para representar el polinomio $3x^4 - 2x^3 + x^2 - 5x + 1$ lo haríamos del siguiente modo:"
   ]
  },
  {
   "cell_type": "code",
   "execution_count": 20,
   "metadata": {},
   "outputs": [
    {
     "data": {
      "text/latex": [
       "$x \\mapsto \\text{1.0} - \\text{5.0}\\,x + \\text{1.0}\\,x^{2} - \\text{2.0}\\,x^{3} + \\text{3.0}\\,x^{4}$"
      ],
      "text/plain": [
       "Polynomial([ 1., -5.,  1., -2.,  3.], domain=[-1,  1], window=[-1,  1], symbol='x')"
      ]
     },
     "execution_count": 20,
     "metadata": {},
     "output_type": "execute_result"
    }
   ],
   "source": [
    "p = np.polynomial.polynomial.Polynomial([1, -5, 1, -2, 3])\n",
    "p"
   ]
  },
  {
   "cell_type": "markdown",
   "metadata": {},
   "source": [
    "Recuérdese que los coeficientes deben incluirse de menor a mayor grado. Una vez instanciada la clase representando el polinomio ya es posible operar con él, tal y como veremos en las siguientes secciones.\n",
    "\n",
    "Como se ve en el resultado anterior, el polinomio se muestra también con los coeficientes ordenados de menor a mayor, lo que no coincide con la imagen que muchas personas tienen de un polinomio (ordenado frecuentemente de manera inversa)."
   ]
  },
  {
   "cell_type": "markdown",
   "metadata": {},
   "source": [
    "Podemos extraer los coeficientes con la función **list** o con el atributo **coef**:"
   ]
  },
  {
   "cell_type": "code",
   "execution_count": 21,
   "metadata": {},
   "outputs": [
    {
     "data": {
      "text/plain": [
       "[1.0, -5.0, 1.0, -2.0, 3.0]"
      ]
     },
     "execution_count": 21,
     "metadata": {},
     "output_type": "execute_result"
    }
   ],
   "source": [
    "list(p)"
   ]
  },
  {
   "cell_type": "code",
   "execution_count": 22,
   "metadata": {},
   "outputs": [
    {
     "data": {
      "text/plain": [
       "array([ 1., -5.,  1., -2.,  3.])"
      ]
     },
     "execution_count": 22,
     "metadata": {},
     "output_type": "execute_result"
    }
   ],
   "source": [
    "p.coef"
   ]
  },
  {
   "cell_type": "markdown",
   "metadata": {},
   "source": [
    "Y extraer el grado del polinomio con el método **degree**:"
   ]
  },
  {
   "cell_type": "code",
   "execution_count": 23,
   "metadata": {},
   "outputs": [
    {
     "data": {
      "text/plain": [
       "4"
      ]
     },
     "execution_count": 23,
     "metadata": {},
     "output_type": "execute_result"
    }
   ],
   "source": [
    "p.degree()"
   ]
  },
  {
   "cell_type": "markdown",
   "metadata": {},
   "source": [
    "La segunda forma de trabajar con polinomios es representarlos por medio de un array (o estructura semejante) de coeficientes. Por ejemplo, el anterior polinomio vendría representado de la siguiente forma:"
   ]
  },
  {
   "cell_type": "code",
   "execution_count": 24,
   "metadata": {},
   "outputs": [],
   "source": [
    "c = [1, -5, 1, -2, 3]"
   ]
  },
  {
   "cell_type": "markdown",
   "metadata": {},
   "source": [
    "Trabajando con este formato hay en la librería **np.polynomial.polynomial** numerosas funciones para operar con el polinomio.\n",
    "\n",
    "Trabajando con la clase **Polynomial**, cuando la aplicación de un método a una instancia de esta clase devuelva un polinomio, éste estará representado por un objeto de la misma clase. Por el contrario, cuando trabajemos con coeficientes, el resultado de una función será también un listado de coeficientes.\n",
    "\n",
    "En las próximas secciones veremos los métodos y funciones equivalentes (si existen) para diferentes operaciones con polinomios."
   ]
  },
  {
   "cell_type": "markdown",
   "metadata": {},
   "source": [
    "### Evaluación de un polinomio"
   ]
  },
  {
   "cell_type": "markdown",
   "metadata": {},
   "source": [
    "Si estamos trabajando con un polinomio representado por un objeto *Polynomial*, resulta inmediato evaluarlo en un punto x: basta pasar al objeto en cuestión el valor *x* como argumento:"
   ]
  },
  {
   "cell_type": "code",
   "execution_count": 25,
   "metadata": {},
   "outputs": [
    {
     "data": {
      "text/latex": [
       "$x \\mapsto \\text{1.0} - \\text{5.0}\\,x + \\text{1.0}\\,x^{2} - \\text{2.0}\\,x^{3} + \\text{3.0}\\,x^{4}$"
      ],
      "text/plain": [
       "Polynomial([ 1., -5.,  1., -2.,  3.], domain=[-1,  1], window=[-1,  1], symbol='x')"
      ]
     },
     "execution_count": 25,
     "metadata": {},
     "output_type": "execute_result"
    }
   ],
   "source": [
    "p = np.polynomial.polynomial.Polynomial([1, -5, 1, -2, 3])\n",
    "p"
   ]
  },
  {
   "cell_type": "code",
   "execution_count": 26,
   "metadata": {},
   "outputs": [
    {
     "data": {
      "text/plain": [
       "4.1875"
      ]
     },
     "execution_count": 26,
     "metadata": {},
     "output_type": "execute_result"
    }
   ],
   "source": [
    "p(1.5)"
   ]
  },
  {
   "cell_type": "markdown",
   "metadata": {},
   "source": [
    "En el caso de estar trabajando con coeficientes, la función **numpy.polynomial.polynomial.polyval()** devuelve la evaluación para el punto (o los puntos) que se indiquen:"
   ]
  },
  {
   "cell_type": "markdown",
   "metadata": {},
   "source": [
    "https://docs.scipy.org/doc/numpy/reference/generated/numpy.polynomial.polynomial.polyval.html"
   ]
  },
  {
   "cell_type": "code",
   "execution_count": 27,
   "metadata": {},
   "outputs": [],
   "source": [
    "c = [1, -5, 1, -2, 3]              # Coeficientes del polinomio"
   ]
  },
  {
   "cell_type": "code",
   "execution_count": 28,
   "metadata": {},
   "outputs": [
    {
     "data": {
      "text/plain": [
       "array([  4.1875, 360.1875])"
      ]
     },
     "execution_count": 28,
     "metadata": {},
     "output_type": "execute_result"
    }
   ],
   "source": [
    "np.polynomial.polynomial.polyval([1.5, 3.5], c)"
   ]
  },
  {
   "cell_type": "markdown",
   "metadata": {},
   "source": [
    "### Derivación de polinomios"
   ]
  },
  {
   "cell_type": "markdown",
   "metadata": {},
   "source": [
    "#### .deriv()"
   ]
  },
  {
   "cell_type": "markdown",
   "metadata": {},
   "source": [
    "https://docs.scipy.org/doc/numpy/reference/generated/numpy.polynomial.polynomial.Polynomial.deriv.html"
   ]
  },
  {
   "cell_type": "markdown",
   "metadata": {},
   "source": [
    "Si partimos de un polinomio representado por un objeto de la clase *Polynomial*, el método **.deriv()** permite calcular la derivada de orden *m* del mismo. Por ejemplo, si estamos trabajando con el mismo polinomio que hemos visto en la sección anterior:"
   ]
  },
  {
   "cell_type": "code",
   "execution_count": 29,
   "metadata": {},
   "outputs": [
    {
     "data": {
      "text/latex": [
       "$x \\mapsto \\text{1.0} - \\text{5.0}\\,x + \\text{1.0}\\,x^{2} - \\text{2.0}\\,x^{3} + \\text{3.0}\\,x^{4}$"
      ],
      "text/plain": [
       "Polynomial([ 1., -5.,  1., -2.,  3.], domain=[-1,  1], window=[-1,  1], symbol='x')"
      ]
     },
     "execution_count": 29,
     "metadata": {},
     "output_type": "execute_result"
    }
   ],
   "source": [
    "p = np.polynomial.polynomial.Polynomial([1, -5, 1, -2, 3])\n",
    "p"
   ]
  },
  {
   "cell_type": "markdown",
   "metadata": {},
   "source": [
    "podríamos calcular su derivada primera de la siguiente forma:"
   ]
  },
  {
   "cell_type": "code",
   "execution_count": 30,
   "metadata": {},
   "outputs": [
    {
     "data": {
      "text/latex": [
       "$x \\mapsto \\text{-5.0} + \\text{2.0}\\,x - \\text{6.0}\\,x^{2} + \\text{12.0}\\,x^{3}$"
      ],
      "text/plain": [
       "Polynomial([-5.,  2., -6., 12.], domain=[-1.,  1.], window=[-1.,  1.], symbol='x')"
      ]
     },
     "execution_count": 30,
     "metadata": {},
     "output_type": "execute_result"
    }
   ],
   "source": [
    "p.deriv()"
   ]
  },
  {
   "cell_type": "markdown",
   "metadata": {},
   "source": [
    "Y la derivada segunda:"
   ]
  },
  {
   "cell_type": "code",
   "execution_count": 31,
   "metadata": {},
   "outputs": [
    {
     "data": {
      "text/latex": [
       "$x \\mapsto \\text{2.0} - \\text{12.0}\\,x + \\text{36.0}\\,x^{2}$"
      ],
      "text/plain": [
       "Polynomial([  2., -12.,  36.], domain=[-1.,  1.], window=[-1.,  1.], symbol='x')"
      ]
     },
     "execution_count": 31,
     "metadata": {},
     "output_type": "execute_result"
    }
   ],
   "source": [
    "p.deriv(2)"
   ]
  },
  {
   "cell_type": "markdown",
   "metadata": {},
   "source": [
    "### polyder()"
   ]
  },
  {
   "cell_type": "markdown",
   "metadata": {},
   "source": [
    "https://docs.scipy.org/doc/numpy/reference/generated/numpy.polynomial.polynomial.polyder.html"
   ]
  },
  {
   "cell_type": "markdown",
   "metadata": {},
   "source": [
    "Si, por el contrario, estamos trabajando con los coeficientes que representan un polinomio, la función **numpy.polynomial.polynomial.polyder()** devuelve los coeficientes del resultado de derivar el polinomio en cuestión *m* veces a lo largo del eje que se indique. El principal argumento a incluir en la función es una estructura tipo array conteniendo los coeficientes del polinomio a derivar.\n",
    "\n",
    "Si seguimos con el mismo ejemplo, la derivada del polinomio $1 -5x + x^2 -2x^3 + 3x^4$:"
   ]
  },
  {
   "cell_type": "code",
   "execution_count": 32,
   "metadata": {},
   "outputs": [],
   "source": [
    "c = [1, -5, 1, -2, 3]                # Coeficientes del polinomio"
   ]
  },
  {
   "cell_type": "code",
   "execution_count": 33,
   "metadata": {},
   "outputs": [
    {
     "data": {
      "text/plain": [
       "array([-5.,  2., -6., 12.])"
      ]
     },
     "execution_count": 33,
     "metadata": {},
     "output_type": "execute_result"
    }
   ],
   "source": [
    "np.polynomial.polynomial.polyder(c)"
   ]
  },
  {
   "cell_type": "markdown",
   "metadata": {},
   "source": [
    "Es decir, el resultado es el polinomio $-5 +2x -6x^2 +12x^3$\n",
    "\n",
    "Como segundo argumento de la función *polyder()* puede especificarse el orden de la derivada a calcular. Para calcular la segunda derivada del polinomio anterior tendríamos que ejecutar la siguiente función:"
   ]
  },
  {
   "cell_type": "code",
   "execution_count": 34,
   "metadata": {},
   "outputs": [
    {
     "data": {
      "text/plain": [
       "array([  2., -12.,  36.])"
      ]
     },
     "execution_count": 34,
     "metadata": {},
     "output_type": "execute_result"
    }
   ],
   "source": [
    "np.polynomial.polynomial.polyder(c, 2)"
   ]
  },
  {
   "cell_type": "markdown",
   "metadata": {},
   "source": [
    "coeficientes que se corresponden con el polinomio $2 -12x + 36x^2$"
   ]
  },
  {
   "cell_type": "markdown",
   "metadata": {},
   "source": [
    "### Integración de polinomios"
   ]
  },
  {
   "cell_type": "markdown",
   "metadata": {},
   "source": [
    "#### .integ()"
   ]
  },
  {
   "cell_type": "markdown",
   "metadata": {},
   "source": [
    "https://docs.scipy.org/doc/numpy/reference/generated/numpy.polynomial.polynomial.Polynomial.integ.html"
   ]
  },
  {
   "cell_type": "markdown",
   "metadata": {},
   "source": [
    "Trabajando con un polinomio representado por un objeto de la clase *Polynomial*, el método **.integ()** devuelve la integral del mismo:"
   ]
  },
  {
   "cell_type": "code",
   "execution_count": 35,
   "metadata": {},
   "outputs": [
    {
     "data": {
      "text/latex": [
       "$x \\mapsto \\text{1.0} - \\text{5.0}\\,x + \\text{1.0}\\,x^{2} - \\text{2.0}\\,x^{3} + \\text{3.0}\\,x^{4}$"
      ],
      "text/plain": [
       "Polynomial([ 1., -5.,  1., -2.,  3.], domain=[-1,  1], window=[-1,  1], symbol='x')"
      ]
     },
     "execution_count": 35,
     "metadata": {},
     "output_type": "execute_result"
    }
   ],
   "source": [
    "p = np.polynomial.polynomial.Polynomial([1, -5, 1, -2, 3])\n",
    "p"
   ]
  },
  {
   "cell_type": "code",
   "execution_count": 36,
   "metadata": {},
   "outputs": [
    {
     "data": {
      "text/latex": [
       "$x \\mapsto \\color{LightGray}{\\text{0.0}} + \\text{1.0}\\,x - \\text{2.5}\\,x^{2} + \\text{0.33333333}\\,x^{3} - \\text{0.5}\\,x^{4} + \\text{0.6}\\,x^{5}$"
      ],
      "text/plain": [
       "Polynomial([ 0.        ,  1.        , -2.5       ,  0.33333333, -0.5       ,\n",
       "        0.6       ], domain=[-1.,  1.], window=[-1.,  1.], symbol='x')"
      ]
     },
     "execution_count": 36,
     "metadata": {},
     "output_type": "execute_result"
    }
   ],
   "source": [
    "p.integ()"
   ]
  },
  {
   "cell_type": "markdown",
   "metadata": {},
   "source": [
    "Puede verse la adición de una constante (0.0) cuyo valor, sea cual sea, devuelve una derivada nula. Es posible establecer este valor con el parámetro *k*:"
   ]
  },
  {
   "cell_type": "code",
   "execution_count": 37,
   "metadata": {},
   "outputs": [
    {
     "data": {
      "text/latex": [
       "$x \\mapsto \\text{2.0} + \\text{1.0}\\,x - \\text{2.5}\\,x^{2} + \\text{0.33333333}\\,x^{3} - \\text{0.5}\\,x^{4} + \\text{0.6}\\,x^{5}$"
      ],
      "text/plain": [
       "Polynomial([ 2.        ,  1.        , -2.5       ,  0.33333333, -0.5       ,\n",
       "        0.6       ], domain=[-1.,  1.], window=[-1.,  1.], symbol='x')"
      ]
     },
     "execution_count": 37,
     "metadata": {},
     "output_type": "execute_result"
    }
   ],
   "source": [
    "p.integ(k = 2)"
   ]
  },
  {
   "cell_type": "markdown",
   "metadata": {},
   "source": [
    "El método **.integ()** también permite calcular la integral del polinomio más de una vez fijando el parámetro *m*. En este caso, el parámetro *k*, si está presente, será una lista u objeto semejante cuyos elementos se asignarán a las diferentes integrales (el primer elemento será asignado como constante de la primera integral, el segundo de la segunda, etc.):"
   ]
  },
  {
   "cell_type": "code",
   "execution_count": 38,
   "metadata": {},
   "outputs": [
    {
     "data": {
      "text/latex": [
       "$x \\mapsto \\color{LightGray}{\\text{0.0}}\\color{LightGray}{ + \\text{0.0}\\,x} + \\text{0.5}\\,x^{2} - \\text{0.83333333}\\,x^{3} + \\text{0.08333333}\\,x^{4} - \\text{0.1}\\,x^{5} + \\text{0.1}\\,x^{6}$"
      ],
      "text/plain": [
       "Polynomial([ 0.        ,  0.        ,  0.5       , -0.83333333,  0.08333333,\n",
       "       -0.1       ,  0.1       ], domain=[-1.,  1.], window=[-1.,  1.], symbol='x')"
      ]
     },
     "execution_count": 38,
     "metadata": {},
     "output_type": "execute_result"
    }
   ],
   "source": [
    "p.integ(m = 2)"
   ]
  },
  {
   "cell_type": "code",
   "execution_count": 39,
   "metadata": {},
   "outputs": [
    {
     "data": {
      "text/latex": [
       "$x \\mapsto \\color{LightGray}{\\text{0.0}} + \\text{2.0}\\,x + \\text{0.5}\\,x^{2} - \\text{0.83333333}\\,x^{3} + \\text{0.08333333}\\,x^{4} - \\text{0.1}\\,x^{5} + \\text{0.1}\\,x^{6}$"
      ],
      "text/plain": [
       "Polynomial([ 0.        ,  2.        ,  0.5       , -0.83333333,  0.08333333,\n",
       "       -0.1       ,  0.1       ], domain=[-1.,  1.], window=[-1.,  1.], symbol='x')"
      ]
     },
     "execution_count": 39,
     "metadata": {},
     "output_type": "execute_result"
    }
   ],
   "source": [
    "p.integ(m = 2, k = 2)"
   ]
  },
  {
   "cell_type": "code",
   "execution_count": 40,
   "metadata": {},
   "outputs": [
    {
     "data": {
      "text/latex": [
       "$x \\mapsto \\text{-3.0} + \\text{2.0}\\,x + \\text{0.5}\\,x^{2} - \\text{0.83333333}\\,x^{3} + \\text{0.08333333}\\,x^{4} - \\text{0.1}\\,x^{5} + \\text{0.1}\\,x^{6}$"
      ],
      "text/plain": [
       "Polynomial([-3.        ,  2.        ,  0.5       , -0.83333333,  0.08333333,\n",
       "       -0.1       ,  0.1       ], domain=[-1.,  1.], window=[-1.,  1.], symbol='x')"
      ]
     },
     "execution_count": 40,
     "metadata": {},
     "output_type": "execute_result"
    }
   ],
   "source": [
    "p.integ(m = 2, k = [2, -3])"
   ]
  },
  {
   "cell_type": "markdown",
   "metadata": {},
   "source": [
    "#### polyint()"
   ]
  },
  {
   "cell_type": "markdown",
   "metadata": {},
   "source": [
    "https://docs.scipy.org/doc/numpy/reference/generated/numpy.polyint.html"
   ]
  },
  {
   "cell_type": "markdown",
   "metadata": {},
   "source": [
    "La función equivalente cuando trabajamos con los coeficientes es **numpy.polynomial.polynomial.polyint**."
   ]
  },
  {
   "cell_type": "code",
   "execution_count": 41,
   "metadata": {},
   "outputs": [],
   "source": [
    "c = [1, -5, 1, -2, 3]              # Coeficientes del polinomio"
   ]
  },
  {
   "cell_type": "code",
   "execution_count": 42,
   "metadata": {},
   "outputs": [
    {
     "data": {
      "text/plain": [
       "array([ 0.        ,  1.        , -2.5       ,  0.33333333, -0.5       ,\n",
       "        0.6       ])"
      ]
     },
     "execution_count": 42,
     "metadata": {},
     "output_type": "execute_result"
    }
   ],
   "source": [
    "np.polynomial.polynomial.polyint(c)"
   ]
  },
  {
   "cell_type": "markdown",
   "metadata": {},
   "source": [
    "Esta función también acepta los mismos parámetros *m* y *k* que hemos visto en el método **integ**:"
   ]
  },
  {
   "cell_type": "code",
   "execution_count": 43,
   "metadata": {},
   "outputs": [
    {
     "data": {
      "text/plain": [
       "array([-3.        ,  2.        ,  0.5       , -0.83333333,  0.08333333,\n",
       "       -0.1       ,  0.1       ])"
      ]
     },
     "execution_count": 43,
     "metadata": {},
     "output_type": "execute_result"
    }
   ],
   "source": [
    "np.polynomial.polynomial.polyint(c, m = 2, k = [2, -3])"
   ]
  },
  {
   "cell_type": "markdown",
   "metadata": {},
   "source": [
    "Esta funcionalidad también está disponible en la función **numpy.polyint()**:"
   ]
  },
  {
   "cell_type": "code",
   "execution_count": 44,
   "metadata": {},
   "outputs": [
    {
     "data": {
      "text/plain": [
       "array([ 0.03333333, -0.25      ,  0.08333333, -0.33333333,  1.5       ,\n",
       "        2.        , -3.        ])"
      ]
     },
     "execution_count": 44,
     "metadata": {},
     "output_type": "execute_result"
    }
   ],
   "source": [
    "np.polyint(c, m = 2, k = [2, -3])"
   ]
  },
  {
   "cell_type": "markdown",
   "metadata": {},
   "source": [
    "### Raíces de un polinomio"
   ]
  },
  {
   "cell_type": "markdown",
   "metadata": {},
   "source": [
    "#### .roots()"
   ]
  },
  {
   "cell_type": "markdown",
   "metadata": {},
   "source": [
    "https://docs.scipy.org/doc/numpy/reference/generated/numpy.polynomial.polynomial.Polynomial.roots.html"
   ]
  },
  {
   "cell_type": "markdown",
   "metadata": {},
   "source": [
    "Trabajando con un polinomio representado por un objeto de tipo *Polynomial*, el método **.roots()** devuelve un array conteniendo las raíces del mismo:"
   ]
  },
  {
   "cell_type": "code",
   "execution_count": 45,
   "metadata": {},
   "outputs": [
    {
     "data": {
      "text/latex": [
       "$x \\mapsto \\text{1.0} - \\text{5.0}\\,x + \\text{1.0}\\,x^{2} - \\text{2.0}\\,x^{3} + \\text{3.0}\\,x^{4}$"
      ],
      "text/plain": [
       "Polynomial([ 1., -5.,  1., -2.,  3.], domain=[-1,  1], window=[-1,  1], symbol='x')"
      ]
     },
     "execution_count": 45,
     "metadata": {},
     "output_type": "execute_result"
    }
   ],
   "source": [
    "p = np.polynomial.polynomial.Polynomial([1, -5, 1, -2, 3])\n",
    "p"
   ]
  },
  {
   "cell_type": "code",
   "execution_count": 46,
   "metadata": {},
   "outputs": [
    {
     "data": {
      "text/plain": [
       "array([-0.40588554-1.05192264j, -0.40588554+1.05192264j,\n",
       "        0.20607489+0.j        ,  1.27236285+0.j        ])"
      ]
     },
     "execution_count": 46,
     "metadata": {},
     "output_type": "execute_result"
    }
   ],
   "source": [
    "p.roots()"
   ]
  },
  {
   "cell_type": "markdown",
   "metadata": {},
   "source": [
    "#### polyroots()"
   ]
  },
  {
   "cell_type": "markdown",
   "metadata": {},
   "source": [
    "https://docs.scipy.org/doc/numpy/reference/generated/numpy.polynomial.polynomial.polyroots.html"
   ]
  },
  {
   "cell_type": "markdown",
   "metadata": {},
   "source": [
    "Si estamos trabajando solo con los coeficientes del polinomio, la función **numpy.polynomial.polynomial.polyroots()** devuelve el mismo resultado:"
   ]
  },
  {
   "cell_type": "code",
   "execution_count": 47,
   "metadata": {},
   "outputs": [],
   "source": [
    "c = [1, -5, 1, -2, 3]                # Coeficientes del polinomio"
   ]
  },
  {
   "cell_type": "code",
   "execution_count": 48,
   "metadata": {},
   "outputs": [
    {
     "data": {
      "text/plain": [
       "array([-0.40588554-1.05192264j, -0.40588554+1.05192264j,\n",
       "        0.20607489+0.j        ,  1.27236285+0.j        ])"
      ]
     },
     "execution_count": 48,
     "metadata": {},
     "output_type": "execute_result"
    }
   ],
   "source": [
    "np.polynomial.polynomial.polyroots(c)"
   ]
  },
  {
   "cell_type": "markdown",
   "metadata": {},
   "source": [
    "Podemos probar que se están obteniendo las raíces correctas evaluando el polinomio en ellas:"
   ]
  },
  {
   "cell_type": "code",
   "execution_count": 49,
   "metadata": {},
   "outputs": [],
   "source": [
    "roots = np.polynomial.polynomial.polyroots(c)"
   ]
  },
  {
   "cell_type": "code",
   "execution_count": 50,
   "metadata": {},
   "outputs": [
    {
     "data": {
      "text/plain": [
       "array([ 5.10702591e-15+2.18822395e-15j,  5.10702591e-15-2.18822395e-15j,\n",
       "        0.00000000e+00+0.00000000e+00j, -1.33226763e-15+0.00000000e+00j])"
      ]
     },
     "execution_count": 50,
     "metadata": {},
     "output_type": "execute_result"
    }
   ],
   "source": [
    "np.polynomial.polynomial.polyval(roots, c)"
   ]
  },
  {
   "cell_type": "markdown",
   "metadata": {},
   "source": [
    "Si redondeamos los valores obtenidos, vemos más claramente los resultados:"
   ]
  },
  {
   "cell_type": "code",
   "execution_count": 51,
   "metadata": {},
   "outputs": [
    {
     "data": {
      "text/plain": [
       "array([ 0.+0.j,  0.-0.j,  0.+0.j, -0.+0.j])"
      ]
     },
     "execution_count": 51,
     "metadata": {},
     "output_type": "execute_result"
    }
   ],
   "source": [
    "np.polynomial.polynomial.polyval(roots, c).round()"
   ]
  },
  {
   "cell_type": "markdown",
   "metadata": {},
   "source": [
    "### Mínimos cuadrados"
   ]
  },
  {
   "cell_type": "markdown",
   "metadata": {},
   "source": [
    "Otra de las herramientas frecuentemente usadas para entender la distribución de un conjunto de datos es la generación del polinomio que mejor se aproxime a ellos, teniendo como criterio de \"bondad\" la suma de los cuadrados de la distancia del polinomio a los datos (las desviaciones). Para probar esta funcionalidad, partamos de los siguientes valores de *x* e *y*:"
   ]
  },
  {
   "cell_type": "code",
   "execution_count": 52,
   "metadata": {},
   "outputs": [],
   "source": [
    "np.random.seed(18)"
   ]
  },
  {
   "cell_type": "code",
   "execution_count": 53,
   "metadata": {},
   "outputs": [
    {
     "data": {
      "text/plain": [
       "array([0.        , 0.10526316, 0.21052632, 0.31578947, 0.42105263,\n",
       "       0.52631579, 0.63157895, 0.73684211, 0.84210526, 0.94736842,\n",
       "       1.05263158, 1.15789474, 1.26315789, 1.36842105, 1.47368421,\n",
       "       1.57894737, 1.68421053, 1.78947368, 1.89473684, 2.        ])"
      ]
     },
     "execution_count": 53,
     "metadata": {},
     "output_type": "execute_result"
    }
   ],
   "source": [
    "x = np.linspace(0, 2, 20)\n",
    "x"
   ]
  },
  {
   "cell_type": "code",
   "execution_count": 54,
   "metadata": {},
   "outputs": [
    {
     "data": {
      "text/plain": [
       "array([ 0.        ,  0.35667653,  0.58474019,  0.82201992,  0.99033115,\n",
       "        1.06558693,  1.07542894,  0.8603568 ,  0.52053003,  0.17264818,\n",
       "        0.15326868, -0.22958163, -0.45833108, -1.1228012 , -1.25105239,\n",
       "       -0.57480015, -0.74667616, -0.6001439 ,  0.21950594, -0.39554514])"
      ]
     },
     "execution_count": 54,
     "metadata": {},
     "output_type": "execute_result"
    }
   ],
   "source": [
    "y = np.sin(x * 3) + np.random.randn(20) * 0.2 * x\n",
    "y"
   ]
  },
  {
   "cell_type": "markdown",
   "metadata": {},
   "source": [
    "Mostremos estos puntos en una gráfica de dispersión:"
   ]
  },
  {
   "cell_type": "code",
   "execution_count": 55,
   "metadata": {},
   "outputs": [],
   "source": [
    "import matplotlib.pyplot as plt\n",
    "import seaborn as sns"
   ]
  },
  {
   "cell_type": "code",
   "execution_count": 56,
   "metadata": {},
   "outputs": [
    {
     "data": {
      "image/png": "[encoded data removed]",
      "text/plain": [
       "<Figure size 640x480 with 1 Axes>"
      ]
     },
     "metadata": {},
     "output_type": "display_data"
    }
   ],
   "source": [
    "sns.scatterplot(x = x, y = y)\n",
    "plt.show()"
   ]
  },
  {
   "cell_type": "markdown",
   "metadata": {},
   "source": [
    "#### .fit()"
   ]
  },
  {
   "cell_type": "markdown",
   "metadata": {},
   "source": [
    "https://docs.scipy.org/doc/numpy/reference/generated/numpy.polynomial.polynomial.Polynomial.fit.html"
   ]
  },
  {
   "cell_type": "markdown",
   "metadata": {},
   "source": [
    "El método **.fit()** del objeto *Polynomial* devuelve un objeto de tipo *Polynomial* representando el polinomio del grado indicado que minimiza la suma de cuadrados de las desviaciones. Por ejemplo, para aproximar los datos con un polinomio de grado 1:"
   ]
  },
  {
   "cell_type": "code",
   "execution_count": 57,
   "metadata": {},
   "outputs": [
    {
     "data": {
      "text/latex": [
       "$x \\mapsto \\text{0.8601833} - \\text{0.78807522}\\,x$"
      ],
      "text/plain": [
       "Polynomial([ 0.8601833 , -0.78807522], domain=[-1.,  1.], window=[-1.,  1.], symbol='x')"
      ]
     },
     "execution_count": 57,
     "metadata": {},
     "output_type": "execute_result"
    }
   ],
   "source": [
    "f = np.polynomial.polynomial.Polynomial.fit(x, y, 1, domain = (-1, 1))\n",
    "f"
   ]
  },
  {
   "cell_type": "markdown",
   "metadata": {},
   "source": [
    "Representemos ahora los datos *x* e *y* originales y la recta obtenida:"
   ]
  },
  {
   "cell_type": "code",
   "execution_count": 58,
   "metadata": {},
   "outputs": [
    {
     "data": {
      "image/png": "[encoded data removed]",
      "text/plain": [
       "<Figure size 640x480 with 1 Axes>"
      ]
     },
     "metadata": {},
     "output_type": "display_data"
    }
   ],
   "source": [
    "yf = [f(cx) for cx in x]\n",
    "fig, ax = plt.subplots()\n",
    "sns.scatterplot(x = x, y = y, ax = ax);\n",
    "ax.plot(x, yf, linestyle = \"-\");"
   ]
  },
  {
   "cell_type": "markdown",
   "metadata": {},
   "source": [
    "Si quisiéramos aproximar los puntos con un polinomio de grado 3, por ejemplo, el proceso sería semejante:"
   ]
  },
  {
   "cell_type": "code",
   "execution_count": 59,
   "metadata": {},
   "outputs": [
    {
     "data": {
      "text/latex": [
       "$x \\mapsto \\text{-0.11923812} + \\text{5.62669666}\\,x - \\text{8.00031343}\\,x^{2} + \\text{2.61841226}\\,x^{3}$"
      ],
      "text/plain": [
       "Polynomial([-0.11923812,  5.62669666, -8.00031343,  2.61841226], domain=[-1.,  1.], window=[-1.,  1.], symbol='x')"
      ]
     },
     "execution_count": 59,
     "metadata": {},
     "output_type": "execute_result"
    }
   ],
   "source": [
    "f = np.polynomial.polynomial.Polynomial.fit(x, y, 3, domain = (-1, 1))\n",
    "f"
   ]
  },
  {
   "cell_type": "code",
   "execution_count": 60,
   "metadata": {},
   "outputs": [
    {
     "data": {
      "image/png": "[encoded data removed]",
      "text/plain": [
       "<Figure size 640x480 with 1 Axes>"
      ]
     },
     "metadata": {},
     "output_type": "display_data"
    }
   ],
   "source": [
    "yf = [f(cx) for cx in x]\n",
    "fig, ax = plt.subplots()\n",
    "sns.scatterplot(x = x, y = y, ax = ax);\n",
    "ax.plot(x, yf, linestyle = \"-\");"
   ]
  },
  {
   "cell_type": "markdown",
   "metadata": {},
   "source": [
    "Esta funcionalidad está también disponible en la función **numpy.polynomial.polynomial.polyfit()**:"
   ]
  },
  {
   "cell_type": "markdown",
   "metadata": {},
   "source": [
    "https://numpy.org/doc/stable/reference/generated/numpy.polynomial.polynomial.polyfit.html"
   ]
  },
  {
   "cell_type": "markdown",
   "metadata": {},
   "source": [
    "Aproximación por un polinomio de primer grado:"
   ]
  },
  {
   "cell_type": "code",
   "execution_count": 61,
   "metadata": {},
   "outputs": [
    {
     "data": {
      "text/plain": [
       "array([ 0.8601833 , -0.78807522])"
      ]
     },
     "execution_count": 61,
     "metadata": {},
     "output_type": "execute_result"
    }
   ],
   "source": [
    "f = np.polynomial.polynomial.polyfit(x, y, 1)\n",
    "f"
   ]
  },
  {
   "cell_type": "code",
   "execution_count": 62,
   "metadata": {},
   "outputs": [
    {
     "data": {
      "image/png": "[encoded data removed]",
      "text/plain": [
       "<Figure size 640x480 with 1 Axes>"
      ]
     },
     "metadata": {},
     "output_type": "display_data"
    }
   ],
   "source": [
    "yf = [np.polynomial.polynomial.polyval(cx, f) for cx in x]\n",
    "fig, ax = plt.subplots()\n",
    "sns.scatterplot(x = x, y = y, ax = ax);\n",
    "ax.plot(x, yf, linestyle = \"-\");"
   ]
  },
  {
   "cell_type": "markdown",
   "metadata": {},
   "source": [
    "En el código anterior se ha utilizado la función ya vista **polyval()** para calcular las ordenadas de la recta (*yf*).\n",
    "\n",
    "Si quisiéramos aproximar los datos con un polinomio de grado 3:"
   ]
  },
  {
   "cell_type": "code",
   "execution_count": 63,
   "metadata": {},
   "outputs": [
    {
     "data": {
      "text/plain": [
       "array([-0.11923812,  5.62669666, -8.00031343,  2.61841226])"
      ]
     },
     "execution_count": 63,
     "metadata": {},
     "output_type": "execute_result"
    }
   ],
   "source": [
    "f = np.polynomial.polynomial.polyfit(x, y, 3)\n",
    "f"
   ]
  },
  {
   "cell_type": "code",
   "execution_count": 64,
   "metadata": {},
   "outputs": [
    {
     "data": {
      "image/png": "[encoded data removed]",
      "text/plain": [
       "<Figure size 640x480 with 1 Axes>"
      ]
     },
     "metadata": {},
     "output_type": "display_data"
    }
   ],
   "source": [
    "yf = [np.polynomial.polynomial.polyval(cx, f) for cx in x]\n",
    "fig, ax = plt.subplots()\n",
    "sns.scatterplot(x = x, y = y, ax = ax);\n",
    "ax.plot(x, yf, linestyle = \"-\");"
   ]
  },
  {
   "cell_type": "markdown",
   "metadata": {},
   "source": [
    "### Creación de un polinomio a partir de sus raíces"
   ]
  },
  {
   "cell_type": "markdown",
   "metadata": {},
   "source": [
    "Podemos conocer, no los coeficientes del polinomio, sino sus raíces, y desear calcular sus coeficientes. Esto podemos hacerlo tanto si estamos trabajando con la clase *Polynomial* como si estamos trabajando con coeficientes:"
   ]
  },
  {
   "cell_type": "markdown",
   "metadata": {},
   "source": [
    "#### .fromroots()"
   ]
  },
  {
   "cell_type": "markdown",
   "metadata": {},
   "source": [
    "https://docs.scipy.org/doc/numpy/reference/generated/numpy.polynomial.polynomial.Polynomial.fromroots.html"
   ]
  },
  {
   "cell_type": "markdown",
   "metadata": {},
   "source": [
    "El método **.fromroots()** de la clase *Polynomial* acepta como argumento una lista de raíces (puede ser una lista Python o una estructura semejante) y devuelve el polinomio correspondiente. Por ejemplo, supongamos que queremos calcular el polinomio cuyas raíces son -1, 2 y 5:"
   ]
  },
  {
   "cell_type": "code",
   "execution_count": 65,
   "metadata": {},
   "outputs": [
    {
     "data": {
      "text/latex": [
       "$x \\mapsto \\text{10.0} + \\text{3.0}\\,x - \\text{6.0}\\,x^{2} + \\text{1.0}\\,x^{3}$"
      ],
      "text/plain": [
       "Polynomial([10.,  3., -6.,  1.], domain=[-1.,  1.], window=[-1.,  1.], symbol='x')"
      ]
     },
     "execution_count": 65,
     "metadata": {},
     "output_type": "execute_result"
    }
   ],
   "source": [
    "p = np.polynomial.polynomial.Polynomial.fromroots([-1, 2, 5])\n",
    "p"
   ]
  },
  {
   "cell_type": "markdown",
   "metadata": {},
   "source": [
    "#### polyfromroots()"
   ]
  },
  {
   "cell_type": "markdown",
   "metadata": {},
   "source": [
    "https://numpy.org/doc/stable/reference/generated/numpy.polynomial.polynomial.polyfromroots.html"
   ]
  },
  {
   "cell_type": "markdown",
   "metadata": {},
   "source": [
    "La función **numpy.polynomial.polynomial.polyfromroots()** acepta la misma lista de raíces y devuelve los coeficientes del polinomio resultante:"
   ]
  },
  {
   "cell_type": "code",
   "execution_count": 66,
   "metadata": {},
   "outputs": [
    {
     "data": {
      "text/plain": [
       "array([10.,  3., -6.,  1.])"
      ]
     },
     "execution_count": 66,
     "metadata": {},
     "output_type": "execute_result"
    }
   ],
   "source": [
    "c = np.polynomial.polynomial.polyfromroots([-1, 2, 5])\n",
    "c"
   ]
  },
  {
   "cell_type": "markdown",
   "metadata": {},
   "source": [
    "#### Funciones de álgebra"
   ]
  },
  {
   "cell_type": "markdown",
   "metadata": {},
   "source": [
    "Cuando estemos trabajando con polinomios representados por sus coeficientes, la librería **numpy.polynomial.polynomial** ofrece funciones adicionales para operar con éstos a nivel algebraico:"
   ]
  },
  {
   "cell_type": "markdown",
   "metadata": {},
   "source": [
    "* **polyadd(c1, c2)**: suma dos polinomios\n",
    "* **polysub(c1, c2)**: resta dos polinomios\n",
    "* **polymul(c1, c2)**: multiplica un polinomio por el otro\n",
    "* **polymulx(c)**: multiplica un polinomio por la variable independiente x\n",
    "* **polydiv(c1, c2)**: divide un polinomio por otro\n",
    "* **polypow(c, pow)**: eleva un polinomio a una potencia"
   ]
  },
  {
   "cell_type": "markdown",
   "metadata": {},
   "source": [
    "Podemos encontrar el detalle de estas y otras funciones en la documentación de NumPy:"
   ]
  },
  {
   "cell_type": "markdown",
   "metadata": {},
   "source": [
    "https://docs.scipy.org/doc/numpy/reference/routines.polynomials.polynomial.html"
   ]
  },
  {
   "cell_type": "markdown",
   "metadata": {},
   "source": [
    "<div style = \"float:right\"><a style=\"text-decoration:none\" href = \"#inicio\">Inicio</a></div>"
   ]
  }
 ],
 "metadata": {
  "kernelspec": {
   "display_name": "Python 3 (ipykernel)",
   "language": "python",
   "name": "python3"
  },
  "language_info": {
   "codemirror_mode": {
    "name": "ipython",
    "version": 3
   },
   "file_extension": ".py",
   "mimetype": "text/x-python",
   "name": "python",
   "nbconvert_exporter": "python",
   "pygments_lexer": "ipython3",
   "version": "3.11.7"
  }
 },
 "nbformat": 4,
 "nbformat_minor": 4
}
