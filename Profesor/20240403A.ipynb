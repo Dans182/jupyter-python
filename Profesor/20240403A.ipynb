{
 "cells": [
  {
   "cell_type": "code",
   "execution_count": 1,
   "id": "d5edb6a3-b368-4a30-b66d-d9403af8c2f6",
   "metadata": {},
   "outputs": [
    {
     "data": {
      "text/plain": [
       "3.141592"
      ]
     },
     "execution_count": 1,
     "metadata": {},
     "output_type": "execute_result"
    }
   ],
   "source": [
    "def pi():\n",
    "    return 3.141592\n",
    "\n",
    "pi()"
   ]
  },
  {
   "cell_type": "code",
   "execution_count": 2,
   "id": "9d40504f-3b4b-4ae4-b5e2-ae163ec89389",
   "metadata": {},
   "outputs": [
    {
     "data": {
      "text/plain": [
       "8"
      ]
     },
     "execution_count": 2,
     "metadata": {},
     "output_type": "execute_result"
    }
   ],
   "source": [
    "def suma(a, b):\n",
    "    return a + b\n",
    "\n",
    "suma(3, 5)"
   ]
  },
  {
   "cell_type": "code",
   "execution_count": 3,
   "id": "aecc252c-f6e3-4bf4-8a67-7c30907dd1fd",
   "metadata": {},
   "outputs": [
    {
     "data": {
      "text/plain": [
       "6"
      ]
     },
     "execution_count": 3,
     "metadata": {},
     "output_type": "execute_result"
    }
   ],
   "source": [
    "def suma(a, b = 0):\n",
    "    return a + b\n",
    "\n",
    "suma(2, 4)"
   ]
  },
  {
   "cell_type": "code",
   "execution_count": 4,
   "id": "81c0fea5-e392-4d23-b2b6-50cbda8d829c",
   "metadata": {},
   "outputs": [
    {
     "data": {
      "text/plain": [
       "6"
      ]
     },
     "execution_count": 4,
     "metadata": {},
     "output_type": "execute_result"
    }
   ],
   "source": [
    "suma(6)"
   ]
  },
  {
   "cell_type": "code",
   "execution_count": 5,
   "id": "76967836-46d8-4bc3-bc96-1394beb97413",
   "metadata": {},
   "outputs": [
    {
     "name": "stdout",
     "output_type": "stream",
     "text": [
      "\n"
     ]
    }
   ],
   "source": [
    "print()"
   ]
  },
  {
   "cell_type": "code",
   "execution_count": 6,
   "id": "8f626dd4-6fd6-40a9-8f07-52444659c0e6",
   "metadata": {},
   "outputs": [
    {
     "name": "stdout",
     "output_type": "stream",
     "text": [
      "a\n",
      "\n",
      "b\n"
     ]
    }
   ],
   "source": [
    "print(\"a\")\n",
    "print()\n",
    "print(\"b\")"
   ]
  },
  {
   "cell_type": "code",
   "execution_count": 7,
   "id": "829e1c1e-60ec-4f6f-8381-1f7e8b7f2ae9",
   "metadata": {},
   "outputs": [
    {
     "name": "stdout",
     "output_type": "stream",
     "text": [
      "1 2 3\n"
     ]
    }
   ],
   "source": [
    "print(1, 2, 3)"
   ]
  },
  {
   "cell_type": "code",
   "execution_count": 8,
   "id": "fe280754-4c24-43e9-9dba-61fdd8d19662",
   "metadata": {},
   "outputs": [
    {
     "name": "stdout",
     "output_type": "stream",
     "text": [
      "<class 'tuple'>\n",
      "(1, 2, 3, 4, 5)\n"
     ]
    },
    {
     "data": {
      "text/plain": [
       "15"
      ]
     },
     "execution_count": 8,
     "metadata": {},
     "output_type": "execute_result"
    }
   ],
   "source": [
    "def suma(*args):\n",
    "    print(type(args))\n",
    "    print(args)\n",
    "    return sum(args)\n",
    "\n",
    "suma(1, 2, 3, 4, 5)"
   ]
  },
  {
   "cell_type": "code",
   "execution_count": 9,
   "id": "b005c184-f279-4327-947c-52cb30eaeea7",
   "metadata": {},
   "outputs": [
    {
     "name": "stdout",
     "output_type": "stream",
     "text": [
      "<class 'dict'>\n",
      "{'a': 3, 'd': 2, 'b': -1, 'c': 17}\n"
     ]
    }
   ],
   "source": [
    "def suma(**kwargs):\n",
    "    print(type(kwargs))\n",
    "    print(kwargs)\n",
    "\n",
    "suma(a = 3, d = 2, b = -1, c = 17)"
   ]
  },
  {
   "cell_type": "code",
   "execution_count": 10,
   "id": "73b43c93-a232-4f14-b700-132d7b2ebfa5",
   "metadata": {},
   "outputs": [],
   "source": [
    "def suma(a, b, c = 0, d = 0, *args, **kwargs):\n",
    "    pass"
   ]
  },
  {
   "cell_type": "markdown",
   "id": "396907cd-1646-4366-a402-f696f8dbd2f2",
   "metadata": {},
   "source": [
    "# Funciones lambda"
   ]
  },
  {
   "cell_type": "code",
   "execution_count": 11,
   "id": "26c76c88-263e-4e55-a130-b747fb35d191",
   "metadata": {},
   "outputs": [
    {
     "data": {
      "text/plain": [
       "<function __main__.<lambda>(n)>"
      ]
     },
     "execution_count": 11,
     "metadata": {},
     "output_type": "execute_result"
    }
   ],
   "source": [
    "lambda n: n ** 2"
   ]
  },
  {
   "cell_type": "code",
   "execution_count": 12,
   "id": "2d74e5ae-5bf9-43e6-adcd-20e8e83832f0",
   "metadata": {},
   "outputs": [
    {
     "data": {
      "text/plain": [
       "36"
      ]
     },
     "execution_count": 12,
     "metadata": {},
     "output_type": "execute_result"
    }
   ],
   "source": [
    "(lambda n: n ** 2)(6)"
   ]
  },
  {
   "cell_type": "code",
   "execution_count": 13,
   "id": "8461b203-adf7-4bdb-9f17-0bb857b108e9",
   "metadata": {},
   "outputs": [],
   "source": [
    "square = lambda n: n ** 2"
   ]
  },
  {
   "cell_type": "code",
   "execution_count": 14,
   "id": "a6024143-33e1-45c0-8590-f8c9884f1fc3",
   "metadata": {},
   "outputs": [
    {
     "data": {
      "text/plain": [
       "<function __main__.<lambda>(n)>"
      ]
     },
     "execution_count": 14,
     "metadata": {},
     "output_type": "execute_result"
    }
   ],
   "source": [
    "square"
   ]
  },
  {
   "cell_type": "code",
   "execution_count": 15,
   "id": "ccfb63ad-3f42-47c9-8599-fdabe781f6b1",
   "metadata": {},
   "outputs": [
    {
     "data": {
      "text/plain": [
       "<function sum(iterable, /, start=0)>"
      ]
     },
     "execution_count": 15,
     "metadata": {},
     "output_type": "execute_result"
    }
   ],
   "source": [
    "sum"
   ]
  },
  {
   "cell_type": "code",
   "execution_count": 16,
   "id": "baf5b3fd-a328-43d5-ac57-a31139e0dfd1",
   "metadata": {},
   "outputs": [
    {
     "data": {
      "text/plain": [
       "25"
      ]
     },
     "execution_count": 16,
     "metadata": {},
     "output_type": "execute_result"
    }
   ],
   "source": [
    "square(5)"
   ]
  },
  {
   "cell_type": "markdown",
   "id": "cb7ed9ba-de12-4e86-b106-7433eb8ba0d7",
   "metadata": {},
   "source": [
    "### filter"
   ]
  },
  {
   "cell_type": "code",
   "execution_count": 17,
   "id": "ffc6799d-e3b6-4b10-babd-4a209dea343e",
   "metadata": {},
   "outputs": [],
   "source": [
    "temp = [16, -5, 11, -1, 32, 28]"
   ]
  },
  {
   "cell_type": "code",
   "execution_count": 18,
   "id": "e290b198-547f-49dc-9df9-a51058c4bdae",
   "metadata": {},
   "outputs": [],
   "source": [
    "def temp_positiva(n):\n",
    "    if n > 0:\n",
    "        return True\n",
    "    else:\n",
    "        return False"
   ]
  },
  {
   "cell_type": "code",
   "execution_count": 19,
   "id": "37a8e2de-7a9e-4243-bad6-0048994905fd",
   "metadata": {},
   "outputs": [],
   "source": [
    "def temp_positiva(n):\n",
    "    return n > 0"
   ]
  },
  {
   "cell_type": "code",
   "execution_count": 20,
   "id": "f9fa55cf-4ef2-4097-9d99-12b58207935f",
   "metadata": {},
   "outputs": [
    {
     "data": {
      "text/plain": [
       "<filter at 0x1db376f9540>"
      ]
     },
     "execution_count": 20,
     "metadata": {},
     "output_type": "execute_result"
    }
   ],
   "source": [
    "filter(temp_positiva, temp)"
   ]
  },
  {
   "cell_type": "code",
   "execution_count": 21,
   "id": "9f8247ee-1244-4be7-85c2-8db93e66555f",
   "metadata": {},
   "outputs": [
    {
     "data": {
      "text/plain": [
       "[16, 11, 32, 28]"
      ]
     },
     "execution_count": 21,
     "metadata": {},
     "output_type": "execute_result"
    }
   ],
   "source": [
    "list(filter(temp_positiva, temp))"
   ]
  },
  {
   "cell_type": "code",
   "execution_count": 22,
   "id": "daffdef0-9451-49c6-9360-e61514005631",
   "metadata": {},
   "outputs": [
    {
     "data": {
      "text/plain": [
       "[16, 11, 32, 28]"
      ]
     },
     "execution_count": 22,
     "metadata": {},
     "output_type": "execute_result"
    }
   ],
   "source": [
    "list(filter(lambda n: n > 0, temp))"
   ]
  },
  {
   "cell_type": "markdown",
   "id": "19f8c93c-0513-42aa-b295-524cc8a242f3",
   "metadata": {},
   "source": [
    "### map"
   ]
  },
  {
   "cell_type": "code",
   "execution_count": 23,
   "id": "c6fbcc2b-ba7d-455c-859a-93c0082aa5ce",
   "metadata": {},
   "outputs": [
    {
     "data": {
      "text/plain": [
       "[16, -5, 11, -1, 32, 28]"
      ]
     },
     "execution_count": 23,
     "metadata": {},
     "output_type": "execute_result"
    }
   ],
   "source": [
    "temp"
   ]
  },
  {
   "cell_type": "code",
   "execution_count": 24,
   "id": "36aff2ee-58d2-43db-bd17-33f5f45407b1",
   "metadata": {},
   "outputs": [],
   "source": [
    "def to_fahrenheit(n):\n",
    "    return n * 1.8 + 32"
   ]
  },
  {
   "cell_type": "code",
   "execution_count": 25,
   "id": "603c0499-412b-4d73-8a8e-ea27438c7b8c",
   "metadata": {},
   "outputs": [
    {
     "data": {
      "text/plain": [
       "<map at 0x1db376fac80>"
      ]
     },
     "execution_count": 25,
     "metadata": {},
     "output_type": "execute_result"
    }
   ],
   "source": [
    "map(to_fahrenheit, temp)"
   ]
  },
  {
   "cell_type": "code",
   "execution_count": 26,
   "id": "ce6d5645-1b46-4c91-ba87-6b0954e48f9d",
   "metadata": {},
   "outputs": [
    {
     "data": {
      "text/plain": [
       "[60.8, 23.0, 51.8, 30.2, 89.6, 82.4]"
      ]
     },
     "execution_count": 26,
     "metadata": {},
     "output_type": "execute_result"
    }
   ],
   "source": [
    "list(map(to_fahrenheit, temp))"
   ]
  },
  {
   "cell_type": "code",
   "execution_count": 27,
   "id": "e7bfa4bf-1b13-46b8-bccd-581e9faed2ef",
   "metadata": {},
   "outputs": [
    {
     "data": {
      "text/plain": [
       "[60.8, 23.0, 51.8, 30.2, 89.6, 82.4]"
      ]
     },
     "execution_count": 27,
     "metadata": {},
     "output_type": "execute_result"
    }
   ],
   "source": [
    "list(map(lambda n: n * 1.8 + 32, temp))"
   ]
  },
  {
   "cell_type": "markdown",
   "id": "6270876c-5ee5-4fd0-8bc7-5246bd4944d6",
   "metadata": {},
   "source": [
    "# Librerías"
   ]
  },
  {
   "cell_type": "code",
   "execution_count": 28,
   "id": "78676a8c-7f55-40dd-9e07-087db5b036a5",
   "metadata": {},
   "outputs": [],
   "source": [
    "def suma(a, b):\n",
    "    return a + b"
   ]
  },
  {
   "cell_type": "code",
   "execution_count": 29,
   "id": "a79c86a8-b66c-45fa-8adb-3d76c6b238f0",
   "metadata": {},
   "outputs": [],
   "source": [
    "def resta(a, b):\n",
    "    return a - b"
   ]
  },
  {
   "cell_type": "code",
   "execution_count": 30,
   "id": "6425a178-b423-4307-8fda-c2894842f867",
   "metadata": {},
   "outputs": [],
   "source": [
    "def multiplica(a, b):\n",
    "    return a * b"
   ]
  },
  {
   "cell_type": "code",
   "execution_count": 31,
   "id": "e66487f8-bd89-4ef1-a1c6-e309dbcd2ca0",
   "metadata": {},
   "outputs": [],
   "source": [
    "pi = 3.141592"
   ]
  },
  {
   "cell_type": "code",
   "execution_count": 32,
   "id": "8d4414fe-b2fa-49e9-8863-c4996b47191e",
   "metadata": {},
   "outputs": [
    {
     "data": {
      "text/plain": [
       "17.009999999999998"
      ]
     },
     "execution_count": 32,
     "metadata": {},
     "output_type": "execute_result"
    }
   ],
   "source": [
    "multiplica(3, 5.67)"
   ]
  },
  {
   "cell_type": "code",
   "execution_count": 33,
   "id": "695fa756-6851-4a91-bdd2-325af39eb93d",
   "metadata": {},
   "outputs": [],
   "source": [
    "# Módulos, paquetes, librerías (biblioteca)"
   ]
  },
  {
   "cell_type": "code",
   "execution_count": 34,
   "id": "7c5b74e1-7c2b-4648-a5a6-2b240cae8da7",
   "metadata": {},
   "outputs": [],
   "source": [
    "import matematicas"
   ]
  },
  {
   "cell_type": "code",
   "execution_count": 35,
   "id": "590dce05-ed3f-4a5b-85fd-2deabef1145b",
   "metadata": {},
   "outputs": [
    {
     "data": {
      "text/plain": [
       "3.141592"
      ]
     },
     "execution_count": 35,
     "metadata": {},
     "output_type": "execute_result"
    }
   ],
   "source": [
    "matematicas.pi"
   ]
  },
  {
   "cell_type": "code",
   "execution_count": 36,
   "id": "ddf6a961-8a43-45be-85c7-7cbee79a03e8",
   "metadata": {},
   "outputs": [
    {
     "data": {
      "text/plain": [
       "25"
      ]
     },
     "execution_count": 36,
     "metadata": {},
     "output_type": "execute_result"
    }
   ],
   "source": [
    "matematicas.suma(7, 18)"
   ]
  },
  {
   "cell_type": "code",
   "execution_count": 37,
   "id": "55eecd59-9661-4ae7-91a3-33c4e4e07cd1",
   "metadata": {},
   "outputs": [
    {
     "name": "stdout",
     "output_type": "stream",
     "text": [
      "Help on function resta in module __main__:\n",
      "\n",
      "resta(a, b)\n",
      "\n"
     ]
    }
   ],
   "source": [
    "help(resta)"
   ]
  },
  {
   "cell_type": "code",
   "execution_count": 38,
   "id": "104e5721-c111-4020-a1af-f5eda4e954ec",
   "metadata": {},
   "outputs": [
    {
     "name": "stdout",
     "output_type": "stream",
     "text": [
      "Help on function suma in module matematicas:\n",
      "\n",
      "suma(a, b)\n",
      "    Suma los valores a y b pasados como argumento\n",
      "\n"
     ]
    }
   ],
   "source": [
    "help(matematicas.suma)"
   ]
  },
  {
   "cell_type": "code",
   "execution_count": 39,
   "id": "17f0fa70-5cf7-4df9-aa8d-552e7c0bbfcb",
   "metadata": {},
   "outputs": [],
   "source": [
    "import matematicas as mates"
   ]
  },
  {
   "cell_type": "code",
   "execution_count": 40,
   "id": "7b96bbdf-72aa-4636-8fbf-3350c32bd3f8",
   "metadata": {},
   "outputs": [
    {
     "data": {
      "text/plain": [
       "3.141592"
      ]
     },
     "execution_count": 40,
     "metadata": {},
     "output_type": "execute_result"
    }
   ],
   "source": [
    "mates.pi"
   ]
  },
  {
   "cell_type": "code",
   "execution_count": 41,
   "id": "23ff080c-1562-4223-8495-df6d45f5a01b",
   "metadata": {},
   "outputs": [
    {
     "data": {
      "text/plain": [
       "6"
      ]
     },
     "execution_count": 41,
     "metadata": {},
     "output_type": "execute_result"
    }
   ],
   "source": [
    "mates.suma(2, 4)"
   ]
  },
  {
   "cell_type": "code",
   "execution_count": 42,
   "id": "d1f61ff6-0d73-4223-8744-4ea722e80e08",
   "metadata": {},
   "outputs": [],
   "source": [
    "import numpy"
   ]
  },
  {
   "cell_type": "code",
   "execution_count": 43,
   "id": "797d9cce-9149-466e-a590-ea7e29b729a3",
   "metadata": {},
   "outputs": [],
   "source": [
    "import numpy as np"
   ]
  },
  {
   "cell_type": "code",
   "execution_count": null,
   "id": "7a539d61-520c-416b-8407-2194e377e674",
   "metadata": {},
   "outputs": [],
   "source": [
    "import pandas as pd"
   ]
  },
  {
   "cell_type": "code",
   "execution_count": null,
   "id": "01a1c040-91c2-48c0-a2d2-e3ab4fd3f6a6",
   "metadata": {},
   "outputs": [],
   "source": [
    "from matematicas import pi, multiplica"
   ]
  },
  {
   "cell_type": "code",
   "execution_count": null,
   "id": "b8730853-33c6-4a05-bc23-26b07dd9e526",
   "metadata": {},
   "outputs": [],
   "source": [
    "pi"
   ]
  },
  {
   "cell_type": "code",
   "execution_count": null,
   "id": "de91eafe-eaa2-4654-b527-f3f7de02cf57",
   "metadata": {},
   "outputs": [],
   "source": [
    "multiplica(2, 3)"
   ]
  },
  {
   "cell_type": "code",
   "execution_count": null,
   "id": "74698f67-5164-47a0-982f-24219b06faaf",
   "metadata": {},
   "outputs": [],
   "source": [
    "from matematicas import *"
   ]
  },
  {
   "cell_type": "code",
   "execution_count": null,
   "id": "e1aa0210-30f5-4f98-9163-0b5e45fb5fb3",
   "metadata": {},
   "outputs": [],
   "source": [
    "import matplotlib as mpl"
   ]
  },
  {
   "cell_type": "code",
   "execution_count": null,
   "id": "982a0b2e-3a53-4e8e-9f74-600dbd3e7e03",
   "metadata": {},
   "outputs": [],
   "source": [
    "import matplotlib.pyplot as plt"
   ]
  },
  {
   "cell_type": "code",
   "execution_count": null,
   "id": "23b534df-6633-4ccd-a7f9-b0d2acb3c8d0",
   "metadata": {},
   "outputs": [],
   "source": [
    "import math"
   ]
  },
  {
   "cell_type": "code",
   "execution_count": null,
   "id": "e9f59d32-7b3b-4dd6-9e2d-fa7c535b3a56",
   "metadata": {},
   "outputs": [],
   "source": [
    "import random"
   ]
  },
  {
   "cell_type": "code",
   "execution_count": null,
   "id": "3ff87612-5687-4e29-87be-3356dcda2adc",
   "metadata": {},
   "outputs": [],
   "source": [
    "import statistics"
   ]
  }
 ],
 "metadata": {
  "kernelspec": {
   "display_name": "Python 3 (ipykernel)",
   "language": "python",
   "name": "python3"
  },
  "language_info": {
   "codemirror_mode": {
    "name": "ipython",
    "version": 3
   },
   "file_extension": ".py",
   "mimetype": "text/x-python",
   "name": "python",
   "nbconvert_exporter": "python",
   "pygments_lexer": "ipython3",
   "version": "3.11.7"
  }
 },
 "nbformat": 4,
 "nbformat_minor": 5
}
