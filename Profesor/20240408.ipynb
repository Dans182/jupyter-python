{
 "cells": [
  {
   "cell_type": "markdown",
   "id": "9696e308-2c9c-42d8-b6a1-11e7a4a6a7e6",
   "metadata": {},
   "source": [
    "# Operadores"
   ]
  },
  {
   "cell_type": "code",
   "execution_count": 1,
   "id": "5855c0e7-a5b9-4892-9b57-e1d914bf875c",
   "metadata": {},
   "outputs": [
    {
     "data": {
      "text/plain": [
       "10"
      ]
     },
     "execution_count": 1,
     "metadata": {},
     "output_type": "execute_result"
    }
   ],
   "source": [
    "4 + 6"
   ]
  },
  {
   "cell_type": "code",
   "execution_count": 2,
   "id": "a05deb91-fce0-4000-823e-8e48e96d04ed",
   "metadata": {},
   "outputs": [
    {
     "data": {
      "text/plain": [
       "64"
      ]
     },
     "execution_count": 2,
     "metadata": {},
     "output_type": "execute_result"
    }
   ],
   "source": [
    "4 ** 3"
   ]
  },
  {
   "cell_type": "code",
   "execution_count": 3,
   "id": "e4dce6a8-7809-483d-ac7a-d92495defd25",
   "metadata": {},
   "outputs": [
    {
     "data": {
      "text/plain": [
       "4.333333333333333"
      ]
     },
     "execution_count": 3,
     "metadata": {},
     "output_type": "execute_result"
    }
   ],
   "source": [
    "13 / 3"
   ]
  },
  {
   "cell_type": "code",
   "execution_count": 4,
   "id": "bfe64604-17be-4e23-a4b0-f16a0d9f5763",
   "metadata": {},
   "outputs": [
    {
     "data": {
      "text/plain": [
       "4"
      ]
     },
     "execution_count": 4,
     "metadata": {},
     "output_type": "execute_result"
    }
   ],
   "source": [
    "13 // 3"
   ]
  },
  {
   "cell_type": "code",
   "execution_count": 5,
   "id": "bd4c1cff-e82d-4146-abac-9809425d7571",
   "metadata": {},
   "outputs": [
    {
     "data": {
      "text/plain": [
       "1"
      ]
     },
     "execution_count": 5,
     "metadata": {},
     "output_type": "execute_result"
    }
   ],
   "source": [
    "13 % 3"
   ]
  },
  {
   "cell_type": "code",
   "execution_count": 6,
   "id": "6fd538e1-22d5-473d-9fd0-200a8b625554",
   "metadata": {},
   "outputs": [
    {
     "data": {
      "text/plain": [
       "0"
      ]
     },
     "execution_count": 6,
     "metadata": {},
     "output_type": "execute_result"
    }
   ],
   "source": [
    "8 % 2"
   ]
  },
  {
   "cell_type": "code",
   "execution_count": 7,
   "id": "fbf87ee4-6421-4ae5-9336-26afe60029b7",
   "metadata": {},
   "outputs": [
    {
     "data": {
      "text/plain": [
       "0"
      ]
     },
     "execution_count": 7,
     "metadata": {},
     "output_type": "execute_result"
    }
   ],
   "source": [
    "14 % 2"
   ]
  },
  {
   "cell_type": "code",
   "execution_count": 8,
   "id": "6e881aed-3657-4920-978f-db7ca9e119db",
   "metadata": {},
   "outputs": [
    {
     "data": {
      "text/plain": [
       "1"
      ]
     },
     "execution_count": 8,
     "metadata": {},
     "output_type": "execute_result"
    }
   ],
   "source": [
    "9 % 2"
   ]
  },
  {
   "cell_type": "code",
   "execution_count": 9,
   "id": "c2e59bfe-be22-4cca-9a7c-2b6bbd640940",
   "metadata": {},
   "outputs": [
    {
     "data": {
      "text/plain": [
       "1"
      ]
     },
     "execution_count": 9,
     "metadata": {},
     "output_type": "execute_result"
    }
   ],
   "source": [
    "5 % 2"
   ]
  },
  {
   "cell_type": "code",
   "execution_count": 10,
   "id": "f4724a69-d068-4532-b9e6-b45a6824bc49",
   "metadata": {},
   "outputs": [
    {
     "name": "stdout",
     "output_type": "stream",
     "text": [
      "0\n",
      "1\n",
      "2\n",
      "3\n"
     ]
    }
   ],
   "source": [
    "for n in range(4):\n",
    "    print(n)"
   ]
  },
  {
   "cell_type": "code",
   "execution_count": 11,
   "id": "2d0a30e2-3171-4a76-b1bf-f810cd526cf3",
   "metadata": {},
   "outputs": [],
   "source": [
    "a = [2, 4, 6, 8]"
   ]
  },
  {
   "cell_type": "code",
   "execution_count": 12,
   "id": "835b1f14-280f-4587-9fa6-50ad1e8a66b1",
   "metadata": {},
   "outputs": [
    {
     "data": {
      "text/plain": [
       "False"
      ]
     },
     "execution_count": 12,
     "metadata": {},
     "output_type": "execute_result"
    }
   ],
   "source": [
    "1 in a"
   ]
  },
  {
   "cell_type": "code",
   "execution_count": 13,
   "id": "e20a6a1d-a144-418b-b2ae-e285ebc0d454",
   "metadata": {},
   "outputs": [
    {
     "data": {
      "text/plain": [
       "True"
      ]
     },
     "execution_count": 13,
     "metadata": {},
     "output_type": "execute_result"
    }
   ],
   "source": [
    "6 in a"
   ]
  },
  {
   "cell_type": "code",
   "execution_count": 14,
   "id": "1a41bd56-5b91-4e5b-b9ae-9655ce944eaa",
   "metadata": {},
   "outputs": [
    {
     "data": {
      "text/plain": [
       "False"
      ]
     },
     "execution_count": 14,
     "metadata": {},
     "output_type": "execute_result"
    }
   ],
   "source": [
    "3 in {4, 5, 6}"
   ]
  },
  {
   "cell_type": "code",
   "execution_count": 15,
   "id": "840a7f2b-2a0e-496c-b5c1-3d3ad97dba6f",
   "metadata": {},
   "outputs": [
    {
     "data": {
      "text/plain": [
       "True"
      ]
     },
     "execution_count": 15,
     "metadata": {},
     "output_type": "execute_result"
    }
   ],
   "source": [
    "3 in {2, 3, 4, 5}"
   ]
  },
  {
   "cell_type": "code",
   "execution_count": 16,
   "id": "9935beca-8c84-4da7-ab06-b964e490869c",
   "metadata": {},
   "outputs": [
    {
     "data": {
      "text/plain": [
       "{'enero': 31, 'febrero': 28, 'marzo': 30}"
      ]
     },
     "execution_count": 16,
     "metadata": {},
     "output_type": "execute_result"
    }
   ],
   "source": [
    "meses = dict(enero = 31, febrero = 28, marzo = 30)\n",
    "meses"
   ]
  },
  {
   "cell_type": "code",
   "execution_count": 17,
   "id": "7ee0d8f8-a364-42b4-af5b-7d93f2a6f628",
   "metadata": {},
   "outputs": [
    {
     "data": {
      "text/plain": [
       "False"
      ]
     },
     "execution_count": 17,
     "metadata": {},
     "output_type": "execute_result"
    }
   ],
   "source": [
    "31 in meses"
   ]
  },
  {
   "cell_type": "code",
   "execution_count": 18,
   "id": "fc568c42-9d66-4936-8200-1c1570894fc9",
   "metadata": {},
   "outputs": [
    {
     "data": {
      "text/plain": [
       "True"
      ]
     },
     "execution_count": 18,
     "metadata": {},
     "output_type": "execute_result"
    }
   ],
   "source": [
    "\"enero\" in meses"
   ]
  },
  {
   "cell_type": "code",
   "execution_count": 19,
   "id": "a89e8e13-84bc-4f72-b358-555408034037",
   "metadata": {},
   "outputs": [
    {
     "data": {
      "text/plain": [
       "False"
      ]
     },
     "execution_count": 19,
     "metadata": {},
     "output_type": "execute_result"
    }
   ],
   "source": [
    "\"abril\" in meses"
   ]
  },
  {
   "cell_type": "code",
   "execution_count": 20,
   "id": "fb6f56eb-d58f-426f-b9e6-c7d527b0c99d",
   "metadata": {},
   "outputs": [
    {
     "data": {
      "text/plain": [
       "dict_items([('enero', 31), ('febrero', 28), ('marzo', 30)])"
      ]
     },
     "execution_count": 20,
     "metadata": {},
     "output_type": "execute_result"
    }
   ],
   "source": [
    "meses.items()"
   ]
  },
  {
   "cell_type": "code",
   "execution_count": 21,
   "id": "a10c928e-f43e-489e-a95e-c3719896fabd",
   "metadata": {},
   "outputs": [
    {
     "data": {
      "text/plain": [
       "dict_keys(['enero', 'febrero', 'marzo'])"
      ]
     },
     "execution_count": 21,
     "metadata": {},
     "output_type": "execute_result"
    }
   ],
   "source": [
    "meses.keys()"
   ]
  },
  {
   "cell_type": "code",
   "execution_count": 22,
   "id": "e70db834-c49d-4fda-8e46-cc619a33bfc8",
   "metadata": {},
   "outputs": [
    {
     "data": {
      "text/plain": [
       "dict_values([31, 28, 30])"
      ]
     },
     "execution_count": 22,
     "metadata": {},
     "output_type": "execute_result"
    }
   ],
   "source": [
    "meses.values()"
   ]
  },
  {
   "cell_type": "code",
   "execution_count": 23,
   "id": "aef36267-01b2-432c-be1c-52dc63ab5f47",
   "metadata": {},
   "outputs": [
    {
     "data": {
      "text/plain": [
       "False"
      ]
     },
     "execution_count": 23,
     "metadata": {},
     "output_type": "execute_result"
    }
   ],
   "source": [
    "26 in meses.values()"
   ]
  },
  {
   "cell_type": "code",
   "execution_count": 24,
   "id": "9a2ceccb-a546-4d9e-b50a-c077f0f4bb5b",
   "metadata": {},
   "outputs": [
    {
     "data": {
      "text/plain": [
       "True"
      ]
     },
     "execution_count": 24,
     "metadata": {},
     "output_type": "execute_result"
    }
   ],
   "source": [
    "30 in meses.values()"
   ]
  },
  {
   "cell_type": "code",
   "execution_count": 25,
   "id": "3f1dbc1b-54e1-4948-bcac-8cf46b823f48",
   "metadata": {},
   "outputs": [
    {
     "data": {
      "text/plain": [
       "True"
      ]
     },
     "execution_count": 25,
     "metadata": {},
     "output_type": "execute_result"
    }
   ],
   "source": [
    "\"enero\" in meses"
   ]
  },
  {
   "cell_type": "code",
   "execution_count": 26,
   "id": "64a113d4-7b0f-47a8-8465-0565ecbc0434",
   "metadata": {},
   "outputs": [
    {
     "data": {
      "text/plain": [
       "True"
      ]
     },
     "execution_count": 26,
     "metadata": {},
     "output_type": "execute_result"
    }
   ],
   "source": [
    "\"enero\" in meses.keys()"
   ]
  },
  {
   "cell_type": "markdown",
   "id": "e7285958-fe0e-4d8a-9557-76247ae40b21",
   "metadata": {},
   "source": [
    "# Eliminación de valores"
   ]
  },
  {
   "cell_type": "code",
   "execution_count": 27,
   "id": "7de7d89a-d6c4-4063-9910-d973cc620a95",
   "metadata": {},
   "outputs": [],
   "source": [
    "a = [2, 4, 6, 8]"
   ]
  },
  {
   "cell_type": "code",
   "execution_count": 28,
   "id": "cd960784-c6dc-4a0b-981a-c3ca09a51ebe",
   "metadata": {},
   "outputs": [
    {
     "name": "stdout",
     "output_type": "stream",
     "text": [
      "['__add__', '__class__', '__class_getitem__', '__contains__', '__delattr__', '__delitem__', '__dir__', '__doc__', '__eq__', '__format__', '__ge__', '__getattribute__', '__getitem__', '__getstate__', '__gt__', '__hash__', '__iadd__', '__imul__', '__init__', '__init_subclass__', '__iter__', '__le__', '__len__', '__lt__', '__mul__', '__ne__', '__new__', '__reduce__', '__reduce_ex__', '__repr__', '__reversed__', '__rmul__', '__setattr__', '__setitem__', '__sizeof__', '__str__', '__subclasshook__', 'append', 'clear', 'copy', 'count', 'extend', 'index', 'insert', 'pop', 'remove', 'reverse', 'sort']\n"
     ]
    }
   ],
   "source": [
    "print(dir(a))"
   ]
  },
  {
   "cell_type": "code",
   "execution_count": 29,
   "id": "10fca6ee-4054-4bee-9c6f-efd520decdcf",
   "metadata": {},
   "outputs": [
    {
     "data": {
      "text/plain": [
       "4"
      ]
     },
     "execution_count": 29,
     "metadata": {},
     "output_type": "execute_result"
    }
   ],
   "source": [
    "a.pop(1)"
   ]
  },
  {
   "cell_type": "code",
   "execution_count": 30,
   "id": "7a7eac15-64f2-4e4b-a046-9fefcae424f1",
   "metadata": {},
   "outputs": [
    {
     "data": {
      "text/plain": [
       "[2, 6, 8]"
      ]
     },
     "execution_count": 30,
     "metadata": {},
     "output_type": "execute_result"
    }
   ],
   "source": [
    "a"
   ]
  },
  {
   "cell_type": "code",
   "execution_count": 31,
   "id": "7500f999-9904-4bf4-987c-fd0ff8f34b77",
   "metadata": {},
   "outputs": [],
   "source": [
    "a.remove(6)"
   ]
  },
  {
   "cell_type": "code",
   "execution_count": 32,
   "id": "0031e363-e511-4051-b71c-c4905dbc2b1c",
   "metadata": {},
   "outputs": [
    {
     "data": {
      "text/plain": [
       "[2, 8]"
      ]
     },
     "execution_count": 32,
     "metadata": {},
     "output_type": "execute_result"
    }
   ],
   "source": [
    "a"
   ]
  },
  {
   "cell_type": "code",
   "execution_count": 33,
   "id": "52ac1836-486d-4b7d-bffd-65da1cffe659",
   "metadata": {},
   "outputs": [],
   "source": [
    "del(a)"
   ]
  },
  {
   "cell_type": "code",
   "execution_count": 34,
   "id": "d838cf72-6883-407b-9374-c4ca47e7b55c",
   "metadata": {},
   "outputs": [
    {
     "data": {
      "text/plain": [
       "[2, 4, 6, 8]"
      ]
     },
     "execution_count": 34,
     "metadata": {},
     "output_type": "execute_result"
    }
   ],
   "source": [
    "a = [2, 4, 6, 8]\n",
    "a"
   ]
  },
  {
   "cell_type": "code",
   "execution_count": 35,
   "id": "80c8f09c-8383-4855-ba03-333d3b5c7e7b",
   "metadata": {},
   "outputs": [],
   "source": [
    "del(a[1])"
   ]
  },
  {
   "cell_type": "code",
   "execution_count": 36,
   "id": "f2113f53-1eb1-4d3b-8333-4c1867a40e0b",
   "metadata": {},
   "outputs": [
    {
     "data": {
      "text/plain": [
       "[2, 6, 8]"
      ]
     },
     "execution_count": 36,
     "metadata": {},
     "output_type": "execute_result"
    }
   ],
   "source": [
    "a"
   ]
  },
  {
   "cell_type": "markdown",
   "id": "00ec6274-bce5-4c87-a58d-25a8eb845938",
   "metadata": {},
   "source": [
    "# Comprehensions"
   ]
  },
  {
   "cell_type": "code",
   "execution_count": 37,
   "id": "3f164a77-ed49-4206-88d2-bbad729cb0fb",
   "metadata": {},
   "outputs": [
    {
     "data": {
      "text/plain": [
       "[1, 2, 3, 4, 5]"
      ]
     },
     "execution_count": 37,
     "metadata": {},
     "output_type": "execute_result"
    }
   ],
   "source": [
    "a = [1, 2, 3, 4, 5]\n",
    "a"
   ]
  },
  {
   "cell_type": "code",
   "execution_count": 38,
   "id": "397e383d-c4fe-4e21-b9b6-78ef2ca18b94",
   "metadata": {},
   "outputs": [],
   "source": [
    "b = []\n",
    "for n in a:\n",
    "    b.append(n ** 2)"
   ]
  },
  {
   "cell_type": "code",
   "execution_count": 39,
   "id": "7d7114b0-1dff-4c94-8859-6d500c25efc7",
   "metadata": {},
   "outputs": [
    {
     "data": {
      "text/plain": [
       "[1, 4, 9, 16, 25]"
      ]
     },
     "execution_count": 39,
     "metadata": {},
     "output_type": "execute_result"
    }
   ],
   "source": [
    "b"
   ]
  },
  {
   "cell_type": "code",
   "execution_count": 40,
   "id": "a1ff0ebe-66b3-407b-b005-c77a3be1651c",
   "metadata": {},
   "outputs": [
    {
     "data": {
      "text/plain": [
       "[1, 2, 3, 4, 5]"
      ]
     },
     "execution_count": 40,
     "metadata": {},
     "output_type": "execute_result"
    }
   ],
   "source": [
    "a"
   ]
  },
  {
   "cell_type": "code",
   "execution_count": 41,
   "id": "ff493840-9dac-4c65-bf9e-f99309089fd3",
   "metadata": {},
   "outputs": [
    {
     "data": {
      "text/plain": [
       "[1, 2, 3, 4, 5]"
      ]
     },
     "execution_count": 41,
     "metadata": {},
     "output_type": "execute_result"
    }
   ],
   "source": [
    "[n for n in a]"
   ]
  },
  {
   "cell_type": "code",
   "execution_count": 42,
   "id": "9d9c10fc-4103-4c45-b7ce-8b996b4d9482",
   "metadata": {},
   "outputs": [
    {
     "data": {
      "text/plain": [
       "[2, 3, 4, 5, 6]"
      ]
     },
     "execution_count": 42,
     "metadata": {},
     "output_type": "execute_result"
    }
   ],
   "source": [
    "[n + 1 for n in a]"
   ]
  },
  {
   "cell_type": "code",
   "execution_count": 43,
   "id": "feff381b-d3c1-4b39-ae3e-50758f640ae8",
   "metadata": {},
   "outputs": [
    {
     "data": {
      "text/plain": [
       "[1, 4, 9, 16, 25]"
      ]
     },
     "execution_count": 43,
     "metadata": {},
     "output_type": "execute_result"
    }
   ],
   "source": [
    "b = [n ** 2 for n in a]\n",
    "b"
   ]
  },
  {
   "cell_type": "markdown",
   "id": "9507f221-9668-4670-8f1e-df8e8bbbd7c7",
   "metadata": {},
   "source": [
    "# Magics: Cell magics, line magics"
   ]
  },
  {
   "cell_type": "code",
   "execution_count": 44,
   "id": "35d03dab-ec1f-4676-811f-245447ab2902",
   "metadata": {},
   "outputs": [
    {
     "name": "stdout",
     "output_type": "stream",
     "text": [
      "CPU times: total: 703 ms\n",
      "Wall time: 686 ms\n"
     ]
    }
   ],
   "source": [
    "%%time\n",
    "# Esto es una cell magic\n",
    "a = 18\n",
    "b = [n ** 2 for n in range(1_000_000)]"
   ]
  },
  {
   "cell_type": "code",
   "execution_count": 45,
   "id": "fb7c8e27-cacd-489f-ad2f-610583ff0ed5",
   "metadata": {},
   "outputs": [
    {
     "name": "stdout",
     "output_type": "stream",
     "text": [
      "CPU times: total: 516 ms\n",
      "Wall time: 622 ms\n"
     ]
    }
   ],
   "source": [
    "%time b = [n ** 2 for n in range(1_000_000)]\n",
    "a = 18"
   ]
  },
  {
   "cell_type": "code",
   "execution_count": 46,
   "id": "b1051cff-7fc0-4451-84a9-e96bd84f951e",
   "metadata": {},
   "outputs": [
    {
     "data": {
      "text/plain": [
       "'C:\\\\Users\\\\danie\\\\OneDrive - Daniel Burrueco\\\\Profesional\\\\11 Proyectos en curso\\\\266 20240401 CTG O - Curso de Python para Data Science\\\\Cuadernos'"
      ]
     },
     "execution_count": 46,
     "metadata": {},
     "output_type": "execute_result"
    }
   ],
   "source": [
    "%pwd"
   ]
  },
  {
   "cell_type": "code",
   "execution_count": 47,
   "id": "380aaf54-e35e-439b-99e3-31e9bfa0cd23",
   "metadata": {},
   "outputs": [
    {
     "name": "stdout",
     "output_type": "stream",
     "text": [
      "376 ms ± 37.9 ms per loop (mean ± std. dev. of 7 runs, 1 loop each)\n"
     ]
    }
   ],
   "source": [
    "%%timeit\n",
    "b = [n ** 2 for n in range(1_000_000)]"
   ]
  },
  {
   "cell_type": "code",
   "execution_count": 48,
   "id": "f571554e-a41a-497b-93c2-e8cfb68ecdba",
   "metadata": {},
   "outputs": [
    {
     "name": "stdout",
     "output_type": "stream",
     "text": [
      "280 ms ± 24.7 ms per loop (mean ± std. dev. of 7 runs, 1 loop each)\n"
     ]
    }
   ],
   "source": [
    "%%timeit\n",
    "b = []\n",
    "for n in range(1_000_000):\n",
    "    b.append(n ** 2)"
   ]
  },
  {
   "cell_type": "code",
   "execution_count": 49,
   "id": "0fe3d592-f9d0-48c9-bf74-338143b30a44",
   "metadata": {},
   "outputs": [
    {
     "data": {
      "text/plain": [
       "1.3761194029850747"
      ]
     },
     "execution_count": 49,
     "metadata": {},
     "output_type": "execute_result"
    }
   ],
   "source": [
    "461 / 335"
   ]
  },
  {
   "cell_type": "code",
   "execution_count": 50,
   "id": "30e080f3-5895-4387-a693-c8bcf3109e69",
   "metadata": {},
   "outputs": [],
   "source": [
    "a = [1, 2, 3, 4, 5]"
   ]
  },
  {
   "cell_type": "code",
   "execution_count": 51,
   "id": "80bf4fab-9ceb-4ec2-b6c3-8b00165c0c5e",
   "metadata": {},
   "outputs": [
    {
     "data": {
      "text/plain": [
       "[1, 4, 9, 16, 25]"
      ]
     },
     "execution_count": 51,
     "metadata": {},
     "output_type": "execute_result"
    }
   ],
   "source": [
    "b = [n ** 2 for n in a]\n",
    "b"
   ]
  },
  {
   "cell_type": "code",
   "execution_count": 52,
   "id": "53bcbf9d-8c27-4b1c-9916-f0121ce4a8e7",
   "metadata": {},
   "outputs": [
    {
     "data": {
      "text/plain": [
       "['El cuadrado de 1 es igual a 1',\n",
       " 'El cuadrado de 2 es igual a 4',\n",
       " 'El cuadrado de 3 es igual a 9',\n",
       " 'El cuadrado de 4 es igual a 16',\n",
       " 'El cuadrado de 5 es igual a 25']"
      ]
     },
     "execution_count": 52,
     "metadata": {},
     "output_type": "execute_result"
    }
   ],
   "source": [
    "[\"El cuadrado de \" + str(n) + \" es igual a \" + str(n ** 2) for n in a]"
   ]
  },
  {
   "cell_type": "code",
   "execution_count": 53,
   "id": "b5fee413-a17a-4acf-a49b-b989a21bbc04",
   "metadata": {},
   "outputs": [
    {
     "data": {
      "text/plain": [
       "[0, 1, 2, 3, 4, 5, 6, 7, 8, 9]"
      ]
     },
     "execution_count": 53,
     "metadata": {},
     "output_type": "execute_result"
    }
   ],
   "source": [
    "[n for n in range(10)]"
   ]
  },
  {
   "cell_type": "code",
   "execution_count": 54,
   "id": "01ef4954-a15c-49f2-9f89-46023d435299",
   "metadata": {},
   "outputs": [
    {
     "data": {
      "text/plain": [
       "[5, 6, 7, 8, 9]"
      ]
     },
     "execution_count": 54,
     "metadata": {},
     "output_type": "execute_result"
    }
   ],
   "source": [
    "[n for n in range(10) if n > 4]"
   ]
  },
  {
   "cell_type": "code",
   "execution_count": 55,
   "id": "4453a8ab-2359-4dd2-8f75-2cba6ee7a555",
   "metadata": {},
   "outputs": [
    {
     "data": {
      "text/plain": [
       "[0, 2, 4, 6, 8]"
      ]
     },
     "execution_count": 55,
     "metadata": {},
     "output_type": "execute_result"
    }
   ],
   "source": [
    "[n for n in range(10) if n % 2 == 0]"
   ]
  },
  {
   "cell_type": "code",
   "execution_count": 56,
   "id": "55ab35c2-ef24-4a35-be31-aacbfc72dcc5",
   "metadata": {},
   "outputs": [
    {
     "data": {
      "text/plain": [
       "[0, 1, 2, 3, 4, 5, -1, -1, -1, -1]"
      ]
     },
     "execution_count": 56,
     "metadata": {},
     "output_type": "execute_result"
    }
   ],
   "source": [
    "[n if n < 6 else -1 for n in range(10)]"
   ]
  },
  {
   "cell_type": "code",
   "execution_count": 57,
   "id": "58fdb54d-9eae-453c-9e22-7cdda3a3138c",
   "metadata": {},
   "outputs": [
    {
     "data": {
      "text/plain": [
       "[0, 1, 4, 3, 16, 5, 36, 7, 64, 9]"
      ]
     },
     "execution_count": 57,
     "metadata": {},
     "output_type": "execute_result"
    }
   ],
   "source": [
    "[n ** 2 if n % 2 == 0 else n for n in range(10)]"
   ]
  },
  {
   "cell_type": "code",
   "execution_count": 58,
   "id": "9413b297-1c59-4cdc-b6e5-34cb756a7cef",
   "metadata": {},
   "outputs": [
    {
     "data": {
      "text/plain": [
       "[0, 1, 4, 3, 16, 5, 36, 7, 64, 9, 100]"
      ]
     },
     "execution_count": 58,
     "metadata": {},
     "output_type": "execute_result"
    }
   ],
   "source": [
    "[n ** 2 if n % 2 == 0 else n for n in range(15) if n <= 10]"
   ]
  },
  {
   "cell_type": "code",
   "execution_count": 59,
   "id": "06f87f66-1cf4-41b0-9972-f8d402fd7d6b",
   "metadata": {},
   "outputs": [],
   "source": [
    "a = range(15)\n",
    "b = []\n",
    "for n in a:\n",
    "    if n <= 10:\n",
    "        if n % 2 == 0:\n",
    "            b.append(n ** 2)\n",
    "        else:\n",
    "            b.append(n)"
   ]
  },
  {
   "cell_type": "markdown",
   "id": "98dca602-b22d-4145-83d9-2611c8bc0652",
   "metadata": {},
   "source": [
    "# Función names"
   ]
  },
  {
   "cell_type": "markdown",
   "id": "9eaca579-cf8a-4f82-ab31-81fe1cc2b7e4",
   "metadata": {},
   "source": [
    "### Función estándar"
   ]
  },
  {
   "cell_type": "code",
   "execution_count": 60,
   "id": "ffd081d9-ec3d-48df-86f5-bd99db90e82d",
   "metadata": {},
   "outputs": [
    {
     "name": "stdout",
     "output_type": "stream",
     "text": [
      "['__add__', '__class__', '__class_getitem__', '__contains__', '__delattr__', '__delitem__', '__dir__', '__doc__', '__eq__', '__format__', '__ge__', '__getattribute__', '__getitem__', '__getstate__', '__gt__', '__hash__', '__iadd__', '__imul__', '__init__', '__init_subclass__', '__iter__', '__le__', '__len__', '__lt__', '__mul__', '__ne__', '__new__', '__reduce__', '__reduce_ex__', '__repr__', '__reversed__', '__rmul__', '__setattr__', '__setitem__', '__sizeof__', '__str__', '__subclasshook__', 'append', 'clear', 'copy', 'count', 'extend', 'index', 'insert', 'pop', 'remove', 'reverse', 'sort']\n"
     ]
    }
   ],
   "source": [
    "print(dir(list))"
   ]
  },
  {
   "cell_type": "code",
   "execution_count": 61,
   "id": "b96809fd-3018-4c3c-aa0d-63579c63ae91",
   "metadata": {},
   "outputs": [
    {
     "data": {
      "text/plain": [
       "'_'"
      ]
     },
     "execution_count": 61,
     "metadata": {},
     "output_type": "execute_result"
    }
   ],
   "source": [
    "name = \"__doc__\"\n",
    "name[-1]"
   ]
  },
  {
   "cell_type": "code",
   "execution_count": 62,
   "id": "f1d6b403-b0f1-4543-aa0d-66aebc2c6dc9",
   "metadata": {},
   "outputs": [
    {
     "name": "stdout",
     "output_type": "stream",
     "text": [
      "['clear', 'copy', 'fromkeys', 'get', 'items', 'keys', 'pop', 'popitem', 'setdefault', 'update', 'values']\n"
     ]
    }
   ],
   "source": [
    "def names(obj):\n",
    "    print([name for name in dir(obj) if name[0] != \"_\"])\n",
    "\n",
    "names(dict)"
   ]
  },
  {
   "cell_type": "code",
   "execution_count": 63,
   "id": "d4a254d1-0474-4788-b646-f754e8611bef",
   "metadata": {},
   "outputs": [
    {
     "name": "stdout",
     "output_type": "stream",
     "text": [
      "['append', 'clear', 'copy', 'count', 'extend', 'index', 'insert', 'pop', 'remove', 'reverse', 'sort']\n"
     ]
    }
   ],
   "source": [
    "names([])"
   ]
  },
  {
   "cell_type": "markdown",
   "id": "087924f2-ed2f-4268-9410-5e8cd2f0aa6a",
   "metadata": {},
   "source": [
    "### Función lambda"
   ]
  },
  {
   "cell_type": "code",
   "execution_count": 64,
   "id": "f07df76a-ad62-4ae9-a802-ed11c02ecc75",
   "metadata": {},
   "outputs": [
    {
     "name": "stdout",
     "output_type": "stream",
     "text": [
      "['__add__', '__class__', '__class_getitem__', '__contains__', '__delattr__', '__delitem__', '__dir__', '__doc__', '__eq__', '__format__', '__ge__', '__getattribute__', '__getitem__', '__getstate__', '__gt__', '__hash__', '__iadd__', '__imul__', '__init__', '__init_subclass__', '__iter__', '__le__', '__len__', '__lt__', '__mul__', '__ne__', '__new__', '__reduce__', '__reduce_ex__', '__repr__', '__reversed__', '__rmul__', '__setattr__', '__setitem__', '__sizeof__', '__str__', '__subclasshook__', 'append', 'clear', 'copy', 'count', 'extend', 'index', 'insert', 'pop', 'remove', 'reverse', 'sort']\n"
     ]
    }
   ],
   "source": [
    "names = lambda : print(dir(list))\n",
    "\n",
    "names()"
   ]
  },
  {
   "cell_type": "code",
   "execution_count": 65,
   "id": "44703682-2e39-4ab6-8d95-13a965ceac2e",
   "metadata": {},
   "outputs": [
    {
     "name": "stdout",
     "output_type": "stream",
     "text": [
      "['__add__', '__class__', '__class_getitem__', '__contains__', '__delattr__', '__delitem__', '__dir__', '__doc__', '__eq__', '__format__', '__ge__', '__getattribute__', '__getitem__', '__getstate__', '__gt__', '__hash__', '__iadd__', '__imul__', '__init__', '__init_subclass__', '__iter__', '__le__', '__len__', '__lt__', '__mul__', '__ne__', '__new__', '__reduce__', '__reduce_ex__', '__repr__', '__reversed__', '__rmul__', '__setattr__', '__setitem__', '__sizeof__', '__str__', '__subclasshook__', 'append', 'clear', 'copy', 'count', 'extend', 'index', 'insert', 'pop', 'remove', 'reverse', 'sort']\n"
     ]
    }
   ],
   "source": [
    "names = lambda obj: print(dir(obj))\n",
    "\n",
    "names(list)"
   ]
  },
  {
   "cell_type": "code",
   "execution_count": 66,
   "id": "fcf2f80a-1979-48dc-b89c-2da6d078418c",
   "metadata": {},
   "outputs": [
    {
     "name": "stdout",
     "output_type": "stream",
     "text": [
      "['__add__', '__class__', '__class_getitem__', '__contains__', '__delattr__', '__delitem__', '__dir__', '__doc__', '__eq__', '__format__', '__ge__', '__getattribute__', '__getitem__', '__getstate__', '__gt__', '__hash__', '__iadd__', '__imul__', '__init__', '__init_subclass__', '__iter__', '__le__', '__len__', '__lt__', '__mul__', '__ne__', '__new__', '__reduce__', '__reduce_ex__', '__repr__', '__reversed__', '__rmul__', '__setattr__', '__setitem__', '__sizeof__', '__str__', '__subclasshook__', 'append', 'clear', 'copy', 'count', 'extend', 'index', 'insert', 'pop', 'remove', 'reverse', 'sort']\n"
     ]
    }
   ],
   "source": [
    "names = lambda obj: print([name for name in dir(obj)])\n",
    "\n",
    "names(list)"
   ]
  },
  {
   "cell_type": "code",
   "execution_count": 67,
   "id": "6f1f2a1e-ec60-4062-b9ff-6c0ff86a7bd3",
   "metadata": {},
   "outputs": [
    {
     "name": "stdout",
     "output_type": "stream",
     "text": [
      "['append', 'clear', 'copy', 'count', 'extend', 'index', 'insert', 'pop', 'remove', 'reverse', 'sort']\n"
     ]
    }
   ],
   "source": [
    "names = lambda obj: print([name for name in dir(obj) if name[0] != \"_\"])\n",
    "\n",
    "names(list)"
   ]
  },
  {
   "cell_type": "code",
   "execution_count": 68,
   "id": "59d18b7c-e96d-4b00-87f6-7e1e99457abe",
   "metadata": {},
   "outputs": [
    {
     "data": {
      "text/plain": [
       "{'enero': 31, 'febrero': 28, 'marzo': 30}"
      ]
     },
     "execution_count": 68,
     "metadata": {},
     "output_type": "execute_result"
    }
   ],
   "source": [
    "meses"
   ]
  },
  {
   "cell_type": "code",
   "execution_count": 69,
   "id": "50760e26-420b-429a-a3fa-7e0735d4fc8d",
   "metadata": {},
   "outputs": [
    {
     "name": "stdout",
     "output_type": "stream",
     "text": [
      "['clear', 'copy', 'fromkeys', 'get', 'items', 'keys', 'pop', 'popitem', 'setdefault', 'update', 'values']\n"
     ]
    }
   ],
   "source": [
    "names(meses)"
   ]
  },
  {
   "cell_type": "markdown",
   "id": "36e646ce-1e83-4c87-a8b1-cc808d0a64e1",
   "metadata": {},
   "source": [
    "# Funciones integradas"
   ]
  },
  {
   "cell_type": "code",
   "execution_count": 70,
   "id": "dcba3513-d7d4-4ee0-9635-68b15fddfd53",
   "metadata": {},
   "outputs": [],
   "source": [
    "import sys"
   ]
  },
  {
   "cell_type": "code",
   "execution_count": 71,
   "id": "56ca4aba-f885-4cfa-8ae4-b07462213e19",
   "metadata": {},
   "outputs": [
    {
     "name": "stdout",
     "output_type": "stream",
     "text": [
      "['addaudithook', 'api_version', 'argv', 'audit', 'base_exec_prefix', 'base_prefix', 'breakpointhook', 'builtin_module_names', 'byteorder', 'call_tracing', 'copyright', 'displayhook', 'dllhandle', 'dont_write_bytecode', 'exc_info', 'excepthook', 'exception', 'exec_prefix', 'executable', 'exit', 'flags', 'float_info', 'float_repr_style', 'get_asyncgen_hooks', 'get_coroutine_origin_tracking_depth', 'get_int_max_str_digits', 'getallocatedblocks', 'getdefaultencoding', 'getfilesystemencodeerrors', 'getfilesystemencoding', 'getprofile', 'getrecursionlimit', 'getrefcount', 'getsizeof', 'getswitchinterval', 'gettrace', 'getwindowsversion', 'hash_info', 'hexversion', 'implementation', 'int_info', 'intern', 'is_finalizing', 'maxsize', 'maxunicode', 'meta_path', 'modules', 'orig_argv', 'path', 'path_hooks', 'path_importer_cache', 'platform', 'platlibdir', 'prefix', 'ps1', 'ps2', 'ps3', 'pycache_prefix', 'set_asyncgen_hooks', 'set_coroutine_origin_tracking_depth', 'set_int_max_str_digits', 'setprofile', 'setrecursionlimit', 'setswitchinterval', 'settrace', 'stderr', 'stdin', 'stdlib_module_names', 'stdout', 'thread_info', 'unraisablehook', 'version', 'version_info', 'warnoptions', 'winver']\n"
     ]
    }
   ],
   "source": [
    "names(sys)"
   ]
  },
  {
   "cell_type": "code",
   "execution_count": 72,
   "id": "aea89d60-5538-4b92-8bef-ef9b0d070ef3",
   "metadata": {},
   "outputs": [
    {
     "data": {
      "text/plain": [
       "'3.11.7 | packaged by Anaconda, Inc. | (main, Dec 15 2023, 18:05:47) [MSC v.1916 64 bit (AMD64)]'"
      ]
     },
     "execution_count": 72,
     "metadata": {},
     "output_type": "execute_result"
    }
   ],
   "source": [
    "sys.version"
   ]
  },
  {
   "cell_type": "markdown",
   "id": "f1649662-4ca3-4109-a8b7-3560b75bc9b5",
   "metadata": {},
   "source": [
    "### reversed"
   ]
  },
  {
   "cell_type": "code",
   "execution_count": 73,
   "id": "5d99d782-aa8d-49f4-85bf-e9df8d43a062",
   "metadata": {
    "scrolled": true
   },
   "outputs": [
    {
     "name": "stdout",
     "output_type": "stream",
     "text": [
      "Help on class reversed in module builtins:\n",
      "\n",
      "class reversed(object)\n",
      " |  reversed(sequence, /)\n",
      " |  \n",
      " |  Return a reverse iterator over the values of the given sequence.\n",
      " |  \n",
      " |  Methods defined here:\n",
      " |  \n",
      " |  __getattribute__(self, name, /)\n",
      " |      Return getattr(self, name).\n",
      " |  \n",
      " |  __iter__(self, /)\n",
      " |      Implement iter(self).\n",
      " |  \n",
      " |  __length_hint__(...)\n",
      " |      Private method returning an estimate of len(list(it)).\n",
      " |  \n",
      " |  __next__(self, /)\n",
      " |      Implement next(self).\n",
      " |  \n",
      " |  __reduce__(...)\n",
      " |      Return state information for pickling.\n",
      " |  \n",
      " |  __setstate__(...)\n",
      " |      Set state information for unpickling.\n",
      " |  \n",
      " |  ----------------------------------------------------------------------\n",
      " |  Static methods defined here:\n",
      " |  \n",
      " |  __new__(*args, **kwargs) from builtins.type\n",
      " |      Create and return a new object.  See help(type) for accurate signature.\n",
      "\n"
     ]
    }
   ],
   "source": [
    "help(reversed)"
   ]
  },
  {
   "cell_type": "code",
   "execution_count": 74,
   "id": "33237c31-323d-4d76-a45b-8d0ec34c7a21",
   "metadata": {},
   "outputs": [
    {
     "data": {
      "text/plain": [
       "['a', 'b', 'c', 'd', 'e', 'f']"
      ]
     },
     "execution_count": 74,
     "metadata": {},
     "output_type": "execute_result"
    }
   ],
   "source": [
    "a = list(\"abcdef\")\n",
    "a"
   ]
  },
  {
   "cell_type": "code",
   "execution_count": 75,
   "id": "84a3c868-9fa6-45d3-821a-aacf812e92b1",
   "metadata": {},
   "outputs": [
    {
     "data": {
      "text/plain": [
       "['f', 'e', 'd', 'c', 'b', 'a']"
      ]
     },
     "execution_count": 75,
     "metadata": {},
     "output_type": "execute_result"
    }
   ],
   "source": [
    "list(reversed(a))"
   ]
  },
  {
   "cell_type": "code",
   "execution_count": 76,
   "id": "1fec91d5-ed54-47ad-8adc-f388ef180f14",
   "metadata": {},
   "outputs": [
    {
     "name": "stdout",
     "output_type": "stream",
     "text": [
      "['append', 'clear', 'copy', 'count', 'extend', 'index', 'insert', 'pop', 'remove', 'reverse', 'sort']\n"
     ]
    }
   ],
   "source": [
    "names(list)"
   ]
  },
  {
   "cell_type": "code",
   "execution_count": 77,
   "id": "bdd95208-cdd3-464f-b4e0-cded4bb48eb1",
   "metadata": {},
   "outputs": [
    {
     "data": {
      "text/plain": [
       "['a', 'b', 'c', 'd', 'e', 'f']"
      ]
     },
     "execution_count": 77,
     "metadata": {},
     "output_type": "execute_result"
    }
   ],
   "source": [
    "a"
   ]
  },
  {
   "cell_type": "code",
   "execution_count": 78,
   "id": "ae7cc12d-1df0-49e9-9173-5ff521b0718f",
   "metadata": {},
   "outputs": [],
   "source": [
    "a.reverse()"
   ]
  },
  {
   "cell_type": "code",
   "execution_count": 79,
   "id": "0b680fcf-198a-4835-bbb6-68d9c8cff478",
   "metadata": {},
   "outputs": [
    {
     "data": {
      "text/plain": [
       "['f', 'e', 'd', 'c', 'b', 'a']"
      ]
     },
     "execution_count": 79,
     "metadata": {},
     "output_type": "execute_result"
    }
   ],
   "source": [
    "a"
   ]
  },
  {
   "cell_type": "markdown",
   "id": "3d81c983-dbb6-4c08-bc44-1955b4973aa0",
   "metadata": {},
   "source": [
    "### Función sorted"
   ]
  },
  {
   "cell_type": "code",
   "execution_count": 80,
   "id": "48368d46-f84c-4bdc-be2a-dca53caa7603",
   "metadata": {},
   "outputs": [
    {
     "name": "stdout",
     "output_type": "stream",
     "text": [
      "Help on built-in function sorted in module builtins:\n",
      "\n",
      "sorted(iterable, /, *, key=None, reverse=False)\n",
      "    Return a new list containing all items from the iterable in ascending order.\n",
      "    \n",
      "    A custom key function can be supplied to customize the sort order, and the\n",
      "    reverse flag can be set to request the result in descending order.\n",
      "\n"
     ]
    }
   ],
   "source": [
    "help(sorted)"
   ]
  },
  {
   "cell_type": "code",
   "execution_count": 81,
   "id": "77a198e0-874d-419d-8e8f-417ba1de738e",
   "metadata": {},
   "outputs": [
    {
     "data": {
      "text/plain": [
       "['p', 'y', 't', 'h', 'o', 'n']"
      ]
     },
     "execution_count": 81,
     "metadata": {},
     "output_type": "execute_result"
    }
   ],
   "source": [
    "a = list(\"python\")\n",
    "a"
   ]
  },
  {
   "cell_type": "code",
   "execution_count": 82,
   "id": "764eb296-d9a9-4052-8e7d-f94bf4b5799a",
   "metadata": {},
   "outputs": [
    {
     "data": {
      "text/plain": [
       "['y', 't', 'p', 'o', 'n', 'h']"
      ]
     },
     "execution_count": 82,
     "metadata": {},
     "output_type": "execute_result"
    }
   ],
   "source": [
    "sorted(a, reverse = True)"
   ]
  },
  {
   "cell_type": "code",
   "execution_count": 83,
   "id": "8b9e153e-b330-47db-9ac8-0d0b6f3715a7",
   "metadata": {},
   "outputs": [
    {
     "data": {
      "text/plain": [
       "('p', 'y', 't', 'h', 'o', 'n')"
      ]
     },
     "execution_count": 83,
     "metadata": {},
     "output_type": "execute_result"
    }
   ],
   "source": [
    "a = tuple(\"python\")\n",
    "a"
   ]
  },
  {
   "cell_type": "code",
   "execution_count": 84,
   "id": "9046d2b3-b971-432d-abf6-e826afb92a54",
   "metadata": {},
   "outputs": [
    {
     "data": {
      "text/plain": [
       "['h', 'n', 'o', 'p', 't', 'y']"
      ]
     },
     "execution_count": 84,
     "metadata": {},
     "output_type": "execute_result"
    }
   ],
   "source": [
    "sorted(a)"
   ]
  },
  {
   "cell_type": "code",
   "execution_count": 85,
   "id": "444464f4-9d81-4b9a-9732-ee67dcc661c1",
   "metadata": {},
   "outputs": [
    {
     "data": {
      "text/plain": [
       "['p', 'y', 't', 'h', 'o', 'n']"
      ]
     },
     "execution_count": 85,
     "metadata": {},
     "output_type": "execute_result"
    }
   ],
   "source": [
    "a = list(\"python\")\n",
    "a"
   ]
  },
  {
   "cell_type": "code",
   "execution_count": 86,
   "id": "b6c70a60-6983-4200-b71e-f8510eda86be",
   "metadata": {},
   "outputs": [
    {
     "data": {
      "text/plain": [
       "['h', 'n', 'o', 'p', 't', 'y']"
      ]
     },
     "execution_count": 86,
     "metadata": {},
     "output_type": "execute_result"
    }
   ],
   "source": [
    "sorted(a)"
   ]
  },
  {
   "cell_type": "code",
   "execution_count": 87,
   "id": "86b51f80-5be1-42ac-a3e9-95ff5642a948",
   "metadata": {},
   "outputs": [
    {
     "data": {
      "text/plain": [
       "['p', 'y', 't', 'h', 'o', 'n']"
      ]
     },
     "execution_count": 87,
     "metadata": {},
     "output_type": "execute_result"
    }
   ],
   "source": [
    "a"
   ]
  },
  {
   "cell_type": "code",
   "execution_count": 88,
   "id": "eb0f7505-64ba-45b7-8416-a07ace7c05bc",
   "metadata": {},
   "outputs": [],
   "source": [
    "a.sort()"
   ]
  },
  {
   "cell_type": "code",
   "execution_count": 89,
   "id": "3526b489-612d-4fce-b58f-a120a0de23e4",
   "metadata": {},
   "outputs": [
    {
     "data": {
      "text/plain": [
       "['h', 'n', 'o', 'p', 't', 'y']"
      ]
     },
     "execution_count": 89,
     "metadata": {},
     "output_type": "execute_result"
    }
   ],
   "source": [
    "a"
   ]
  },
  {
   "cell_type": "markdown",
   "id": "bc70f671-45b1-4360-b1f1-b42771b7fab1",
   "metadata": {},
   "source": [
    "### enumerate"
   ]
  },
  {
   "cell_type": "code",
   "execution_count": 90,
   "id": "79975822-9051-4621-ac5c-6b998cd86c76",
   "metadata": {
    "scrolled": true
   },
   "outputs": [
    {
     "name": "stdout",
     "output_type": "stream",
     "text": [
      "Help on class enumerate in module builtins:\n",
      "\n",
      "class enumerate(object)\n",
      " |  enumerate(iterable, start=0)\n",
      " |  \n",
      " |  Return an enumerate object.\n",
      " |  \n",
      " |    iterable\n",
      " |      an object supporting iteration\n",
      " |  \n",
      " |  The enumerate object yields pairs containing a count (from start, which\n",
      " |  defaults to zero) and a value yielded by the iterable argument.\n",
      " |  \n",
      " |  enumerate is useful for obtaining an indexed list:\n",
      " |      (0, seq[0]), (1, seq[1]), (2, seq[2]), ...\n",
      " |  \n",
      " |  Methods defined here:\n",
      " |  \n",
      " |  __getattribute__(self, name, /)\n",
      " |      Return getattr(self, name).\n",
      " |  \n",
      " |  __iter__(self, /)\n",
      " |      Implement iter(self).\n",
      " |  \n",
      " |  __next__(self, /)\n",
      " |      Implement next(self).\n",
      " |  \n",
      " |  __reduce__(...)\n",
      " |      Return state information for pickling.\n",
      " |  \n",
      " |  ----------------------------------------------------------------------\n",
      " |  Class methods defined here:\n",
      " |  \n",
      " |  __class_getitem__(...) from builtins.type\n",
      " |      See PEP 585\n",
      " |  \n",
      " |  ----------------------------------------------------------------------\n",
      " |  Static methods defined here:\n",
      " |  \n",
      " |  __new__(*args, **kwargs) from builtins.type\n",
      " |      Create and return a new object.  See help(type) for accurate signature.\n",
      "\n"
     ]
    }
   ],
   "source": [
    "help(enumerate)"
   ]
  },
  {
   "cell_type": "code",
   "execution_count": 91,
   "id": "88ad99cf-ebe9-4360-bf6a-f3f527a7f07a",
   "metadata": {},
   "outputs": [
    {
     "data": {
      "text/plain": [
       "['p', 'y', 't', 'h', 'o', 'n']"
      ]
     },
     "execution_count": 91,
     "metadata": {},
     "output_type": "execute_result"
    }
   ],
   "source": [
    "a = list(\"python\")\n",
    "a"
   ]
  },
  {
   "cell_type": "code",
   "execution_count": 92,
   "id": "a0f147c9-c68f-41b2-890b-d125fda90e47",
   "metadata": {},
   "outputs": [
    {
     "data": {
      "text/plain": [
       "[(0, 'p'), (1, 'y'), (2, 't'), (3, 'h'), (4, 'o'), (5, 'n')]"
      ]
     },
     "execution_count": 92,
     "metadata": {},
     "output_type": "execute_result"
    }
   ],
   "source": [
    "list(enumerate(a))"
   ]
  },
  {
   "cell_type": "code",
   "execution_count": 93,
   "id": "8b51090b-cb29-4a6a-8dff-5072d501c462",
   "metadata": {},
   "outputs": [
    {
     "data": {
      "text/plain": [
       "[(15, 'p'), (16, 'y'), (17, 't'), (18, 'h'), (19, 'o'), (20, 'n')]"
      ]
     },
     "execution_count": 93,
     "metadata": {},
     "output_type": "execute_result"
    }
   ],
   "source": [
    "list(enumerate(a, start = 15))"
   ]
  },
  {
   "cell_type": "code",
   "execution_count": 94,
   "id": "7a00afb8-7048-4a87-b35a-7f49efe843cc",
   "metadata": {},
   "outputs": [
    {
     "data": {
      "text/plain": [
       "['p', 'y', 't', 'h', 'o', 'n']"
      ]
     },
     "execution_count": 94,
     "metadata": {},
     "output_type": "execute_result"
    }
   ],
   "source": [
    "a"
   ]
  },
  {
   "cell_type": "code",
   "execution_count": 95,
   "id": "6685cc17-81ca-4baf-a7eb-da40bd788e14",
   "metadata": {},
   "outputs": [
    {
     "name": "stdout",
     "output_type": "stream",
     "text": [
      "(0, 'p')\n",
      "(1, 'y')\n",
      "(2, 't')\n",
      "(3, 'h')\n",
      "(4, 'o')\n",
      "(5, 'n')\n"
     ]
    }
   ],
   "source": [
    "for t in enumerate(a):   # t contiene una tupla: el contador y cada una de las letras originales\n",
    "    print(t)"
   ]
  },
  {
   "cell_type": "code",
   "execution_count": 96,
   "id": "b53afceb-26fa-4724-9ab8-2e4a277dfde1",
   "metadata": {},
   "outputs": [],
   "source": [
    "m = (2, 4)"
   ]
  },
  {
   "cell_type": "code",
   "execution_count": 97,
   "id": "0850d848-5ea1-48fa-a774-99d991f5e333",
   "metadata": {},
   "outputs": [],
   "source": [
    "m, n = (2, 4)"
   ]
  },
  {
   "cell_type": "code",
   "execution_count": 98,
   "id": "0275b1c3-76e6-44eb-856b-8e2cb34a7ced",
   "metadata": {},
   "outputs": [
    {
     "data": {
      "text/plain": [
       "2"
      ]
     },
     "execution_count": 98,
     "metadata": {},
     "output_type": "execute_result"
    }
   ],
   "source": [
    "m"
   ]
  },
  {
   "cell_type": "code",
   "execution_count": 99,
   "id": "3252dfd6-1950-44d0-98e9-41a5e4c708ab",
   "metadata": {},
   "outputs": [
    {
     "data": {
      "text/plain": [
       "4"
      ]
     },
     "execution_count": 99,
     "metadata": {},
     "output_type": "execute_result"
    }
   ],
   "source": [
    "n"
   ]
  },
  {
   "cell_type": "code",
   "execution_count": 100,
   "id": "4d9f4f02-2816-40e9-b83d-d4e35bf63133",
   "metadata": {},
   "outputs": [
    {
     "name": "stdout",
     "output_type": "stream",
     "text": [
      "0 p\n",
      "1 y\n",
      "2 t\n",
      "3 h\n",
      "4 o\n",
      "5 n\n"
     ]
    }
   ],
   "source": [
    "for contador, letra in enumerate(a):\n",
    "    print(contador, letra)"
   ]
  },
  {
   "cell_type": "markdown",
   "id": "993b96ad-add9-457b-817a-38cc5eaa02bf",
   "metadata": {},
   "source": [
    "### Función zip"
   ]
  },
  {
   "cell_type": "code",
   "execution_count": 101,
   "id": "52ba7579-1db8-4a14-afc4-129041bad587",
   "metadata": {},
   "outputs": [],
   "source": [
    "a = [\"ene\", \"feb\", \"mar\"]\n",
    "b = [5, 3, 7]"
   ]
  },
  {
   "cell_type": "code",
   "execution_count": 102,
   "id": "1aa454da-af7c-4258-bed3-7875d4bbe5e5",
   "metadata": {},
   "outputs": [
    {
     "data": {
      "text/plain": [
       "[('ene', 5), ('feb', 3), ('mar', 7)]"
      ]
     },
     "execution_count": 102,
     "metadata": {},
     "output_type": "execute_result"
    }
   ],
   "source": [
    "list(zip(a, b))"
   ]
  },
  {
   "cell_type": "code",
   "execution_count": 103,
   "id": "04788001-f813-4a65-b488-8697b6cbda87",
   "metadata": {},
   "outputs": [
    {
     "data": {
      "text/plain": [
       "['a', 'b', 'c', 'd']"
      ]
     },
     "execution_count": 103,
     "metadata": {},
     "output_type": "execute_result"
    }
   ],
   "source": [
    "c = [\"a\", \"b\", \"c\", \"d\"]\n",
    "c"
   ]
  },
  {
   "cell_type": "code",
   "execution_count": 104,
   "id": "72ab59f2-5646-447e-81f3-724279367ebb",
   "metadata": {},
   "outputs": [
    {
     "data": {
      "text/plain": [
       "(('ene', 5, 'a'), ('feb', 3, 'b'), ('mar', 7, 'c'))"
      ]
     },
     "execution_count": 104,
     "metadata": {},
     "output_type": "execute_result"
    }
   ],
   "source": [
    "tuple(zip(a, b, c))"
   ]
  },
  {
   "cell_type": "code",
   "execution_count": 105,
   "id": "cf93298c-8457-44c8-8e7e-3823af4f7298",
   "metadata": {},
   "outputs": [
    {
     "data": {
      "text/plain": [
       "[('ene', 4), ('feb', 7), ('mar', 2)]"
      ]
     },
     "execution_count": 105,
     "metadata": {},
     "output_type": "execute_result"
    }
   ],
   "source": [
    "a = [(\"ene\", 4), (\"feb\", 7), (\"mar\", 2)]\n",
    "a"
   ]
  },
  {
   "cell_type": "code",
   "execution_count": 106,
   "id": "56ff1a37-a377-4e36-a997-087beab99233",
   "metadata": {},
   "outputs": [
    {
     "data": {
      "text/plain": [
       "[('ene', 'feb', 'mar'), (4, 7, 2)]"
      ]
     },
     "execution_count": 106,
     "metadata": {},
     "output_type": "execute_result"
    }
   ],
   "source": [
    "list(zip(*a))"
   ]
  },
  {
   "cell_type": "code",
   "execution_count": 107,
   "id": "e91a3a19-29fc-4c15-ba49-ab01910a2d93",
   "metadata": {},
   "outputs": [],
   "source": [
    "meses, ventas = list(zip(*a))"
   ]
  },
  {
   "cell_type": "code",
   "execution_count": 108,
   "id": "c3d7b0a6-9f51-48ea-aa6c-ebae2c886305",
   "metadata": {},
   "outputs": [
    {
     "data": {
      "text/plain": [
       "('ene', 'feb', 'mar')"
      ]
     },
     "execution_count": 108,
     "metadata": {},
     "output_type": "execute_result"
    }
   ],
   "source": [
    "meses"
   ]
  },
  {
   "cell_type": "code",
   "execution_count": 109,
   "id": "182d6ab3-94ef-499a-9be4-ffdd92ae737c",
   "metadata": {},
   "outputs": [
    {
     "data": {
      "text/plain": [
       "(4, 7, 2)"
      ]
     },
     "execution_count": 109,
     "metadata": {},
     "output_type": "execute_result"
    }
   ],
   "source": [
    "ventas"
   ]
  },
  {
   "cell_type": "markdown",
   "id": "6eec9920-46c0-4c3a-a052-04e956b53958",
   "metadata": {},
   "source": [
    "# Bucles"
   ]
  },
  {
   "cell_type": "code",
   "execution_count": 110,
   "id": "2483bb13-ceac-4d81-a3a9-908ab762368b",
   "metadata": {},
   "outputs": [
    {
     "name": "stdout",
     "output_type": "stream",
     "text": [
      "0\n",
      "1\n",
      "2\n",
      "3\n",
      "4\n",
      "5\n",
      "6\n",
      "7\n",
      "8\n",
      "9\n"
     ]
    }
   ],
   "source": [
    "for n in range(10):\n",
    "    print(n)"
   ]
  },
  {
   "cell_type": "code",
   "execution_count": 111,
   "id": "968d4399-7822-488b-8f38-4d8eca48ff9f",
   "metadata": {},
   "outputs": [
    {
     "name": "stdout",
     "output_type": "stream",
     "text": [
      "0\n",
      "1\n",
      "2\n",
      "3\n",
      "4\n",
      "5\n"
     ]
    }
   ],
   "source": [
    "for n in range(10):\n",
    "    if n == 6:\n",
    "        break\n",
    "    print(n)"
   ]
  },
  {
   "cell_type": "code",
   "execution_count": 112,
   "id": "4a797e90-e8c9-46c3-9c16-8052c4c1250c",
   "metadata": {},
   "outputs": [
    {
     "name": "stdout",
     "output_type": "stream",
     "text": [
      "0\n",
      "1\n",
      "2\n",
      "3\n",
      "4\n",
      "5\n",
      "7\n",
      "8\n",
      "9\n"
     ]
    }
   ],
   "source": [
    "for n in range(10):\n",
    "    if n == 6:\n",
    "        continue\n",
    "    print(n)"
   ]
  },
  {
   "cell_type": "code",
   "execution_count": 113,
   "id": "8cacee03-ba09-4bd2-81c2-a9d757d5f7f1",
   "metadata": {},
   "outputs": [
    {
     "name": "stdout",
     "output_type": "stream",
     "text": [
      "0\n",
      "1\n",
      "2\n",
      "3\n"
     ]
    }
   ],
   "source": [
    "n = 0\n",
    "while n < 7:\n",
    "    if n == 4:\n",
    "        break\n",
    "    print(n)\n",
    "    n += 1"
   ]
  },
  {
   "cell_type": "code",
   "execution_count": 114,
   "id": "4d3ff0fe-bac8-4be0-b827-ba6dd6c06e59",
   "metadata": {},
   "outputs": [
    {
     "name": "stdout",
     "output_type": "stream",
     "text": [
      "1\n",
      "2\n",
      "3\n",
      "5\n",
      "6\n",
      "7\n"
     ]
    }
   ],
   "source": [
    "n = 0\n",
    "while n < 7:\n",
    "    n += 1\n",
    "    if n == 4:\n",
    "        continue\n",
    "    print(n)"
   ]
  },
  {
   "cell_type": "code",
   "execution_count": 115,
   "id": "13dcaaf8-4e1b-40f0-9465-638ba32c44dc",
   "metadata": {},
   "outputs": [
    {
     "name": "stdin",
     "output_type": "stream",
     "text": [
      "Introduce un número o 0 para salir 5\n"
     ]
    },
    {
     "name": "stdout",
     "output_type": "stream",
     "text": [
      "El cuadrado de 5 es 25\n"
     ]
    },
    {
     "name": "stdin",
     "output_type": "stream",
     "text": [
      "Introduce un número o 0 para salir 3\n"
     ]
    },
    {
     "name": "stdout",
     "output_type": "stream",
     "text": [
      "El cuadrado de 3 es 9\n"
     ]
    },
    {
     "name": "stdin",
     "output_type": "stream",
     "text": [
      "Introduce un número o 0 para salir 0\n"
     ]
    }
   ],
   "source": [
    "while True:\n",
    "    r = int(input(\"Introduce un número o 0 para salir\"))\n",
    "    if r == 0:\n",
    "        break\n",
    "    print(\"El cuadrado de\", r, \"es\", r ** 2)"
   ]
  },
  {
   "cell_type": "markdown",
   "id": "f46ab03e-b700-4e50-b2dd-0f7a4c5a676f",
   "metadata": {},
   "source": [
    "# Format-strings (Cadenas de formato)"
   ]
  },
  {
   "cell_type": "code",
   "execution_count": 116,
   "id": "8a624cbe-063a-45da-862b-48d6e5898a78",
   "metadata": {},
   "outputs": [],
   "source": [
    "r = 5788.246"
   ]
  },
  {
   "cell_type": "code",
   "execution_count": 117,
   "id": "e5f22ec7-dc1b-4644-a352-46ac2efc1396",
   "metadata": {},
   "outputs": [
    {
     "name": "stdout",
     "output_type": "stream",
     "text": [
      "El cuadrado de 5788.246 es 33503791.756516002\n"
     ]
    }
   ],
   "source": [
    "print(\"El cuadrado de\", r, \"es\", r ** 2)"
   ]
  },
  {
   "cell_type": "code",
   "execution_count": 118,
   "id": "da182571-d30b-46ff-b3a2-81319eef87d6",
   "metadata": {},
   "outputs": [
    {
     "name": "stdout",
     "output_type": "stream",
     "text": [
      "El cuadrado de 5,788.2 es 33,503,791.76\n"
     ]
    }
   ],
   "source": [
    "print(f\"El cuadrado de {r:,.1f} es {r ** 2:,.2f}\")"
   ]
  },
  {
   "cell_type": "code",
   "execution_count": 119,
   "id": "de31b995-0ed9-4f72-b030-9fc87090da05",
   "metadata": {},
   "outputs": [
    {
     "name": "stdout",
     "output_type": "stream",
     "text": [
      "    1      por 3 igual a  3\n",
      "    2      por 3 igual a  6\n",
      "    3      por 3 igual a  9\n",
      "    4      por 3 igual a 12\n",
      "    5      por 3 igual a 15\n",
      "    6      por 3 igual a 18\n",
      "    7      por 3 igual a 21\n",
      "    8      por 3 igual a 24\n",
      "    9      por 3 igual a 27\n",
      "    10     por 3 igual a 30\n"
     ]
    }
   ],
   "source": [
    "for n in range(1, 11):\n",
    "    print(f\"{n:^10} por 3 igual a {n * 3:>2}\")"
   ]
  },
  {
   "cell_type": "code",
   "execution_count": 120,
   "id": "11cb2846-c983-41e0-aaed-1685309edd82",
   "metadata": {},
   "outputs": [
    {
     "name": "stdout",
     "output_type": "stream",
     "text": [
      "hola 5788.246\n"
     ]
    }
   ],
   "source": [
    "print(\"hola\", r)"
   ]
  },
  {
   "cell_type": "code",
   "execution_count": 121,
   "id": "b0e15c48-0db8-4268-9c2a-a14c08dd53d4",
   "metadata": {},
   "outputs": [
    {
     "name": "stdout",
     "output_type": "stream",
     "text": [
      "hola 5,788.2\n"
     ]
    }
   ],
   "source": [
    "print(f\"hola {r:,.1f}\")"
   ]
  },
  {
   "cell_type": "code",
   "execution_count": 122,
   "id": "3b53c5f3-64a9-4250-b2d3-8eb54387c41b",
   "metadata": {},
   "outputs": [],
   "source": [
    "n = 123456789"
   ]
  },
  {
   "cell_type": "code",
   "execution_count": 123,
   "id": "0384dc25-8218-4c63-9bed-4c6935296890",
   "metadata": {},
   "outputs": [
    {
     "name": "stdout",
     "output_type": "stream",
     "text": [
      "hola 5,788.2     123,456,789\n"
     ]
    }
   ],
   "source": [
    "print(f\"hola {r:,.1f} {n:15,d}\")"
   ]
  },
  {
   "cell_type": "markdown",
   "id": "3b2c3951-c665-43ea-be20-46140338a87d",
   "metadata": {},
   "source": [
    "# Librerías"
   ]
  },
  {
   "cell_type": "code",
   "execution_count": 124,
   "id": "61f90a87-b93f-4730-954b-48901d101965",
   "metadata": {},
   "outputs": [],
   "source": [
    "import math"
   ]
  },
  {
   "cell_type": "code",
   "execution_count": 125,
   "id": "0de8cc27-f1e0-4eab-bc50-6ce151dd3cc9",
   "metadata": {},
   "outputs": [
    {
     "name": "stdout",
     "output_type": "stream",
     "text": [
      "['acos', 'acosh', 'asin', 'asinh', 'atan', 'atan2', 'atanh', 'cbrt', 'ceil', 'comb', 'copysign', 'cos', 'cosh', 'degrees', 'dist', 'e', 'erf', 'erfc', 'exp', 'exp2', 'expm1', 'fabs', 'factorial', 'floor', 'fmod', 'frexp', 'fsum', 'gamma', 'gcd', 'hypot', 'inf', 'isclose', 'isfinite', 'isinf', 'isnan', 'isqrt', 'lcm', 'ldexp', 'lgamma', 'log', 'log10', 'log1p', 'log2', 'modf', 'nan', 'nextafter', 'perm', 'pi', 'pow', 'prod', 'radians', 'remainder', 'sin', 'sinh', 'sqrt', 'tan', 'tanh', 'tau', 'trunc', 'ulp']\n"
     ]
    }
   ],
   "source": [
    "names(math)"
   ]
  },
  {
   "cell_type": "code",
   "execution_count": 126,
   "id": "1d5cac93-2adb-4692-b987-1bef827a6d63",
   "metadata": {},
   "outputs": [
    {
     "data": {
      "text/plain": [
       "-0.8414709848078965"
      ]
     },
     "execution_count": 126,
     "metadata": {},
     "output_type": "execute_result"
    }
   ],
   "source": [
    "math.sin(-1)"
   ]
  },
  {
   "cell_type": "code",
   "execution_count": 127,
   "id": "2d0c45de-31d2-4012-b571-ff2097521e74",
   "metadata": {},
   "outputs": [
    {
     "data": {
      "text/plain": [
       "[-4, -3, -2, -1, 0, 1, 2, 3]"
      ]
     },
     "execution_count": 127,
     "metadata": {},
     "output_type": "execute_result"
    }
   ],
   "source": [
    "list(range(-4, 4))"
   ]
  },
  {
   "cell_type": "code",
   "execution_count": 128,
   "id": "342d61f6-40a9-4936-9061-fcee8c37a3fb",
   "metadata": {},
   "outputs": [],
   "source": [
    "x = [n / 100 for n in range(-400, 401, 25)]"
   ]
  },
  {
   "cell_type": "code",
   "execution_count": 129,
   "id": "b103e16f-b62e-421d-94ea-4ae330b9674f",
   "metadata": {},
   "outputs": [],
   "source": [
    "y = [math.sin(n) for n in x]"
   ]
  },
  {
   "cell_type": "code",
   "execution_count": 130,
   "id": "8ad10c6a-c427-468a-b5b5-d8e25bd8b989",
   "metadata": {},
   "outputs": [],
   "source": [
    "import matplotlib.pyplot as plt"
   ]
  },
  {
   "cell_type": "code",
   "execution_count": 131,
   "id": "e1034556-b2d6-4eb1-a0c3-849fe7deeb03",
   "metadata": {},
   "outputs": [
    {
     "data": {
      "image/png": "[encoded data removed]",
      "text/plain": [
       "<Figure size 640x480 with 1 Axes>"
      ]
     },
     "metadata": {},
     "output_type": "display_data"
    }
   ],
   "source": [
    "plt.plot(x, y)\n",
    "plt.show()"
   ]
  },
  {
   "cell_type": "code",
   "execution_count": 132,
   "id": "1e41713b-2dd9-4940-92c1-801945cdddcc",
   "metadata": {},
   "outputs": [
    {
     "name": "stdout",
     "output_type": "stream",
     "text": [
      "['acos', 'acosh', 'asin', 'asinh', 'atan', 'atan2', 'atanh', 'cbrt', 'ceil', 'comb', 'copysign', 'cos', 'cosh', 'degrees', 'dist', 'e', 'erf', 'erfc', 'exp', 'exp2', 'expm1', 'fabs', 'factorial', 'floor', 'fmod', 'frexp', 'fsum', 'gamma', 'gcd', 'hypot', 'inf', 'isclose', 'isfinite', 'isinf', 'isnan', 'isqrt', 'lcm', 'ldexp', 'lgamma', 'log', 'log10', 'log1p', 'log2', 'modf', 'nan', 'nextafter', 'perm', 'pi', 'pow', 'prod', 'radians', 'remainder', 'sin', 'sinh', 'sqrt', 'tan', 'tanh', 'tau', 'trunc', 'ulp']\n"
     ]
    }
   ],
   "source": [
    "names(math)"
   ]
  },
  {
   "cell_type": "code",
   "execution_count": 133,
   "id": "a4cd6fef-15d1-4511-9159-5dbd5036ed1f",
   "metadata": {},
   "outputs": [
    {
     "data": {
      "text/plain": [
       "5.0"
      ]
     },
     "execution_count": 133,
     "metadata": {},
     "output_type": "execute_result"
    }
   ],
   "source": [
    "math.sqrt(25)"
   ]
  },
  {
   "cell_type": "code",
   "execution_count": 134,
   "id": "42cc5bf6-3e33-48c5-b9ba-abe6e3c6d8f7",
   "metadata": {},
   "outputs": [
    {
     "data": {
      "text/plain": [
       "25.0"
      ]
     },
     "execution_count": 134,
     "metadata": {},
     "output_type": "execute_result"
    }
   ],
   "source": [
    "math.pow(5, 2)"
   ]
  },
  {
   "cell_type": "code",
   "execution_count": 135,
   "id": "383c4eda-1957-43ed-a7ca-b3ebc8fb1a9c",
   "metadata": {},
   "outputs": [
    {
     "data": {
      "text/plain": [
       "3.141592653589793"
      ]
     },
     "execution_count": 135,
     "metadata": {},
     "output_type": "execute_result"
    }
   ],
   "source": [
    "math.pi"
   ]
  },
  {
   "cell_type": "code",
   "execution_count": 136,
   "id": "f50427da-9df9-4471-ab40-28606095eec9",
   "metadata": {},
   "outputs": [
    {
     "data": {
      "text/plain": [
       "2.718281828459045"
      ]
     },
     "execution_count": 136,
     "metadata": {},
     "output_type": "execute_result"
    }
   ],
   "source": [
    "math.e"
   ]
  },
  {
   "cell_type": "code",
   "execution_count": 137,
   "id": "04150622-9d90-45aa-9136-c173d060fd4f",
   "metadata": {},
   "outputs": [],
   "source": [
    "import statistics"
   ]
  },
  {
   "cell_type": "code",
   "execution_count": 138,
   "id": "39b57b8d-40bf-40ba-b7e0-8ae18792ab38",
   "metadata": {},
   "outputs": [
    {
     "name": "stdout",
     "output_type": "stream",
     "text": [
      "['Counter', 'Decimal', 'Fraction', 'LinearRegression', 'NormalDist', 'StatisticsError', 'bisect_left', 'bisect_right', 'correlation', 'covariance', 'defaultdict', 'erf', 'exp', 'fabs', 'fmean', 'fsum', 'geometric_mean', 'groupby', 'harmonic_mean', 'hypot', 'linear_regression', 'log', 'math', 'mean', 'median', 'median_grouped', 'median_high', 'median_low', 'mode', 'mul', 'multimode', 'namedtuple', 'numbers', 'pstdev', 'pvariance', 'quantiles', 'random', 'reduce', 'repeat', 'sqrt', 'stdev', 'sys', 'tau', 'variance']\n"
     ]
    }
   ],
   "source": [
    "names(statistics)"
   ]
  },
  {
   "cell_type": "code",
   "execution_count": 139,
   "id": "1f435aab-fadf-4d88-93cc-88397225e0ec",
   "metadata": {},
   "outputs": [],
   "source": [
    "a = [3, -6, 19, 16, 5]"
   ]
  },
  {
   "cell_type": "code",
   "execution_count": 140,
   "id": "6443e408-126b-416b-81fb-91c04b5027ec",
   "metadata": {},
   "outputs": [
    {
     "data": {
      "text/plain": [
       "7.4"
      ]
     },
     "execution_count": 140,
     "metadata": {},
     "output_type": "execute_result"
    }
   ],
   "source": [
    "statistics.mean(a)"
   ]
  },
  {
   "cell_type": "code",
   "execution_count": 141,
   "id": "af7047c5-eabf-4d5d-89df-cc92a6b23c59",
   "metadata": {},
   "outputs": [
    {
     "data": {
      "text/plain": [
       "5"
      ]
     },
     "execution_count": 141,
     "metadata": {},
     "output_type": "execute_result"
    }
   ],
   "source": [
    "statistics.median(a)"
   ]
  },
  {
   "cell_type": "code",
   "execution_count": 142,
   "id": "d184587d-7abc-4f25-9c17-2de270de834e",
   "metadata": {},
   "outputs": [
    {
     "data": {
      "text/plain": [
       "103.3"
      ]
     },
     "execution_count": 142,
     "metadata": {},
     "output_type": "execute_result"
    }
   ],
   "source": [
    "statistics.variance(a)"
   ]
  },
  {
   "cell_type": "code",
   "execution_count": 143,
   "id": "d6fa995b-6b41-4511-aeec-ed308ee7c992",
   "metadata": {},
   "outputs": [
    {
     "data": {
      "text/plain": [
       "10.16366075781753"
      ]
     },
     "execution_count": 143,
     "metadata": {},
     "output_type": "execute_result"
    }
   ],
   "source": [
    "statistics.stdev(a)"
   ]
  },
  {
   "cell_type": "code",
   "execution_count": 144,
   "id": "fab0f476-405a-4d64-864d-f1c55a35f39c",
   "metadata": {},
   "outputs": [],
   "source": [
    "import random"
   ]
  },
  {
   "cell_type": "code",
   "execution_count": 145,
   "id": "880f63c3-91e9-48f8-ad46-dc338da017c5",
   "metadata": {},
   "outputs": [
    {
     "name": "stdout",
     "output_type": "stream",
     "text": [
      "['BPF', 'LOG4', 'NV_MAGICCONST', 'RECIP_BPF', 'Random', 'SG_MAGICCONST', 'SystemRandom', 'TWOPI', 'betavariate', 'choice', 'choices', 'expovariate', 'gammavariate', 'gauss', 'getrandbits', 'getstate', 'lognormvariate', 'normalvariate', 'paretovariate', 'randbytes', 'randint', 'random', 'randrange', 'sample', 'seed', 'setstate', 'shuffle', 'triangular', 'uniform', 'vonmisesvariate', 'weibullvariate']\n"
     ]
    }
   ],
   "source": [
    "names(random)"
   ]
  },
  {
   "cell_type": "code",
   "execution_count": 146,
   "id": "4fcb2599-7efb-434f-94b0-4226aac9eefc",
   "metadata": {},
   "outputs": [
    {
     "data": {
      "text/plain": [
       "7"
      ]
     },
     "execution_count": 146,
     "metadata": {},
     "output_type": "execute_result"
    }
   ],
   "source": [
    "random.randint(0, 10)"
   ]
  },
  {
   "cell_type": "code",
   "execution_count": 147,
   "id": "57754988-4587-4968-ac11-5c8908b2ae09",
   "metadata": {},
   "outputs": [
    {
     "name": "stdout",
     "output_type": "stream",
     "text": [
      "10\n",
      "9\n",
      "9\n",
      "3\n",
      "4\n"
     ]
    }
   ],
   "source": [
    "def generate_numbers():\n",
    "    for _ in range(5):\n",
    "        print(random.randint(0, 10))\n",
    "\n",
    "generate_numbers()"
   ]
  },
  {
   "cell_type": "code",
   "execution_count": 148,
   "id": "a55dc118-7e12-4c37-b02d-291d72cef521",
   "metadata": {},
   "outputs": [],
   "source": [
    "random.seed(17)"
   ]
  },
  {
   "cell_type": "code",
   "execution_count": 149,
   "id": "3cfdb358-4886-4e07-9c96-03b3ea30356c",
   "metadata": {},
   "outputs": [
    {
     "name": "stdout",
     "output_type": "stream",
     "text": [
      "8\n",
      "6\n",
      "4\n",
      "5\n",
      "4\n"
     ]
    }
   ],
   "source": [
    "generate_numbers()"
   ]
  },
  {
   "cell_type": "code",
   "execution_count": 150,
   "id": "e105992e-f331-4463-895a-90941860f15c",
   "metadata": {},
   "outputs": [
    {
     "name": "stdout",
     "output_type": "stream",
     "text": [
      "2\n",
      "8\n",
      "10\n",
      "4\n",
      "1\n"
     ]
    }
   ],
   "source": [
    "generate_numbers()"
   ]
  },
  {
   "cell_type": "code",
   "execution_count": 151,
   "id": "52d54dab-e9a9-44c2-b28a-bfdc13cf16a5",
   "metadata": {},
   "outputs": [],
   "source": [
    "random.seed(17)"
   ]
  },
  {
   "cell_type": "code",
   "execution_count": 152,
   "id": "726a438c-b34e-47ad-a96b-bf16b76ce432",
   "metadata": {},
   "outputs": [
    {
     "name": "stdout",
     "output_type": "stream",
     "text": [
      "8\n",
      "6\n",
      "4\n",
      "5\n",
      "4\n"
     ]
    }
   ],
   "source": [
    "generate_numbers()"
   ]
  },
  {
   "cell_type": "code",
   "execution_count": 153,
   "id": "168e68b7-c7cf-455c-a4c3-d8af0ef5dd1c",
   "metadata": {},
   "outputs": [
    {
     "name": "stdout",
     "output_type": "stream",
     "text": [
      "2\n",
      "8\n",
      "10\n",
      "4\n",
      "1\n"
     ]
    }
   ],
   "source": [
    "generate_numbers()"
   ]
  },
  {
   "cell_type": "code",
   "execution_count": 154,
   "id": "f1a4a1d4-ad84-4c77-a684-73348d990c92",
   "metadata": {},
   "outputs": [
    {
     "name": "stdout",
     "output_type": "stream",
     "text": [
      "['BPF', 'LOG4', 'NV_MAGICCONST', 'RECIP_BPF', 'Random', 'SG_MAGICCONST', 'SystemRandom', 'TWOPI', 'betavariate', 'choice', 'choices', 'expovariate', 'gammavariate', 'gauss', 'getrandbits', 'getstate', 'lognormvariate', 'normalvariate', 'paretovariate', 'randbytes', 'randint', 'random', 'randrange', 'sample', 'seed', 'setstate', 'shuffle', 'triangular', 'uniform', 'vonmisesvariate', 'weibullvariate']\n"
     ]
    }
   ],
   "source": [
    "names(random)"
   ]
  },
  {
   "cell_type": "code",
   "execution_count": 155,
   "id": "1d9d0aff-59b8-4307-a690-3e73bcf0ee87",
   "metadata": {},
   "outputs": [
    {
     "data": {
      "text/plain": [
       "0.917493030629581"
      ]
     },
     "execution_count": 155,
     "metadata": {},
     "output_type": "execute_result"
    }
   ],
   "source": [
    "random.random()"
   ]
  },
  {
   "cell_type": "code",
   "execution_count": 156,
   "id": "23eb3697-078e-44eb-8a19-6f13e7a5cb34",
   "metadata": {},
   "outputs": [],
   "source": [
    "a = [random.random() for _ in range(100_000)]"
   ]
  },
  {
   "cell_type": "code",
   "execution_count": 157,
   "id": "169b3d17-cec9-44fd-90d2-905f4dcaf139",
   "metadata": {},
   "outputs": [
    {
     "data": {
      "image/png": "[encoded data removed]",
      "text/plain": [
       "<Figure size 640x480 with 1 Axes>"
      ]
     },
     "metadata": {},
     "output_type": "display_data"
    }
   ],
   "source": [
    "plt.hist(a)\n",
    "plt.show()"
   ]
  },
  {
   "cell_type": "code",
   "execution_count": 158,
   "id": "50db7106-a754-4341-bb13-4c1c0d8afd85",
   "metadata": {},
   "outputs": [
    {
     "data": {
      "text/plain": [
       "9.305375914926152"
      ]
     },
     "execution_count": 158,
     "metadata": {},
     "output_type": "execute_result"
    }
   ],
   "source": [
    "random.gauss(10, 1)"
   ]
  },
  {
   "cell_type": "code",
   "execution_count": 159,
   "id": "fa674c55-a027-42d6-8e08-ae56ce6ac06f",
   "metadata": {},
   "outputs": [],
   "source": [
    "a = [random.gauss(10, 1) for _ in range(1_000_000)]"
   ]
  },
  {
   "cell_type": "code",
   "execution_count": 160,
   "id": "e417e5a3-c645-446f-bf57-37a16a958101",
   "metadata": {},
   "outputs": [
    {
     "data": {
      "image/png": "[encoded data removed]",
      "text/plain": [
       "<Figure size 640x480 with 1 Axes>"
      ]
     },
     "metadata": {},
     "output_type": "display_data"
    }
   ],
   "source": [
    "plt.hist(a, bins = 50)\n",
    "plt.show()"
   ]
  },
  {
   "cell_type": "code",
   "execution_count": 161,
   "id": "db276355-8abb-44b5-abc9-527f178d14a6",
   "metadata": {},
   "outputs": [
    {
     "data": {
      "image/png": "[encoded data removed]",
      "text/plain": [
       "<Figure size 640x480 with 1 Axes>"
      ]
     },
     "metadata": {},
     "output_type": "display_data"
    }
   ],
   "source": [
    "a = [random.gauss(10, 5) for _ in range(1_000_000)]\n",
    "plt.hist(a, bins = 50)\n",
    "plt.show()"
   ]
  },
  {
   "cell_type": "code",
   "execution_count": null,
   "id": "8dfc4798-393b-4757-86bc-cd1f1c54e22b",
   "metadata": {},
   "outputs": [],
   "source": []
  }
 ],
 "metadata": {
  "kernelspec": {
   "display_name": "Python 3 (ipykernel)",
   "language": "python",
   "name": "python3"
  },
  "language_info": {
   "codemirror_mode": {
    "name": "ipython",
    "version": 3
   },
   "file_extension": ".py",
   "mimetype": "text/x-python",
   "name": "python",
   "nbconvert_exporter": "python",
   "pygments_lexer": "ipython3",
   "version": "3.11.7"
  }
 },
 "nbformat": 4,
 "nbformat_minor": 5
}
