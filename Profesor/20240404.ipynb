{
 "cells": [
  {
   "cell_type": "markdown",
   "id": "1208acba-9114-4b82-bffd-aa8cf65d8121",
   "metadata": {},
   "source": [
    "# Repaso"
   ]
  },
  {
   "cell_type": "markdown",
   "id": "4ff8d4fa-7baf-46ca-abe2-1ba30a8436ca",
   "metadata": {},
   "source": [
    "### Espacios de nombres"
   ]
  },
  {
   "cell_type": "code",
   "execution_count": 1,
   "id": "54bf7d0d-e839-4597-b9a4-8b2455a4b6a9",
   "metadata": {},
   "outputs": [
    {
     "name": "stdout",
     "output_type": "stream",
     "text": [
      "['In', 'Out', '_', '__', '___', '__builtin__', '__builtins__', '__doc__', '__loader__', '__name__', '__package__', '__session__', '__spec__', '_dh', '_i', '_i1', '_ih', '_ii', '_iii', '_oh', 'exit', 'get_ipython', 'open', 'quit']\n"
     ]
    }
   ],
   "source": [
    "print(dir())"
   ]
  },
  {
   "cell_type": "code",
   "execution_count": 2,
   "id": "a8a4c160-fa07-4a63-9b4c-b7483aff8f5c",
   "metadata": {},
   "outputs": [],
   "source": [
    "a = 1"
   ]
  },
  {
   "cell_type": "code",
   "execution_count": 3,
   "id": "50eaa92f-b287-4caf-bfb7-7bfac5cf6fc9",
   "metadata": {},
   "outputs": [
    {
     "name": "stdout",
     "output_type": "stream",
     "text": [
      "['In', 'Out', '_', '__', '___', '__builtin__', '__builtins__', '__doc__', '__loader__', '__name__', '__package__', '__session__', '__spec__', '_dh', '_i', '_i1', '_i2', '_i3', '_ih', '_ii', '_iii', '_oh', 'a', 'exit', 'get_ipython', 'open', 'quit']\n"
     ]
    }
   ],
   "source": [
    "print(dir())"
   ]
  },
  {
   "cell_type": "code",
   "execution_count": 4,
   "id": "aefb37aa-e02b-44d5-81fa-d287f625e403",
   "metadata": {},
   "outputs": [
    {
     "name": "stdout",
     "output_type": "stream",
     "text": [
      "['ArithmeticError', 'AssertionError', 'AttributeError', 'BaseException', 'BaseExceptionGroup', 'BlockingIOError', 'BrokenPipeError', 'BufferError', 'BytesWarning', 'ChildProcessError', 'ConnectionAbortedError', 'ConnectionError', 'ConnectionRefusedError', 'ConnectionResetError', 'DeprecationWarning', 'EOFError', 'Ellipsis', 'EncodingWarning', 'EnvironmentError', 'Exception', 'ExceptionGroup', 'False', 'FileExistsError', 'FileNotFoundError', 'FloatingPointError', 'FutureWarning', 'GeneratorExit', 'IOError', 'ImportError', 'ImportWarning', 'IndentationError', 'IndexError', 'InterruptedError', 'IsADirectoryError', 'KeyError', 'KeyboardInterrupt', 'LookupError', 'MemoryError', 'ModuleNotFoundError', 'NameError', 'None', 'NotADirectoryError', 'NotImplemented', 'NotImplementedError', 'OSError', 'OverflowError', 'PendingDeprecationWarning', 'PermissionError', 'ProcessLookupError', 'RecursionError', 'ReferenceError', 'ResourceWarning', 'RuntimeError', 'RuntimeWarning', 'StopAsyncIteration', 'StopIteration', 'SyntaxError', 'SyntaxWarning', 'SystemError', 'SystemExit', 'TabError', 'TimeoutError', 'True', 'TypeError', 'UnboundLocalError', 'UnicodeDecodeError', 'UnicodeEncodeError', 'UnicodeError', 'UnicodeTranslateError', 'UnicodeWarning', 'UserWarning', 'ValueError', 'Warning', 'WindowsError', 'ZeroDivisionError', '__IPYTHON__', '__build_class__', '__debug__', '__doc__', '__import__', '__loader__', '__name__', '__package__', '__spec__', 'abs', 'aiter', 'all', 'anext', 'any', 'ascii', 'bin', 'bool', 'breakpoint', 'bytearray', 'bytes', 'callable', 'chr', 'classmethod', 'compile', 'complex', 'copyright', 'credits', 'delattr', 'dict', 'dir', 'display', 'divmod', 'enumerate', 'eval', 'exec', 'execfile', 'filter', 'float', 'format', 'frozenset', 'get_ipython', 'getattr', 'globals', 'hasattr', 'hash', 'help', 'hex', 'id', 'input', 'int', 'isinstance', 'issubclass', 'iter', 'len', 'license', 'list', 'locals', 'map', 'max', 'memoryview', 'min', 'next', 'object', 'oct', 'open', 'ord', 'pow', 'print', 'property', 'range', 'repr', 'reversed', 'round', 'runfile', 'set', 'setattr', 'slice', 'sorted', 'staticmethod', 'str', 'sum', 'super', 'tuple', 'type', 'vars', 'zip']\n"
     ]
    }
   ],
   "source": [
    "print(dir(__builtins__))"
   ]
  },
  {
   "cell_type": "code",
   "execution_count": 5,
   "id": "884635a0-5a1e-4666-88ec-85bd50a5e2ba",
   "metadata": {},
   "outputs": [
    {
     "name": "stdout",
     "output_type": "stream",
     "text": [
      "['__add__', '__class__', '__contains__', '__delattr__', '__dir__', '__doc__', '__eq__', '__format__', '__ge__', '__getattribute__', '__getitem__', '__getnewargs__', '__getstate__', '__gt__', '__hash__', '__init__', '__init_subclass__', '__iter__', '__le__', '__len__', '__lt__', '__mod__', '__mul__', '__ne__', '__new__', '__reduce__', '__reduce_ex__', '__repr__', '__rmod__', '__rmul__', '__setattr__', '__sizeof__', '__str__', '__subclasshook__', 'capitalize', 'casefold', 'center', 'count', 'encode', 'endswith', 'expandtabs', 'find', 'format', 'format_map', 'index', 'isalnum', 'isalpha', 'isascii', 'isdecimal', 'isdigit', 'isidentifier', 'islower', 'isnumeric', 'isprintable', 'isspace', 'istitle', 'isupper', 'join', 'ljust', 'lower', 'lstrip', 'maketrans', 'partition', 'removeprefix', 'removesuffix', 'replace', 'rfind', 'rindex', 'rjust', 'rpartition', 'rsplit', 'rstrip', 'split', 'splitlines', 'startswith', 'strip', 'swapcase', 'title', 'translate', 'upper', 'zfill']\n"
     ]
    }
   ],
   "source": [
    "print(dir(\"hola\"))"
   ]
  },
  {
   "cell_type": "markdown",
   "id": "dd7fea86-d4a6-4c50-8677-445fb28350b6",
   "metadata": {},
   "source": [
    "### Clases"
   ]
  },
  {
   "cell_type": "code",
   "execution_count": 6,
   "id": "41ca0fbe-316c-451c-9295-4ac38b8cf3f2",
   "metadata": {},
   "outputs": [],
   "source": [
    "class Circulo:\n",
    "\n",
    "    pi = 3.141592\n",
    "\n",
    "    def __init__(self, radio):\n",
    "        self.radio = radio\n",
    "        print(\"Círculo creado\")\n",
    "\n",
    "    def area(self):\n",
    "        return Circulo.pi * self.radio ** 2"
   ]
  },
  {
   "cell_type": "code",
   "execution_count": 7,
   "id": "0aa7ea95-3240-41cf-a3a2-398f8f02b3c0",
   "metadata": {},
   "outputs": [
    {
     "name": "stdout",
     "output_type": "stream",
     "text": [
      "Círculo creado\n"
     ]
    }
   ],
   "source": [
    "c = Circulo(radio = 6)"
   ]
  },
  {
   "cell_type": "code",
   "execution_count": 8,
   "id": "31d652a4-2082-45fa-912e-fc08a0d090c2",
   "metadata": {},
   "outputs": [
    {
     "data": {
      "text/plain": [
       "113.097312"
      ]
     },
     "execution_count": 8,
     "metadata": {},
     "output_type": "execute_result"
    }
   ],
   "source": [
    "c.area()"
   ]
  },
  {
   "cell_type": "code",
   "execution_count": 9,
   "id": "35bc4681-b76f-4236-933a-b03786d54be5",
   "metadata": {},
   "outputs": [],
   "source": [
    "def area(radio):\n",
    "    return 3.141592 * radio ** 2"
   ]
  },
  {
   "cell_type": "code",
   "execution_count": 10,
   "id": "c3ff3a30-f2bd-49f8-a9b6-28087c11cd98",
   "metadata": {},
   "outputs": [
    {
     "data": {
      "text/plain": [
       "113.097312"
      ]
     },
     "execution_count": 10,
     "metadata": {},
     "output_type": "execute_result"
    }
   ],
   "source": [
    "area(6)"
   ]
  },
  {
   "cell_type": "code",
   "execution_count": 11,
   "id": "8d0316cc-2443-4455-aba4-728c70c2eaaf",
   "metadata": {},
   "outputs": [],
   "source": [
    "class Circulo:\n",
    "\n",
    "    _pi = 3.141592\n",
    "\n",
    "    def __init__(self, radio):\n",
    "        self.radio = radio\n",
    "        print(\"Círculo creado\")\n",
    "\n",
    "    def __area(self):\n",
    "        return Circulo._pi * self.radio ** 2"
   ]
  },
  {
   "cell_type": "code",
   "execution_count": 12,
   "id": "e5c286ba-165b-4cc6-a183-65253d237452",
   "metadata": {},
   "outputs": [
    {
     "name": "stdout",
     "output_type": "stream",
     "text": [
      "['_Circulo__area', '__class__', '__delattr__', '__dict__', '__dir__', '__doc__', '__eq__', '__format__', '__ge__', '__getattribute__', '__getstate__', '__gt__', '__hash__', '__init__', '__init_subclass__', '__le__', '__lt__', '__module__', '__ne__', '__new__', '__reduce__', '__reduce_ex__', '__repr__', '__setattr__', '__sizeof__', '__str__', '__subclasshook__', '__weakref__', '_pi']\n"
     ]
    }
   ],
   "source": [
    "print(dir(Circulo))"
   ]
  },
  {
   "cell_type": "code",
   "execution_count": 13,
   "id": "61786d02-8ad4-4dfe-ba98-547e6d923b2e",
   "metadata": {},
   "outputs": [
    {
     "data": {
      "text/plain": [
       "3.141592"
      ]
     },
     "execution_count": 13,
     "metadata": {},
     "output_type": "execute_result"
    }
   ],
   "source": [
    "Circulo._pi"
   ]
  },
  {
   "cell_type": "code",
   "execution_count": 14,
   "id": "59be193f-9170-40ab-baa5-f885601eb88a",
   "metadata": {},
   "outputs": [],
   "source": [
    "# Name mangling"
   ]
  },
  {
   "cell_type": "code",
   "execution_count": 15,
   "id": "98f25866-4be7-43c9-9c5e-fc25a56b5367",
   "metadata": {},
   "outputs": [],
   "source": [
    "class Circulo:\n",
    "\n",
    "    pi = 3.141592\n",
    "\n",
    "    def __init__(self, radio):\n",
    "        self.radio = radio\n",
    "        print(\"Círculo creado\")\n",
    "\n",
    "    def area(self):\n",
    "        return Circulo.pi * self.radio ** 2\n",
    "\n",
    "    def __del__(self):\n",
    "        print(\"Círculo eliminado\")\n",
    "\n",
    "    def __str__(self):\n",
    "        return \"Círculo de radio \" + str(self.radio)"
   ]
  },
  {
   "cell_type": "code",
   "execution_count": 16,
   "id": "cbdebf22-c8f1-4a35-8b0b-844ba56b27dd",
   "metadata": {},
   "outputs": [
    {
     "name": "stdout",
     "output_type": "stream",
     "text": [
      "Círculo creado\n"
     ]
    }
   ],
   "source": [
    "c = Circulo(radio = 6)"
   ]
  },
  {
   "cell_type": "code",
   "execution_count": 17,
   "id": "db8cdb06-1c5a-4db0-ae58-8fb3015d3b48",
   "metadata": {},
   "outputs": [],
   "source": [
    "# dunder methods = Double UNDERscores"
   ]
  },
  {
   "cell_type": "code",
   "execution_count": 18,
   "id": "b1f3e049-aa6a-4b5e-86c1-88d89d35b71c",
   "metadata": {},
   "outputs": [
    {
     "name": "stdout",
     "output_type": "stream",
     "text": [
      "Círculo de radio 6\n"
     ]
    }
   ],
   "source": [
    "print(c)"
   ]
  },
  {
   "cell_type": "code",
   "execution_count": 19,
   "id": "851a6b33-4217-4bf8-955e-90bb5ce6c91f",
   "metadata": {},
   "outputs": [
    {
     "name": "stdout",
     "output_type": "stream",
     "text": [
      "Círculo eliminado\n"
     ]
    }
   ],
   "source": [
    "del(c)"
   ]
  },
  {
   "cell_type": "code",
   "execution_count": 20,
   "id": "19808f06-f6cf-4cd0-acac-384989eb099f",
   "metadata": {},
   "outputs": [
    {
     "name": "stdout",
     "output_type": "stream",
     "text": [
      "Círculo creado\n",
      "Círculo de radio 7\n"
     ]
    }
   ],
   "source": [
    "c = Circulo(radio = 7)\n",
    "print(c)"
   ]
  },
  {
   "cell_type": "code",
   "execution_count": 21,
   "id": "344d5763-521b-4de7-9da8-700ba747e238",
   "metadata": {},
   "outputs": [
    {
     "name": "stdout",
     "output_type": "stream",
     "text": [
      "['__class__', '__del__', '__delattr__', '__dict__', '__dir__', '__doc__', '__eq__', '__format__', '__ge__', '__getattribute__', '__getstate__', '__gt__', '__hash__', '__init__', '__init_subclass__', '__le__', '__lt__', '__module__', '__ne__', '__new__', '__reduce__', '__reduce_ex__', '__repr__', '__setattr__', '__sizeof__', '__str__', '__subclasshook__', '__weakref__', 'area', 'pi']\n"
     ]
    }
   ],
   "source": [
    "print(dir(Circulo))"
   ]
  },
  {
   "cell_type": "code",
   "execution_count": 22,
   "id": "0aaf550b-dfe4-4244-84ca-1622db37ab72",
   "metadata": {},
   "outputs": [
    {
     "name": "stdout",
     "output_type": "stream",
     "text": [
      "Círculo creado\n",
      "Círculo eliminado\n",
      "['__class__', '__del__', '__delattr__', '__dict__', '__dir__', '__doc__', '__eq__', '__format__', '__ge__', '__getattribute__', '__getstate__', '__gt__', '__hash__', '__init__', '__init_subclass__', '__le__', '__lt__', '__module__', '__ne__', '__new__', '__reduce__', '__reduce_ex__', '__repr__', '__setattr__', '__sizeof__', '__str__', '__subclasshook__', '__weakref__', 'area', 'pi', 'radio']\n"
     ]
    }
   ],
   "source": [
    "c = Circulo(radio = 3)\n",
    "print(dir(c))"
   ]
  },
  {
   "cell_type": "markdown",
   "id": "eef16ae7-36ea-423d-b9aa-97e0b6baa964",
   "metadata": {},
   "source": [
    "# Métodos y atributos"
   ]
  },
  {
   "cell_type": "markdown",
   "id": "50a896ab-ed4c-4dc9-aa0d-f926936d38af",
   "metadata": {},
   "source": [
    "### Tipos simples"
   ]
  },
  {
   "cell_type": "markdown",
   "id": "5fc3e0ce-e7ea-4ebd-833e-4345cb22f18f",
   "metadata": {},
   "source": [
    "#### Números enteros"
   ]
  },
  {
   "cell_type": "code",
   "execution_count": 23,
   "id": "c74aac8e-c8f1-4882-acf2-b10c1aaa46f1",
   "metadata": {},
   "outputs": [
    {
     "name": "stdout",
     "output_type": "stream",
     "text": [
      "['__abs__', '__add__', '__and__', '__bool__', '__ceil__', '__class__', '__delattr__', '__dir__', '__divmod__', '__doc__', '__eq__', '__float__', '__floor__', '__floordiv__', '__format__', '__ge__', '__getattribute__', '__getnewargs__', '__getstate__', '__gt__', '__hash__', '__index__', '__init__', '__init_subclass__', '__int__', '__invert__', '__le__', '__lshift__', '__lt__', '__mod__', '__mul__', '__ne__', '__neg__', '__new__', '__or__', '__pos__', '__pow__', '__radd__', '__rand__', '__rdivmod__', '__reduce__', '__reduce_ex__', '__repr__', '__rfloordiv__', '__rlshift__', '__rmod__', '__rmul__', '__ror__', '__round__', '__rpow__', '__rrshift__', '__rshift__', '__rsub__', '__rtruediv__', '__rxor__', '__setattr__', '__sizeof__', '__str__', '__sub__', '__subclasshook__', '__truediv__', '__trunc__', '__xor__', 'as_integer_ratio', 'bit_count', 'bit_length', 'conjugate', 'denominator', 'from_bytes', 'imag', 'numerator', 'real', 'to_bytes']\n"
     ]
    }
   ],
   "source": [
    "print(dir(int))"
   ]
  },
  {
   "cell_type": "code",
   "execution_count": 24,
   "id": "aa7b777c-e137-4ab9-9cd6-2434ab1bb081",
   "metadata": {},
   "outputs": [
    {
     "name": "stdout",
     "output_type": "stream",
     "text": [
      "['__abs__', '__add__', '__and__', '__bool__', '__ceil__', '__class__', '__delattr__', '__dir__', '__divmod__', '__doc__', '__eq__', '__float__', '__floor__', '__floordiv__', '__format__', '__ge__', '__getattribute__', '__getnewargs__', '__getstate__', '__gt__', '__hash__', '__index__', '__init__', '__init_subclass__', '__int__', '__invert__', '__le__', '__lshift__', '__lt__', '__mod__', '__mul__', '__ne__', '__neg__', '__new__', '__or__', '__pos__', '__pow__', '__radd__', '__rand__', '__rdivmod__', '__reduce__', '__reduce_ex__', '__repr__', '__rfloordiv__', '__rlshift__', '__rmod__', '__rmul__', '__ror__', '__round__', '__rpow__', '__rrshift__', '__rshift__', '__rsub__', '__rtruediv__', '__rxor__', '__setattr__', '__sizeof__', '__str__', '__sub__', '__subclasshook__', '__truediv__', '__trunc__', '__xor__', 'as_integer_ratio', 'bit_count', 'bit_length', 'conjugate', 'denominator', 'from_bytes', 'imag', 'numerator', 'real', 'to_bytes']\n"
     ]
    }
   ],
   "source": [
    "print(dir(12))"
   ]
  },
  {
   "cell_type": "markdown",
   "id": "a1a95d73-c82f-40b6-9f67-f8d294bfa462",
   "metadata": {},
   "source": [
    "#### Números reales"
   ]
  },
  {
   "cell_type": "code",
   "execution_count": 25,
   "id": "4ccdf657-1efe-45cd-8c8a-a2ca5cada7c3",
   "metadata": {},
   "outputs": [
    {
     "name": "stdout",
     "output_type": "stream",
     "text": [
      "['__abs__', '__add__', '__bool__', '__ceil__', '__class__', '__delattr__', '__dir__', '__divmod__', '__doc__', '__eq__', '__float__', '__floor__', '__floordiv__', '__format__', '__ge__', '__getattribute__', '__getformat__', '__getnewargs__', '__getstate__', '__gt__', '__hash__', '__init__', '__init_subclass__', '__int__', '__le__', '__lt__', '__mod__', '__mul__', '__ne__', '__neg__', '__new__', '__pos__', '__pow__', '__radd__', '__rdivmod__', '__reduce__', '__reduce_ex__', '__repr__', '__rfloordiv__', '__rmod__', '__rmul__', '__round__', '__rpow__', '__rsub__', '__rtruediv__', '__setattr__', '__sizeof__', '__str__', '__sub__', '__subclasshook__', '__truediv__', '__trunc__', 'as_integer_ratio', 'conjugate', 'fromhex', 'hex', 'imag', 'is_integer', 'real']\n"
     ]
    }
   ],
   "source": [
    "print(dir(float))"
   ]
  },
  {
   "cell_type": "code",
   "execution_count": 26,
   "id": "59bf6a1b-0be1-4528-868f-f589b619312f",
   "metadata": {},
   "outputs": [],
   "source": [
    "a = 3.14"
   ]
  },
  {
   "cell_type": "code",
   "execution_count": 27,
   "id": "6e17ae52-4c8b-4d2b-ae7d-05e97d817e9c",
   "metadata": {},
   "outputs": [
    {
     "data": {
      "text/plain": [
       "3.14"
      ]
     },
     "execution_count": 27,
     "metadata": {},
     "output_type": "execute_result"
    }
   ],
   "source": [
    "a.real"
   ]
  },
  {
   "cell_type": "code",
   "execution_count": 28,
   "id": "a648cd67-07d6-4f62-87f4-7715a0c613f8",
   "metadata": {},
   "outputs": [
    {
     "data": {
      "text/plain": [
       "0.0"
      ]
     },
     "execution_count": 28,
     "metadata": {},
     "output_type": "execute_result"
    }
   ],
   "source": [
    "a.imag"
   ]
  },
  {
   "cell_type": "markdown",
   "id": "badf5993-2eb6-4328-9750-bf2bbae6469b",
   "metadata": {},
   "source": [
    "#### Números complejos"
   ]
  },
  {
   "cell_type": "code",
   "execution_count": 29,
   "id": "d55d8b0d-684a-4569-989b-47c946c7a855",
   "metadata": {},
   "outputs": [
    {
     "name": "stdout",
     "output_type": "stream",
     "text": [
      "['__abs__', '__add__', '__bool__', '__class__', '__complex__', '__delattr__', '__dir__', '__doc__', '__eq__', '__format__', '__ge__', '__getattribute__', '__getnewargs__', '__getstate__', '__gt__', '__hash__', '__init__', '__init_subclass__', '__le__', '__lt__', '__mul__', '__ne__', '__neg__', '__new__', '__pos__', '__pow__', '__radd__', '__reduce__', '__reduce_ex__', '__repr__', '__rmul__', '__rpow__', '__rsub__', '__rtruediv__', '__setattr__', '__sizeof__', '__str__', '__sub__', '__subclasshook__', '__truediv__', 'conjugate', 'imag', 'real']\n"
     ]
    }
   ],
   "source": [
    "print(dir(complex))"
   ]
  },
  {
   "cell_type": "code",
   "execution_count": 30,
   "id": "8f0e7bd8-afdb-48f3-9287-9b670e033797",
   "metadata": {},
   "outputs": [],
   "source": [
    "a = 5 - 7j"
   ]
  },
  {
   "cell_type": "code",
   "execution_count": 31,
   "id": "fd8836b7-abe0-4ba2-a657-0a8b5136bae0",
   "metadata": {},
   "outputs": [
    {
     "data": {
      "text/plain": [
       "5.0"
      ]
     },
     "execution_count": 31,
     "metadata": {},
     "output_type": "execute_result"
    }
   ],
   "source": [
    "a.real"
   ]
  },
  {
   "cell_type": "code",
   "execution_count": 32,
   "id": "fd403ef3-0e0a-4bd2-9775-040433d523d7",
   "metadata": {},
   "outputs": [
    {
     "data": {
      "text/plain": [
       "-7.0"
      ]
     },
     "execution_count": 32,
     "metadata": {},
     "output_type": "execute_result"
    }
   ],
   "source": [
    "a.imag"
   ]
  },
  {
   "cell_type": "markdown",
   "id": "4c473652-f916-46cd-a4c3-5a11ff1931fd",
   "metadata": {},
   "source": [
    "#### Booleanos"
   ]
  },
  {
   "cell_type": "code",
   "execution_count": 33,
   "id": "9110ab61-be86-4405-b198-9b29a56de142",
   "metadata": {},
   "outputs": [
    {
     "name": "stdout",
     "output_type": "stream",
     "text": [
      "['__abs__', '__add__', '__and__', '__bool__', '__ceil__', '__class__', '__delattr__', '__dir__', '__divmod__', '__doc__', '__eq__', '__float__', '__floor__', '__floordiv__', '__format__', '__ge__', '__getattribute__', '__getnewargs__', '__getstate__', '__gt__', '__hash__', '__index__', '__init__', '__init_subclass__', '__int__', '__invert__', '__le__', '__lshift__', '__lt__', '__mod__', '__mul__', '__ne__', '__neg__', '__new__', '__or__', '__pos__', '__pow__', '__radd__', '__rand__', '__rdivmod__', '__reduce__', '__reduce_ex__', '__repr__', '__rfloordiv__', '__rlshift__', '__rmod__', '__rmul__', '__ror__', '__round__', '__rpow__', '__rrshift__', '__rshift__', '__rsub__', '__rtruediv__', '__rxor__', '__setattr__', '__sizeof__', '__str__', '__sub__', '__subclasshook__', '__truediv__', '__trunc__', '__xor__', 'as_integer_ratio', 'bit_count', 'bit_length', 'conjugate', 'denominator', 'from_bytes', 'imag', 'numerator', 'real', 'to_bytes']\n"
     ]
    }
   ],
   "source": [
    "print(dir(bool))"
   ]
  },
  {
   "cell_type": "markdown",
   "id": "eb2d3bca-3a8a-4b51-ae53-6ae79a155a8a",
   "metadata": {},
   "source": [
    "#### Textos"
   ]
  },
  {
   "cell_type": "code",
   "execution_count": 34,
   "id": "4f7aebfa-af65-4f47-931a-5ec5df9c5118",
   "metadata": {},
   "outputs": [
    {
     "name": "stdout",
     "output_type": "stream",
     "text": [
      "['__add__', '__class__', '__contains__', '__delattr__', '__dir__', '__doc__', '__eq__', '__format__', '__ge__', '__getattribute__', '__getitem__', '__getnewargs__', '__getstate__', '__gt__', '__hash__', '__init__', '__init_subclass__', '__iter__', '__le__', '__len__', '__lt__', '__mod__', '__mul__', '__ne__', '__new__', '__reduce__', '__reduce_ex__', '__repr__', '__rmod__', '__rmul__', '__setattr__', '__sizeof__', '__str__', '__subclasshook__', 'capitalize', 'casefold', 'center', 'count', 'encode', 'endswith', 'expandtabs', 'find', 'format', 'format_map', 'index', 'isalnum', 'isalpha', 'isascii', 'isdecimal', 'isdigit', 'isidentifier', 'islower', 'isnumeric', 'isprintable', 'isspace', 'istitle', 'isupper', 'join', 'ljust', 'lower', 'lstrip', 'maketrans', 'partition', 'removeprefix', 'removesuffix', 'replace', 'rfind', 'rindex', 'rjust', 'rpartition', 'rsplit', 'rstrip', 'split', 'splitlines', 'startswith', 'strip', 'swapcase', 'title', 'translate', 'upper', 'zfill']\n"
     ]
    }
   ],
   "source": [
    "print(dir(str))"
   ]
  },
  {
   "cell_type": "code",
   "execution_count": 35,
   "id": "a2dd03aa-faf5-4f94-ada8-a3fbc6c52ea6",
   "metadata": {},
   "outputs": [],
   "source": [
    "a = \"python for DATA scienCe\""
   ]
  },
  {
   "cell_type": "code",
   "execution_count": 36,
   "id": "15e2fa8f-12e6-4c45-bd75-b0dba0f5f9cb",
   "metadata": {},
   "outputs": [
    {
     "data": {
      "text/plain": [
       "'PYTHON FOR DATA SCIENCE'"
      ]
     },
     "execution_count": 36,
     "metadata": {},
     "output_type": "execute_result"
    }
   ],
   "source": [
    "a.upper()"
   ]
  },
  {
   "cell_type": "code",
   "execution_count": 37,
   "id": "2b278a59-b088-42ab-b558-a5e8025a9cac",
   "metadata": {},
   "outputs": [
    {
     "data": {
      "text/plain": [
       "'PYTHON FOR DATA SCIENCE'"
      ]
     },
     "execution_count": 37,
     "metadata": {},
     "output_type": "execute_result"
    }
   ],
   "source": [
    "\"python for DATA scienCe\".upper()"
   ]
  },
  {
   "cell_type": "code",
   "execution_count": 38,
   "id": "140c2de9-7c51-40ad-a3ba-a213de0cf386",
   "metadata": {},
   "outputs": [
    {
     "data": {
      "text/plain": [
       "'python for data science'"
      ]
     },
     "execution_count": 38,
     "metadata": {},
     "output_type": "execute_result"
    }
   ],
   "source": [
    "a.lower()"
   ]
  },
  {
   "cell_type": "code",
   "execution_count": 39,
   "id": "8ee52160-f90b-4633-9539-4823f5db243a",
   "metadata": {},
   "outputs": [
    {
     "data": {
      "text/plain": [
       "'Python For Data Science'"
      ]
     },
     "execution_count": 39,
     "metadata": {},
     "output_type": "execute_result"
    }
   ],
   "source": [
    "a.title()"
   ]
  },
  {
   "cell_type": "code",
   "execution_count": 40,
   "id": "4862dbe1-ea14-4107-badd-0ca028702a5d",
   "metadata": {},
   "outputs": [
    {
     "data": {
      "text/plain": [
       "False"
      ]
     },
     "execution_count": 40,
     "metadata": {},
     "output_type": "execute_result"
    }
   ],
   "source": [
    "a.istitle()"
   ]
  },
  {
   "cell_type": "code",
   "execution_count": 41,
   "id": "8f8cae24-4800-4ce8-b1e3-808440a963fd",
   "metadata": {},
   "outputs": [
    {
     "data": {
      "text/plain": [
       "True"
      ]
     },
     "execution_count": 41,
     "metadata": {},
     "output_type": "execute_result"
    }
   ],
   "source": [
    "a.title().istitle()"
   ]
  },
  {
   "cell_type": "code",
   "execution_count": 42,
   "id": "d595ca82-3138-4460-a524-62a079c66df7",
   "metadata": {},
   "outputs": [
    {
     "data": {
      "text/plain": [
       "'python for DATA scienCe'"
      ]
     },
     "execution_count": 42,
     "metadata": {},
     "output_type": "execute_result"
    }
   ],
   "source": [
    "a"
   ]
  },
  {
   "cell_type": "code",
   "execution_count": 43,
   "id": "64a2b43a-95f1-4851-8725-cca8e9554864",
   "metadata": {},
   "outputs": [
    {
     "name": "stdout",
     "output_type": "stream",
     "text": [
      "Help on built-in function count:\n",
      "\n",
      "count(...) method of builtins.str instance\n",
      "    S.count(sub[, start[, end]]) -> int\n",
      "    \n",
      "    Return the number of non-overlapping occurrences of substring sub in\n",
      "    string S[start:end].  Optional arguments start and end are\n",
      "    interpreted as in slice notation.\n",
      "\n"
     ]
    }
   ],
   "source": [
    "help(\"\".count)"
   ]
  },
  {
   "cell_type": "code",
   "execution_count": 44,
   "id": "1349d4c2-824d-4470-a611-8077bc574703",
   "metadata": {},
   "outputs": [
    {
     "data": {
      "text/plain": [
       "0"
      ]
     },
     "execution_count": 44,
     "metadata": {},
     "output_type": "execute_result"
    }
   ],
   "source": [
    "a.count(\"e\", 4, 9)"
   ]
  },
  {
   "cell_type": "code",
   "execution_count": 45,
   "id": "b6efa359-ac8d-4038-98d2-f07bf55abe42",
   "metadata": {},
   "outputs": [
    {
     "name": "stdout",
     "output_type": "stream",
     "text": [
      "Help on built-in function index:\n",
      "\n",
      "index(...) method of builtins.str instance\n",
      "    S.index(sub[, start[, end]]) -> int\n",
      "    \n",
      "    Return the lowest index in S where substring sub is found,\n",
      "    such that sub is contained within S[start:end].  Optional\n",
      "    arguments start and end are interpreted as in slice notation.\n",
      "    \n",
      "    Raises ValueError when the substring is not found.\n",
      "\n"
     ]
    }
   ],
   "source": [
    "help(\"\".index)"
   ]
  },
  {
   "cell_type": "code",
   "execution_count": 46,
   "id": "1ff6afb0-1ab4-4638-8432-0d039bc0572b",
   "metadata": {},
   "outputs": [
    {
     "data": {
      "text/plain": [
       "'python for DATA scienCe'"
      ]
     },
     "execution_count": 46,
     "metadata": {},
     "output_type": "execute_result"
    }
   ],
   "source": [
    "a"
   ]
  },
  {
   "cell_type": "code",
   "execution_count": 47,
   "id": "9a75e064-0cf3-444f-b1bb-d9187156b244",
   "metadata": {},
   "outputs": [
    {
     "data": {
      "text/plain": [
       "19"
      ]
     },
     "execution_count": 47,
     "metadata": {},
     "output_type": "execute_result"
    }
   ],
   "source": [
    "a.index(\"e\")"
   ]
  },
  {
   "cell_type": "code",
   "execution_count": 48,
   "id": "50e45d4e-3948-4ed2-950d-999960053efb",
   "metadata": {},
   "outputs": [
    {
     "name": "stdout",
     "output_type": "stream",
     "text": [
      "Help on built-in function split:\n",
      "\n",
      "split(sep=None, maxsplit=-1) method of builtins.str instance\n",
      "    Return a list of the substrings in the string, using sep as the separator string.\n",
      "    \n",
      "      sep\n",
      "        The separator used to split the string.\n",
      "    \n",
      "        When set to None (the default value), will split on any whitespace\n",
      "        character (including \\n \\r \\t \\f and spaces) and will discard\n",
      "        empty strings from the result.\n",
      "      maxsplit\n",
      "        Maximum number of splits (starting from the left).\n",
      "        -1 (the default value) means no limit.\n",
      "    \n",
      "    Note, str.split() is mainly useful for data that has been intentionally\n",
      "    delimited.  With natural text that includes punctuation, consider using\n",
      "    the regular expression module.\n",
      "\n"
     ]
    }
   ],
   "source": [
    "help(\"\".split)"
   ]
  },
  {
   "cell_type": "code",
   "execution_count": 49,
   "id": "9c5c37e1-9095-48ea-bf20-ccfdcb605526",
   "metadata": {},
   "outputs": [
    {
     "data": {
      "text/plain": [
       "['python', 'for', 'DATA', 'scienCe']"
      ]
     },
     "execution_count": 49,
     "metadata": {},
     "output_type": "execute_result"
    }
   ],
   "source": [
    "a.split()"
   ]
  },
  {
   "cell_type": "code",
   "execution_count": 50,
   "id": "e9ea1090-6d97-4496-a7b4-eb5a2cf9444b",
   "metadata": {},
   "outputs": [
    {
     "data": {
      "text/plain": [
       "['pyth', 'n f', 'r DATA scienCe']"
      ]
     },
     "execution_count": 50,
     "metadata": {},
     "output_type": "execute_result"
    }
   ],
   "source": [
    "a.split(sep = \"o\")"
   ]
  },
  {
   "cell_type": "code",
   "execution_count": 51,
   "id": "804ca116-b36c-46f9-baec-ee2c1a8e2f31",
   "metadata": {},
   "outputs": [
    {
     "name": "stdout",
     "output_type": "stream",
     "text": [
      "Help on built-in function join:\n",
      "\n",
      "join(iterable, /) method of builtins.str instance\n",
      "    Concatenate any number of strings.\n",
      "    \n",
      "    The string whose method is called is inserted in between each given string.\n",
      "    The result is returned as a new string.\n",
      "    \n",
      "    Example: '.'.join(['ab', 'pq', 'rs']) -> 'ab.pq.rs'\n",
      "\n"
     ]
    }
   ],
   "source": [
    "help(\"\".join)"
   ]
  },
  {
   "cell_type": "code",
   "execution_count": 52,
   "id": "b8ea834f-72de-4363-be65-0a3b83e7c963",
   "metadata": {},
   "outputs": [
    {
     "data": {
      "text/plain": [
       "'a*bc*de'"
      ]
     },
     "execution_count": 52,
     "metadata": {},
     "output_type": "execute_result"
    }
   ],
   "source": [
    "\"*\".join([\"a\", \"bc\", \"de\"])"
   ]
  },
  {
   "cell_type": "code",
   "execution_count": 53,
   "id": "cd62c60c-5e47-44ee-9239-dbbe7b918237",
   "metadata": {},
   "outputs": [
    {
     "data": {
      "text/plain": [
       "'aholabcholade'"
      ]
     },
     "execution_count": 53,
     "metadata": {},
     "output_type": "execute_result"
    }
   ],
   "source": [
    "\"hola\".join([\"a\", \"bc\", \"de\"])"
   ]
  },
  {
   "cell_type": "code",
   "execution_count": 54,
   "id": "5c38be60-2843-4344-864a-ab580c3ea3f5",
   "metadata": {},
   "outputs": [],
   "source": [
    "a = \"Python for data science\""
   ]
  },
  {
   "cell_type": "code",
   "execution_count": 55,
   "id": "a31427b2-3aa3-4cb9-81f1-f7ee98876eca",
   "metadata": {},
   "outputs": [
    {
     "data": {
      "text/plain": [
       "'P*y*t*h*o*n* *f*o*r* *d*a*t*a* *s*c*i*e*n*c*e'"
      ]
     },
     "execution_count": 55,
     "metadata": {},
     "output_type": "execute_result"
    }
   ],
   "source": [
    "\"*\".join(list(a))"
   ]
  },
  {
   "cell_type": "code",
   "execution_count": 56,
   "id": "f98b54e1-c48e-41a4-bc32-1207aaa0851f",
   "metadata": {},
   "outputs": [
    {
     "data": {
      "text/plain": [
       "['Python', 'for', 'data', 'science']"
      ]
     },
     "execution_count": 56,
     "metadata": {},
     "output_type": "execute_result"
    }
   ],
   "source": [
    "a.split()"
   ]
  },
  {
   "cell_type": "code",
   "execution_count": 57,
   "id": "960a8c32-ad56-43a0-a8a3-8fbb8484b9c0",
   "metadata": {},
   "outputs": [
    {
     "data": {
      "text/plain": [
       "'Python*for*data*science'"
      ]
     },
     "execution_count": 57,
     "metadata": {},
     "output_type": "execute_result"
    }
   ],
   "source": [
    "\"*\".join(a.split())"
   ]
  },
  {
   "cell_type": "code",
   "execution_count": 58,
   "id": "f42a73d8-879c-4372-8e36-16369c5fffeb",
   "metadata": {},
   "outputs": [
    {
     "name": "stdout",
     "output_type": "stream",
     "text": [
      "['__add__', '__class__', '__contains__', '__delattr__', '__dir__', '__doc__', '__eq__', '__format__', '__ge__', '__getattribute__', '__getitem__', '__getnewargs__', '__getstate__', '__gt__', '__hash__', '__init__', '__init_subclass__', '__iter__', '__le__', '__len__', '__lt__', '__mod__', '__mul__', '__ne__', '__new__', '__reduce__', '__reduce_ex__', '__repr__', '__rmod__', '__rmul__', '__setattr__', '__sizeof__', '__str__', '__subclasshook__', 'capitalize', 'casefold', 'center', 'count', 'encode', 'endswith', 'expandtabs', 'find', 'format', 'format_map', 'index', 'isalnum', 'isalpha', 'isascii', 'isdecimal', 'isdigit', 'isidentifier', 'islower', 'isnumeric', 'isprintable', 'isspace', 'istitle', 'isupper', 'join', 'ljust', 'lower', 'lstrip', 'maketrans', 'partition', 'removeprefix', 'removesuffix', 'replace', 'rfind', 'rindex', 'rjust', 'rpartition', 'rsplit', 'rstrip', 'split', 'splitlines', 'startswith', 'strip', 'swapcase', 'title', 'translate', 'upper', 'zfill']\n"
     ]
    }
   ],
   "source": [
    "print(dir(\"\"))"
   ]
  },
  {
   "cell_type": "code",
   "execution_count": 59,
   "id": "86ed3242-b2c4-4caa-90d8-1b775ad681ad",
   "metadata": {},
   "outputs": [
    {
     "name": "stdout",
     "output_type": "stream",
     "text": [
      "Help on built-in function replace:\n",
      "\n",
      "replace(old, new, count=-1, /) method of builtins.str instance\n",
      "    Return a copy with all occurrences of substring old replaced by new.\n",
      "    \n",
      "      count\n",
      "        Maximum number of occurrences to replace.\n",
      "        -1 (the default value) means replace all occurrences.\n",
      "    \n",
      "    If the optional argument count is given, only the first count occurrences are\n",
      "    replaced.\n",
      "\n"
     ]
    }
   ],
   "source": [
    "help(\"\".replace)"
   ]
  },
  {
   "cell_type": "code",
   "execution_count": 60,
   "id": "9b238c26-7f39-4239-bd62-f42020cab60b",
   "metadata": {},
   "outputs": [],
   "source": [
    "s = \"mi gato y tu gata juegan con los gatitos del gato del vecino\""
   ]
  },
  {
   "cell_type": "code",
   "execution_count": 61,
   "id": "7ab21ae6-1a71-4326-a4c3-6ff17ca84cc4",
   "metadata": {},
   "outputs": [
    {
     "data": {
      "text/plain": [
       "['mi',\n",
       " 'gato',\n",
       " 'y',\n",
       " 'tu',\n",
       " 'gata',\n",
       " 'juegan',\n",
       " 'con',\n",
       " 'los',\n",
       " 'gatitos',\n",
       " 'del',\n",
       " 'gato',\n",
       " 'del',\n",
       " 'vecino']"
      ]
     },
     "execution_count": 61,
     "metadata": {},
     "output_type": "execute_result"
    }
   ],
   "source": [
    "s.split()"
   ]
  },
  {
   "cell_type": "code",
   "execution_count": 62,
   "id": "efff22a0-ace4-42a6-a8db-e8daaba21597",
   "metadata": {},
   "outputs": [
    {
     "data": {
      "text/plain": [
       "'mi perro y tu perra juegan con los perritos del perro del vecino'"
      ]
     },
     "execution_count": 62,
     "metadata": {},
     "output_type": "execute_result"
    }
   ],
   "source": [
    "s.replace(\"gat\", \"perr\")"
   ]
  },
  {
   "cell_type": "code",
   "execution_count": 63,
   "id": "d4c2344e-09c4-46b5-a53a-23a72fdae1b8",
   "metadata": {},
   "outputs": [
    {
     "data": {
      "text/plain": [
       "'mi perro y tu perra juegan con los gatitos del gato del vecino'"
      ]
     },
     "execution_count": 63,
     "metadata": {},
     "output_type": "execute_result"
    }
   ],
   "source": [
    "s.replace(\"gat\", \"perr\", 2)"
   ]
  },
  {
   "cell_type": "code",
   "execution_count": 64,
   "id": "be145900-2f25-44e9-98be-4af164b9015d",
   "metadata": {},
   "outputs": [
    {
     "data": {
      "text/plain": [
       "'Python for data science'"
      ]
     },
     "execution_count": 64,
     "metadata": {},
     "output_type": "execute_result"
    }
   ],
   "source": [
    "a"
   ]
  },
  {
   "cell_type": "code",
   "execution_count": 65,
   "id": "31e9c5be-61de-4ff8-b512-2d2f11def6f0",
   "metadata": {},
   "outputs": [
    {
     "data": {
      "text/plain": [
       "'Mi gato y tu gata juegan con los gatitos del gato del vecino'"
      ]
     },
     "execution_count": 65,
     "metadata": {},
     "output_type": "execute_result"
    }
   ],
   "source": [
    "s.capitalize()"
   ]
  },
  {
   "cell_type": "code",
   "execution_count": 66,
   "id": "42669e8e-a59b-45fd-9e0d-300edd1a0950",
   "metadata": {},
   "outputs": [
    {
     "name": "stdout",
     "output_type": "stream",
     "text": [
      "Help on built-in function center:\n",
      "\n",
      "center(width, fillchar=' ', /) method of builtins.str instance\n",
      "    Return a centered string of length width.\n",
      "    \n",
      "    Padding is done using the specified fill character (default is a space).\n",
      "\n"
     ]
    }
   ],
   "source": [
    "help(\"\".center)"
   ]
  },
  {
   "cell_type": "code",
   "execution_count": 67,
   "id": "50456c6d-dfda-4968-8e69-d4d00ea856d5",
   "metadata": {},
   "outputs": [
    {
     "data": {
      "text/plain": [
       "'_______python_______'"
      ]
     },
     "execution_count": 67,
     "metadata": {},
     "output_type": "execute_result"
    }
   ],
   "source": [
    "\"python\".center(20, \"_\")"
   ]
  },
  {
   "cell_type": "code",
   "execution_count": 68,
   "id": "2454d451-7f98-4c53-a9cf-ace0e30c24b3",
   "metadata": {},
   "outputs": [
    {
     "name": "stdout",
     "output_type": "stream",
     "text": [
      "Help on built-in function strip:\n",
      "\n",
      "strip(chars=None, /) method of builtins.str instance\n",
      "    Return a copy of the string with leading and trailing whitespace removed.\n",
      "    \n",
      "    If chars is given and not None, remove characters in chars instead.\n",
      "\n"
     ]
    }
   ],
   "source": [
    "help(\"\".strip)"
   ]
  },
  {
   "cell_type": "code",
   "execution_count": 69,
   "id": "064a9eb4-7868-435f-9e10-0f6bdcd67f3b",
   "metadata": {},
   "outputs": [
    {
     "data": {
      "text/plain": [
       "'python'"
      ]
     },
     "execution_count": 69,
     "metadata": {},
     "output_type": "execute_result"
    }
   ],
   "source": [
    "\"   python    \".strip()"
   ]
  },
  {
   "cell_type": "code",
   "execution_count": 70,
   "id": "a580d00b-941b-4c6b-8b3d-06038bf68a2f",
   "metadata": {},
   "outputs": [
    {
     "data": {
      "text/plain": [
       "'python'"
      ]
     },
     "execution_count": 70,
     "metadata": {},
     "output_type": "execute_result"
    }
   ],
   "source": [
    "\"  ..._    python    .. __ ..   \".strip(\" ._\")"
   ]
  },
  {
   "cell_type": "code",
   "execution_count": 71,
   "id": "b683eaa2-75b2-45f1-aac7-4db8d4cdd732",
   "metadata": {},
   "outputs": [
    {
     "data": {
      "text/plain": [
       "'pyt_hon'"
      ]
     },
     "execution_count": 71,
     "metadata": {},
     "output_type": "execute_result"
    }
   ],
   "source": [
    "\"  ..._    pyt_hon    .. __ ..   \".strip(\" ._\")"
   ]
  },
  {
   "cell_type": "code",
   "execution_count": 72,
   "id": "1c31f0e1-60ef-4ee8-bf72-a3064b3fb861",
   "metadata": {},
   "outputs": [
    {
     "data": {
      "text/plain": [
       "'pyt_hon    .. __ ..   '"
      ]
     },
     "execution_count": 72,
     "metadata": {},
     "output_type": "execute_result"
    }
   ],
   "source": [
    "\"  ..._    pyt_hon    .. __ ..   \".lstrip(\" ._\")"
   ]
  },
  {
   "cell_type": "code",
   "execution_count": 73,
   "id": "de7d138f-3d65-4798-805f-293165a6e09a",
   "metadata": {},
   "outputs": [
    {
     "data": {
      "text/plain": [
       "'p'"
      ]
     },
     "execution_count": 73,
     "metadata": {},
     "output_type": "execute_result"
    }
   ],
   "source": [
    "\"python\"[0]"
   ]
  },
  {
   "cell_type": "code",
   "execution_count": 74,
   "id": "483d0a9e-cc5c-4f58-93bf-ec3175c1e48c",
   "metadata": {},
   "outputs": [
    {
     "data": {
      "text/plain": [
       "'n'"
      ]
     },
     "execution_count": 74,
     "metadata": {},
     "output_type": "execute_result"
    }
   ],
   "source": [
    "\"python\"[-1]"
   ]
  },
  {
   "cell_type": "markdown",
   "id": "4d92d0ac-373f-44cd-9786-673513841983",
   "metadata": {},
   "source": [
    "### Listas"
   ]
  },
  {
   "cell_type": "code",
   "execution_count": 75,
   "id": "56792f3c-567e-4a41-a5c8-d2422c3c4ae6",
   "metadata": {},
   "outputs": [
    {
     "name": "stdout",
     "output_type": "stream",
     "text": [
      "['__add__', '__class__', '__class_getitem__', '__contains__', '__delattr__', '__delitem__', '__dir__', '__doc__', '__eq__', '__format__', '__ge__', '__getattribute__', '__getitem__', '__getstate__', '__gt__', '__hash__', '__iadd__', '__imul__', '__init__', '__init_subclass__', '__iter__', '__le__', '__len__', '__lt__', '__mul__', '__ne__', '__new__', '__reduce__', '__reduce_ex__', '__repr__', '__reversed__', '__rmul__', '__setattr__', '__setitem__', '__sizeof__', '__str__', '__subclasshook__', 'append', 'clear', 'copy', 'count', 'extend', 'index', 'insert', 'pop', 'remove', 'reverse', 'sort']\n"
     ]
    }
   ],
   "source": [
    "print(dir(list))"
   ]
  },
  {
   "cell_type": "code",
   "execution_count": 76,
   "id": "04738ebd-16a8-4831-aca7-a1b04129c92c",
   "metadata": {},
   "outputs": [
    {
     "data": {
      "text/plain": [
       "['p', 'y', 't', 'h', 'o', 'n']"
      ]
     },
     "execution_count": 76,
     "metadata": {},
     "output_type": "execute_result"
    }
   ],
   "source": [
    "a = list(\"python\")\n",
    "a"
   ]
  },
  {
   "cell_type": "code",
   "execution_count": 77,
   "id": "ed530f53-edac-495c-9a2e-9933a41c0f67",
   "metadata": {},
   "outputs": [],
   "source": [
    "a.append(2)"
   ]
  },
  {
   "cell_type": "code",
   "execution_count": 78,
   "id": "e29eca8c-b251-4556-bbc6-4c0549db7549",
   "metadata": {},
   "outputs": [
    {
     "data": {
      "text/plain": [
       "['p', 'y', 't', 'h', 'o', 'n', 2]"
      ]
     },
     "execution_count": 78,
     "metadata": {},
     "output_type": "execute_result"
    }
   ],
   "source": [
    "a"
   ]
  },
  {
   "cell_type": "code",
   "execution_count": 79,
   "id": "aac288ec-452c-4ba3-adab-94f7c474b053",
   "metadata": {},
   "outputs": [],
   "source": [
    "a.clear()"
   ]
  },
  {
   "cell_type": "code",
   "execution_count": 80,
   "id": "8815f643-90ba-4982-8011-c0325542e53a",
   "metadata": {},
   "outputs": [
    {
     "data": {
      "text/plain": [
       "[]"
      ]
     },
     "execution_count": 80,
     "metadata": {},
     "output_type": "execute_result"
    }
   ],
   "source": [
    "a"
   ]
  },
  {
   "cell_type": "code",
   "execution_count": 81,
   "id": "41d47991-2c68-4ddf-903e-12a039398bf1",
   "metadata": {},
   "outputs": [],
   "source": [
    "a = list(\"python\")"
   ]
  },
  {
   "cell_type": "code",
   "execution_count": 82,
   "id": "d156a388-4a61-4bed-ae13-f611183b7751",
   "metadata": {},
   "outputs": [
    {
     "data": {
      "text/plain": [
       "['p', 'y', 't', 'h', 'o', 'n']"
      ]
     },
     "execution_count": 82,
     "metadata": {},
     "output_type": "execute_result"
    }
   ],
   "source": [
    "a.copy()"
   ]
  },
  {
   "cell_type": "code",
   "execution_count": 83,
   "id": "ea4255e2-2f3b-479b-a0e7-23be159f6a0d",
   "metadata": {},
   "outputs": [],
   "source": [
    "b = a.copy()"
   ]
  },
  {
   "cell_type": "code",
   "execution_count": 84,
   "id": "5d0db067-bcb0-4729-a9ea-ae60085d1da6",
   "metadata": {},
   "outputs": [
    {
     "data": {
      "text/plain": [
       "['p', 'y', 't', 'h', 'o', 'n']"
      ]
     },
     "execution_count": 84,
     "metadata": {},
     "output_type": "execute_result"
    }
   ],
   "source": [
    "a"
   ]
  },
  {
   "cell_type": "code",
   "execution_count": 85,
   "id": "82e10e32-21ad-4d01-8e7b-ba2699e48c6a",
   "metadata": {},
   "outputs": [
    {
     "data": {
      "text/plain": [
       "['p', 'y', 't', 'h', 'o', 'n']"
      ]
     },
     "execution_count": 85,
     "metadata": {},
     "output_type": "execute_result"
    }
   ],
   "source": [
    "b"
   ]
  },
  {
   "cell_type": "code",
   "execution_count": 86,
   "id": "fa9b271e-6f06-4181-8325-12d226f8aca0",
   "metadata": {},
   "outputs": [
    {
     "name": "stdout",
     "output_type": "stream",
     "text": [
      "Help on built-in function id in module builtins:\n",
      "\n",
      "id(obj, /)\n",
      "    Return the identity of an object.\n",
      "    \n",
      "    This is guaranteed to be unique among simultaneously existing objects.\n",
      "    (CPython uses the object's memory address.)\n",
      "\n"
     ]
    }
   ],
   "source": [
    "help(id)"
   ]
  },
  {
   "cell_type": "code",
   "execution_count": 87,
   "id": "c9a655fc-658b-4c07-a03c-88460b65fa63",
   "metadata": {},
   "outputs": [
    {
     "data": {
      "text/plain": [
       "1916105526720"
      ]
     },
     "execution_count": 87,
     "metadata": {},
     "output_type": "execute_result"
    }
   ],
   "source": [
    "id(a)"
   ]
  },
  {
   "cell_type": "code",
   "execution_count": 88,
   "id": "86f1554b-fd66-4b56-a562-b2d1d0e8a9df",
   "metadata": {},
   "outputs": [
    {
     "data": {
      "text/plain": [
       "1916105527168"
      ]
     },
     "execution_count": 88,
     "metadata": {},
     "output_type": "execute_result"
    }
   ],
   "source": [
    "id(b)"
   ]
  },
  {
   "cell_type": "code",
   "execution_count": 89,
   "id": "2d5e240f-d49f-4778-8dda-a0789dc43753",
   "metadata": {},
   "outputs": [
    {
     "data": {
      "text/plain": [
       "['p', 'y', 't', 'h', 'o', 'n']"
      ]
     },
     "execution_count": 89,
     "metadata": {},
     "output_type": "execute_result"
    }
   ],
   "source": [
    "a"
   ]
  },
  {
   "cell_type": "code",
   "execution_count": 90,
   "id": "5ec76751-f5da-4d4f-8619-06429a74eeaa",
   "metadata": {},
   "outputs": [],
   "source": [
    "b = a"
   ]
  },
  {
   "cell_type": "code",
   "execution_count": 91,
   "id": "c2309899-00fa-4c4e-8ca8-0199f910c25f",
   "metadata": {},
   "outputs": [
    {
     "data": {
      "text/plain": [
       "['p', 'y', 't', 'h', 'o', 'n']"
      ]
     },
     "execution_count": 91,
     "metadata": {},
     "output_type": "execute_result"
    }
   ],
   "source": [
    "b"
   ]
  },
  {
   "cell_type": "code",
   "execution_count": 92,
   "id": "4de0e7b7-7542-49c8-8953-0787cc7e3cad",
   "metadata": {},
   "outputs": [
    {
     "data": {
      "text/plain": [
       "1916105526720"
      ]
     },
     "execution_count": 92,
     "metadata": {},
     "output_type": "execute_result"
    }
   ],
   "source": [
    "id(a)"
   ]
  },
  {
   "cell_type": "code",
   "execution_count": 93,
   "id": "fc1fcc5a-9abc-45eb-90ad-39ab70a0e072",
   "metadata": {},
   "outputs": [
    {
     "data": {
      "text/plain": [
       "1916105526720"
      ]
     },
     "execution_count": 93,
     "metadata": {},
     "output_type": "execute_result"
    }
   ],
   "source": [
    "id(b)"
   ]
  },
  {
   "cell_type": "code",
   "execution_count": 94,
   "id": "59371dac-4e3b-472d-9561-ad42eef3b37a",
   "metadata": {},
   "outputs": [],
   "source": [
    "b.append(\"m\")"
   ]
  },
  {
   "cell_type": "code",
   "execution_count": 95,
   "id": "d045dc3d-5348-4900-b1da-6953cf631a12",
   "metadata": {},
   "outputs": [
    {
     "data": {
      "text/plain": [
       "['p', 'y', 't', 'h', 'o', 'n', 'm']"
      ]
     },
     "execution_count": 95,
     "metadata": {},
     "output_type": "execute_result"
    }
   ],
   "source": [
    "b"
   ]
  },
  {
   "cell_type": "code",
   "execution_count": 96,
   "id": "bfba5ce1-e5ae-48dc-835d-50f83cfdfd2e",
   "metadata": {},
   "outputs": [
    {
     "data": {
      "text/plain": [
       "['p', 'y', 't', 'h', 'o', 'n', 'm']"
      ]
     },
     "execution_count": 96,
     "metadata": {},
     "output_type": "execute_result"
    }
   ],
   "source": [
    "a"
   ]
  },
  {
   "cell_type": "code",
   "execution_count": 97,
   "id": "4ae4b2e3-71c5-4184-b0d0-cb50495f54fc",
   "metadata": {},
   "outputs": [],
   "source": [
    "b = a.copy()"
   ]
  },
  {
   "cell_type": "code",
   "execution_count": 98,
   "id": "64c3cb8b-d79e-4276-8af2-8275561caf47",
   "metadata": {},
   "outputs": [
    {
     "data": {
      "text/plain": [
       "['p', 'y', 't', 'h', 'o', 'n', 'm']"
      ]
     },
     "execution_count": 98,
     "metadata": {},
     "output_type": "execute_result"
    }
   ],
   "source": [
    "b"
   ]
  },
  {
   "cell_type": "code",
   "execution_count": 99,
   "id": "c8a0ec99-ce5c-4c77-8428-938708f598d9",
   "metadata": {},
   "outputs": [],
   "source": [
    "b.append(\"n\")"
   ]
  },
  {
   "cell_type": "code",
   "execution_count": 100,
   "id": "3f1b7e62-22e2-4cd5-84fb-94a2ff890825",
   "metadata": {},
   "outputs": [
    {
     "data": {
      "text/plain": [
       "['p', 'y', 't', 'h', 'o', 'n', 'm', 'n']"
      ]
     },
     "execution_count": 100,
     "metadata": {},
     "output_type": "execute_result"
    }
   ],
   "source": [
    "b"
   ]
  },
  {
   "cell_type": "code",
   "execution_count": 101,
   "id": "d0c46759-f89e-4fcf-92aa-35cfe1da5a10",
   "metadata": {},
   "outputs": [
    {
     "data": {
      "text/plain": [
       "['p', 'y', 't', 'h', 'o', 'n', 'm']"
      ]
     },
     "execution_count": 101,
     "metadata": {},
     "output_type": "execute_result"
    }
   ],
   "source": [
    "a"
   ]
  },
  {
   "cell_type": "code",
   "execution_count": 102,
   "id": "21e68caa-6966-4ee9-8b7c-7a499a481ffd",
   "metadata": {},
   "outputs": [
    {
     "name": "stdout",
     "output_type": "stream",
     "text": [
      "['__add__', '__class__', '__class_getitem__', '__contains__', '__delattr__', '__delitem__', '__dir__', '__doc__', '__eq__', '__format__', '__ge__', '__getattribute__', '__getitem__', '__getstate__', '__gt__', '__hash__', '__iadd__', '__imul__', '__init__', '__init_subclass__', '__iter__', '__le__', '__len__', '__lt__', '__mul__', '__ne__', '__new__', '__reduce__', '__reduce_ex__', '__repr__', '__reversed__', '__rmul__', '__setattr__', '__setitem__', '__sizeof__', '__str__', '__subclasshook__', 'append', 'clear', 'copy', 'count', 'extend', 'index', 'insert', 'pop', 'remove', 'reverse', 'sort']\n"
     ]
    }
   ],
   "source": [
    "print(dir(list))"
   ]
  },
  {
   "cell_type": "code",
   "execution_count": 103,
   "id": "d4712965-f6fe-4158-a563-ea7aac577f6f",
   "metadata": {},
   "outputs": [
    {
     "name": "stdout",
     "output_type": "stream",
     "text": [
      "['p', 'y', 't', 'h', 'o', 'n', ' ', 'f', 'o', 'r', ' ', 'd', 'a', 't', 'a', ' ', 's', 'c', 'i', 'e', 'n', 'c', 'e']\n"
     ]
    }
   ],
   "source": [
    "a = list(\"python for data science\")\n",
    "print(a)"
   ]
  },
  {
   "cell_type": "code",
   "execution_count": 104,
   "id": "8581b60f-4921-4794-a632-4badc7b894eb",
   "metadata": {},
   "outputs": [
    {
     "data": {
      "text/plain": [
       "2"
      ]
     },
     "execution_count": 104,
     "metadata": {},
     "output_type": "execute_result"
    }
   ],
   "source": [
    "a.count(\"a\")"
   ]
  },
  {
   "cell_type": "code",
   "execution_count": 105,
   "id": "53124ed2-aecc-4e26-adca-5c14f46e042c",
   "metadata": {},
   "outputs": [
    {
     "data": {
      "text/plain": [
       "12"
      ]
     },
     "execution_count": 105,
     "metadata": {},
     "output_type": "execute_result"
    }
   ],
   "source": [
    "a.index(\"a\")"
   ]
  },
  {
   "cell_type": "code",
   "execution_count": 106,
   "id": "12e86d71-3698-4658-84ed-64f61599216b",
   "metadata": {},
   "outputs": [
    {
     "data": {
      "text/plain": [
       "['p', 'y', 't', 'h', 'o', 'n']"
      ]
     },
     "execution_count": 106,
     "metadata": {},
     "output_type": "execute_result"
    }
   ],
   "source": [
    "a = list(\"python\")\n",
    "a"
   ]
  },
  {
   "cell_type": "code",
   "execution_count": 107,
   "id": "8dd426a4-b8bc-40b0-9c58-ae4298630914",
   "metadata": {},
   "outputs": [
    {
     "data": {
      "text/plain": [
       "['d', 'a', 't', 'a']"
      ]
     },
     "execution_count": 107,
     "metadata": {},
     "output_type": "execute_result"
    }
   ],
   "source": [
    "b = list(\"data\")\n",
    "b"
   ]
  },
  {
   "cell_type": "code",
   "execution_count": 108,
   "id": "d633cdc3-7ff1-4b77-9f2d-2cb4e922c668",
   "metadata": {},
   "outputs": [],
   "source": [
    "a.append(b)"
   ]
  },
  {
   "cell_type": "code",
   "execution_count": 109,
   "id": "a7163af4-82bf-439d-93df-e150919a0a68",
   "metadata": {},
   "outputs": [
    {
     "data": {
      "text/plain": [
       "['p', 'y', 't', 'h', 'o', 'n', ['d', 'a', 't', 'a']]"
      ]
     },
     "execution_count": 109,
     "metadata": {},
     "output_type": "execute_result"
    }
   ],
   "source": [
    "a"
   ]
  },
  {
   "cell_type": "code",
   "execution_count": 110,
   "id": "8873aeb4-f84e-4e6a-ad68-1703faca1bae",
   "metadata": {},
   "outputs": [
    {
     "data": {
      "text/plain": [
       "['d', 'a', 't', 'a']"
      ]
     },
     "execution_count": 110,
     "metadata": {},
     "output_type": "execute_result"
    }
   ],
   "source": [
    "a[-1]"
   ]
  },
  {
   "cell_type": "code",
   "execution_count": 111,
   "id": "34d57672-4486-4f78-8095-7adbc0656a9b",
   "metadata": {},
   "outputs": [
    {
     "data": {
      "text/plain": [
       "['p', 'y', 't', 'h', 'o', 'n']"
      ]
     },
     "execution_count": 111,
     "metadata": {},
     "output_type": "execute_result"
    }
   ],
   "source": [
    "a = list(\"python\")\n",
    "a"
   ]
  },
  {
   "cell_type": "code",
   "execution_count": 112,
   "id": "4629f3ff-1790-42db-a31b-423c73fb9343",
   "metadata": {},
   "outputs": [
    {
     "data": {
      "text/plain": [
       "['d', 'a', 't', 'a']"
      ]
     },
     "execution_count": 112,
     "metadata": {},
     "output_type": "execute_result"
    }
   ],
   "source": [
    "b = list(\"data\")\n",
    "b"
   ]
  },
  {
   "cell_type": "code",
   "execution_count": 113,
   "id": "04db8a70-5911-4e0c-abf9-5f3680551b03",
   "metadata": {},
   "outputs": [
    {
     "name": "stdout",
     "output_type": "stream",
     "text": [
      "Help on built-in function extend:\n",
      "\n",
      "extend(iterable, /) method of builtins.list instance\n",
      "    Extend list by appending elements from the iterable.\n",
      "\n"
     ]
    }
   ],
   "source": [
    "help(a.extend)"
   ]
  },
  {
   "cell_type": "code",
   "execution_count": 114,
   "id": "292d98cb-1a76-4e46-b31f-9bcb002330ab",
   "metadata": {},
   "outputs": [],
   "source": [
    "a.extend(b)"
   ]
  },
  {
   "cell_type": "code",
   "execution_count": 115,
   "id": "a2aa162c-9df5-4e6c-9d85-25934f3afb86",
   "metadata": {},
   "outputs": [
    {
     "data": {
      "text/plain": [
       "['p', 'y', 't', 'h', 'o', 'n', 'd', 'a', 't', 'a']"
      ]
     },
     "execution_count": 115,
     "metadata": {},
     "output_type": "execute_result"
    }
   ],
   "source": [
    "a"
   ]
  },
  {
   "cell_type": "code",
   "execution_count": 116,
   "id": "8246dd9f-83e6-4c8c-85f2-3107d210694c",
   "metadata": {},
   "outputs": [],
   "source": [
    "a.insert(3, 18)"
   ]
  },
  {
   "cell_type": "code",
   "execution_count": 117,
   "id": "309907d6-d81d-4f6e-977e-5cee1a6eb1b9",
   "metadata": {},
   "outputs": [
    {
     "data": {
      "text/plain": [
       "['p', 'y', 't', 18, 'h', 'o', 'n', 'd', 'a', 't', 'a']"
      ]
     },
     "execution_count": 117,
     "metadata": {},
     "output_type": "execute_result"
    }
   ],
   "source": [
    "a"
   ]
  },
  {
   "cell_type": "code",
   "execution_count": 118,
   "id": "e68e646a-3a8f-46f4-9ba7-0e1a731d97b0",
   "metadata": {},
   "outputs": [
    {
     "name": "stdout",
     "output_type": "stream",
     "text": [
      "Help on built-in function pop:\n",
      "\n",
      "pop(index=-1, /) method of builtins.list instance\n",
      "    Remove and return item at index (default last).\n",
      "    \n",
      "    Raises IndexError if list is empty or index is out of range.\n",
      "\n"
     ]
    }
   ],
   "source": [
    "help(a.pop)"
   ]
  },
  {
   "cell_type": "code",
   "execution_count": 119,
   "id": "991d744f-d282-4f7a-b18c-a1d07d120804",
   "metadata": {},
   "outputs": [
    {
     "data": {
      "text/plain": [
       "'a'"
      ]
     },
     "execution_count": 119,
     "metadata": {},
     "output_type": "execute_result"
    }
   ],
   "source": [
    "a.pop()"
   ]
  },
  {
   "cell_type": "code",
   "execution_count": 120,
   "id": "411d4d7e-bbd8-438f-b5f3-7df31d9f9af4",
   "metadata": {},
   "outputs": [
    {
     "data": {
      "text/plain": [
       "['p', 'y', 't', 18, 'h', 'o', 'n', 'd', 'a', 't']"
      ]
     },
     "execution_count": 120,
     "metadata": {},
     "output_type": "execute_result"
    }
   ],
   "source": [
    "a"
   ]
  },
  {
   "cell_type": "code",
   "execution_count": 121,
   "id": "91333f74-880f-4711-8e71-eae7987a7ea5",
   "metadata": {},
   "outputs": [
    {
     "data": {
      "text/plain": [
       "18"
      ]
     },
     "execution_count": 121,
     "metadata": {},
     "output_type": "execute_result"
    }
   ],
   "source": [
    "a.pop(3)"
   ]
  },
  {
   "cell_type": "code",
   "execution_count": 122,
   "id": "bade377e-c9da-49ed-9f7f-0c123d3a0daf",
   "metadata": {},
   "outputs": [
    {
     "data": {
      "text/plain": [
       "['p', 'y', 't', 'h', 'o', 'n', 'd', 'a', 't']"
      ]
     },
     "execution_count": 122,
     "metadata": {},
     "output_type": "execute_result"
    }
   ],
   "source": [
    "a"
   ]
  },
  {
   "cell_type": "code",
   "execution_count": 123,
   "id": "42beb7b9-fd5f-4877-ab2f-27d04b26e07f",
   "metadata": {},
   "outputs": [],
   "source": [
    "item = a.pop(0)"
   ]
  },
  {
   "cell_type": "code",
   "execution_count": 124,
   "id": "39649c9d-d42c-48b8-b17f-a55d2047c293",
   "metadata": {},
   "outputs": [
    {
     "data": {
      "text/plain": [
       "['y', 't', 'h', 'o', 'n', 'd', 'a', 't']"
      ]
     },
     "execution_count": 124,
     "metadata": {},
     "output_type": "execute_result"
    }
   ],
   "source": [
    "a"
   ]
  },
  {
   "cell_type": "code",
   "execution_count": 125,
   "id": "a488205c-cbeb-4655-914c-1727073b3157",
   "metadata": {},
   "outputs": [
    {
     "data": {
      "text/plain": [
       "'p'"
      ]
     },
     "execution_count": 125,
     "metadata": {},
     "output_type": "execute_result"
    }
   ],
   "source": [
    "item"
   ]
  },
  {
   "cell_type": "code",
   "execution_count": 126,
   "id": "257dadb1-26e5-4247-a277-19ae92d8853c",
   "metadata": {},
   "outputs": [
    {
     "name": "stdout",
     "output_type": "stream",
     "text": [
      "Help on built-in function remove:\n",
      "\n",
      "remove(value, /) method of builtins.list instance\n",
      "    Remove first occurrence of value.\n",
      "    \n",
      "    Raises ValueError if the value is not present.\n",
      "\n"
     ]
    }
   ],
   "source": [
    "help(a.remove)"
   ]
  },
  {
   "cell_type": "code",
   "execution_count": 127,
   "id": "556f109a-e199-4825-9197-0dca614117b2",
   "metadata": {},
   "outputs": [
    {
     "data": {
      "text/plain": [
       "['y', 't', 'h', 'o', 'n', 'd', 'a', 't']"
      ]
     },
     "execution_count": 127,
     "metadata": {},
     "output_type": "execute_result"
    }
   ],
   "source": [
    "a"
   ]
  },
  {
   "cell_type": "code",
   "execution_count": 128,
   "id": "0a694ec2-58ae-4ab6-80ed-bcedeca902bf",
   "metadata": {},
   "outputs": [],
   "source": [
    "a.remove(\"t\")"
   ]
  },
  {
   "cell_type": "code",
   "execution_count": 129,
   "id": "2f9447ce-d104-4754-bab6-a96da7bb2090",
   "metadata": {},
   "outputs": [
    {
     "data": {
      "text/plain": [
       "['y', 'h', 'o', 'n', 'd', 'a', 't']"
      ]
     },
     "execution_count": 129,
     "metadata": {},
     "output_type": "execute_result"
    }
   ],
   "source": [
    "a"
   ]
  },
  {
   "cell_type": "code",
   "execution_count": 130,
   "id": "be93037e-893a-41a6-8694-c657572c10b3",
   "metadata": {},
   "outputs": [
    {
     "name": "stdout",
     "output_type": "stream",
     "text": [
      "Error\n"
     ]
    }
   ],
   "source": [
    "try:\n",
    "    a.remove(\"x\")\n",
    "except:\n",
    "    print(\"Error\")"
   ]
  },
  {
   "cell_type": "code",
   "execution_count": 131,
   "id": "ea0bbaf8-94a1-445b-a10f-32b71383bddc",
   "metadata": {},
   "outputs": [
    {
     "data": {
      "text/plain": [
       "['p', 'y', 't', 'h', 'o', 'n']"
      ]
     },
     "execution_count": 131,
     "metadata": {},
     "output_type": "execute_result"
    }
   ],
   "source": [
    "a = list(\"python\")\n",
    "a"
   ]
  },
  {
   "cell_type": "code",
   "execution_count": 132,
   "id": "d8723449-e116-4629-8f97-a49d55481f1d",
   "metadata": {},
   "outputs": [
    {
     "name": "stdout",
     "output_type": "stream",
     "text": [
      "Help on built-in function reverse:\n",
      "\n",
      "reverse() method of builtins.list instance\n",
      "    Reverse *IN PLACE*.\n",
      "\n"
     ]
    }
   ],
   "source": [
    "help(a.reverse)"
   ]
  },
  {
   "cell_type": "code",
   "execution_count": 133,
   "id": "5ee7c298-8652-4810-8346-32f98675715b",
   "metadata": {},
   "outputs": [],
   "source": [
    "a.reverse()"
   ]
  },
  {
   "cell_type": "code",
   "execution_count": 134,
   "id": "44644e5d-5134-4a7d-b4b0-5a500341538a",
   "metadata": {},
   "outputs": [
    {
     "data": {
      "text/plain": [
       "['n', 'o', 'h', 't', 'y', 'p']"
      ]
     },
     "execution_count": 134,
     "metadata": {},
     "output_type": "execute_result"
    }
   ],
   "source": [
    "a"
   ]
  },
  {
   "cell_type": "code",
   "execution_count": 135,
   "id": "c385cdb2-b01c-42db-b8b3-9145a5849586",
   "metadata": {},
   "outputs": [
    {
     "data": {
      "text/plain": [
       "'mi gato y tu gata juegan con los gatitos del gato del vecino'"
      ]
     },
     "execution_count": 135,
     "metadata": {},
     "output_type": "execute_result"
    }
   ],
   "source": [
    "s"
   ]
  },
  {
   "cell_type": "code",
   "execution_count": 136,
   "id": "4c89173c-480f-4446-8bbc-58e083cd086d",
   "metadata": {},
   "outputs": [],
   "source": [
    "s.split().reverse()"
   ]
  },
  {
   "cell_type": "code",
   "execution_count": 137,
   "id": "873a0a4d-421b-4d6b-bcec-947b81f64fe5",
   "metadata": {},
   "outputs": [
    {
     "data": {
      "text/plain": [
       "'mi gato y tu gata juegan con los gatitos del gato del vecino'"
      ]
     },
     "execution_count": 137,
     "metadata": {},
     "output_type": "execute_result"
    }
   ],
   "source": [
    "s"
   ]
  },
  {
   "cell_type": "code",
   "execution_count": 138,
   "id": "d1bc3c3b-e0d0-4a3f-9aff-28fab46656c4",
   "metadata": {},
   "outputs": [
    {
     "data": {
      "text/plain": [
       "['mi',\n",
       " 'gato',\n",
       " 'y',\n",
       " 'tu',\n",
       " 'gata',\n",
       " 'juegan',\n",
       " 'con',\n",
       " 'los',\n",
       " 'gatitos',\n",
       " 'del',\n",
       " 'gato',\n",
       " 'del',\n",
       " 'vecino']"
      ]
     },
     "execution_count": 138,
     "metadata": {},
     "output_type": "execute_result"
    }
   ],
   "source": [
    "s.split()"
   ]
  },
  {
   "cell_type": "code",
   "execution_count": 139,
   "id": "138c0792-f885-4710-b040-a1af879309e8",
   "metadata": {},
   "outputs": [],
   "source": [
    "['mi',\n",
    " 'gato',\n",
    " 'y',\n",
    " 'tu',\n",
    " 'gata',\n",
    " 'juegan',\n",
    " 'con',\n",
    " 'los',\n",
    " 'gatitos',\n",
    " 'del',\n",
    " 'gato',\n",
    " 'del',\n",
    " 'vecino'].reverse()"
   ]
  },
  {
   "cell_type": "code",
   "execution_count": 140,
   "id": "ffec7db2-0bd9-4027-a122-041571202240",
   "metadata": {},
   "outputs": [],
   "source": [
    "m = s.split()\n",
    "m.reverse()"
   ]
  },
  {
   "cell_type": "code",
   "execution_count": 141,
   "id": "98c8a778-d939-4a75-a269-8d771746d7b3",
   "metadata": {},
   "outputs": [
    {
     "data": {
      "text/plain": [
       "['vecino',\n",
       " 'del',\n",
       " 'gato',\n",
       " 'del',\n",
       " 'gatitos',\n",
       " 'los',\n",
       " 'con',\n",
       " 'juegan',\n",
       " 'gata',\n",
       " 'tu',\n",
       " 'y',\n",
       " 'gato',\n",
       " 'mi']"
      ]
     },
     "execution_count": 141,
     "metadata": {},
     "output_type": "execute_result"
    }
   ],
   "source": [
    "m"
   ]
  },
  {
   "cell_type": "code",
   "execution_count": 142,
   "id": "4f67a931-cefe-4922-83cb-8995a98c24c2",
   "metadata": {},
   "outputs": [
    {
     "name": "stdout",
     "output_type": "stream",
     "text": [
      "Help on built-in function sort:\n",
      "\n",
      "sort(*, key=None, reverse=False) method of builtins.list instance\n",
      "    Sort the list in ascending order and return None.\n",
      "    \n",
      "    The sort is in-place (i.e. the list itself is modified) and stable (i.e. the\n",
      "    order of two equal elements is maintained).\n",
      "    \n",
      "    If a key function is given, apply it once to each list item and sort them,\n",
      "    ascending or descending, according to their function values.\n",
      "    \n",
      "    The reverse flag can be set to sort in descending order.\n",
      "\n"
     ]
    }
   ],
   "source": [
    "help(a.sort)"
   ]
  },
  {
   "cell_type": "code",
   "execution_count": 143,
   "id": "5f710ad2-1610-46ce-8c8c-8570fb8d6d4a",
   "metadata": {},
   "outputs": [],
   "source": [
    "a = [4, 1, 7, 3]"
   ]
  },
  {
   "cell_type": "code",
   "execution_count": 144,
   "id": "63239db1-8ea9-463d-a78a-7e75bbb55dac",
   "metadata": {},
   "outputs": [],
   "source": [
    "a.sort()"
   ]
  },
  {
   "cell_type": "code",
   "execution_count": 145,
   "id": "b1560057-0e27-499d-b0b5-52bd8d79052f",
   "metadata": {},
   "outputs": [
    {
     "data": {
      "text/plain": [
       "[1, 3, 4, 7]"
      ]
     },
     "execution_count": 145,
     "metadata": {},
     "output_type": "execute_result"
    }
   ],
   "source": [
    "a"
   ]
  },
  {
   "cell_type": "code",
   "execution_count": 146,
   "id": "ff115a45-e270-4b6e-94e1-54f6e6f2b328",
   "metadata": {},
   "outputs": [],
   "source": [
    "a = [4, 1, 7, 3]\n",
    "a.sort(reverse = True)"
   ]
  },
  {
   "cell_type": "code",
   "execution_count": 147,
   "id": "a0ec4bc1-2841-40da-a4ec-3d972c8b15fc",
   "metadata": {},
   "outputs": [
    {
     "data": {
      "text/plain": [
       "[7, 4, 3, 1]"
      ]
     },
     "execution_count": 147,
     "metadata": {},
     "output_type": "execute_result"
    }
   ],
   "source": [
    "a"
   ]
  },
  {
   "cell_type": "code",
   "execution_count": 148,
   "id": "539cbddd-ba3d-4f93-8878-563e4832896f",
   "metadata": {},
   "outputs": [],
   "source": [
    "words = \"elefante casa mono cebra tigre\".split()"
   ]
  },
  {
   "cell_type": "code",
   "execution_count": 149,
   "id": "0bb80b0e-1321-44c4-984a-ce275f15df26",
   "metadata": {},
   "outputs": [
    {
     "data": {
      "text/plain": [
       "['elefante', 'casa', 'mono', 'cebra', 'tigre']"
      ]
     },
     "execution_count": 149,
     "metadata": {},
     "output_type": "execute_result"
    }
   ],
   "source": [
    "words"
   ]
  },
  {
   "cell_type": "code",
   "execution_count": 150,
   "id": "76aab8a7-3250-49a1-84c0-176958f7b733",
   "metadata": {},
   "outputs": [],
   "source": [
    "words.sort()"
   ]
  },
  {
   "cell_type": "code",
   "execution_count": 151,
   "id": "22b31cac-d245-4299-812c-0c6493c67615",
   "metadata": {},
   "outputs": [
    {
     "data": {
      "text/plain": [
       "['casa', 'cebra', 'elefante', 'mono', 'tigre']"
      ]
     },
     "execution_count": 151,
     "metadata": {},
     "output_type": "execute_result"
    }
   ],
   "source": [
    "words"
   ]
  },
  {
   "cell_type": "code",
   "execution_count": 152,
   "id": "695c9046-0bae-419d-8f3a-8b8742f7a061",
   "metadata": {},
   "outputs": [],
   "source": [
    "words = \"elefante casa mono cebra tigre\".split()"
   ]
  },
  {
   "cell_type": "code",
   "execution_count": 153,
   "id": "90d82b04-045d-4dc6-a4e7-48e2997f33ae",
   "metadata": {},
   "outputs": [],
   "source": [
    "words.sort(key = len)"
   ]
  },
  {
   "cell_type": "code",
   "execution_count": 154,
   "id": "bf566439-29a2-450a-a6be-dd2df3cfc359",
   "metadata": {},
   "outputs": [
    {
     "data": {
      "text/plain": [
       "['casa', 'mono', 'cebra', 'tigre', 'elefante']"
      ]
     },
     "execution_count": 154,
     "metadata": {},
     "output_type": "execute_result"
    }
   ],
   "source": [
    "words"
   ]
  },
  {
   "cell_type": "markdown",
   "id": "4fe01313-d2d5-4f46-b30a-55ca835f39d7",
   "metadata": {},
   "source": [
    "### tuplas"
   ]
  },
  {
   "cell_type": "code",
   "execution_count": 155,
   "id": "b2199b1d-9512-4c54-afa6-c2e4f5fc9e1d",
   "metadata": {},
   "outputs": [
    {
     "name": "stdout",
     "output_type": "stream",
     "text": [
      "['__add__', '__class__', '__class_getitem__', '__contains__', '__delattr__', '__dir__', '__doc__', '__eq__', '__format__', '__ge__', '__getattribute__', '__getitem__', '__getnewargs__', '__getstate__', '__gt__', '__hash__', '__init__', '__init_subclass__', '__iter__', '__le__', '__len__', '__lt__', '__mul__', '__ne__', '__new__', '__reduce__', '__reduce_ex__', '__repr__', '__rmul__', '__setattr__', '__sizeof__', '__str__', '__subclasshook__', 'count', 'index']\n"
     ]
    }
   ],
   "source": [
    "print(dir(tuple))"
   ]
  },
  {
   "cell_type": "markdown",
   "id": "9c7402a7-f493-4921-ad82-14011aca4d50",
   "metadata": {},
   "source": [
    "### conjuntos"
   ]
  },
  {
   "cell_type": "code",
   "execution_count": 156,
   "id": "a0027d8f-ea65-498f-94be-025beab4717f",
   "metadata": {},
   "outputs": [
    {
     "name": "stdout",
     "output_type": "stream",
     "text": [
      "['__and__', '__class__', '__class_getitem__', '__contains__', '__delattr__', '__dir__', '__doc__', '__eq__', '__format__', '__ge__', '__getattribute__', '__getstate__', '__gt__', '__hash__', '__iand__', '__init__', '__init_subclass__', '__ior__', '__isub__', '__iter__', '__ixor__', '__le__', '__len__', '__lt__', '__ne__', '__new__', '__or__', '__rand__', '__reduce__', '__reduce_ex__', '__repr__', '__ror__', '__rsub__', '__rxor__', '__setattr__', '__sizeof__', '__str__', '__sub__', '__subclasshook__', '__xor__', 'add', 'clear', 'copy', 'difference', 'difference_update', 'discard', 'intersection', 'intersection_update', 'isdisjoint', 'issubset', 'issuperset', 'pop', 'remove', 'symmetric_difference', 'symmetric_difference_update', 'union', 'update']\n"
     ]
    }
   ],
   "source": [
    "print(dir(set))"
   ]
  },
  {
   "cell_type": "code",
   "execution_count": 157,
   "id": "cb582bc8-9f2c-4b6b-9e83-1c6505a70023",
   "metadata": {},
   "outputs": [],
   "source": [
    "a = {\"a\", \"b\", \"c\"}\n",
    "b = {\"c\", \"d\", \"e\"}"
   ]
  },
  {
   "cell_type": "code",
   "execution_count": 158,
   "id": "53f4f1d0-e575-4ee2-b02d-d14c87dbc0ae",
   "metadata": {},
   "outputs": [
    {
     "data": {
      "text/plain": [
       "{'a', 'b', 'c', 'd', 'e'}"
      ]
     },
     "execution_count": 158,
     "metadata": {},
     "output_type": "execute_result"
    }
   ],
   "source": [
    "a.union(b)"
   ]
  },
  {
   "cell_type": "code",
   "execution_count": 159,
   "id": "6c378530-5f14-4cd7-bc4f-15bcde7a11f9",
   "metadata": {},
   "outputs": [
    {
     "data": {
      "text/plain": [
       "{'c'}"
      ]
     },
     "execution_count": 159,
     "metadata": {},
     "output_type": "execute_result"
    }
   ],
   "source": [
    "a.intersection(b)"
   ]
  },
  {
   "cell_type": "code",
   "execution_count": 160,
   "id": "1c6fe8fa-59ee-41e7-9e8e-01d2df33ff87",
   "metadata": {},
   "outputs": [
    {
     "data": {
      "text/plain": [
       "{'a', 'b', 'd', 'e'}"
      ]
     },
     "execution_count": 160,
     "metadata": {},
     "output_type": "execute_result"
    }
   ],
   "source": [
    "a.symmetric_difference(b)"
   ]
  },
  {
   "cell_type": "code",
   "execution_count": 161,
   "id": "8098577f-d5ec-4df4-a41e-ed8ec8e0905b",
   "metadata": {},
   "outputs": [
    {
     "data": {
      "text/plain": [
       "False"
      ]
     },
     "execution_count": 161,
     "metadata": {},
     "output_type": "execute_result"
    }
   ],
   "source": [
    "a.issubset(b)"
   ]
  },
  {
   "cell_type": "code",
   "execution_count": 162,
   "id": "a1d770c8-5de9-469e-b055-d1f2c1ea10db",
   "metadata": {},
   "outputs": [
    {
     "data": {
      "text/plain": [
       "{'a', 'b', 'c'}"
      ]
     },
     "execution_count": 162,
     "metadata": {},
     "output_type": "execute_result"
    }
   ],
   "source": [
    "a"
   ]
  },
  {
   "cell_type": "code",
   "execution_count": 163,
   "id": "66d8a334-5623-458e-831c-f36929738486",
   "metadata": {},
   "outputs": [
    {
     "data": {
      "text/plain": [
       "True"
      ]
     },
     "execution_count": 163,
     "metadata": {},
     "output_type": "execute_result"
    }
   ],
   "source": [
    "{\"a\", \"c\"}.issubset(a)"
   ]
  },
  {
   "cell_type": "code",
   "execution_count": 164,
   "id": "f2fed806-9810-4881-9cc3-463fdde72948",
   "metadata": {},
   "outputs": [
    {
     "data": {
      "text/plain": [
       "{'a', 'b', 'c'}"
      ]
     },
     "execution_count": 164,
     "metadata": {},
     "output_type": "execute_result"
    }
   ],
   "source": [
    "a"
   ]
  },
  {
   "cell_type": "code",
   "execution_count": 165,
   "id": "e9108217-b606-4f57-937a-fd581405334d",
   "metadata": {},
   "outputs": [
    {
     "data": {
      "text/plain": [
       "{'c', 'd', 'e'}"
      ]
     },
     "execution_count": 165,
     "metadata": {},
     "output_type": "execute_result"
    }
   ],
   "source": [
    "b"
   ]
  },
  {
   "cell_type": "code",
   "execution_count": 166,
   "id": "ba397427-810a-4a35-9670-6745d1a3bb0d",
   "metadata": {},
   "outputs": [
    {
     "data": {
      "text/plain": [
       "{'a', 'b', 'c', 'd', 'e'}"
      ]
     },
     "execution_count": 166,
     "metadata": {},
     "output_type": "execute_result"
    }
   ],
   "source": [
    "a.union(b)"
   ]
  },
  {
   "cell_type": "code",
   "execution_count": 167,
   "id": "ae4255d9-a06f-4434-b0ce-e762df6e97c6",
   "metadata": {},
   "outputs": [
    {
     "data": {
      "text/plain": [
       "{'a', 'b', 'c'}"
      ]
     },
     "execution_count": 167,
     "metadata": {},
     "output_type": "execute_result"
    }
   ],
   "source": [
    "a"
   ]
  },
  {
   "cell_type": "code",
   "execution_count": 168,
   "id": "3cbba04a-35df-4ff5-be94-e91e2a5747b1",
   "metadata": {},
   "outputs": [],
   "source": [
    "a.update(b)"
   ]
  },
  {
   "cell_type": "code",
   "execution_count": 169,
   "id": "7ebf3039-355e-42e8-83c3-0e0cf0641bad",
   "metadata": {},
   "outputs": [
    {
     "data": {
      "text/plain": [
       "{'a', 'b', 'c', 'd', 'e'}"
      ]
     },
     "execution_count": 169,
     "metadata": {},
     "output_type": "execute_result"
    }
   ],
   "source": [
    "a"
   ]
  },
  {
   "cell_type": "code",
   "execution_count": 170,
   "id": "81867c0d-181c-4a49-8364-e20a7316d158",
   "metadata": {},
   "outputs": [],
   "source": [
    "a.add(\"f\")"
   ]
  },
  {
   "cell_type": "code",
   "execution_count": 171,
   "id": "5f32df9f-dea0-4981-9726-b05c4d44b2c2",
   "metadata": {},
   "outputs": [
    {
     "data": {
      "text/plain": [
       "{'a', 'b', 'c', 'd', 'e', 'f'}"
      ]
     },
     "execution_count": 171,
     "metadata": {},
     "output_type": "execute_result"
    }
   ],
   "source": [
    "a"
   ]
  },
  {
   "cell_type": "code",
   "execution_count": 172,
   "id": "f5c9d8e0-67b7-477e-b7fc-c8db321c1393",
   "metadata": {},
   "outputs": [
    {
     "name": "stdout",
     "output_type": "stream",
     "text": [
      "Help on built-in function pop:\n",
      "\n",
      "pop(...) method of builtins.set instance\n",
      "    Remove and return an arbitrary set element.\n",
      "    Raises KeyError if the set is empty.\n",
      "\n"
     ]
    }
   ],
   "source": [
    "help(a.pop)"
   ]
  },
  {
   "cell_type": "code",
   "execution_count": 173,
   "id": "df668a66-12c2-405e-9305-a59940749b53",
   "metadata": {},
   "outputs": [
    {
     "data": {
      "text/plain": [
       "'d'"
      ]
     },
     "execution_count": 173,
     "metadata": {},
     "output_type": "execute_result"
    }
   ],
   "source": [
    "a.pop()"
   ]
  },
  {
   "cell_type": "code",
   "execution_count": 174,
   "id": "b20dcdab-9cb7-4ef9-999a-2943177462b4",
   "metadata": {},
   "outputs": [
    {
     "data": {
      "text/plain": [
       "'b'"
      ]
     },
     "execution_count": 174,
     "metadata": {},
     "output_type": "execute_result"
    }
   ],
   "source": [
    "a.pop()"
   ]
  },
  {
   "cell_type": "code",
   "execution_count": 175,
   "id": "f5eb7a6c-2f43-4db9-8447-f5a4b643c7f2",
   "metadata": {},
   "outputs": [
    {
     "name": "stdout",
     "output_type": "stream",
     "text": [
      "Help on built-in function remove:\n",
      "\n",
      "remove(...) method of builtins.set instance\n",
      "    Remove an element from a set; it must be a member.\n",
      "    \n",
      "    If the element is not a member, raise a KeyError.\n",
      "\n"
     ]
    }
   ],
   "source": [
    "help(a.remove)"
   ]
  },
  {
   "cell_type": "code",
   "execution_count": 176,
   "id": "1d7a59c8-595f-4ebc-9e27-1ca90e3b683f",
   "metadata": {},
   "outputs": [
    {
     "data": {
      "text/plain": [
       "{'a', 'c', 'e', 'f'}"
      ]
     },
     "execution_count": 176,
     "metadata": {},
     "output_type": "execute_result"
    }
   ],
   "source": [
    "a"
   ]
  },
  {
   "cell_type": "code",
   "execution_count": 177,
   "id": "b27609b9-8c01-4ac2-ac68-c8aa3c952014",
   "metadata": {},
   "outputs": [
    {
     "name": "stdout",
     "output_type": "stream",
     "text": [
      "Error\n"
     ]
    }
   ],
   "source": [
    "try:\n",
    "    a.remove(\"d\")\n",
    "except:\n",
    "    print(\"Error\")"
   ]
  },
  {
   "cell_type": "code",
   "execution_count": 178,
   "id": "77132235-fcd6-432e-aa1c-c770c264dd5b",
   "metadata": {},
   "outputs": [
    {
     "data": {
      "text/plain": [
       "{'a', 'c', 'e', 'f'}"
      ]
     },
     "execution_count": 178,
     "metadata": {},
     "output_type": "execute_result"
    }
   ],
   "source": [
    "a"
   ]
  },
  {
   "cell_type": "code",
   "execution_count": 179,
   "id": "c5fdaf80-7d5b-4586-a77c-b87d5f736fee",
   "metadata": {},
   "outputs": [
    {
     "name": "stdout",
     "output_type": "stream",
     "text": [
      "Error\n"
     ]
    }
   ],
   "source": [
    "try:\n",
    "    a.remove(\"x\")\n",
    "except:\n",
    "    print(\"Error\")"
   ]
  },
  {
   "cell_type": "code",
   "execution_count": 180,
   "id": "c92075fb-08db-49a6-bc0f-fe8479ceeb0f",
   "metadata": {},
   "outputs": [],
   "source": [
    "if \"x\" in a:\n",
    "    a.remove(\"x\")"
   ]
  },
  {
   "cell_type": "code",
   "execution_count": 181,
   "id": "a91f38eb-9c59-403c-a458-2b67c231743a",
   "metadata": {},
   "outputs": [
    {
     "name": "stdout",
     "output_type": "stream",
     "text": [
      "Help on built-in function discard:\n",
      "\n",
      "discard(...) method of builtins.set instance\n",
      "    Remove an element from a set if it is a member.\n",
      "    \n",
      "    Unlike set.remove(), the discard() method does not raise\n",
      "    an exception when an element is missing from the set.\n",
      "\n"
     ]
    }
   ],
   "source": [
    "help(a.discard)"
   ]
  },
  {
   "cell_type": "code",
   "execution_count": 182,
   "id": "5f38519d-8799-49ed-b5dc-8ddd406217d1",
   "metadata": {},
   "outputs": [],
   "source": [
    "a.discard(\"x\")"
   ]
  },
  {
   "cell_type": "code",
   "execution_count": 183,
   "id": "817e8ed6-344e-4a33-8037-f92f4b38cd83",
   "metadata": {},
   "outputs": [
    {
     "data": {
      "text/plain": [
       "{'a', 'c', 'e', 'f'}"
      ]
     },
     "execution_count": 183,
     "metadata": {},
     "output_type": "execute_result"
    }
   ],
   "source": [
    "a"
   ]
  },
  {
   "cell_type": "code",
   "execution_count": 184,
   "id": "ac49ffc3-09e1-44b1-919f-708aa7e9fa9c",
   "metadata": {},
   "outputs": [],
   "source": [
    "a.discard(\"e\")"
   ]
  },
  {
   "cell_type": "code",
   "execution_count": 185,
   "id": "2dba87ee-0dc4-455f-b15a-3ed95b3fc69e",
   "metadata": {},
   "outputs": [
    {
     "data": {
      "text/plain": [
       "{'a', 'c', 'f'}"
      ]
     },
     "execution_count": 185,
     "metadata": {},
     "output_type": "execute_result"
    }
   ],
   "source": [
    "a"
   ]
  },
  {
   "cell_type": "markdown",
   "id": "928eec07-2c37-49c8-a018-a2cbe2b82c06",
   "metadata": {},
   "source": [
    "### diccionarios"
   ]
  },
  {
   "cell_type": "code",
   "execution_count": 186,
   "id": "b65bf098-2264-4c72-a4c1-110e43247555",
   "metadata": {},
   "outputs": [
    {
     "name": "stdout",
     "output_type": "stream",
     "text": [
      "['__class__', '__class_getitem__', '__contains__', '__delattr__', '__delitem__', '__dir__', '__doc__', '__eq__', '__format__', '__ge__', '__getattribute__', '__getitem__', '__getstate__', '__gt__', '__hash__', '__init__', '__init_subclass__', '__ior__', '__iter__', '__le__', '__len__', '__lt__', '__ne__', '__new__', '__or__', '__reduce__', '__reduce_ex__', '__repr__', '__reversed__', '__ror__', '__setattr__', '__setitem__', '__sizeof__', '__str__', '__subclasshook__', 'clear', 'copy', 'fromkeys', 'get', 'items', 'keys', 'pop', 'popitem', 'setdefault', 'update', 'values']\n"
     ]
    }
   ],
   "source": [
    "print(dir(dict))"
   ]
  },
  {
   "cell_type": "code",
   "execution_count": 187,
   "id": "4cd92735-cff9-4644-a41f-6d09a7c732c1",
   "metadata": {},
   "outputs": [],
   "source": [
    "a = dict(ene = 31, feb = 28, mar = 31, abr = 30)"
   ]
  },
  {
   "cell_type": "code",
   "execution_count": 188,
   "id": "88603b2b-d5c9-4064-9a45-764da6495a72",
   "metadata": {},
   "outputs": [
    {
     "data": {
      "text/plain": [
       "{'ene': 31, 'feb': 28, 'mar': 31, 'abr': 30}"
      ]
     },
     "execution_count": 188,
     "metadata": {},
     "output_type": "execute_result"
    }
   ],
   "source": [
    "a"
   ]
  },
  {
   "cell_type": "code",
   "execution_count": 189,
   "id": "0579d9a1-9695-4883-bcbe-cd846f9f4f1e",
   "metadata": {},
   "outputs": [
    {
     "data": {
      "text/plain": [
       "31"
      ]
     },
     "execution_count": 189,
     "metadata": {},
     "output_type": "execute_result"
    }
   ],
   "source": [
    "a[\"mar\"]"
   ]
  },
  {
   "cell_type": "code",
   "execution_count": 190,
   "id": "f26fd4e4-d449-4841-bd7d-f8c14af4862c",
   "metadata": {},
   "outputs": [],
   "source": [
    "a[\"may\"] = 31"
   ]
  },
  {
   "cell_type": "code",
   "execution_count": 191,
   "id": "a786d319-2c73-46aa-8332-aabd94419721",
   "metadata": {},
   "outputs": [
    {
     "data": {
      "text/plain": [
       "{'ene': 31, 'feb': 28, 'mar': 31, 'abr': 30, 'may': 31}"
      ]
     },
     "execution_count": 191,
     "metadata": {},
     "output_type": "execute_result"
    }
   ],
   "source": [
    "a"
   ]
  },
  {
   "cell_type": "code",
   "execution_count": 192,
   "id": "cb46572e-1ea6-412d-b367-65fd6a104c52",
   "metadata": {},
   "outputs": [
    {
     "name": "stdout",
     "output_type": "stream",
     "text": [
      "Help on built-in function get:\n",
      "\n",
      "get(key, default=None, /) method of builtins.dict instance\n",
      "    Return the value for key if key is in the dictionary, else default.\n",
      "\n"
     ]
    }
   ],
   "source": [
    "help(a.get)"
   ]
  },
  {
   "cell_type": "code",
   "execution_count": 193,
   "id": "cd239e51-2dea-486b-bb99-8d1df3098293",
   "metadata": {},
   "outputs": [],
   "source": [
    "a.get(\"jun\")"
   ]
  },
  {
   "cell_type": "code",
   "execution_count": 194,
   "id": "06a86c7b-8a31-489f-a458-8089b04fd916",
   "metadata": {},
   "outputs": [
    {
     "data": {
      "text/plain": [
       "'No existe'"
      ]
     },
     "execution_count": 194,
     "metadata": {},
     "output_type": "execute_result"
    }
   ],
   "source": [
    "a.get(\"jun\", \"No existe\")"
   ]
  },
  {
   "cell_type": "code",
   "execution_count": 195,
   "id": "528860be-2632-4655-81e0-6cf20d619b96",
   "metadata": {},
   "outputs": [
    {
     "data": {
      "text/plain": [
       "{'ene': 31, 'feb': 28, 'mar': 31, 'abr': 30, 'may': 31}"
      ]
     },
     "execution_count": 195,
     "metadata": {},
     "output_type": "execute_result"
    }
   ],
   "source": [
    "a"
   ]
  },
  {
   "cell_type": "code",
   "execution_count": 196,
   "id": "e8a3108a-8e53-48a2-988a-6f54d9cdbbaf",
   "metadata": {},
   "outputs": [
    {
     "data": {
      "text/plain": [
       "dict_keys(['ene', 'feb', 'mar', 'abr', 'may'])"
      ]
     },
     "execution_count": 196,
     "metadata": {},
     "output_type": "execute_result"
    }
   ],
   "source": [
    "a.keys()"
   ]
  },
  {
   "cell_type": "code",
   "execution_count": 197,
   "id": "4b4ea250-cb0f-4480-9e3b-7188b6a36fe9",
   "metadata": {},
   "outputs": [
    {
     "data": {
      "text/plain": [
       "dict_keys"
      ]
     },
     "execution_count": 197,
     "metadata": {},
     "output_type": "execute_result"
    }
   ],
   "source": [
    "type(a.keys())"
   ]
  },
  {
   "cell_type": "code",
   "execution_count": 198,
   "id": "d2a496f6-9741-471a-a444-469ecbb04918",
   "metadata": {},
   "outputs": [],
   "source": [
    "# a.keys()[0] No funciona"
   ]
  },
  {
   "cell_type": "code",
   "execution_count": 199,
   "id": "eb127e9a-7552-4a71-bbfc-e28d45926286",
   "metadata": {},
   "outputs": [
    {
     "name": "stdout",
     "output_type": "stream",
     "text": [
      "['__and__', '__class__', '__contains__', '__delattr__', '__dir__', '__doc__', '__eq__', '__format__', '__ge__', '__getattribute__', '__getstate__', '__gt__', '__hash__', '__init__', '__init_subclass__', '__iter__', '__le__', '__len__', '__lt__', '__ne__', '__new__', '__or__', '__rand__', '__reduce__', '__reduce_ex__', '__repr__', '__reversed__', '__ror__', '__rsub__', '__rxor__', '__setattr__', '__sizeof__', '__str__', '__sub__', '__subclasshook__', '__xor__', 'isdisjoint', 'mapping']\n"
     ]
    }
   ],
   "source": [
    "print(dir(a.keys()))"
   ]
  },
  {
   "cell_type": "code",
   "execution_count": 200,
   "id": "95a94793-98b0-4e9f-880f-672a95c912d9",
   "metadata": {},
   "outputs": [
    {
     "name": "stdout",
     "output_type": "stream",
     "text": [
      "ene\n",
      "feb\n",
      "mar\n",
      "abr\n",
      "may\n"
     ]
    }
   ],
   "source": [
    "for mes in a.keys():\n",
    "    print(mes)"
   ]
  },
  {
   "cell_type": "code",
   "execution_count": 201,
   "id": "9e784890-ba7a-4a42-8aab-f1c18419e188",
   "metadata": {},
   "outputs": [
    {
     "data": {
      "text/plain": [
       "dict_values([31, 28, 31, 30, 31])"
      ]
     },
     "execution_count": 201,
     "metadata": {},
     "output_type": "execute_result"
    }
   ],
   "source": [
    "a.values()"
   ]
  },
  {
   "cell_type": "code",
   "execution_count": 202,
   "id": "e24f6b49-aed9-408b-8e3a-edf53a620df6",
   "metadata": {},
   "outputs": [
    {
     "name": "stdout",
     "output_type": "stream",
     "text": [
      "31\n",
      "28\n",
      "31\n",
      "30\n",
      "31\n"
     ]
    }
   ],
   "source": [
    "for dias in a.values():\n",
    "    print(dias)"
   ]
  },
  {
   "cell_type": "code",
   "execution_count": 203,
   "id": "6bb8442d-d3b8-44c3-86b4-b87da304d8d9",
   "metadata": {},
   "outputs": [
    {
     "name": "stdout",
     "output_type": "stream",
     "text": [
      "Help on built-in function items:\n",
      "\n",
      "items(...) method of builtins.dict instance\n",
      "    D.items() -> a set-like object providing a view on D's items\n",
      "\n"
     ]
    }
   ],
   "source": [
    "help(a.items)"
   ]
  },
  {
   "cell_type": "code",
   "execution_count": 204,
   "id": "ca199820-a80e-45fd-abf2-3c88fcd9eabb",
   "metadata": {},
   "outputs": [
    {
     "data": {
      "text/plain": [
       "dict_items([('ene', 31), ('feb', 28), ('mar', 31), ('abr', 30), ('may', 31)])"
      ]
     },
     "execution_count": 204,
     "metadata": {},
     "output_type": "execute_result"
    }
   ],
   "source": [
    "a.items()"
   ]
  },
  {
   "cell_type": "code",
   "execution_count": 205,
   "id": "21cb36a4-5ab4-4860-a63f-b32f00fc2c12",
   "metadata": {},
   "outputs": [
    {
     "name": "stdout",
     "output_type": "stream",
     "text": [
      "('ene', 31)\n",
      "('feb', 28)\n",
      "('mar', 31)\n",
      "('abr', 30)\n",
      "('may', 31)\n"
     ]
    }
   ],
   "source": [
    "for item in a.items():\n",
    "    print(item)"
   ]
  },
  {
   "cell_type": "code",
   "execution_count": 206,
   "id": "901b2986-e6ee-40a6-99bd-a098a0156221",
   "metadata": {},
   "outputs": [],
   "source": [
    "b = (2, 3)"
   ]
  },
  {
   "cell_type": "code",
   "execution_count": 207,
   "id": "9b93ba38-7023-46d6-9a75-e02daefa9939",
   "metadata": {},
   "outputs": [
    {
     "data": {
      "text/plain": [
       "(2, 3)"
      ]
     },
     "execution_count": 207,
     "metadata": {},
     "output_type": "execute_result"
    }
   ],
   "source": [
    "b"
   ]
  },
  {
   "cell_type": "code",
   "execution_count": 208,
   "id": "356297cc-c887-495e-b79b-3a3890854432",
   "metadata": {},
   "outputs": [
    {
     "name": "stdout",
     "output_type": "stream",
     "text": [
      "Círculo eliminado\n"
     ]
    }
   ],
   "source": [
    "b, c = (2, 3)"
   ]
  },
  {
   "cell_type": "code",
   "execution_count": 209,
   "id": "454bffe5-7c7b-42a6-87ab-376e5e89a67a",
   "metadata": {},
   "outputs": [
    {
     "data": {
      "text/plain": [
       "2"
      ]
     },
     "execution_count": 209,
     "metadata": {},
     "output_type": "execute_result"
    }
   ],
   "source": [
    "b"
   ]
  },
  {
   "cell_type": "code",
   "execution_count": 210,
   "id": "1d4ca7f4-a111-4f1b-a630-024a1fcb306b",
   "metadata": {},
   "outputs": [
    {
     "data": {
      "text/plain": [
       "3"
      ]
     },
     "execution_count": 210,
     "metadata": {},
     "output_type": "execute_result"
    }
   ],
   "source": [
    "c"
   ]
  },
  {
   "cell_type": "code",
   "execution_count": 211,
   "id": "5891c723-f103-4b1b-8df6-e28eba5b56c5",
   "metadata": {},
   "outputs": [
    {
     "name": "stdout",
     "output_type": "stream",
     "text": [
      "ene 31\n",
      "feb 28\n",
      "mar 31\n",
      "abr 30\n",
      "may 31\n"
     ]
    }
   ],
   "source": [
    "for key, value in a.items():\n",
    "    print(key, value)"
   ]
  },
  {
   "cell_type": "code",
   "execution_count": 212,
   "id": "5e72b7b2-52cc-40db-aed6-b4871dc1209e",
   "metadata": {},
   "outputs": [
    {
     "name": "stdin",
     "output_type": "stream",
     "text": [
      "Introduce un nombre de usuario Daniel\n",
      "Introduce un nombre de usuario José\n",
      "Introduce un nombre de usuario Susana\n",
      "Introduce un nombre de usuario exit\n"
     ]
    }
   ],
   "source": [
    "nombres = []\n",
    "nombre = \"\"\n",
    "while nombre != \"exit\":\n",
    "    nombre = input(\"Introduce un nombre de usuario\")\n",
    "    if nombre != \"exit\":\n",
    "        nombres.append(nombre)"
   ]
  },
  {
   "cell_type": "code",
   "execution_count": 213,
   "id": "26f02684-9588-4124-8b45-ad15e80077c6",
   "metadata": {},
   "outputs": [
    {
     "data": {
      "text/plain": [
       "['Daniel', 'José', 'Susana']"
      ]
     },
     "execution_count": 213,
     "metadata": {},
     "output_type": "execute_result"
    }
   ],
   "source": [
    "nombres"
   ]
  },
  {
   "cell_type": "code",
   "execution_count": 214,
   "id": "686b5568-f1f2-4872-8e40-74cd6f04ac17",
   "metadata": {},
   "outputs": [
    {
     "name": "stdout",
     "output_type": "stream",
     "text": [
      "0\n",
      "1\n",
      "2\n",
      "3\n",
      "4\n"
     ]
    }
   ],
   "source": [
    "for n in range(8):\n",
    "    if n == 5:\n",
    "        break\n",
    "    print(n)"
   ]
  },
  {
   "cell_type": "code",
   "execution_count": 215,
   "id": "253f4c82-f50a-4d62-898b-7375d2af01de",
   "metadata": {},
   "outputs": [
    {
     "name": "stdout",
     "output_type": "stream",
     "text": [
      "0\n",
      "1\n",
      "2\n",
      "3\n",
      "4\n",
      "6\n",
      "7\n"
     ]
    }
   ],
   "source": [
    "for n in range(8):\n",
    "    if n == 5:\n",
    "        continue\n",
    "    print(n)"
   ]
  }
 ],
 "metadata": {
  "kernelspec": {
   "display_name": "Python 3 (ipykernel)",
   "language": "python",
   "name": "python3"
  },
  "language_info": {
   "codemirror_mode": {
    "name": "ipython",
    "version": 3
   },
   "file_extension": ".py",
   "mimetype": "text/x-python",
   "name": "python",
   "nbconvert_exporter": "python",
   "pygments_lexer": "ipython3",
   "version": "3.11.7"
  }
 },
 "nbformat": 4,
 "nbformat_minor": 5
}
