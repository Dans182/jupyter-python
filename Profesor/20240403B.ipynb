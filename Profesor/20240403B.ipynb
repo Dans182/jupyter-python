{
 "cells": [
  {
   "cell_type": "markdown",
   "id": "750fc838-e8c0-426e-8553-48847aaf2925",
   "metadata": {},
   "source": [
    "# Espacios de nombres (namespaces)"
   ]
  },
  {
   "cell_type": "code",
   "execution_count": 1,
   "id": "436bf14f-7ab3-4869-bcd5-461629f40839",
   "metadata": {},
   "outputs": [
    {
     "name": "stdout",
     "output_type": "stream",
     "text": [
      "['In', 'Out', '_', '__', '___', '__builtin__', '__builtins__', '__doc__', '__loader__', '__name__', '__package__', '__session__', '__spec__', '_dh', '_i', '_i1', '_ih', '_ii', '_iii', '_oh', 'exit', 'get_ipython', 'open', 'quit']\n"
     ]
    }
   ],
   "source": [
    "print(dir())"
   ]
  },
  {
   "cell_type": "code",
   "execution_count": 2,
   "id": "c5361433-00f0-4c97-8655-5d4cad9f24da",
   "metadata": {},
   "outputs": [],
   "source": [
    "a = 4"
   ]
  },
  {
   "cell_type": "code",
   "execution_count": 3,
   "id": "77c71345-d2fa-4711-b14c-2e5c84fef2ae",
   "metadata": {},
   "outputs": [
    {
     "name": "stdout",
     "output_type": "stream",
     "text": [
      "['In', 'Out', '_', '__', '___', '__builtin__', '__builtins__', '__doc__', '__loader__', '__name__', '__package__', '__session__', '__spec__', '_dh', '_i', '_i1', '_i2', '_i3', '_ih', '_ii', '_iii', '_oh', 'a', 'exit', 'get_ipython', 'open', 'quit']\n"
     ]
    }
   ],
   "source": [
    "print(dir())"
   ]
  },
  {
   "cell_type": "code",
   "execution_count": 4,
   "id": "3388cc7e-d0c6-4237-b18a-d3ed8f050b06",
   "metadata": {},
   "outputs": [],
   "source": [
    "def pi():\n",
    "    return 3.141592"
   ]
  },
  {
   "cell_type": "code",
   "execution_count": 5,
   "id": "1049418c-6e9b-4c9d-9d3c-9a4c66a4d731",
   "metadata": {},
   "outputs": [
    {
     "name": "stdout",
     "output_type": "stream",
     "text": [
      "['In', 'Out', '_', '__', '___', '__builtin__', '__builtins__', '__doc__', '__loader__', '__name__', '__package__', '__session__', '__spec__', '_dh', '_i', '_i1', '_i2', '_i3', '_i4', '_i5', '_ih', '_ii', '_iii', '_oh', 'a', 'exit', 'get_ipython', 'open', 'pi', 'quit']\n"
     ]
    }
   ],
   "source": [
    "print(dir())"
   ]
  },
  {
   "cell_type": "code",
   "execution_count": 6,
   "id": "57821b27-2680-42ee-aac6-c755dae9a353",
   "metadata": {},
   "outputs": [],
   "source": [
    "import matematicas"
   ]
  },
  {
   "cell_type": "code",
   "execution_count": 7,
   "id": "4c1776fc-540d-43e9-884f-a2f286ab41e4",
   "metadata": {},
   "outputs": [
    {
     "name": "stdout",
     "output_type": "stream",
     "text": [
      "['In', 'Out', '_', '__', '___', '__builtin__', '__builtins__', '__doc__', '__loader__', '__name__', '__package__', '__session__', '__spec__', '_dh', '_i', '_i1', '_i2', '_i3', '_i4', '_i5', '_i6', '_i7', '_ih', '_ii', '_iii', '_oh', 'a', 'exit', 'get_ipython', 'matematicas', 'open', 'pi', 'quit']\n"
     ]
    }
   ],
   "source": [
    "print(dir())"
   ]
  },
  {
   "cell_type": "code",
   "execution_count": 8,
   "id": "a3d906ea-d320-49ac-84d5-fe70a09ed5a6",
   "metadata": {},
   "outputs": [
    {
     "name": "stdout",
     "output_type": "stream",
     "text": [
      "['__builtins__', '__cached__', '__doc__', '__file__', '__loader__', '__name__', '__package__', '__spec__', 'multiplica', 'pi', 'suma']\n"
     ]
    }
   ],
   "source": [
    "print(dir(matematicas))"
   ]
  },
  {
   "cell_type": "code",
   "execution_count": 9,
   "id": "da2aa4cd-f6b3-4f54-8420-4c6bb1e3b788",
   "metadata": {},
   "outputs": [],
   "source": [
    "def suma(a, b):\n",
    "    return a + b"
   ]
  },
  {
   "cell_type": "code",
   "execution_count": 10,
   "id": "3c4231a4-4021-4c3a-80b7-1dbc68775e74",
   "metadata": {},
   "outputs": [
    {
     "name": "stdout",
     "output_type": "stream",
     "text": [
      "['ArithmeticError', 'AssertionError', 'AttributeError', 'BaseException', 'BaseExceptionGroup', 'BlockingIOError', 'BrokenPipeError', 'BufferError', 'BytesWarning', 'ChildProcessError', 'ConnectionAbortedError', 'ConnectionError', 'ConnectionRefusedError', 'ConnectionResetError', 'DeprecationWarning', 'EOFError', 'Ellipsis', 'EncodingWarning', 'EnvironmentError', 'Exception', 'ExceptionGroup', 'False', 'FileExistsError', 'FileNotFoundError', 'FloatingPointError', 'FutureWarning', 'GeneratorExit', 'IOError', 'ImportError', 'ImportWarning', 'IndentationError', 'IndexError', 'InterruptedError', 'IsADirectoryError', 'KeyError', 'KeyboardInterrupt', 'LookupError', 'MemoryError', 'ModuleNotFoundError', 'NameError', 'None', 'NotADirectoryError', 'NotImplemented', 'NotImplementedError', 'OSError', 'OverflowError', 'PendingDeprecationWarning', 'PermissionError', 'ProcessLookupError', 'RecursionError', 'ReferenceError', 'ResourceWarning', 'RuntimeError', 'RuntimeWarning', 'StopAsyncIteration', 'StopIteration', 'SyntaxError', 'SyntaxWarning', 'SystemError', 'SystemExit', 'TabError', 'TimeoutError', 'True', 'TypeError', 'UnboundLocalError', 'UnicodeDecodeError', 'UnicodeEncodeError', 'UnicodeError', 'UnicodeTranslateError', 'UnicodeWarning', 'UserWarning', 'ValueError', 'Warning', 'WindowsError', 'ZeroDivisionError', '__IPYTHON__', '__build_class__', '__debug__', '__doc__', '__import__', '__loader__', '__name__', '__package__', '__spec__', 'abs', 'aiter', 'all', 'anext', 'any', 'ascii', 'bin', 'bool', 'breakpoint', 'bytearray', 'bytes', 'callable', 'chr', 'classmethod', 'compile', 'complex', 'copyright', 'credits', 'delattr', 'dict', 'dir', 'display', 'divmod', 'enumerate', 'eval', 'exec', 'execfile', 'filter', 'float', 'format', 'frozenset', 'get_ipython', 'getattr', 'globals', 'hasattr', 'hash', 'help', 'hex', 'id', 'input', 'int', 'isinstance', 'issubclass', 'iter', 'len', 'license', 'list', 'locals', 'map', 'max', 'memoryview', 'min', 'next', 'object', 'oct', 'open', 'ord', 'pow', 'print', 'property', 'range', 'repr', 'reversed', 'round', 'runfile', 'set', 'setattr', 'slice', 'sorted', 'staticmethod', 'str', 'sum', 'super', 'tuple', 'type', 'vars', 'zip']\n"
     ]
    }
   ],
   "source": [
    "print(dir(__builtins__))"
   ]
  },
  {
   "cell_type": "markdown",
   "id": "75e27ec4-d0d8-45f5-9d65-5f2b3847d920",
   "metadata": {},
   "source": [
    "# Programación Orientada a Objetos (OOP)"
   ]
  },
  {
   "cell_type": "code",
   "execution_count": 11,
   "id": "09d0e951-0b3a-4301-9f3e-3786c8a9d192",
   "metadata": {},
   "outputs": [],
   "source": [
    "a = 6\n",
    "b = 3"
   ]
  },
  {
   "cell_type": "code",
   "execution_count": 12,
   "id": "08ffef40-f6a1-4841-b4ed-42b2310eecc4",
   "metadata": {},
   "outputs": [
    {
     "data": {
      "text/plain": [
       "9"
      ]
     },
     "execution_count": 12,
     "metadata": {},
     "output_type": "execute_result"
    }
   ],
   "source": [
    "a + b"
   ]
  },
  {
   "cell_type": "code",
   "execution_count": 13,
   "id": "affa9d6d-4f89-460a-99dd-248c926c9133",
   "metadata": {},
   "outputs": [],
   "source": [
    "c = \"python\""
   ]
  },
  {
   "cell_type": "code",
   "execution_count": 14,
   "id": "0a9c7329-be0d-4f9f-83f8-a58e2cfc66dc",
   "metadata": {},
   "outputs": [
    {
     "data": {
      "text/plain": [
       "6"
      ]
     },
     "execution_count": 14,
     "metadata": {},
     "output_type": "execute_result"
    }
   ],
   "source": [
    "len(c)"
   ]
  },
  {
   "cell_type": "code",
   "execution_count": 15,
   "id": "5cb14fdd-d4ca-42e6-b367-77eaf1599705",
   "metadata": {},
   "outputs": [],
   "source": [
    "persona1 = \"Daniel\"\n",
    "edad1 = 53"
   ]
  },
  {
   "cell_type": "code",
   "execution_count": 16,
   "id": "538bedff-aac2-4879-b81a-87dd98a939aa",
   "metadata": {},
   "outputs": [],
   "source": [
    "persona1 = {\"nombre\": \"Daniel\", \"edad\": 53, \"departamento\": \"Ventas\"}\n",
    "persona2 = {\"nombre\": \"Alicia\", \"edad\": 43, \"departamento\": \"Mkt\"}"
   ]
  },
  {
   "cell_type": "code",
   "execution_count": 17,
   "id": "a0587d0e-66f0-4708-9475-303aa1b902d7",
   "metadata": {},
   "outputs": [],
   "source": [
    "marketing = {\"personas\": [\"Alicia\", \"Pepe\"]}"
   ]
  },
  {
   "cell_type": "markdown",
   "id": "9bbd4821-f3de-4520-9f9d-467b238a6e32",
   "metadata": {},
   "source": [
    "### Clases"
   ]
  },
  {
   "cell_type": "code",
   "execution_count": 18,
   "id": "4b0ea373-23f6-487d-98e4-6678fb62628c",
   "metadata": {},
   "outputs": [],
   "source": [
    "class Circulo:\n",
    "\n",
    "    pass"
   ]
  },
  {
   "cell_type": "code",
   "execution_count": 19,
   "id": "7192a105-e3bc-464f-97c2-841e337bc0eb",
   "metadata": {},
   "outputs": [
    {
     "name": "stdout",
     "output_type": "stream",
     "text": [
      "['Circulo', 'In', 'Out', '_', '_12', '_14', '__', '___', '__builtin__', '__builtins__', '__doc__', '__loader__', '__name__', '__package__', '__session__', '__spec__', '_dh', '_i', '_i1', '_i10', '_i11', '_i12', '_i13', '_i14', '_i15', '_i16', '_i17', '_i18', '_i19', '_i2', '_i3', '_i4', '_i5', '_i6', '_i7', '_i8', '_i9', '_ih', '_ii', '_iii', '_oh', 'a', 'b', 'c', 'edad1', 'exit', 'get_ipython', 'marketing', 'matematicas', 'open', 'persona1', 'persona2', 'pi', 'quit', 'suma']\n"
     ]
    }
   ],
   "source": [
    "print(dir())"
   ]
  },
  {
   "cell_type": "code",
   "execution_count": 20,
   "id": "666685bd-877f-4109-a01a-184a27a2594e",
   "metadata": {},
   "outputs": [
    {
     "name": "stdout",
     "output_type": "stream",
     "text": [
      "['__class__', '__delattr__', '__dict__', '__dir__', '__doc__', '__eq__', '__format__', '__ge__', '__getattribute__', '__getstate__', '__gt__', '__hash__', '__init__', '__init_subclass__', '__le__', '__lt__', '__module__', '__ne__', '__new__', '__reduce__', '__reduce_ex__', '__repr__', '__setattr__', '__sizeof__', '__str__', '__subclasshook__', '__weakref__']\n"
     ]
    }
   ],
   "source": [
    "print(dir(Circulo))"
   ]
  },
  {
   "cell_type": "code",
   "execution_count": 21,
   "id": "cff3d322-db4f-43e2-a357-a10b5bd5ec4a",
   "metadata": {},
   "outputs": [],
   "source": [
    "b = [2, 3, 4]"
   ]
  },
  {
   "cell_type": "code",
   "execution_count": 22,
   "id": "e9baaf03-5c30-4364-a231-a6fc8994c851",
   "metadata": {},
   "outputs": [],
   "source": [
    "c1 = Circulo()"
   ]
  },
  {
   "cell_type": "code",
   "execution_count": 23,
   "id": "f259619c-35e8-4a45-8d33-cb3ecfe05df7",
   "metadata": {},
   "outputs": [
    {
     "data": {
      "text/plain": [
       "__main__.Circulo"
      ]
     },
     "execution_count": 23,
     "metadata": {},
     "output_type": "execute_result"
    }
   ],
   "source": [
    "type(c1)"
   ]
  },
  {
   "cell_type": "code",
   "execution_count": 24,
   "id": "c018c1ed-1ab7-4ae0-925a-4c96c650d984",
   "metadata": {},
   "outputs": [],
   "source": [
    "class Circulo:\n",
    "\n",
    "    def __init__(self):\n",
    "        print(\"Círculo creado\")"
   ]
  },
  {
   "cell_type": "code",
   "execution_count": 25,
   "id": "a138a2e8-adad-4a52-b33a-19ddccb72ce1",
   "metadata": {},
   "outputs": [
    {
     "name": "stdout",
     "output_type": "stream",
     "text": [
      "Círculo creado\n"
     ]
    }
   ],
   "source": [
    "c1 = Circulo()"
   ]
  },
  {
   "cell_type": "code",
   "execution_count": 26,
   "id": "3323afa8-fe4c-4521-ac7f-dbd12da2a6de",
   "metadata": {},
   "outputs": [],
   "source": [
    "class Circulo:\n",
    "\n",
    "    def __init__(self, radio):\n",
    "        self.radio = radio\n",
    "        print(\"Círculo creado\")"
   ]
  },
  {
   "cell_type": "code",
   "execution_count": 27,
   "id": "7beb99b5-5e9f-4c9c-890d-ae998454cc77",
   "metadata": {},
   "outputs": [
    {
     "name": "stdout",
     "output_type": "stream",
     "text": [
      "Círculo creado\n"
     ]
    }
   ],
   "source": [
    "c1 = Circulo(radio = 3)"
   ]
  },
  {
   "cell_type": "code",
   "execution_count": 28,
   "id": "33a6ee00-f305-43e4-b9f5-8c8a9f8daee1",
   "metadata": {},
   "outputs": [
    {
     "data": {
      "text/plain": [
       "3"
      ]
     },
     "execution_count": 28,
     "metadata": {},
     "output_type": "execute_result"
    }
   ],
   "source": [
    "c1.radio"
   ]
  },
  {
   "cell_type": "code",
   "execution_count": 29,
   "id": "d80758e3-1742-434f-9d49-129a6f443958",
   "metadata": {},
   "outputs": [
    {
     "name": "stdout",
     "output_type": "stream",
     "text": [
      "Círculo creado\n"
     ]
    }
   ],
   "source": [
    "c2 = Circulo(radio = 5)"
   ]
  },
  {
   "cell_type": "code",
   "execution_count": 30,
   "id": "a2517ca6-ca56-44ba-b59a-b8f6cf536156",
   "metadata": {},
   "outputs": [
    {
     "data": {
      "text/plain": [
       "5"
      ]
     },
     "execution_count": 30,
     "metadata": {},
     "output_type": "execute_result"
    }
   ],
   "source": [
    "c2.radio"
   ]
  },
  {
   "cell_type": "code",
   "execution_count": 31,
   "id": "a374d681-0901-453f-8bdb-63cd64c671f0",
   "metadata": {},
   "outputs": [],
   "source": [
    "class Circulo:\n",
    "\n",
    "    def __init__(self, radio, color):\n",
    "        self.radio = radio\n",
    "        self.color = color\n",
    "        print(\"Círculo creado\")"
   ]
  },
  {
   "cell_type": "code",
   "execution_count": 32,
   "id": "3c463063-dac2-4561-a911-3e8b344e9b73",
   "metadata": {},
   "outputs": [
    {
     "name": "stdout",
     "output_type": "stream",
     "text": [
      "Círculo creado\n"
     ]
    }
   ],
   "source": [
    "c1 = Circulo(3, \"azul\")"
   ]
  },
  {
   "cell_type": "code",
   "execution_count": 33,
   "id": "d6bcc5c5-49a2-41da-b699-1d02c73cd0f2",
   "metadata": {},
   "outputs": [
    {
     "data": {
      "text/plain": [
       "3"
      ]
     },
     "execution_count": 33,
     "metadata": {},
     "output_type": "execute_result"
    }
   ],
   "source": [
    "c1.radio"
   ]
  },
  {
   "cell_type": "code",
   "execution_count": 34,
   "id": "dee2b34b-bc90-4cef-80ef-9652ae47d7e3",
   "metadata": {},
   "outputs": [
    {
     "data": {
      "text/plain": [
       "'azul'"
      ]
     },
     "execution_count": 34,
     "metadata": {},
     "output_type": "execute_result"
    }
   ],
   "source": [
    "c1.color"
   ]
  },
  {
   "cell_type": "code",
   "execution_count": 35,
   "id": "90be9cd1-fd78-4a4b-a487-39e2ff5d5eac",
   "metadata": {},
   "outputs": [
    {
     "name": "stdout",
     "output_type": "stream",
     "text": [
      "Círculo creado\n"
     ]
    }
   ],
   "source": [
    "c2 = Circulo(5, \"verde\")"
   ]
  },
  {
   "cell_type": "code",
   "execution_count": 36,
   "id": "adce423a-472a-4ea4-a19a-73dec96f4c1f",
   "metadata": {},
   "outputs": [
    {
     "data": {
      "text/plain": [
       "5"
      ]
     },
     "execution_count": 36,
     "metadata": {},
     "output_type": "execute_result"
    }
   ],
   "source": [
    "c2.radio"
   ]
  },
  {
   "cell_type": "code",
   "execution_count": 37,
   "id": "a21c38d5-5ee7-49e0-b016-fd7d77ffaca9",
   "metadata": {},
   "outputs": [
    {
     "data": {
      "text/plain": [
       "'verde'"
      ]
     },
     "execution_count": 37,
     "metadata": {},
     "output_type": "execute_result"
    }
   ],
   "source": [
    "c2.color"
   ]
  },
  {
   "cell_type": "code",
   "execution_count": 38,
   "id": "a4d532ff-7dc2-4e69-b67c-d813a4e9d6ff",
   "metadata": {},
   "outputs": [
    {
     "name": "stdout",
     "output_type": "stream",
     "text": [
      "['__class__', '__delattr__', '__dict__', '__dir__', '__doc__', '__eq__', '__format__', '__ge__', '__getattribute__', '__getstate__', '__gt__', '__hash__', '__init__', '__init_subclass__', '__le__', '__lt__', '__module__', '__ne__', '__new__', '__reduce__', '__reduce_ex__', '__repr__', '__setattr__', '__sizeof__', '__str__', '__subclasshook__', '__weakref__']\n"
     ]
    }
   ],
   "source": [
    "print(dir(Circulo))"
   ]
  },
  {
   "cell_type": "code",
   "execution_count": 39,
   "id": "8cbb4899-f714-4dbd-aac8-e811379e08f2",
   "metadata": {},
   "outputs": [
    {
     "name": "stdout",
     "output_type": "stream",
     "text": [
      "['__class__', '__delattr__', '__dict__', '__dir__', '__doc__', '__eq__', '__format__', '__ge__', '__getattribute__', '__getstate__', '__gt__', '__hash__', '__init__', '__init_subclass__', '__le__', '__lt__', '__module__', '__ne__', '__new__', '__reduce__', '__reduce_ex__', '__repr__', '__setattr__', '__sizeof__', '__str__', '__subclasshook__', '__weakref__', 'color', 'radio']\n"
     ]
    }
   ],
   "source": [
    "print(dir(c1))"
   ]
  },
  {
   "cell_type": "code",
   "execution_count": 40,
   "id": "cfe8a9b2-847c-47e4-9a21-490483a4197d",
   "metadata": {},
   "outputs": [],
   "source": [
    "class Circulo:\n",
    "\n",
    "    pi = 3.141592\n",
    "\n",
    "    def __init__(self, radio, color):\n",
    "        self.radio = radio       # Atributo color\n",
    "        self.color = color       # Atributo color\n",
    "        print(\"Círculo creado\")\n",
    "\n",
    "    def area(self):              # Métodos\n",
    "        return Circulo.pi * (self.radio ** 2)"
   ]
  },
  {
   "cell_type": "code",
   "execution_count": 41,
   "id": "980de6db-4075-495a-bed4-9b75144f845d",
   "metadata": {},
   "outputs": [
    {
     "name": "stdout",
     "output_type": "stream",
     "text": [
      "Círculo creado\n"
     ]
    }
   ],
   "source": [
    "c1 = Circulo(3, \"azul\")   # Instanciando la clase para crear un objeto"
   ]
  },
  {
   "cell_type": "code",
   "execution_count": 42,
   "id": "a807ca9b-d935-40fd-adbe-162ae6fb5232",
   "metadata": {},
   "outputs": [
    {
     "data": {
      "text/plain": [
       "3"
      ]
     },
     "execution_count": 42,
     "metadata": {},
     "output_type": "execute_result"
    }
   ],
   "source": [
    "c1.radio"
   ]
  },
  {
   "cell_type": "code",
   "execution_count": 43,
   "id": "23126b03-7a30-45fe-8f47-3efb0501cb87",
   "metadata": {},
   "outputs": [
    {
     "data": {
      "text/plain": [
       "28.274328"
      ]
     },
     "execution_count": 43,
     "metadata": {},
     "output_type": "execute_result"
    }
   ],
   "source": [
    "c1.area()"
   ]
  },
  {
   "cell_type": "code",
   "execution_count": 44,
   "id": "848a965d-ccda-4dee-a257-080df26cf932",
   "metadata": {},
   "outputs": [],
   "source": [
    "a = [1, 2, 3]"
   ]
  },
  {
   "cell_type": "code",
   "execution_count": 45,
   "id": "a8f07f5b-a9ec-466e-8b10-dbadc6ebd8f8",
   "metadata": {},
   "outputs": [],
   "source": [
    "b = [3, 4]"
   ]
  },
  {
   "cell_type": "code",
   "execution_count": 46,
   "id": "9eeded2f-2c8c-49b9-8ad7-2f997278cebc",
   "metadata": {},
   "outputs": [
    {
     "name": "stdout",
     "output_type": "stream",
     "text": [
      "Círculo creado\n"
     ]
    }
   ],
   "source": [
    "c2 = Circulo(6, \"rojo\")"
   ]
  },
  {
   "cell_type": "code",
   "execution_count": 47,
   "id": "bccdca5e-e066-4cc0-942c-b9624387f4a9",
   "metadata": {},
   "outputs": [
    {
     "data": {
      "text/plain": [
       "113.097312"
      ]
     },
     "execution_count": 47,
     "metadata": {},
     "output_type": "execute_result"
    }
   ],
   "source": [
    "c2.area()"
   ]
  },
  {
   "cell_type": "code",
   "execution_count": 48,
   "id": "0a1d8fd1-f928-41ef-923e-988a58b5b932",
   "metadata": {},
   "outputs": [
    {
     "name": "stdout",
     "output_type": "stream",
     "text": [
      "Círculo creado\n"
     ]
    }
   ],
   "source": [
    "c1 = Circulo(3, \"azul\")"
   ]
  },
  {
   "cell_type": "code",
   "execution_count": 49,
   "id": "82dfff8e-5df7-466b-b221-e2e40a37caa2",
   "metadata": {},
   "outputs": [
    {
     "data": {
      "text/plain": [
       "3"
      ]
     },
     "execution_count": 49,
     "metadata": {},
     "output_type": "execute_result"
    }
   ],
   "source": [
    "c1.radio"
   ]
  },
  {
   "cell_type": "code",
   "execution_count": 50,
   "id": "00a09b68-bb80-41a0-a87d-150730e8d2f6",
   "metadata": {},
   "outputs": [
    {
     "data": {
      "text/plain": [
       "'azul'"
      ]
     },
     "execution_count": 50,
     "metadata": {},
     "output_type": "execute_result"
    }
   ],
   "source": [
    "c1.color"
   ]
  },
  {
   "cell_type": "code",
   "execution_count": 51,
   "id": "70cbc23d-9705-4fe8-9489-5c0c9fd278cf",
   "metadata": {},
   "outputs": [
    {
     "data": {
      "text/plain": [
       "28.274328"
      ]
     },
     "execution_count": 51,
     "metadata": {},
     "output_type": "execute_result"
    }
   ],
   "source": [
    "c1.area()"
   ]
  },
  {
   "cell_type": "code",
   "execution_count": 52,
   "id": "672a9be3-eaff-402c-ae3f-e99c854eff65",
   "metadata": {},
   "outputs": [
    {
     "name": "stdout",
     "output_type": "stream",
     "text": [
      "['__class__', '__delattr__', '__dict__', '__dir__', '__doc__', '__eq__', '__format__', '__ge__', '__getattribute__', '__getstate__', '__gt__', '__hash__', '__init__', '__init_subclass__', '__le__', '__lt__', '__module__', '__ne__', '__new__', '__reduce__', '__reduce_ex__', '__repr__', '__setattr__', '__sizeof__', '__str__', '__subclasshook__', '__weakref__', 'area', 'pi']\n"
     ]
    }
   ],
   "source": [
    "print(dir(Circulo))"
   ]
  },
  {
   "cell_type": "code",
   "execution_count": 53,
   "id": "3554777c-9195-4b5b-8c13-cafc63b02f17",
   "metadata": {},
   "outputs": [
    {
     "name": "stdout",
     "output_type": "stream",
     "text": [
      "['__add__', '__class__', '__class_getitem__', '__contains__', '__delattr__', '__delitem__', '__dir__', '__doc__', '__eq__', '__format__', '__ge__', '__getattribute__', '__getitem__', '__getstate__', '__gt__', '__hash__', '__iadd__', '__imul__', '__init__', '__init_subclass__', '__iter__', '__le__', '__len__', '__lt__', '__mul__', '__ne__', '__new__', '__reduce__', '__reduce_ex__', '__repr__', '__reversed__', '__rmul__', '__setattr__', '__setitem__', '__sizeof__', '__str__', '__subclasshook__', 'append', 'clear', 'copy', 'count', 'extend', 'index', 'insert', 'pop', 'remove', 'reverse', 'sort']\n"
     ]
    }
   ],
   "source": [
    "print(dir([]))"
   ]
  },
  {
   "cell_type": "code",
   "execution_count": 54,
   "id": "c4a5707a-997f-405f-bfff-f5f6063b6f2e",
   "metadata": {},
   "outputs": [
    {
     "name": "stdout",
     "output_type": "stream",
     "text": [
      "['__class__', '__class_getitem__', '__contains__', '__delattr__', '__delitem__', '__dir__', '__doc__', '__eq__', '__format__', '__ge__', '__getattribute__', '__getitem__', '__getstate__', '__gt__', '__hash__', '__init__', '__init_subclass__', '__ior__', '__iter__', '__le__', '__len__', '__lt__', '__ne__', '__new__', '__or__', '__reduce__', '__reduce_ex__', '__repr__', '__reversed__', '__ror__', '__setattr__', '__setitem__', '__sizeof__', '__str__', '__subclasshook__', 'clear', 'copy', 'fromkeys', 'get', 'items', 'keys', 'pop', 'popitem', 'setdefault', 'update', 'values']\n"
     ]
    }
   ],
   "source": [
    "print(dir(dict))"
   ]
  },
  {
   "cell_type": "code",
   "execution_count": 55,
   "id": "6629df11-1300-4810-8529-f3d465a65516",
   "metadata": {},
   "outputs": [
    {
     "data": {
      "text/plain": [
       "__main__.Circulo"
      ]
     },
     "execution_count": 55,
     "metadata": {},
     "output_type": "execute_result"
    }
   ],
   "source": [
    "type(c1)"
   ]
  },
  {
   "cell_type": "code",
   "execution_count": 56,
   "id": "44538b3b-8506-4134-b4b3-35ae302ca853",
   "metadata": {},
   "outputs": [
    {
     "name": "stdout",
     "output_type": "stream",
     "text": [
      "Círculo creado\n"
     ]
    }
   ],
   "source": [
    "c1 = Circulo(2, \"azul\")"
   ]
  },
  {
   "cell_type": "code",
   "execution_count": 57,
   "id": "27521ef1-8d97-414b-bb3c-be124c129e6b",
   "metadata": {},
   "outputs": [
    {
     "data": {
      "text/plain": [
       "12.566368"
      ]
     },
     "execution_count": 57,
     "metadata": {},
     "output_type": "execute_result"
    }
   ],
   "source": [
    "c1.area()"
   ]
  },
  {
   "cell_type": "code",
   "execution_count": 58,
   "id": "d2125bcf-7ebe-42a7-bae7-177caa42b7e3",
   "metadata": {},
   "outputs": [],
   "source": [
    "class Circulo:\n",
    "\n",
    "    pi = 3.141592\n",
    "\n",
    "    def __init__(self, radio, color):\n",
    "        self.radio = radio       # Atributo color\n",
    "        self.color = color       # Atributo color\n",
    "        print(\"Círculo creado\")\n",
    "\n",
    "    def area(self):              # Métodos\n",
    "        return Circulo.pi * (self.radio ** 2)\n",
    "\n",
    "    def _altura(self):\n",
    "        return 1\n",
    "\n",
    "    def __eq__(c1, c2):\n",
    "        resultado = (c1.radio == c2.radio) and (c1.color == c2.color)\n",
    "        if resultado:\n",
    "            print(\"Los círculos son iguales\")\n",
    "        else:\n",
    "            print(\"Los círculos son diferentes\")"
   ]
  },
  {
   "cell_type": "code",
   "execution_count": 59,
   "id": "1758b708-24a9-4743-af44-dab8c52d5ae8",
   "metadata": {},
   "outputs": [
    {
     "name": "stdout",
     "output_type": "stream",
     "text": [
      "['__class__', '__delattr__', '__dict__', '__dir__', '__doc__', '__eq__', '__format__', '__ge__', '__getattribute__', '__getstate__', '__gt__', '__hash__', '__init__', '__init_subclass__', '__le__', '__lt__', '__module__', '__ne__', '__new__', '__reduce__', '__reduce_ex__', '__repr__', '__setattr__', '__sizeof__', '__str__', '__subclasshook__', '__weakref__', '_altura', 'area', 'pi']\n"
     ]
    }
   ],
   "source": [
    "print(dir(Circulo))"
   ]
  },
  {
   "cell_type": "code",
   "execution_count": 60,
   "id": "c4ded732-94bd-499c-bc2a-0117b95b26db",
   "metadata": {},
   "outputs": [
    {
     "name": "stdout",
     "output_type": "stream",
     "text": [
      "Círculo creado\n",
      "Círculo creado\n"
     ]
    }
   ],
   "source": [
    "c1 = Circulo(3, \"azul\")\n",
    "c2 = Circulo(5, \"azul\")"
   ]
  },
  {
   "cell_type": "code",
   "execution_count": 61,
   "id": "6aa93cf9-a8a9-44b2-8c67-63ae83b5891c",
   "metadata": {},
   "outputs": [
    {
     "name": "stdout",
     "output_type": "stream",
     "text": [
      "Los círculos son diferentes\n"
     ]
    }
   ],
   "source": [
    "c1 == c2"
   ]
  },
  {
   "cell_type": "code",
   "execution_count": 62,
   "id": "3056bd0a-1f67-4528-be1c-51c49d44ab39",
   "metadata": {},
   "outputs": [
    {
     "data": {
      "text/plain": [
       "int"
      ]
     },
     "execution_count": 62,
     "metadata": {},
     "output_type": "execute_result"
    }
   ],
   "source": [
    "type(4)"
   ]
  },
  {
   "cell_type": "code",
   "execution_count": 63,
   "id": "041c58cf-f8ba-4bac-b14e-8949c75d16d2",
   "metadata": {},
   "outputs": [
    {
     "name": "stdout",
     "output_type": "stream",
     "text": [
      "['__abs__', '__add__', '__and__', '__bool__', '__ceil__', '__class__', '__delattr__', '__dir__', '__divmod__', '__doc__', '__eq__', '__float__', '__floor__', '__floordiv__', '__format__', '__ge__', '__getattribute__', '__getnewargs__', '__getstate__', '__gt__', '__hash__', '__index__', '__init__', '__init_subclass__', '__int__', '__invert__', '__le__', '__lshift__', '__lt__', '__mod__', '__mul__', '__ne__', '__neg__', '__new__', '__or__', '__pos__', '__pow__', '__radd__', '__rand__', '__rdivmod__', '__reduce__', '__reduce_ex__', '__repr__', '__rfloordiv__', '__rlshift__', '__rmod__', '__rmul__', '__ror__', '__round__', '__rpow__', '__rrshift__', '__rshift__', '__rsub__', '__rtruediv__', '__rxor__', '__setattr__', '__sizeof__', '__str__', '__sub__', '__subclasshook__', '__truediv__', '__trunc__', '__xor__', 'as_integer_ratio', 'bit_count', 'bit_length', 'conjugate', 'denominator', 'from_bytes', 'imag', 'numerator', 'real', 'to_bytes']\n"
     ]
    }
   ],
   "source": [
    "print(dir(4))"
   ]
  },
  {
   "cell_type": "code",
   "execution_count": 64,
   "id": "6e7cfa73-7c77-434e-97b1-29977cc1459c",
   "metadata": {},
   "outputs": [
    {
     "data": {
      "text/plain": [
       "4"
      ]
     },
     "execution_count": 64,
     "metadata": {},
     "output_type": "execute_result"
    }
   ],
   "source": [
    "(4).real"
   ]
  },
  {
   "cell_type": "code",
   "execution_count": 65,
   "id": "d9670e94-5db9-4748-8f61-ebd31fa1d17e",
   "metadata": {},
   "outputs": [
    {
     "data": {
      "text/plain": [
       "0"
      ]
     },
     "execution_count": 65,
     "metadata": {},
     "output_type": "execute_result"
    }
   ],
   "source": [
    "(4).imag"
   ]
  },
  {
   "cell_type": "code",
   "execution_count": 66,
   "id": "5bcb000f-70b8-49fc-8690-b3d62d9a71b5",
   "metadata": {},
   "outputs": [],
   "source": [
    "a = 4 + 6j"
   ]
  },
  {
   "cell_type": "code",
   "execution_count": 67,
   "id": "fce33ce5-72ad-4393-b735-cd1287aed2bb",
   "metadata": {},
   "outputs": [
    {
     "data": {
      "text/plain": [
       "4.0"
      ]
     },
     "execution_count": 67,
     "metadata": {},
     "output_type": "execute_result"
    }
   ],
   "source": [
    "a.real"
   ]
  },
  {
   "cell_type": "code",
   "execution_count": 68,
   "id": "e2788518-0b8c-4242-a3b4-82ae3edb3398",
   "metadata": {},
   "outputs": [
    {
     "data": {
      "text/plain": [
       "6.0"
      ]
     },
     "execution_count": 68,
     "metadata": {},
     "output_type": "execute_result"
    }
   ],
   "source": [
    "a.imag"
   ]
  },
  {
   "cell_type": "code",
   "execution_count": 69,
   "id": "1ea66ac4-eaa7-4712-a4f3-2bc626d8efab",
   "metadata": {},
   "outputs": [],
   "source": [
    "a = \"python\""
   ]
  },
  {
   "cell_type": "code",
   "execution_count": 70,
   "id": "2cf8c691-7f39-44ce-8b6f-f06105e2dd96",
   "metadata": {},
   "outputs": [
    {
     "data": {
      "text/plain": [
       "6"
      ]
     },
     "execution_count": 70,
     "metadata": {},
     "output_type": "execute_result"
    }
   ],
   "source": [
    "len(a)"
   ]
  },
  {
   "cell_type": "code",
   "execution_count": 71,
   "id": "a9b4c347-2377-47ea-b76e-3dff21083f21",
   "metadata": {},
   "outputs": [
    {
     "data": {
      "text/plain": [
       "['p', 'y', 't', 'h', 'o', 'n']"
      ]
     },
     "execution_count": 71,
     "metadata": {},
     "output_type": "execute_result"
    }
   ],
   "source": [
    "list(a)"
   ]
  },
  {
   "cell_type": "code",
   "execution_count": 72,
   "id": "42260aca-d48b-4f06-89e6-c75df4456493",
   "metadata": {},
   "outputs": [
    {
     "name": "stdout",
     "output_type": "stream",
     "text": [
      "['__add__', '__class__', '__contains__', '__delattr__', '__dir__', '__doc__', '__eq__', '__format__', '__ge__', '__getattribute__', '__getitem__', '__getnewargs__', '__getstate__', '__gt__', '__hash__', '__init__', '__init_subclass__', '__iter__', '__le__', '__len__', '__lt__', '__mod__', '__mul__', '__ne__', '__new__', '__reduce__', '__reduce_ex__', '__repr__', '__rmod__', '__rmul__', '__setattr__', '__sizeof__', '__str__', '__subclasshook__', 'capitalize', 'casefold', 'center', 'count', 'encode', 'endswith', 'expandtabs', 'find', 'format', 'format_map', 'index', 'isalnum', 'isalpha', 'isascii', 'isdecimal', 'isdigit', 'isidentifier', 'islower', 'isnumeric', 'isprintable', 'isspace', 'istitle', 'isupper', 'join', 'ljust', 'lower', 'lstrip', 'maketrans', 'partition', 'removeprefix', 'removesuffix', 'replace', 'rfind', 'rindex', 'rjust', 'rpartition', 'rsplit', 'rstrip', 'split', 'splitlines', 'startswith', 'strip', 'swapcase', 'title', 'translate', 'upper', 'zfill']\n"
     ]
    }
   ],
   "source": [
    "print(dir(a))"
   ]
  },
  {
   "cell_type": "code",
   "execution_count": 73,
   "id": "b1121fad-3f6c-438c-9d99-d0e18b182c29",
   "metadata": {},
   "outputs": [
    {
     "name": "stdout",
     "output_type": "stream",
     "text": [
      "['__class__', '__delattr__', '__dict__', '__dir__', '__doc__', '__eq__', '__format__', '__ge__', '__getattribute__', '__getstate__', '__gt__', '__hash__', '__init__', '__init_subclass__', '__le__', '__lt__', '__module__', '__ne__', '__new__', '__reduce__', '__reduce_ex__', '__repr__', '__setattr__', '__sizeof__', '__str__', '__subclasshook__', '__weakref__', '_altura', 'area', 'color', 'pi', 'radio']\n"
     ]
    }
   ],
   "source": [
    "print(dir(c1))"
   ]
  },
  {
   "cell_type": "code",
   "execution_count": 74,
   "id": "730dc788-35f0-4ad0-b12d-119243018db3",
   "metadata": {},
   "outputs": [
    {
     "data": {
      "text/plain": [
       "'PYTHON'"
      ]
     },
     "execution_count": 74,
     "metadata": {},
     "output_type": "execute_result"
    }
   ],
   "source": [
    "a.upper()"
   ]
  },
  {
   "cell_type": "code",
   "execution_count": 75,
   "id": "dba10b65-2707-4ccc-b9b4-a1624fe9dcf1",
   "metadata": {},
   "outputs": [
    {
     "data": {
      "text/plain": [
       "'Python For Data Science'"
      ]
     },
     "execution_count": 75,
     "metadata": {},
     "output_type": "execute_result"
    }
   ],
   "source": [
    "\"python for data science\".title()"
   ]
  },
  {
   "cell_type": "code",
   "execution_count": null,
   "id": "8f0c3e89-9703-4491-b6cc-e8f597fa85a3",
   "metadata": {},
   "outputs": [],
   "source": []
  },
  {
   "cell_type": "code",
   "execution_count": null,
   "id": "53603a28-6669-413f-bba2-fa49d559d0b7",
   "metadata": {},
   "outputs": [],
   "source": []
  },
  {
   "cell_type": "code",
   "execution_count": null,
   "id": "ea028f05-7d83-4f6d-a4a5-c63e49cb9c60",
   "metadata": {},
   "outputs": [],
   "source": []
  },
  {
   "cell_type": "code",
   "execution_count": null,
   "id": "f518a15c-2081-471d-acbc-6d0775e0905a",
   "metadata": {},
   "outputs": [],
   "source": []
  }
 ],
 "metadata": {
  "kernelspec": {
   "display_name": "Python 3 (ipykernel)",
   "language": "python",
   "name": "python3"
  },
  "language_info": {
   "codemirror_mode": {
    "name": "ipython",
    "version": 3
   },
   "file_extension": ".py",
   "mimetype": "text/x-python",
   "name": "python",
   "nbconvert_exporter": "python",
   "pygments_lexer": "ipython3",
   "version": "3.11.7"
  }
 },
 "nbformat": 4,
 "nbformat_minor": 5
}
