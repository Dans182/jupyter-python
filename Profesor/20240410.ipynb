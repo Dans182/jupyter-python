{
 "cells": [
  {
   "cell_type": "code",
   "execution_count": 1,
   "id": "76cfd27d-244a-4b83-8318-ec173d420034",
   "metadata": {},
   "outputs": [],
   "source": [
    "import re\n",
    "import requests\n",
    "import bs4"
   ]
  },
  {
   "cell_type": "markdown",
   "id": "d7bff1f3-2e38-46ec-a80b-cf4add151a1e",
   "metadata": {},
   "source": [
    "# Web scrapping"
   ]
  },
  {
   "cell_type": "code",
   "execution_count": 2,
   "id": "c0eca25c-a526-4557-9c17-10e20a591aa7",
   "metadata": {},
   "outputs": [
    {
     "data": {
      "text/plain": [
       "'\\n\\n\\n\\nCanis familiaris - Wikipedia, la enciclopedia libre\\n\\n\\n\\n\\n\\n\\n\\n\\n\\n\\n\\n\\n\\n\\n\\n\\n\\n\\n\\n\\n\\n\\n\\n\\n\\n\\n\\n\\n\\n\\n\\n\\n\\n\\n\\n\\n\\nIr al contenido\\n\\n\\n\\n\\n\\n\\n\\nMenú principal\\n\\n\\n\\n\\n\\nMenú principal\\nmover a la barra lateral\\nocultar\\n\\n\\n\\n\\t\\tNavegación\\n\\t\\n\\n\\nPortadaPortal de la comunidadActualidadCambios recientesPáginas nuevasPágina aleatoriaAyudaDonacionesNotificar un error\\n\\n\\n\\n\\n\\n\\n\\n\\n\\n\\n\\n\\n\\n\\n\\n\\n\\n\\n\\nBuscar\\n\\n\\n\\n\\n\\n\\n\\n\\n\\n\\n\\nBuscar\\n\\n\\n\\n\\n\\n\\n\\n\\n\\n\\n\\n\\n\\n\\n\\n\\n\\n\\n\\n\\n\\n\\n\\n\\n\\n\\n\\n\\n\\nCrear una cuenta\\n\\nAcceder\\n\\n\\n\\n\\n\\n\\n\\n\\nHerramientas personales\\n\\n\\n\\n\\n\\n Crear una cuenta Acceder\\n\\n\\n\\n\\n\\n\\t\\tPáginas para editores desconectados más información\\n\\n\\n\\nContribucionesDiscusión\\n\\n\\n\\n\\n\\n\\n\\n\\n\\n\\n\\n\\n\\n\\n\\n\\n\\n\\n\\n\\n\\n\\n\\n\\n\\n\\n\\n\\nContenidos\\nmover a la barra lateral\\nocultar\\n\\n\\n\\n\\nInicio\\n\\n\\n\\n\\n\\n1Características\\n\\n\\n\\nAlternar subsección Características\\n\\n\\n\\n\\n\\n1.1Diferencias respecto a otros cánidos\\n\\n\\n\\n\\n\\n\\n\\n1.2Anatomía externa\\n\\n\\n\\n\\n\\n1.2.1Pelaje\\n\\n\\n\\n\\n\\n\\n\\n1.2.2Cola\\n\\n\\n\\n\\n\\n\\n\\n\\n\\n1.3Aparato locomotor\\n\\n\\n\\n\\n\\n\\n\\n1.4Sentidos\\n\\n\\n\\n\\n\\n1.4.1Vista\\n\\n\\n\\n\\n\\n\\n\\n1.4.2Oído\\n\\n\\n\\n\\n\\n\\n\\n1.4.3Olfato\\n\\n\\n\\n\\n\\n\\n\\n1.4.4Gusto\\n\\n\\n\\n\\n\\n\\n\\n1.4.5Tacto\\n\\n\\n\\n\\n\\n\\n\\n\\n\\n\\n\\n2Comportamiento\\n\\n\\n\\nAlternar subsección Comportamiento\\n\\n\\n\\n\\n\\n2.1Inteligencia\\n\\n\\n\\n\\n\\n\\n\\n2.2Socialización\\n\\n\\n\\n\\n\\n\\n\\n2.3Problemas de comportamiento o anormales\\n\\n\\n\\n\\n\\n\\n\\n2.4Gruñido\\n\\n\\n\\n\\n\\n\\n\\n\\n\\n3Salud\\n\\n\\n\\nAlternar subsección Salud\\n\\n\\n\\n\\n\\n3.1Enfermedades\\n\\n\\n\\n\\n\\n\\n\\n3.2Reproducción\\n\\n\\n\\n\\n\\n\\n\\n3.3Castración y esterilización\\n\\n\\n\\n\\n\\n\\n\\n3.4Alimentación\\n\\n\\n\\n\\n\\n\\n\\n\\n\\n4Predadores\\n\\n\\n\\n\\n\\n\\n\\n5Ancestros e historia de la domesticación\\n\\n\\n\\n\\n\\n\\n\\n6Razas\\n\\n\\n\\nAlternar subsección Razas\\n\\n\\n\\n\\n\\n6.1Clasificación según la FCI\\n\\n\\n\\n\\n\\n\\n\\n6.2Concepto de raza\\n\\n\\n\\n\\n\\n\\n\\n\\n\\n7Tipos de razas\\n\\n\\n\\n\\n\\n\\n\\n8Interacción con los humanos\\n\\n\\n\\nAlternar subsección Interacción con los humanos\\n\\n\\n\\n\\n\\n8.1Interpretación de gestos y señales comunicativas humanas\\n\\n\\n\\n\\n\\n\\n\\n\\n\\n9Usos y utilidad\\n\\n\\n\\n\\n\\n\\n\\n10Véase también\\n\\n\\n\\n\\n\\n\\n\\n11Referencias\\n\\n\\n\\n\\n\\n\\n\\n12Enlaces externos\\n\\n\\n\\n\\n\\n\\n\\n\\n\\n\\n\\n\\n\\n\\n\\n\\n\\nCambiar a la tabla de contenidos\\n\\n\\n\\n\\n\\n\\n\\nCanis familiaris\\n\\n\\n\\n260 idiomas\\n\\n\\n\\n\\nАԥсшәаAcèhАдыгабзэAfrikaansAlemannischአማርኛPangcahAragonésअंगिकाالعربيةܐܪܡܝܐالدارجةمصرىঅসমীয়াAtikamekwАварKotavaअवधीAymar aruAzərbaycancaتۆرکجهБашҡортсаBasa BaliBoarischŽemaitėškaBatak TobaBikol CentralБеларускаяБеларуская (тарашкевіца)БългарскиभोजपुरीBislamaBanjarBamanankanবাংলাབོད་ཡིགBrezhonegBosanskiБуряадCatalà閩東語 / Mìng-dĕ̤ng-ngṳ̄CebuanoᏣᎳᎩTsetsêhestâheseکوردیCorsuNēhiyawēwin / ᓀᐦᐃᔭᐍᐏᐣQırımtatarcaČeštinaKaszëbscziСловѣньскъ / ⰔⰎⰑⰂⰡⰐⰠⰔⰍⰟЧӑвашлаCymraegDanskDagbanliDeutschZazakiDolnoserbskiཇོང་ཁEʋegbeΕλληνικάEmiliàn e rumagnòlEnglishEsperantoEestiEuskaraفارسیSuomiVõroNa Vosa VakavitiFøroysktFɔ̀ngbèFrançaisArpetanNordfriiskFurlanFryskGaeilge贛語GàidhligGalegoگیلکیAvañe\\'ẽ𐌲𐌿𐍄𐌹𐍃𐌺WayuunaikiGungbeGaelgHausa客家語/Hak-kâ-ngîעבריתहिन्दीFiji HindiHrvatskiHornjoserbsceKreyòl ayisyenMagyarՀայերենԱրեւմտահայերէնInterlinguaBahasa IndonesiaIñupiatunIlokanoГӀалгӀайIdoÍslenskaItalianoᐃᓄᒃᑎᑐᑦ / inuktitut日本語PatoisLa .lojban.JawaქართულიTaqbaylitKabɩyɛTyapҚазақшаភាសាខ្មែរಕನ್ನಡ한국어Перем комиकॉशुर / کٲشُرRipoarischKurdîКомиKernowekКыргызчаLatinaLadinoLëtzebuergeschЛаккуЛезгиLingua Franca NovaLugandaLimburgsLigureLadinLingálaລາວLietuviųLatviešuमैथिलीМокшеньMalagasyОлык марийMāoriMinangkabauМакедонскиമലയാളംМонголꯃꯤꯇꯩ ꯂꯣꯟဘာသာမန်मराठीКырык марыBahasa MelayuMaltiMirandésမြန်မာဘာသာЭрзяньمازِرونیNapulitanoPlattdüütschNedersaksiesनेपालीनेपाल भाषाLi NihaNederlandsNorsk nynorskNorsk bokmålNouormandSesotho sa LeboaDiné bizaadOccitanLivvinkarjalaଓଡ଼ିଆИронਪੰਜਾਬੀKapampanganPapiamentuPicardDeitschNorfuk / PitkernPolskiPiemontèisپنجابیپښتوPortuguêsPinayuananRuna SimiRumantschRomani čhibRomânăArmãneashtiРусскийРусиньскыйIkinyarwandaसंस्कृतम्Саха тылаᱥᱟᱱᱛᱟᱲᱤSarduSicilianuScotsسنڌيSrpskohrvatski / српскохрватскиၽႃႇသႃႇတႆး සිංහලSimple EnglishSlovenčinaسرائیکیSlovenščinaGagana SamoaAnarâškielâChiShonaSoomaaligaShqipСрпски / srpskiSranantongoSeelterskSundaSvenskaKiswahiliŚlůnskiSakizayaதமிழ்TayalತುಳುతెలుగుТоҷикӣไทยTürkmençeTagalogTolışiTürkçeТатарча / tatarçaChiTumbukaТыва дылУдмуртئۇيغۇرچە / UyghurcheУкраїнськаاردوOʻzbekcha / ўзбекчаVènetoVepsän kel’Tiếng ViệtWest-VlamsVolapükWalonWinarayWolof吴语ХальмгIsiXhosaმარგალურიייִדישYorùbáVahcuengh中文文言Bân-lâm-gú粵語IsiZulu\\n\\nEditar enlaces\\n\\n\\n\\n\\n\\n\\n\\n\\n\\n\\n\\nArtículoDiscusión\\n\\n\\n\\n\\n\\nespañol\\n\\n\\n\\n\\n\\n\\n\\n\\n\\n\\n\\n\\n\\n\\n\\n\\n\\nLeerVer código fuenteVer historial\\n\\n\\n\\n\\n\\n\\n\\nHerramientas\\n\\n\\n\\n\\n\\nHerramientas\\nmover a la barra lateral\\nocultar\\n\\n\\n\\n\\t\\tAcciones\\n\\t\\n\\n\\nLeerVer código fuenteVer historial\\n\\n\\n\\n\\n\\n\\t\\tGeneral\\n\\t\\n\\n\\nLo que enlaza aquíCambios en enlazadasSubir archivoPáginas especialesEnlace permanenteInformación de la páginaCitar esta páginaObtener URL acortadoDescargar código QRElemento de Wikidata\\n\\n\\n\\n\\n\\n\\t\\tImprimir/exportar\\n\\t\\n\\n\\nCrear un libroDescargar como PDFVersión para imprimir\\n\\n\\n\\n\\n\\n\\n\\n\\n\\n\\n\\n\\n\\n\\n\\n\\n\\n\\n\\n\\n\\n\\n\\n\\n\\nDe Wikipedia, la enciclopedia libre\\n\\n\\n«Perro» redirige aquí. Para otras acepciones, véase Perro (desambiguación).\\n\\n\\xa0\\nPerro\\nImagen con las razas caninas: Pumi, Perro sin pelo del Perú, Shih Tzu, Perro crestado rodesiano, Akita Inu, Komondor, Keeshond, Schnauzer gigante y Setter irlandés rojo y blanco.Estado de conservación\\nDomesticado TaxonomíaDominio:\\nEukaryotaReino:\\nAnimaliaSubreino:\\nEumetazoaSuperfilo:\\nDeuterostomiaFilo:\\nChordataSubfilo:\\nVertebrataInfrafilo:\\nGnathostomataSuperclase:\\nTetrapodaClase:\\nMammaliaSubclase:\\nTheriaInfraclase:\\nPlacentaliaOrden:\\nCarnivoraSuborden:\\nCaniformiaFamilia:\\nCanidaeSubfamilia:\\nCaninaeTribu:\\nCaniniSubtribu:\\nCaninaGénero:\\nCanisEspecie:\\nC. familiarisLinnaeus, 1758Distribución\\nSinonimia\\nCanis familiaris Linnaeus 1758\\nCanis familiaris domesticus Linnaeus 1758\\nCanis lupus familiaris Linnaeus 1758\\n\\n[editar datos en Wikidata]\\nEl perro (Canis familiaris o Canis lupus familiaris, dependiendo de si se lo considera una especie o una subespecie del lobo),[1]\\u200b[2]\\u200b[3]\\u200b llamado perro doméstico o can,[4]\\u200b y en algunos lugares coloquialmente llamado chucho,[5]\\u200b tuso,[6]\\u200b choco,[7]\\u200b entre otros; es un mamífero carnívoro de la familia de los cánidos, que constituye una especie del género Canis.[8]\\u200b[9]\\u200b En el 2013, la población mundial estimada de perros estaba entre setecientos millones y novecientos ochenta y siete millones.[10]\\u200b[11]\\u200b \\nSu tamaño (o talla), su forma y su pelaje es muy diverso y varía según la raza. Posee un oído y un olfato muy desarrollados, y este último es su principal órgano sensorial. Su longevidad media es de diez a trece años,[12]\\u200b[13]\\u200b[14]\\u200b dependiendo de la raza. Junto al gato doméstico, es uno de los animales de compañía más populares del mundo.\\nEl perro doméstico proviene de un grupo ancestral común que data de hace aproximadamente treinta mil años, y desde entonces se ha extendido a todas partes del mundo.[15]\\u200b Los primeros restos fósiles de perros enterrados junto con seres humanos se encontraron en Israel, y datan de hace unos doce mil años.[16]\\u200b Desde entonces, los perros y los humanos han evolucionado conjuntamente, tanto en las culturas africanas y euroasiáticas, como en las que poblaron América y se mantuvieron sin contacto con aquellas hasta el siglo\\xa0XV.[17]\\u200b Los perros comparten el entorno, los hábitos y el estilo de vida humanos, como las dietas ricas en cereales y almidón. La alimentación inadecuada, así como el uso de antibióticos, son la causa del desarrollo de muchas enfermedades inflamatorias e inmunológicas. Unas cuatrocientas enfermedades del perro tienen una equivalente humana, y destacan especialmente la enfermedad de Alzheimer y otros trastornos neurológicos, así como varios tipos de cáncer, enfermedades autoinmunes y enfermedades cardiovasculares.[18]\\u200b[19]\\u200b[20]\\u200b[21]\\u200b\\nTienen una gran relación con los humanos, y entre tales relaciones se incluyen servir como animales de compañía, animales de guardia, perros de trabajo, perros de caza, galgos de carrera, perros guía, perros pastores o perros boyeros.[cita\\xa0requerida]\\n\\n\\nCaracterísticas\\nDiferencias respecto a otros cánidos\\nEn comparación con lobos de tamaño equivalente, los perros tienden a tener el cráneo un 20\\xa0% más pequeño y el cerebro un 10\\xa0% más pequeño, además de tener los dientes más pequeños que otras especies de cánidos.[22]\\u200b El perro requiere menos calorías para vivir que el lobo. Su dieta de sobras de los humanos hizo que su cerebro grande y los músculos mandibulares utilizados en la caza dejaran de ser necesarios. Algunos expertos piensan que las orejas flácidas de los canes son el resultado de la atrofia de los músculos mandibulares.[22]\\u200b La piel del perro doméstico tiende a ser más gruesa que la del lobo y algunas tribus esquimales prefieren su piel para vestirse, debido a su resistencia al desgaste en un clima inhóspito.[22]\\u200b A diferencia de los lobos, pero al igual que los coyotes, los perros domésticos tienen glándulas sudoríparas en las almohadillas de las patas.[22]\\u200b Las patas de un perro suelen ser más cortas que las de un lobo y su cola tiende a curvarse hacia arriba, otro rasgo que no se observa en los lobos.[23]\\u200b\\n\\nAnatomía externa\\nDiagrama de la anatomía general de un perro: 1. frente, 2. hocico, 3. barboquejo, 4. hombro, 5. codo, 6. pata anterior, 7. punto más alto de la grupa, 8. muslo, 9. corvejón, 10. patas traseras, 11. cruceta, 12. babilla, 13. patas, 14. cola.\\nLa enorme variedad de morfologías en las diferentes razas de perro hace difícil determinar el tamaño y el peso medios de los mismos. Con una altura de entre 71 y 90\\xa0cm, el galgo irlandés es la raza más alta de perro[24]\\u200b —aunque algunos ejemplares de gran danés superan este tamaño, llegando hasta 107\\xa0cm—.[25]\\u200b La raza más pequeña de perro es el chihuahua, con un tamaño de 15-30\\xa0cm en la cruz. Con un peso medio de entre 1,5 y 3\\xa0kg —y que en algunos casos, puede no superar los 500\\xa0g—,[26]\\u200b los chihuahuas también son los canes más ligeros; mientras los mastines ingleses y los san bernardos son los perros más pesados, con un peso que puede llegar a más de 75 u 80\\xa0kg.[27]\\u200b\\nLa longevidad de los perros varía de una raza a otra, pero en general las razas más pequeñas viven más tiempo que las más grandes. Los canes más pequeños a menudo viven hasta la edad de quince o dieciséis años, mientras que los perros más grandes pueden tener una esperanza de vida de solo la mitad. En medio se encuentran todas las razas intermedias. El perro más viejo del que se tiene constancia, un Boyero australiano llamado Bluey, murió en el año 1939 a la edad de veintinueve años.[28]\\u200b La esterilización del animal puede prolongar o acortar su vida, reduciendo el riesgo de contraer enfermedades como la piometra en la hembra o cáncer testicular en el macho. También reduce el riesgo de accidentes y heridas, pues los perros no esterilizados se pelean y se escapan más. Por otro lado, la castración del macho favorece la aparición de cáncer de próstata, una enfermedad que puede acortar drásticamente la vida del animal.[29]\\u200b\\n\\nPelaje\\nPelaje multicolor y denso, ideal para el invierno, en un perro de raza mestiza.\\nAl igual que los lobos, los perros tienen un pelaje, una capa de pelos que les cubre el cuerpo. El pelaje de un can puede ser un «pelaje doble», compuesto de una capa inferior suave y una capa superior basta. A diferencia de los lobos, los perros pueden tener un «pelaje único», carente de capa inferior. Los perros con un pelaje doble, como los lobos, están adaptados para sobrevivir en temperaturas frías y tienden a provenir de climas más fríos.\\nLos perros suelen presentar vestigios de contrasombreado, un patrón de camuflaje natural común. La base general del contrasombreado es que un animal iluminado desde arriba aparece más claro en la mitad superior y más oscuro en la mitad inferior, donde normalmente tiene su propio color.[30]\\u200b[31]\\u200b Este es un patrón que los predadores pueden aprender a reconocer. Un animal contrasombreado tiene una coloración oscura en la superficie superior y una coloración clara en la inferior. Esto reduce la visibilidad general del animal. Un vestigio de este patrón es que muchas razas tienen un lado, una raya o una estrella de pelaje blanco en el pecho o en la parte inferior.\\n\\nEsqueletos de perro gran danés y chihuahua en un museo de osteología.\\nCola\\nHay muchas formas diferentes de cola de perro: recta, recta hacia arriba, forma de hoz, rizada o en tirabuzón. Tradicionalmente a algunas razas de perro se les amputa la cola (caudectomía), lo cual se está comenzando a prohibir en varios países, ya que se considera una forma de crueldad hacia los animales.[32]\\u200b[33]\\u200b En algunas razas, algunos cachorros nacen con una cola corta o sin cola. Esto sucede más a menudo en ciertas razas, especialmente en aquellas en las que a menudo se corta la cola y que por tanto no tienen estándar de raza en cuanto a la cola.\\n\\nAparato locomotor\\nComo la mayoría de mamíferos predadores, el perro tiene músculos potentes, un sistema cardiovascular que permite una alta velocidad y una gran resistencia y dientes para cazar, aguantar y desgarrar las presas.\\nEl esqueleto ancestral de los perros les permite correr y saltar. Sus patas se han desarrollado para impulsarlos rápidamente hacia delante, saltando cuando sea necesario, con el fin de cazar y atrapar las presas. Por tanto, tienen pies pequeños y apretados y caminan sobre los dedos (digitígrados). Sus patas traseras son bastante rígidas y sólidas, mientras que las anteriores son laxas y flexibles, estando unidas al tronco únicamente por músculos.\\nAunque la cría selectiva ha cambiado la apariencia de muchas razas, todos los perros conservan los elementos básicos de sus antepasados. Los perros tienen omóplatos desconectados —carecen de clavícula— que permiten hacer zancadas más largas. La mayoría de las razas conservan las garras vestigiales —espuelas— en las patas anteriores y a veces en las posteriores. Algunas de estas razas, como el perro pastor catalán, pueden presentar un espolón doble en una o más patas. En algunos casos, se les quitan esas garras para evitar que el animal se las arranque sin querer durante la persecución de una presa, pero esta práctica es ilegal en algunos países.\\n\\nSentidos\\nLos sentidos del olfato y del oído del perro son superiores a los del humano en muchos aspectos. Algunas de sus habilidades sensoriales han sido utilizadas por los humanos, como por ejemplo el olfato en los perros de caza, perros buscadores de explosivos o perros buscadores de drogas. Además, son capaces de diferenciar e identificar sonidos concretos como palabras y asociarlos a estímulos externos, como por ejemplo un premio.\\n\\nVista\\nLa visión del can parece adaptada para la caza: No tiene gran agudeza visual de detalles, pero tienen excelente percepción de movimientos. Tiene excelente visión nocturna o crepuscular, debido al uso del tapetum lucidum —una pantalla reflectiva dentro del ojo—.[34]\\u200b\\nEl campo visual del perro se encuentra entre los 240 y los 250 grados, mucho mayor que el del ser humano que es de aproximadamente 180 grados.\\n\\nLa visión del perro es sensible a los objetos en movimiento o con desplazamiento repentino, y cuenta con una excelente visión nocturna o crepuscular.\\nTienen una forma de visión dicromática llamada deuteranopia que en los humanos se considera una forma de daltonismo que afecta al rojo y al verde. Los perros perciben tonalidades de amarillo y de azul, pero el rojo lo perciben como amarillo y el verde lo ven gris.\\nSu sistema visual se ha desarrollado para ayudarles en la caza.[35]\\u200b Aunque es difícil de medir, la agudeza visual de los caniches ha sido estimada como equivalente a una puntuación en el test de Snellen de 20/75. Sin embargo, la discriminación visual es muy superior cuando se trata de objetos en movimiento. Se ha demostrado que los perros son capaces de distinguir su dueño de otras personas a distancias de más de un kilómetro y medio.[cita\\xa0requerida] Como cazadores crepusculares dependen de su visión en condiciones de poca iluminación. Para ayudarles a ver en la oscuridad tienen pupilas muy grandes, una mayor densidad de bastoncillos en la fóvea óptica, una mayor velocidad de parpadeo y un tapetum lucidum refractivo. El tapetum es una superficie refractiva situada detrás de la retina que refleja la luz para dar a los fotorreceptores una segunda oportunidad de captar los fotones. Aunque estas adaptaciones sirven para mejorar la visión en la oscuridad, también reducen la agudeza visual de los perros.\\nComo la mayoría de los mamíferos, los perros son dicromatos y tienen una visión en color equivalente al daltonismo rojo-verde en los humanos.[36]\\u200b[37]\\u200b[38]\\u200b Las diferentes razas caninas tienen diversas formas y tamaños de los ojos y también tienen una configuración distinta de la retina.[39]\\u200b Los perros con el hocico largo tienen una «raya visual» que se extiende por el ancho de la retina y que les da un campo muy amplio de visión excelente, mientras que los perros con el hocico corto tienen una área centralis, una región central con hasta tres veces la densidad de terminaciones nerviosas de la «raya visual», que los provee una vista detallada, mucho más similar a la de los humanos.\\nAlgunas razas, particularmente los galgos, tienen un campo de visión de hasta 270°, aunque las razas de cabeza ancha con el hocico corto tienen un campo de visión mucho más estrecho, tan bajo como 180°, similar al de los seres humanos. Algunas razas también presentan una tendencia genética a la miopía. Aunque la mayoría de razas son emmetrópicas, se ha descubierto que uno de cada dos rottweilers son miopes.[40]\\u200b\\n\\nOído\\nEl campo de audibilidad del perro es aproximadamente de 40\\xa0Hz a 60\\xa0000\\xa0Hz.[41]\\u200b Detectan sonidos tan graves como 16-20\\xa0Hz —en comparación con 20-70\\xa0Hz en los humanos— y también por encima de 45\\xa0kHz[42]\\u200b —en comparación con 13-20\\xa0kHz en los humanos—, y además tienen un grado de movilidad de las orejas que les permite determinar rápidamente el origen exacto de un sonido. Dieciocho o más músculos pueden inclinar, rotar, levantar o bajar las orejas de un perro. Además, puede localizar el origen de un sonido mucho más rápido que un humano y detectar sonidos a una distancia hasta cuatro veces mayor que los humanos. Los perros con una forma de la oreja más natural, como las orejas de cánidos salvajes como el zorro, suelen oír mejor que los perros con las orejas más flexibles típicas de muchas razas domésticas.\\n\\nOlfato\\nEl olfato es uno de los principales sentidos con que el perro descubre el mundo. La nariz canina es altamente sensible.\\nMientras que el cerebro humano es dominado por una gran corteza visual, el cerebro canino es dominado principalmente por una corteza olfativa. El bulbo olfativo de los perros, en proporción al tamaño total del cerebro, es unas cuarenta veces mayor que el de los humanos. Según la raza, los perros tienen entre 125 y 220 millones de células olfativas extendidas sobre un área del tamaño de un pañuelo de bolsillo —en comparación con cinco millones de células extendidas sobre el área de un sello en los humanos—.[35]\\u200b[43]\\u200b[44]\\u200b Los bloodhound son la excepción, con aproximadamente 300 millones de receptores olfativos. Los perros pueden distinguir olores a concentraciones casi 100 millones de veces inferiores a las que pueden distinguir los humanos.[45]\\u200b\\n\\nGusto\\nEntre los sentidos caninos, el del sabor es el que menos se ha investigado y a menudo se le ha relacionado con el olfato. Los perros pueden distinguir los sabores básicos de manera similar a los humanos, aunque casi no distinguen el salado.[46]\\u200b Sin embargo, los gustos preferidos pueden diferir mucho de un can a otro, pues parece que no eligen la comida según el tipo de gusto, sino según su intensidad —fuerte sabor / gusto suave—. Los primeros meses de la vida de un cachorro son bastante importantes en este sentido ya que suelen probar muchos sabores diferentes cuando son jóvenes también desarrollarán un gusto por la variedad cuando sean adultos.[47]\\u200b Al igual que el ser humano y que muchos otros animales, el perro tiene la capacidad de asociar determinados gustos con los problemas de salud. Si un alimento lo hace enfermar o hace que se encuentre mal, tenderá a evitar el sabor de este alimento en el futuro. Esto forma parte de un mecanismo de defensa instintivo, que protege a muchos animales de envenenarse por la ingestión frecuente de sustancias tóxicas.\\n\\nTacto\\nLos perros utilizan el sentido del tacto para comunicarse entre ellos y con otras especies. Si se hace apropiadamente, tocar un can puede servir para estimularlo o relajarlo. Se trata del primer sentido que se desarrolla en los cachorros recién nacidos y las perras comienzan a lamer y acariciar sus crías poco después del nacimiento.[48]\\u200b Algunos estudios han sugerido incluso que los perros pueden detectar movimientos en el abdomen de la madre incluso antes de nacer y que las perras que son mimadas durante la gestación dan a luz crías más dóciles.[49]\\u200b Los perros tienen sensores táctiles en todo el cuerpo, pero los cojinetes, la columna vertebral y la región de la cola son algunas de las zonas más sensibles.\\nLas vibrisas de los perros presentan mecanorreceptores que les sirven para adquirir información táctil de su ambiente, pero esta función no es tan importante como lo es en los gatos. Entre otras cosas, sirven para sentir el flujo del aire. Además del hocico, donde reciben el nombre de «bigotes», los perros tienen vibrisas encima de los ojos y debajo de la mandíbula.\\n\\nComportamiento\\nInteligencia\\nMuchos perros pueden ser entrenados fácilmente para recuperar objetos como este palo.\\nCachorro reposando en un colchón.\\nLos perros son apreciados por su inteligencia.[50]\\u200b La inteligencia canina se refiere a la habilidad de un perro de procesar la información que recibe a través de sus sentidos para aprender, adaptarse y resolver problemas. La etología cognitiva es la disciplina que se encarga de estudiar esta área dentro de la cognición animal.\\nAlgunos estudios de antropología evolutiva se centran también en la identificación de las capacidades cognitivas especiales que el can posee, y que ha desarrollado debido a su estrecho contacto con el ser humano; como es la habilidad de reconocer un vocabulario extenso. En un ejercicio para observar su nivel de comprensión pasivo del vocabulario humano, se le pidió a un humano sentado detrás de una barrera transparente que sostuviera un juguete, y con voz monótona, le diera al perro la orden «trae» (bring). El perro se dirigió a un círculo en donde estaban dispersos diferentes objetos —desde un juguete exactamente igual al que el humano solicitó, hasta otro tipo de cosas con texturas y colores diferentes—, el animal observó por un momento el círculo de objetos para dirigirse a por el juguete exacto que se le había pedido y después presentarlo al humano. También se le pidió que trajera determinados objetos utilizando solamente la fotografía o réplica en miniatura del objeto. El estudio fue complementado con dos condiciones de control adicionales para evitar que el animal actuara por preferencias preestablecidas. El ejemplar utilizado —Border collie— pudo reconocer hasta 200 palabras del vocabulario humano.[51]\\u200b\\nLa habilidad de aprender rápido ha sido utilizada como uno de los parámetros para medir la inteligencia entre las razas caninas, otras pruebas tienen que ver con el deseo y la habilidad de responder ante diversas situaciones. Los perros guías, por ejemplo, deben aprender un número enorme de órdenes, entender cómo comportarse en una gran variedad de situaciones y reconocer riesgos o peligros a su compañero humano —frente a alguno de los cuales nunca se han enfrentado con anterioridad—, actuando incluso bajo el comportamiento conocido como desobediencia inteligente que significa que el animal de asistencia irá en contra del deseo de su dueño para evitar una decisión equivocada.[52]\\u200b[53]\\u200b\\nCiertas razas han sido continuamente seleccionadas a lo largo de cientos o miles de años por su capacidad de rápido aprendizaje, mientras que en otras razas, esta cualidad ha sido relegada en favor de otras características, como son: la habilidad de correr, perseguir, cazar o de pelear con otros animales. Sin embargo, la capacidad de aprender obediencia básica —y eventualmente comportamientos complejos— es inherente en todos los perros. Aun el perro más tímido o distraído responde más fácilmente al entrenamiento que, por ejemplo, un gato. Los propietarios deben ser simplemente más pacientes con algunas razas que con otras. Al igual que el lobo, el perro es un animal gregario.\\n\\nSocialización\\nSistema de sujeción a la entrada de un edificio.\\nTambién en los perros, el término socialización se utiliza para caracterizar el proceso por el cual el animal se relaciona con su entorno, conoce sus reglas, entiende la estructura social, y percibe los límites. Los perros jóvenes a menudo aprenden rápidamente cómo comportarse con otros miembros del grupo, ya sean canes o humanos. Los perros adultos modelan a sus cachorros mediante correcciones —auditivas o físicas— cuando no se comportan de la forma esperada, y con premios si tienen comportamientos aceptables —jugando con ellos, alimentándolos, limpiándolos, entre otros—.\\nEl proceso de socialización se lleva a cabo especialmente de forma intensa durante los primeros meses de vida, y la primera etapa se extiende aproximadamente desde la tercera hasta la duodécima semana de vida. Tiempo en el que se basa la maduración de los órganos sensoriales y el desarrollo de las habilidades motoras.[54]\\u200b\\nCuando son cachorros deberán experimentar:\\n\\nInteracción con otros perros (comunicación, aprendizaje de conductas de grupo).\\nInteracción con otros animales (gatos, cobayas, pájaros, caballos).\\nInteracción con seres humanos.\\nHabituación a los estímulos ambientales, tales como; sirenas de automóviles, ruidos cotidianos en el hogar, aviones, sonidos estridentes —fuegos artificiales de Año Nuevo— y también acostumbrarse a las multitudes o tráfico pedestre.\\nLa socialización canina se refiere tanto a la capacidad del perro de interaccionar con los seres humanos, como a su comprensión para comunicarse y relacionarse con otros perros.\\nUn can bien socializado aprende a estar tranquilo y receptivo a la hora de hacer frente a los extraños, los niños, otras mascotas y situaciones no previstas. El desarrollo futuro de cada perro está determinado principalmente por su socialización y educación. Perros mal socializados tendrán dificultades para adaptarse a su entorno y tenderán a presentar conductas y actitudes temerosas o agresivas, junto con otros trastornos del comportamiento.[54]\\u200b Los procesos de socialización que no se producen en las primeras catorce semanas de vida no pueden ser sustituidos. Un cachorro sin socialización con catorce semanas de vida será muy difícil de educar y/o adiestrar.[54]\\u200b En qué medida esto se traduce en trastornos de la conducta dependerá de la evaluación del perro de forma individual.[54]\\u200b\\nDebido a que son animales con tendencia a usar guaridas en el momento del parto y para criar a sus cachorros, pueden aprender fácilmente comportamientos como mantener su lugar limpio y aceptar estar en un área cerrada —como es el caso de una jaula temporal para transporte— u otro lugar cercado.\\n\\nProblemas de comportamiento o anormales\\n\\n\\n\\n\\nEste artículo o sección necesita referencias que aparezcan en una publicación acreditada. \\nBusca fuentes: «Canis familiaris» – noticias\\xa0· libros\\xa0· académico\\xa0· imágenesEste aviso fue puesto el 8 de septiembre de 2021.\\n\\n\\nLos trastornos de la conducta canina se clasifican en tres tipos: patologías del desarrollo, sociopatías —relacionadas con el ambiente y su jauría humana o animal—, comportamientos disfuncionales que alteran la conducta normal, y que se ajustan para hacer frente a una situación cotidiana (fobia).[55]\\u200b Según la tesis de zoo psiquiatría desarrollada por Patrick Pageat:\\n\\nAgresiones de tipo jerárquicas, territorial/maternal, por miedo, irritación, predatorias y redirigidas.\\nDestructivas, orina/defecaciones indeseadas, ansiedades, miedos y fobias (a la pirotecnia, por ejemplo).\\nTrastornos compulsivos y estereotipias (persecución de cola, auto lamido).\\nTrastornos alimentarios y dípsicos (anorexia/bulimia, potomanía).\\nTrastornos sexuales (hipersexualidad, pseudogestación), depresión de involución.\\nCabe señalar también que muchas de las malas costumbres caninas son la muestra de comportamientos desarrollados por razones tales como: falta de actividad —caminatas o deportes caninos—, ausencia de socialización, disciplina, entrenamiento o educación irresponsable por parte de los propios dueños.\\n\\nGruñido\\nUn estudio reciente en Budapest, Hungría, ha encontrado que los perros son capaces de saber el tamaño que otro perro tiene con solo escuchar su gruñido. También que un gruñido específico es utilizado por los perros para proteger su comida. La investigación mostró que los perros no mienten sobre su tamaño, siendo esta la primera vez que una investigación ha puesto de manifiesto que los animales pueden determinar el tamaño de otro por el sonido que producen. La prueba utilizó imágenes de muchos tipos de perros, mostrando un can pequeño, después uno grande y reproduciendo el gruñido de cada tipo. El resultado demostró que —20 de los 24 perros del ensayo— miraban primero a la imagen del perro de tamaño apropiado durante los períodos más largos de tiempo.[56]\\u200b\\n\\nSalud\\nLa salud de los perros, igual que la humana, está relacionada con el tipo de vida que lleve —alimentación, ejercicio físico, educación—, sobre todo durante los períodos de mayor vulnerabilidad: crecimiento, gestación, amamantamiento, trabajo y vejez. Son susceptibles a diversas enfermedades, trastornos y venenos, algunos de los cuales afectan a los humanos de la misma manera y otros que son exclusivos de los perros.\\nLos perros y los humanos han evolucionado conjuntamente durante los últimos 12\\xa0000 años, compartiendo la exposición a las mismas condiciones ambientales y la modificación de la alimentación ancestral.[18]\\u200b[16]\\u200b El ser humano pasó de una alimentación basada en la caza y la recolección a una dieta con un alto contenido en cereales. De la misma forma, el perro pasó de una alimentación carnívora a una dieta rica en cereales.[18]\\u200b[57]\\u200b[58]\\u200b[59]\\u200b[60]\\u200b Este cambio de la alimentación se ha producido a un ritmo muy rápido en un plazo de tiempo muy corto desde el punto de vista evolutivo. La humanidad existe desde hace unos 2,5 millones de años y los cánidos desde hace 34 millones de años, pero los cereales se introdujeron en la dieta de ambos hace unos 10\\xa0000 años, durante la revolución neolítica y el desarrollo de la agricultura.[58]\\u200b[60]\\u200b[61]\\u200b[62]\\u200b Las evidencias históricas y arqueológicas muestran que previamente, los seres humanos en general no mostraban signos ni síntomas de enfermedades crónicas y que, coincidiendo con la inclusión de los cereales en la dieta, se produjo una serie de consecuencias negativas sobre la salud, muchas de las cuales continúan presentes en la actualidad.[63]\\u200b[59]\\u200b[60]\\u200b Entre ellas cabe destacar múltiples deficiencias nutricionales, trastornos minerales que afectan tanto a los huesos (osteopenia, osteoporosis, raquitismo) como a los dientes (hipoplasias del esmalte dental, caries dentales), y una alta incidencia de trastornos neurológicos, enfermedades psiquiátricas, obesidad, diabetes tipo 2, ateroesclerosis y otras enfermedades crónicas o degenerativas.[63]\\u200b[59]\\u200b[60]\\u200b[58]\\u200b En qué medida ha ocurrido lo mismo en el caso de los perros y hasta qué punto el perfil de nutrientes de la dieta de sus antepasados los lobos (claramente carnívoros) es el óptimo para los perros domésticos, son objeto de estudio. Los alimentos comerciales para perros contienen sustancias que no pueden digerir o no digieren completamente, tales como tejidos animales de baja calidad (por ejemplo, huesos), fibras de origen vegetal y proteínas indigestas, que son un sustrato para la fermentación por la flora intestinal. También contienen altas cantidades de almidón procedente de los cereales y, si bien se ha demostrado que el can doméstico ha desarrollado una mayor capacidad digestiva y de absorción del almidón, no se ha determinado el impacto sobre la salud y la esperanza de vida de esta alta cantidad constante de glucosa absorbida por el perro.[63]\\u200b Muchas de las enfermedades inflamatorias e inmunológicas que desarrollan los perros son provocadas por alteraciones de la flora intestinal como consecuencia de una dieta inadecuada o el uso de antibióticos, tales como enfermedades digestivas crónicas, alergias respiratorias, asma, enfermedades de la piel (especialmente dermatitis atópica) y trastornos autoinmunes.[21]\\u200b Una dieta rica en proteínas y libre de cereales dará los nutrientes necesarios manteniendo la dieta de sus antepasados.[64]\\u200b\\nJunto a los humanos, los perros domésticos tienen la mayor diversidad fenotípica y enfermedades naturales conocidas de todos los mamíferos. Aproximadamente 400 enfermedades hereditarias similares a las de los humanos se caracterizan en los perros, incluidos trastornos complejos como cánceres, enfermedades cardiovasculares, enfermedades autoinmunes y trastornos neurológicos.[19]\\u200b[20]\\u200b Entre estos últimos, destaca especialmente la enfermedad de Alzheimer. Los perros muestran muchas similitudes con el deterioro cognitivo humano, incluyendo la acumulación en el cerebro de placas amiloides. Esto los convierte en el mejor modelo animal de investigación de la enfermedad de Alzheimer.[18]\\u200b\\nComo todos los mamíferos, son susceptibles a la hipertermia cuando hay niveles elevados de humedad y/o de temperatura.[65]\\u200b\\nLa longevidad media de un perro varía mucho en función de la raza, y oscila entre 8 y 15 años, si goza de buena salud puede vivir hasta 20 años, o incluso más; el perro más longevo que se conoce llegó a los 29 años.[66]\\u200b Las razas pequeñas suelen tener una esperanza de vida mayor que las grandes y las gigantes.[67]\\u200b\\n\\n\\n\\nValores orientativos caninos\\n\\n\\nTemperatura corporal:\\n38,5-39,5\\xa0°C\\n\\n\\nFrecuencia respiratoria:\\n20-40 respiraciones / min\\n\\n\\nFrecuencia cardíaca:\\n70-180 latidos / min y hasta 220 en cachorros\\n\\n\\nDuración del crecimiento:\\nRazas pequeñas: hasta los 10 meses\\nRazas medianas: hasta los 12 meses\\nRazas grandes: hasta los 15 meses\\n\\n\\nPeríodo de vejez:\\nRazas pequeñas: desde los 8 años\\nRazas medianas: desde los 7 años\\nRazas grandes: desde los 5 años\\n\\nEn ocasiones es el médico veterinario quien recomienda qué tipo de vacuna se debe aplicar, es importante que el propietario tenga en conocimiento que en cuanto a aplicaciones víricas, funciona mejor en el organismo del animal una vacuna de virus atenuado o modificado, ya que este tipo de biológicos dan un incremento paulatino de anticuerpos, logrando una protección muy eficaz sin los efectos adversos postinoculación que pueden existir con la aplicación de una vacuna a virus activo; los efectos con este tipo de vacunas pueden ir desde simple fiebre y vómito hasta un choque anafiláctico o la muerte.\\n\\nEnfermedades\\nPerro con obesidad.\\nEjemplares híbridos de la raza pekinés.\\nLos perros, igual que el resto de los seres vivos, corre riesgo de enfermarse. Los perros pueden ser una fuente de contagio de determinadas enfermedades para el hombre. Por esta razón, y por la propia salud de la mascota, es muy importante la correcta vacunación y desparasitación interna y externa regular.\\nAlgunas razas de perro son propensas a determinados trastornos genéticos, tales como la displasia de cadera, luxaciones rotulares, paladar leporino, ceguera, sordera o enteropatía sensible al gluten. También son susceptibles a trastornos como la diabetes, la epilepsia, el cáncer, la artritis y la obesidad.\\nLa obesidad es una patología frecuente. Se considera que un perro tiene sobrepeso cuando su peso está por encima del ideal, dependiendo también del tipo de raza; sin embargo, se considera un perro como obeso cuando sobrepasa más del 20\\xa0% su peso ideal, la obesidad debe considerarse como una enfermedad consecuencia de la alteración de las funciones normales del organismo. Para su solución es preciso diagnosticarla, conocer las causas que la han producido y proponer soluciones. La frecuencia de obesidad aumenta con la edad, y es más frecuente en hembras que en machos y es dos veces más elevada en perros castrados. Las razas caninas con más tendencia a engordar son el Labrador Retriever, Cocker Spaniel, Dachshund, Pastor de Shetland, Collie, Basset hound y Beagle. La causa de la obesidad es que se almacena más energía de la que se consume. Un perro que consuma un 1\\xa0% más de la energía que necesita puede aumentar su peso hasta un 25\\xa0% más de lo debido.\\nLa torsión gástrica y la meteorización son un problema serio en algunas razas de pecho ancho.\\nLas enfermedades infecciosas habitualmente asociadas con los perros incluyen la leptospirosis, el parvovirus canino y el moquillo. Para protegerlos de ellas, los perros deben ser vacunados, así como también contra la rabia, enfermedad que se transmite al ser humano y es altamente mortal.\\nLas enfermedades heredables de los canes pueden incluir una gran variedad, desde la displasia de cadera y las luxaciones rotulares mediales hasta epilepsia, diabetes y estenosis pulmonar. Los perros pueden contraer enfermedades que afectan cualquiera de sus órganos, como el hipotiroidismo, cáncer, enfermedades periodontales, enfermedades cardíacas, insuficiencia renal, etc.\\nEs de destacar la piómetra, que afecta a las hembras no esterilizadas de todas clases y edades que no han tenida una vida reproductiva, cuya remedio suele ser quirúrgico. El meteorismo gástrico y la torsión estomacal afectan a las razas más grandes y los perros de pecho ancho, y son un trastorno agudo que puede matar rápidamente.\\nLos parásitos externos más comunes del perro son la pulga, la garrapata y el piojo, mientras que los internos son diferentes cestodos, nematodos, como áscaris, anquilostomas, dirofilarias, diversas tenias y otros. Entre estas últimas se encuentra el Echinococcus granulosus, cuya forma evolutiva intermedia es responsable de la hidatidosis humana.\\nLos perros pueden sufrir alergias, que pueden afectar a la piel o provocar alteraciones digestivas. Los alimentos que normalmente producen alergias son carne de res, lácteos, trigo, huevo, cordero, pollo y soja.[68]\\u200b\\nEl setter irlandés puede desarrollar enteropatía sensible al gluten, una enfermedad similar a la enfermedad celíaca o la sensibilidad al gluten no celíaca de los seres humanos.[69]\\u200b Se trata de una enfermedad inflamatoria crónica del intestino delgado, determinada genéticamente y causada por el consumo de gluten.[69]\\u200b\\nLas enfermedades pueden tener un origen viral, bacteriano, parasitario, genético, alérgico o inmunitario, o varios de ellos a la vez. Entre ellas pueden citarse:\\n\\n\\nalergias cutáneas\\ncriptorquidia\\ndiabetes\\ndisplasia de cadera\\nepilepsia\\nhepatitis canina\\nleptospirosis\\nmoquillo o distemper\\notitis infecciosa\\nparásitos externos\\nparásitos intestinales\\nparvovirosis\\npiómetra\\npiorrea\\nrabia\\nreumatismo\\nsarna\\ntorsión gástrica\\ntoxoplasmosis\\n\\nReproducción\\nUna perra salvaje de Sri Lanka cuida a sus cuatro cachorros.\\nEn los perros domésticos, la madurez sexual (pubertad) comienza a producirse a la edad de entre seis y doce meses tanto en los machos como en las hembras,[70]\\u200b[71]\\u200b aunque en algunas razas de gran tamaño puede retrasarse hasta la edad de dos años. La adolescencia de la mayoría de los perros dura entre los doce y los quince meses de edad, a partir de los cuales ya son más adultos que cachorros. Como en el caso de otras especies domesticadas, la domesticación ha favorecido una mayor libido y un ciclo de reproducción más temprano y frecuente en los perros que en sus antepasados salvajes. El perro permanece reproductivamente activo durante toda su vida.\\nLas hembras entran en celo dos veces por año, el período durante el cual están receptivas al macho para la copulación, con sus órganos preparados para la gestación. Como los óvulos sobreviven y pueden ser fertilizados durante unos días después de la ovulación, es posible que una hembra se aparee con más de un macho.\\nLa gestación en las perras dura 63 días término medio, con un rango que va de los 58 a los 68.[72]\\u200b Una camada promedio se compone de alrededor de seis cachorros.[73]\\u200b Las razas grandes tienen camadas más numerosas (un promedio de 8-12 crías),[74]\\u200b las razas medianas de 6 a 7 crías,[74]\\u200b y las razas pequeñas de dos a cuatro crías.[74]\\u200b\\nDebido a la cría selectiva algunas razas han adquirido rasgos que interfieren con la reproducción. Los machos de bulldog francés, por ejemplo, suelen ser incapaces de montar a la hembra. En la gran mayoría de casos, las hembras de esta raza deben ser inseminadas artificialmente para que se reproduzcan y frecuentemente darán a luz a través de cesárea.[75]\\u200b\\n\\nCastración y esterilización\\nArtículo principal:  Castración\\nCachorros durante un juego de lucha para establecer su jerarquía.\\nLa esterilización es un proceso quirúrgico, que consiste normalmente en la extirpación de los testículos en los machos y los ovarios (o el útero o los ovarios y el útero) en las hembras y que se hace para eliminar la capacidad de reproducirse y reducir el deseo sexual de los perros. Debido a la sobrepoblación de perros en algunos países, las asociaciones de control de los animales aconsejan esterilizar los perros que no se piense utilizar para criar, de manera que no tengan cachorros no deseados.[76]\\u200b\\nLa esterilización tiene otros beneficios aparte de eliminar la capacidad de procrear. Reduce los problemas causados por la hipersexualidad en los machos,[77]\\u200b al tiempo que impide el desarrollo de hiperplasia prostática. Las hembras esterilizadas tienen menos probabilidades de desarrollar ciertos tipos de cáncer, que afectan a las glándulas mamarias, los ovarios y otros órganos reproductores.[78]\\u200b Por otra parte, prácticamente se elimina la posibilidad de que las hembras desarrollen piometra, una enfermedad degenerativa del útero, que puede llegar a ser mortal si no se trata adecuadamente.\\nTambién puede tener efectos médicos no deseados. Aumenta el riesgo de incontinencia urinaria en las hembras[79]\\u200b así como de osteosarcoma, hemangiosarcoma, rotura del ligamento cruzado, obesidad y diabetes mellitus en ambos sexos.[80]\\u200b Los cambios hormonales que implica la esterilización tienen una probabilidad de cambiar en cierta medida la personalidad y el metabolismo del animal. Estudios recientes demuestran que los perros esterilizados en general son más agresivos hacia sus semejantes y los humanos y más miedosos y sensibles al tacto que los canes que no han sido esterilizados,[81]\\u200b aunque los efectos varían de un perro a otro. La esterilización de animales muy jóvenes puede causar más problemas de salud más adelante en la vida para ambos sexos.[82]\\u200b\\n\\nAlimentación\\nArtículo principal:  Comida para perros\\nExisten dos tipos básicos de alimentación: industrial y natural.\\n\\nCarne cruda, alimento húmedo y comida seca para perro en un recipiente.\\nAlimentos no recomendados para los perros\\nChocolate: contiene una sustancia llamada teobromina que causa intoxicación en el organismo del can y puede ser fatal en dosis grandes.\\nGolosinas: frituras, caramelos, galletas; tienden a formar sarro en la dentadura del perro. Además los azúcares les hacen propensos a la diabetes. Existen golosinas especiales para ellos que incluso protegen de la formación de sarro.\\nHuesos: en especial los de pollo o los fácilmente astillables. Al ser triturados por la mandíbula del perro pueden formar esquirlas con puntas muy agudas, las cuales podrían incrustarse y dañar la boca o perforar el esófago, intestino o recto provocando lesiones internas, además de formar bolos fecales de difícil expulsión, sobre todo en los ejemplares añosos.\\nDesperdicios caseros: se deben evitar los alimentos muy condimentados, ya que los perros son especialmente sensibles a la sal, pimienta y chile. De igual forma se deben evitar los alimentos con exceso de grasa. Los desperdicios o restos de alimentos, normalmente poco frescos deben ser eliminados. No se debe permitir que coman restos hallados en la calle, pues podría sufrir gastroenteritis o intoxicación.\\nCarne de cerdo o jabalí y pecarí: se debe evitar, sobre todo si tiene origen en una fuente sin control sanitario (matanza casera o caza, por ejemplo), por la posibilidad de contraer la enfermedad de Aujeszky o pseudorrabia, que, aunque rara, suele ser mortal para los cánidos y generalmente es asintomática en los suinos.\\nPredadores\\nAunque los perros salvajes, como los lobos, son predadores alfa, pueden morir en combates territoriales con animales salvajes. Además en las zonas en las que los perros son simpátricas con otros predadores grandes, los perros pueden ser una fuente de alimento importante para cánidos o félidos grandes. En Croacia mueren más perros que ovejas, mientras que en Rusia los lobos limitan las poblaciones de perros ferales. En Wisconsin se paga una mayor compensación por la pérdida de perros que de ganado. Ha habido casos en los que un par de lobos matan perros, siguiendo un método en el que uno de ellos atrae al perro hacia vegetación densa, donde el otro lobo prepara una emboscada.[83]\\u200b En algunos casos, los lobos han mostrado una falta anormal de miedo de los humanos y de los edificios a la hora de atacar perros, hasta el punto que se les debe expulsar o matar.[84]\\u200b Los coyotes también atacan perros.[85]\\u200b Se conocen casos de fieras que matan perros. Se sabe que los leopardos tienen una predilección por los perros y han matado y se han comido incluso ejemplares grandes y feroces.[86]\\u200b A diferencia de los leopardos que viven en la misma región, los tigres de la India raramente atacan canes, aunque en Manchuria, Indochina, Indonesia y Malasia, los tigres matan perros con el mismo vigor que los leopardos.[87]\\u200b Finalmente, las hienas rayadas son grandes predadores de perros en los pueblos de Turkmenistán, India y Cáucaso.[88]\\u200b\\n\\nAncestros e historia de la domesticación\\nFigura de perro realizada por la cultura Colima entre 100 AC y 300 DC.\\nMosaico romano que muestra un perro con collar.\\nEl perro es una subespecie doméstica del lobo, según la comparación de los mapas genéticos de ambas especies.[89]\\u200b La evidencia fósil más antigua de un perro domesticado fue encontrada en 2008 en la cueva Goyet de Bélgica, correspondiente a unos 31\\xa0700 años y al parecer asociado a la cultura auriñaciense.[90]\\u200b Hasta entonces las pruebas más remotas se habían encontrado en Rusia, con una antigüedad de 14\\xa0000 años (Eliseevich). El ser humano consiguió domesticar a ejemplares de lobos o, más probablemente, se demostró incapaz de impedir que los lobos se introdujeran en sus aldeas y tuvieran allí a sus cachorros. El perro era útil como ayuda en la caza y para defender al grupo y su morada, como demuestran grabados de hace 6000 años en Arabia Saudí.[91]\\u200b Poco a poco, el hombre los adaptó a sus necesidades, creando diferentes razas para las distintas labores y características ambientales y geográficas. La evidencia genética y arqueológica sugiere que el proceso de domesticación se produjo en los dos extremos de África y Eurasia de forma independiente —aunque posteriormente la población oriental reemplazó casi por completo a la occidental—,[92]\\u200b así como en las culturas que poblaron todo el continente americano.[17]\\u200b\\nEl ser humano se dio cuenta rápidamente de los finos sentidos del olfato y el oído que tenía el perro: su olfato es más potente que el del humano —su área olfatoria es veinte veces más gruesa, en el caso del pastor alemán tiene una superficie treinta y cuatro veces mayor y cuarenta veces más células olfatorias que los humanos— y su oído es capaz de percibir sonidos muy por debajo y por encima del rango que oyen los humanos. Estas ventajas aumentan su utilidad para la caza y las labores de guarda tales como el pastoreo y protección de los rebaños. Los perros son muy valorados por su ayuda en la caza. Los canes enterrados en el cementerio mesolítico de Svaerdborg en Dinamarca muestran que, en la Europa antigua, eran ya una valiosa compañía. Como animal de costumbres sociales, que convive en grupos perfectamente jerarquizados, se adaptó a convivir con los humanos.\\nEl perro ha acompañado al ser humano en su proceso a la civilización. Su presencia está probada en todas las culturas del mundo. Así, en Perú, en la era prehispánica, los moches los usaban como ayuda en la caza y también como mascotas en casa. En el entierro del Señor de Sipán, se encontraron dentro de las tumbas restos de un can que seguramente se usó en la caza, ya que el cráneo tenía perfectamente desarrollados sus molares.\\nEl cráneo y los dientes del perro doméstico han disminuido de tamaño con relación al lobo al no necesitar matar presas grandes. Así mismo, al pasar de una dieta de carne a una constituida por los desechos provenientes de la alimentación de los humanos, desarrollaron cerebros más pequeños que requieren menos calorías y menos proteínas para su crecimiento y sustento.\\nLa percepción del can por parte del ser humano ha variado y varía según las culturas. En varias etnias americanas anteriores a 1492, tal y como aún ocurre en zonas del Extremo Oriente Asiático, los perros eran usados directamente como alimento. En zonas del Oriente Medio el perro ha sido asociado por su aspecto con los chacales —de hecho científicamente se creyó hasta el desarrollo de la genética a fines del siglo\\xa0XX que los canes comunes de todo el mundo eran descendientes de chacales— y al ser los chacales animales principalmente carroñeros, los perros también han sido considerados impuros en esa zona. Quizás la única especie de perro que no desciende del lobo es el perro fueguino, que descendería del culpeo.\\nEn 2016, Angela Perri, del Departamento de Evolución Humana del Instituto Max Planck de Antropología Evolutiva, propone que los perros modernos podrían no descender del mismo linaje que el lobo gris moderno, sino de una subespecie de lobo del Pleistoceno aún sin identificar.[93]\\u200b[94]\\u200b\\n\\nRazas\\nArtículo principal:  Raza de perro\\nSe han criado una gran variedad de razas caninas con distintas formas, colores y tallas. Esta imagen muestra la diferencia de tamaño entre un gran danés y un dachshund.\\nHay numerosas razas de perro, las organizaciones cinológicas reconocen más de 400.[15]\\u200b[95]\\u200b Muchos canes, especialmente fuera de Estados Unidos y de Europa occidental, no pertenecen a ninguna raza reconocida. Unos cuantos tipos de perro básicos han evolucionado gradualmente durante la relación del perro doméstico con los humanos a lo largo de los últimos 10\\xa0000 años o más pero todas las razas modernas tienen un origen relativamente moderno. Muchas de ellas son el resultado de un proceso deliberado de selección artificial como en el caso de los terriers o de los schnauzers. Debido a esto, algunas razas están altamente especializadas y hay una diversidad morfológica extraordinaria entre razas diferentes. Pese a estas diferencias, los perros son capaces de distinguir los otros perros de otros tipos de animal.\\n\\nEste ejemplar es un cruce de Cairn terrier y Bichón maltés.\\nLa definición de lo que es una raza de perro es tema de una cierta polémica. Dependiendo del tamaño de la población fundadora original, las razas con un acervo génico reducido pueden tener problemas de consanguinidad, concretamente debido al efecto fundador. Los criadores de perros toman cada vez más conciencia de la importancia de la genética de poblaciones y de mantener patrimonios génicos diversos. Las pruebas de salud y ADN pueden contribuir a evitar problemas, ofreciendo un sustituto de la selección natural. Sin selección, los patrimonios génicos consanguíneos o cerrados pueden aumentar el riesgo de graves problemas de salud o de comportamiento. Algunas organizaciones definen una raza menos estrictamente, de modo que un ejemplar puede ser considerado de una raza siempre que el 75\\xa0% de su ascendencia sea de esta raza. Estas consideraciones afectan tanto a los animales de compañía como los perros que participan en exposiciones caninas. Incluso perros con pedigrí que han sido premiados sufren de defectos genéticos debido al efecto fundador o consanguinidad.[96]\\u200b Estos problemas no se limitan a los perros de pedigrí y pueden afectar ejemplares cruzados. Se puede predecir en cierta medida el comportamiento y la apariencia de un can de una raza determinada, mientras que los cruces presentan un abanico más amplio de apariencia y comportamiento innovadores.\\n\\nPerro mestizo peruano, con ascendencia de diferentes razas.\\nLos perros mestizos son aquellos que no pertenecen a ninguna raza determinada, sino que tienen ascendencia de diferentes razas. Tanto los canes de pedigrí como los mezclados son aptos como animales de compañía, perros de carga o competidores en deportes cinófilos. A veces se cruzan deliberadamente perros de dos razas diferentes para crear una raza mezclada como el Cockapoo, que es una mezcla de cocker spaniel y caniche en miniatura. Estos cruces deliberados pueden presentar un cierto grado de vigor híbrido y otras características deseables, pero pueden o no pueden heredar características deseables de sus padres, como el temperamento o un determinado color o pelaje. Si no se hacen pruebas genéticas a los padres, los cruces pueden acabar heredando defectos genéticos presentes en las dos razas parientes.\\nUna raza es un grupo de animales que tiene un conjunto de características heredadas que los distinguen de otros animales de la misma especie. El cruce deliberado de dos o más razas también es una manera de crear nuevas razas, pero solo será una raza cuando los descendientes presentan de forma fiable este conjunto de características y cualidades.\\n\\nClasificación según la FCI\\nLa Federación Cinológica Internacional establece una clasificación en diez grandes grupos por la función y características de los canes.[97]\\u200b\\n\\nlebreles;\\nperros cobradores y levantadores de caza y perros de agua;\\nperros de compañía\\nperros de muestra;\\nperros pastor y boyeros (excepto boyeros suizos);\\nperros tipo pinscher y schnauzer - Molosoides - perros tipo montaña y boyeros suizos;\\nperros tipo sabueso, perros de rastro y razas semejantes;\\nperros tipo spitz y tipo primitivo;\\nteckels;\\nterriers.\\nConcepto de raza\\nPerro Vizsla o Braco Húngaro\\nEl concepto que los científicos tienen de raza, como un grupo que comparte caracteres genéticos, difiere del uso coloquial del término dado por las personas como sinónimo de variedad. El vocablo «raza» en ciencia incluiría todas las variedades de perros que habitan en el mundo, es decir, solo existe una «raza» de animales que comprenden a los perros y esta definición se acercaría más a la jerarquía taxonómica de subespecie. El vulgo hizo extensiva la significación de «raza» a las distintas variedades de canes, como Bulldog, Doberman o Chihuahua; esto debido a que los perros son fenotípicamente distintos por lo que se creó esa «construcción social», sin embargo, en zoología, según algunos científicos, el concepto de «raza» no es sinónimo de variedad en la especie. Los perros tienen diversidad genética, pero esto se debe principalmente a la reproducción selectiva en condiciones controladas.[98]\\u200b Sin embargo, para otros las razas sí existen.[99]\\u200b Esto es similar a la especie humana.\\nHay aproximadamente cuatrocientas razas —más que de cualquier otro animal— que varían significativamente en tamaño, fisonomía y temperamento, presentando una gran variedad de colores y de tipos de pelo según la raza.[15]\\u200b[95]\\u200b[100]\\u200b[101]\\u200b Estas razas de perros tienen una antigüedad menor a doscientas años, pues son el resultado de una intensa selección artificial, realizada por los seres humanos desde finales del siglo\\xa0XIX hasta la actualidad, con el objetivo de crear a su antojo ejemplares que cumplan determinados criterios estéticos y de comportamiento.[95]\\u200b Esto ha provocado el desarrollo y transmisión crecientes de numerosos problemas de salud y de comportamiento, incluyendo graves malformaciones y enfermedades genéticas que pueden provocar sufrimiento crónico y disminución de la esperanza de vida.[95]\\u200b[100]\\u200b[101]\\u200b Asimismo, ciertas prácticas requeridas para cumplir los estándares marcados para determinadas razas, como la amputación de la cola, pueden provocar dolor crónico (como el experimentado en otro tipo de amputaciones y el síndrome del miembro fantasma) e incapacidad para comunicarse adecuadamente, tanto con sus semejantes como con los seres humanos.[102]\\u200b[103]\\u200b\\n\\nTipos de razas\\nbichón (bichón maltés, bichon frisé)\\nbraco (braco alemán de pelo corto, braco de Weimar, braco húngaro)\\nbulldog (bulldog inglés, bulldog americano)\\ncollie (border collie, collie de pelo largo)\\ncur (catahoula)\\ndogo (dogo argentino, dogo español)\\nfeist (toy terrier americano)\\ngolden retriever\\ngrifón (grifón korthals)\\nlebreles (galgo español, azawakh)\\nmastín (mucuchíes, Mastín Tibetano)\\nperro cobrador (golden retriever, Labrador retriever)\\nperro de agua socorrista (Terranova, San Bernardo\\nperro pila (perro pila argentino)\\nperros de agua (perro de agua español)\\npinscher (doberman pinscher, pinscher alemán)\\npodenco (podenco portugués, podenco andaluz)\\nratonero (ratonero bodeguero andaluz)\\nsabueso (basset hound, bloodhound)\\nSetter (gordon setter, setter inglés)\\nspaniel (cocker spaniel inglés)\\nSpitz (husky, malamute de Alaska)\\nterrier (airedale terrier, fox terrier)\\nInteracción con los humanos\\nArtículo principal:  Vínculo entre humanos y perros\\nLos perros domésticos han heredado una jerarquía social y ciertos comportamientos sociales complejos de su antepasado, el lobo. Son animales que viven en grupo, con un conjunto complejo de comportamientos que determinan la posición de cada can en la jerarquía social. Los perros presentan diversas posturas y otros medios de comunicación no verbal que revelan su estado mental. Estas formas sofisticadas de cognición social y comunicación pueden explicar su adiestrabilidad, su gusto por el juego y su capacidad de integrarse en hogares y situaciones sociales humanas. Estos atributos han contribuido a que los perros creen una relación única con los humanos a pesar de ser predadores alfa potencialmente peligrosos.[104]\\u200b\\nAunque los expertos no están muy de acuerdo sobre los detalles de la domesticación del perro, hay consenso en que la interacción con los humanos desempeñó un papel significativo en la formación de la subespecie. Poco después de la domesticación, el perro estuvo omnipresente en las poblaciones humanas y se extendió por el mundo. Los emigrantes de Siberia probablemente atravesaron el estrecho de Bering en compañía de canes y algunos expertos sugieren que el uso de perros de trineo podría haber sido vital para el éxito de las oleadas migratorias que llegaron a Norteamérica hace unos 12\\xa0000 años.[105]\\u200b Los perros fueron una parte esencial de la vida de la población atabascana de Norteamérica. En muchos grupos, el can era el único animal domesticado, y fue utilizado de nuevo por emigrantes atabascanos hace 1400 años, cuando cargaron gran parte de las provisiones en las migraciones de las tribus de apaches y navajos. El uso del perro como animal de carga en estas culturas a menudo continuó después de la introducción del caballo en Norteamérica.\\n\\nInterpretación de gestos y señales comunicativas humanas\\nEn los últimos años, existe evidencia que sugiere que las especies no humanas pueden interpretar las acciones de otras especies.[106]\\u200b En un estudio conducido por el Instituto Max Planck de Antropología Evolutiva en Alemania, se observó que los perros eran capaces de inferir[107]\\u200b la posibilidad de comida oculta observando el dedo de una persona, y siguiendo con la vista la dirección a donde apuntaba el dedo humano cuando se señalaba el lugar en donde estaba oculto el alimento —del cual había sido eliminado el olor para evitar que el animal usará su olfato—. Contrario a los simios de género Pan que no reparaban ni en el señalamiento, ni seguían con la vista la dirección en donde apuntaba el dedo humano. Una de las conclusiones que se extrajeron es que los perros han desarrollado una competencia específica en el seguimiento de gestos, señales e interpretación de los patrones de comunicación humana.[107]\\u200b\\n\\nUsos y utilidad\\nAunque una gran mayoría de perros se mantienen como animales de compañía, existe también un gran número de formas en que los perros pueden ayudar a los seres humanos. En algunos casos se pueden aprovechar sus habilidades innatas, mientras que en otros hay que adiestrarlos.\\n\\nPerro de rescate durante la búsqueda de personas vivas en un edificio en ruinas después de un terremoto.\\nLos perros de asistencia ayudan a las personas con discapacidades en tareas cotidianas. Como, por ejemplo, los perros de movilidad para los minusválidos, los perros guía para personas con deficiencias visuales y los perros de escucha para las personas con problemas auditivos. Los perros de terapia representan otra manera de ayudar a los enfermos; visitan personas que no pueden moverse con libertad, como, por ejemplo, la gente mayor que vive en residencias geriátricas o los enfermos ingresados en hospitales, ofreciéndoles diversión y entretenimiento. También se realizan cursos de adiestramiento de canes para prisioneros, como terapia de rehabilitación.\\nLos perros de búsqueda y rescate detectan el aroma que transportan las células de la piel que caen fuera de los humanos vivos a un ritmo de alrededor de 40\\xa0000 células por minuto,[108]\\u200b el sudor que se evapora o los gases respiratorios. Gracias a ello pueden buscar personas desaparecidas, perdidas en tierras salvajes, cubiertas por avalanchas de nieve, enterradas debajo de edificios que se han derrumbado, entre otras situaciones.\\nLos perros para la detección de cadáveres —a diferencia de los perros de búsqueda y rescate— están adiestrados para ignorar el olor de humanos vivos, junto con el aroma animal, y solo buscar el olor de los gases de descomposición liberados por la acción de las bacterias en la piel o en los tejidos humanos. Estos canes pueden usarse para encontrar restos humanos relacionados con escenas de crimen, casos de personas desaparecidas y evidencia forense relacionada con escenarios de desastres o escombros. Un tipo específico de perro también se entrena para localizar restos mortales en el agua.\\n\\nPerro entrenado para usos militares (sobre un M2A3 Bradley).\\nLos perros pastores son útiles para los pastores y ganaderos de todo el mundo para dirigir los rebaños; se utilizan diferentes razas para cada tarea y para vigilar los rebaños. Algunos perros pastores también protegen gansos salvajes en parques o cabras utilizadas para el control de malezas. Los canes pastores se pueden adaptar para controlar cualquier tipo de animal doméstico, o muchos tipos de animales salvajes. En cambio, los perros de caza ayudan a los cazadores a encontrar, rastrear y recuperar las presas, o eliminar alimañas. Es menos frecuente que los perros de presa o de caza mayor, luchen contra una presa como un oso o un jabalí.\\nLos perros de trineo se utilizan principalmente en eventos deportivos, aunque también pueden ayudar a transportar personas y víveres en terreno nevado y difícil. Los canes artísticos, como los perros de circo o los actores caninos, están adiestrados para realizar actos que no son útiles intrínsecamente, pero que entretienen al público o contribuyen a las actuaciones artísticas de los humanos.\\nLos perros de guardia ayudan a proteger la propiedad pública o privada, bien residiendo o bien durante patrullas, con cuerpos militares o con empresas de seguridad. Los perros policía se adiestran para rastrear o inmovilizar posibles criminales cuando ayudan a los policías a hacer detenciones o investigar la escena de un crimen. Algunos incluso están entrenados para cuerpos antiterroristas. Los perros de detección, en cambio, pueden ayudar a detectar sustancias ilegales, bombas, productos químicos y muchas otras sustancias.\\nFinalmente, los perros de guerra se usan en las fuerzas armadas en muchas de las situaciones en que se usan perros civiles, pero en un contexto militar. Además, se han asignado a perros tareas militares especializadas tales como la detección de minas o el tendido de cables.\\n\\nVéase también\\n Portal:Perros. Contenido relacionado con Perros.\\n\\nAgility\\nAnimal de compañía\\nGato (animal de compañía)\\nGeneración Bullenbeisser\\nCarne de perro\\nCarrera de galgos\\nCaudectomía\\nExposición canina\\nFábricas de cachorros\\nGalgo\\nKennel Club\\nLos secretos del pedigrí\\nMastín\\nOtectomía\\nPermanencia del objeto en perros\\nPerro de trabajo\\nPerro de caza\\nPerros de agua\\nPerro pastor\\nPerro boyero\\nPerro cobrador\\nPerros potencialmente peligrosos\\nPerro callejero\\nPinscher\\nPodenco\\nSchutzhund\\nTerrier\\nSpaniel\\nSchnauzer\\nVínculo entre humanos y perros\\n\\nReferencias\\n\\n↑ «Canis lupus familiaris». Catalogue of Life (2010 Annual Checklist) (en inglés). Sistema Integrado de Información Taxonómica (ITIS).\\xa0\\n\\n↑ Dewey, T. and S. Bhagat (2002). «Canis lupus familiaris» (en inglés). Animal Diversity Web. Consultado el 21 de enero de 2009.\\xa0\\n\\n↑ Wilson, Don E.; Reeder, DeeAnn M., eds. (2005). «Canis lupus familiaris». Mammal Species of the World (en inglés) (3ª edición). Baltimore: Johns Hopkins University Press, 2 vols. (2142 pp.). ISBN\\xa0978-0-8018-8221-0.\\xa0\\n\\n↑ Real Academia Española. «can». Diccionario de la lengua española (23.ª edición).\\xa0\\n\\n↑ chucho\\n\\n↑ tuso\\n\\n↑ «choco». Archivado desde el original el 25 de enero de 2018. Consultado el 25 de enero de 2018.\\xa0\\n\\n↑ Broad Sequencing Platform members; Lindblad-Toh, Kerstin; Wade, Claire M; Mikkelsen, Tarjei S.; Karlsson, Elinor K.; Jaffe, David B.; Kamal, Michael; Clamp, Michele et al. (2005-12). «Genome sequence, comparative analysis and haplotype structure of the domestic dog». Nature (en inglés) 438 (7069): 803-819. ISSN\\xa00028-0836. doi:10.1038/nature04338. Consultado el 11 de febrero de 2021.\\xa0 Se sugiere usar |número-autores= (ayuda)\\n\\n↑ Koepfli, Klaus-Peter; Pollinger, John; Godinho, Raquel; Robinson, Jacqueline; Lea, Amanda; Hendricks, Sarah; Schweizer, Rena\\xa0M.; Thalmann, Olaf et al. (2015-08). «Genome-wide Evidence Reveals that African and Eurasian Golden Jackals Are Distinct Species». Current Biology (en inglés) 25 (16): 2158-2165. doi:10.1016/j.cub.2015.06.060. Consultado el 11 de febrero de 2021.\\xa0 Se sugiere usar |número-autores= (ayuda)\\n\\n↑ Una revisión de las interacciones entre los perros domésticos que deambulan libremente y la vida silvestre. 2013. p.\\xa0157.\\xa0 |fechaacceso= requiere |url= (ayuda)\\n\\n↑ Coppinger, Ray (2001). Dogs: a Startling New Understanding of Canine Origin, Behavior and Evolution. New York: Scribner. p.\\xa0352. ISBN\\xa00-684-85530-5.\\xa0\\n\\n↑ «Kennel Club/British Small Animal Veterinary Association Scientific Committee». 2004. Archivado desde el original el 13 de agosto de 2013. Consultado el 19 de julio de 2020.\\xa0\\n\\n↑ Proschowsky, Rugbjerg, Ersbell, Mortality of purebred and mixed-breed dogs in Denmark (2003). «Mortality of purebred and mixed-breed dogs in Denmark». Preventive Veterinary Medicine 58 (1–2): 63-74. PMID\\xa012628771. doi:10.1016/S0167-5877(03)00010-2.\\xa0\\n\\n↑ Michell AR (1999). «Longevity of  breeds of dog and its relationships with sex, size, cardiovascular variables and disease». The Veterinary Record 145 (22): 625-629. PMID\\xa010619607. doi:10.1136/vr.145.22.625.\\xa0\\n\\n↑ a b c Parker HG (febrero de 2012). «Genomic analyses of modern dog breeds». Mamm Genome (Revisión) 23 (1-2): 19-27. PMC\\xa03559126. PMID\\xa022231497. doi:10.1007/s00335-011-9387-6.\\xa0\\n\\n↑ a b Revista Nature (23 de enero de 2013). «The genomic signature of dog domestication reveals adaptation to a starch-rich diet» (en inglés). Archivado desde el original el 2 de abril de 2013. Consultado el 14 de mayo de 2013. «We identify candidate mutations in key genes and provide functional support for an increased starch digestion in dogs relative to wolves.».\\xa0\\n\\n↑ a b Viano, Lucas (22 de octubre de 2015). «¿Había perros en América cuando llegaron los españoles?». Scientific American.\\xa0\\n\\n↑ a b c d Mazzatenta A, Carluccio A, Robbe D, Giulio CD, Cellerino A (octubre de 2017). «The companion dog as a unique translational model for aging.». Semin Cell Dev Biol (Revisión) 70: 141-153. PMID\\xa028803893. doi:10.1016/j.semcdb.2017.08.024.\\xa0\\n\\n↑ a b Rowell JL, McCarthy DO, Alvarez CE (julio de 2011). «Dog models of naturally occurring cancer». Trends Mol Med (Revisión) 17 (7): 380-8. PMC\\xa03130881. PMID\\xa021439907. doi:10.1016/j.molmed.2011.02.004.\\xa0\\n\\n↑ a b Gershwin LJ (marzo de 2018). «Current and Newly Emerging Autoimmune Diseases». Vet Clin North Am Small Anim Pract (Revisión) 48 (2): 323-338. PMID\\xa029248206. doi:10.1016/j.cvsm.2017.10.010.\\xa0\\n\\n↑ a b Tizard IR, Jones SW (marzo de 2018). «The Microbiota Regulates Immunity and Immunologic Diseases in Dogs and Cats». Vet Clin North Am Small Anim Pract (Revisión) 48 (2): 307-322. PMID\\xa029198905. doi:10.1016/j.cvsm.2017.10.008.\\xa0\\n\\n↑ a b c d Coppinger, Ray (2001). Dogs: a Startling New Understanding of Canine Origin, Behavior and Evolution. pp.\\xa0p352. 0684855305.\\xa0\\n\\n↑ Lopez, Barry (1978). Of wolves and men. p.\\xa0320. ISBN\\xa00-7432-4936-4.\\xa0\\n\\n↑ Dog Breed Info Center. Irish Wolfhound.\\n\\n↑ «tallest Dog Living». Guinness World Records. Consultado el 24 de septiembre de 2008.\\xa0\\n\\n↑ «FCI - Fédération Cynologique Internationale». FCI (en francés). 12 de enero de 2012. Archivado desde el original el 12 de enero de 2012. Consultado el 30 de enero de 2017.\\xa0\\n\\n↑ Mastiff - Kaynine Online\\n\\n↑ .com/issues/0209/articles/020918a.htm Vegetable-Eating Dog Lives to Ripe Old Age of 29; Also: Who is the Oldest Dog in the World; And: How to Make Your Dog Live 1.8 Years Longer\\n\\n↑ Teske, E.; Naan, E. C.; Van Dijk, E. M.; Van Garderen, E.; Schalk, J. A. Canine prostate carcinoma: Epidemiological evidence of an increased risk in castrated dogs, Departamento de Ciencias Clínicas de Animales de Compañía, Universidad de Utrecht (Países Bajos).\\n\\n↑ Klappenbach, Laura (2008). «What is Counter Shading?». About.com. Archivado desde el original el 27 de septiembre de 2011. Consultado el 22 de octubre de 2008.\\xa0\\n\\n↑ Cunliffe, Juliette (2004). «Coat Types, Colours and marking». The Encyclopedia of Dog Breed. Paragon Publishing. pp.\\xa020-23.\\xa0\\n\\n↑ Camila Navarrete (30 de marzo de 2014). «Los peligros de la caudectomía canina: Experto asegura que el corte de cola de perritos no es sano». Biobio Chile.\\xa0\\n\\n↑ Varios autores (2013–2014). «Corte de orejas y cola en la especie canina».\\xa0\\n\\n↑ ¿Cómo es la visión del perro?\\n\\n↑ a b Corehn, Stanley (2004). How Dogs Think. First Free Press, Simon & Schuster.\\xa0\\n\\n↑ A & E Television Networks (1998). Big Dogs, Little Dogs: The companion volume to the A & E special presentation, A Lookout Book, GT Publishing. ISBN 1-57719-353-9 (Hardcover).\\n\\n↑ Alderton, David (1984). The Dog, Chartwell Books. ISBN 0-89009-786-0.\\n\\n↑ Jennifer Davis (1998). «Dr. P s Dog Training: Vision in Dogs & People». Archivado desde el original el 9 de febrero de 2015. Consultado el 6 de junio de 2008.\\xa0\\n\\n↑ Jónico Newby; Caroline Penry-Davey (25 de septiembre de 2003).  Australian Broadcasting Corporation, ed. «Catalyst: Dogs \\'Eyes». Consultado el 26 de noviembre de 2006.\\xa0\\n\\n↑ Kubai, Melissa A; BS; Ellison Bentley, D. V. M.; Paul E. Miller, DVM; Donald O. Mutti, OD, PhD; Christopher J. Murphy, DVM, PhD (julio de 2008). «Refractive states of eyes and association between ametropia and breed in dogs». American Journal of Veterinary Research 69 (7): 946-951. doi:10.2460/ajvr.69.7.946.\\xa0\\n\\n↑ Elert, Glenn; Timothy Condon (2003). shtml «Frequency Range of Dog hearing». The Physics Factbook. Consultado el 22 de octubre de 2008.\\xa0 (enlace roto disponible en Internet Archive; véase el historial, la primera versión y la última).\\n\\n↑ «How Well Do Dogs and Other Animals Hear?» (en inglés). Consultado el 14 de mayo de 2013.\\xa0\\n\\n↑ «Understanding a Dog \\'s Sin of Smell». Dummies.com. Archivado desde el original el 9 de marzo de 2008. Consultado el 22 de octubre de 2008.\\xa0\\n\\n↑ «The Dog \\'s Sin of» (PDF). Alabama and Auburn Universities. Archivado desde U/UNP-0066/UNP-0066.pdf el original el 22 de febrero de 2007. Consultado el 22 de octubre de 2008.\\xa0\\n\\n↑ «Smell». nhm.org. 6 de mayo de 2004. Archivado desde el original el 26 de octubre de 2008. Consultado el 22 de octubre de 2008.\\xa0\\n\\n↑ John W. Bradshaw (2006). «The Evolutionary Basis for the Feeding Behavior of Domestic Dogs (  Canis familiaris) and Cats ( Felis catus)». The Journal of Nutrition 136: 1927-1931.\\xa0\\n\\n↑ «Dog Sin of Smell. Dog Taste Bud». GuideofDogs.com. Archivado desde el original el 10 de diciembre de 2008. Consultado el 12 de enero de 2009.\\xa0\\n\\n↑ «Making Sin of Your Dog \\'s World». PetPlace.com. Consultado el 26 de enero de 2009.\\xa0\\n\\n↑ Joël Dehasse (1994). «Sensory, emotional and social development of the young dog». The Bulletin for Veterinary Clinical Ethology (Bruselas) 2 (1-2): 6-29.\\xa0\\n\\n↑ Virginia Morell. «Minds of Their Own: Animals are smarter than you think». Animal mind. National Geographic (en inglés). Consultado el 20 de mayo de 2013. «Just how easily new mental skills can evolve is perhaps best illustrated by dogs. Most owners talk to their dogs and expect them to understand».\\xa0\\n\\n↑ «My Dog Can Do It!». Max Planck research (FOCUS_The in the Other): 6-7. Consultado el 20 de mayo de 2013.\\xa0\\n\\n↑ Elizabeth VanDyke (26 de julio de 1936). «New Freedom For Blind Americans Provided By \\'Seeing Eye\\' Specially Trained Dogs Not Only See But Think For Sightless». Hartford Courant.\\xa0 |fechaacceso= requiere |url= (ayuda)\\n\\n↑ Dr. Gifford Jones (5 de diciembre de 2003). «Seeing Eye dogs can teach us a lesson». Kitchener Ontario Record.\\xa0 |fechaacceso= requiere |url= (ayuda)\\n\\n↑ a b c d  Kersti Seksel: Die Sozialisation des Hundewelpen. In: Vet. Focus 20 (2010), S.\\xa07–12.\\n\\n↑ Dramard, Valérie (09/2007 (2ème édition)).  Collection de Médecine Vétérinaire, Maisons-Alfort, ed. Pathologie du comportement du chien. du Point Vétérinaire. p.\\xa0191. ISBN\\xa09782914738958.\\xa0\\n\\n↑ Faragó, T; Pongrácz P; Miklósi Á; Huber L; Virányi Z; Range, F (2010). «Dogs\\' Expectation about Signalers\\' Body Size by Virtue of Their Growls». PLoS ONE 5 (12): e15175. Bibcode:2010PLoSO...515175F. PMC\\xa03002277. PMID\\xa021179521. doi:10.1371/journal.pone.0015175.\\xa0\\n\\n↑ Gale EA (octubre de 2005). «Do dogs develop autoimmune diabetes?». Diabetologia 48 (10): 1945-1947. PMID\\xa016132943. doi:10.1007/s00125-005-1924-y. «Modern dogs are relatively inactive and consume more food than their ancestors, much of it in the form of vegetable chow for which evolution left them unprepared. Los perros modernos son relativamente inactivos y consumen más alimentos que sus antepasados, gran parte de ella en forma de comida vegetal para la cual la evolución no los preparó.».\\xa0\\n\\n↑ a b c Bressan P, Kramer P (29 de marzo de 2016). «Bread and Other Edible Agents of Mental Disease». Front Hum Neurosci (Revisión) 10: 130. PMC\\xa04809873. PMID\\xa027065833. doi:10.3389/fnhum.2016.00130.\\xa0\\n\\n↑ a b c Sands DC, Morris CE, Dratz EA, Pilgeram A (noviembre de 2009). «Elevating optimal human nutrition to a central goal of plant breeding and production of plant-based foods». Plant Sci (Revisión) 177 (5): 377-89. PMC\\xa02866137. PMID\\xa020467463. doi:10.1016/j.plantsci.2009.07.011.\\xa0\\n\\n↑ a b c d O\\'Keefe JH Jr, Cordain L (enero de 2004). «Cardiovascular disease resulting from a diet and lifestyle at odds with our Paleolithic genome: how to become a 21st-century hunter-gatherer». Mayo Clin Proc (Revisión, Artículo Histórico) 79 (1): 101-8. PMID\\xa014708953. doi:10.4065/79.1.101.\\xa0\\n\\n↑ Aziz I, Branchi F, Sanders DS (agosto de 2015). «The rise and fall of gluten!». Proc Nutr Soc (Revisión) 74 (3): 221-6. PMID\\xa025686620. doi:10.1017/S0029665115000038.\\xa0\\n\\n↑ Tedford RH, Wang X, Taylor BE (2009). «Phylogenetic Systematics of the North American Fossil Caninae (Carnivora: Canidae)». Bulletin of the American Museum of Natural History (Revisión) 325: 1-218. doi:10.1206/574.1.\\xa0\\n\\n↑ a b c Bosch G, Hagen-Plantinga EA, Hendriks WH (enero de 2015). «Dietary nutrient profiles of wild wolves: insights for optimal dog nutrition?». Br J Nutr 113 (Suppl): S40-54. PMID\\xa025415597. doi:10.1017/S0007114514002311.\\xa0\\n\\n↑ «Alimentación canina». Consultado el 29 de noviembre de 2020.\\xa0\\n\\n↑ Gedon, Trisha (25 de mayo de 2006). «Summer heat can be tough».  En Oklahoma State University, ed. Division of Agricultural Sciences and Natural Resources. Archivado desde el original el 1 de septiembre de 2006. Consultado el 21 de agosto de 2006.\\xa0\\n\\n↑ «Oldest dog». Guinness World Records. 2011. Consultado el 8 de mayo de 2011.\\xa0\\n\\n↑ Botanical On Line: Expectativa de vida del perro\\n\\n↑ Laflamme D, Izquierdo O, Eirmann L, Binder S (julio de 2014). «Myths and Misperceptions About Ingredients Used in Commercial Pet Foods». Veterinary Clinics of North America: Small Animal Practice (Revisión) 44 (4): 689-698. doi:10.1016/j.cvsm.2014.03.002.\\xa0\\n\\n↑ a b Verlinden A, Hesta M, Millet S, Janssens GPJ (2006). «Food Allergy in Dogs and Cats: A Review». Critical Reviews in Food Science and Nutrition (Revisión) 46 (3): 259-273. doi:10.1080/10408390591001117.\\xa0\\n\\n↑ Dewey, T.; S. Bhagat (2002). \"Canis lupus familiaris\" (On-line), Animal Diversity Web. Consultado el 6 de enero de 2009 a  Animaldiversity.\\n\\n↑ «Sexual Maturity - Spay and neutro». Buffalo.com. Archivado desde el original el 10 de junio de 2009. Consultado el 22 de octubre de 2008.\\xa0\\n\\n↑ «Normal gestation in dogs». Archivado desde el original el 9 de octubre de 2008. Consultado el 22 de octubre de 2008.\\xa0\\n\\n↑ «HSUS Pet Overpopulation Estimates». The Humane Society of the United States. Archivado desde el original el 25 de abril de 2013. Consultado el 22 de octubre de 2008.\\xa0\\n\\n↑ a b c Robinson, Roy (1990). Genetics for Dog Breeders. Ficha en OpenLibrary: Butterworth-Heinemann Limited. pp.\\xa0280 p. 15. ISBN\\xa09780750646123.\\xa0\\n\\n↑ «French Bulldog Pet Care Guide». Archivado desde el original el 26 de julio de 2011. Consultado el 7 de enero de 2008.\\xa0\\n\\n↑ «Top 10 Reasons to Spay / neutro your pet». American Society for Prevention of Cruelty to Animals. Archivado desde el original el 7 de abril de 2007. Consultado el 16 de mayo de 2007.\\xa0\\n\\n↑ Heidenberger E.; Unshelm J. (1990). «Changes in the behavior of dogs after castration». Tierärztliche Praxis (en alemán) 18 (1): 69-75. PMID\\xa02326799.\\xa0\\n\\n↑ Morrison, Wallace B. (1998). Cancer in Dogs and Cats (1st ed.). Williams and Wilkins. ISBN\\xa00-683-06105-4.\\xa0\\n\\n↑ Arnold S. (1997). «Urinary incontinence in castrated Bitches. Parte 1: Significance, clinical aspects and etiopathogenesis». Schweiz. Arch. Tierheilkd. (en alemán) 139 (6): 271-6. PMID\\xa09411733.\\xa0\\n\\n↑ Root-Kustritz M. V. (2007). «Determining the optimal age for gonadectomy of dogs and cados». JAVMA 231 (11): 1665-1675. doi:10.2460/javma.231.11.1665.\\xa0\\n\\n↑ Duffy, Ph. D., Deborah L.; James A. SERPELL, Ph. D. (2006). Non-Reproductive Effects of Spaying and Neutering donde Behavior in Dogs (PDF). Center for the Interaction of Animales and Society, School of Veterinary Medicine, University of Pennsylvania: Third International Symposium on Non-Surgical Contraceptive Methods for Pet Population Control. Archivado desde el original el 19 de marzo de 2009.\\xa0\\n\\n↑ Spain CV; Scarlett JM, Houpt KA (febrero de 2004). «Long-term risks and benefits of early-age gonadectomy in cats». J Am Med Assoc 224:372. doi:10.1038/laban0510-140.\\xa0\\n\\n↑ Graves, Will (2007). Wolves in Russia: Anxiety throughout the ages. Calgary: Detselig Enterprises. p.\\xa0222. ISBN\\xa01550593323. Archivado desde el original el 2 de agosto de 2009.\\xa0\\n\\n↑ Kojola, I.; Ronkainen, S.; Hakala, A.; Heikkinen, S.; Kokko, S. Interaction between wolves Canis lupus and dogs C. familiaris in Finland. Nordic Council for Wildlife Research.\\xa0\\n\\n↑ ocr/sections/news/focus_in_depth/article_508026.php «For coyotes, pedos are Prey». Greg Hardesty. Orange County Register. Consultado el 19 de agosto de 2007.\\xa0\\n\\n↑ Jonathan & Angela Scott (2006). Big Cat Diary: Leopard. Londres: Collins. p.\\xa0108. ISBN\\xa00007211813.\\xa0\\n\\n↑ Perry, Richard (1965). The World of the Tiger. p.\\xa0260. ASIN: B0007DU2IU.\\xa0\\n\\n↑ «Striped Hyaena Hyaena (Hyaena) hyaena (Linnaeus, 1758)». IUCN Species Survival Commission Hyaenidae Specialist Group. mayo. Archivado desde el original el 28 de septiembre de 2007. Consultado el 21 de mayo de 2008.\\xa0\\n\\n↑ Lindblad-Toh, Kerstin et al. (8 de diciembre de 2005). «Genome sequence, comparative analysis and haplotype structure of the domestic dog». Nature 438 (7069): 803-819. doi:10.1038/nature04338.\\xa0\\n\\n↑ Germonpré, Mietje; Sablin, Mikhail V.; Stevens, Rhiannon E.; Hedges, Robert E.M.; Hofreiter, Michael; Stiller, Mathias; Després, Viviane R. (febrero de 2009). «Fossil dogs and wolves from Palaeolithic sites in Belgium, the Ukraine and Russia: osteometry, ancient DNA and stable isotopes». Journal of Archaeological Science (en inglés) 36 (2): 473-490. doi:10.1016/j.jas.2008.09.033.\\xa0\\n\\n↑ Altares, Guillermo (14 de diciembre de 2017). «Los perros ayudaron a la humanidad a sobrevivir». El País. Consultado el 14 de diciembre de 2017.\\xa0\\n\\n↑ Frantz, L. A. F.; Mullin, V. E.; Pionnier-Capitan, M.; Lebrasseur, O.; Ollivier, M.; Perri, A.; Linderholm, A.; Mattiangeli, V.; Teasdale, M. D.; Dimopoulos, E. A.; Tresset, A.; Duffraisse, M.; McCormick, F.; Bartosiewicz, L.; Gal, E.; Nyerges, E. A.; Sablin, M. V.; Brehard, S.; Mashkour, M.; Bălăşescu, A.; Gillet, B.; Hughes, S.; Chassaing, O.; Hitte, C.; Vigne, J.-D.; Dobney, K.; Hanni, C.; Bradley, D. G.; Larson, G. (2 de junio de 2016). «Genomic and archaeological evidence suggest a dual origin of domestic dogs». Science 352 (6290): 1228-1231. doi:10.1126/science.aaf3161.\\xa0\\n\\n↑ Perri, Angela (2016) «A wolf in dog\\'s clothing: Initial dog domestication and Pleistocene wolf variation». Journal of Archaeological Science, 68: 1-4\\n\\n↑ Lord, Kathryn A.; Larson, Greger; Coppinger, Raymond P.; Karlsson, Elinor K. (2020). «The History of Farm Foxes Undermines the Animal Domestication Syndrome». Trends in Ecology & Evolution. 35 (2): 125–136. doi:10.1016/j.tree.2019.10.011. PMID 31810775\\n\\n↑ a b c d Hytönen MK, Lohi H1 (28 de septiembre de 2016). «Canine models of human rare disorders». Rare Dis (Revisión) 4 (1): e1241362. PMC\\xa05070630. PMID\\xa027803843.\\xa0\\n\\n↑ Shook, Larry (1995). The Puppy Report: How to Select a Healthy, Happy Dog. Nueva York: Ballantine. pp.\\xa057-72. ISBN\\xa00 - 345-38439-3.\\xa0\\n\\n↑ «Nomenclatura de las razas de la FCI». www.fci.be. Consultado el 16 de febrero de 2016.\\xa0\\n\\n↑ California Newsreel. «Race: the Power of an Illusion». PBS. Consultado el 22 de julio de 2018.\\xa0\\n\\n↑ FAO\\n\\n↑ a b Packer RM, Hendricks A, Tivers MS, Burn CC (28 de octubre de 2015). «Impact of Facial Conformation on Canine Health: Brachycephalic Obstructive Airway Syndrome». PLoS One (Revisión) 10 (10): e0137496. PMID\\xa026509577. doi:10.1371/journal.pone.0137496.\\xa0\\n\\n↑ a b Meola SD (agosto de 2013). «Brachycephalic airway syndrome». Top Companion Anim Med (Revisión) 28 (3): 91-96. PMID\\xa024182996. doi:10.1053/j.tcam.2013.06.004.\\xa0\\n\\n↑ Bennett PC1, Perini E (abril de 2003). Tail docking in dogs: a review of the issues (Revisión) 81 (4). pp.\\xa0208-218. PMID\\xa015080444. doi:10.1111/j.1751-0813.2003.tb11473.x.\\xa0\\n\\n↑ Sandøe P, Kondrup SV, Bennett PC, Forkman B, Meyer I, Proschowsky HF, Serpell JA, Lund TB (24 de febrero de 2017). «Why do people buy dogs with potential welfare problems related to extreme conformation and inherited disease? A representative study of Danish owners of four small dog breeds». PLoS One 12 (2): e0172091. PMC\\xa05325474. PMID\\xa028234931. doi:10.1371/journal.pone.0172091.\\xa0\\n\\n↑ Miklosi, Adam (27 de enero de 2009). Dog Behaviour, Evolution, and Cognition. Oxford University Press, 2007. doi:10.1093/acprof:oso/9780199295852.001.0001.\\xa0\\n\\n↑ Mark Derr (2004). A dogs history of America. North Point Press.\\xa0\\n\\n↑ Buttelmann, D.; Carpenter, M., Call, J. & Tomasello, M. (2007). «Enculturated chimpanzees imitate rationally.». Developmental Science. doi:10.1111/j.1467-8624.2008.01146.x.\\xa0\\n\\n↑ a b «Making inferences about the location of hidden food: social dog, causal ape.». Journal of Comparative Psychology 120 (1): 38-47. 2006. doi:10.1037/0735-7036.120.1.38. Archivado desde el original el 8 de enero de 2013. Consultado el 15 de mayo de 2013.\\xa0\\n\\n↑ Ohio Valley Search and Rescue.Inc. Glossary\\n\\n\\nBibliografía\\nFogle, B. (2005). El Perro: Manual de Adiestramiento Canino. Editorial Omega. ISBN\\xa01-55059-205-X.\\xa0\\nGerritsen, R. y Haak, R. (2000). K9 Schutzhund Training. A manual for Tracking, Obedience and Protection. Detseling Enterprises Ltd: Calgary, Alberta, Canadá. ISBN\\xa01-55059-205-X.\\xa0\\nLonsdale, T. (2001). Raw Meaty Bones Promote Health. Dogwise Publishing. ISBN\\xa0978-0-646-39624-8.\\xa0\\nVitela, D. (2003). Manual de nutrición canina. Editorial Universitaria.\\xa0\\nEnlaces externos\\nAtlas virtual sobre cráneos, huesos, esqueletos y denticiones de los mamíferos ibéricos, del apartado de rastros de mamíferos.\\nBiodiversity Heritage Library bibliography for Canis lupus familiaris\\nDogs in the Ancient World, artículo sobre la historia de los perros\\nVértebras del perro\\nControl de autoridades\\nProyectos Wikimedia\\n Datos: Q20717272\\n Diccionario: perro\\n Especies: Canis lupus familiaris\\n\\nIdentificadores\\nAAT: 300250130\\nBases de datos taxonómicas\\nGBIF: 5219200\\niNaturalist: 47144\\nITIS: 183815\\nNCBI: 9615\\nPaleobiology Database: 104153\\nWoRMS: 1461482\\nZoobank: 05C23FE8-F45D-4EA6-A309-46864DE24097\\n\\n Datos: Q20717272\\n Diccionario: perro\\n Especies: Canis lupus familiaris\\n\\n\\n\\n\\n\\nObtenido de «https://es.wikipedia.org/w/index.php?title=Canis_familiaris&oldid=158719337»\\nCategorías: Animales domesticadosPerrosCánidos (Canidae) no amenazadosAnimales descritos en 1758Categorías ocultas: Wikipedia:Páginas con referencias con et al. implícito en los autoresWikipedia:Páginas con referencias sin URL y con fecha de accesoWikipedia:Artículos con enlaces externos rotosWikipedia:Páginas con enlaces mágicos de ISBNWikipedia:Artículos con pasajes que requieren referenciasWikipedia:Artículos que necesitan referenciasWikipedia:Referenciar (aún sin clasificar)Wikipedia:Artículos con identificadores AATWikipedia:Páginas que utilizan control de autoridades con parámetrosWikipedia:Artículos con enlaces interwiki adicionales\\n\\n\\n\\n\\n\\n\\n Esta página se editó por última vez el 10 mar 2024 a las 13:27.\\nEl texto está disponible bajo la Licencia Creative Commons Atribución-CompartirIgual 4.0; pueden aplicarse cláusulas adicionales. Al usar este sitio aceptas nuestros términos de uso y nuestra política de privacidad.Wikipedia® es una marca registrada de la Fundación Wikimedia, una organización sin ánimo de lucro.\\n\\n\\nPolítica de privacidad\\nAcerca de Wikipedia\\nLimitación de responsabilidad\\nCódigo de conducta\\nDesarrolladores\\nEstadísticas\\nDeclaración de cookies\\nVersión para móviles\\n\\n\\n\\n\\n\\n\\n\\n\\n\\n\\n\\n\\n\\nActivar o desactivar el límite de anchura del contenido\\n\\n\\n\\n\\n\\n\\n\\n'"
      ]
     },
     "execution_count": 2,
     "metadata": {},
     "output_type": "execute_result"
    }
   ],
   "source": [
    "url = \"https://es.wikipedia.org/wiki/Canis_familiaris\"\n",
    "response = requests.get(url)\n",
    "content = response.content\n",
    "html = bs4.BeautifulSoup(content, \"html.parser\")\n",
    "text = html.get_text()\n",
    "text"
   ]
  },
  {
   "cell_type": "code",
   "execution_count": 3,
   "id": "c12ed220-7204-4b39-b598-c4a2a21e3926",
   "metadata": {},
   "outputs": [
    {
     "data": {
      "text/plain": [
       "'\\nCanis familiaris - Wikipedia, la enciclopedia libre\\nIr al contenido\\nMenú principal\\nMenú principal\\nmover a la barra lateral\\nocultar\\n\\t\\tNavegación\\n\\t\\nPortadaPortal de la comunidadActualidadCambios recientesPáginas nuevasPágina aleatoriaAyudaDonacionesNotificar un error\\nBuscar\\nBuscar\\nCrear una cuenta\\nAcceder\\nHerramientas personales\\n Crear una cuenta Acceder\\n\\t\\tPáginas para editores desconectados más información\\nContribucionesDiscusión\\nContenidos\\nmover a la barra lateral\\nocultar\\nInicio\\n1Características\\nAlternar subsección Características\\n1.1Diferencias respecto a otros cánidos\\n1.2Anatomía externa\\n1.2.1Pelaje\\n1.2.2Cola\\n1.3Aparato locomotor\\n1.4Sentidos\\n1.4.1Vista\\n1.4.2Oído\\n1.4.3Olfato\\n1.4.4Gusto\\n1.4.5Tacto\\n2Comportamiento\\nAlternar subsección Comportamiento\\n2.1Inteligencia\\n2.2Socialización\\n2.3Problemas de comportamiento o anormales\\n2.4Gruñido\\n3Salud\\nAlternar subsección Salud\\n3.1Enfermedades\\n3.2Reproducción\\n3.3Castración y esterilización\\n3.4Alimentación\\n4Predadores\\n5Ancestros e historia de la domesticación\\n6Razas\\nAlternar subsección Razas\\n6.1Clasificación según la FCI\\n6.2Concepto de raza\\n7Tipos de razas\\n8Interacción con los humanos\\nAlternar subsección Interacción con los humanos\\n8.1Interpretación de gestos y señales comunicativas humanas\\n9Usos y utilidad\\n10Véase también\\n11Referencias\\n12Enlaces externos\\nCambiar a la tabla de contenidos\\nCanis familiaris\\n260 idiomas\\nАԥсшәаAcèhАдыгабзэAfrikaansAlemannischአማርኛPangcahAragonésअंगिकाالعربيةܐܪܡܝܐالدارجةمصرىঅসমীয়াAtikamekwАварKotavaअवधीAymar aruAzərbaycancaتۆرکجهБашҡортсаBasa BaliBoarischŽemaitėškaBatak TobaBikol CentralБеларускаяБеларуская (тарашкевіца)БългарскиभोजपुरीBislamaBanjarBamanankanবাংলাབོད་ཡིགBrezhonegBosanskiБуряадCatalà閩東語 / Mìng-dĕ̤ng-ngṳ̄CebuanoᏣᎳᎩTsetsêhestâheseکوردیCorsuNēhiyawēwin / ᓀᐦᐃᔭᐍᐏᐣQırımtatarcaČeštinaKaszëbscziСловѣньскъ / ⰔⰎⰑⰂⰡⰐⰠⰔⰍⰟЧӑвашлаCymraegDanskDagbanliDeutschZazakiDolnoserbskiཇོང་ཁEʋegbeΕλληνικάEmiliàn e rumagnòlEnglishEsperantoEestiEuskaraفارسیSuomiVõroNa Vosa VakavitiFøroysktFɔ̀ngbèFrançaisArpetanNordfriiskFurlanFryskGaeilge贛語GàidhligGalegoگیلکیAvañe\\'ẽ𐌲𐌿𐍄𐌹𐍃𐌺WayuunaikiGungbeGaelgHausa客家語/Hak-kâ-ngîעבריתहिन्दीFiji HindiHrvatskiHornjoserbsceKreyòl ayisyenMagyarՀայերենԱրեւմտահայերէնInterlinguaBahasa IndonesiaIñupiatunIlokanoГӀалгӀайIdoÍslenskaItalianoᐃᓄᒃᑎᑐᑦ / inuktitut日本語PatoisLa .lojban.JawaქართულიTaqbaylitKabɩyɛTyapҚазақшаភាសាខ្មែរಕನ್ನಡ한국어Перем комиकॉशुर / کٲشُرRipoarischKurdîКомиKernowekКыргызчаLatinaLadinoLëtzebuergeschЛаккуЛезгиLingua Franca NovaLugandaLimburgsLigureLadinLingálaລາວLietuviųLatviešuमैथिलीМокшеньMalagasyОлык марийMāoriMinangkabauМакедонскиമലയാളംМонголꯃꯤꯇꯩ ꯂꯣꯟဘာသာမန်मराठीКырык марыBahasa MelayuMaltiMirandésမြန်မာဘာသာЭрзяньمازِرونیNapulitanoPlattdüütschNedersaksiesनेपालीनेपाल भाषाLi NihaNederlandsNorsk nynorskNorsk bokmålNouormandSesotho sa LeboaDiné bizaadOccitanLivvinkarjalaଓଡ଼ିଆИронਪੰਜਾਬੀKapampanganPapiamentuPicardDeitschNorfuk / PitkernPolskiPiemontèisپنجابیپښتوPortuguêsPinayuananRuna SimiRumantschRomani čhibRomânăArmãneashtiРусскийРусиньскыйIkinyarwandaसंस्कृतम्Саха тылаᱥᱟᱱᱛᱟᱲᱤSarduSicilianuScotsسنڌيSrpskohrvatski / српскохрватскиၽႃႇသႃႇတႆး සිංහලSimple EnglishSlovenčinaسرائیکیSlovenščinaGagana SamoaAnarâškielâChiShonaSoomaaligaShqipСрпски / srpskiSranantongoSeelterskSundaSvenskaKiswahiliŚlůnskiSakizayaதமிழ்TayalತುಳುతెలుగుТоҷикӣไทยTürkmençeTagalogTolışiTürkçeТатарча / tatarçaChiTumbukaТыва дылУдмуртئۇيغۇرچە / UyghurcheУкраїнськаاردوOʻzbekcha / ўзбекчаVènetoVepsän kel’Tiếng ViệtWest-VlamsVolapükWalonWinarayWolof吴语ХальмгIsiXhosaმარგალურიייִדישYorùbáVahcuengh中文文言Bân-lâm-gú粵語IsiZulu\\nEditar enlaces\\nArtículoDiscusión\\nespañol\\nLeerVer código fuenteVer historial\\nHerramientas\\nHerramientas\\nmover a la barra lateral\\nocultar\\n\\t\\tAcciones\\n\\t\\nLeerVer código fuenteVer historial\\n\\t\\tGeneral\\n\\t\\nLo que enlaza aquíCambios en enlazadasSubir archivoPáginas especialesEnlace permanenteInformación de la páginaCitar esta páginaObtener URL acortadoDescargar código QRElemento de Wikidata\\n\\t\\tImprimir/exportar\\n\\t\\nCrear un libroDescargar como PDFVersión para imprimir\\nDe Wikipedia, la enciclopedia libre\\n«Perro» redirige aquí. Para otras acepciones, véase Perro (desambiguación).\\n\\xa0\\nPerro\\nImagen con las razas caninas: Pumi, Perro sin pelo del Perú, Shih Tzu, Perro crestado rodesiano, Akita Inu, Komondor, Keeshond, Schnauzer gigante y Setter irlandés rojo y blanco.Estado de conservación\\nDomesticado TaxonomíaDominio:\\nEukaryotaReino:\\nAnimaliaSubreino:\\nEumetazoaSuperfilo:\\nDeuterostomiaFilo:\\nChordataSubfilo:\\nVertebrataInfrafilo:\\nGnathostomataSuperclase:\\nTetrapodaClase:\\nMammaliaSubclase:\\nTheriaInfraclase:\\nPlacentaliaOrden:\\nCarnivoraSuborden:\\nCaniformiaFamilia:\\nCanidaeSubfamilia:\\nCaninaeTribu:\\nCaniniSubtribu:\\nCaninaGénero:\\nCanisEspecie:\\nC. familiarisLinnaeus, 1758Distribución\\nSinonimia\\nCanis familiaris Linnaeus 1758\\nCanis familiaris domesticus Linnaeus 1758\\nCanis lupus familiaris Linnaeus 1758\\n[editar datos en Wikidata]\\nEl perro (Canis familiaris o Canis lupus familiaris, dependiendo de si se lo considera una especie o una subespecie del lobo), llamado perro doméstico o can, y en algunos lugares coloquialmente llamado chucho, tuso, choco, entre otros; es un mamífero carnívoro de la familia de los cánidos, que constituye una especie del género Canis. En el 2013, la población mundial estimada de perros estaba entre setecientos millones y novecientos ochenta y siete millones. \\nSu tamaño (o talla), su forma y su pelaje es muy diverso y varía según la raza. Posee un oído y un olfato muy desarrollados, y este último es su principal órgano sensorial. Su longevidad media es de diez a trece años, dependiendo de la raza. Junto al gato doméstico, es uno de los animales de compañía más populares del mundo.\\nEl perro doméstico proviene de un grupo ancestral común que data de hace aproximadamente treinta mil años, y desde entonces se ha extendido a todas partes del mundo. Los primeros restos fósiles de perros enterrados junto con seres humanos se encontraron en Israel, y datan de hace unos doce mil años. Desde entonces, los perros y los humanos han evolucionado conjuntamente, tanto en las culturas africanas y euroasiáticas, como en las que poblaron América y se mantuvieron sin contacto con aquellas hasta el siglo\\xa0XV. Los perros comparten el entorno, los hábitos y el estilo de vida humanos, como las dietas ricas en cereales y almidón. La alimentación inadecuada, así como el uso de antibióticos, son la causa del desarrollo de muchas enfermedades inflamatorias e inmunológicas. Unas cuatrocientas enfermedades del perro tienen una equivalente humana, y destacan especialmente la enfermedad de Alzheimer y otros trastornos neurológicos, así como varios tipos de cáncer, enfermedades autoinmunes y enfermedades cardiovasculares.\\nTienen una gran relación con los humanos, y entre tales relaciones se incluyen servir como animales de compañía, animales de guardia, perros de trabajo, perros de caza, galgos de carrera, perros guía, perros pastores o perros boyeros.[cita\\xa0requerida]\\nCaracterísticas\\nDiferencias respecto a otros cánidos\\nEn comparación con lobos de tamaño equivalente, los perros tienden a tener el cráneo un 20\\xa0% más pequeño y el cerebro un 10\\xa0% más pequeño, además de tener los dientes más pequeños que otras especies de cánidos. El perro requiere menos calorías para vivir que el lobo. Su dieta de sobras de los humanos hizo que su cerebro grande y los músculos mandibulares utilizados en la caza dejaran de ser necesarios. Algunos expertos piensan que las orejas flácidas de los canes son el resultado de la atrofia de los músculos mandibulares. La piel del perro doméstico tiende a ser más gruesa que la del lobo y algunas tribus esquimales prefieren su piel para vestirse, debido a su resistencia al desgaste en un clima inhóspito. A diferencia de los lobos, pero al igual que los coyotes, los perros domésticos tienen glándulas sudoríparas en las almohadillas de las patas. Las patas de un perro suelen ser más cortas que las de un lobo y su cola tiende a curvarse hacia arriba, otro rasgo que no se observa en los lobos.\\nAnatomía externa\\nDiagrama de la anatomía general de un perro: 1. frente, 2. hocico, 3. barboquejo, 4. hombro, 5. codo, 6. pata anterior, 7. punto más alto de la grupa, 8. muslo, 9. corvejón, 10. patas traseras, 11. cruceta, 12. babilla, 13. patas, 14. cola.\\nLa enorme variedad de morfologías en las diferentes razas de perro hace difícil determinar el tamaño y el peso medios de los mismos. Con una altura de entre 71 y 90\\xa0cm, el galgo irlandés es la raza más alta de perro —aunque algunos ejemplares de gran danés superan este tamaño, llegando hasta 107\\xa0cm—. La raza más pequeña de perro es el chihuahua, con un tamaño de 15-30\\xa0cm en la cruz. Con un peso medio de entre 1,5 y 3\\xa0kg —y que en algunos casos, puede no superar los 500\\xa0g—, los chihuahuas también son los canes más ligeros; mientras los mastines ingleses y los san bernardos son los perros más pesados, con un peso que puede llegar a más de 75 u 80\\xa0kg.\\nLa longevidad de los perros varía de una raza a otra, pero en general las razas más pequeñas viven más tiempo que las más grandes. Los canes más pequeños a menudo viven hasta la edad de quince o dieciséis años, mientras que los perros más grandes pueden tener una esperanza de vida de solo la mitad. En medio se encuentran todas las razas intermedias. El perro más viejo del que se tiene constancia, un Boyero australiano llamado Bluey, murió en el año 1939 a la edad de veintinueve años. La esterilización del animal puede prolongar o acortar su vida, reduciendo el riesgo de contraer enfermedades como la piometra en la hembra o cáncer testicular en el macho. También reduce el riesgo de accidentes y heridas, pues los perros no esterilizados se pelean y se escapan más. Por otro lado, la castración del macho favorece la aparición de cáncer de próstata, una enfermedad que puede acortar drásticamente la vida del animal.\\nPelaje\\nPelaje multicolor y denso, ideal para el invierno, en un perro de raza mestiza.\\nAl igual que los lobos, los perros tienen un pelaje, una capa de pelos que les cubre el cuerpo. El pelaje de un can puede ser un «pelaje doble», compuesto de una capa inferior suave y una capa superior basta. A diferencia de los lobos, los perros pueden tener un «pelaje único», carente de capa inferior. Los perros con un pelaje doble, como los lobos, están adaptados para sobrevivir en temperaturas frías y tienden a provenir de climas más fríos.\\nLos perros suelen presentar vestigios de contrasombreado, un patrón de camuflaje natural común. La base general del contrasombreado es que un animal iluminado desde arriba aparece más claro en la mitad superior y más oscuro en la mitad inferior, donde normalmente tiene su propio color. Este es un patrón que los predadores pueden aprender a reconocer. Un animal contrasombreado tiene una coloración oscura en la superficie superior y una coloración clara en la inferior. Esto reduce la visibilidad general del animal. Un vestigio de este patrón es que muchas razas tienen un lado, una raya o una estrella de pelaje blanco en el pecho o en la parte inferior.\\nEsqueletos de perro gran danés y chihuahua en un museo de osteología.\\nCola\\nHay muchas formas diferentes de cola de perro: recta, recta hacia arriba, forma de hoz, rizada o en tirabuzón. Tradicionalmente a algunas razas de perro se les amputa la cola (caudectomía), lo cual se está comenzando a prohibir en varios países, ya que se considera una forma de crueldad hacia los animales. En algunas razas, algunos cachorros nacen con una cola corta o sin cola. Esto sucede más a menudo en ciertas razas, especialmente en aquellas en las que a menudo se corta la cola y que por tanto no tienen estándar de raza en cuanto a la cola.\\nAparato locomotor\\nComo la mayoría de mamíferos predadores, el perro tiene músculos potentes, un sistema cardiovascular que permite una alta velocidad y una gran resistencia y dientes para cazar, aguantar y desgarrar las presas.\\nEl esqueleto ancestral de los perros les permite correr y saltar. Sus patas se han desarrollado para impulsarlos rápidamente hacia delante, saltando cuando sea necesario, con el fin de cazar y atrapar las presas. Por tanto, tienen pies pequeños y apretados y caminan sobre los dedos (digitígrados). Sus patas traseras son bastante rígidas y sólidas, mientras que las anteriores son laxas y flexibles, estando unidas al tronco únicamente por músculos.\\nAunque la cría selectiva ha cambiado la apariencia de muchas razas, todos los perros conservan los elementos básicos de sus antepasados. Los perros tienen omóplatos desconectados —carecen de clavícula— que permiten hacer zancadas más largas. La mayoría de las razas conservan las garras vestigiales —espuelas— en las patas anteriores y a veces en las posteriores. Algunas de estas razas, como el perro pastor catalán, pueden presentar un espolón doble en una o más patas. En algunos casos, se les quitan esas garras para evitar que el animal se las arranque sin querer durante la persecución de una presa, pero esta práctica es ilegal en algunos países.\\nSentidos\\nLos sentidos del olfato y del oído del perro son superiores a los del humano en muchos aspectos. Algunas de sus habilidades sensoriales han sido utilizadas por los humanos, como por ejemplo el olfato en los perros de caza, perros buscadores de explosivos o perros buscadores de drogas. Además, son capaces de diferenciar e identificar sonidos concretos como palabras y asociarlos a estímulos externos, como por ejemplo un premio.\\nVista\\nLa visión del can parece adaptada para la caza: No tiene gran agudeza visual de detalles, pero tienen excelente percepción de movimientos. Tiene excelente visión nocturna o crepuscular, debido al uso del tapetum lucidum —una pantalla reflectiva dentro del ojo—.\\nEl campo visual del perro se encuentra entre los 240 y los 250 grados, mucho mayor que el del ser humano que es de aproximadamente 180 grados.\\nLa visión del perro es sensible a los objetos en movimiento o con desplazamiento repentino, y cuenta con una excelente visión nocturna o crepuscular.\\nTienen una forma de visión dicromática llamada deuteranopia que en los humanos se considera una forma de daltonismo que afecta al rojo y al verde. Los perros perciben tonalidades de amarillo y de azul, pero el rojo lo perciben como amarillo y el verde lo ven gris.\\nSu sistema visual se ha desarrollado para ayudarles en la caza. Aunque es difícil de medir, la agudeza visual de los caniches ha sido estimada como equivalente a una puntuación en el test de Snellen de 20/75. Sin embargo, la discriminación visual es muy superior cuando se trata de objetos en movimiento. Se ha demostrado que los perros son capaces de distinguir su dueño de otras personas a distancias de más de un kilómetro y medio.[cita\\xa0requerida] Como cazadores crepusculares dependen de su visión en condiciones de poca iluminación. Para ayudarles a ver en la oscuridad tienen pupilas muy grandes, una mayor densidad de bastoncillos en la fóvea óptica, una mayor velocidad de parpadeo y un tapetum lucidum refractivo. El tapetum es una superficie refractiva situada detrás de la retina que refleja la luz para dar a los fotorreceptores una segunda oportunidad de captar los fotones. Aunque estas adaptaciones sirven para mejorar la visión en la oscuridad, también reducen la agudeza visual de los perros.\\nComo la mayoría de los mamíferos, los perros son dicromatos y tienen una visión en color equivalente al daltonismo rojo-verde en los humanos. Las diferentes razas caninas tienen diversas formas y tamaños de los ojos y también tienen una configuración distinta de la retina. Los perros con el hocico largo tienen una «raya visual» que se extiende por el ancho de la retina y que les da un campo muy amplio de visión excelente, mientras que los perros con el hocico corto tienen una área centralis, una región central con hasta tres veces la densidad de terminaciones nerviosas de la «raya visual», que los provee una vista detallada, mucho más similar a la de los humanos.\\nAlgunas razas, particularmente los galgos, tienen un campo de visión de hasta 270°, aunque las razas de cabeza ancha con el hocico corto tienen un campo de visión mucho más estrecho, tan bajo como 180°, similar al de los seres humanos. Algunas razas también presentan una tendencia genética a la miopía. Aunque la mayoría de razas son emmetrópicas, se ha descubierto que uno de cada dos rottweilers son miopes.\\nOído\\nEl campo de audibilidad del perro es aproximadamente de 40\\xa0Hz a 60\\xa0000\\xa0Hz. Detectan sonidos tan graves como 16-20\\xa0Hz —en comparación con 20-70\\xa0Hz en los humanos— y también por encima de 45\\xa0kHz —en comparación con 13-20\\xa0kHz en los humanos—, y además tienen un grado de movilidad de las orejas que les permite determinar rápidamente el origen exacto de un sonido. Dieciocho o más músculos pueden inclinar, rotar, levantar o bajar las orejas de un perro. Además, puede localizar el origen de un sonido mucho más rápido que un humano y detectar sonidos a una distancia hasta cuatro veces mayor que los humanos. Los perros con una forma de la oreja más natural, como las orejas de cánidos salvajes como el zorro, suelen oír mejor que los perros con las orejas más flexibles típicas de muchas razas domésticas.\\nOlfato\\nEl olfato es uno de los principales sentidos con que el perro descubre el mundo. La nariz canina es altamente sensible.\\nMientras que el cerebro humano es dominado por una gran corteza visual, el cerebro canino es dominado principalmente por una corteza olfativa. El bulbo olfativo de los perros, en proporción al tamaño total del cerebro, es unas cuarenta veces mayor que el de los humanos. Según la raza, los perros tienen entre 125 y 220 millones de células olfativas extendidas sobre un área del tamaño de un pañuelo de bolsillo —en comparación con cinco millones de células extendidas sobre el área de un sello en los humanos—. Los bloodhound son la excepción, con aproximadamente 300 millones de receptores olfativos. Los perros pueden distinguir olores a concentraciones casi 100 millones de veces inferiores a las que pueden distinguir los humanos.\\nGusto\\nEntre los sentidos caninos, el del sabor es el que menos se ha investigado y a menudo se le ha relacionado con el olfato. Los perros pueden distinguir los sabores básicos de manera similar a los humanos, aunque casi no distinguen el salado. Sin embargo, los gustos preferidos pueden diferir mucho de un can a otro, pues parece que no eligen la comida según el tipo de gusto, sino según su intensidad —fuerte sabor / gusto suave—. Los primeros meses de la vida de un cachorro son bastante importantes en este sentido ya que suelen probar muchos sabores diferentes cuando son jóvenes también desarrollarán un gusto por la variedad cuando sean adultos. Al igual que el ser humano y que muchos otros animales, el perro tiene la capacidad de asociar determinados gustos con los problemas de salud. Si un alimento lo hace enfermar o hace que se encuentre mal, tenderá a evitar el sabor de este alimento en el futuro. Esto forma parte de un mecanismo de defensa instintivo, que protege a muchos animales de envenenarse por la ingestión frecuente de sustancias tóxicas.\\nTacto\\nLos perros utilizan el sentido del tacto para comunicarse entre ellos y con otras especies. Si se hace apropiadamente, tocar un can puede servir para estimularlo o relajarlo. Se trata del primer sentido que se desarrolla en los cachorros recién nacidos y las perras comienzan a lamer y acariciar sus crías poco después del nacimiento. Algunos estudios han sugerido incluso que los perros pueden detectar movimientos en el abdomen de la madre incluso antes de nacer y que las perras que son mimadas durante la gestación dan a luz crías más dóciles. Los perros tienen sensores táctiles en todo el cuerpo, pero los cojinetes, la columna vertebral y la región de la cola son algunas de las zonas más sensibles.\\nLas vibrisas de los perros presentan mecanorreceptores que les sirven para adquirir información táctil de su ambiente, pero esta función no es tan importante como lo es en los gatos. Entre otras cosas, sirven para sentir el flujo del aire. Además del hocico, donde reciben el nombre de «bigotes», los perros tienen vibrisas encima de los ojos y debajo de la mandíbula.\\nComportamiento\\nInteligencia\\nMuchos perros pueden ser entrenados fácilmente para recuperar objetos como este palo.\\nCachorro reposando en un colchón.\\nLos perros son apreciados por su inteligencia. La inteligencia canina se refiere a la habilidad de un perro de procesar la información que recibe a través de sus sentidos para aprender, adaptarse y resolver problemas. La etología cognitiva es la disciplina que se encarga de estudiar esta área dentro de la cognición animal.\\nAlgunos estudios de antropología evolutiva se centran también en la identificación de las capacidades cognitivas especiales que el can posee, y que ha desarrollado debido a su estrecho contacto con el ser humano; como es la habilidad de reconocer un vocabulario extenso. En un ejercicio para observar su nivel de comprensión pasivo del vocabulario humano, se le pidió a un humano sentado detrás de una barrera transparente que sostuviera un juguete, y con voz monótona, le diera al perro la orden «trae» (bring). El perro se dirigió a un círculo en donde estaban dispersos diferentes objetos —desde un juguete exactamente igual al que el humano solicitó, hasta otro tipo de cosas con texturas y colores diferentes—, el animal observó por un momento el círculo de objetos para dirigirse a por el juguete exacto que se le había pedido y después presentarlo al humano. También se le pidió que trajera determinados objetos utilizando solamente la fotografía o réplica en miniatura del objeto. El estudio fue complementado con dos condiciones de control adicionales para evitar que el animal actuara por preferencias preestablecidas. El ejemplar utilizado —Border collie— pudo reconocer hasta 200 palabras del vocabulario humano.\\nLa habilidad de aprender rápido ha sido utilizada como uno de los parámetros para medir la inteligencia entre las razas caninas, otras pruebas tienen que ver con el deseo y la habilidad de responder ante diversas situaciones. Los perros guías, por ejemplo, deben aprender un número enorme de órdenes, entender cómo comportarse en una gran variedad de situaciones y reconocer riesgos o peligros a su compañero humano —frente a alguno de los cuales nunca se han enfrentado con anterioridad—, actuando incluso bajo el comportamiento conocido como desobediencia inteligente que significa que el animal de asistencia irá en contra del deseo de su dueño para evitar una decisión equivocada.\\nCiertas razas han sido continuamente seleccionadas a lo largo de cientos o miles de años por su capacidad de rápido aprendizaje, mientras que en otras razas, esta cualidad ha sido relegada en favor de otras características, como son: la habilidad de correr, perseguir, cazar o de pelear con otros animales. Sin embargo, la capacidad de aprender obediencia básica —y eventualmente comportamientos complejos— es inherente en todos los perros. Aun el perro más tímido o distraído responde más fácilmente al entrenamiento que, por ejemplo, un gato. Los propietarios deben ser simplemente más pacientes con algunas razas que con otras. Al igual que el lobo, el perro es un animal gregario.\\nSocialización\\nSistema de sujeción a la entrada de un edificio.\\nTambién en los perros, el término socialización se utiliza para caracterizar el proceso por el cual el animal se relaciona con su entorno, conoce sus reglas, entiende la estructura social, y percibe los límites. Los perros jóvenes a menudo aprenden rápidamente cómo comportarse con otros miembros del grupo, ya sean canes o humanos. Los perros adultos modelan a sus cachorros mediante correcciones —auditivas o físicas— cuando no se comportan de la forma esperada, y con premios si tienen comportamientos aceptables —jugando con ellos, alimentándolos, limpiándolos, entre otros—.\\nEl proceso de socialización se lleva a cabo especialmente de forma intensa durante los primeros meses de vida, y la primera etapa se extiende aproximadamente desde la tercera hasta la duodécima semana de vida. Tiempo en el que se basa la maduración de los órganos sensoriales y el desarrollo de las habilidades motoras.\\nCuando son cachorros deberán experimentar:\\nInteracción con otros perros (comunicación, aprendizaje de conductas de grupo).\\nInteracción con otros animales (gatos, cobayas, pájaros, caballos).\\nInteracción con seres humanos.\\nHabituación a los estímulos ambientales, tales como; sirenas de automóviles, ruidos cotidianos en el hogar, aviones, sonidos estridentes —fuegos artificiales de Año Nuevo— y también acostumbrarse a las multitudes o tráfico pedestre.\\nLa socialización canina se refiere tanto a la capacidad del perro de interaccionar con los seres humanos, como a su comprensión para comunicarse y relacionarse con otros perros.\\nUn can bien socializado aprende a estar tranquilo y receptivo a la hora de hacer frente a los extraños, los niños, otras mascotas y situaciones no previstas. El desarrollo futuro de cada perro está determinado principalmente por su socialización y educación. Perros mal socializados tendrán dificultades para adaptarse a su entorno y tenderán a presentar conductas y actitudes temerosas o agresivas, junto con otros trastornos del comportamiento. Los procesos de socialización que no se producen en las primeras catorce semanas de vida no pueden ser sustituidos. Un cachorro sin socialización con catorce semanas de vida será muy difícil de educar y/o adiestrar. En qué medida esto se traduce en trastornos de la conducta dependerá de la evaluación del perro de forma individual.\\nDebido a que son animales con tendencia a usar guaridas en el momento del parto y para criar a sus cachorros, pueden aprender fácilmente comportamientos como mantener su lugar limpio y aceptar estar en un área cerrada —como es el caso de una jaula temporal para transporte— u otro lugar cercado.\\nProblemas de comportamiento o anormales\\nEste artículo o sección necesita referencias que aparezcan en una publicación acreditada. \\nBusca fuentes: «Canis familiaris» – noticias\\xa0· libros\\xa0· académico\\xa0· imágenesEste aviso fue puesto el 8 de septiembre de 2021.\\nLos trastornos de la conducta canina se clasifican en tres tipos: patologías del desarrollo, sociopatías —relacionadas con el ambiente y su jauría humana o animal—, comportamientos disfuncionales que alteran la conducta normal, y que se ajustan para hacer frente a una situación cotidiana (fobia). Según la tesis de zoo psiquiatría desarrollada por Patrick Pageat:\\nAgresiones de tipo jerárquicas, territorial/maternal, por miedo, irritación, predatorias y redirigidas.\\nDestructivas, orina/defecaciones indeseadas, ansiedades, miedos y fobias (a la pirotecnia, por ejemplo).\\nTrastornos compulsivos y estereotipias (persecución de cola, auto lamido).\\nTrastornos alimentarios y dípsicos (anorexia/bulimia, potomanía).\\nTrastornos sexuales (hipersexualidad, pseudogestación), depresión de involución.\\nCabe señalar también que muchas de las malas costumbres caninas son la muestra de comportamientos desarrollados por razones tales como: falta de actividad —caminatas o deportes caninos—, ausencia de socialización, disciplina, entrenamiento o educación irresponsable por parte de los propios dueños.\\nGruñido\\nUn estudio reciente en Budapest, Hungría, ha encontrado que los perros son capaces de saber el tamaño que otro perro tiene con solo escuchar su gruñido. También que un gruñido específico es utilizado por los perros para proteger su comida. La investigación mostró que los perros no mienten sobre su tamaño, siendo esta la primera vez que una investigación ha puesto de manifiesto que los animales pueden determinar el tamaño de otro por el sonido que producen. La prueba utilizó imágenes de muchos tipos de perros, mostrando un can pequeño, después uno grande y reproduciendo el gruñido de cada tipo. El resultado demostró que —20 de los 24 perros del ensayo— miraban primero a la imagen del perro de tamaño apropiado durante los períodos más largos de tiempo.\\nSalud\\nLa salud de los perros, igual que la humana, está relacionada con el tipo de vida que lleve —alimentación, ejercicio físico, educación—, sobre todo durante los períodos de mayor vulnerabilidad: crecimiento, gestación, amamantamiento, trabajo y vejez. Son susceptibles a diversas enfermedades, trastornos y venenos, algunos de los cuales afectan a los humanos de la misma manera y otros que son exclusivos de los perros.\\nLos perros y los humanos han evolucionado conjuntamente durante los últimos 12\\xa0000 años, compartiendo la exposición a las mismas condiciones ambientales y la modificación de la alimentación ancestral. El ser humano pasó de una alimentación basada en la caza y la recolección a una dieta con un alto contenido en cereales. De la misma forma, el perro pasó de una alimentación carnívora a una dieta rica en cereales. Este cambio de la alimentación se ha producido a un ritmo muy rápido en un plazo de tiempo muy corto desde el punto de vista evolutivo. La humanidad existe desde hace unos 2,5 millones de años y los cánidos desde hace 34 millones de años, pero los cereales se introdujeron en la dieta de ambos hace unos 10\\xa0000 años, durante la revolución neolítica y el desarrollo de la agricultura. Las evidencias históricas y arqueológicas muestran que previamente, los seres humanos en general no mostraban signos ni síntomas de enfermedades crónicas y que, coincidiendo con la inclusión de los cereales en la dieta, se produjo una serie de consecuencias negativas sobre la salud, muchas de las cuales continúan presentes en la actualidad. Entre ellas cabe destacar múltiples deficiencias nutricionales, trastornos minerales que afectan tanto a los huesos (osteopenia, osteoporosis, raquitismo) como a los dientes (hipoplasias del esmalte dental, caries dentales), y una alta incidencia de trastornos neurológicos, enfermedades psiquiátricas, obesidad, diabetes tipo 2, ateroesclerosis y otras enfermedades crónicas o degenerativas. En qué medida ha ocurrido lo mismo en el caso de los perros y hasta qué punto el perfil de nutrientes de la dieta de sus antepasados los lobos (claramente carnívoros) es el óptimo para los perros domésticos, son objeto de estudio. Los alimentos comerciales para perros contienen sustancias que no pueden digerir o no digieren completamente, tales como tejidos animales de baja calidad (por ejemplo, huesos), fibras de origen vegetal y proteínas indigestas, que son un sustrato para la fermentación por la flora intestinal. También contienen altas cantidades de almidón procedente de los cereales y, si bien se ha demostrado que el can doméstico ha desarrollado una mayor capacidad digestiva y de absorción del almidón, no se ha determinado el impacto sobre la salud y la esperanza de vida de esta alta cantidad constante de glucosa absorbida por el perro. Muchas de las enfermedades inflamatorias e inmunológicas que desarrollan los perros son provocadas por alteraciones de la flora intestinal como consecuencia de una dieta inadecuada o el uso de antibióticos, tales como enfermedades digestivas crónicas, alergias respiratorias, asma, enfermedades de la piel (especialmente dermatitis atópica) y trastornos autoinmunes. Una dieta rica en proteínas y libre de cereales dará los nutrientes necesarios manteniendo la dieta de sus antepasados.\\nJunto a los humanos, los perros domésticos tienen la mayor diversidad fenotípica y enfermedades naturales conocidas de todos los mamíferos. Aproximadamente 400 enfermedades hereditarias similares a las de los humanos se caracterizan en los perros, incluidos trastornos complejos como cánceres, enfermedades cardiovasculares, enfermedades autoinmunes y trastornos neurológicos. Entre estos últimos, destaca especialmente la enfermedad de Alzheimer. Los perros muestran muchas similitudes con el deterioro cognitivo humano, incluyendo la acumulación en el cerebro de placas amiloides. Esto los convierte en el mejor modelo animal de investigación de la enfermedad de Alzheimer.\\nComo todos los mamíferos, son susceptibles a la hipertermia cuando hay niveles elevados de humedad y/o de temperatura.\\nLa longevidad media de un perro varía mucho en función de la raza, y oscila entre 8 y 15 años, si goza de buena salud puede vivir hasta 20 años, o incluso más; el perro más longevo que se conoce llegó a los 29 años. Las razas pequeñas suelen tener una esperanza de vida mayor que las grandes y las gigantes.\\nValores orientativos caninos\\nTemperatura corporal:\\n38,5-39,5\\xa0°C\\nFrecuencia respiratoria:\\n20-40 respiraciones / min\\nFrecuencia cardíaca:\\n70-180 latidos / min y hasta 220 en cachorros\\nDuración del crecimiento:\\nRazas pequeñas: hasta los 10 meses\\nRazas medianas: hasta los 12 meses\\nRazas grandes: hasta los 15 meses\\nPeríodo de vejez:\\nRazas pequeñas: desde los 8 años\\nRazas medianas: desde los 7 años\\nRazas grandes: desde los 5 años\\nEn ocasiones es el médico veterinario quien recomienda qué tipo de vacuna se debe aplicar, es importante que el propietario tenga en conocimiento que en cuanto a aplicaciones víricas, funciona mejor en el organismo del animal una vacuna de virus atenuado o modificado, ya que este tipo de biológicos dan un incremento paulatino de anticuerpos, logrando una protección muy eficaz sin los efectos adversos postinoculación que pueden existir con la aplicación de una vacuna a virus activo; los efectos con este tipo de vacunas pueden ir desde simple fiebre y vómito hasta un choque anafiláctico o la muerte.\\nEnfermedades\\nPerro con obesidad.\\nEjemplares híbridos de la raza pekinés.\\nLos perros, igual que el resto de los seres vivos, corre riesgo de enfermarse. Los perros pueden ser una fuente de contagio de determinadas enfermedades para el hombre. Por esta razón, y por la propia salud de la mascota, es muy importante la correcta vacunación y desparasitación interna y externa regular.\\nAlgunas razas de perro son propensas a determinados trastornos genéticos, tales como la displasia de cadera, luxaciones rotulares, paladar leporino, ceguera, sordera o enteropatía sensible al gluten. También son susceptibles a trastornos como la diabetes, la epilepsia, el cáncer, la artritis y la obesidad.\\nLa obesidad es una patología frecuente. Se considera que un perro tiene sobrepeso cuando su peso está por encima del ideal, dependiendo también del tipo de raza; sin embargo, se considera un perro como obeso cuando sobrepasa más del 20\\xa0% su peso ideal, la obesidad debe considerarse como una enfermedad consecuencia de la alteración de las funciones normales del organismo. Para su solución es preciso diagnosticarla, conocer las causas que la han producido y proponer soluciones. La frecuencia de obesidad aumenta con la edad, y es más frecuente en hembras que en machos y es dos veces más elevada en perros castrados. Las razas caninas con más tendencia a engordar son el Labrador Retriever, Cocker Spaniel, Dachshund, Pastor de Shetland, Collie, Basset hound y Beagle. La causa de la obesidad es que se almacena más energía de la que se consume. Un perro que consuma un 1\\xa0% más de la energía que necesita puede aumentar su peso hasta un 25\\xa0% más de lo debido.\\nLa torsión gástrica y la meteorización son un problema serio en algunas razas de pecho ancho.\\nLas enfermedades infecciosas habitualmente asociadas con los perros incluyen la leptospirosis, el parvovirus canino y el moquillo. Para protegerlos de ellas, los perros deben ser vacunados, así como también contra la rabia, enfermedad que se transmite al ser humano y es altamente mortal.\\nLas enfermedades heredables de los canes pueden incluir una gran variedad, desde la displasia de cadera y las luxaciones rotulares mediales hasta epilepsia, diabetes y estenosis pulmonar. Los perros pueden contraer enfermedades que afectan cualquiera de sus órganos, como el hipotiroidismo, cáncer, enfermedades periodontales, enfermedades cardíacas, insuficiencia renal, etc.\\nEs de destacar la piómetra, que afecta a las hembras no esterilizadas de todas clases y edades que no han tenida una vida reproductiva, cuya remedio suele ser quirúrgico. El meteorismo gástrico y la torsión estomacal afectan a las razas más grandes y los perros de pecho ancho, y son un trastorno agudo que puede matar rápidamente.\\nLos parásitos externos más comunes del perro son la pulga, la garrapata y el piojo, mientras que los internos son diferentes cestodos, nematodos, como áscaris, anquilostomas, dirofilarias, diversas tenias y otros. Entre estas últimas se encuentra el Echinococcus granulosus, cuya forma evolutiva intermedia es responsable de la hidatidosis humana.\\nLos perros pueden sufrir alergias, que pueden afectar a la piel o provocar alteraciones digestivas. Los alimentos que normalmente producen alergias son carne de res, lácteos, trigo, huevo, cordero, pollo y soja.\\nEl setter irlandés puede desarrollar enteropatía sensible al gluten, una enfermedad similar a la enfermedad celíaca o la sensibilidad al gluten no celíaca de los seres humanos. Se trata de una enfermedad inflamatoria crónica del intestino delgado, determinada genéticamente y causada por el consumo de gluten.\\nLas enfermedades pueden tener un origen viral, bacteriano, parasitario, genético, alérgico o inmunitario, o varios de ellos a la vez. Entre ellas pueden citarse:\\nalergias cutáneas\\ncriptorquidia\\ndiabetes\\ndisplasia de cadera\\nepilepsia\\nhepatitis canina\\nleptospirosis\\nmoquillo o distemper\\notitis infecciosa\\nparásitos externos\\nparásitos intestinales\\nparvovirosis\\npiómetra\\npiorrea\\nrabia\\nreumatismo\\nsarna\\ntorsión gástrica\\ntoxoplasmosis\\nReproducción\\nUna perra salvaje de Sri Lanka cuida a sus cuatro cachorros.\\nEn los perros domésticos, la madurez sexual (pubertad) comienza a producirse a la edad de entre seis y doce meses tanto en los machos como en las hembras, aunque en algunas razas de gran tamaño puede retrasarse hasta la edad de dos años. La adolescencia de la mayoría de los perros dura entre los doce y los quince meses de edad, a partir de los cuales ya son más adultos que cachorros. Como en el caso de otras especies domesticadas, la domesticación ha favorecido una mayor libido y un ciclo de reproducción más temprano y frecuente en los perros que en sus antepasados salvajes. El perro permanece reproductivamente activo durante toda su vida.\\nLas hembras entran en celo dos veces por año, el período durante el cual están receptivas al macho para la copulación, con sus órganos preparados para la gestación. Como los óvulos sobreviven y pueden ser fertilizados durante unos días después de la ovulación, es posible que una hembra se aparee con más de un macho.\\nLa gestación en las perras dura 63 días término medio, con un rango que va de los 58 a los 68. Una camada promedio se compone de alrededor de seis cachorros. Las razas grandes tienen camadas más numerosas (un promedio de 8-12 crías), las razas medianas de 6 a 7 crías, y las razas pequeñas de dos a cuatro crías.\\nDebido a la cría selectiva algunas razas han adquirido rasgos que interfieren con la reproducción. Los machos de bulldog francés, por ejemplo, suelen ser incapaces de montar a la hembra. En la gran mayoría de casos, las hembras de esta raza deben ser inseminadas artificialmente para que se reproduzcan y frecuentemente darán a luz a través de cesárea.\\nCastración y esterilización\\nArtículo principal:  Castración\\nCachorros durante un juego de lucha para establecer su jerarquía.\\nLa esterilización es un proceso quirúrgico, que consiste normalmente en la extirpación de los testículos en los machos y los ovarios (o el útero o los ovarios y el útero) en las hembras y que se hace para eliminar la capacidad de reproducirse y reducir el deseo sexual de los perros. Debido a la sobrepoblación de perros en algunos países, las asociaciones de control de los animales aconsejan esterilizar los perros que no se piense utilizar para criar, de manera que no tengan cachorros no deseados.\\nLa esterilización tiene otros beneficios aparte de eliminar la capacidad de procrear. Reduce los problemas causados por la hipersexualidad en los machos, al tiempo que impide el desarrollo de hiperplasia prostática. Las hembras esterilizadas tienen menos probabilidades de desarrollar ciertos tipos de cáncer, que afectan a las glándulas mamarias, los ovarios y otros órganos reproductores. Por otra parte, prácticamente se elimina la posibilidad de que las hembras desarrollen piometra, una enfermedad degenerativa del útero, que puede llegar a ser mortal si no se trata adecuadamente.\\nTambién puede tener efectos médicos no deseados. Aumenta el riesgo de incontinencia urinaria en las hembras así como de osteosarcoma, hemangiosarcoma, rotura del ligamento cruzado, obesidad y diabetes mellitus en ambos sexos. Los cambios hormonales que implica la esterilización tienen una probabilidad de cambiar en cierta medida la personalidad y el metabolismo del animal. Estudios recientes demuestran que los perros esterilizados en general son más agresivos hacia sus semejantes y los humanos y más miedosos y sensibles al tacto que los canes que no han sido esterilizados, aunque los efectos varían de un perro a otro. La esterilización de animales muy jóvenes puede causar más problemas de salud más adelante en la vida para ambos sexos.\\nAlimentación\\nArtículo principal:  Comida para perros\\nExisten dos tipos básicos de alimentación: industrial y natural.\\nCarne cruda, alimento húmedo y comida seca para perro en un recipiente.\\nAlimentos no recomendados para los perros\\nChocolate: contiene una sustancia llamada teobromina que causa intoxicación en el organismo del can y puede ser fatal en dosis grandes.\\nGolosinas: frituras, caramelos, galletas; tienden a formar sarro en la dentadura del perro. Además los azúcares les hacen propensos a la diabetes. Existen golosinas especiales para ellos que incluso protegen de la formación de sarro.\\nHuesos: en especial los de pollo o los fácilmente astillables. Al ser triturados por la mandíbula del perro pueden formar esquirlas con puntas muy agudas, las cuales podrían incrustarse y dañar la boca o perforar el esófago, intestino o recto provocando lesiones internas, además de formar bolos fecales de difícil expulsión, sobre todo en los ejemplares añosos.\\nDesperdicios caseros: se deben evitar los alimentos muy condimentados, ya que los perros son especialmente sensibles a la sal, pimienta y chile. De igual forma se deben evitar los alimentos con exceso de grasa. Los desperdicios o restos de alimentos, normalmente poco frescos deben ser eliminados. No se debe permitir que coman restos hallados en la calle, pues podría sufrir gastroenteritis o intoxicación.\\nCarne de cerdo o jabalí y pecarí: se debe evitar, sobre todo si tiene origen en una fuente sin control sanitario (matanza casera o caza, por ejemplo), por la posibilidad de contraer la enfermedad de Aujeszky o pseudorrabia, que, aunque rara, suele ser mortal para los cánidos y generalmente es asintomática en los suinos.\\nPredadores\\nAunque los perros salvajes, como los lobos, son predadores alfa, pueden morir en combates territoriales con animales salvajes. Además en las zonas en las que los perros son simpátricas con otros predadores grandes, los perros pueden ser una fuente de alimento importante para cánidos o félidos grandes. En Croacia mueren más perros que ovejas, mientras que en Rusia los lobos limitan las poblaciones de perros ferales. En Wisconsin se paga una mayor compensación por la pérdida de perros que de ganado. Ha habido casos en los que un par de lobos matan perros, siguiendo un método en el que uno de ellos atrae al perro hacia vegetación densa, donde el otro lobo prepara una emboscada. En algunos casos, los lobos han mostrado una falta anormal de miedo de los humanos y de los edificios a la hora de atacar perros, hasta el punto que se les debe expulsar o matar. Los coyotes también atacan perros. Se conocen casos de fieras que matan perros. Se sabe que los leopardos tienen una predilección por los perros y han matado y se han comido incluso ejemplares grandes y feroces. A diferencia de los leopardos que viven en la misma región, los tigres de la India raramente atacan canes, aunque en Manchuria, Indochina, Indonesia y Malasia, los tigres matan perros con el mismo vigor que los leopardos. Finalmente, las hienas rayadas son grandes predadores de perros en los pueblos de Turkmenistán, India y Cáucaso.\\nAncestros e historia de la domesticación\\nFigura de perro realizada por la cultura Colima entre 100 AC y 300 DC.\\nMosaico romano que muestra un perro con collar.\\nEl perro es una subespecie doméstica del lobo, según la comparación de los mapas genéticos de ambas especies. La evidencia fósil más antigua de un perro domesticado fue encontrada en 2008 en la cueva Goyet de Bélgica, correspondiente a unos 31\\xa0700 años y al parecer asociado a la cultura auriñaciense. Hasta entonces las pruebas más remotas se habían encontrado en Rusia, con una antigüedad de 14\\xa0000 años (Eliseevich). El ser humano consiguió domesticar a ejemplares de lobos o, más probablemente, se demostró incapaz de impedir que los lobos se introdujeran en sus aldeas y tuvieran allí a sus cachorros. El perro era útil como ayuda en la caza y para defender al grupo y su morada, como demuestran grabados de hace 6000 años en Arabia Saudí. Poco a poco, el hombre los adaptó a sus necesidades, creando diferentes razas para las distintas labores y características ambientales y geográficas. La evidencia genética y arqueológica sugiere que el proceso de domesticación se produjo en los dos extremos de África y Eurasia de forma independiente —aunque posteriormente la población oriental reemplazó casi por completo a la occidental—, así como en las culturas que poblaron todo el continente americano.\\nEl ser humano se dio cuenta rápidamente de los finos sentidos del olfato y el oído que tenía el perro: su olfato es más potente que el del humano —su área olfatoria es veinte veces más gruesa, en el caso del pastor alemán tiene una superficie treinta y cuatro veces mayor y cuarenta veces más células olfatorias que los humanos— y su oído es capaz de percibir sonidos muy por debajo y por encima del rango que oyen los humanos. Estas ventajas aumentan su utilidad para la caza y las labores de guarda tales como el pastoreo y protección de los rebaños. Los perros son muy valorados por su ayuda en la caza. Los canes enterrados en el cementerio mesolítico de Svaerdborg en Dinamarca muestran que, en la Europa antigua, eran ya una valiosa compañía. Como animal de costumbres sociales, que convive en grupos perfectamente jerarquizados, se adaptó a convivir con los humanos.\\nEl perro ha acompañado al ser humano en su proceso a la civilización. Su presencia está probada en todas las culturas del mundo. Así, en Perú, en la era prehispánica, los moches los usaban como ayuda en la caza y también como mascotas en casa. En el entierro del Señor de Sipán, se encontraron dentro de las tumbas restos de un can que seguramente se usó en la caza, ya que el cráneo tenía perfectamente desarrollados sus molares.\\nEl cráneo y los dientes del perro doméstico han disminuido de tamaño con relación al lobo al no necesitar matar presas grandes. Así mismo, al pasar de una dieta de carne a una constituida por los desechos provenientes de la alimentación de los humanos, desarrollaron cerebros más pequeños que requieren menos calorías y menos proteínas para su crecimiento y sustento.\\nLa percepción del can por parte del ser humano ha variado y varía según las culturas. En varias etnias americanas anteriores a 1492, tal y como aún ocurre en zonas del Extremo Oriente Asiático, los perros eran usados directamente como alimento. En zonas del Oriente Medio el perro ha sido asociado por su aspecto con los chacales —de hecho científicamente se creyó hasta el desarrollo de la genética a fines del siglo\\xa0XX que los canes comunes de todo el mundo eran descendientes de chacales— y al ser los chacales animales principalmente carroñeros, los perros también han sido considerados impuros en esa zona. Quizás la única especie de perro que no desciende del lobo es el perro fueguino, que descendería del culpeo.\\nEn 2016, Angela Perri, del Departamento de Evolución Humana del Instituto Max Planck de Antropología Evolutiva, propone que los perros modernos podrían no descender del mismo linaje que el lobo gris moderno, sino de una subespecie de lobo del Pleistoceno aún sin identificar.\\nRazas\\nArtículo principal:  Raza de perro\\nSe han criado una gran variedad de razas caninas con distintas formas, colores y tallas. Esta imagen muestra la diferencia de tamaño entre un gran danés y un dachshund.\\nHay numerosas razas de perro, las organizaciones cinológicas reconocen más de 400. Muchos canes, especialmente fuera de Estados Unidos y de Europa occidental, no pertenecen a ninguna raza reconocida. Unos cuantos tipos de perro básicos han evolucionado gradualmente durante la relación del perro doméstico con los humanos a lo largo de los últimos 10\\xa0000 años o más pero todas las razas modernas tienen un origen relativamente moderno. Muchas de ellas son el resultado de un proceso deliberado de selección artificial como en el caso de los terriers o de los schnauzers. Debido a esto, algunas razas están altamente especializadas y hay una diversidad morfológica extraordinaria entre razas diferentes. Pese a estas diferencias, los perros son capaces de distinguir los otros perros de otros tipos de animal.\\nEste ejemplar es un cruce de Cairn terrier y Bichón maltés.\\nLa definición de lo que es una raza de perro es tema de una cierta polémica. Dependiendo del tamaño de la población fundadora original, las razas con un acervo génico reducido pueden tener problemas de consanguinidad, concretamente debido al efecto fundador. Los criadores de perros toman cada vez más conciencia de la importancia de la genética de poblaciones y de mantener patrimonios génicos diversos. Las pruebas de salud y ADN pueden contribuir a evitar problemas, ofreciendo un sustituto de la selección natural. Sin selección, los patrimonios génicos consanguíneos o cerrados pueden aumentar el riesgo de graves problemas de salud o de comportamiento. Algunas organizaciones definen una raza menos estrictamente, de modo que un ejemplar puede ser considerado de una raza siempre que el 75\\xa0% de su ascendencia sea de esta raza. Estas consideraciones afectan tanto a los animales de compañía como los perros que participan en exposiciones caninas. Incluso perros con pedigrí que han sido premiados sufren de defectos genéticos debido al efecto fundador o consanguinidad. Estos problemas no se limitan a los perros de pedigrí y pueden afectar ejemplares cruzados. Se puede predecir en cierta medida el comportamiento y la apariencia de un can de una raza determinada, mientras que los cruces presentan un abanico más amplio de apariencia y comportamiento innovadores.\\nPerro mestizo peruano, con ascendencia de diferentes razas.\\nLos perros mestizos son aquellos que no pertenecen a ninguna raza determinada, sino que tienen ascendencia de diferentes razas. Tanto los canes de pedigrí como los mezclados son aptos como animales de compañía, perros de carga o competidores en deportes cinófilos. A veces se cruzan deliberadamente perros de dos razas diferentes para crear una raza mezclada como el Cockapoo, que es una mezcla de cocker spaniel y caniche en miniatura. Estos cruces deliberados pueden presentar un cierto grado de vigor híbrido y otras características deseables, pero pueden o no pueden heredar características deseables de sus padres, como el temperamento o un determinado color o pelaje. Si no se hacen pruebas genéticas a los padres, los cruces pueden acabar heredando defectos genéticos presentes en las dos razas parientes.\\nUna raza es un grupo de animales que tiene un conjunto de características heredadas que los distinguen de otros animales de la misma especie. El cruce deliberado de dos o más razas también es una manera de crear nuevas razas, pero solo será una raza cuando los descendientes presentan de forma fiable este conjunto de características y cualidades.\\nClasificación según la FCI\\nLa Federación Cinológica Internacional establece una clasificación en diez grandes grupos por la función y características de los canes.\\nlebreles;\\nperros cobradores y levantadores de caza y perros de agua;\\nperros de compañía\\nperros de muestra;\\nperros pastor y boyeros (excepto boyeros suizos);\\nperros tipo pinscher y schnauzer - Molosoides - perros tipo montaña y boyeros suizos;\\nperros tipo sabueso, perros de rastro y razas semejantes;\\nperros tipo spitz y tipo primitivo;\\nteckels;\\nterriers.\\nConcepto de raza\\nPerro Vizsla o Braco Húngaro\\nEl concepto que los científicos tienen de raza, como un grupo que comparte caracteres genéticos, difiere del uso coloquial del término dado por las personas como sinónimo de variedad. El vocablo «raza» en ciencia incluiría todas las variedades de perros que habitan en el mundo, es decir, solo existe una «raza» de animales que comprenden a los perros y esta definición se acercaría más a la jerarquía taxonómica de subespecie. El vulgo hizo extensiva la significación de «raza» a las distintas variedades de canes, como Bulldog, Doberman o Chihuahua; esto debido a que los perros son fenotípicamente distintos por lo que se creó esa «construcción social», sin embargo, en zoología, según algunos científicos, el concepto de «raza» no es sinónimo de variedad en la especie. Los perros tienen diversidad genética, pero esto se debe principalmente a la reproducción selectiva en condiciones controladas. Sin embargo, para otros las razas sí existen. Esto es similar a la especie humana.\\nHay aproximadamente cuatrocientas razas —más que de cualquier otro animal— que varían significativamente en tamaño, fisonomía y temperamento, presentando una gran variedad de colores y de tipos de pelo según la raza. Estas razas de perros tienen una antigüedad menor a doscientas años, pues son el resultado de una intensa selección artificial, realizada por los seres humanos desde finales del siglo\\xa0XIX hasta la actualidad, con el objetivo de crear a su antojo ejemplares que cumplan determinados criterios estéticos y de comportamiento. Esto ha provocado el desarrollo y transmisión crecientes de numerosos problemas de salud y de comportamiento, incluyendo graves malformaciones y enfermedades genéticas que pueden provocar sufrimiento crónico y disminución de la esperanza de vida. Asimismo, ciertas prácticas requeridas para cumplir los estándares marcados para determinadas razas, como la amputación de la cola, pueden provocar dolor crónico (como el experimentado en otro tipo de amputaciones y el síndrome del miembro fantasma) e incapacidad para comunicarse adecuadamente, tanto con sus semejantes como con los seres humanos.\\nTipos de razas\\nbichón (bichón maltés, bichon frisé)\\nbraco (braco alemán de pelo corto, braco de Weimar, braco húngaro)\\nbulldog (bulldog inglés, bulldog americano)\\ncollie (border collie, collie de pelo largo)\\ncur (catahoula)\\ndogo (dogo argentino, dogo español)\\nfeist (toy terrier americano)\\ngolden retriever\\ngrifón (grifón korthals)\\nlebreles (galgo español, azawakh)\\nmastín (mucuchíes, Mastín Tibetano)\\nperro cobrador (golden retriever, Labrador retriever)\\nperro de agua socorrista (Terranova, San Bernardo\\nperro pila (perro pila argentino)\\nperros de agua (perro de agua español)\\npinscher (doberman pinscher, pinscher alemán)\\npodenco (podenco portugués, podenco andaluz)\\nratonero (ratonero bodeguero andaluz)\\nsabueso (basset hound, bloodhound)\\nSetter (gordon setter, setter inglés)\\nspaniel (cocker spaniel inglés)\\nSpitz (husky, malamute de Alaska)\\nterrier (airedale terrier, fox terrier)\\nInteracción con los humanos\\nArtículo principal:  Vínculo entre humanos y perros\\nLos perros domésticos han heredado una jerarquía social y ciertos comportamientos sociales complejos de su antepasado, el lobo. Son animales que viven en grupo, con un conjunto complejo de comportamientos que determinan la posición de cada can en la jerarquía social. Los perros presentan diversas posturas y otros medios de comunicación no verbal que revelan su estado mental. Estas formas sofisticadas de cognición social y comunicación pueden explicar su adiestrabilidad, su gusto por el juego y su capacidad de integrarse en hogares y situaciones sociales humanas. Estos atributos han contribuido a que los perros creen una relación única con los humanos a pesar de ser predadores alfa potencialmente peligrosos.\\nAunque los expertos no están muy de acuerdo sobre los detalles de la domesticación del perro, hay consenso en que la interacción con los humanos desempeñó un papel significativo en la formación de la subespecie. Poco después de la domesticación, el perro estuvo omnipresente en las poblaciones humanas y se extendió por el mundo. Los emigrantes de Siberia probablemente atravesaron el estrecho de Bering en compañía de canes y algunos expertos sugieren que el uso de perros de trineo podría haber sido vital para el éxito de las oleadas migratorias que llegaron a Norteamérica hace unos 12\\xa0000 años. Los perros fueron una parte esencial de la vida de la población atabascana de Norteamérica. En muchos grupos, el can era el único animal domesticado, y fue utilizado de nuevo por emigrantes atabascanos hace 1400 años, cuando cargaron gran parte de las provisiones en las migraciones de las tribus de apaches y navajos. El uso del perro como animal de carga en estas culturas a menudo continuó después de la introducción del caballo en Norteamérica.\\nInterpretación de gestos y señales comunicativas humanas\\nEn los últimos años, existe evidencia que sugiere que las especies no humanas pueden interpretar las acciones de otras especies. En un estudio conducido por el Instituto Max Planck de Antropología Evolutiva en Alemania, se observó que los perros eran capaces de inferir la posibilidad de comida oculta observando el dedo de una persona, y siguiendo con la vista la dirección a donde apuntaba el dedo humano cuando se señalaba el lugar en donde estaba oculto el alimento —del cual había sido eliminado el olor para evitar que el animal usará su olfato—. Contrario a los simios de género Pan que no reparaban ni en el señalamiento, ni seguían con la vista la dirección en donde apuntaba el dedo humano. Una de las conclusiones que se extrajeron es que los perros han desarrollado una competencia específica en el seguimiento de gestos, señales e interpretación de los patrones de comunicación humana.\\nUsos y utilidad\\nAunque una gran mayoría de perros se mantienen como animales de compañía, existe también un gran número de formas en que los perros pueden ayudar a los seres humanos. En algunos casos se pueden aprovechar sus habilidades innatas, mientras que en otros hay que adiestrarlos.\\nPerro de rescate durante la búsqueda de personas vivas en un edificio en ruinas después de un terremoto.\\nLos perros de asistencia ayudan a las personas con discapacidades en tareas cotidianas. Como, por ejemplo, los perros de movilidad para los minusválidos, los perros guía para personas con deficiencias visuales y los perros de escucha para las personas con problemas auditivos. Los perros de terapia representan otra manera de ayudar a los enfermos; visitan personas que no pueden moverse con libertad, como, por ejemplo, la gente mayor que vive en residencias geriátricas o los enfermos ingresados en hospitales, ofreciéndoles diversión y entretenimiento. También se realizan cursos de adiestramiento de canes para prisioneros, como terapia de rehabilitación.\\nLos perros de búsqueda y rescate detectan el aroma que transportan las células de la piel que caen fuera de los humanos vivos a un ritmo de alrededor de 40\\xa0000 células por minuto, el sudor que se evapora o los gases respiratorios. Gracias a ello pueden buscar personas desaparecidas, perdidas en tierras salvajes, cubiertas por avalanchas de nieve, enterradas debajo de edificios que se han derrumbado, entre otras situaciones.\\nLos perros para la detección de cadáveres —a diferencia de los perros de búsqueda y rescate— están adiestrados para ignorar el olor de humanos vivos, junto con el aroma animal, y solo buscar el olor de los gases de descomposición liberados por la acción de las bacterias en la piel o en los tejidos humanos. Estos canes pueden usarse para encontrar restos humanos relacionados con escenas de crimen, casos de personas desaparecidas y evidencia forense relacionada con escenarios de desastres o escombros. Un tipo específico de perro también se entrena para localizar restos mortales en el agua.\\nPerro entrenado para usos militares (sobre un M2A3 Bradley).\\nLos perros pastores son útiles para los pastores y ganaderos de todo el mundo para dirigir los rebaños; se utilizan diferentes razas para cada tarea y para vigilar los rebaños. Algunos perros pastores también protegen gansos salvajes en parques o cabras utilizadas para el control de malezas. Los canes pastores se pueden adaptar para controlar cualquier tipo de animal doméstico, o muchos tipos de animales salvajes. En cambio, los perros de caza ayudan a los cazadores a encontrar, rastrear y recuperar las presas, o eliminar alimañas. Es menos frecuente que los perros de presa o de caza mayor, luchen contra una presa como un oso o un jabalí.\\nLos perros de trineo se utilizan principalmente en eventos deportivos, aunque también pueden ayudar a transportar personas y víveres en terreno nevado y difícil. Los canes artísticos, como los perros de circo o los actores caninos, están adiestrados para realizar actos que no son útiles intrínsecamente, pero que entretienen al público o contribuyen a las actuaciones artísticas de los humanos.\\nLos perros de guardia ayudan a proteger la propiedad pública o privada, bien residiendo o bien durante patrullas, con cuerpos militares o con empresas de seguridad. Los perros policía se adiestran para rastrear o inmovilizar posibles criminales cuando ayudan a los policías a hacer detenciones o investigar la escena de un crimen. Algunos incluso están entrenados para cuerpos antiterroristas. Los perros de detección, en cambio, pueden ayudar a detectar sustancias ilegales, bombas, productos químicos y muchas otras sustancias.\\nFinalmente, los perros de guerra se usan en las fuerzas armadas en muchas de las situaciones en que se usan perros civiles, pero en un contexto militar. Además, se han asignado a perros tareas militares especializadas tales como la detección de minas o el tendido de cables.\\nVéase también\\n Portal:Perros. Contenido relacionado con Perros.\\nAgility\\nAnimal de compañía\\nGato (animal de compañía)\\nGeneración Bullenbeisser\\nCarne de perro\\nCarrera de galgos\\nCaudectomía\\nExposición canina\\nFábricas de cachorros\\nGalgo\\nKennel Club\\nLos secretos del pedigrí\\nMastín\\nOtectomía\\nPermanencia del objeto en perros\\nPerro de trabajo\\nPerro de caza\\nPerros de agua\\nPerro pastor\\nPerro boyero\\nPerro cobrador\\nPerros potencialmente peligrosos\\nPerro callejero\\nPinscher\\nPodenco\\nSchutzhund\\nTerrier\\nSpaniel\\nSchnauzer\\nVínculo entre humanos y perros\\nReferencias\\n↑ «Canis lupus familiaris». Catalogue of Life (2010 Annual Checklist) (en inglés). Sistema Integrado de Información Taxonómica (ITIS).\\xa0\\n↑ Dewey, T. and S. Bhagat (2002). «Canis lupus familiaris» (en inglés). Animal Diversity Web. Consultado el 21 de enero de 2009.\\xa0\\n↑ Wilson, Don E.; Reeder, DeeAnn M., eds. (2005). «Canis lupus familiaris». Mammal Species of the World (en inglés) (3ª edición). Baltimore: Johns Hopkins University Press, 2 vols. (2142 pp.). ISBN\\xa0978-0-8018-8221-0.\\xa0\\n↑ Real Academia Española. «can». Diccionario de la lengua española (23.ª edición).\\xa0\\n↑ chucho\\n↑ tuso\\n↑ «choco». Archivado desde el original el 25 de enero de 2018. Consultado el 25 de enero de 2018.\\xa0\\n↑ Broad Sequencing Platform members; Lindblad-Toh, Kerstin; Wade, Claire M; Mikkelsen, Tarjei S.; Karlsson, Elinor K.; Jaffe, David B.; Kamal, Michael; Clamp, Michele et al. (2005-12). «Genome sequence, comparative analysis and haplotype structure of the domestic dog». Nature (en inglés) 438 (7069): 803-819. ISSN\\xa00028-0836. doi:10.1038/nature04338. Consultado el 11 de febrero de 2021.\\xa0 Se sugiere usar |número-autores= (ayuda)\\n↑ Koepfli, Klaus-Peter; Pollinger, John; Godinho, Raquel; Robinson, Jacqueline; Lea, Amanda; Hendricks, Sarah; Schweizer, Rena\\xa0M.; Thalmann, Olaf et al. (2015-08). «Genome-wide Evidence Reveals that African and Eurasian Golden Jackals Are Distinct Species». Current Biology (en inglés) 25 (16): 2158-2165. doi:10.1016/j.cub.2015.06.060. Consultado el 11 de febrero de 2021.\\xa0 Se sugiere usar |número-autores= (ayuda)\\n↑ Una revisión de las interacciones entre los perros domésticos que deambulan libremente y la vida silvestre. 2013. p.\\xa0157.\\xa0 |fechaacceso= requiere |url= (ayuda)\\n↑ Coppinger, Ray (2001). Dogs: a Startling New Understanding of Canine Origin, Behavior and Evolution. New York: Scribner. p.\\xa0352. ISBN\\xa00-684-85530-5.\\xa0\\n↑ «Kennel Club/British Small Animal Veterinary Association Scientific Committee». 2004. Archivado desde el original el 13 de agosto de 2013. Consultado el 19 de julio de 2020.\\xa0\\n↑ Proschowsky, Rugbjerg, Ersbell, Mortality of purebred and mixed-breed dogs in Denmark (2003). «Mortality of purebred and mixed-breed dogs in Denmark». Preventive Veterinary Medicine 58 (1–2): 63-74. PMID\\xa012628771. doi:10.1016/S0167-5877(03)00010-2.\\xa0\\n↑ Michell AR (1999). «Longevity of  breeds of dog and its relationships with sex, size, cardiovascular variables and disease». The Veterinary Record 145 (22): 625-629. PMID\\xa010619607. doi:10.1136/vr.145.22.625.\\xa0\\n↑ a b c Parker HG (febrero de 2012). «Genomic analyses of modern dog breeds». Mamm Genome (Revisión) 23 (1-2): 19-27. PMC\\xa03559126. PMID\\xa022231497. doi:10.1007/s00335-011-9387-6.\\xa0\\n↑ a b Revista Nature (23 de enero de 2013). «The genomic signature of dog domestication reveals adaptation to a starch-rich diet» (en inglés). Archivado desde el original el 2 de abril de 2013. Consultado el 14 de mayo de 2013. «We identify candidate mutations in key genes and provide functional support for an increased starch digestion in dogs relative to wolves.».\\xa0\\n↑ a b Viano, Lucas (22 de octubre de 2015). «¿Había perros en América cuando llegaron los españoles?». Scientific American.\\xa0\\n↑ a b c d Mazzatenta A, Carluccio A, Robbe D, Giulio CD, Cellerino A (octubre de 2017). «The companion dog as a unique translational model for aging.». Semin Cell Dev Biol (Revisión) 70: 141-153. PMID\\xa028803893. doi:10.1016/j.semcdb.2017.08.024.\\xa0\\n↑ a b Rowell JL, McCarthy DO, Alvarez CE (julio de 2011). «Dog models of naturally occurring cancer». Trends Mol Med (Revisión) 17 (7): 380-8. PMC\\xa03130881. PMID\\xa021439907. doi:10.1016/j.molmed.2011.02.004.\\xa0\\n↑ a b Gershwin LJ (marzo de 2018). «Current and Newly Emerging Autoimmune Diseases». Vet Clin North Am Small Anim Pract (Revisión) 48 (2): 323-338. PMID\\xa029248206. doi:10.1016/j.cvsm.2017.10.010.\\xa0\\n↑ a b Tizard IR, Jones SW (marzo de 2018). «The Microbiota Regulates Immunity and Immunologic Diseases in Dogs and Cats». Vet Clin North Am Small Anim Pract (Revisión) 48 (2): 307-322. PMID\\xa029198905. doi:10.1016/j.cvsm.2017.10.008.\\xa0\\n↑ a b c d Coppinger, Ray (2001). Dogs: a Startling New Understanding of Canine Origin, Behavior and Evolution. pp.\\xa0p352. 0684855305.\\xa0\\n↑ Lopez, Barry (1978). Of wolves and men. p.\\xa0320. ISBN\\xa00-7432-4936-4.\\xa0\\n↑ Dog Breed Info Center. Irish Wolfhound.\\n↑ «tallest Dog Living». Guinness World Records. Consultado el 24 de septiembre de 2008.\\xa0\\n↑ «FCI - Fédération Cynologique Internationale». FCI (en francés). 12 de enero de 2012. Archivado desde el original el 12 de enero de 2012. Consultado el 30 de enero de 2017.\\xa0\\n↑ Mastiff - Kaynine Online\\n↑ .com/issues/0209/articles/020918a.htm Vegetable-Eating Dog Lives to Ripe Old Age of 29; Also: Who is the Oldest Dog in the World; And: How to Make Your Dog Live 1.8 Years Longer\\n↑ Teske, E.; Naan, E. C.; Van Dijk, E. M.; Van Garderen, E.; Schalk, J. A. Canine prostate carcinoma: Epidemiological evidence of an increased risk in castrated dogs, Departamento de Ciencias Clínicas de Animales de Compañía, Universidad de Utrecht (Países Bajos).\\n↑ Klappenbach, Laura (2008). «What is Counter Shading?». About.com. Archivado desde el original el 27 de septiembre de 2011. Consultado el 22 de octubre de 2008.\\xa0\\n↑ Cunliffe, Juliette (2004). «Coat Types, Colours and marking». The Encyclopedia of Dog Breed. Paragon Publishing. pp.\\xa020-23.\\xa0\\n↑ Camila Navarrete (30 de marzo de 2014). «Los peligros de la caudectomía canina: Experto asegura que el corte de cola de perritos no es sano». Biobio Chile.\\xa0\\n↑ Varios autores (2013–2014). «Corte de orejas y cola en la especie canina».\\xa0\\n↑ ¿Cómo es la visión del perro?\\n↑ a b Corehn, Stanley (2004). How Dogs Think. First Free Press, Simon & Schuster.\\xa0\\n↑ A & E Television Networks (1998). Big Dogs, Little Dogs: The companion volume to the A & E special presentation, A Lookout Book, GT Publishing. ISBN 1-57719-353-9 (Hardcover).\\n↑ Alderton, David (1984). The Dog, Chartwell Books. ISBN 0-89009-786-0.\\n↑ Jennifer Davis (1998). «Dr. P s Dog Training: Vision in Dogs & People». Archivado desde el original el 9 de febrero de 2015. Consultado el 6 de junio de 2008.\\xa0\\n↑ Jónico Newby; Caroline Penry-Davey (25 de septiembre de 2003).  Australian Broadcasting Corporation, ed. «Catalyst: Dogs \\'Eyes». Consultado el 26 de noviembre de 2006.\\xa0\\n↑ Kubai, Melissa A; BS; Ellison Bentley, D. V. M.; Paul E. Miller, DVM; Donald O. Mutti, OD, PhD; Christopher J. Murphy, DVM, PhD (julio de 2008). «Refractive states of eyes and association between ametropia and breed in dogs». American Journal of Veterinary Research 69 (7): 946-951. doi:10.2460/ajvr.69.7.946.\\xa0\\n↑ Elert, Glenn; Timothy Condon (2003). shtml «Frequency Range of Dog hearing». The Physics Factbook. Consultado el 22 de octubre de 2008.\\xa0 (enlace roto disponible en Internet Archive; véase el historial, la primera versión y la última).\\n↑ «How Well Do Dogs and Other Animals Hear?» (en inglés). Consultado el 14 de mayo de 2013.\\xa0\\n↑ «Understanding a Dog \\'s Sin of Smell». Dummies.com. Archivado desde el original el 9 de marzo de 2008. Consultado el 22 de octubre de 2008.\\xa0\\n↑ «The Dog \\'s Sin of» (PDF). Alabama and Auburn Universities. Archivado desde U/UNP-0066/UNP-0066.pdf el original el 22 de febrero de 2007. Consultado el 22 de octubre de 2008.\\xa0\\n↑ «Smell». nhm.org. 6 de mayo de 2004. Archivado desde el original el 26 de octubre de 2008. Consultado el 22 de octubre de 2008.\\xa0\\n↑ John W. Bradshaw (2006). «The Evolutionary Basis for the Feeding Behavior of Domestic Dogs (  Canis familiaris) and Cats ( Felis catus)». The Journal of Nutrition 136: 1927-1931.\\xa0\\n↑ «Dog Sin of Smell. Dog Taste Bud». GuideofDogs.com. Archivado desde el original el 10 de diciembre de 2008. Consultado el 12 de enero de 2009.\\xa0\\n↑ «Making Sin of Your Dog \\'s World». PetPlace.com. Consultado el 26 de enero de 2009.\\xa0\\n↑ Joël Dehasse (1994). «Sensory, emotional and social development of the young dog». The Bulletin for Veterinary Clinical Ethology (Bruselas) 2 (1-2): 6-29.\\xa0\\n↑ Virginia Morell. «Minds of Their Own: Animals are smarter than you think». Animal mind. National Geographic (en inglés). Consultado el 20 de mayo de 2013. «Just how easily new mental skills can evolve is perhaps best illustrated by dogs. Most owners talk to their dogs and expect them to understand».\\xa0\\n↑ «My Dog Can Do It!». Max Planck research (FOCUS_The in the Other): 6-7. Consultado el 20 de mayo de 2013.\\xa0\\n↑ Elizabeth VanDyke (26 de julio de 1936). «New Freedom For Blind Americans Provided By \\'Seeing Eye\\' Specially Trained Dogs Not Only See But Think For Sightless». Hartford Courant.\\xa0 |fechaacceso= requiere |url= (ayuda)\\n↑ Dr. Gifford Jones (5 de diciembre de 2003). «Seeing Eye dogs can teach us a lesson». Kitchener Ontario Record.\\xa0 |fechaacceso= requiere |url= (ayuda)\\n↑ a b c d  Kersti Seksel: Die Sozialisation des Hundewelpen. In: Vet. Focus 20 (2010), S.\\xa07–12.\\n↑ Dramard, Valérie (09/2007 (2ème édition)).  Collection de Médecine Vétérinaire, Maisons-Alfort, ed. Pathologie du comportement du chien. du Point Vétérinaire. p.\\xa0191. ISBN\\xa09782914738958.\\xa0\\n↑ Faragó, T; Pongrácz P; Miklósi Á; Huber L; Virányi Z; Range, F (2010). «Dogs\\' Expectation about Signalers\\' Body Size by Virtue of Their Growls». PLoS ONE 5 (12): e15175. Bibcode:2010PLoSO...515175F. PMC\\xa03002277. PMID\\xa021179521. doi:10.1371/journal.pone.0015175.\\xa0\\n↑ Gale EA (octubre de 2005). «Do dogs develop autoimmune diabetes?». Diabetologia 48 (10): 1945-1947. PMID\\xa016132943. doi:10.1007/s00125-005-1924-y. «Modern dogs are relatively inactive and consume more food than their ancestors, much of it in the form of vegetable chow for which evolution left them unprepared. Los perros modernos son relativamente inactivos y consumen más alimentos que sus antepasados, gran parte de ella en forma de comida vegetal para la cual la evolución no los preparó.».\\xa0\\n↑ a b c Bressan P, Kramer P (29 de marzo de 2016). «Bread and Other Edible Agents of Mental Disease». Front Hum Neurosci (Revisión) 10: 130. PMC\\xa04809873. PMID\\xa027065833. doi:10.3389/fnhum.2016.00130.\\xa0\\n↑ a b c Sands DC, Morris CE, Dratz EA, Pilgeram A (noviembre de 2009). «Elevating optimal human nutrition to a central goal of plant breeding and production of plant-based foods». Plant Sci (Revisión) 177 (5): 377-89. PMC\\xa02866137. PMID\\xa020467463. doi:10.1016/j.plantsci.2009.07.011.\\xa0\\n↑ a b c d O\\'Keefe JH Jr, Cordain L (enero de 2004). «Cardiovascular disease resulting from a diet and lifestyle at odds with our Paleolithic genome: how to become a 21st-century hunter-gatherer». Mayo Clin Proc (Revisión, Artículo Histórico) 79 (1): 101-8. PMID\\xa014708953. doi:10.4065/79.1.101.\\xa0\\n↑ Aziz I, Branchi F, Sanders DS (agosto de 2015). «The rise and fall of gluten!». Proc Nutr Soc (Revisión) 74 (3): 221-6. PMID\\xa025686620. doi:10.1017/S0029665115000038.\\xa0\\n↑ Tedford RH, Wang X, Taylor BE (2009). «Phylogenetic Systematics of the North American Fossil Caninae (Carnivora: Canidae)». Bulletin of the American Museum of Natural History (Revisión) 325: 1-218. doi:10.1206/574.1.\\xa0\\n↑ a b c Bosch G, Hagen-Plantinga EA, Hendriks WH (enero de 2015). «Dietary nutrient profiles of wild wolves: insights for optimal dog nutrition?». Br J Nutr 113 (Suppl): S40-54. PMID\\xa025415597. doi:10.1017/S0007114514002311.\\xa0\\n↑ «Alimentación canina». Consultado el 29 de noviembre de 2020.\\xa0\\n↑ Gedon, Trisha (25 de mayo de 2006). «Summer heat can be tough».  En Oklahoma State University, ed. Division of Agricultural Sciences and Natural Resources. Archivado desde el original el 1 de septiembre de 2006. Consultado el 21 de agosto de 2006.\\xa0\\n↑ «Oldest dog». Guinness World Records. 2011. Consultado el 8 de mayo de 2011.\\xa0\\n↑ Botanical On Line: Expectativa de vida del perro\\n↑ Laflamme D, Izquierdo O, Eirmann L, Binder S (julio de 2014). «Myths and Misperceptions About Ingredients Used in Commercial Pet Foods». Veterinary Clinics of North America: Small Animal Practice (Revisión) 44 (4): 689-698. doi:10.1016/j.cvsm.2014.03.002.\\xa0\\n↑ a b Verlinden A, Hesta M, Millet S, Janssens GPJ (2006). «Food Allergy in Dogs and Cats: A Review». Critical Reviews in Food Science and Nutrition (Revisión) 46 (3): 259-273. doi:10.1080/10408390591001117.\\xa0\\n↑ Dewey, T.; S. Bhagat (2002). \"Canis lupus familiaris\" (On-line), Animal Diversity Web. Consultado el 6 de enero de 2009 a  Animaldiversity.\\n↑ «Sexual Maturity - Spay and neutro». Buffalo.com. Archivado desde el original el 10 de junio de 2009. Consultado el 22 de octubre de 2008.\\xa0\\n↑ «Normal gestation in dogs». Archivado desde el original el 9 de octubre de 2008. Consultado el 22 de octubre de 2008.\\xa0\\n↑ «HSUS Pet Overpopulation Estimates». The Humane Society of the United States. Archivado desde el original el 25 de abril de 2013. Consultado el 22 de octubre de 2008.\\xa0\\n↑ a b c Robinson, Roy (1990). Genetics for Dog Breeders. Ficha en OpenLibrary: Butterworth-Heinemann Limited. pp.\\xa0280 p. 15. ISBN\\xa09780750646123.\\xa0\\n↑ «French Bulldog Pet Care Guide». Archivado desde el original el 26 de julio de 2011. Consultado el 7 de enero de 2008.\\xa0\\n↑ «Top 10 Reasons to Spay / neutro your pet». American Society for Prevention of Cruelty to Animals. Archivado desde el original el 7 de abril de 2007. Consultado el 16 de mayo de 2007.\\xa0\\n↑ Heidenberger E.; Unshelm J. (1990). «Changes in the behavior of dogs after castration». Tierärztliche Praxis (en alemán) 18 (1): 69-75. PMID\\xa02326799.\\xa0\\n↑ Morrison, Wallace B. (1998). Cancer in Dogs and Cats (1st ed.). Williams and Wilkins. ISBN\\xa00-683-06105-4.\\xa0\\n↑ Arnold S. (1997). «Urinary incontinence in castrated Bitches. Parte 1: Significance, clinical aspects and etiopathogenesis». Schweiz. Arch. Tierheilkd. (en alemán) 139 (6): 271-6. PMID\\xa09411733.\\xa0\\n↑ Root-Kustritz M. V. (2007). «Determining the optimal age for gonadectomy of dogs and cados». JAVMA 231 (11): 1665-1675. doi:10.2460/javma.231.11.1665.\\xa0\\n↑ Duffy, Ph. D., Deborah L.; James A. SERPELL, Ph. D. (2006). Non-Reproductive Effects of Spaying and Neutering donde Behavior in Dogs (PDF). Center for the Interaction of Animales and Society, School of Veterinary Medicine, University of Pennsylvania: Third International Symposium on Non-Surgical Contraceptive Methods for Pet Population Control. Archivado desde el original el 19 de marzo de 2009.\\xa0\\n↑ Spain CV; Scarlett JM, Houpt KA (febrero de 2004). «Long-term risks and benefits of early-age gonadectomy in cats». J Am Med Assoc 224:372. doi:10.1038/laban0510-140.\\xa0\\n↑ Graves, Will (2007). Wolves in Russia: Anxiety throughout the ages. Calgary: Detselig Enterprises. p.\\xa0222. ISBN\\xa01550593323. Archivado desde el original el 2 de agosto de 2009.\\xa0\\n↑ Kojola, I.; Ronkainen, S.; Hakala, A.; Heikkinen, S.; Kokko, S. Interaction between wolves Canis lupus and dogs C. familiaris in Finland. Nordic Council for Wildlife Research.\\xa0\\n↑ ocr/sections/news/focus_in_depth/article_508026.php «For coyotes, pedos are Prey». Greg Hardesty. Orange County Register. Consultado el 19 de agosto de 2007.\\xa0\\n↑ Jonathan & Angela Scott (2006). Big Cat Diary: Leopard. Londres: Collins. p.\\xa0108. ISBN\\xa00007211813.\\xa0\\n↑ Perry, Richard (1965). The World of the Tiger. p.\\xa0260. ASIN: B0007DU2IU.\\xa0\\n↑ «Striped Hyaena Hyaena (Hyaena) hyaena (Linnaeus, 1758)». IUCN Species Survival Commission Hyaenidae Specialist Group. mayo. Archivado desde el original el 28 de septiembre de 2007. Consultado el 21 de mayo de 2008.\\xa0\\n↑ Lindblad-Toh, Kerstin et al. (8 de diciembre de 2005). «Genome sequence, comparative analysis and haplotype structure of the domestic dog». Nature 438 (7069): 803-819. doi:10.1038/nature04338.\\xa0\\n↑ Germonpré, Mietje; Sablin, Mikhail V.; Stevens, Rhiannon E.; Hedges, Robert E.M.; Hofreiter, Michael; Stiller, Mathias; Després, Viviane R. (febrero de 2009). «Fossil dogs and wolves from Palaeolithic sites in Belgium, the Ukraine and Russia: osteometry, ancient DNA and stable isotopes». Journal of Archaeological Science (en inglés) 36 (2): 473-490. doi:10.1016/j.jas.2008.09.033.\\xa0\\n↑ Altares, Guillermo (14 de diciembre de 2017). «Los perros ayudaron a la humanidad a sobrevivir». El País. Consultado el 14 de diciembre de 2017.\\xa0\\n↑ Frantz, L. A. F.; Mullin, V. E.; Pionnier-Capitan, M.; Lebrasseur, O.; Ollivier, M.; Perri, A.; Linderholm, A.; Mattiangeli, V.; Teasdale, M. D.; Dimopoulos, E. A.; Tresset, A.; Duffraisse, M.; McCormick, F.; Bartosiewicz, L.; Gal, E.; Nyerges, E. A.; Sablin, M. V.; Brehard, S.; Mashkour, M.; Bălăşescu, A.; Gillet, B.; Hughes, S.; Chassaing, O.; Hitte, C.; Vigne, J.-D.; Dobney, K.; Hanni, C.; Bradley, D. G.; Larson, G. (2 de junio de 2016). «Genomic and archaeological evidence suggest a dual origin of domestic dogs». Science 352 (6290): 1228-1231. doi:10.1126/science.aaf3161.\\xa0\\n↑ Perri, Angela (2016) «A wolf in dog\\'s clothing: Initial dog domestication and Pleistocene wolf variation». Journal of Archaeological Science, 68: 1-4\\n↑ Lord, Kathryn A.; Larson, Greger; Coppinger, Raymond P.; Karlsson, Elinor K. (2020). «The History of Farm Foxes Undermines the Animal Domestication Syndrome». Trends in Ecology & Evolution. 35 (2): 125–136. doi:10.1016/j.tree.2019.10.011. PMID 31810775\\n↑ a b c d Hytönen MK, Lohi H1 (28 de septiembre de 2016). «Canine models of human rare disorders». Rare Dis (Revisión) 4 (1): e1241362. PMC\\xa05070630. PMID\\xa027803843.\\xa0\\n↑ Shook, Larry (1995). The Puppy Report: How to Select a Healthy, Happy Dog. Nueva York: Ballantine. pp.\\xa057-72. ISBN\\xa00 - 345-38439-3.\\xa0\\n↑ «Nomenclatura de las razas de la FCI». www.fci.be. Consultado el 16 de febrero de 2016.\\xa0\\n↑ California Newsreel. «Race: the Power of an Illusion». PBS. Consultado el 22 de julio de 2018.\\xa0\\n↑ FAO\\n↑ a b Packer RM, Hendricks A, Tivers MS, Burn CC (28 de octubre de 2015). «Impact of Facial Conformation on Canine Health: Brachycephalic Obstructive Airway Syndrome». PLoS One (Revisión) 10 (10): e0137496. PMID\\xa026509577. doi:10.1371/journal.pone.0137496.\\xa0\\n↑ a b Meola SD (agosto de 2013). «Brachycephalic airway syndrome». Top Companion Anim Med (Revisión) 28 (3): 91-96. PMID\\xa024182996. doi:10.1053/j.tcam.2013.06.004.\\xa0\\n↑ Bennett PC1, Perini E (abril de 2003). Tail docking in dogs: a review of the issues (Revisión) 81 (4). pp.\\xa0208-218. PMID\\xa015080444. doi:10.1111/j.1751-0813.2003.tb11473.x.\\xa0\\n↑ Sandøe P, Kondrup SV, Bennett PC, Forkman B, Meyer I, Proschowsky HF, Serpell JA, Lund TB (24 de febrero de 2017). «Why do people buy dogs with potential welfare problems related to extreme conformation and inherited disease? A representative study of Danish owners of four small dog breeds». PLoS One 12 (2): e0172091. PMC\\xa05325474. PMID\\xa028234931. doi:10.1371/journal.pone.0172091.\\xa0\\n↑ Miklosi, Adam (27 de enero de 2009). Dog Behaviour, Evolution, and Cognition. Oxford University Press, 2007. doi:10.1093/acprof:oso/9780199295852.001.0001.\\xa0\\n↑ Mark Derr (2004). A dogs history of America. North Point Press.\\xa0\\n↑ Buttelmann, D.; Carpenter, M., Call, J. & Tomasello, M. (2007). «Enculturated chimpanzees imitate rationally.». Developmental Science. doi:10.1111/j.1467-8624.2008.01146.x.\\xa0\\n↑ a b «Making inferences about the location of hidden food: social dog, causal ape.». Journal of Comparative Psychology 120 (1): 38-47. 2006. doi:10.1037/0735-7036.120.1.38. Archivado desde el original el 8 de enero de 2013. Consultado el 15 de mayo de 2013.\\xa0\\n↑ Ohio Valley Search and Rescue.Inc. Glossary\\nBibliografía\\nFogle, B. (2005). El Perro: Manual de Adiestramiento Canino. Editorial Omega. ISBN\\xa01-55059-205-X.\\xa0\\nGerritsen, R. y Haak, R. (2000). K9 Schutzhund Training. A manual for Tracking, Obedience and Protection. Detseling Enterprises Ltd: Calgary, Alberta, Canadá. ISBN\\xa01-55059-205-X.\\xa0\\nLonsdale, T. (2001). Raw Meaty Bones Promote Health. Dogwise Publishing. ISBN\\xa0978-0-646-39624-8.\\xa0\\nVitela, D. (2003). Manual de nutrición canina. Editorial Universitaria.\\xa0\\nEnlaces externos\\nAtlas virtual sobre cráneos, huesos, esqueletos y denticiones de los mamíferos ibéricos, del apartado de rastros de mamíferos.\\nBiodiversity Heritage Library bibliography for Canis lupus familiaris\\nDogs in the Ancient World, artículo sobre la historia de los perros\\nVértebras del perro\\nControl de autoridades\\nProyectos Wikimedia\\n Datos: Q20717272\\n Diccionario: perro\\n Especies: Canis lupus familiaris\\nIdentificadores\\nAAT: 300250130\\nBases de datos taxonómicas\\nGBIF: 5219200\\niNaturalist: 47144\\nITIS: 183815\\nNCBI: 9615\\nPaleobiology Database: 104153\\nWoRMS: 1461482\\nZoobank: 05C23FE8-F45D-4EA6-A309-46864DE24097\\n Datos: Q20717272\\n Diccionario: perro\\n Especies: Canis lupus familiaris\\nObtenido de «https://es.wikipedia.org/w/index.php?title=Canis_familiaris&oldid=158719337»\\nCategorías: Animales domesticadosPerrosCánidos (Canidae) no amenazadosAnimales descritos en 1758Categorías ocultas: Wikipedia:Páginas con referencias con et al. implícito en los autoresWikipedia:Páginas con referencias sin URL y con fecha de accesoWikipedia:Artículos con enlaces externos rotosWikipedia:Páginas con enlaces mágicos de ISBNWikipedia:Artículos con pasajes que requieren referenciasWikipedia:Artículos que necesitan referenciasWikipedia:Referenciar (aún sin clasificar)Wikipedia:Artículos con identificadores AATWikipedia:Páginas que utilizan control de autoridades con parámetrosWikipedia:Artículos con enlaces interwiki adicionales\\n Esta página se editó por última vez el 10 mar 2024 a las 13:27.\\nEl texto está disponible bajo la Licencia Creative Commons Atribución-CompartirIgual 4.0; pueden aplicarse cláusulas adicionales. Al usar este sitio aceptas nuestros términos de uso y nuestra política de privacidad.Wikipedia® es una marca registrada de la Fundación Wikimedia, una organización sin ánimo de lucro.\\nPolítica de privacidad\\nAcerca de Wikipedia\\nLimitación de responsabilidad\\nCódigo de conducta\\nDesarrolladores\\nEstadísticas\\nDeclaración de cookies\\nVersión para móviles\\nActivar o desactivar el límite de anchura del contenido\\n'"
      ]
     },
     "execution_count": 3,
     "metadata": {},
     "output_type": "execute_result"
    }
   ],
   "source": [
    "text = re.sub(r\"\\n+\", \"\\n\", text)\n",
    "text = re.sub(r\"\\[\\d+\\]\\u200b\", \"\", text)\n",
    "text"
   ]
  },
  {
   "cell_type": "code",
   "execution_count": 4,
   "id": "56af6e85-6dac-4c65-a969-243bd5887285",
   "metadata": {},
   "outputs": [],
   "source": [
    "import nltk"
   ]
  },
  {
   "cell_type": "code",
   "execution_count": 5,
   "id": "1659a13a-1a41-48e9-b171-486515eea957",
   "metadata": {},
   "outputs": [],
   "source": [
    "text = \"mi gato es blanco. tu perro es bonito\""
   ]
  },
  {
   "cell_type": "code",
   "execution_count": 6,
   "id": "d16d674d-2c15-4f37-b801-cc2a61e601ca",
   "metadata": {},
   "outputs": [
    {
     "data": {
      "text/plain": [
       "['mi gato es blanco.', 'tu perro es bonito']"
      ]
     },
     "execution_count": 6,
     "metadata": {},
     "output_type": "execute_result"
    }
   ],
   "source": [
    "nltk.sent_tokenize(text)"
   ]
  },
  {
   "cell_type": "code",
   "execution_count": 7,
   "id": "3a15d0f2-1025-48b8-acbe-d0cbe32c70bb",
   "metadata": {},
   "outputs": [
    {
     "data": {
      "text/plain": [
       "['mi', 'gato', 'es', 'blanco', '.', 'tu', 'perro', 'es', 'bonito']"
      ]
     },
     "execution_count": 7,
     "metadata": {},
     "output_type": "execute_result"
    }
   ],
   "source": [
    "nltk.word_tokenize(text)"
   ]
  },
  {
   "cell_type": "code",
   "execution_count": 8,
   "id": "72339122-f672-4afd-9857-a5e235bd0f64",
   "metadata": {},
   "outputs": [],
   "source": [
    "text = \"mi amigo es de los EE.UU. Los beneficios fueron de 2.3 millones de euros\""
   ]
  },
  {
   "cell_type": "code",
   "execution_count": 9,
   "id": "d65adf17-cb23-42a9-b2e1-5532adcf73d2",
   "metadata": {},
   "outputs": [
    {
     "data": {
      "text/plain": [
       "['mi amigo es de los EE.UU.', 'Los beneficios fueron de 2.3 millones de euros']"
      ]
     },
     "execution_count": 9,
     "metadata": {},
     "output_type": "execute_result"
    }
   ],
   "source": [
    "nltk.sent_tokenize(text)"
   ]
  },
  {
   "cell_type": "code",
   "execution_count": 10,
   "id": "0da0b4d3-f543-4614-86e9-4eae53b69b38",
   "metadata": {},
   "outputs": [
    {
     "data": {
      "text/plain": [
       "['mi',\n",
       " 'amigo',\n",
       " 'es',\n",
       " 'de',\n",
       " 'los',\n",
       " 'EE.UU',\n",
       " '.',\n",
       " 'Los',\n",
       " 'beneficios',\n",
       " 'fueron',\n",
       " 'de',\n",
       " '2.3',\n",
       " 'millones',\n",
       " 'de',\n",
       " 'euros']"
      ]
     },
     "execution_count": 10,
     "metadata": {},
     "output_type": "execute_result"
    }
   ],
   "source": [
    "nltk.word_tokenize(text)"
   ]
  },
  {
   "cell_type": "code",
   "execution_count": 11,
   "id": "68c7f335-71e9-43b5-ad80-56b7b958fcf7",
   "metadata": {},
   "outputs": [
    {
     "data": {
      "text/plain": [
       "'\\nCanis familiaris - Wikipedia, la enciclopedia libre\\nIr al contenido\\nMenú principal\\nMenú principal\\nmover a la barra lateral\\nocultar\\n\\t\\tNavegación\\n\\t\\nPortadaPortal de la comunidadActualidadCambios recientesPáginas nuevasPágina aleatoriaAyudaDonacionesNotificar un error\\nBuscar\\nBuscar\\nCrear una cuenta\\nAcceder\\nHerramientas personales\\n Crear una cuenta Acceder\\n\\t\\tPáginas para editores desconectados más información\\nContribucionesDiscusión\\nContenidos\\nmover a la barra lateral\\nocultar\\nInicio\\n1Características\\nAlternar subsección Características\\n1.1Diferencias respecto a otros cánidos\\n1.2Anatomía externa\\n1.2.1Pelaje\\n1.2.2Cola\\n1.3Aparato locomotor\\n1.4Sentidos\\n1.4.1Vista\\n1.4.2Oído\\n1.4.3Olfato\\n1.4.4Gusto\\n1.4.5Tacto\\n2Comportamiento\\nAlternar subsección Comportamiento\\n2.1Inteligencia\\n2.2Socialización\\n2.3Problemas de comportamiento o anormales\\n2.4Gruñido\\n3Salud\\nAlternar subsección Salud\\n3.1Enfermedades\\n3.2Reproducción\\n3.3Castración y esterilización\\n3.4Alimentación\\n4Predadores\\n5Ancestros e historia de la domesticación\\n6Razas\\nAlternar subsección Razas\\n6.1Clasificación según la FCI\\n6.2Concepto de raza\\n7Tipos de razas\\n8Interacción con los humanos\\nAlternar subsección Interacción con los humanos\\n8.1Interpretación de gestos y señales comunicativas humanas\\n9Usos y utilidad\\n10Véase también\\n11Referencias\\n12Enlaces externos\\nCambiar a la tabla de contenidos\\nCanis familiaris\\n260 idiomas\\nАԥсшәаAcèhАдыгабзэAfrikaansAlemannischአማርኛPangcahAragonésअंगिकाالعربيةܐܪܡܝܐالدارجةمصرىঅসমীয়াAtikamekwАварKotavaअवधीAymar aruAzərbaycancaتۆرکجهБашҡортсаBasa BaliBoarischŽemaitėškaBatak TobaBikol CentralБеларускаяБеларуская (тарашкевіца)БългарскиभोजपुरीBislamaBanjarBamanankanবাংলাབོད་ཡིགBrezhonegBosanskiБуряадCatalà閩東語 / Mìng-dĕ̤ng-ngṳ̄CebuanoᏣᎳᎩTsetsêhestâheseکوردیCorsuNēhiyawēwin / ᓀᐦᐃᔭᐍᐏᐣQırımtatarcaČeštinaKaszëbscziСловѣньскъ / ⰔⰎⰑⰂⰡⰐⰠⰔⰍⰟЧӑвашлаCymraegDanskDagbanliDeutschZazakiDolnoserbskiཇོང་ཁEʋegbeΕλληνικάEmiliàn e rumagnòlEnglishEsperantoEestiEuskaraفارسیSuomiVõroNa Vosa VakavitiFøroysktFɔ̀ngbèFrançaisArpetanNordfriiskFurlanFryskGaeilge贛語GàidhligGalegoگیلکیAvañe\\'ẽ𐌲𐌿𐍄𐌹𐍃𐌺WayuunaikiGungbeGaelgHausa客家語/Hak-kâ-ngîעבריתहिन्दीFiji HindiHrvatskiHornjoserbsceKreyòl ayisyenMagyarՀայերենԱրեւմտահայերէնInterlinguaBahasa IndonesiaIñupiatunIlokanoГӀалгӀайIdoÍslenskaItalianoᐃᓄᒃᑎᑐᑦ / inuktitut日本語PatoisLa .lojban.JawaქართულიTaqbaylitKabɩyɛTyapҚазақшаភាសាខ្មែរಕನ್ನಡ한국어Перем комиकॉशुर / کٲشُرRipoarischKurdîКомиKernowekКыргызчаLatinaLadinoLëtzebuergeschЛаккуЛезгиLingua Franca NovaLugandaLimburgsLigureLadinLingálaລາວLietuviųLatviešuमैथिलीМокшеньMalagasyОлык марийMāoriMinangkabauМакедонскиമലയാളംМонголꯃꯤꯇꯩ ꯂꯣꯟဘာသာမန်मराठीКырык марыBahasa MelayuMaltiMirandésမြန်မာဘာသာЭрзяньمازِرونیNapulitanoPlattdüütschNedersaksiesनेपालीनेपाल भाषाLi NihaNederlandsNorsk nynorskNorsk bokmålNouormandSesotho sa LeboaDiné bizaadOccitanLivvinkarjalaଓଡ଼ିଆИронਪੰਜਾਬੀKapampanganPapiamentuPicardDeitschNorfuk / PitkernPolskiPiemontèisپنجابیپښتوPortuguêsPinayuananRuna SimiRumantschRomani čhibRomânăArmãneashtiРусскийРусиньскыйIkinyarwandaसंस्कृतम्Саха тылаᱥᱟᱱᱛᱟᱲᱤSarduSicilianuScotsسنڌيSrpskohrvatski / српскохрватскиၽႃႇသႃႇတႆး සිංහලSimple EnglishSlovenčinaسرائیکیSlovenščinaGagana SamoaAnarâškielâChiShonaSoomaaligaShqipСрпски / srpskiSranantongoSeelterskSundaSvenskaKiswahiliŚlůnskiSakizayaதமிழ்TayalತುಳುతెలుగుТоҷикӣไทยTürkmençeTagalogTolışiTürkçeТатарча / tatarçaChiTumbukaТыва дылУдмуртئۇيغۇرچە / UyghurcheУкраїнськаاردوOʻzbekcha / ўзбекчаVènetoVepsän kel’Tiếng ViệtWest-VlamsVolapükWalonWinarayWolof吴语ХальмгIsiXhosaმარგალურიייִדישYorùbáVahcuengh中文文言Bân-lâm-gú粵語IsiZulu\\nEditar enlaces\\nArtículoDiscusión\\nespañol\\nLeerVer código fuenteVer historial\\nHerramientas\\nHerramientas\\nmover a la barra lateral\\nocultar\\n\\t\\tAcciones\\n\\t\\nLeerVer código fuenteVer historial\\n\\t\\tGeneral\\n\\t\\nLo que enlaza aquíCambios en enlazadasSubir archivoPáginas especialesEnlace permanenteInformación de la páginaCitar esta páginaObtener URL acortadoDescargar código QRElemento de Wikidata\\n\\t\\tImprimir/exportar\\n\\t\\nCrear un libroDescargar como PDFVersión para imprimir\\nDe Wikipedia, la enciclopedia libre\\n«Perro» redirige aquí. Para otras acepciones, véase Perro (desambiguación).\\n\\xa0\\nPerro\\nImagen con las razas caninas: Pumi, Perro sin pelo del Perú, Shih Tzu, Perro crestado rodesiano, Akita Inu, Komondor, Keeshond, Schnauzer gigante y Setter irlandés rojo y blanco.Estado de conservación\\nDomesticado TaxonomíaDominio:\\nEukaryotaReino:\\nAnimaliaSubreino:\\nEumetazoaSuperfilo:\\nDeuterostomiaFilo:\\nChordataSubfilo:\\nVertebrataInfrafilo:\\nGnathostomataSuperclase:\\nTetrapodaClase:\\nMammaliaSubclase:\\nTheriaInfraclase:\\nPlacentaliaOrden:\\nCarnivoraSuborden:\\nCaniformiaFamilia:\\nCanidaeSubfamilia:\\nCaninaeTribu:\\nCaniniSubtribu:\\nCaninaGénero:\\nCanisEspecie:\\nC. familiarisLinnaeus, 1758Distribución\\nSinonimia\\nCanis familiaris Linnaeus 1758\\nCanis familiaris domesticus Linnaeus 1758\\nCanis lupus familiaris Linnaeus 1758\\n[editar datos en Wikidata]\\nEl perro (Canis familiaris o Canis lupus familiaris, dependiendo de si se lo considera una especie o una subespecie del lobo), llamado perro doméstico o can, y en algunos lugares coloquialmente llamado chucho, tuso, choco, entre otros; es un mamífero carnívoro de la familia de los cánidos, que constituye una especie del género Canis. En el 2013, la población mundial estimada de perros estaba entre setecientos millones y novecientos ochenta y siete millones. \\nSu tamaño (o talla), su forma y su pelaje es muy diverso y varía según la raza. Posee un oído y un olfato muy desarrollados, y este último es su principal órgano sensorial. Su longevidad media es de diez a trece años, dependiendo de la raza. Junto al gato doméstico, es uno de los animales de compañía más populares del mundo.\\nEl perro doméstico proviene de un grupo ancestral común que data de hace aproximadamente treinta mil años, y desde entonces se ha extendido a todas partes del mundo. Los primeros restos fósiles de perros enterrados junto con seres humanos se encontraron en Israel, y datan de hace unos doce mil años. Desde entonces, los perros y los humanos han evolucionado conjuntamente, tanto en las culturas africanas y euroasiáticas, como en las que poblaron América y se mantuvieron sin contacto con aquellas hasta el siglo\\xa0XV. Los perros comparten el entorno, los hábitos y el estilo de vida humanos, como las dietas ricas en cereales y almidón. La alimentación inadecuada, así como el uso de antibióticos, son la causa del desarrollo de muchas enfermedades inflamatorias e inmunológicas. Unas cuatrocientas enfermedades del perro tienen una equivalente humana, y destacan especialmente la enfermedad de Alzheimer y otros trastornos neurológicos, así como varios tipos de cáncer, enfermedades autoinmunes y enfermedades cardiovasculares.\\nTienen una gran relación con los humanos, y entre tales relaciones se incluyen servir como animales de compañía, animales de guardia, perros de trabajo, perros de caza, galgos de carrera, perros guía, perros pastores o perros boyeros.[cita\\xa0requerida]\\nCaracterísticas\\nDiferencias respecto a otros cánidos\\nEn comparación con lobos de tamaño equivalente, los perros tienden a tener el cráneo un 20\\xa0% más pequeño y el cerebro un 10\\xa0% más pequeño, además de tener los dientes más pequeños que otras especies de cánidos. El perro requiere menos calorías para vivir que el lobo. Su dieta de sobras de los humanos hizo que su cerebro grande y los músculos mandibulares utilizados en la caza dejaran de ser necesarios. Algunos expertos piensan que las orejas flácidas de los canes son el resultado de la atrofia de los músculos mandibulares. La piel del perro doméstico tiende a ser más gruesa que la del lobo y algunas tribus esquimales prefieren su piel para vestirse, debido a su resistencia al desgaste en un clima inhóspito. A diferencia de los lobos, pero al igual que los coyotes, los perros domésticos tienen glándulas sudoríparas en las almohadillas de las patas. Las patas de un perro suelen ser más cortas que las de un lobo y su cola tiende a curvarse hacia arriba, otro rasgo que no se observa en los lobos.\\nAnatomía externa\\nDiagrama de la anatomía general de un perro: 1. frente, 2. hocico, 3. barboquejo, 4. hombro, 5. codo, 6. pata anterior, 7. punto más alto de la grupa, 8. muslo, 9. corvejón, 10. patas traseras, 11. cruceta, 12. babilla, 13. patas, 14. cola.\\nLa enorme variedad de morfologías en las diferentes razas de perro hace difícil determinar el tamaño y el peso medios de los mismos. Con una altura de entre 71 y 90\\xa0cm, el galgo irlandés es la raza más alta de perro —aunque algunos ejemplares de gran danés superan este tamaño, llegando hasta 107\\xa0cm—. La raza más pequeña de perro es el chihuahua, con un tamaño de 15-30\\xa0cm en la cruz. Con un peso medio de entre 1,5 y 3\\xa0kg —y que en algunos casos, puede no superar los 500\\xa0g—, los chihuahuas también son los canes más ligeros; mientras los mastines ingleses y los san bernardos son los perros más pesados, con un peso que puede llegar a más de 75 u 80\\xa0kg.\\nLa longevidad de los perros varía de una raza a otra, pero en general las razas más pequeñas viven más tiempo que las más grandes. Los canes más pequeños a menudo viven hasta la edad de quince o dieciséis años, mientras que los perros más grandes pueden tener una esperanza de vida de solo la mitad. En medio se encuentran todas las razas intermedias. El perro más viejo del que se tiene constancia, un Boyero australiano llamado Bluey, murió en el año 1939 a la edad de veintinueve años. La esterilización del animal puede prolongar o acortar su vida, reduciendo el riesgo de contraer enfermedades como la piometra en la hembra o cáncer testicular en el macho. También reduce el riesgo de accidentes y heridas, pues los perros no esterilizados se pelean y se escapan más. Por otro lado, la castración del macho favorece la aparición de cáncer de próstata, una enfermedad que puede acortar drásticamente la vida del animal.\\nPelaje\\nPelaje multicolor y denso, ideal para el invierno, en un perro de raza mestiza.\\nAl igual que los lobos, los perros tienen un pelaje, una capa de pelos que les cubre el cuerpo. El pelaje de un can puede ser un «pelaje doble», compuesto de una capa inferior suave y una capa superior basta. A diferencia de los lobos, los perros pueden tener un «pelaje único», carente de capa inferior. Los perros con un pelaje doble, como los lobos, están adaptados para sobrevivir en temperaturas frías y tienden a provenir de climas más fríos.\\nLos perros suelen presentar vestigios de contrasombreado, un patrón de camuflaje natural común. La base general del contrasombreado es que un animal iluminado desde arriba aparece más claro en la mitad superior y más oscuro en la mitad inferior, donde normalmente tiene su propio color. Este es un patrón que los predadores pueden aprender a reconocer. Un animal contrasombreado tiene una coloración oscura en la superficie superior y una coloración clara en la inferior. Esto reduce la visibilidad general del animal. Un vestigio de este patrón es que muchas razas tienen un lado, una raya o una estrella de pelaje blanco en el pecho o en la parte inferior.\\nEsqueletos de perro gran danés y chihuahua en un museo de osteología.\\nCola\\nHay muchas formas diferentes de cola de perro: recta, recta hacia arriba, forma de hoz, rizada o en tirabuzón. Tradicionalmente a algunas razas de perro se les amputa la cola (caudectomía), lo cual se está comenzando a prohibir en varios países, ya que se considera una forma de crueldad hacia los animales. En algunas razas, algunos cachorros nacen con una cola corta o sin cola. Esto sucede más a menudo en ciertas razas, especialmente en aquellas en las que a menudo se corta la cola y que por tanto no tienen estándar de raza en cuanto a la cola.\\nAparato locomotor\\nComo la mayoría de mamíferos predadores, el perro tiene músculos potentes, un sistema cardiovascular que permite una alta velocidad y una gran resistencia y dientes para cazar, aguantar y desgarrar las presas.\\nEl esqueleto ancestral de los perros les permite correr y saltar. Sus patas se han desarrollado para impulsarlos rápidamente hacia delante, saltando cuando sea necesario, con el fin de cazar y atrapar las presas. Por tanto, tienen pies pequeños y apretados y caminan sobre los dedos (digitígrados). Sus patas traseras son bastante rígidas y sólidas, mientras que las anteriores son laxas y flexibles, estando unidas al tronco únicamente por músculos.\\nAunque la cría selectiva ha cambiado la apariencia de muchas razas, todos los perros conservan los elementos básicos de sus antepasados. Los perros tienen omóplatos desconectados —carecen de clavícula— que permiten hacer zancadas más largas. La mayoría de las razas conservan las garras vestigiales —espuelas— en las patas anteriores y a veces en las posteriores. Algunas de estas razas, como el perro pastor catalán, pueden presentar un espolón doble en una o más patas. En algunos casos, se les quitan esas garras para evitar que el animal se las arranque sin querer durante la persecución de una presa, pero esta práctica es ilegal en algunos países.\\nSentidos\\nLos sentidos del olfato y del oído del perro son superiores a los del humano en muchos aspectos. Algunas de sus habilidades sensoriales han sido utilizadas por los humanos, como por ejemplo el olfato en los perros de caza, perros buscadores de explosivos o perros buscadores de drogas. Además, son capaces de diferenciar e identificar sonidos concretos como palabras y asociarlos a estímulos externos, como por ejemplo un premio.\\nVista\\nLa visión del can parece adaptada para la caza: No tiene gran agudeza visual de detalles, pero tienen excelente percepción de movimientos. Tiene excelente visión nocturna o crepuscular, debido al uso del tapetum lucidum —una pantalla reflectiva dentro del ojo—.\\nEl campo visual del perro se encuentra entre los 240 y los 250 grados, mucho mayor que el del ser humano que es de aproximadamente 180 grados.\\nLa visión del perro es sensible a los objetos en movimiento o con desplazamiento repentino, y cuenta con una excelente visión nocturna o crepuscular.\\nTienen una forma de visión dicromática llamada deuteranopia que en los humanos se considera una forma de daltonismo que afecta al rojo y al verde. Los perros perciben tonalidades de amarillo y de azul, pero el rojo lo perciben como amarillo y el verde lo ven gris.\\nSu sistema visual se ha desarrollado para ayudarles en la caza. Aunque es difícil de medir, la agudeza visual de los caniches ha sido estimada como equivalente a una puntuación en el test de Snellen de 20/75. Sin embargo, la discriminación visual es muy superior cuando se trata de objetos en movimiento. Se ha demostrado que los perros son capaces de distinguir su dueño de otras personas a distancias de más de un kilómetro y medio.[cita\\xa0requerida] Como cazadores crepusculares dependen de su visión en condiciones de poca iluminación. Para ayudarles a ver en la oscuridad tienen pupilas muy grandes, una mayor densidad de bastoncillos en la fóvea óptica, una mayor velocidad de parpadeo y un tapetum lucidum refractivo. El tapetum es una superficie refractiva situada detrás de la retina que refleja la luz para dar a los fotorreceptores una segunda oportunidad de captar los fotones. Aunque estas adaptaciones sirven para mejorar la visión en la oscuridad, también reducen la agudeza visual de los perros.\\nComo la mayoría de los mamíferos, los perros son dicromatos y tienen una visión en color equivalente al daltonismo rojo-verde en los humanos. Las diferentes razas caninas tienen diversas formas y tamaños de los ojos y también tienen una configuración distinta de la retina. Los perros con el hocico largo tienen una «raya visual» que se extiende por el ancho de la retina y que les da un campo muy amplio de visión excelente, mientras que los perros con el hocico corto tienen una área centralis, una región central con hasta tres veces la densidad de terminaciones nerviosas de la «raya visual», que los provee una vista detallada, mucho más similar a la de los humanos.\\nAlgunas razas, particularmente los galgos, tienen un campo de visión de hasta 270°, aunque las razas de cabeza ancha con el hocico corto tienen un campo de visión mucho más estrecho, tan bajo como 180°, similar al de los seres humanos. Algunas razas también presentan una tendencia genética a la miopía. Aunque la mayoría de razas son emmetrópicas, se ha descubierto que uno de cada dos rottweilers son miopes.\\nOído\\nEl campo de audibilidad del perro es aproximadamente de 40\\xa0Hz a 60\\xa0000\\xa0Hz. Detectan sonidos tan graves como 16-20\\xa0Hz —en comparación con 20-70\\xa0Hz en los humanos— y también por encima de 45\\xa0kHz —en comparación con 13-20\\xa0kHz en los humanos—, y además tienen un grado de movilidad de las orejas que les permite determinar rápidamente el origen exacto de un sonido. Dieciocho o más músculos pueden inclinar, rotar, levantar o bajar las orejas de un perro. Además, puede localizar el origen de un sonido mucho más rápido que un humano y detectar sonidos a una distancia hasta cuatro veces mayor que los humanos. Los perros con una forma de la oreja más natural, como las orejas de cánidos salvajes como el zorro, suelen oír mejor que los perros con las orejas más flexibles típicas de muchas razas domésticas.\\nOlfato\\nEl olfato es uno de los principales sentidos con que el perro descubre el mundo. La nariz canina es altamente sensible.\\nMientras que el cerebro humano es dominado por una gran corteza visual, el cerebro canino es dominado principalmente por una corteza olfativa. El bulbo olfativo de los perros, en proporción al tamaño total del cerebro, es unas cuarenta veces mayor que el de los humanos. Según la raza, los perros tienen entre 125 y 220 millones de células olfativas extendidas sobre un área del tamaño de un pañuelo de bolsillo —en comparación con cinco millones de células extendidas sobre el área de un sello en los humanos—. Los bloodhound son la excepción, con aproximadamente 300 millones de receptores olfativos. Los perros pueden distinguir olores a concentraciones casi 100 millones de veces inferiores a las que pueden distinguir los humanos.\\nGusto\\nEntre los sentidos caninos, el del sabor es el que menos se ha investigado y a menudo se le ha relacionado con el olfato. Los perros pueden distinguir los sabores básicos de manera similar a los humanos, aunque casi no distinguen el salado. Sin embargo, los gustos preferidos pueden diferir mucho de un can a otro, pues parece que no eligen la comida según el tipo de gusto, sino según su intensidad —fuerte sabor / gusto suave—. Los primeros meses de la vida de un cachorro son bastante importantes en este sentido ya que suelen probar muchos sabores diferentes cuando son jóvenes también desarrollarán un gusto por la variedad cuando sean adultos. Al igual que el ser humano y que muchos otros animales, el perro tiene la capacidad de asociar determinados gustos con los problemas de salud. Si un alimento lo hace enfermar o hace que se encuentre mal, tenderá a evitar el sabor de este alimento en el futuro. Esto forma parte de un mecanismo de defensa instintivo, que protege a muchos animales de envenenarse por la ingestión frecuente de sustancias tóxicas.\\nTacto\\nLos perros utilizan el sentido del tacto para comunicarse entre ellos y con otras especies. Si se hace apropiadamente, tocar un can puede servir para estimularlo o relajarlo. Se trata del primer sentido que se desarrolla en los cachorros recién nacidos y las perras comienzan a lamer y acariciar sus crías poco después del nacimiento. Algunos estudios han sugerido incluso que los perros pueden detectar movimientos en el abdomen de la madre incluso antes de nacer y que las perras que son mimadas durante la gestación dan a luz crías más dóciles. Los perros tienen sensores táctiles en todo el cuerpo, pero los cojinetes, la columna vertebral y la región de la cola son algunas de las zonas más sensibles.\\nLas vibrisas de los perros presentan mecanorreceptores que les sirven para adquirir información táctil de su ambiente, pero esta función no es tan importante como lo es en los gatos. Entre otras cosas, sirven para sentir el flujo del aire. Además del hocico, donde reciben el nombre de «bigotes», los perros tienen vibrisas encima de los ojos y debajo de la mandíbula.\\nComportamiento\\nInteligencia\\nMuchos perros pueden ser entrenados fácilmente para recuperar objetos como este palo.\\nCachorro reposando en un colchón.\\nLos perros son apreciados por su inteligencia. La inteligencia canina se refiere a la habilidad de un perro de procesar la información que recibe a través de sus sentidos para aprender, adaptarse y resolver problemas. La etología cognitiva es la disciplina que se encarga de estudiar esta área dentro de la cognición animal.\\nAlgunos estudios de antropología evolutiva se centran también en la identificación de las capacidades cognitivas especiales que el can posee, y que ha desarrollado debido a su estrecho contacto con el ser humano; como es la habilidad de reconocer un vocabulario extenso. En un ejercicio para observar su nivel de comprensión pasivo del vocabulario humano, se le pidió a un humano sentado detrás de una barrera transparente que sostuviera un juguete, y con voz monótona, le diera al perro la orden «trae» (bring). El perro se dirigió a un círculo en donde estaban dispersos diferentes objetos —desde un juguete exactamente igual al que el humano solicitó, hasta otro tipo de cosas con texturas y colores diferentes—, el animal observó por un momento el círculo de objetos para dirigirse a por el juguete exacto que se le había pedido y después presentarlo al humano. También se le pidió que trajera determinados objetos utilizando solamente la fotografía o réplica en miniatura del objeto. El estudio fue complementado con dos condiciones de control adicionales para evitar que el animal actuara por preferencias preestablecidas. El ejemplar utilizado —Border collie— pudo reconocer hasta 200 palabras del vocabulario humano.\\nLa habilidad de aprender rápido ha sido utilizada como uno de los parámetros para medir la inteligencia entre las razas caninas, otras pruebas tienen que ver con el deseo y la habilidad de responder ante diversas situaciones. Los perros guías, por ejemplo, deben aprender un número enorme de órdenes, entender cómo comportarse en una gran variedad de situaciones y reconocer riesgos o peligros a su compañero humano —frente a alguno de los cuales nunca se han enfrentado con anterioridad—, actuando incluso bajo el comportamiento conocido como desobediencia inteligente que significa que el animal de asistencia irá en contra del deseo de su dueño para evitar una decisión equivocada.\\nCiertas razas han sido continuamente seleccionadas a lo largo de cientos o miles de años por su capacidad de rápido aprendizaje, mientras que en otras razas, esta cualidad ha sido relegada en favor de otras características, como son: la habilidad de correr, perseguir, cazar o de pelear con otros animales. Sin embargo, la capacidad de aprender obediencia básica —y eventualmente comportamientos complejos— es inherente en todos los perros. Aun el perro más tímido o distraído responde más fácilmente al entrenamiento que, por ejemplo, un gato. Los propietarios deben ser simplemente más pacientes con algunas razas que con otras. Al igual que el lobo, el perro es un animal gregario.\\nSocialización\\nSistema de sujeción a la entrada de un edificio.\\nTambién en los perros, el término socialización se utiliza para caracterizar el proceso por el cual el animal se relaciona con su entorno, conoce sus reglas, entiende la estructura social, y percibe los límites. Los perros jóvenes a menudo aprenden rápidamente cómo comportarse con otros miembros del grupo, ya sean canes o humanos. Los perros adultos modelan a sus cachorros mediante correcciones —auditivas o físicas— cuando no se comportan de la forma esperada, y con premios si tienen comportamientos aceptables —jugando con ellos, alimentándolos, limpiándolos, entre otros—.\\nEl proceso de socialización se lleva a cabo especialmente de forma intensa durante los primeros meses de vida, y la primera etapa se extiende aproximadamente desde la tercera hasta la duodécima semana de vida. Tiempo en el que se basa la maduración de los órganos sensoriales y el desarrollo de las habilidades motoras.\\nCuando son cachorros deberán experimentar:\\nInteracción con otros perros (comunicación, aprendizaje de conductas de grupo).\\nInteracción con otros animales (gatos, cobayas, pájaros, caballos).\\nInteracción con seres humanos.\\nHabituación a los estímulos ambientales, tales como; sirenas de automóviles, ruidos cotidianos en el hogar, aviones, sonidos estridentes —fuegos artificiales de Año Nuevo— y también acostumbrarse a las multitudes o tráfico pedestre.\\nLa socialización canina se refiere tanto a la capacidad del perro de interaccionar con los seres humanos, como a su comprensión para comunicarse y relacionarse con otros perros.\\nUn can bien socializado aprende a estar tranquilo y receptivo a la hora de hacer frente a los extraños, los niños, otras mascotas y situaciones no previstas. El desarrollo futuro de cada perro está determinado principalmente por su socialización y educación. Perros mal socializados tendrán dificultades para adaptarse a su entorno y tenderán a presentar conductas y actitudes temerosas o agresivas, junto con otros trastornos del comportamiento. Los procesos de socialización que no se producen en las primeras catorce semanas de vida no pueden ser sustituidos. Un cachorro sin socialización con catorce semanas de vida será muy difícil de educar y/o adiestrar. En qué medida esto se traduce en trastornos de la conducta dependerá de la evaluación del perro de forma individual.\\nDebido a que son animales con tendencia a usar guaridas en el momento del parto y para criar a sus cachorros, pueden aprender fácilmente comportamientos como mantener su lugar limpio y aceptar estar en un área cerrada —como es el caso de una jaula temporal para transporte— u otro lugar cercado.\\nProblemas de comportamiento o anormales\\nEste artículo o sección necesita referencias que aparezcan en una publicación acreditada. \\nBusca fuentes: «Canis familiaris» – noticias\\xa0· libros\\xa0· académico\\xa0· imágenesEste aviso fue puesto el 8 de septiembre de 2021.\\nLos trastornos de la conducta canina se clasifican en tres tipos: patologías del desarrollo, sociopatías —relacionadas con el ambiente y su jauría humana o animal—, comportamientos disfuncionales que alteran la conducta normal, y que se ajustan para hacer frente a una situación cotidiana (fobia). Según la tesis de zoo psiquiatría desarrollada por Patrick Pageat:\\nAgresiones de tipo jerárquicas, territorial/maternal, por miedo, irritación, predatorias y redirigidas.\\nDestructivas, orina/defecaciones indeseadas, ansiedades, miedos y fobias (a la pirotecnia, por ejemplo).\\nTrastornos compulsivos y estereotipias (persecución de cola, auto lamido).\\nTrastornos alimentarios y dípsicos (anorexia/bulimia, potomanía).\\nTrastornos sexuales (hipersexualidad, pseudogestación), depresión de involución.\\nCabe señalar también que muchas de las malas costumbres caninas son la muestra de comportamientos desarrollados por razones tales como: falta de actividad —caminatas o deportes caninos—, ausencia de socialización, disciplina, entrenamiento o educación irresponsable por parte de los propios dueños.\\nGruñido\\nUn estudio reciente en Budapest, Hungría, ha encontrado que los perros son capaces de saber el tamaño que otro perro tiene con solo escuchar su gruñido. También que un gruñido específico es utilizado por los perros para proteger su comida. La investigación mostró que los perros no mienten sobre su tamaño, siendo esta la primera vez que una investigación ha puesto de manifiesto que los animales pueden determinar el tamaño de otro por el sonido que producen. La prueba utilizó imágenes de muchos tipos de perros, mostrando un can pequeño, después uno grande y reproduciendo el gruñido de cada tipo. El resultado demostró que —20 de los 24 perros del ensayo— miraban primero a la imagen del perro de tamaño apropiado durante los períodos más largos de tiempo.\\nSalud\\nLa salud de los perros, igual que la humana, está relacionada con el tipo de vida que lleve —alimentación, ejercicio físico, educación—, sobre todo durante los períodos de mayor vulnerabilidad: crecimiento, gestación, amamantamiento, trabajo y vejez. Son susceptibles a diversas enfermedades, trastornos y venenos, algunos de los cuales afectan a los humanos de la misma manera y otros que son exclusivos de los perros.\\nLos perros y los humanos han evolucionado conjuntamente durante los últimos 12\\xa0000 años, compartiendo la exposición a las mismas condiciones ambientales y la modificación de la alimentación ancestral. El ser humano pasó de una alimentación basada en la caza y la recolección a una dieta con un alto contenido en cereales. De la misma forma, el perro pasó de una alimentación carnívora a una dieta rica en cereales. Este cambio de la alimentación se ha producido a un ritmo muy rápido en un plazo de tiempo muy corto desde el punto de vista evolutivo. La humanidad existe desde hace unos 2,5 millones de años y los cánidos desde hace 34 millones de años, pero los cereales se introdujeron en la dieta de ambos hace unos 10\\xa0000 años, durante la revolución neolítica y el desarrollo de la agricultura. Las evidencias históricas y arqueológicas muestran que previamente, los seres humanos en general no mostraban signos ni síntomas de enfermedades crónicas y que, coincidiendo con la inclusión de los cereales en la dieta, se produjo una serie de consecuencias negativas sobre la salud, muchas de las cuales continúan presentes en la actualidad. Entre ellas cabe destacar múltiples deficiencias nutricionales, trastornos minerales que afectan tanto a los huesos (osteopenia, osteoporosis, raquitismo) como a los dientes (hipoplasias del esmalte dental, caries dentales), y una alta incidencia de trastornos neurológicos, enfermedades psiquiátricas, obesidad, diabetes tipo 2, ateroesclerosis y otras enfermedades crónicas o degenerativas. En qué medida ha ocurrido lo mismo en el caso de los perros y hasta qué punto el perfil de nutrientes de la dieta de sus antepasados los lobos (claramente carnívoros) es el óptimo para los perros domésticos, son objeto de estudio. Los alimentos comerciales para perros contienen sustancias que no pueden digerir o no digieren completamente, tales como tejidos animales de baja calidad (por ejemplo, huesos), fibras de origen vegetal y proteínas indigestas, que son un sustrato para la fermentación por la flora intestinal. También contienen altas cantidades de almidón procedente de los cereales y, si bien se ha demostrado que el can doméstico ha desarrollado una mayor capacidad digestiva y de absorción del almidón, no se ha determinado el impacto sobre la salud y la esperanza de vida de esta alta cantidad constante de glucosa absorbida por el perro. Muchas de las enfermedades inflamatorias e inmunológicas que desarrollan los perros son provocadas por alteraciones de la flora intestinal como consecuencia de una dieta inadecuada o el uso de antibióticos, tales como enfermedades digestivas crónicas, alergias respiratorias, asma, enfermedades de la piel (especialmente dermatitis atópica) y trastornos autoinmunes. Una dieta rica en proteínas y libre de cereales dará los nutrientes necesarios manteniendo la dieta de sus antepasados.\\nJunto a los humanos, los perros domésticos tienen la mayor diversidad fenotípica y enfermedades naturales conocidas de todos los mamíferos. Aproximadamente 400 enfermedades hereditarias similares a las de los humanos se caracterizan en los perros, incluidos trastornos complejos como cánceres, enfermedades cardiovasculares, enfermedades autoinmunes y trastornos neurológicos. Entre estos últimos, destaca especialmente la enfermedad de Alzheimer. Los perros muestran muchas similitudes con el deterioro cognitivo humano, incluyendo la acumulación en el cerebro de placas amiloides. Esto los convierte en el mejor modelo animal de investigación de la enfermedad de Alzheimer.\\nComo todos los mamíferos, son susceptibles a la hipertermia cuando hay niveles elevados de humedad y/o de temperatura.\\nLa longevidad media de un perro varía mucho en función de la raza, y oscila entre 8 y 15 años, si goza de buena salud puede vivir hasta 20 años, o incluso más; el perro más longevo que se conoce llegó a los 29 años. Las razas pequeñas suelen tener una esperanza de vida mayor que las grandes y las gigantes.\\nValores orientativos caninos\\nTemperatura corporal:\\n38,5-39,5\\xa0°C\\nFrecuencia respiratoria:\\n20-40 respiraciones / min\\nFrecuencia cardíaca:\\n70-180 latidos / min y hasta 220 en cachorros\\nDuración del crecimiento:\\nRazas pequeñas: hasta los 10 meses\\nRazas medianas: hasta los 12 meses\\nRazas grandes: hasta los 15 meses\\nPeríodo de vejez:\\nRazas pequeñas: desde los 8 años\\nRazas medianas: desde los 7 años\\nRazas grandes: desde los 5 años\\nEn ocasiones es el médico veterinario quien recomienda qué tipo de vacuna se debe aplicar, es importante que el propietario tenga en conocimiento que en cuanto a aplicaciones víricas, funciona mejor en el organismo del animal una vacuna de virus atenuado o modificado, ya que este tipo de biológicos dan un incremento paulatino de anticuerpos, logrando una protección muy eficaz sin los efectos adversos postinoculación que pueden existir con la aplicación de una vacuna a virus activo; los efectos con este tipo de vacunas pueden ir desde simple fiebre y vómito hasta un choque anafiláctico o la muerte.\\nEnfermedades\\nPerro con obesidad.\\nEjemplares híbridos de la raza pekinés.\\nLos perros, igual que el resto de los seres vivos, corre riesgo de enfermarse. Los perros pueden ser una fuente de contagio de determinadas enfermedades para el hombre. Por esta razón, y por la propia salud de la mascota, es muy importante la correcta vacunación y desparasitación interna y externa regular.\\nAlgunas razas de perro son propensas a determinados trastornos genéticos, tales como la displasia de cadera, luxaciones rotulares, paladar leporino, ceguera, sordera o enteropatía sensible al gluten. También son susceptibles a trastornos como la diabetes, la epilepsia, el cáncer, la artritis y la obesidad.\\nLa obesidad es una patología frecuente. Se considera que un perro tiene sobrepeso cuando su peso está por encima del ideal, dependiendo también del tipo de raza; sin embargo, se considera un perro como obeso cuando sobrepasa más del 20\\xa0% su peso ideal, la obesidad debe considerarse como una enfermedad consecuencia de la alteración de las funciones normales del organismo. Para su solución es preciso diagnosticarla, conocer las causas que la han producido y proponer soluciones. La frecuencia de obesidad aumenta con la edad, y es más frecuente en hembras que en machos y es dos veces más elevada en perros castrados. Las razas caninas con más tendencia a engordar son el Labrador Retriever, Cocker Spaniel, Dachshund, Pastor de Shetland, Collie, Basset hound y Beagle. La causa de la obesidad es que se almacena más energía de la que se consume. Un perro que consuma un 1\\xa0% más de la energía que necesita puede aumentar su peso hasta un 25\\xa0% más de lo debido.\\nLa torsión gástrica y la meteorización son un problema serio en algunas razas de pecho ancho.\\nLas enfermedades infecciosas habitualmente asociadas con los perros incluyen la leptospirosis, el parvovirus canino y el moquillo. Para protegerlos de ellas, los perros deben ser vacunados, así como también contra la rabia, enfermedad que se transmite al ser humano y es altamente mortal.\\nLas enfermedades heredables de los canes pueden incluir una gran variedad, desde la displasia de cadera y las luxaciones rotulares mediales hasta epilepsia, diabetes y estenosis pulmonar. Los perros pueden contraer enfermedades que afectan cualquiera de sus órganos, como el hipotiroidismo, cáncer, enfermedades periodontales, enfermedades cardíacas, insuficiencia renal, etc.\\nEs de destacar la piómetra, que afecta a las hembras no esterilizadas de todas clases y edades que no han tenida una vida reproductiva, cuya remedio suele ser quirúrgico. El meteorismo gástrico y la torsión estomacal afectan a las razas más grandes y los perros de pecho ancho, y son un trastorno agudo que puede matar rápidamente.\\nLos parásitos externos más comunes del perro son la pulga, la garrapata y el piojo, mientras que los internos son diferentes cestodos, nematodos, como áscaris, anquilostomas, dirofilarias, diversas tenias y otros. Entre estas últimas se encuentra el Echinococcus granulosus, cuya forma evolutiva intermedia es responsable de la hidatidosis humana.\\nLos perros pueden sufrir alergias, que pueden afectar a la piel o provocar alteraciones digestivas. Los alimentos que normalmente producen alergias son carne de res, lácteos, trigo, huevo, cordero, pollo y soja.\\nEl setter irlandés puede desarrollar enteropatía sensible al gluten, una enfermedad similar a la enfermedad celíaca o la sensibilidad al gluten no celíaca de los seres humanos. Se trata de una enfermedad inflamatoria crónica del intestino delgado, determinada genéticamente y causada por el consumo de gluten.\\nLas enfermedades pueden tener un origen viral, bacteriano, parasitario, genético, alérgico o inmunitario, o varios de ellos a la vez. Entre ellas pueden citarse:\\nalergias cutáneas\\ncriptorquidia\\ndiabetes\\ndisplasia de cadera\\nepilepsia\\nhepatitis canina\\nleptospirosis\\nmoquillo o distemper\\notitis infecciosa\\nparásitos externos\\nparásitos intestinales\\nparvovirosis\\npiómetra\\npiorrea\\nrabia\\nreumatismo\\nsarna\\ntorsión gástrica\\ntoxoplasmosis\\nReproducción\\nUna perra salvaje de Sri Lanka cuida a sus cuatro cachorros.\\nEn los perros domésticos, la madurez sexual (pubertad) comienza a producirse a la edad de entre seis y doce meses tanto en los machos como en las hembras, aunque en algunas razas de gran tamaño puede retrasarse hasta la edad de dos años. La adolescencia de la mayoría de los perros dura entre los doce y los quince meses de edad, a partir de los cuales ya son más adultos que cachorros. Como en el caso de otras especies domesticadas, la domesticación ha favorecido una mayor libido y un ciclo de reproducción más temprano y frecuente en los perros que en sus antepasados salvajes. El perro permanece reproductivamente activo durante toda su vida.\\nLas hembras entran en celo dos veces por año, el período durante el cual están receptivas al macho para la copulación, con sus órganos preparados para la gestación. Como los óvulos sobreviven y pueden ser fertilizados durante unos días después de la ovulación, es posible que una hembra se aparee con más de un macho.\\nLa gestación en las perras dura 63 días término medio, con un rango que va de los 58 a los 68. Una camada promedio se compone de alrededor de seis cachorros. Las razas grandes tienen camadas más numerosas (un promedio de 8-12 crías), las razas medianas de 6 a 7 crías, y las razas pequeñas de dos a cuatro crías.\\nDebido a la cría selectiva algunas razas han adquirido rasgos que interfieren con la reproducción. Los machos de bulldog francés, por ejemplo, suelen ser incapaces de montar a la hembra. En la gran mayoría de casos, las hembras de esta raza deben ser inseminadas artificialmente para que se reproduzcan y frecuentemente darán a luz a través de cesárea.\\nCastración y esterilización\\nArtículo principal:  Castración\\nCachorros durante un juego de lucha para establecer su jerarquía.\\nLa esterilización es un proceso quirúrgico, que consiste normalmente en la extirpación de los testículos en los machos y los ovarios (o el útero o los ovarios y el útero) en las hembras y que se hace para eliminar la capacidad de reproducirse y reducir el deseo sexual de los perros. Debido a la sobrepoblación de perros en algunos países, las asociaciones de control de los animales aconsejan esterilizar los perros que no se piense utilizar para criar, de manera que no tengan cachorros no deseados.\\nLa esterilización tiene otros beneficios aparte de eliminar la capacidad de procrear. Reduce los problemas causados por la hipersexualidad en los machos, al tiempo que impide el desarrollo de hiperplasia prostática. Las hembras esterilizadas tienen menos probabilidades de desarrollar ciertos tipos de cáncer, que afectan a las glándulas mamarias, los ovarios y otros órganos reproductores. Por otra parte, prácticamente se elimina la posibilidad de que las hembras desarrollen piometra, una enfermedad degenerativa del útero, que puede llegar a ser mortal si no se trata adecuadamente.\\nTambién puede tener efectos médicos no deseados. Aumenta el riesgo de incontinencia urinaria en las hembras así como de osteosarcoma, hemangiosarcoma, rotura del ligamento cruzado, obesidad y diabetes mellitus en ambos sexos. Los cambios hormonales que implica la esterilización tienen una probabilidad de cambiar en cierta medida la personalidad y el metabolismo del animal. Estudios recientes demuestran que los perros esterilizados en general son más agresivos hacia sus semejantes y los humanos y más miedosos y sensibles al tacto que los canes que no han sido esterilizados, aunque los efectos varían de un perro a otro. La esterilización de animales muy jóvenes puede causar más problemas de salud más adelante en la vida para ambos sexos.\\nAlimentación\\nArtículo principal:  Comida para perros\\nExisten dos tipos básicos de alimentación: industrial y natural.\\nCarne cruda, alimento húmedo y comida seca para perro en un recipiente.\\nAlimentos no recomendados para los perros\\nChocolate: contiene una sustancia llamada teobromina que causa intoxicación en el organismo del can y puede ser fatal en dosis grandes.\\nGolosinas: frituras, caramelos, galletas; tienden a formar sarro en la dentadura del perro. Además los azúcares les hacen propensos a la diabetes. Existen golosinas especiales para ellos que incluso protegen de la formación de sarro.\\nHuesos: en especial los de pollo o los fácilmente astillables. Al ser triturados por la mandíbula del perro pueden formar esquirlas con puntas muy agudas, las cuales podrían incrustarse y dañar la boca o perforar el esófago, intestino o recto provocando lesiones internas, además de formar bolos fecales de difícil expulsión, sobre todo en los ejemplares añosos.\\nDesperdicios caseros: se deben evitar los alimentos muy condimentados, ya que los perros son especialmente sensibles a la sal, pimienta y chile. De igual forma se deben evitar los alimentos con exceso de grasa. Los desperdicios o restos de alimentos, normalmente poco frescos deben ser eliminados. No se debe permitir que coman restos hallados en la calle, pues podría sufrir gastroenteritis o intoxicación.\\nCarne de cerdo o jabalí y pecarí: se debe evitar, sobre todo si tiene origen en una fuente sin control sanitario (matanza casera o caza, por ejemplo), por la posibilidad de contraer la enfermedad de Aujeszky o pseudorrabia, que, aunque rara, suele ser mortal para los cánidos y generalmente es asintomática en los suinos.\\nPredadores\\nAunque los perros salvajes, como los lobos, son predadores alfa, pueden morir en combates territoriales con animales salvajes. Además en las zonas en las que los perros son simpátricas con otros predadores grandes, los perros pueden ser una fuente de alimento importante para cánidos o félidos grandes. En Croacia mueren más perros que ovejas, mientras que en Rusia los lobos limitan las poblaciones de perros ferales. En Wisconsin se paga una mayor compensación por la pérdida de perros que de ganado. Ha habido casos en los que un par de lobos matan perros, siguiendo un método en el que uno de ellos atrae al perro hacia vegetación densa, donde el otro lobo prepara una emboscada. En algunos casos, los lobos han mostrado una falta anormal de miedo de los humanos y de los edificios a la hora de atacar perros, hasta el punto que se les debe expulsar o matar. Los coyotes también atacan perros. Se conocen casos de fieras que matan perros. Se sabe que los leopardos tienen una predilección por los perros y han matado y se han comido incluso ejemplares grandes y feroces. A diferencia de los leopardos que viven en la misma región, los tigres de la India raramente atacan canes, aunque en Manchuria, Indochina, Indonesia y Malasia, los tigres matan perros con el mismo vigor que los leopardos. Finalmente, las hienas rayadas son grandes predadores de perros en los pueblos de Turkmenistán, India y Cáucaso.\\nAncestros e historia de la domesticación\\nFigura de perro realizada por la cultura Colima entre 100 AC y 300 DC.\\nMosaico romano que muestra un perro con collar.\\nEl perro es una subespecie doméstica del lobo, según la comparación de los mapas genéticos de ambas especies. La evidencia fósil más antigua de un perro domesticado fue encontrada en 2008 en la cueva Goyet de Bélgica, correspondiente a unos 31\\xa0700 años y al parecer asociado a la cultura auriñaciense. Hasta entonces las pruebas más remotas se habían encontrado en Rusia, con una antigüedad de 14\\xa0000 años (Eliseevich). El ser humano consiguió domesticar a ejemplares de lobos o, más probablemente, se demostró incapaz de impedir que los lobos se introdujeran en sus aldeas y tuvieran allí a sus cachorros. El perro era útil como ayuda en la caza y para defender al grupo y su morada, como demuestran grabados de hace 6000 años en Arabia Saudí. Poco a poco, el hombre los adaptó a sus necesidades, creando diferentes razas para las distintas labores y características ambientales y geográficas. La evidencia genética y arqueológica sugiere que el proceso de domesticación se produjo en los dos extremos de África y Eurasia de forma independiente —aunque posteriormente la población oriental reemplazó casi por completo a la occidental—, así como en las culturas que poblaron todo el continente americano.\\nEl ser humano se dio cuenta rápidamente de los finos sentidos del olfato y el oído que tenía el perro: su olfato es más potente que el del humano —su área olfatoria es veinte veces más gruesa, en el caso del pastor alemán tiene una superficie treinta y cuatro veces mayor y cuarenta veces más células olfatorias que los humanos— y su oído es capaz de percibir sonidos muy por debajo y por encima del rango que oyen los humanos. Estas ventajas aumentan su utilidad para la caza y las labores de guarda tales como el pastoreo y protección de los rebaños. Los perros son muy valorados por su ayuda en la caza. Los canes enterrados en el cementerio mesolítico de Svaerdborg en Dinamarca muestran que, en la Europa antigua, eran ya una valiosa compañía. Como animal de costumbres sociales, que convive en grupos perfectamente jerarquizados, se adaptó a convivir con los humanos.\\nEl perro ha acompañado al ser humano en su proceso a la civilización. Su presencia está probada en todas las culturas del mundo. Así, en Perú, en la era prehispánica, los moches los usaban como ayuda en la caza y también como mascotas en casa. En el entierro del Señor de Sipán, se encontraron dentro de las tumbas restos de un can que seguramente se usó en la caza, ya que el cráneo tenía perfectamente desarrollados sus molares.\\nEl cráneo y los dientes del perro doméstico han disminuido de tamaño con relación al lobo al no necesitar matar presas grandes. Así mismo, al pasar de una dieta de carne a una constituida por los desechos provenientes de la alimentación de los humanos, desarrollaron cerebros más pequeños que requieren menos calorías y menos proteínas para su crecimiento y sustento.\\nLa percepción del can por parte del ser humano ha variado y varía según las culturas. En varias etnias americanas anteriores a 1492, tal y como aún ocurre en zonas del Extremo Oriente Asiático, los perros eran usados directamente como alimento. En zonas del Oriente Medio el perro ha sido asociado por su aspecto con los chacales —de hecho científicamente se creyó hasta el desarrollo de la genética a fines del siglo\\xa0XX que los canes comunes de todo el mundo eran descendientes de chacales— y al ser los chacales animales principalmente carroñeros, los perros también han sido considerados impuros en esa zona. Quizás la única especie de perro que no desciende del lobo es el perro fueguino, que descendería del culpeo.\\nEn 2016, Angela Perri, del Departamento de Evolución Humana del Instituto Max Planck de Antropología Evolutiva, propone que los perros modernos podrían no descender del mismo linaje que el lobo gris moderno, sino de una subespecie de lobo del Pleistoceno aún sin identificar.\\nRazas\\nArtículo principal:  Raza de perro\\nSe han criado una gran variedad de razas caninas con distintas formas, colores y tallas. Esta imagen muestra la diferencia de tamaño entre un gran danés y un dachshund.\\nHay numerosas razas de perro, las organizaciones cinológicas reconocen más de 400. Muchos canes, especialmente fuera de Estados Unidos y de Europa occidental, no pertenecen a ninguna raza reconocida. Unos cuantos tipos de perro básicos han evolucionado gradualmente durante la relación del perro doméstico con los humanos a lo largo de los últimos 10\\xa0000 años o más pero todas las razas modernas tienen un origen relativamente moderno. Muchas de ellas son el resultado de un proceso deliberado de selección artificial como en el caso de los terriers o de los schnauzers. Debido a esto, algunas razas están altamente especializadas y hay una diversidad morfológica extraordinaria entre razas diferentes. Pese a estas diferencias, los perros son capaces de distinguir los otros perros de otros tipos de animal.\\nEste ejemplar es un cruce de Cairn terrier y Bichón maltés.\\nLa definición de lo que es una raza de perro es tema de una cierta polémica. Dependiendo del tamaño de la población fundadora original, las razas con un acervo génico reducido pueden tener problemas de consanguinidad, concretamente debido al efecto fundador. Los criadores de perros toman cada vez más conciencia de la importancia de la genética de poblaciones y de mantener patrimonios génicos diversos. Las pruebas de salud y ADN pueden contribuir a evitar problemas, ofreciendo un sustituto de la selección natural. Sin selección, los patrimonios génicos consanguíneos o cerrados pueden aumentar el riesgo de graves problemas de salud o de comportamiento. Algunas organizaciones definen una raza menos estrictamente, de modo que un ejemplar puede ser considerado de una raza siempre que el 75\\xa0% de su ascendencia sea de esta raza. Estas consideraciones afectan tanto a los animales de compañía como los perros que participan en exposiciones caninas. Incluso perros con pedigrí que han sido premiados sufren de defectos genéticos debido al efecto fundador o consanguinidad. Estos problemas no se limitan a los perros de pedigrí y pueden afectar ejemplares cruzados. Se puede predecir en cierta medida el comportamiento y la apariencia de un can de una raza determinada, mientras que los cruces presentan un abanico más amplio de apariencia y comportamiento innovadores.\\nPerro mestizo peruano, con ascendencia de diferentes razas.\\nLos perros mestizos son aquellos que no pertenecen a ninguna raza determinada, sino que tienen ascendencia de diferentes razas. Tanto los canes de pedigrí como los mezclados son aptos como animales de compañía, perros de carga o competidores en deportes cinófilos. A veces se cruzan deliberadamente perros de dos razas diferentes para crear una raza mezclada como el Cockapoo, que es una mezcla de cocker spaniel y caniche en miniatura. Estos cruces deliberados pueden presentar un cierto grado de vigor híbrido y otras características deseables, pero pueden o no pueden heredar características deseables de sus padres, como el temperamento o un determinado color o pelaje. Si no se hacen pruebas genéticas a los padres, los cruces pueden acabar heredando defectos genéticos presentes en las dos razas parientes.\\nUna raza es un grupo de animales que tiene un conjunto de características heredadas que los distinguen de otros animales de la misma especie. El cruce deliberado de dos o más razas también es una manera de crear nuevas razas, pero solo será una raza cuando los descendientes presentan de forma fiable este conjunto de características y cualidades.\\nClasificación según la FCI\\nLa Federación Cinológica Internacional establece una clasificación en diez grandes grupos por la función y características de los canes.\\nlebreles;\\nperros cobradores y levantadores de caza y perros de agua;\\nperros de compañía\\nperros de muestra;\\nperros pastor y boyeros (excepto boyeros suizos);\\nperros tipo pinscher y schnauzer - Molosoides - perros tipo montaña y boyeros suizos;\\nperros tipo sabueso, perros de rastro y razas semejantes;\\nperros tipo spitz y tipo primitivo;\\nteckels;\\nterriers.\\nConcepto de raza\\nPerro Vizsla o Braco Húngaro\\nEl concepto que los científicos tienen de raza, como un grupo que comparte caracteres genéticos, difiere del uso coloquial del término dado por las personas como sinónimo de variedad. El vocablo «raza» en ciencia incluiría todas las variedades de perros que habitan en el mundo, es decir, solo existe una «raza» de animales que comprenden a los perros y esta definición se acercaría más a la jerarquía taxonómica de subespecie. El vulgo hizo extensiva la significación de «raza» a las distintas variedades de canes, como Bulldog, Doberman o Chihuahua; esto debido a que los perros son fenotípicamente distintos por lo que se creó esa «construcción social», sin embargo, en zoología, según algunos científicos, el concepto de «raza» no es sinónimo de variedad en la especie. Los perros tienen diversidad genética, pero esto se debe principalmente a la reproducción selectiva en condiciones controladas. Sin embargo, para otros las razas sí existen. Esto es similar a la especie humana.\\nHay aproximadamente cuatrocientas razas —más que de cualquier otro animal— que varían significativamente en tamaño, fisonomía y temperamento, presentando una gran variedad de colores y de tipos de pelo según la raza. Estas razas de perros tienen una antigüedad menor a doscientas años, pues son el resultado de una intensa selección artificial, realizada por los seres humanos desde finales del siglo\\xa0XIX hasta la actualidad, con el objetivo de crear a su antojo ejemplares que cumplan determinados criterios estéticos y de comportamiento. Esto ha provocado el desarrollo y transmisión crecientes de numerosos problemas de salud y de comportamiento, incluyendo graves malformaciones y enfermedades genéticas que pueden provocar sufrimiento crónico y disminución de la esperanza de vida. Asimismo, ciertas prácticas requeridas para cumplir los estándares marcados para determinadas razas, como la amputación de la cola, pueden provocar dolor crónico (como el experimentado en otro tipo de amputaciones y el síndrome del miembro fantasma) e incapacidad para comunicarse adecuadamente, tanto con sus semejantes como con los seres humanos.\\nTipos de razas\\nbichón (bichón maltés, bichon frisé)\\nbraco (braco alemán de pelo corto, braco de Weimar, braco húngaro)\\nbulldog (bulldog inglés, bulldog americano)\\ncollie (border collie, collie de pelo largo)\\ncur (catahoula)\\ndogo (dogo argentino, dogo español)\\nfeist (toy terrier americano)\\ngolden retriever\\ngrifón (grifón korthals)\\nlebreles (galgo español, azawakh)\\nmastín (mucuchíes, Mastín Tibetano)\\nperro cobrador (golden retriever, Labrador retriever)\\nperro de agua socorrista (Terranova, San Bernardo\\nperro pila (perro pila argentino)\\nperros de agua (perro de agua español)\\npinscher (doberman pinscher, pinscher alemán)\\npodenco (podenco portugués, podenco andaluz)\\nratonero (ratonero bodeguero andaluz)\\nsabueso (basset hound, bloodhound)\\nSetter (gordon setter, setter inglés)\\nspaniel (cocker spaniel inglés)\\nSpitz (husky, malamute de Alaska)\\nterrier (airedale terrier, fox terrier)\\nInteracción con los humanos\\nArtículo principal:  Vínculo entre humanos y perros\\nLos perros domésticos han heredado una jerarquía social y ciertos comportamientos sociales complejos de su antepasado, el lobo. Son animales que viven en grupo, con un conjunto complejo de comportamientos que determinan la posición de cada can en la jerarquía social. Los perros presentan diversas posturas y otros medios de comunicación no verbal que revelan su estado mental. Estas formas sofisticadas de cognición social y comunicación pueden explicar su adiestrabilidad, su gusto por el juego y su capacidad de integrarse en hogares y situaciones sociales humanas. Estos atributos han contribuido a que los perros creen una relación única con los humanos a pesar de ser predadores alfa potencialmente peligrosos.\\nAunque los expertos no están muy de acuerdo sobre los detalles de la domesticación del perro, hay consenso en que la interacción con los humanos desempeñó un papel significativo en la formación de la subespecie. Poco después de la domesticación, el perro estuvo omnipresente en las poblaciones humanas y se extendió por el mundo. Los emigrantes de Siberia probablemente atravesaron el estrecho de Bering en compañía de canes y algunos expertos sugieren que el uso de perros de trineo podría haber sido vital para el éxito de las oleadas migratorias que llegaron a Norteamérica hace unos 12\\xa0000 años. Los perros fueron una parte esencial de la vida de la población atabascana de Norteamérica. En muchos grupos, el can era el único animal domesticado, y fue utilizado de nuevo por emigrantes atabascanos hace 1400 años, cuando cargaron gran parte de las provisiones en las migraciones de las tribus de apaches y navajos. El uso del perro como animal de carga en estas culturas a menudo continuó después de la introducción del caballo en Norteamérica.\\nInterpretación de gestos y señales comunicativas humanas\\nEn los últimos años, existe evidencia que sugiere que las especies no humanas pueden interpretar las acciones de otras especies. En un estudio conducido por el Instituto Max Planck de Antropología Evolutiva en Alemania, se observó que los perros eran capaces de inferir la posibilidad de comida oculta observando el dedo de una persona, y siguiendo con la vista la dirección a donde apuntaba el dedo humano cuando se señalaba el lugar en donde estaba oculto el alimento —del cual había sido eliminado el olor para evitar que el animal usará su olfato—. Contrario a los simios de género Pan que no reparaban ni en el señalamiento, ni seguían con la vista la dirección en donde apuntaba el dedo humano. Una de las conclusiones que se extrajeron es que los perros han desarrollado una competencia específica en el seguimiento de gestos, señales e interpretación de los patrones de comunicación humana.\\nUsos y utilidad\\nAunque una gran mayoría de perros se mantienen como animales de compañía, existe también un gran número de formas en que los perros pueden ayudar a los seres humanos. En algunos casos se pueden aprovechar sus habilidades innatas, mientras que en otros hay que adiestrarlos.\\nPerro de rescate durante la búsqueda de personas vivas en un edificio en ruinas después de un terremoto.\\nLos perros de asistencia ayudan a las personas con discapacidades en tareas cotidianas. Como, por ejemplo, los perros de movilidad para los minusválidos, los perros guía para personas con deficiencias visuales y los perros de escucha para las personas con problemas auditivos. Los perros de terapia representan otra manera de ayudar a los enfermos; visitan personas que no pueden moverse con libertad, como, por ejemplo, la gente mayor que vive en residencias geriátricas o los enfermos ingresados en hospitales, ofreciéndoles diversión y entretenimiento. También se realizan cursos de adiestramiento de canes para prisioneros, como terapia de rehabilitación.\\nLos perros de búsqueda y rescate detectan el aroma que transportan las células de la piel que caen fuera de los humanos vivos a un ritmo de alrededor de 40\\xa0000 células por minuto, el sudor que se evapora o los gases respiratorios. Gracias a ello pueden buscar personas desaparecidas, perdidas en tierras salvajes, cubiertas por avalanchas de nieve, enterradas debajo de edificios que se han derrumbado, entre otras situaciones.\\nLos perros para la detección de cadáveres —a diferencia de los perros de búsqueda y rescate— están adiestrados para ignorar el olor de humanos vivos, junto con el aroma animal, y solo buscar el olor de los gases de descomposición liberados por la acción de las bacterias en la piel o en los tejidos humanos. Estos canes pueden usarse para encontrar restos humanos relacionados con escenas de crimen, casos de personas desaparecidas y evidencia forense relacionada con escenarios de desastres o escombros. Un tipo específico de perro también se entrena para localizar restos mortales en el agua.\\nPerro entrenado para usos militares (sobre un M2A3 Bradley).\\nLos perros pastores son útiles para los pastores y ganaderos de todo el mundo para dirigir los rebaños; se utilizan diferentes razas para cada tarea y para vigilar los rebaños. Algunos perros pastores también protegen gansos salvajes en parques o cabras utilizadas para el control de malezas. Los canes pastores se pueden adaptar para controlar cualquier tipo de animal doméstico, o muchos tipos de animales salvajes. En cambio, los perros de caza ayudan a los cazadores a encontrar, rastrear y recuperar las presas, o eliminar alimañas. Es menos frecuente que los perros de presa o de caza mayor, luchen contra una presa como un oso o un jabalí.\\nLos perros de trineo se utilizan principalmente en eventos deportivos, aunque también pueden ayudar a transportar personas y víveres en terreno nevado y difícil. Los canes artísticos, como los perros de circo o los actores caninos, están adiestrados para realizar actos que no son útiles intrínsecamente, pero que entretienen al público o contribuyen a las actuaciones artísticas de los humanos.\\nLos perros de guardia ayudan a proteger la propiedad pública o privada, bien residiendo o bien durante patrullas, con cuerpos militares o con empresas de seguridad. Los perros policía se adiestran para rastrear o inmovilizar posibles criminales cuando ayudan a los policías a hacer detenciones o investigar la escena de un crimen. Algunos incluso están entrenados para cuerpos antiterroristas. Los perros de detección, en cambio, pueden ayudar a detectar sustancias ilegales, bombas, productos químicos y muchas otras sustancias.\\nFinalmente, los perros de guerra se usan en las fuerzas armadas en muchas de las situaciones en que se usan perros civiles, pero en un contexto militar. Además, se han asignado a perros tareas militares especializadas tales como la detección de minas o el tendido de cables.\\nVéase también\\n Portal:Perros. Contenido relacionado con Perros.\\nAgility\\nAnimal de compañía\\nGato (animal de compañía)\\nGeneración Bullenbeisser\\nCarne de perro\\nCarrera de galgos\\nCaudectomía\\nExposición canina\\nFábricas de cachorros\\nGalgo\\nKennel Club\\nLos secretos del pedigrí\\nMastín\\nOtectomía\\nPermanencia del objeto en perros\\nPerro de trabajo\\nPerro de caza\\nPerros de agua\\nPerro pastor\\nPerro boyero\\nPerro cobrador\\nPerros potencialmente peligrosos\\nPerro callejero\\nPinscher\\nPodenco\\nSchutzhund\\nTerrier\\nSpaniel\\nSchnauzer\\nVínculo entre humanos y perros\\nReferencias\\n↑ «Canis lupus familiaris». Catalogue of Life (2010 Annual Checklist) (en inglés). Sistema Integrado de Información Taxonómica (ITIS).\\xa0\\n↑ Dewey, T. and S. Bhagat (2002). «Canis lupus familiaris» (en inglés). Animal Diversity Web. Consultado el 21 de enero de 2009.\\xa0\\n↑ Wilson, Don E.; Reeder, DeeAnn M., eds. (2005). «Canis lupus familiaris». Mammal Species of the World (en inglés) (3ª edición). Baltimore: Johns Hopkins University Press, 2 vols. (2142 pp.). ISBN\\xa0978-0-8018-8221-0.\\xa0\\n↑ Real Academia Española. «can». Diccionario de la lengua española (23.ª edición).\\xa0\\n↑ chucho\\n↑ tuso\\n↑ «choco». Archivado desde el original el 25 de enero de 2018. Consultado el 25 de enero de 2018.\\xa0\\n↑ Broad Sequencing Platform members; Lindblad-Toh, Kerstin; Wade, Claire M; Mikkelsen, Tarjei S.; Karlsson, Elinor K.; Jaffe, David B.; Kamal, Michael; Clamp, Michele et al. (2005-12). «Genome sequence, comparative analysis and haplotype structure of the domestic dog». Nature (en inglés) 438 (7069): 803-819. ISSN\\xa00028-0836. doi:10.1038/nature04338. Consultado el 11 de febrero de 2021.\\xa0 Se sugiere usar |número-autores= (ayuda)\\n↑ Koepfli, Klaus-Peter; Pollinger, John; Godinho, Raquel; Robinson, Jacqueline; Lea, Amanda; Hendricks, Sarah; Schweizer, Rena\\xa0M.; Thalmann, Olaf et al. (2015-08). «Genome-wide Evidence Reveals that African and Eurasian Golden Jackals Are Distinct Species». Current Biology (en inglés) 25 (16): 2158-2165. doi:10.1016/j.cub.2015.06.060. Consultado el 11 de febrero de 2021.\\xa0 Se sugiere usar |número-autores= (ayuda)\\n↑ Una revisión de las interacciones entre los perros domésticos que deambulan libremente y la vida silvestre. 2013. p.\\xa0157.\\xa0 |fechaacceso= requiere |url= (ayuda)\\n↑ Coppinger, Ray (2001). Dogs: a Startling New Understanding of Canine Origin, Behavior and Evolution. New York: Scribner. p.\\xa0352. ISBN\\xa00-684-85530-5.\\xa0\\n↑ «Kennel Club/British Small Animal Veterinary Association Scientific Committee». 2004. Archivado desde el original el 13 de agosto de 2013. Consultado el 19 de julio de 2020.\\xa0\\n↑ Proschowsky, Rugbjerg, Ersbell, Mortality of purebred and mixed-breed dogs in Denmark (2003). «Mortality of purebred and mixed-breed dogs in Denmark». Preventive Veterinary Medicine 58 (1–2): 63-74. PMID\\xa012628771. doi:10.1016/S0167-5877(03)00010-2.\\xa0\\n↑ Michell AR (1999). «Longevity of  breeds of dog and its relationships with sex, size, cardiovascular variables and disease». The Veterinary Record 145 (22): 625-629. PMID\\xa010619607. doi:10.1136/vr.145.22.625.\\xa0\\n↑ a b c Parker HG (febrero de 2012). «Genomic analyses of modern dog breeds». Mamm Genome (Revisión) 23 (1-2): 19-27. PMC\\xa03559126. PMID\\xa022231497. doi:10.1007/s00335-011-9387-6.\\xa0\\n↑ a b Revista Nature (23 de enero de 2013). «The genomic signature of dog domestication reveals adaptation to a starch-rich diet» (en inglés). Archivado desde el original el 2 de abril de 2013. Consultado el 14 de mayo de 2013. «We identify candidate mutations in key genes and provide functional support for an increased starch digestion in dogs relative to wolves.».\\xa0\\n↑ a b Viano, Lucas (22 de octubre de 2015). «¿Había perros en América cuando llegaron los españoles?». Scientific American.\\xa0\\n↑ a b c d Mazzatenta A, Carluccio A, Robbe D, Giulio CD, Cellerino A (octubre de 2017). «The companion dog as a unique translational model for aging.». Semin Cell Dev Biol (Revisión) 70: 141-153. PMID\\xa028803893. doi:10.1016/j.semcdb.2017.08.024.\\xa0\\n↑ a b Rowell JL, McCarthy DO, Alvarez CE (julio de 2011). «Dog models of naturally occurring cancer». Trends Mol Med (Revisión) 17 (7): 380-8. PMC\\xa03130881. PMID\\xa021439907. doi:10.1016/j.molmed.2011.02.004.\\xa0\\n↑ a b Gershwin LJ (marzo de 2018). «Current and Newly Emerging Autoimmune Diseases». Vet Clin North Am Small Anim Pract (Revisión) 48 (2): 323-338. PMID\\xa029248206. doi:10.1016/j.cvsm.2017.10.010.\\xa0\\n↑ a b Tizard IR, Jones SW (marzo de 2018). «The Microbiota Regulates Immunity and Immunologic Diseases in Dogs and Cats». Vet Clin North Am Small Anim Pract (Revisión) 48 (2): 307-322. PMID\\xa029198905. doi:10.1016/j.cvsm.2017.10.008.\\xa0\\n↑ a b c d Coppinger, Ray (2001). Dogs: a Startling New Understanding of Canine Origin, Behavior and Evolution. pp.\\xa0p352. 0684855305.\\xa0\\n↑ Lopez, Barry (1978). Of wolves and men. p.\\xa0320. ISBN\\xa00-7432-4936-4.\\xa0\\n↑ Dog Breed Info Center. Irish Wolfhound.\\n↑ «tallest Dog Living». Guinness World Records. Consultado el 24 de septiembre de 2008.\\xa0\\n↑ «FCI - Fédération Cynologique Internationale». FCI (en francés). 12 de enero de 2012. Archivado desde el original el 12 de enero de 2012. Consultado el 30 de enero de 2017.\\xa0\\n↑ Mastiff - Kaynine Online\\n↑ .com/issues/0209/articles/020918a.htm Vegetable-Eating Dog Lives to Ripe Old Age of 29; Also: Who is the Oldest Dog in the World; And: How to Make Your Dog Live 1.8 Years Longer\\n↑ Teske, E.; Naan, E. C.; Van Dijk, E. M.; Van Garderen, E.; Schalk, J. A. Canine prostate carcinoma: Epidemiological evidence of an increased risk in castrated dogs, Departamento de Ciencias Clínicas de Animales de Compañía, Universidad de Utrecht (Países Bajos).\\n↑ Klappenbach, Laura (2008). «What is Counter Shading?». About.com. Archivado desde el original el 27 de septiembre de 2011. Consultado el 22 de octubre de 2008.\\xa0\\n↑ Cunliffe, Juliette (2004). «Coat Types, Colours and marking». The Encyclopedia of Dog Breed. Paragon Publishing. pp.\\xa020-23.\\xa0\\n↑ Camila Navarrete (30 de marzo de 2014). «Los peligros de la caudectomía canina: Experto asegura que el corte de cola de perritos no es sano». Biobio Chile.\\xa0\\n↑ Varios autores (2013–2014). «Corte de orejas y cola en la especie canina».\\xa0\\n↑ ¿Cómo es la visión del perro?\\n↑ a b Corehn, Stanley (2004). How Dogs Think. First Free Press, Simon & Schuster.\\xa0\\n↑ A & E Television Networks (1998). Big Dogs, Little Dogs: The companion volume to the A & E special presentation, A Lookout Book, GT Publishing. ISBN 1-57719-353-9 (Hardcover).\\n↑ Alderton, David (1984). The Dog, Chartwell Books. ISBN 0-89009-786-0.\\n↑ Jennifer Davis (1998). «Dr. P s Dog Training: Vision in Dogs & People». Archivado desde el original el 9 de febrero de 2015. Consultado el 6 de junio de 2008.\\xa0\\n↑ Jónico Newby; Caroline Penry-Davey (25 de septiembre de 2003).  Australian Broadcasting Corporation, ed. «Catalyst: Dogs \\'Eyes». Consultado el 26 de noviembre de 2006.\\xa0\\n↑ Kubai, Melissa A; BS; Ellison Bentley, D. V. M.; Paul E. Miller, DVM; Donald O. Mutti, OD, PhD; Christopher J. Murphy, DVM, PhD (julio de 2008). «Refractive states of eyes and association between ametropia and breed in dogs». American Journal of Veterinary Research 69 (7): 946-951. doi:10.2460/ajvr.69.7.946.\\xa0\\n↑ Elert, Glenn; Timothy Condon (2003). shtml «Frequency Range of Dog hearing». The Physics Factbook. Consultado el 22 de octubre de 2008.\\xa0 (enlace roto disponible en Internet Archive; véase el historial, la primera versión y la última).\\n↑ «How Well Do Dogs and Other Animals Hear?» (en inglés). Consultado el 14 de mayo de 2013.\\xa0\\n↑ «Understanding a Dog \\'s Sin of Smell». Dummies.com. Archivado desde el original el 9 de marzo de 2008. Consultado el 22 de octubre de 2008.\\xa0\\n↑ «The Dog \\'s Sin of» (PDF). Alabama and Auburn Universities. Archivado desde U/UNP-0066/UNP-0066.pdf el original el 22 de febrero de 2007. Consultado el 22 de octubre de 2008.\\xa0\\n↑ «Smell». nhm.org. 6 de mayo de 2004. Archivado desde el original el 26 de octubre de 2008. Consultado el 22 de octubre de 2008.\\xa0\\n↑ John W. Bradshaw (2006). «The Evolutionary Basis for the Feeding Behavior of Domestic Dogs (  Canis familiaris) and Cats ( Felis catus)». The Journal of Nutrition 136: 1927-1931.\\xa0\\n↑ «Dog Sin of Smell. Dog Taste Bud». GuideofDogs.com. Archivado desde el original el 10 de diciembre de 2008. Consultado el 12 de enero de 2009.\\xa0\\n↑ «Making Sin of Your Dog \\'s World». PetPlace.com. Consultado el 26 de enero de 2009.\\xa0\\n↑ Joël Dehasse (1994). «Sensory, emotional and social development of the young dog». The Bulletin for Veterinary Clinical Ethology (Bruselas) 2 (1-2): 6-29.\\xa0\\n↑ Virginia Morell. «Minds of Their Own: Animals are smarter than you think». Animal mind. National Geographic (en inglés). Consultado el 20 de mayo de 2013. «Just how easily new mental skills can evolve is perhaps best illustrated by dogs. Most owners talk to their dogs and expect them to understand».\\xa0\\n↑ «My Dog Can Do It!». Max Planck research (FOCUS_The in the Other): 6-7. Consultado el 20 de mayo de 2013.\\xa0\\n↑ Elizabeth VanDyke (26 de julio de 1936). «New Freedom For Blind Americans Provided By \\'Seeing Eye\\' Specially Trained Dogs Not Only See But Think For Sightless». Hartford Courant.\\xa0 |fechaacceso= requiere |url= (ayuda)\\n↑ Dr. Gifford Jones (5 de diciembre de 2003). «Seeing Eye dogs can teach us a lesson». Kitchener Ontario Record.\\xa0 |fechaacceso= requiere |url= (ayuda)\\n↑ a b c d  Kersti Seksel: Die Sozialisation des Hundewelpen. In: Vet. Focus 20 (2010), S.\\xa07–12.\\n↑ Dramard, Valérie (09/2007 (2ème édition)).  Collection de Médecine Vétérinaire, Maisons-Alfort, ed. Pathologie du comportement du chien. du Point Vétérinaire. p.\\xa0191. ISBN\\xa09782914738958.\\xa0\\n↑ Faragó, T; Pongrácz P; Miklósi Á; Huber L; Virányi Z; Range, F (2010). «Dogs\\' Expectation about Signalers\\' Body Size by Virtue of Their Growls». PLoS ONE 5 (12): e15175. Bibcode:2010PLoSO...515175F. PMC\\xa03002277. PMID\\xa021179521. doi:10.1371/journal.pone.0015175.\\xa0\\n↑ Gale EA (octubre de 2005). «Do dogs develop autoimmune diabetes?». Diabetologia 48 (10): 1945-1947. PMID\\xa016132943. doi:10.1007/s00125-005-1924-y. «Modern dogs are relatively inactive and consume more food than their ancestors, much of it in the form of vegetable chow for which evolution left them unprepared. Los perros modernos son relativamente inactivos y consumen más alimentos que sus antepasados, gran parte de ella en forma de comida vegetal para la cual la evolución no los preparó.».\\xa0\\n↑ a b c Bressan P, Kramer P (29 de marzo de 2016). «Bread and Other Edible Agents of Mental Disease». Front Hum Neurosci (Revisión) 10: 130. PMC\\xa04809873. PMID\\xa027065833. doi:10.3389/fnhum.2016.00130.\\xa0\\n↑ a b c Sands DC, Morris CE, Dratz EA, Pilgeram A (noviembre de 2009). «Elevating optimal human nutrition to a central goal of plant breeding and production of plant-based foods». Plant Sci (Revisión) 177 (5): 377-89. PMC\\xa02866137. PMID\\xa020467463. doi:10.1016/j.plantsci.2009.07.011.\\xa0\\n↑ a b c d O\\'Keefe JH Jr, Cordain L (enero de 2004). «Cardiovascular disease resulting from a diet and lifestyle at odds with our Paleolithic genome: how to become a 21st-century hunter-gatherer». Mayo Clin Proc (Revisión, Artículo Histórico) 79 (1): 101-8. PMID\\xa014708953. doi:10.4065/79.1.101.\\xa0\\n↑ Aziz I, Branchi F, Sanders DS (agosto de 2015). «The rise and fall of gluten!». Proc Nutr Soc (Revisión) 74 (3): 221-6. PMID\\xa025686620. doi:10.1017/S0029665115000038.\\xa0\\n↑ Tedford RH, Wang X, Taylor BE (2009). «Phylogenetic Systematics of the North American Fossil Caninae (Carnivora: Canidae)». Bulletin of the American Museum of Natural History (Revisión) 325: 1-218. doi:10.1206/574.1.\\xa0\\n↑ a b c Bosch G, Hagen-Plantinga EA, Hendriks WH (enero de 2015). «Dietary nutrient profiles of wild wolves: insights for optimal dog nutrition?». Br J Nutr 113 (Suppl): S40-54. PMID\\xa025415597. doi:10.1017/S0007114514002311.\\xa0\\n↑ «Alimentación canina». Consultado el 29 de noviembre de 2020.\\xa0\\n↑ Gedon, Trisha (25 de mayo de 2006). «Summer heat can be tough».  En Oklahoma State University, ed. Division of Agricultural Sciences and Natural Resources. Archivado desde el original el 1 de septiembre de 2006. Consultado el 21 de agosto de 2006.\\xa0\\n↑ «Oldest dog». Guinness World Records. 2011. Consultado el 8 de mayo de 2011.\\xa0\\n↑ Botanical On Line: Expectativa de vida del perro\\n↑ Laflamme D, Izquierdo O, Eirmann L, Binder S (julio de 2014). «Myths and Misperceptions About Ingredients Used in Commercial Pet Foods». Veterinary Clinics of North America: Small Animal Practice (Revisión) 44 (4): 689-698. doi:10.1016/j.cvsm.2014.03.002.\\xa0\\n↑ a b Verlinden A, Hesta M, Millet S, Janssens GPJ (2006). «Food Allergy in Dogs and Cats: A Review». Critical Reviews in Food Science and Nutrition (Revisión) 46 (3): 259-273. doi:10.1080/10408390591001117.\\xa0\\n↑ Dewey, T.; S. Bhagat (2002). \"Canis lupus familiaris\" (On-line), Animal Diversity Web. Consultado el 6 de enero de 2009 a  Animaldiversity.\\n↑ «Sexual Maturity - Spay and neutro». Buffalo.com. Archivado desde el original el 10 de junio de 2009. Consultado el 22 de octubre de 2008.\\xa0\\n↑ «Normal gestation in dogs». Archivado desde el original el 9 de octubre de 2008. Consultado el 22 de octubre de 2008.\\xa0\\n↑ «HSUS Pet Overpopulation Estimates». The Humane Society of the United States. Archivado desde el original el 25 de abril de 2013. Consultado el 22 de octubre de 2008.\\xa0\\n↑ a b c Robinson, Roy (1990). Genetics for Dog Breeders. Ficha en OpenLibrary: Butterworth-Heinemann Limited. pp.\\xa0280 p. 15. ISBN\\xa09780750646123.\\xa0\\n↑ «French Bulldog Pet Care Guide». Archivado desde el original el 26 de julio de 2011. Consultado el 7 de enero de 2008.\\xa0\\n↑ «Top 10 Reasons to Spay / neutro your pet». American Society for Prevention of Cruelty to Animals. Archivado desde el original el 7 de abril de 2007. Consultado el 16 de mayo de 2007.\\xa0\\n↑ Heidenberger E.; Unshelm J. (1990). «Changes in the behavior of dogs after castration». Tierärztliche Praxis (en alemán) 18 (1): 69-75. PMID\\xa02326799.\\xa0\\n↑ Morrison, Wallace B. (1998). Cancer in Dogs and Cats (1st ed.). Williams and Wilkins. ISBN\\xa00-683-06105-4.\\xa0\\n↑ Arnold S. (1997). «Urinary incontinence in castrated Bitches. Parte 1: Significance, clinical aspects and etiopathogenesis». Schweiz. Arch. Tierheilkd. (en alemán) 139 (6): 271-6. PMID\\xa09411733.\\xa0\\n↑ Root-Kustritz M. V. (2007). «Determining the optimal age for gonadectomy of dogs and cados». JAVMA 231 (11): 1665-1675. doi:10.2460/javma.231.11.1665.\\xa0\\n↑ Duffy, Ph. D., Deborah L.; James A. SERPELL, Ph. D. (2006). Non-Reproductive Effects of Spaying and Neutering donde Behavior in Dogs (PDF). Center for the Interaction of Animales and Society, School of Veterinary Medicine, University of Pennsylvania: Third International Symposium on Non-Surgical Contraceptive Methods for Pet Population Control. Archivado desde el original el 19 de marzo de 2009.\\xa0\\n↑ Spain CV; Scarlett JM, Houpt KA (febrero de 2004). «Long-term risks and benefits of early-age gonadectomy in cats». J Am Med Assoc 224:372. doi:10.1038/laban0510-140.\\xa0\\n↑ Graves, Will (2007). Wolves in Russia: Anxiety throughout the ages. Calgary: Detselig Enterprises. p.\\xa0222. ISBN\\xa01550593323. Archivado desde el original el 2 de agosto de 2009.\\xa0\\n↑ Kojola, I.; Ronkainen, S.; Hakala, A.; Heikkinen, S.; Kokko, S. Interaction between wolves Canis lupus and dogs C. familiaris in Finland. Nordic Council for Wildlife Research.\\xa0\\n↑ ocr/sections/news/focus_in_depth/article_508026.php «For coyotes, pedos are Prey». Greg Hardesty. Orange County Register. Consultado el 19 de agosto de 2007.\\xa0\\n↑ Jonathan & Angela Scott (2006). Big Cat Diary: Leopard. Londres: Collins. p.\\xa0108. ISBN\\xa00007211813.\\xa0\\n↑ Perry, Richard (1965). The World of the Tiger. p.\\xa0260. ASIN: B0007DU2IU.\\xa0\\n↑ «Striped Hyaena Hyaena (Hyaena) hyaena (Linnaeus, 1758)». IUCN Species Survival Commission Hyaenidae Specialist Group. mayo. Archivado desde el original el 28 de septiembre de 2007. Consultado el 21 de mayo de 2008.\\xa0\\n↑ Lindblad-Toh, Kerstin et al. (8 de diciembre de 2005). «Genome sequence, comparative analysis and haplotype structure of the domestic dog». Nature 438 (7069): 803-819. doi:10.1038/nature04338.\\xa0\\n↑ Germonpré, Mietje; Sablin, Mikhail V.; Stevens, Rhiannon E.; Hedges, Robert E.M.; Hofreiter, Michael; Stiller, Mathias; Després, Viviane R. (febrero de 2009). «Fossil dogs and wolves from Palaeolithic sites in Belgium, the Ukraine and Russia: osteometry, ancient DNA and stable isotopes». Journal of Archaeological Science (en inglés) 36 (2): 473-490. doi:10.1016/j.jas.2008.09.033.\\xa0\\n↑ Altares, Guillermo (14 de diciembre de 2017). «Los perros ayudaron a la humanidad a sobrevivir». El País. Consultado el 14 de diciembre de 2017.\\xa0\\n↑ Frantz, L. A. F.; Mullin, V. E.; Pionnier-Capitan, M.; Lebrasseur, O.; Ollivier, M.; Perri, A.; Linderholm, A.; Mattiangeli, V.; Teasdale, M. D.; Dimopoulos, E. A.; Tresset, A.; Duffraisse, M.; McCormick, F.; Bartosiewicz, L.; Gal, E.; Nyerges, E. A.; Sablin, M. V.; Brehard, S.; Mashkour, M.; Bălăşescu, A.; Gillet, B.; Hughes, S.; Chassaing, O.; Hitte, C.; Vigne, J.-D.; Dobney, K.; Hanni, C.; Bradley, D. G.; Larson, G. (2 de junio de 2016). «Genomic and archaeological evidence suggest a dual origin of domestic dogs». Science 352 (6290): 1228-1231. doi:10.1126/science.aaf3161.\\xa0\\n↑ Perri, Angela (2016) «A wolf in dog\\'s clothing: Initial dog domestication and Pleistocene wolf variation». Journal of Archaeological Science, 68: 1-4\\n↑ Lord, Kathryn A.; Larson, Greger; Coppinger, Raymond P.; Karlsson, Elinor K. (2020). «The History of Farm Foxes Undermines the Animal Domestication Syndrome». Trends in Ecology & Evolution. 35 (2): 125–136. doi:10.1016/j.tree.2019.10.011. PMID 31810775\\n↑ a b c d Hytönen MK, Lohi H1 (28 de septiembre de 2016). «Canine models of human rare disorders». Rare Dis (Revisión) 4 (1): e1241362. PMC\\xa05070630. PMID\\xa027803843.\\xa0\\n↑ Shook, Larry (1995). The Puppy Report: How to Select a Healthy, Happy Dog. Nueva York: Ballantine. pp.\\xa057-72. ISBN\\xa00 - 345-38439-3.\\xa0\\n↑ «Nomenclatura de las razas de la FCI». www.fci.be. Consultado el 16 de febrero de 2016.\\xa0\\n↑ California Newsreel. «Race: the Power of an Illusion». PBS. Consultado el 22 de julio de 2018.\\xa0\\n↑ FAO\\n↑ a b Packer RM, Hendricks A, Tivers MS, Burn CC (28 de octubre de 2015). «Impact of Facial Conformation on Canine Health: Brachycephalic Obstructive Airway Syndrome». PLoS One (Revisión) 10 (10): e0137496. PMID\\xa026509577. doi:10.1371/journal.pone.0137496.\\xa0\\n↑ a b Meola SD (agosto de 2013). «Brachycephalic airway syndrome». Top Companion Anim Med (Revisión) 28 (3): 91-96. PMID\\xa024182996. doi:10.1053/j.tcam.2013.06.004.\\xa0\\n↑ Bennett PC1, Perini E (abril de 2003). Tail docking in dogs: a review of the issues (Revisión) 81 (4). pp.\\xa0208-218. PMID\\xa015080444. doi:10.1111/j.1751-0813.2003.tb11473.x.\\xa0\\n↑ Sandøe P, Kondrup SV, Bennett PC, Forkman B, Meyer I, Proschowsky HF, Serpell JA, Lund TB (24 de febrero de 2017). «Why do people buy dogs with potential welfare problems related to extreme conformation and inherited disease? A representative study of Danish owners of four small dog breeds». PLoS One 12 (2): e0172091. PMC\\xa05325474. PMID\\xa028234931. doi:10.1371/journal.pone.0172091.\\xa0\\n↑ Miklosi, Adam (27 de enero de 2009). Dog Behaviour, Evolution, and Cognition. Oxford University Press, 2007. doi:10.1093/acprof:oso/9780199295852.001.0001.\\xa0\\n↑ Mark Derr (2004). A dogs history of America. North Point Press.\\xa0\\n↑ Buttelmann, D.; Carpenter, M., Call, J. & Tomasello, M. (2007). «Enculturated chimpanzees imitate rationally.». Developmental Science. doi:10.1111/j.1467-8624.2008.01146.x.\\xa0\\n↑ a b «Making inferences about the location of hidden food: social dog, causal ape.». Journal of Comparative Psychology 120 (1): 38-47. 2006. doi:10.1037/0735-7036.120.1.38. Archivado desde el original el 8 de enero de 2013. Consultado el 15 de mayo de 2013.\\xa0\\n↑ Ohio Valley Search and Rescue.Inc. Glossary\\nBibliografía\\nFogle, B. (2005). El Perro: Manual de Adiestramiento Canino. Editorial Omega. ISBN\\xa01-55059-205-X.\\xa0\\nGerritsen, R. y Haak, R. (2000). K9 Schutzhund Training. A manual for Tracking, Obedience and Protection. Detseling Enterprises Ltd: Calgary, Alberta, Canadá. ISBN\\xa01-55059-205-X.\\xa0\\nLonsdale, T. (2001). Raw Meaty Bones Promote Health. Dogwise Publishing. ISBN\\xa0978-0-646-39624-8.\\xa0\\nVitela, D. (2003). Manual de nutrición canina. Editorial Universitaria.\\xa0\\nEnlaces externos\\nAtlas virtual sobre cráneos, huesos, esqueletos y denticiones de los mamíferos ibéricos, del apartado de rastros de mamíferos.\\nBiodiversity Heritage Library bibliography for Canis lupus familiaris\\nDogs in the Ancient World, artículo sobre la historia de los perros\\nVértebras del perro\\nControl de autoridades\\nProyectos Wikimedia\\n Datos: Q20717272\\n Diccionario: perro\\n Especies: Canis lupus familiaris\\nIdentificadores\\nAAT: 300250130\\nBases de datos taxonómicas\\nGBIF: 5219200\\niNaturalist: 47144\\nITIS: 183815\\nNCBI: 9615\\nPaleobiology Database: 104153\\nWoRMS: 1461482\\nZoobank: 05C23FE8-F45D-4EA6-A309-46864DE24097\\n Datos: Q20717272\\n Diccionario: perro\\n Especies: Canis lupus familiaris\\nObtenido de «https://es.wikipedia.org/w/index.php?title=Canis_familiaris&oldid=158719337»\\nCategorías: Animales domesticadosPerrosCánidos (Canidae) no amenazadosAnimales descritos en 1758Categorías ocultas: Wikipedia:Páginas con referencias con et al. implícito en los autoresWikipedia:Páginas con referencias sin URL y con fecha de accesoWikipedia:Artículos con enlaces externos rotosWikipedia:Páginas con enlaces mágicos de ISBNWikipedia:Artículos con pasajes que requieren referenciasWikipedia:Artículos que necesitan referenciasWikipedia:Referenciar (aún sin clasificar)Wikipedia:Artículos con identificadores AATWikipedia:Páginas que utilizan control de autoridades con parámetrosWikipedia:Artículos con enlaces interwiki adicionales\\n Esta página se editó por última vez el 10 mar 2024 a las 13:27.\\nEl texto está disponible bajo la Licencia Creative Commons Atribución-CompartirIgual 4.0; pueden aplicarse cláusulas adicionales. Al usar este sitio aceptas nuestros términos de uso y nuestra política de privacidad.Wikipedia® es una marca registrada de la Fundación Wikimedia, una organización sin ánimo de lucro.\\nPolítica de privacidad\\nAcerca de Wikipedia\\nLimitación de responsabilidad\\nCódigo de conducta\\nDesarrolladores\\nEstadísticas\\nDeclaración de cookies\\nVersión para móviles\\nActivar o desactivar el límite de anchura del contenido\\n'"
      ]
     },
     "execution_count": 11,
     "metadata": {},
     "output_type": "execute_result"
    }
   ],
   "source": [
    "response = requests.get(url)\n",
    "content = response.content\n",
    "html = bs4.BeautifulSoup(content, \"html.parser\")\n",
    "text = html.get_text()\n",
    "text = re.sub(r\"\\n+\", \"\\n\", text)\n",
    "text = re.sub(r\"\\[\\d+\\]\\u200b\", \"\", text)\n",
    "text"
   ]
  },
  {
   "cell_type": "code",
   "execution_count": 12,
   "id": "fc5f7949-3912-416e-9b67-3d9f23a29b4e",
   "metadata": {},
   "outputs": [],
   "source": [
    "sentences = nltk.sent_tokenize(text, language = \"spanish\")"
   ]
  },
  {
   "cell_type": "code",
   "execution_count": 13,
   "id": "c24f9b2c-d8ab-4dca-bd74-b51430233618",
   "metadata": {},
   "outputs": [
    {
     "data": {
      "text/plain": [
       "['Biodiversity Heritage Library bibliography for Canis lupus familiaris\\nDogs in the Ancient World, artículo sobre la historia de los perros\\nVértebras del perro\\nControl de autoridades\\nProyectos Wikimedia\\n Datos: Q20717272\\n Diccionario: perro\\n Especies: Canis lupus familiaris\\nIdentificadores\\nAAT: 300250130\\nBases de datos taxonómicas\\nGBIF: 5219200\\niNaturalist: 47144\\nITIS: 183815\\nNCBI: 9615\\nPaleobiology Database: 104153\\nWoRMS: 1461482\\nZoobank: 05C23FE8-F45D-4EA6-A309-46864DE24097\\n Datos: Q20717272\\n Diccionario: perro\\n Especies: Canis lupus familiaris\\nObtenido de «https://es.wikipedia.org/w/index.php?title=Canis_familiaris&oldid=158719337»\\nCategorías: Animales domesticadosPerrosCánidos (Canidae) no amenazadosAnimales descritos en 1758Categorías ocultas: Wikipedia:Páginas con referencias con et al.',\n",
       " 'implícito en los autoresWikipedia:Páginas con referencias sin URL y con fecha de accesoWikipedia:Artículos con enlaces externos rotosWikipedia:Páginas con enlaces mágicos de ISBNWikipedia:Artículos con pasajes que requieren referenciasWikipedia:Artículos que necesitan referenciasWikipedia:Referenciar (aún sin clasificar)Wikipedia:Artículos con identificadores AATWikipedia:Páginas que utilizan control de autoridades con parámetrosWikipedia:Artículos con enlaces interwiki adicionales\\n Esta página se editó por última vez el 10 mar 2024 a las 13:27.',\n",
       " 'El texto está disponible bajo la Licencia Creative Commons Atribución-CompartirIgual 4.0; pueden aplicarse cláusulas adicionales.',\n",
       " 'Al usar este sitio aceptas nuestros términos de uso y nuestra política de privacidad.Wikipedia® es una marca registrada de la Fundación Wikimedia, una organización sin ánimo de lucro.',\n",
       " 'Política de privacidad\\nAcerca de Wikipedia\\nLimitación de responsabilidad\\nCódigo de conducta\\nDesarrolladores\\nEstadísticas\\nDeclaración de cookies\\nVersión para móviles\\nActivar o desactivar el límite de anchura del contenido']"
      ]
     },
     "execution_count": 13,
     "metadata": {},
     "output_type": "execute_result"
    }
   ],
   "source": [
    "sentences[-5:]"
   ]
  },
  {
   "cell_type": "markdown",
   "id": "1c72704d-f3f6-4853-87bb-8429bf9e39dc",
   "metadata": {},
   "source": [
    "# match case"
   ]
  },
  {
   "cell_type": "code",
   "execution_count": 14,
   "id": "1e809f3f-dd5f-4725-abf7-d567e9a2629e",
   "metadata": {},
   "outputs": [],
   "source": [
    "import random"
   ]
  },
  {
   "cell_type": "code",
   "execution_count": 15,
   "id": "792beb4c-362a-41f4-af7d-72ba3f970bd9",
   "metadata": {},
   "outputs": [
    {
     "name": "stdin",
     "output_type": "stream",
     "text": [
      "Escoge piedra, papel o tijera piedra\n"
     ]
    },
    {
     "name": "stdout",
     "output_type": "stream",
     "text": [
      "Tu elección fue piedra y la mía fue piedra, así que el ganador es empate\n"
     ]
    }
   ],
   "source": [
    "user_response = input(\"Escoge piedra, papel o tijera\")\n",
    "pc_response = random.choice([\"piedra\", \"papel\", \"tijera\"])\n",
    "\n",
    "match (user_response, pc_response):\n",
    "\n",
    "    case (\"piedra\", \"tijera\"): ganador = \"usuario\"\n",
    "    case (\"piedra\", \"papel\"): ganador = \"pc\"\n",
    "    case (\"papel\", \"piedra\"): ganador = \"usuario\"\n",
    "    case (\"papel\", \"tijera\"): ganador = \"pc\"\n",
    "    case (\"tijera\", \"papel\"): ganador = \"usuario\"\n",
    "    case (\"tijera\", \"piedra\"): ganador = \"pc\"\n",
    "    case _: ganador = \"empate\"\n",
    "\n",
    "print(f\"Tu elección fue {user_response} y la mía fue {pc_response}, así que el ganador es {ganador}\")"
   ]
  },
  {
   "cell_type": "code",
   "execution_count": 16,
   "id": "7f5a7d2c-15c7-4070-9db8-613f425f51c4",
   "metadata": {},
   "outputs": [
    {
     "name": "stdin",
     "output_type": "stream",
     "text": [
      "Escoge piedra, papel o tijera papel\n"
     ]
    },
    {
     "name": "stdout",
     "output_type": "stream",
     "text": [
      "Empate! papel papel\n"
     ]
    }
   ],
   "source": [
    "user_response = input(\"Escoge piedra, papel o tijera\")\n",
    "pc_response = random.choice([\"piedra\", \"papel\", \"tijera\"])\n",
    "\n",
    "match (user_response, pc_response):\n",
    "    case ('piedra', 'tijera') | ('tijera', 'papel') | ('papel', 'piedra'):\n",
    "        resultado = f'Gana usuario con {user_response}!'\n",
    "    case ('tijera', 'piedra') | ('papel', 'tijera') | ('piedra', 'papel'):\n",
    "        resultado = f'Gana máquina con {pc_response}!'\n",
    "    case _:\n",
    "        resultado = f'Empate!'\n",
    "\n",
    "print(resultado, user_response, pc_response)"
   ]
  },
  {
   "cell_type": "markdown",
   "id": "4f401c77-ae1a-4a6c-9ee9-24954d74df35",
   "metadata": {},
   "source": [
    "# Generador de contraseñas"
   ]
  },
  {
   "cell_type": "code",
   "execution_count": 17,
   "id": "7dcd712d-5351-46b4-87dd-541bfbc496f2",
   "metadata": {},
   "outputs": [
    {
     "data": {
      "text/plain": [
       "'123456'"
      ]
     },
     "execution_count": 17,
     "metadata": {},
     "output_type": "execute_result"
    }
   ],
   "source": [
    "def generate_password():\n",
    "    password = \"123456\"\n",
    "    return password\n",
    "\n",
    "generate_password()"
   ]
  },
  {
   "cell_type": "code",
   "execution_count": 18,
   "id": "fbbe36f4-be5b-4c6c-953a-af6364f377b4",
   "metadata": {},
   "outputs": [],
   "source": [
    "names = lambda obj: print([name for name in dir(obj) if name[0] != \"_\"])"
   ]
  },
  {
   "cell_type": "code",
   "execution_count": 19,
   "id": "adba6d33-7e64-4a35-a32f-e06740cc0af3",
   "metadata": {},
   "outputs": [
    {
     "name": "stdout",
     "output_type": "stream",
     "text": [
      "['BPF', 'LOG4', 'NV_MAGICCONST', 'RECIP_BPF', 'Random', 'SG_MAGICCONST', 'SystemRandom', 'TWOPI', 'betavariate', 'choice', 'choices', 'expovariate', 'gammavariate', 'gauss', 'getrandbits', 'getstate', 'lognormvariate', 'normalvariate', 'paretovariate', 'randbytes', 'randint', 'random', 'randrange', 'sample', 'seed', 'setstate', 'shuffle', 'triangular', 'uniform', 'vonmisesvariate', 'weibullvariate']\n"
     ]
    }
   ],
   "source": [
    "names(random)"
   ]
  },
  {
   "cell_type": "code",
   "execution_count": 20,
   "id": "3625659b-6913-4b59-9832-7e704375eefb",
   "metadata": {},
   "outputs": [
    {
     "data": {
      "text/plain": [
       "['a', 'i']"
      ]
     },
     "execution_count": 20,
     "metadata": {},
     "output_type": "execute_result"
    }
   ],
   "source": [
    "random.choices(list(\"aeiou\"), k = 2)"
   ]
  },
  {
   "cell_type": "code",
   "execution_count": 21,
   "id": "ab98a7a5-2249-4197-bfa8-cbc48fcf9072",
   "metadata": {},
   "outputs": [
    {
     "data": {
      "text/plain": [
       "'jggj'"
      ]
     },
     "execution_count": 21,
     "metadata": {},
     "output_type": "execute_result"
    }
   ],
   "source": [
    "def generate_password(length = 8):\n",
    "    alphabet = \"abcdefghijk\"\n",
    "    password = random.choices(list(alphabet), k = length)\n",
    "    password = \"\".join(password)\n",
    "    return password\n",
    "\n",
    "generate_password(4)"
   ]
  },
  {
   "cell_type": "code",
   "execution_count": 22,
   "id": "f647075d-08c4-4912-905a-eaefaae497d9",
   "metadata": {},
   "outputs": [
    {
     "data": {
      "text/plain": [
       "'holaadióspython'"
      ]
     },
     "execution_count": 22,
     "metadata": {},
     "output_type": "execute_result"
    }
   ],
   "source": [
    "\"\".join([\"hola\", \"adiós\", \"python\"])"
   ]
  },
  {
   "cell_type": "code",
   "execution_count": 23,
   "id": "dffe78e4-cd77-4fd4-a99a-55ce9ff004ee",
   "metadata": {},
   "outputs": [],
   "source": [
    "import string"
   ]
  },
  {
   "cell_type": "code",
   "execution_count": 24,
   "id": "7fa58725-b97a-4fb2-9c14-48c258de2416",
   "metadata": {},
   "outputs": [
    {
     "name": "stdout",
     "output_type": "stream",
     "text": [
      "['Formatter', 'Template', 'ascii_letters', 'ascii_lowercase', 'ascii_uppercase', 'capwords', 'digits', 'hexdigits', 'octdigits', 'printable', 'punctuation', 'whitespace']\n"
     ]
    }
   ],
   "source": [
    "names(string)"
   ]
  },
  {
   "cell_type": "code",
   "execution_count": 25,
   "id": "4c85f801-c328-440c-bc5e-24a5215ddfd2",
   "metadata": {},
   "outputs": [
    {
     "data": {
      "text/plain": [
       "'0123456789'"
      ]
     },
     "execution_count": 25,
     "metadata": {},
     "output_type": "execute_result"
    }
   ],
   "source": [
    "string.digits"
   ]
  },
  {
   "cell_type": "code",
   "execution_count": 26,
   "id": "5de12ef9-98e7-4a55-ad46-64eee31adfba",
   "metadata": {},
   "outputs": [
    {
     "data": {
      "text/plain": [
       "'abcdefghijklmnopqrstuvwxyzABCDEFGHIJKLMNOPQRSTUVWXYZ'"
      ]
     },
     "execution_count": 26,
     "metadata": {},
     "output_type": "execute_result"
    }
   ],
   "source": [
    "string.ascii_letters"
   ]
  },
  {
   "cell_type": "code",
   "execution_count": 27,
   "id": "c77b0a4b-dc52-46c6-968f-2589b7e8bbc9",
   "metadata": {},
   "outputs": [
    {
     "data": {
      "text/plain": [
       "'abcdefghijklmnopqrstuvwxyz'"
      ]
     },
     "execution_count": 27,
     "metadata": {},
     "output_type": "execute_result"
    }
   ],
   "source": [
    "string.ascii_lowercase"
   ]
  },
  {
   "cell_type": "code",
   "execution_count": 28,
   "id": "1b5bf73c-7ddf-4a10-a087-523ce9f401ce",
   "metadata": {},
   "outputs": [
    {
     "data": {
      "text/plain": [
       "'!\"#$%&\\'()*+,-./:;<=>?@[\\\\]^_`{|}~'"
      ]
     },
     "execution_count": 28,
     "metadata": {},
     "output_type": "execute_result"
    }
   ],
   "source": [
    "string.punctuation"
   ]
  },
  {
   "cell_type": "code",
   "execution_count": 29,
   "id": "bd8ce402-f8c2-4cf7-af2e-69fb4c502919",
   "metadata": {},
   "outputs": [
    {
     "data": {
      "text/plain": [
       "'0123456789abcdefghijklmnopqrstuvwxyzABCDEFGHIJKLMNOPQRSTUVWXYZ!\"#$%&\\'()*+,-./:;<=>?@[\\\\]^_`{|}~ \\t\\n\\r\\x0b\\x0c'"
      ]
     },
     "execution_count": 29,
     "metadata": {},
     "output_type": "execute_result"
    }
   ],
   "source": [
    "string.printable"
   ]
  },
  {
   "cell_type": "code",
   "execution_count": 30,
   "id": "8e1e779e-f29f-41dd-9b39-e01b23f9f126",
   "metadata": {},
   "outputs": [
    {
     "data": {
      "text/plain": [
       "'buk1ct1DjoHPOpxk'"
      ]
     },
     "execution_count": 30,
     "metadata": {},
     "output_type": "execute_result"
    }
   ],
   "source": [
    "def generate_password(length = 8, format = \"all\"):\n",
    "    \"\"\" Genera un password de la longitud indicada y considerando el tipo\n",
    "    de caracteres indicado:\n",
    "    * \"txt\": Letras mayusculas y minúsculas\n",
    "    * \"number\": Números\n",
    "    * \"txt_number\": Letras mayúsculas, minúsculas y números\n",
    "    * \"all\": Letras mayúsculas, minúsculas, números y caracteres especiales\n",
    "    \"\"\"\n",
    "    match format:\n",
    "        case \"txt\": alphabet = string.ascii_letters\n",
    "        case \"number\": alphabet = string.digits\n",
    "        case \"txt_number\": alphabet = string.ascii_letters + string.digits\n",
    "        case \"all\": alphabet = string.ascii_letters + string.digits + \"_%?\"\n",
    "        case _: alphabet = \"aeiou\"\n",
    "\n",
    "    password = random.choices(list(alphabet), k = length)\n",
    "    password = \"\".join(password)\n",
    "    return password\n",
    "\n",
    "generate_password(length = 16)"
   ]
  },
  {
   "cell_type": "code",
   "execution_count": 31,
   "id": "a2409998-fb22-4433-89e0-b628913fb079",
   "metadata": {},
   "outputs": [
    {
     "data": {
      "text/plain": [
       "'abcdefghijklmnopqrstuvwxyzABCDEFGHIJKLMNOPQRSTUVWXYZ'"
      ]
     },
     "execution_count": 31,
     "metadata": {},
     "output_type": "execute_result"
    }
   ],
   "source": [
    "alphabet = string.ascii_letters\n",
    "alphabet"
   ]
  },
  {
   "cell_type": "markdown",
   "id": "67e6476c-5bcd-454f-bc69-b5ec0be1e61b",
   "metadata": {},
   "source": [
    "# NumPy"
   ]
  },
  {
   "cell_type": "code",
   "execution_count": 32,
   "id": "0f2e002d-6b9c-4131-b3a5-2e26841c0643",
   "metadata": {},
   "outputs": [],
   "source": [
    "a = [2, 4, 6, 8]"
   ]
  },
  {
   "cell_type": "code",
   "execution_count": 33,
   "id": "e751f179-de2e-4cee-bcc1-d88927261520",
   "metadata": {},
   "outputs": [],
   "source": [
    "# a + 1"
   ]
  },
  {
   "cell_type": "code",
   "execution_count": 34,
   "id": "452de22b-9abd-456b-ae60-5dfe0eb98ce4",
   "metadata": {},
   "outputs": [],
   "source": [
    "b = [1, 2, 3, 4]"
   ]
  },
  {
   "cell_type": "code",
   "execution_count": 35,
   "id": "446e03ac-1d9a-4fbc-8764-b4b19807b8f9",
   "metadata": {},
   "outputs": [
    {
     "data": {
      "text/plain": [
       "[2, 4, 6, 8, 1, 2, 3, 4]"
      ]
     },
     "execution_count": 35,
     "metadata": {},
     "output_type": "execute_result"
    }
   ],
   "source": [
    "a + b"
   ]
  },
  {
   "cell_type": "code",
   "execution_count": 36,
   "id": "c961a923-9c83-45e6-adec-7f6397e8fc8b",
   "metadata": {},
   "outputs": [
    {
     "data": {
      "text/plain": [
       "[2, 4, 6, 8, 2, 4, 6, 8]"
      ]
     },
     "execution_count": 36,
     "metadata": {},
     "output_type": "execute_result"
    }
   ],
   "source": [
    "a * 2"
   ]
  },
  {
   "cell_type": "code",
   "execution_count": 37,
   "id": "b56b4622-810e-42d4-a45c-b8a750b10cf9",
   "metadata": {},
   "outputs": [
    {
     "data": {
      "text/plain": [
       "[[1, 2, 3], [4, 5, 6]]"
      ]
     },
     "execution_count": 37,
     "metadata": {},
     "output_type": "execute_result"
    }
   ],
   "source": [
    "a = [   [1, 2, 3],    [4, 5, 6] ]\n",
    "a"
   ]
  },
  {
   "cell_type": "code",
   "execution_count": 38,
   "id": "b6482b50-3510-4aae-be34-746b9e5f7766",
   "metadata": {},
   "outputs": [],
   "source": [
    "a = [2, 4, 6, 8]"
   ]
  },
  {
   "cell_type": "code",
   "execution_count": 39,
   "id": "f3dd97ea-c871-4027-97b7-cb8e4ec02ef0",
   "metadata": {},
   "outputs": [
    {
     "name": "stdout",
     "output_type": "stream",
     "text": [
      "[2, 4, 6, 8]\n",
      "[1, 2, 3, 4]\n"
     ]
    }
   ],
   "source": [
    "print(a)\n",
    "print(b)"
   ]
  },
  {
   "cell_type": "code",
   "execution_count": 40,
   "id": "0a1cad78-f0da-4b35-a88c-925a7afd59d6",
   "metadata": {},
   "outputs": [],
   "source": [
    "import numpy as np"
   ]
  },
  {
   "cell_type": "code",
   "execution_count": 41,
   "id": "93c53ae7-c4a8-4854-b538-6822840aea4b",
   "metadata": {},
   "outputs": [
    {
     "name": "stdout",
     "output_type": "stream",
     "text": [
      "['ALLOW_THREADS', 'BUFSIZE', 'CLIP', 'DataSource', 'ERR_CALL', 'ERR_DEFAULT', 'ERR_IGNORE', 'ERR_LOG', 'ERR_PRINT', 'ERR_RAISE', 'ERR_WARN', 'FLOATING_POINT_SUPPORT', 'FPE_DIVIDEBYZERO', 'FPE_INVALID', 'FPE_OVERFLOW', 'FPE_UNDERFLOW', 'False_', 'Inf', 'Infinity', 'MAXDIMS', 'MAY_SHARE_BOUNDS', 'MAY_SHARE_EXACT', 'NAN', 'NINF', 'NZERO', 'NaN', 'PINF', 'PZERO', 'RAISE', 'RankWarning', 'SHIFT_DIVIDEBYZERO', 'SHIFT_INVALID', 'SHIFT_OVERFLOW', 'SHIFT_UNDERFLOW', 'ScalarType', 'True_', 'UFUNC_BUFSIZE_DEFAULT', 'UFUNC_PYVALS_NAME', 'WRAP', 'abs', 'absolute', 'add', 'add_docstring', 'add_newdoc', 'add_newdoc_ufunc', 'all', 'allclose', 'alltrue', 'amax', 'amin', 'angle', 'any', 'append', 'apply_along_axis', 'apply_over_axes', 'arange', 'arccos', 'arccosh', 'arcsin', 'arcsinh', 'arctan', 'arctan2', 'arctanh', 'argmax', 'argmin', 'argpartition', 'argsort', 'argwhere', 'around', 'array', 'array2string', 'array_equal', 'array_equiv', 'array_repr', 'array_split', 'array_str', 'asanyarray', 'asarray', 'asarray_chkfinite', 'ascontiguousarray', 'asfarray', 'asfortranarray', 'asmatrix', 'atleast_1d', 'atleast_2d', 'atleast_3d', 'average', 'bartlett', 'base_repr', 'binary_repr', 'bincount', 'bitwise_and', 'bitwise_not', 'bitwise_or', 'bitwise_xor', 'blackman', 'block', 'bmat', 'bool_', 'broadcast', 'broadcast_arrays', 'broadcast_shapes', 'broadcast_to', 'busday_count', 'busday_offset', 'busdaycalendar', 'byte', 'byte_bounds', 'bytes_', 'c_', 'can_cast', 'cast', 'cbrt', 'cdouble', 'ceil', 'cfloat', 'char', 'character', 'chararray', 'choose', 'clip', 'clongdouble', 'clongfloat', 'column_stack', 'common_type', 'compare_chararrays', 'compat', 'complex128', 'complex64', 'complex_', 'complexfloating', 'compress', 'concatenate', 'conj', 'conjugate', 'convolve', 'copy', 'copysign', 'copyto', 'corrcoef', 'correlate', 'cos', 'cosh', 'count_nonzero', 'cov', 'cross', 'csingle', 'ctypeslib', 'cumprod', 'cumproduct', 'cumsum', 'datetime64', 'datetime_as_string', 'datetime_data', 'deg2rad', 'degrees', 'delete', 'deprecate', 'deprecate_with_doc', 'diag', 'diag_indices', 'diag_indices_from', 'diagflat', 'diagonal', 'diff', 'digitize', 'disp', 'divide', 'divmod', 'dot', 'double', 'dsplit', 'dstack', 'dtype', 'dtypes', 'e', 'ediff1d', 'einsum', 'einsum_path', 'emath', 'empty', 'empty_like', 'equal', 'errstate', 'euler_gamma', 'exceptions', 'exp', 'exp2', 'expand_dims', 'expm1', 'extract', 'eye', 'fabs', 'fastCopyAndTranspose', 'fft', 'fill_diagonal', 'find_common_type', 'finfo', 'fix', 'flatiter', 'flatnonzero', 'flexible', 'flip', 'fliplr', 'flipud', 'float16', 'float32', 'float64', 'float_', 'float_power', 'floating', 'floor', 'floor_divide', 'fmax', 'fmin', 'fmod', 'format_float_positional', 'format_float_scientific', 'format_parser', 'frexp', 'from_dlpack', 'frombuffer', 'fromfile', 'fromfunction', 'fromiter', 'frompyfunc', 'fromregex', 'fromstring', 'full', 'full_like', 'gcd', 'generic', 'genfromtxt', 'geomspace', 'get_array_wrap', 'get_include', 'get_printoptions', 'getbufsize', 'geterr', 'geterrcall', 'geterrobj', 'gradient', 'greater', 'greater_equal', 'half', 'hamming', 'hanning', 'heaviside', 'histogram', 'histogram2d', 'histogram_bin_edges', 'histogramdd', 'hsplit', 'hstack', 'hypot', 'i0', 'identity', 'iinfo', 'imag', 'in1d', 'index_exp', 'indices', 'inexact', 'inf', 'info', 'infty', 'inner', 'insert', 'int16', 'int32', 'int64', 'int8', 'int_', 'intc', 'integer', 'interp', 'intersect1d', 'intp', 'invert', 'is_busday', 'isclose', 'iscomplex', 'iscomplexobj', 'isfinite', 'isfortran', 'isin', 'isinf', 'isnan', 'isnat', 'isneginf', 'isposinf', 'isreal', 'isrealobj', 'isscalar', 'issctype', 'issubclass_', 'issubdtype', 'issubsctype', 'iterable', 'ix_', 'kaiser', 'kron', 'lcm', 'ldexp', 'left_shift', 'less', 'less_equal', 'lexsort', 'lib', 'linalg', 'linspace', 'little_endian', 'load', 'loadtxt', 'log', 'log10', 'log1p', 'log2', 'logaddexp', 'logaddexp2', 'logical_and', 'logical_not', 'logical_or', 'logical_xor', 'logspace', 'longcomplex', 'longdouble', 'longfloat', 'longlong', 'lookfor', 'ma', 'mask_indices', 'mat', 'matmul', 'matrix', 'max', 'maximum', 'maximum_sctype', 'may_share_memory', 'mean', 'median', 'memmap', 'meshgrid', 'mgrid', 'min', 'min_scalar_type', 'minimum', 'mintypecode', 'mod', 'modf', 'moveaxis', 'msort', 'multiply', 'nan', 'nan_to_num', 'nanargmax', 'nanargmin', 'nancumprod', 'nancumsum', 'nanmax', 'nanmean', 'nanmedian', 'nanmin', 'nanpercentile', 'nanprod', 'nanquantile', 'nanstd', 'nansum', 'nanvar', 'nbytes', 'ndarray', 'ndenumerate', 'ndim', 'ndindex', 'nditer', 'negative', 'nested_iters', 'newaxis', 'nextafter', 'nonzero', 'not_equal', 'numarray', 'number', 'obj2sctype', 'object_', 'ogrid', 'oldnumeric', 'ones', 'ones_like', 'outer', 'packbits', 'pad', 'partition', 'percentile', 'pi', 'piecewise', 'place', 'poly', 'poly1d', 'polyadd', 'polyder', 'polydiv', 'polyfit', 'polyint', 'polymul', 'polynomial', 'polysub', 'polyval', 'positive', 'power', 'printoptions', 'prod', 'product', 'promote_types', 'ptp', 'put', 'put_along_axis', 'putmask', 'quantile', 'r_', 'rad2deg', 'radians', 'random', 'ravel', 'ravel_multi_index', 'real', 'real_if_close', 'rec', 'recarray', 'recfromcsv', 'recfromtxt', 'reciprocal', 'record', 'remainder', 'repeat', 'require', 'reshape', 'resize', 'result_type', 'right_shift', 'rint', 'roll', 'rollaxis', 'roots', 'rot90', 'round', 'round_', 'row_stack', 's_', 'safe_eval', 'save', 'savetxt', 'savez', 'savez_compressed', 'sctype2char', 'sctypeDict', 'sctypes', 'searchsorted', 'select', 'set_numeric_ops', 'set_printoptions', 'set_string_function', 'setbufsize', 'setdiff1d', 'seterr', 'seterrcall', 'seterrobj', 'setxor1d', 'shape', 'shares_memory', 'short', 'show_config', 'show_runtime', 'sign', 'signbit', 'signedinteger', 'sin', 'sinc', 'single', 'singlecomplex', 'sinh', 'size', 'sometrue', 'sort', 'sort_complex', 'source', 'spacing', 'split', 'sqrt', 'square', 'squeeze', 'stack', 'std', 'str_', 'string_', 'subtract', 'sum', 'swapaxes', 'take', 'take_along_axis', 'tan', 'tanh', 'tensordot', 'test', 'testing', 'tile', 'timedelta64', 'trace', 'tracemalloc_domain', 'transpose', 'trapz', 'tri', 'tril', 'tril_indices', 'tril_indices_from', 'trim_zeros', 'triu', 'triu_indices', 'triu_indices_from', 'true_divide', 'trunc', 'typecodes', 'typename', 'typing', 'ubyte', 'ufunc', 'uint', 'uint16', 'uint32', 'uint64', 'uint8', 'uintc', 'uintp', 'ulonglong', 'unicode_', 'union1d', 'unique', 'unpackbits', 'unravel_index', 'unsignedinteger', 'unwrap', 'ushort', 'vander', 'var', 'vdot', 'vectorize', 'version', 'void', 'vsplit', 'vstack', 'where', 'who', 'zeros', 'zeros_like']\n"
     ]
    }
   ],
   "source": [
    "names(np)"
   ]
  },
  {
   "cell_type": "code",
   "execution_count": 42,
   "id": "46a8562f-2741-44c3-bbda-f3f96d987cf7",
   "metadata": {},
   "outputs": [
    {
     "data": {
      "text/plain": [
       "array([2, 4, 6, 8])"
      ]
     },
     "execution_count": 42,
     "metadata": {},
     "output_type": "execute_result"
    }
   ],
   "source": [
    "a = np.array(a)\n",
    "a"
   ]
  },
  {
   "cell_type": "code",
   "execution_count": 43,
   "id": "c24cc259-c522-4fd5-a0ec-f503b7429f15",
   "metadata": {},
   "outputs": [
    {
     "data": {
      "text/plain": [
       "array([1, 2, 3, 4])"
      ]
     },
     "execution_count": 43,
     "metadata": {},
     "output_type": "execute_result"
    }
   ],
   "source": [
    "b = np.array(b)\n",
    "b"
   ]
  },
  {
   "cell_type": "code",
   "execution_count": 44,
   "id": "b49859b8-d365-46fb-a764-a7e82e89ac08",
   "metadata": {},
   "outputs": [
    {
     "data": {
      "text/plain": [
       "array([ 3,  6,  9, 12])"
      ]
     },
     "execution_count": 44,
     "metadata": {},
     "output_type": "execute_result"
    }
   ],
   "source": [
    "a + b"
   ]
  },
  {
   "cell_type": "code",
   "execution_count": 45,
   "id": "13651eb3-30cb-49f8-8bf4-1b981db34e36",
   "metadata": {},
   "outputs": [
    {
     "data": {
      "text/plain": [
       "array([2, 4, 6, 8])"
      ]
     },
     "execution_count": 45,
     "metadata": {},
     "output_type": "execute_result"
    }
   ],
   "source": [
    "a"
   ]
  },
  {
   "cell_type": "code",
   "execution_count": 46,
   "id": "de5d54d7-f8af-4dc9-a942-06dd378433c9",
   "metadata": {},
   "outputs": [
    {
     "data": {
      "text/plain": [
       "numpy.ndarray"
      ]
     },
     "execution_count": 46,
     "metadata": {},
     "output_type": "execute_result"
    }
   ],
   "source": [
    "type(a)"
   ]
  },
  {
   "cell_type": "code",
   "execution_count": 47,
   "id": "07ec3d08-f58f-42d2-b22d-4f5e9c479320",
   "metadata": {},
   "outputs": [
    {
     "data": {
      "text/plain": [
       "4"
      ]
     },
     "execution_count": 47,
     "metadata": {},
     "output_type": "execute_result"
    }
   ],
   "source": [
    "len(a)"
   ]
  },
  {
   "cell_type": "code",
   "execution_count": 48,
   "id": "0352ae0e-48a1-4615-993a-9cb99c5848f5",
   "metadata": {},
   "outputs": [
    {
     "data": {
      "text/plain": [
       "dtype('int32')"
      ]
     },
     "execution_count": 48,
     "metadata": {},
     "output_type": "execute_result"
    }
   ],
   "source": [
    "a.dtype"
   ]
  },
  {
   "cell_type": "code",
   "execution_count": 49,
   "id": "fb3cea42-dada-4111-9c40-cc5dbfad2bea",
   "metadata": {},
   "outputs": [
    {
     "data": {
      "text/plain": [
       "[1, 3, True, 'hola', [2, 4]]"
      ]
     },
     "execution_count": 49,
     "metadata": {},
     "output_type": "execute_result"
    }
   ],
   "source": [
    "[1, 3, True, \"hola\", [2, 4]]"
   ]
  },
  {
   "cell_type": "code",
   "execution_count": 50,
   "id": "319b4209-8fc3-4f16-83a2-f9971cb5146e",
   "metadata": {},
   "outputs": [
    {
     "data": {
      "text/plain": [
       "array([2, 4, 6, 8])"
      ]
     },
     "execution_count": 50,
     "metadata": {},
     "output_type": "execute_result"
    }
   ],
   "source": [
    "a"
   ]
  },
  {
   "cell_type": "code",
   "execution_count": 51,
   "id": "6eb96258-4fc1-4362-9565-a72bb42fc1f6",
   "metadata": {},
   "outputs": [
    {
     "data": {
      "text/plain": [
       "1"
      ]
     },
     "execution_count": 51,
     "metadata": {},
     "output_type": "execute_result"
    }
   ],
   "source": [
    "a.ndim"
   ]
  },
  {
   "cell_type": "code",
   "execution_count": 52,
   "id": "1694a4de-1269-4012-bc9b-e32b44423d42",
   "metadata": {},
   "outputs": [
    {
     "data": {
      "text/plain": [
       "(4,)"
      ]
     },
     "execution_count": 52,
     "metadata": {},
     "output_type": "execute_result"
    }
   ],
   "source": [
    "a.shape"
   ]
  },
  {
   "cell_type": "markdown",
   "id": "597bc1c8-c97d-4dc8-972d-16f83f1002d4",
   "metadata": {},
   "source": [
    "1. Extraer datos de un array\n",
    "1. Aplicar funciones a un array"
   ]
  },
  {
   "cell_type": "code",
   "execution_count": 53,
   "id": "a53066b1-ec9f-4c00-a71d-1f795418e89e",
   "metadata": {},
   "outputs": [
    {
     "data": {
      "text/plain": [
       "array([[2, 4, 6],\n",
       "       [1, 2, 3]])"
      ]
     },
     "execution_count": 53,
     "metadata": {},
     "output_type": "execute_result"
    }
   ],
   "source": [
    "b = np.array([[2, 4, 6], [1, 2, 3]])\n",
    "b"
   ]
  },
  {
   "cell_type": "code",
   "execution_count": 54,
   "id": "aef52199-4294-4902-8438-7a051242b3c3",
   "metadata": {},
   "outputs": [
    {
     "data": {
      "text/plain": [
       "dtype('int32')"
      ]
     },
     "execution_count": 54,
     "metadata": {},
     "output_type": "execute_result"
    }
   ],
   "source": [
    "b.dtype"
   ]
  },
  {
   "cell_type": "code",
   "execution_count": 55,
   "id": "a229febf-5680-42be-98f5-f89716d3c3c8",
   "metadata": {},
   "outputs": [
    {
     "data": {
      "text/plain": [
       "2"
      ]
     },
     "execution_count": 55,
     "metadata": {},
     "output_type": "execute_result"
    }
   ],
   "source": [
    "b.ndim"
   ]
  },
  {
   "cell_type": "code",
   "execution_count": 56,
   "id": "14fcc3c7-3602-4118-8ef4-05910afeb8ef",
   "metadata": {},
   "outputs": [
    {
     "data": {
      "text/plain": [
       "(2, 3)"
      ]
     },
     "execution_count": 56,
     "metadata": {},
     "output_type": "execute_result"
    }
   ],
   "source": [
    "b.shape"
   ]
  },
  {
   "cell_type": "code",
   "execution_count": 57,
   "id": "6cdf6578-f3f6-42d8-9449-6bb5c3b8a603",
   "metadata": {},
   "outputs": [
    {
     "data": {
      "text/plain": [
       "array([2, 3, 4, 5, 6])"
      ]
     },
     "execution_count": 57,
     "metadata": {},
     "output_type": "execute_result"
    }
   ],
   "source": [
    "np.arange(2, 7)"
   ]
  },
  {
   "cell_type": "code",
   "execution_count": 58,
   "id": "f1c3cf65-5371-4259-8716-3a4e031a317c",
   "metadata": {},
   "outputs": [
    {
     "data": {
      "text/plain": [
       "array([0, 1, 2, 3, 4, 5, 6])"
      ]
     },
     "execution_count": 58,
     "metadata": {},
     "output_type": "execute_result"
    }
   ],
   "source": [
    "np.arange(7)"
   ]
  },
  {
   "cell_type": "code",
   "execution_count": 59,
   "id": "0f08e933-a86d-4df9-90e9-ce4109459639",
   "metadata": {},
   "outputs": [
    {
     "data": {
      "text/plain": [
       "array([10, 13, 16, 19, 22])"
      ]
     },
     "execution_count": 59,
     "metadata": {},
     "output_type": "execute_result"
    }
   ],
   "source": [
    "np.arange(10, 24, 3)"
   ]
  },
  {
   "cell_type": "code",
   "execution_count": 60,
   "id": "b9d21fc8-5692-4704-b506-d8c353815b1b",
   "metadata": {},
   "outputs": [
    {
     "data": {
      "text/plain": [
       "array([10., 12., 14., 16., 18., 20.])"
      ]
     },
     "execution_count": 60,
     "metadata": {},
     "output_type": "execute_result"
    }
   ],
   "source": [
    "np.linspace(10, 20, 6)"
   ]
  },
  {
   "cell_type": "code",
   "execution_count": 61,
   "id": "1eb1a9ed-bc66-4d52-b471-4f234af0c9f2",
   "metadata": {},
   "outputs": [
    {
     "data": {
      "text/plain": [
       "array([10.   , 10.625, 11.25 , 11.875, 12.5  , 13.125, 13.75 , 14.375,\n",
       "       15.   , 15.625, 16.25 , 16.875, 17.5  , 18.125, 18.75 , 19.375,\n",
       "       20.   ])"
      ]
     },
     "execution_count": 61,
     "metadata": {},
     "output_type": "execute_result"
    }
   ],
   "source": [
    "np.linspace(10, 20, 17)"
   ]
  },
  {
   "cell_type": "code",
   "execution_count": 62,
   "id": "cf54f1eb-16d5-475f-a627-8181cecf606b",
   "metadata": {},
   "outputs": [
    {
     "name": "stdout",
     "output_type": "stream",
     "text": [
      "['BPF', 'LOG4', 'NV_MAGICCONST', 'RECIP_BPF', 'Random', 'SG_MAGICCONST', 'SystemRandom', 'TWOPI', 'betavariate', 'choice', 'choices', 'expovariate', 'gammavariate', 'gauss', 'getrandbits', 'getstate', 'lognormvariate', 'normalvariate', 'paretovariate', 'randbytes', 'randint', 'random', 'randrange', 'sample', 'seed', 'setstate', 'shuffle', 'triangular', 'uniform', 'vonmisesvariate', 'weibullvariate']\n"
     ]
    }
   ],
   "source": [
    "names(random)"
   ]
  },
  {
   "cell_type": "code",
   "execution_count": 63,
   "id": "fc5d3a97-1eed-4404-870f-aa7e386e71ec",
   "metadata": {},
   "outputs": [
    {
     "name": "stdout",
     "output_type": "stream",
     "text": [
      "['BitGenerator', 'Generator', 'MT19937', 'PCG64', 'PCG64DXSM', 'Philox', 'RandomState', 'SFC64', 'SeedSequence', 'beta', 'binomial', 'bit_generator', 'bytes', 'chisquare', 'choice', 'default_rng', 'dirichlet', 'exponential', 'f', 'gamma', 'geometric', 'get_bit_generator', 'get_state', 'gumbel', 'hypergeometric', 'laplace', 'logistic', 'lognormal', 'logseries', 'mtrand', 'multinomial', 'multivariate_normal', 'negative_binomial', 'noncentral_chisquare', 'noncentral_f', 'normal', 'pareto', 'permutation', 'poisson', 'power', 'rand', 'randint', 'randn', 'random', 'random_integers', 'random_sample', 'ranf', 'rayleigh', 'sample', 'seed', 'set_bit_generator', 'set_state', 'shuffle', 'standard_cauchy', 'standard_exponential', 'standard_gamma', 'standard_normal', 'standard_t', 'test', 'triangular', 'uniform', 'vonmises', 'wald', 'weibull', 'zipf']\n"
     ]
    }
   ],
   "source": [
    "names(np.random)"
   ]
  },
  {
   "cell_type": "code",
   "execution_count": 64,
   "id": "e37c4f28-b457-4ca6-b927-2ccb18a2b786",
   "metadata": {},
   "outputs": [
    {
     "data": {
      "text/plain": [
       "7"
      ]
     },
     "execution_count": 64,
     "metadata": {},
     "output_type": "execute_result"
    }
   ],
   "source": [
    "np.random.randint(4, 14)"
   ]
  },
  {
   "cell_type": "code",
   "execution_count": 65,
   "id": "472ce1f4-cfeb-463c-ab76-68c70a3b55be",
   "metadata": {},
   "outputs": [
    {
     "data": {
      "text/plain": [
       "array([11, 10, 12,  9, 12, 10, 13])"
      ]
     },
     "execution_count": 65,
     "metadata": {},
     "output_type": "execute_result"
    }
   ],
   "source": [
    "np.random.randint(4, 14, size = 7)"
   ]
  },
  {
   "cell_type": "code",
   "execution_count": 66,
   "id": "235b890a-7b6e-487b-b148-05ab6e877eba",
   "metadata": {},
   "outputs": [
    {
     "data": {
      "text/plain": [
       "array([[ 6,  9,  8, 13, 12],\n",
       "       [ 6, 12,  5,  8,  9],\n",
       "       [13, 10,  8,  7, 11]])"
      ]
     },
     "execution_count": 66,
     "metadata": {},
     "output_type": "execute_result"
    }
   ],
   "source": [
    "np.random.randint(4, 14, size = (3, 5))"
   ]
  },
  {
   "cell_type": "code",
   "execution_count": 67,
   "id": "08b8189a-549b-457d-b2f6-f94102d4e846",
   "metadata": {},
   "outputs": [
    {
     "data": {
      "text/plain": [
       "array([[[ 9,  5],\n",
       "        [ 7,  7],\n",
       "        [ 8, 11],\n",
       "        [11, 10]],\n",
       "\n",
       "       [[ 7, 10],\n",
       "        [ 9, 11],\n",
       "        [ 6,  4],\n",
       "        [ 9,  4]],\n",
       "\n",
       "       [[ 4,  8],\n",
       "        [11,  9],\n",
       "        [13,  9],\n",
       "        [ 4, 12]]])"
      ]
     },
     "execution_count": 67,
     "metadata": {},
     "output_type": "execute_result"
    }
   ],
   "source": [
    "np.random.randint(4, 14, size = (3, 4, 2))"
   ]
  },
  {
   "cell_type": "code",
   "execution_count": 68,
   "id": "ce4c6536-1b99-4fbe-9655-79c0c06ee811",
   "metadata": {},
   "outputs": [
    {
     "data": {
      "text/plain": [
       "array([0.37398219, 0.83503414, 0.30266013, 0.81662182])"
      ]
     },
     "execution_count": 68,
     "metadata": {},
     "output_type": "execute_result"
    }
   ],
   "source": [
    "np.random.random(size = 4)"
   ]
  },
  {
   "cell_type": "code",
   "execution_count": 69,
   "id": "58101eb9-5b0a-4b18-ac5f-06dceddae1e0",
   "metadata": {},
   "outputs": [
    {
     "data": {
      "text/plain": [
       "array([[0.88994139, 0.61731379, 0.15118509],\n",
       "       [0.99199064, 0.10915837, 0.25632719],\n",
       "       [0.52119839, 0.19961177, 0.38886638],\n",
       "       [0.19326397, 0.35486097, 0.88041551],\n",
       "       [0.44551715, 0.19727   , 0.86192378]])"
      ]
     },
     "execution_count": 69,
     "metadata": {},
     "output_type": "execute_result"
    }
   ],
   "source": [
    "np.random.random(size = (5, 3))"
   ]
  },
  {
   "cell_type": "code",
   "execution_count": 70,
   "id": "e4f14457-e7fb-4d5d-a34d-6cc58ef3d9b5",
   "metadata": {},
   "outputs": [
    {
     "data": {
      "text/plain": [
       "array([ 0,  1,  2,  3,  4,  5,  6,  7,  8,  9, 10, 11, 12, 13, 14, 15, 16,\n",
       "       17, 18, 19, 20, 21, 22, 23])"
      ]
     },
     "execution_count": 70,
     "metadata": {},
     "output_type": "execute_result"
    }
   ],
   "source": [
    "a = np.arange(24)\n",
    "a"
   ]
  },
  {
   "cell_type": "code",
   "execution_count": 71,
   "id": "8cf8a149-a5a4-4aaa-b4cb-dc8e173f6ba7",
   "metadata": {},
   "outputs": [
    {
     "data": {
      "text/plain": [
       "(24,)"
      ]
     },
     "execution_count": 71,
     "metadata": {},
     "output_type": "execute_result"
    }
   ],
   "source": [
    "a.shape"
   ]
  },
  {
   "cell_type": "code",
   "execution_count": 72,
   "id": "fedf9429-03b6-4c39-9217-b33672c06a54",
   "metadata": {},
   "outputs": [
    {
     "data": {
      "text/plain": [
       "array([[ 0,  1,  2,  3,  4,  5],\n",
       "       [ 6,  7,  8,  9, 10, 11],\n",
       "       [12, 13, 14, 15, 16, 17],\n",
       "       [18, 19, 20, 21, 22, 23]])"
      ]
     },
     "execution_count": 72,
     "metadata": {},
     "output_type": "execute_result"
    }
   ],
   "source": [
    "a.reshape((4, 6))"
   ]
  },
  {
   "cell_type": "code",
   "execution_count": 73,
   "id": "68aea18c-f5c6-490b-b82c-16064900694a",
   "metadata": {},
   "outputs": [
    {
     "data": {
      "text/plain": [
       "array([ 0,  1,  2,  3,  4,  5,  6,  7,  8,  9, 10, 11, 12, 13, 14, 15, 16,\n",
       "       17, 18, 19, 20, 21, 22, 23])"
      ]
     },
     "execution_count": 73,
     "metadata": {},
     "output_type": "execute_result"
    }
   ],
   "source": [
    "a"
   ]
  },
  {
   "cell_type": "code",
   "execution_count": 74,
   "id": "95bec776-4d47-45f2-b29d-fdf21f44a299",
   "metadata": {},
   "outputs": [],
   "source": [
    "#a.reshape((3, 17))"
   ]
  },
  {
   "cell_type": "code",
   "execution_count": 75,
   "id": "40869e64-88de-42fe-8796-05ebdb78bc91",
   "metadata": {},
   "outputs": [
    {
     "data": {
      "text/plain": [
       "array([[ 0],\n",
       "       [ 1],\n",
       "       [ 2],\n",
       "       [ 3],\n",
       "       [ 4],\n",
       "       [ 5],\n",
       "       [ 6],\n",
       "       [ 7],\n",
       "       [ 8],\n",
       "       [ 9],\n",
       "       [10],\n",
       "       [11],\n",
       "       [12],\n",
       "       [13],\n",
       "       [14],\n",
       "       [15],\n",
       "       [16],\n",
       "       [17],\n",
       "       [18],\n",
       "       [19],\n",
       "       [20],\n",
       "       [21],\n",
       "       [22],\n",
       "       [23]])"
      ]
     },
     "execution_count": 75,
     "metadata": {},
     "output_type": "execute_result"
    }
   ],
   "source": [
    "np.reshape(a, newshape = (24, 1))"
   ]
  },
  {
   "cell_type": "code",
   "execution_count": 76,
   "id": "858c50c7-ec3e-4ed3-a103-b1a1758a5a6a",
   "metadata": {},
   "outputs": [
    {
     "data": {
      "text/plain": [
       "array([ 0,  1,  2,  3,  4,  5,  6,  7,  8,  9, 10, 11, 12, 13, 14, 15, 16,\n",
       "       17, 18, 19, 20, 21, 22, 23])"
      ]
     },
     "execution_count": 76,
     "metadata": {},
     "output_type": "execute_result"
    }
   ],
   "source": [
    "a"
   ]
  },
  {
   "cell_type": "code",
   "execution_count": 77,
   "id": "74f3f7c5-9a99-4c71-a49b-4c4b837b730a",
   "metadata": {},
   "outputs": [
    {
     "data": {
      "text/plain": [
       "array([[ 0,  1,  2,  3,  4,  5,  6,  7,  8,  9, 10, 11, 12, 13, 14, 15,\n",
       "        16, 17, 18, 19, 20, 21, 22, 23]])"
      ]
     },
     "execution_count": 77,
     "metadata": {},
     "output_type": "execute_result"
    }
   ],
   "source": [
    "a.reshape((1, 24))"
   ]
  },
  {
   "cell_type": "code",
   "execution_count": 78,
   "id": "f678ad4a-8cfe-4da9-b380-b4169a39a903",
   "metadata": {},
   "outputs": [],
   "source": [
    "a = np.arange(4)"
   ]
  },
  {
   "cell_type": "code",
   "execution_count": 79,
   "id": "be1de0a9-cfa9-4466-af63-bc1e9b677ec6",
   "metadata": {},
   "outputs": [
    {
     "data": {
      "text/plain": [
       "array([0, 1, 2, 3])"
      ]
     },
     "execution_count": 79,
     "metadata": {},
     "output_type": "execute_result"
    }
   ],
   "source": [
    "a"
   ]
  },
  {
   "cell_type": "code",
   "execution_count": 80,
   "id": "3f5d2d43-d57e-4c17-b8ae-b396e949318f",
   "metadata": {},
   "outputs": [
    {
     "data": {
      "text/plain": [
       "array([[0, 1, 2, 3]])"
      ]
     },
     "execution_count": 80,
     "metadata": {},
     "output_type": "execute_result"
    }
   ],
   "source": [
    "b = a.reshape(1, 4)\n",
    "b"
   ]
  },
  {
   "cell_type": "code",
   "execution_count": 81,
   "id": "e04abefa-0804-49a3-bd13-7415e4114632",
   "metadata": {},
   "outputs": [
    {
     "data": {
      "text/plain": [
       "1"
      ]
     },
     "execution_count": 81,
     "metadata": {},
     "output_type": "execute_result"
    }
   ],
   "source": [
    "a.ndim"
   ]
  },
  {
   "cell_type": "code",
   "execution_count": 82,
   "id": "c15bc673-0a2b-4868-bc36-6308be2f9e23",
   "metadata": {},
   "outputs": [
    {
     "data": {
      "text/plain": [
       "2"
      ]
     },
     "execution_count": 82,
     "metadata": {},
     "output_type": "execute_result"
    }
   ],
   "source": [
    "b.ndim"
   ]
  },
  {
   "cell_type": "code",
   "execution_count": 83,
   "id": "227d9b7f-8726-4f5b-8e2c-ab928048e228",
   "metadata": {},
   "outputs": [
    {
     "data": {
      "text/plain": [
       "(4,)"
      ]
     },
     "execution_count": 83,
     "metadata": {},
     "output_type": "execute_result"
    }
   ],
   "source": [
    "a.shape"
   ]
  },
  {
   "cell_type": "code",
   "execution_count": 84,
   "id": "30681749-355b-439b-bac0-447bd11d03b2",
   "metadata": {},
   "outputs": [
    {
     "data": {
      "text/plain": [
       "(1, 4)"
      ]
     },
     "execution_count": 84,
     "metadata": {},
     "output_type": "execute_result"
    }
   ],
   "source": [
    "b.shape"
   ]
  },
  {
   "cell_type": "code",
   "execution_count": 85,
   "id": "5f4d5865-a91a-4ff3-9d74-dc5d6cf36998",
   "metadata": {},
   "outputs": [
    {
     "data": {
      "text/plain": [
       "array([ 0,  1,  2,  3,  4,  5,  6,  7,  8,  9, 10, 11, 12, 13, 14, 15, 16,\n",
       "       17, 18, 19, 20, 21, 22, 23])"
      ]
     },
     "execution_count": 85,
     "metadata": {},
     "output_type": "execute_result"
    }
   ],
   "source": [
    "a = np.arange(24)\n",
    "a"
   ]
  },
  {
   "cell_type": "code",
   "execution_count": 86,
   "id": "f686812a-22c4-43b6-9ecd-0daf87377f14",
   "metadata": {},
   "outputs": [
    {
     "data": {
      "text/plain": [
       "array([[ 0,  1,  2,  3,  4,  5,  6,  7,  8,  9, 10, 11, 12, 13, 14, 15,\n",
       "        16, 17, 18, 19, 20, 21, 22, 23]])"
      ]
     },
     "execution_count": 86,
     "metadata": {},
     "output_type": "execute_result"
    }
   ],
   "source": [
    "a.reshape((1, 24))"
   ]
  },
  {
   "cell_type": "code",
   "execution_count": 87,
   "id": "918d5857-a4b1-4345-b9e9-4e7daaadd6c4",
   "metadata": {},
   "outputs": [
    {
     "data": {
      "text/plain": [
       "array([[ 0],\n",
       "       [ 1],\n",
       "       [ 2],\n",
       "       [ 3],\n",
       "       [ 4],\n",
       "       [ 5],\n",
       "       [ 6],\n",
       "       [ 7],\n",
       "       [ 8],\n",
       "       [ 9],\n",
       "       [10],\n",
       "       [11],\n",
       "       [12],\n",
       "       [13],\n",
       "       [14],\n",
       "       [15],\n",
       "       [16],\n",
       "       [17],\n",
       "       [18],\n",
       "       [19],\n",
       "       [20],\n",
       "       [21],\n",
       "       [22],\n",
       "       [23]])"
      ]
     },
     "execution_count": 87,
     "metadata": {},
     "output_type": "execute_result"
    }
   ],
   "source": [
    "a.reshape((24, 1))"
   ]
  },
  {
   "cell_type": "code",
   "execution_count": 88,
   "id": "3d5bd27e-8c81-499e-bebf-4a26a6dc920a",
   "metadata": {},
   "outputs": [
    {
     "data": {
      "text/plain": [
       "array([ 0,  1,  2,  3,  4,  5,  6,  7,  8,  9, 10, 11, 12, 13, 14, 15, 16,\n",
       "       17, 18, 19, 20, 21, 22, 23])"
      ]
     },
     "execution_count": 88,
     "metadata": {},
     "output_type": "execute_result"
    }
   ],
   "source": [
    "a"
   ]
  },
  {
   "cell_type": "code",
   "execution_count": 89,
   "id": "e08b854c-ce8e-4817-8237-24e0c27a6c71",
   "metadata": {},
   "outputs": [
    {
     "data": {
      "text/plain": [
       "array([[[ 0],\n",
       "        [ 1],\n",
       "        [ 2],\n",
       "        [ 3],\n",
       "        [ 4],\n",
       "        [ 5],\n",
       "        [ 6],\n",
       "        [ 7],\n",
       "        [ 8],\n",
       "        [ 9],\n",
       "        [10],\n",
       "        [11],\n",
       "        [12],\n",
       "        [13],\n",
       "        [14],\n",
       "        [15],\n",
       "        [16],\n",
       "        [17],\n",
       "        [18],\n",
       "        [19],\n",
       "        [20],\n",
       "        [21],\n",
       "        [22],\n",
       "        [23]]])"
      ]
     },
     "execution_count": 89,
     "metadata": {},
     "output_type": "execute_result"
    }
   ],
   "source": [
    "a.reshape(1, 24, 1)"
   ]
  },
  {
   "cell_type": "markdown",
   "id": "2610f408-26eb-4f71-8d95-8ac48684a966",
   "metadata": {},
   "source": [
    "# Selección de valores"
   ]
  },
  {
   "cell_type": "code",
   "execution_count": 90,
   "id": "6d8cd1f6-d678-4019-902b-036e57bafbfb",
   "metadata": {},
   "outputs": [
    {
     "data": {
      "text/plain": [
       "array([10, 11, 12, 13, 14, 15])"
      ]
     },
     "execution_count": 90,
     "metadata": {},
     "output_type": "execute_result"
    }
   ],
   "source": [
    "a = np.arange(10, 16)\n",
    "a"
   ]
  },
  {
   "cell_type": "code",
   "execution_count": 91,
   "id": "8bd43f4d-ca72-41ab-a963-eb33be5a0635",
   "metadata": {},
   "outputs": [
    {
     "data": {
      "text/plain": [
       "10"
      ]
     },
     "execution_count": 91,
     "metadata": {},
     "output_type": "execute_result"
    }
   ],
   "source": [
    "a[0]"
   ]
  },
  {
   "cell_type": "code",
   "execution_count": 92,
   "id": "ff350fec-f1c4-475e-ad1c-b7df981ec5db",
   "metadata": {},
   "outputs": [
    {
     "data": {
      "text/plain": [
       "15"
      ]
     },
     "execution_count": 92,
     "metadata": {},
     "output_type": "execute_result"
    }
   ],
   "source": [
    "a[5]"
   ]
  },
  {
   "cell_type": "code",
   "execution_count": 93,
   "id": "26b160f4-f75a-4d6a-ba8c-1be4fb9f002f",
   "metadata": {},
   "outputs": [
    {
     "data": {
      "text/plain": [
       "15"
      ]
     },
     "execution_count": 93,
     "metadata": {},
     "output_type": "execute_result"
    }
   ],
   "source": [
    "a[-1]"
   ]
  },
  {
   "cell_type": "code",
   "execution_count": 94,
   "id": "ae4adb6b-da0b-4c00-a524-7898c9a09e96",
   "metadata": {},
   "outputs": [
    {
     "data": {
      "text/plain": [
       "array([12, 13])"
      ]
     },
     "execution_count": 94,
     "metadata": {},
     "output_type": "execute_result"
    }
   ],
   "source": [
    "a[2:4]"
   ]
  },
  {
   "cell_type": "code",
   "execution_count": 95,
   "id": "c8510a89-91ca-4be7-9a68-19099fda1e3c",
   "metadata": {},
   "outputs": [
    {
     "data": {
      "text/plain": [
       "array([12, 13])"
      ]
     },
     "execution_count": 95,
     "metadata": {},
     "output_type": "execute_result"
    }
   ],
   "source": [
    "a[-4:4]"
   ]
  },
  {
   "cell_type": "code",
   "execution_count": 96,
   "id": "48e25663-1419-4c2b-94b2-7b4749dbbe46",
   "metadata": {},
   "outputs": [
    {
     "data": {
      "text/plain": [
       "array([], dtype=int32)"
      ]
     },
     "execution_count": 96,
     "metadata": {},
     "output_type": "execute_result"
    }
   ],
   "source": [
    "a[4:2]"
   ]
  },
  {
   "cell_type": "code",
   "execution_count": 97,
   "id": "346613f8-48b3-4c1e-be9a-00088a4c23d3",
   "metadata": {},
   "outputs": [
    {
     "data": {
      "text/plain": [
       "array([0, 1, 2, 3, 4, 5, 6, 7, 8, 9])"
      ]
     },
     "execution_count": 97,
     "metadata": {},
     "output_type": "execute_result"
    }
   ],
   "source": [
    "a = np.arange(10)\n",
    "a"
   ]
  },
  {
   "cell_type": "code",
   "execution_count": 98,
   "id": "f506b721-ec10-4451-8312-884f4aadc5d2",
   "metadata": {},
   "outputs": [
    {
     "data": {
      "text/plain": [
       "array([7, 6, 5, 4, 3])"
      ]
     },
     "execution_count": 98,
     "metadata": {},
     "output_type": "execute_result"
    }
   ],
   "source": [
    "a[7:2:-1]"
   ]
  },
  {
   "cell_type": "code",
   "execution_count": 99,
   "id": "d5543c3b-2194-4cba-a0f0-e2fdf2095af5",
   "metadata": {},
   "outputs": [
    {
     "data": {
      "text/plain": [
       "array([[10, 11, 12, 13],\n",
       "       [14, 15, 16, 17],\n",
       "       [18, 19, 20, 21]])"
      ]
     },
     "execution_count": 99,
     "metadata": {},
     "output_type": "execute_result"
    }
   ],
   "source": [
    "a = np.arange(10, 22).reshape(3, 4)\n",
    "a"
   ]
  },
  {
   "cell_type": "code",
   "execution_count": 100,
   "id": "cf5d72e9-9a60-4ce0-93ae-09614e000094",
   "metadata": {},
   "outputs": [
    {
     "data": {
      "text/plain": [
       "19"
      ]
     },
     "execution_count": 100,
     "metadata": {},
     "output_type": "execute_result"
    }
   ],
   "source": [
    "a[2, 1]"
   ]
  },
  {
   "cell_type": "code",
   "execution_count": 101,
   "id": "678c2d16-b8f0-4fc8-8c96-4c8e8d56af52",
   "metadata": {},
   "outputs": [
    {
     "data": {
      "text/plain": [
       "[0, 1, 2, 3, 4, 5, 6, 7, 8, 9]"
      ]
     },
     "execution_count": 101,
     "metadata": {},
     "output_type": "execute_result"
    }
   ],
   "source": [
    "b = list(range(10))\n",
    "b"
   ]
  },
  {
   "cell_type": "code",
   "execution_count": 102,
   "id": "21e4cf3d-d222-4db5-a107-24414267f05a",
   "metadata": {},
   "outputs": [
    {
     "data": {
      "text/plain": [
       "[2, 3, 4]"
      ]
     },
     "execution_count": 102,
     "metadata": {},
     "output_type": "execute_result"
    }
   ],
   "source": [
    "b[2:5]"
   ]
  },
  {
   "cell_type": "code",
   "execution_count": 103,
   "id": "dee360b2-ecc2-420f-969e-f7968d1f367b",
   "metadata": {},
   "outputs": [
    {
     "data": {
      "text/plain": [
       "[2, 3, 4, 5, 6, 7, 8, 9]"
      ]
     },
     "execution_count": 103,
     "metadata": {},
     "output_type": "execute_result"
    }
   ],
   "source": [
    "b[2:]"
   ]
  },
  {
   "cell_type": "code",
   "execution_count": 104,
   "id": "cbc69312-744b-4ed9-8cda-b2fa22468b11",
   "metadata": {},
   "outputs": [
    {
     "data": {
      "text/plain": [
       "[0, 1, 2, 3]"
      ]
     },
     "execution_count": 104,
     "metadata": {},
     "output_type": "execute_result"
    }
   ],
   "source": [
    "b[:4]"
   ]
  },
  {
   "cell_type": "code",
   "execution_count": 105,
   "id": "8bdadc9d-41d1-4641-9763-1ec26886a255",
   "metadata": {},
   "outputs": [
    {
     "data": {
      "text/plain": [
       "[0, 1, 2, 3, 4, 5, 6, 7, 8, 9]"
      ]
     },
     "execution_count": 105,
     "metadata": {},
     "output_type": "execute_result"
    }
   ],
   "source": [
    "b[:]"
   ]
  },
  {
   "cell_type": "code",
   "execution_count": 106,
   "id": "47d36495-9615-4de8-8524-7b8c790c163b",
   "metadata": {},
   "outputs": [
    {
     "data": {
      "text/plain": [
       "array([[10, 11, 12, 13],\n",
       "       [14, 15, 16, 17],\n",
       "       [18, 19, 20, 21]])"
      ]
     },
     "execution_count": 106,
     "metadata": {},
     "output_type": "execute_result"
    }
   ],
   "source": [
    "a"
   ]
  },
  {
   "cell_type": "code",
   "execution_count": 107,
   "id": "704784c2-08a7-4434-a381-1925a60d9ed6",
   "metadata": {},
   "outputs": [
    {
     "data": {
      "text/plain": [
       "array([18, 19, 20, 21])"
      ]
     },
     "execution_count": 107,
     "metadata": {},
     "output_type": "execute_result"
    }
   ],
   "source": [
    "a[-1]   # Equivalente a a[-1, :] solo por los \":\" están a la derecha"
   ]
  },
  {
   "cell_type": "code",
   "execution_count": 108,
   "id": "1237c2c9-2c54-4c44-ab33-90dba80e6c51",
   "metadata": {},
   "outputs": [
    {
     "data": {
      "text/plain": [
       "array([10, 11, 12, 13])"
      ]
     },
     "execution_count": 108,
     "metadata": {},
     "output_type": "execute_result"
    }
   ],
   "source": [
    "a[0, :]"
   ]
  }
 ],
 "metadata": {
  "kernelspec": {
   "display_name": "Python 3 (ipykernel)",
   "language": "python",
   "name": "python3"
  },
  "language_info": {
   "codemirror_mode": {
    "name": "ipython",
    "version": 3
   },
   "file_extension": ".py",
   "mimetype": "text/x-python",
   "name": "python",
   "nbconvert_exporter": "python",
   "pygments_lexer": "ipython3",
   "version": "3.11.7"
  }
 },
 "nbformat": 4,
 "nbformat_minor": 5
}
