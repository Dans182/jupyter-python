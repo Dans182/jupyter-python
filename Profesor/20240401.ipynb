{
 "cells": [
  {
   "cell_type": "code",
   "execution_count": 1,
   "id": "06890161-26ae-479c-96d8-716770cf1725",
   "metadata": {},
   "outputs": [],
   "source": [
    "a = 5\n",
    "b = 7"
   ]
  },
  {
   "cell_type": "code",
   "execution_count": 2,
   "id": "5455956e-d0ba-4ee0-9d83-5e3081e30ac4",
   "metadata": {},
   "outputs": [
    {
     "data": {
      "text/plain": [
       "int"
      ]
     },
     "execution_count": 2,
     "metadata": {},
     "output_type": "execute_result"
    }
   ],
   "source": [
    "type(a)"
   ]
  },
  {
   "cell_type": "code",
   "execution_count": 3,
   "id": "c0343d42-1763-437c-a437-397a9cf5aed5",
   "metadata": {},
   "outputs": [
    {
     "data": {
      "text/plain": [
       "int"
      ]
     },
     "execution_count": 3,
     "metadata": {},
     "output_type": "execute_result"
    }
   ],
   "source": [
    "type(b)"
   ]
  },
  {
   "cell_type": "code",
   "execution_count": 4,
   "id": "21c928e0-2b05-4633-bc16-04d8704e898b",
   "metadata": {},
   "outputs": [
    {
     "data": {
      "text/plain": [
       "int"
      ]
     },
     "execution_count": 4,
     "metadata": {},
     "output_type": "execute_result"
    }
   ],
   "source": [
    "type(8)"
   ]
  },
  {
   "cell_type": "code",
   "execution_count": 5,
   "id": "336778df-195a-4520-b7b5-5d3dd9495da6",
   "metadata": {},
   "outputs": [
    {
     "data": {
      "text/plain": [
       "str"
      ]
     },
     "execution_count": 5,
     "metadata": {},
     "output_type": "execute_result"
    }
   ],
   "source": [
    "type(\"python\")"
   ]
  },
  {
   "cell_type": "code",
   "execution_count": 6,
   "id": "407a762a-4a31-45e1-846e-908b8ec3f338",
   "metadata": {},
   "outputs": [
    {
     "data": {
      "text/plain": [
       "float"
      ]
     },
     "execution_count": 6,
     "metadata": {},
     "output_type": "execute_result"
    }
   ],
   "source": [
    "type(3.1415)"
   ]
  },
  {
   "cell_type": "code",
   "execution_count": 7,
   "id": "b5b8bb27-6392-46f1-891f-6e0d987b8414",
   "metadata": {},
   "outputs": [
    {
     "name": "stdout",
     "output_type": "stream",
     "text": [
      "5\n"
     ]
    }
   ],
   "source": [
    "print(a)"
   ]
  },
  {
   "cell_type": "code",
   "execution_count": 8,
   "id": "c6c3dd22-bd72-4fa5-ba77-59d07747ee88",
   "metadata": {},
   "outputs": [
    {
     "name": "stdout",
     "output_type": "stream",
     "text": [
      "5 7\n"
     ]
    }
   ],
   "source": [
    "print(a, b)"
   ]
  },
  {
   "cell_type": "code",
   "execution_count": 9,
   "id": "5de5a10f-33a3-4d0d-8e4b-75a039389537",
   "metadata": {},
   "outputs": [
    {
     "data": {
      "text/plain": [
       "5"
      ]
     },
     "execution_count": 9,
     "metadata": {},
     "output_type": "execute_result"
    }
   ],
   "source": [
    "a"
   ]
  },
  {
   "cell_type": "code",
   "execution_count": 10,
   "id": "cc3efd4d-cffb-49ec-857e-2f51c0493641",
   "metadata": {},
   "outputs": [
    {
     "data": {
      "text/plain": [
       "6"
      ]
     },
     "execution_count": 10,
     "metadata": {},
     "output_type": "execute_result"
    }
   ],
   "source": [
    "1 + 7 + a - b"
   ]
  },
  {
   "cell_type": "code",
   "execution_count": 11,
   "id": "0c72952f-6a8e-4f8e-aa77-b3afe82b6127",
   "metadata": {},
   "outputs": [
    {
     "name": "stdout",
     "output_type": "stream",
     "text": [
      "5\n"
     ]
    }
   ],
   "source": [
    "print(a)"
   ]
  },
  {
   "cell_type": "code",
   "execution_count": 12,
   "id": "e15be9de-e8eb-41aa-a8eb-b841e6b310fc",
   "metadata": {},
   "outputs": [
    {
     "name": "stdout",
     "output_type": "stream",
     "text": [
      "6\n"
     ]
    }
   ],
   "source": [
    "print(1 + 7 + a - b)"
   ]
  },
  {
   "cell_type": "code",
   "execution_count": 13,
   "id": "ef3e6a18-7189-411b-9d20-0d817e8dab23",
   "metadata": {},
   "outputs": [],
   "source": [
    "# print(1) + 2"
   ]
  },
  {
   "cell_type": "code",
   "execution_count": 14,
   "id": "20453793-278c-43db-a58d-0bc8389a05f3",
   "metadata": {},
   "outputs": [],
   "source": [
    "a = True"
   ]
  },
  {
   "cell_type": "code",
   "execution_count": 15,
   "id": "59c8687e-6634-4c16-9677-297303074bc4",
   "metadata": {},
   "outputs": [
    {
     "name": "stdout",
     "output_type": "stream",
     "text": [
      "True\n"
     ]
    }
   ],
   "source": [
    "print(a)"
   ]
  },
  {
   "cell_type": "code",
   "execution_count": 16,
   "id": "8a8e7501-2a03-4a24-a1d3-71732e366049",
   "metadata": {},
   "outputs": [
    {
     "data": {
      "text/plain": [
       "bool"
      ]
     },
     "execution_count": 16,
     "metadata": {},
     "output_type": "execute_result"
    }
   ],
   "source": [
    "type(a)"
   ]
  },
  {
   "cell_type": "code",
   "execution_count": 17,
   "id": "ea2f112d-ddbe-4f52-be0f-95690d820aac",
   "metadata": {},
   "outputs": [],
   "source": [
    "b = False"
   ]
  },
  {
   "cell_type": "code",
   "execution_count": 18,
   "id": "1be04e2d-a72f-40c8-9f49-650fb9eb92e6",
   "metadata": {},
   "outputs": [],
   "source": [
    "c = 5 -4j"
   ]
  },
  {
   "cell_type": "code",
   "execution_count": 19,
   "id": "808c3a23-f986-4144-8eef-ac3e9277daae",
   "metadata": {},
   "outputs": [],
   "source": [
    "# Listas, tuplas, conjuntos, diccionarios"
   ]
  },
  {
   "cell_type": "markdown",
   "id": "fa151abc-609c-4547-8b38-4063b3e7cce6",
   "metadata": {},
   "source": [
    "Lorem ipsum dolor sit amet, consectetur adipiscing elit. Etiam tincidunt velit eros, at pulvinar urna semper id. Phasellus lobortis quam ipsum, vel fermentum felis lacinia vitae. Sed facilisis augue ac massa laoreet, in blandit risus aliquam. Vestibulum tincidunt magna in dapibus bibendum. Class aptent taciti sociosqu ad litora torquent per conubia nostra, per inceptos himenaeos. Sed sit amet iaculis arcu. Sed vulputate enim urna, nec luctus enim porta in."
   ]
  },
  {
   "cell_type": "markdown",
   "id": "ca4cc81c-1924-4eb6-ba89-01c0002672ab",
   "metadata": {},
   "source": [
    "# Listas"
   ]
  },
  {
   "cell_type": "markdown",
   "id": "a30a8fd4-0f01-4896-8677-f46410e9d647",
   "metadata": {},
   "source": [
    "### Tuplas"
   ]
  },
  {
   "cell_type": "markdown",
   "id": "8f6a7235-7dab-4ba9-b33e-b8a65e60b5c7",
   "metadata": {},
   "source": [
    "###### Conjuntos"
   ]
  },
  {
   "cell_type": "markdown",
   "id": "be85ebb6-2915-402f-937e-839fcc8dff3a",
   "metadata": {},
   "source": [
    "## Diccionarios"
   ]
  },
  {
   "cell_type": "code",
   "execution_count": 20,
   "id": "840e1214-8b0b-402e-96f4-71606fc5d655",
   "metadata": {},
   "outputs": [
    {
     "name": "stdout",
     "output_type": "stream",
     "text": [
      "2 python True True\n"
     ]
    }
   ],
   "source": [
    "print(2, \"python\", a, True)"
   ]
  },
  {
   "cell_type": "code",
   "execution_count": 21,
   "id": "d12e8737-b965-43be-a27a-c009fed1dc64",
   "metadata": {},
   "outputs": [
    {
     "data": {
      "text/plain": [
       "bool"
      ]
     },
     "execution_count": 21,
     "metadata": {},
     "output_type": "execute_result"
    }
   ],
   "source": [
    "type(True)"
   ]
  },
  {
   "cell_type": "code",
   "execution_count": 22,
   "id": "5ef309fb-75b6-447e-b10b-5dabc82fcc55",
   "metadata": {},
   "outputs": [
    {
     "data": {
      "text/plain": [
       "int"
      ]
     },
     "execution_count": 22,
     "metadata": {},
     "output_type": "execute_result"
    }
   ],
   "source": [
    "type(2)"
   ]
  },
  {
   "cell_type": "markdown",
   "id": "65b91252-437a-4269-8adc-b9e6d3dfbc49",
   "metadata": {},
   "source": [
    "# Tipos simples"
   ]
  },
  {
   "cell_type": "code",
   "execution_count": 23,
   "id": "e76e8fd0-3bfe-4e89-9fef-d1de2b883662",
   "metadata": {},
   "outputs": [],
   "source": [
    "a = 1\n",
    "b = 3.14"
   ]
  },
  {
   "cell_type": "code",
   "execution_count": 24,
   "id": "13892c44-8941-4519-8aa9-4e59904f9f43",
   "metadata": {},
   "outputs": [
    {
     "data": {
      "text/plain": [
       "float"
      ]
     },
     "execution_count": 24,
     "metadata": {},
     "output_type": "execute_result"
    }
   ],
   "source": [
    "type(3.14)"
   ]
  },
  {
   "cell_type": "code",
   "execution_count": 25,
   "id": "11b782e6-7f25-4de6-a10c-3c41be023453",
   "metadata": {},
   "outputs": [
    {
     "data": {
      "text/plain": [
       "float"
      ]
     },
     "execution_count": 25,
     "metadata": {},
     "output_type": "execute_result"
    }
   ],
   "source": [
    "type(3.0)"
   ]
  },
  {
   "cell_type": "code",
   "execution_count": 26,
   "id": "b8fc363a-0c4e-47b5-b6e0-104386d01be0",
   "metadata": {},
   "outputs": [],
   "source": [
    "c = 4 + 7j\n",
    "d = True\n",
    "e = \"Python\""
   ]
  },
  {
   "cell_type": "markdown",
   "id": "0bbe8d50-8ef1-4cd6-941b-e9ce7474a590",
   "metadata": {},
   "source": [
    "# Tipos complejos"
   ]
  },
  {
   "cell_type": "markdown",
   "id": "93a80a9b-48c7-49a8-b37f-77180e676004",
   "metadata": {},
   "source": [
    "### Listas"
   ]
  },
  {
   "cell_type": "code",
   "execution_count": 27,
   "id": "c38ab224-aa82-4564-b243-2b1da11ae7bb",
   "metadata": {},
   "outputs": [],
   "source": [
    "f = [2, 5, True, \"python\", 3.1415]"
   ]
  },
  {
   "cell_type": "code",
   "execution_count": 28,
   "id": "7bdead15-d242-4061-b4ae-4b2fd639cc9d",
   "metadata": {},
   "outputs": [
    {
     "name": "stdout",
     "output_type": "stream",
     "text": [
      "[2, 5, True, 'python', 3.1415]\n"
     ]
    }
   ],
   "source": [
    "print(f)"
   ]
  },
  {
   "cell_type": "code",
   "execution_count": 29,
   "id": "bdd2e112-abba-42fe-99d6-0c1468137ba1",
   "metadata": {},
   "outputs": [
    {
     "data": {
      "text/plain": [
       "[2, 5, True, 'python', 3.1415]"
      ]
     },
     "execution_count": 29,
     "metadata": {},
     "output_type": "execute_result"
    }
   ],
   "source": [
    "f"
   ]
  },
  {
   "cell_type": "code",
   "execution_count": 30,
   "id": "37fb2fd2-b75b-429a-b988-93920336fac5",
   "metadata": {},
   "outputs": [
    {
     "data": {
      "text/plain": [
       "list"
      ]
     },
     "execution_count": 30,
     "metadata": {},
     "output_type": "execute_result"
    }
   ],
   "source": [
    "type(f)"
   ]
  },
  {
   "cell_type": "code",
   "execution_count": 31,
   "id": "f8bc6d1b-803b-4203-bc88-2c425245804f",
   "metadata": {},
   "outputs": [
    {
     "data": {
      "text/plain": [
       "2"
      ]
     },
     "execution_count": 31,
     "metadata": {},
     "output_type": "execute_result"
    }
   ],
   "source": [
    "f[0]"
   ]
  },
  {
   "cell_type": "code",
   "execution_count": 32,
   "id": "4e550888-0afe-41d8-bfe1-937af7fc7fe9",
   "metadata": {},
   "outputs": [
    {
     "data": {
      "text/plain": [
       "3.1415"
      ]
     },
     "execution_count": 32,
     "metadata": {},
     "output_type": "execute_result"
    }
   ],
   "source": [
    "f[4]"
   ]
  },
  {
   "cell_type": "code",
   "execution_count": 33,
   "id": "632bfdf3-6479-48c1-8b1f-3b29bf2f70e1",
   "metadata": {},
   "outputs": [
    {
     "data": {
      "text/plain": [
       "3.1415"
      ]
     },
     "execution_count": 33,
     "metadata": {},
     "output_type": "execute_result"
    }
   ],
   "source": [
    "f[-1]"
   ]
  },
  {
   "cell_type": "code",
   "execution_count": 34,
   "id": "a8bb9808-b727-4855-a8ee-6c1dafb6b9be",
   "metadata": {},
   "outputs": [],
   "source": [
    "f = [\"a\", \"b\", \"c\"]"
   ]
  },
  {
   "cell_type": "code",
   "execution_count": 35,
   "id": "1b785198-d453-4a70-88ab-d4010a2acc29",
   "metadata": {},
   "outputs": [
    {
     "data": {
      "text/plain": [
       "['a', 'b', 'c']"
      ]
     },
     "execution_count": 35,
     "metadata": {},
     "output_type": "execute_result"
    }
   ],
   "source": [
    "f"
   ]
  },
  {
   "cell_type": "code",
   "execution_count": 36,
   "id": "19d279af-c486-42c5-a2c6-b828a9ce62c8",
   "metadata": {},
   "outputs": [],
   "source": [
    "f = list(\"abcdefg\")"
   ]
  },
  {
   "cell_type": "code",
   "execution_count": 37,
   "id": "00f9094e-c599-4601-89c2-0e2150419538",
   "metadata": {},
   "outputs": [
    {
     "data": {
      "text/plain": [
       "['a', 'b', 'c', 'd', 'e', 'f', 'g']"
      ]
     },
     "execution_count": 37,
     "metadata": {},
     "output_type": "execute_result"
    }
   ],
   "source": [
    "f"
   ]
  },
  {
   "cell_type": "code",
   "execution_count": 38,
   "id": "2975f755-58cf-4a26-a047-a53be019fd3b",
   "metadata": {},
   "outputs": [
    {
     "data": {
      "text/plain": [
       "['b', 'c', 'd']"
      ]
     },
     "execution_count": 38,
     "metadata": {},
     "output_type": "execute_result"
    }
   ],
   "source": [
    "f[1:4]"
   ]
  },
  {
   "cell_type": "code",
   "execution_count": 39,
   "id": "6e600c25-3d34-44fc-b121-7d5f7c6d9553",
   "metadata": {},
   "outputs": [
    {
     "data": {
      "text/plain": [
       "['b', 'c', 'd']"
      ]
     },
     "execution_count": 39,
     "metadata": {},
     "output_type": "execute_result"
    }
   ],
   "source": [
    "f[-6:-3]"
   ]
  },
  {
   "cell_type": "markdown",
   "id": "0dfb7249-0be0-41af-8915-7307664dd5e5",
   "metadata": {},
   "source": [
    "### Tuplas"
   ]
  },
  {
   "cell_type": "code",
   "execution_count": 40,
   "id": "e8d788e0-e8be-494b-a68d-fea576ef7fdb",
   "metadata": {},
   "outputs": [],
   "source": [
    "g = (2, 3.14, True, \"python\")"
   ]
  },
  {
   "cell_type": "code",
   "execution_count": 41,
   "id": "ebec073c-4a4a-4178-ba7e-0fa35d7d5e28",
   "metadata": {},
   "outputs": [
    {
     "data": {
      "text/plain": [
       "(2, 3.14, True, 'python')"
      ]
     },
     "execution_count": 41,
     "metadata": {},
     "output_type": "execute_result"
    }
   ],
   "source": [
    "g"
   ]
  },
  {
   "cell_type": "code",
   "execution_count": 42,
   "id": "c9ae3b30-a105-420b-ac6f-b54962876f7d",
   "metadata": {},
   "outputs": [
    {
     "data": {
      "text/plain": [
       "tuple"
      ]
     },
     "execution_count": 42,
     "metadata": {},
     "output_type": "execute_result"
    }
   ],
   "source": [
    "type(g)"
   ]
  },
  {
   "cell_type": "code",
   "execution_count": 43,
   "id": "809b0481-2a9a-4466-91e5-7882a346a864",
   "metadata": {},
   "outputs": [
    {
     "data": {
      "text/plain": [
       "2"
      ]
     },
     "execution_count": 43,
     "metadata": {},
     "output_type": "execute_result"
    }
   ],
   "source": [
    "g[0]"
   ]
  },
  {
   "cell_type": "code",
   "execution_count": 44,
   "id": "e5ebc699-cb63-42e4-9f13-244eeb22b802",
   "metadata": {},
   "outputs": [
    {
     "data": {
      "text/plain": [
       "(3.14, True)"
      ]
     },
     "execution_count": 44,
     "metadata": {},
     "output_type": "execute_result"
    }
   ],
   "source": [
    "g[1:3]"
   ]
  },
  {
   "cell_type": "markdown",
   "id": "83f1d47e-ef7b-480d-b819-0aaa22fbe56b",
   "metadata": {},
   "source": [
    "### Conjuntos"
   ]
  },
  {
   "cell_type": "code",
   "execution_count": 45,
   "id": "6bf40fb4-859d-4f62-8a43-5c23c27bb055",
   "metadata": {},
   "outputs": [],
   "source": [
    "h = {1, 1, 1, True, \"python\"}"
   ]
  },
  {
   "cell_type": "code",
   "execution_count": 46,
   "id": "8b5af100-0544-4c48-ab8f-1504b2985073",
   "metadata": {},
   "outputs": [
    {
     "data": {
      "text/plain": [
       "{1, 'python'}"
      ]
     },
     "execution_count": 46,
     "metadata": {},
     "output_type": "execute_result"
    }
   ],
   "source": [
    "h"
   ]
  },
  {
   "cell_type": "code",
   "execution_count": 47,
   "id": "4cad0c36-1609-4260-ba0c-0c464f2e2466",
   "metadata": {},
   "outputs": [],
   "source": [
    "# h[0]: Esto devuelve un error"
   ]
  },
  {
   "cell_type": "markdown",
   "id": "20b7152a-7e85-4574-b31c-1cb134f4f694",
   "metadata": {},
   "source": [
    "### Diccionarios"
   ]
  },
  {
   "cell_type": "code",
   "execution_count": 48,
   "id": "f8b42031-f8aa-4ef5-b974-88ac3733f9ed",
   "metadata": {},
   "outputs": [],
   "source": [
    "i = {\"enero\": 31, \"febrero\": 28, \"marzo\": 31}"
   ]
  },
  {
   "cell_type": "code",
   "execution_count": 49,
   "id": "93fdd9ba-e780-42e0-a175-3fcd83729ad0",
   "metadata": {},
   "outputs": [
    {
     "data": {
      "text/plain": [
       "{'enero': 31, 'febrero': 28, 'marzo': 31}"
      ]
     },
     "execution_count": 49,
     "metadata": {},
     "output_type": "execute_result"
    }
   ],
   "source": [
    "i"
   ]
  },
  {
   "cell_type": "code",
   "execution_count": 50,
   "id": "36bd4a4d-3a86-44e6-a317-d4ab22600cf8",
   "metadata": {},
   "outputs": [
    {
     "data": {
      "text/plain": [
       "dict"
      ]
     },
     "execution_count": 50,
     "metadata": {},
     "output_type": "execute_result"
    }
   ],
   "source": [
    "type(i)"
   ]
  },
  {
   "cell_type": "code",
   "execution_count": 51,
   "id": "f6c9eafe-de35-4682-b211-762c635b9da1",
   "metadata": {},
   "outputs": [
    {
     "data": {
      "text/plain": [
       "31"
      ]
     },
     "execution_count": 51,
     "metadata": {},
     "output_type": "execute_result"
    }
   ],
   "source": [
    "i[\"enero\"]"
   ]
  },
  {
   "cell_type": "code",
   "execution_count": 52,
   "id": "7e88544e-17a6-45af-87a3-448962b63aa3",
   "metadata": {},
   "outputs": [],
   "source": [
    "j = {\"enero\": [1, 3, 6], \"febrero\": (2, 4, 6)}"
   ]
  },
  {
   "cell_type": "code",
   "execution_count": null,
   "id": "6afa0fac-794f-4e86-a427-9069b9b97ea2",
   "metadata": {},
   "outputs": [],
   "source": []
  }
 ],
 "metadata": {
  "kernelspec": {
   "display_name": "Python 3 (ipykernel)",
   "language": "python",
   "name": "python3"
  },
  "language_info": {
   "codemirror_mode": {
    "name": "ipython",
    "version": 3
   },
   "file_extension": ".py",
   "mimetype": "text/x-python",
   "name": "python",
   "nbconvert_exporter": "python",
   "pygments_lexer": "ipython3",
   "version": "3.11.7"
  }
 },
 "nbformat": 4,
 "nbformat_minor": 5
}
