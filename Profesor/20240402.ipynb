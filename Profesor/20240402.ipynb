{
 "cells": [
  {
   "cell_type": "markdown",
   "id": "cff3baa0-ea06-4af0-b3d1-b22990248fb0",
   "metadata": {},
   "source": [
    "# Tipos básicos"
   ]
  },
  {
   "cell_type": "code",
   "execution_count": 1,
   "id": "97993748-e5d9-4a55-87e2-02344526e0bf",
   "metadata": {},
   "outputs": [],
   "source": [
    "a = 1        # Esto es un comentario\n",
    "b = 1.4\n",
    "c = 2 - 5j\n",
    "d = True\n",
    "e = \"python for data science\""
   ]
  },
  {
   "cell_type": "markdown",
   "id": "f3407b7e-cf74-449a-81b9-359169683c45",
   "metadata": {},
   "source": [
    "# Tipos complejos"
   ]
  },
  {
   "cell_type": "code",
   "execution_count": 2,
   "id": "1dd0310a-a37c-4591-aa60-69ece097940f",
   "metadata": {},
   "outputs": [
    {
     "data": {
      "text/plain": [
       "(3, 'python')"
      ]
     },
     "execution_count": 2,
     "metadata": {},
     "output_type": "execute_result"
    }
   ],
   "source": [
    "f = [1, 1, 3.14, True, (3, \"python\")]\n",
    "f[-1]"
   ]
  },
  {
   "cell_type": "code",
   "execution_count": 3,
   "id": "0baecbf6-2f2d-4ebd-a5b2-5c3d91c77da3",
   "metadata": {},
   "outputs": [],
   "source": [
    "g = (1, 2, 3, \"python\")"
   ]
  },
  {
   "cell_type": "code",
   "execution_count": 4,
   "id": "f78c6952-571e-48dd-a1e0-26ae6f0bb622",
   "metadata": {},
   "outputs": [
    {
     "data": {
      "text/plain": [
       "(1, 2, 3, 'python')"
      ]
     },
     "execution_count": 4,
     "metadata": {},
     "output_type": "execute_result"
    }
   ],
   "source": [
    "g"
   ]
  },
  {
   "cell_type": "code",
   "execution_count": 5,
   "id": "eeae07a3-dcd2-4309-83b5-731f2c0461cc",
   "metadata": {},
   "outputs": [
    {
     "data": {
      "text/plain": [
       "3"
      ]
     },
     "execution_count": 5,
     "metadata": {},
     "output_type": "execute_result"
    }
   ],
   "source": [
    "f[-1][0]"
   ]
  },
  {
   "cell_type": "code",
   "execution_count": 6,
   "id": "4ab3b392-ff0f-430e-a377-0ae1079203fa",
   "metadata": {},
   "outputs": [
    {
     "data": {
      "text/plain": [
       "{1, 'python'}"
      ]
     },
     "execution_count": 6,
     "metadata": {},
     "output_type": "execute_result"
    }
   ],
   "source": [
    "h = {1, 1, 1, True, \"python\"}\n",
    "h"
   ]
  },
  {
   "cell_type": "code",
   "execution_count": 7,
   "id": "eb0c8f43-f149-4b2b-b75c-0b55a418651a",
   "metadata": {},
   "outputs": [],
   "source": [
    "i = {\"enero\": 31, \"febrero\": 28}"
   ]
  },
  {
   "cell_type": "code",
   "execution_count": 8,
   "id": "a56d866d-e912-4ac6-a468-e886e1f7f691",
   "metadata": {},
   "outputs": [
    {
     "data": {
      "text/plain": [
       "31"
      ]
     },
     "execution_count": 8,
     "metadata": {},
     "output_type": "execute_result"
    }
   ],
   "source": [
    "i[\"enero\"]"
   ]
  },
  {
   "cell_type": "markdown",
   "id": "eb00289c-97fd-428a-98b3-129911f0f618",
   "metadata": {},
   "source": [
    "# Funciones integradas"
   ]
  },
  {
   "cell_type": "code",
   "execution_count": 9,
   "id": "f46703dc-04d3-41f4-a0aa-fe08051f7800",
   "metadata": {},
   "outputs": [
    {
     "name": "stdout",
     "output_type": "stream",
     "text": [
      "1 (1, 2, 3, 'python') 35 python\n"
     ]
    }
   ],
   "source": [
    "print(a, g, 35, \"python\")"
   ]
  },
  {
   "cell_type": "code",
   "execution_count": 10,
   "id": "ea558487-7704-403e-89ca-c4d4cf80a9fa",
   "metadata": {},
   "outputs": [
    {
     "data": {
      "text/plain": [
       "str"
      ]
     },
     "execution_count": 10,
     "metadata": {},
     "output_type": "execute_result"
    }
   ],
   "source": [
    "type(\"python\")"
   ]
  },
  {
   "cell_type": "code",
   "execution_count": 11,
   "id": "d137b90d-b8bd-4435-978e-be5f86462a89",
   "metadata": {},
   "outputs": [
    {
     "data": {
      "text/plain": [
       "complex"
      ]
     },
     "execution_count": 11,
     "metadata": {},
     "output_type": "execute_result"
    }
   ],
   "source": [
    "type(c)"
   ]
  },
  {
   "cell_type": "code",
   "execution_count": 12,
   "id": "0cece6f3-6173-4bf5-a11a-726e0188a3f9",
   "metadata": {},
   "outputs": [
    {
     "data": {
      "text/plain": [
       "list"
      ]
     },
     "execution_count": 12,
     "metadata": {},
     "output_type": "execute_result"
    }
   ],
   "source": [
    "type(f)"
   ]
  },
  {
   "cell_type": "code",
   "execution_count": 13,
   "id": "77442260-225b-483b-a468-042861926fda",
   "metadata": {},
   "outputs": [
    {
     "data": {
      "text/plain": [
       "tuple"
      ]
     },
     "execution_count": 13,
     "metadata": {},
     "output_type": "execute_result"
    }
   ],
   "source": [
    "type(f[-1])"
   ]
  },
  {
   "cell_type": "code",
   "execution_count": 14,
   "id": "f2b8dd33-6e36-47fa-b114-9645b97c4260",
   "metadata": {},
   "outputs": [
    {
     "data": {
      "text/plain": [
       "3.14"
      ]
     },
     "execution_count": 14,
     "metadata": {},
     "output_type": "execute_result"
    }
   ],
   "source": [
    "abs(3.14)"
   ]
  },
  {
   "cell_type": "code",
   "execution_count": 15,
   "id": "97efc0c5-90a8-45df-ad33-739c3bfebf33",
   "metadata": {},
   "outputs": [
    {
     "data": {
      "text/plain": [
       "3.14"
      ]
     },
     "execution_count": 15,
     "metadata": {},
     "output_type": "execute_result"
    }
   ],
   "source": [
    "abs(-3.14)"
   ]
  },
  {
   "cell_type": "code",
   "execution_count": 16,
   "id": "89bc0543-33f8-4021-ba80-b7917f70a9e3",
   "metadata": {},
   "outputs": [
    {
     "data": {
      "text/plain": [
       "3"
      ]
     },
     "execution_count": 16,
     "metadata": {},
     "output_type": "execute_result"
    }
   ],
   "source": [
    "int(3.14)"
   ]
  },
  {
   "cell_type": "code",
   "execution_count": 17,
   "id": "8be5c0c3-80eb-4da8-8a50-f9913d3b2ce3",
   "metadata": {},
   "outputs": [
    {
     "data": {
      "text/plain": [
       "-3"
      ]
     },
     "execution_count": 17,
     "metadata": {},
     "output_type": "execute_result"
    }
   ],
   "source": [
    "int(-3.14)"
   ]
  },
  {
   "cell_type": "code",
   "execution_count": 18,
   "id": "562e64cb-1159-4373-8c27-cf9eb8e930ae",
   "metadata": {},
   "outputs": [
    {
     "data": {
      "text/plain": [
       "34"
      ]
     },
     "execution_count": 18,
     "metadata": {},
     "output_type": "execute_result"
    }
   ],
   "source": [
    "int(\"34\")"
   ]
  },
  {
   "cell_type": "code",
   "execution_count": 19,
   "id": "04ac0dfb-4546-473a-a727-db699e885a29",
   "metadata": {},
   "outputs": [],
   "source": [
    "# int(\"3.14\") Error"
   ]
  },
  {
   "cell_type": "code",
   "execution_count": 20,
   "id": "4a96d11d-4eab-48c2-ae30-689faeebc321",
   "metadata": {},
   "outputs": [
    {
     "data": {
      "text/plain": [
       "3.0"
      ]
     },
     "execution_count": 20,
     "metadata": {},
     "output_type": "execute_result"
    }
   ],
   "source": [
    "float(3)"
   ]
  },
  {
   "cell_type": "code",
   "execution_count": 21,
   "id": "d01fe4e6-0483-4126-94d2-92b9f0ae91be",
   "metadata": {},
   "outputs": [
    {
     "data": {
      "text/plain": [
       "3.14"
      ]
     },
     "execution_count": 21,
     "metadata": {},
     "output_type": "execute_result"
    }
   ],
   "source": [
    "float(\"3.14\")"
   ]
  },
  {
   "cell_type": "code",
   "execution_count": 22,
   "id": "9a5c9453-d3b9-43fb-b39e-11331df7c516",
   "metadata": {},
   "outputs": [
    {
     "data": {
      "text/plain": [
       "3.0"
      ]
     },
     "execution_count": 22,
     "metadata": {},
     "output_type": "execute_result"
    }
   ],
   "source": [
    "float(\"3\")"
   ]
  },
  {
   "cell_type": "code",
   "execution_count": 23,
   "id": "1c16ed93-36c6-47f1-aae5-7b718e7e7b5a",
   "metadata": {},
   "outputs": [
    {
     "data": {
      "text/plain": [
       "(4+0j)"
      ]
     },
     "execution_count": 23,
     "metadata": {},
     "output_type": "execute_result"
    }
   ],
   "source": [
    "complex(4)"
   ]
  },
  {
   "cell_type": "code",
   "execution_count": 24,
   "id": "e2b71d7a-6124-46c5-b26f-7da4e4b21952",
   "metadata": {},
   "outputs": [
    {
     "data": {
      "text/plain": [
       "False"
      ]
     },
     "execution_count": 24,
     "metadata": {},
     "output_type": "execute_result"
    }
   ],
   "source": [
    "bool(0)"
   ]
  },
  {
   "cell_type": "code",
   "execution_count": 25,
   "id": "1c629d7d-b6ba-4b42-8460-85cb2e29cac1",
   "metadata": {},
   "outputs": [
    {
     "data": {
      "text/plain": [
       "True"
      ]
     },
     "execution_count": 25,
     "metadata": {},
     "output_type": "execute_result"
    }
   ],
   "source": [
    "bool(-16)"
   ]
  },
  {
   "cell_type": "code",
   "execution_count": 26,
   "id": "cb23a56f-eca9-4bff-9483-40c4cd114bed",
   "metadata": {},
   "outputs": [
    {
     "data": {
      "text/plain": [
       "True"
      ]
     },
     "execution_count": 26,
     "metadata": {},
     "output_type": "execute_result"
    }
   ],
   "source": [
    "bool(3.14)"
   ]
  },
  {
   "cell_type": "code",
   "execution_count": 27,
   "id": "8963c8ba-5729-41d0-96ed-c3392a309c0f",
   "metadata": {},
   "outputs": [
    {
     "data": {
      "text/plain": [
       "True"
      ]
     },
     "execution_count": 27,
     "metadata": {},
     "output_type": "execute_result"
    }
   ],
   "source": [
    "bool(-3.14)"
   ]
  },
  {
   "cell_type": "code",
   "execution_count": 28,
   "id": "3cd50f25-eae7-4970-b89f-7cacac182fb0",
   "metadata": {},
   "outputs": [
    {
     "data": {
      "text/plain": [
       "False"
      ]
     },
     "execution_count": 28,
     "metadata": {},
     "output_type": "execute_result"
    }
   ],
   "source": [
    "bool(0.0)"
   ]
  },
  {
   "cell_type": "code",
   "execution_count": 29,
   "id": "ed0a6c04-750b-4305-8773-c760a3123d77",
   "metadata": {},
   "outputs": [
    {
     "data": {
      "text/plain": [
       "False"
      ]
     },
     "execution_count": 29,
     "metadata": {},
     "output_type": "execute_result"
    }
   ],
   "source": [
    "bool(\"\")"
   ]
  },
  {
   "cell_type": "code",
   "execution_count": 30,
   "id": "efcd4055-0945-42b1-998a-a5ce616f210c",
   "metadata": {},
   "outputs": [
    {
     "data": {
      "text/plain": [
       "True"
      ]
     },
     "execution_count": 30,
     "metadata": {},
     "output_type": "execute_result"
    }
   ],
   "source": [
    "bool(\"xxx\")"
   ]
  },
  {
   "cell_type": "code",
   "execution_count": 31,
   "id": "6b69bf94-ca93-4bcb-9ba6-0e826085b6b8",
   "metadata": {},
   "outputs": [
    {
     "data": {
      "text/plain": [
       "False"
      ]
     },
     "execution_count": 31,
     "metadata": {},
     "output_type": "execute_result"
    }
   ],
   "source": [
    "bool(())"
   ]
  },
  {
   "cell_type": "code",
   "execution_count": 32,
   "id": "42e4d0f5-2ffb-439d-b68e-63093827dd6f",
   "metadata": {},
   "outputs": [
    {
     "data": {
      "text/plain": [
       "True"
      ]
     },
     "execution_count": 32,
     "metadata": {},
     "output_type": "execute_result"
    }
   ],
   "source": [
    "bool((2, 3))"
   ]
  },
  {
   "cell_type": "code",
   "execution_count": 33,
   "id": "982c31ca-f8b6-4458-87cb-ed21ab12477b",
   "metadata": {},
   "outputs": [
    {
     "data": {
      "text/plain": [
       "'15'"
      ]
     },
     "execution_count": 33,
     "metadata": {},
     "output_type": "execute_result"
    }
   ],
   "source": [
    "str(15)"
   ]
  },
  {
   "cell_type": "code",
   "execution_count": 34,
   "id": "7553aeab-5a38-49ba-ab26-3a2ebda73015",
   "metadata": {},
   "outputs": [
    {
     "data": {
      "text/plain": [
       "'1.23'"
      ]
     },
     "execution_count": 34,
     "metadata": {},
     "output_type": "execute_result"
    }
   ],
   "source": [
    "str(1.23)"
   ]
  },
  {
   "cell_type": "code",
   "execution_count": 35,
   "id": "4f51cea2-590b-4ac8-9d3c-8f5b724851aa",
   "metadata": {},
   "outputs": [
    {
     "data": {
      "text/plain": [
       "'(3+5j)'"
      ]
     },
     "execution_count": 35,
     "metadata": {},
     "output_type": "execute_result"
    }
   ],
   "source": [
    "str(3 + 5j)"
   ]
  },
  {
   "cell_type": "code",
   "execution_count": 36,
   "id": "5fdd6dbf-9735-4b4c-bd41-2486320eb096",
   "metadata": {},
   "outputs": [
    {
     "data": {
      "text/plain": [
       "'[1, 2, 3]'"
      ]
     },
     "execution_count": 36,
     "metadata": {},
     "output_type": "execute_result"
    }
   ],
   "source": [
    "str([1, 2, 3])"
   ]
  },
  {
   "cell_type": "code",
   "execution_count": 37,
   "id": "a84fcd84-4d0a-474a-8ee2-16fcdba6bb3f",
   "metadata": {},
   "outputs": [
    {
     "data": {
      "text/plain": [
       "[1, 2, 3]"
      ]
     },
     "execution_count": 37,
     "metadata": {},
     "output_type": "execute_result"
    }
   ],
   "source": [
    "list((1, 2, 3))"
   ]
  },
  {
   "cell_type": "code",
   "execution_count": 38,
   "id": "ffcb0f52-0cc7-4c82-960d-e40696835b54",
   "metadata": {},
   "outputs": [
    {
     "data": {
      "text/plain": [
       "(1, 2, 3, 'python')"
      ]
     },
     "execution_count": 38,
     "metadata": {},
     "output_type": "execute_result"
    }
   ],
   "source": [
    "g"
   ]
  },
  {
   "cell_type": "code",
   "execution_count": 39,
   "id": "7ddba319-8ba6-4b20-a124-ab020e1e47d1",
   "metadata": {},
   "outputs": [
    {
     "data": {
      "text/plain": [
       "[1, 2, 3, 'python']"
      ]
     },
     "execution_count": 39,
     "metadata": {},
     "output_type": "execute_result"
    }
   ],
   "source": [
    "list(g)"
   ]
  },
  {
   "cell_type": "code",
   "execution_count": 40,
   "id": "45515283-5e71-4fdb-92bc-4bde2c57b572",
   "metadata": {},
   "outputs": [
    {
     "data": {
      "text/plain": [
       "(1, 2, 3, 'python')"
      ]
     },
     "execution_count": 40,
     "metadata": {},
     "output_type": "execute_result"
    }
   ],
   "source": [
    "g"
   ]
  },
  {
   "cell_type": "code",
   "execution_count": 41,
   "id": "7ddd6bd8-96de-4460-a6c1-a7106a75a532",
   "metadata": {},
   "outputs": [
    {
     "data": {
      "text/plain": [
       "[3, 4, 5]"
      ]
     },
     "execution_count": 41,
     "metadata": {},
     "output_type": "execute_result"
    }
   ],
   "source": [
    "list({3, 4, 5})"
   ]
  },
  {
   "cell_type": "code",
   "execution_count": 42,
   "id": "7df91b5b-dd8d-4088-b53f-d3e8cffc0330",
   "metadata": {},
   "outputs": [
    {
     "data": {
      "text/plain": [
       "['enero', 'febrero']"
      ]
     },
     "execution_count": 42,
     "metadata": {},
     "output_type": "execute_result"
    }
   ],
   "source": [
    "list(i)"
   ]
  },
  {
   "cell_type": "code",
   "execution_count": 43,
   "id": "73e1a1e1-1a1c-48fc-82e8-f24368b68393",
   "metadata": {},
   "outputs": [
    {
     "data": {
      "text/plain": [
       "(1, 2)"
      ]
     },
     "execution_count": 43,
     "metadata": {},
     "output_type": "execute_result"
    }
   ],
   "source": [
    "tuple([1, 2])"
   ]
  },
  {
   "cell_type": "code",
   "execution_count": 44,
   "id": "99742769-c0bb-4981-bde9-ee9fe8cff1c7",
   "metadata": {},
   "outputs": [
    {
     "data": {
      "text/plain": [
       "{1, 4}"
      ]
     },
     "execution_count": 44,
     "metadata": {},
     "output_type": "execute_result"
    }
   ],
   "source": [
    "set([1, 1, 1, 4])"
   ]
  },
  {
   "cell_type": "code",
   "execution_count": 45,
   "id": "1bd098b6-dd84-4f55-9234-572348ebbfcf",
   "metadata": {},
   "outputs": [
    {
     "data": {
      "text/plain": [
       "{'enero': 31, 'febrero': 28}"
      ]
     },
     "execution_count": 45,
     "metadata": {},
     "output_type": "execute_result"
    }
   ],
   "source": [
    "i = {\"enero\": 31, \"febrero\": 28}\n",
    "i"
   ]
  },
  {
   "cell_type": "code",
   "execution_count": 46,
   "id": "7334d896-4ae8-4b3b-a6f2-dbc11625097f",
   "metadata": {},
   "outputs": [
    {
     "data": {
      "text/plain": [
       "{'enero': 31, 'febrero': 28}"
      ]
     },
     "execution_count": 46,
     "metadata": {},
     "output_type": "execute_result"
    }
   ],
   "source": [
    "i = dict(enero = 31, febrero = 28)\n",
    "i"
   ]
  },
  {
   "cell_type": "code",
   "execution_count": 47,
   "id": "9af16480-2ec7-4c5e-a4fa-5bae439d9398",
   "metadata": {},
   "outputs": [
    {
     "data": {
      "text/plain": [
       "{'enero': 31, 'febrero': 28}"
      ]
     },
     "execution_count": 47,
     "metadata": {},
     "output_type": "execute_result"
    }
   ],
   "source": [
    "i = dict([(\"enero\", 31), (\"febrero\", 28)])\n",
    "i"
   ]
  },
  {
   "cell_type": "code",
   "execution_count": 48,
   "id": "49887139-195a-42b1-8db4-df6200f869d0",
   "metadata": {},
   "outputs": [
    {
     "name": "stdout",
     "output_type": "stream",
     "text": [
      "Help on built-in function print in module builtins:\n",
      "\n",
      "print(*args, sep=' ', end='\\n', file=None, flush=False)\n",
      "    Prints the values to a stream, or to sys.stdout by default.\n",
      "    \n",
      "    sep\n",
      "      string inserted between values, default a space.\n",
      "    end\n",
      "      string appended after the last value, default a newline.\n",
      "    file\n",
      "      a file-like object (stream); defaults to the current sys.stdout.\n",
      "    flush\n",
      "      whether to forcibly flush the stream.\n",
      "\n"
     ]
    }
   ],
   "source": [
    "help(print)"
   ]
  },
  {
   "cell_type": "code",
   "execution_count": 49,
   "id": "bd4ec4c4-4f69-4f05-871c-a3302d4f5d29",
   "metadata": {},
   "outputs": [
    {
     "name": "stdout",
     "output_type": "stream",
     "text": [
      "Help on class float in module builtins:\n",
      "\n",
      "class float(object)\n",
      " |  float(x=0, /)\n",
      " |  \n",
      " |  Convert a string or number to a floating point number, if possible.\n",
      " |  \n",
      " |  Methods defined here:\n",
      " |  \n",
      " |  __abs__(self, /)\n",
      " |      abs(self)\n",
      " |  \n",
      " |  __add__(self, value, /)\n",
      " |      Return self+value.\n",
      " |  \n",
      " |  __bool__(self, /)\n",
      " |      True if self else False\n",
      " |  \n",
      " |  __ceil__(self, /)\n",
      " |      Return the ceiling as an Integral.\n",
      " |  \n",
      " |  __divmod__(self, value, /)\n",
      " |      Return divmod(self, value).\n",
      " |  \n",
      " |  __eq__(self, value, /)\n",
      " |      Return self==value.\n",
      " |  \n",
      " |  __float__(self, /)\n",
      " |      float(self)\n",
      " |  \n",
      " |  __floor__(self, /)\n",
      " |      Return the floor as an Integral.\n",
      " |  \n",
      " |  __floordiv__(self, value, /)\n",
      " |      Return self//value.\n",
      " |  \n",
      " |  __format__(self, format_spec, /)\n",
      " |      Formats the float according to format_spec.\n",
      " |  \n",
      " |  __ge__(self, value, /)\n",
      " |      Return self>=value.\n",
      " |  \n",
      " |  __getattribute__(self, name, /)\n",
      " |      Return getattr(self, name).\n",
      " |  \n",
      " |  __getnewargs__(self, /)\n",
      " |  \n",
      " |  __gt__(self, value, /)\n",
      " |      Return self>value.\n",
      " |  \n",
      " |  __hash__(self, /)\n",
      " |      Return hash(self).\n",
      " |  \n",
      " |  __int__(self, /)\n",
      " |      int(self)\n",
      " |  \n",
      " |  __le__(self, value, /)\n",
      " |      Return self<=value.\n",
      " |  \n",
      " |  __lt__(self, value, /)\n",
      " |      Return self<value.\n",
      " |  \n",
      " |  __mod__(self, value, /)\n",
      " |      Return self%value.\n",
      " |  \n",
      " |  __mul__(self, value, /)\n",
      " |      Return self*value.\n",
      " |  \n",
      " |  __ne__(self, value, /)\n",
      " |      Return self!=value.\n",
      " |  \n",
      " |  __neg__(self, /)\n",
      " |      -self\n",
      " |  \n",
      " |  __pos__(self, /)\n",
      " |      +self\n",
      " |  \n",
      " |  __pow__(self, value, mod=None, /)\n",
      " |      Return pow(self, value, mod).\n",
      " |  \n",
      " |  __radd__(self, value, /)\n",
      " |      Return value+self.\n",
      " |  \n",
      " |  __rdivmod__(self, value, /)\n",
      " |      Return divmod(value, self).\n",
      " |  \n",
      " |  __repr__(self, /)\n",
      " |      Return repr(self).\n",
      " |  \n",
      " |  __rfloordiv__(self, value, /)\n",
      " |      Return value//self.\n",
      " |  \n",
      " |  __rmod__(self, value, /)\n",
      " |      Return value%self.\n",
      " |  \n",
      " |  __rmul__(self, value, /)\n",
      " |      Return value*self.\n",
      " |  \n",
      " |  __round__(self, ndigits=None, /)\n",
      " |      Return the Integral closest to x, rounding half toward even.\n",
      " |      \n",
      " |      When an argument is passed, work like built-in round(x, ndigits).\n",
      " |  \n",
      " |  __rpow__(self, value, mod=None, /)\n",
      " |      Return pow(value, self, mod).\n",
      " |  \n",
      " |  __rsub__(self, value, /)\n",
      " |      Return value-self.\n",
      " |  \n",
      " |  __rtruediv__(self, value, /)\n",
      " |      Return value/self.\n",
      " |  \n",
      " |  __sub__(self, value, /)\n",
      " |      Return self-value.\n",
      " |  \n",
      " |  __truediv__(self, value, /)\n",
      " |      Return self/value.\n",
      " |  \n",
      " |  __trunc__(self, /)\n",
      " |      Return the Integral closest to x between 0 and x.\n",
      " |  \n",
      " |  as_integer_ratio(self, /)\n",
      " |      Return integer ratio.\n",
      " |      \n",
      " |      Return a pair of integers, whose ratio is exactly equal to the original float\n",
      " |      and with a positive denominator.\n",
      " |      \n",
      " |      Raise OverflowError on infinities and a ValueError on NaNs.\n",
      " |      \n",
      " |      >>> (10.0).as_integer_ratio()\n",
      " |      (10, 1)\n",
      " |      >>> (0.0).as_integer_ratio()\n",
      " |      (0, 1)\n",
      " |      >>> (-.25).as_integer_ratio()\n",
      " |      (-1, 4)\n",
      " |  \n",
      " |  conjugate(self, /)\n",
      " |      Return self, the complex conjugate of any float.\n",
      " |  \n",
      " |  hex(self, /)\n",
      " |      Return a hexadecimal representation of a floating-point number.\n",
      " |      \n",
      " |      >>> (-0.1).hex()\n",
      " |      '-0x1.999999999999ap-4'\n",
      " |      >>> 3.14159.hex()\n",
      " |      '0x1.921f9f01b866ep+1'\n",
      " |  \n",
      " |  is_integer(self, /)\n",
      " |      Return True if the float is an integer.\n",
      " |  \n",
      " |  ----------------------------------------------------------------------\n",
      " |  Class methods defined here:\n",
      " |  \n",
      " |  __getformat__(typestr, /) from builtins.type\n",
      " |      You probably don't want to use this function.\n",
      " |      \n",
      " |        typestr\n",
      " |          Must be 'double' or 'float'.\n",
      " |      \n",
      " |      It exists mainly to be used in Python's test suite.\n",
      " |      \n",
      " |      This function returns whichever of 'unknown', 'IEEE, big-endian' or 'IEEE,\n",
      " |      little-endian' best describes the format of floating point numbers used by the\n",
      " |      C type named by typestr.\n",
      " |  \n",
      " |  fromhex(string, /) from builtins.type\n",
      " |      Create a floating-point number from a hexadecimal string.\n",
      " |      \n",
      " |      >>> float.fromhex('0x1.ffffp10')\n",
      " |      2047.984375\n",
      " |      >>> float.fromhex('-0x1p-1074')\n",
      " |      -5e-324\n",
      " |  \n",
      " |  ----------------------------------------------------------------------\n",
      " |  Static methods defined here:\n",
      " |  \n",
      " |  __new__(*args, **kwargs) from builtins.type\n",
      " |      Create and return a new object.  See help(type) for accurate signature.\n",
      " |  \n",
      " |  ----------------------------------------------------------------------\n",
      " |  Data descriptors defined here:\n",
      " |  \n",
      " |  imag\n",
      " |      the imaginary part of a complex number\n",
      " |  \n",
      " |  real\n",
      " |      the real part of a complex number\n",
      "\n"
     ]
    }
   ],
   "source": [
    "help(float)"
   ]
  },
  {
   "cell_type": "code",
   "execution_count": 50,
   "id": "f78e8492-0195-40ae-a0ea-b287fe42aee5",
   "metadata": {},
   "outputs": [
    {
     "name": "stdin",
     "output_type": "stream",
     "text": [
      " 2\n"
     ]
    },
    {
     "data": {
      "text/plain": [
       "'2'"
      ]
     },
     "execution_count": 50,
     "metadata": {},
     "output_type": "execute_result"
    }
   ],
   "source": [
    "input()"
   ]
  },
  {
   "cell_type": "code",
   "execution_count": 51,
   "id": "1a204b83-9be2-4eab-bafc-61acae283ad2",
   "metadata": {},
   "outputs": [
    {
     "name": "stdin",
     "output_type": "stream",
     "text": [
      " 2\n"
     ]
    }
   ],
   "source": [
    "a = input()"
   ]
  },
  {
   "cell_type": "code",
   "execution_count": 52,
   "id": "8bfa1839-efda-4da3-8391-678edfb8d27c",
   "metadata": {},
   "outputs": [
    {
     "data": {
      "text/plain": [
       "'2'"
      ]
     },
     "execution_count": 52,
     "metadata": {},
     "output_type": "execute_result"
    }
   ],
   "source": [
    "a"
   ]
  },
  {
   "cell_type": "code",
   "execution_count": 53,
   "id": "9d01b9d3-0557-436f-bb4f-10b844f30253",
   "metadata": {},
   "outputs": [
    {
     "name": "stdin",
     "output_type": "stream",
     "text": [
      " 2\n"
     ]
    }
   ],
   "source": [
    "a = input()"
   ]
  },
  {
   "cell_type": "code",
   "execution_count": 54,
   "id": "2afef27b-aac4-4932-9989-bf871ec2fe13",
   "metadata": {},
   "outputs": [
    {
     "data": {
      "text/plain": [
       "'2'"
      ]
     },
     "execution_count": 54,
     "metadata": {},
     "output_type": "execute_result"
    }
   ],
   "source": [
    "a"
   ]
  },
  {
   "cell_type": "code",
   "execution_count": 55,
   "id": "6e6fdb58-5e1b-4c29-8b86-3839cb36ce9f",
   "metadata": {},
   "outputs": [
    {
     "data": {
      "text/plain": [
       "str"
      ]
     },
     "execution_count": 55,
     "metadata": {},
     "output_type": "execute_result"
    }
   ],
   "source": [
    "type(a)"
   ]
  },
  {
   "cell_type": "code",
   "execution_count": 56,
   "id": "04f07135-4562-453f-95d7-2760956e53e5",
   "metadata": {},
   "outputs": [],
   "source": [
    "# int(a) Error"
   ]
  },
  {
   "cell_type": "code",
   "execution_count": 57,
   "id": "d947c480-5790-40db-89a7-ed3157251e66",
   "metadata": {},
   "outputs": [],
   "source": [
    "b = int(a)"
   ]
  },
  {
   "cell_type": "code",
   "execution_count": 58,
   "id": "b46056b4-6596-41d2-9ae7-a01b808fe2d1",
   "metadata": {},
   "outputs": [
    {
     "data": {
      "text/plain": [
       "'2'"
      ]
     },
     "execution_count": 58,
     "metadata": {},
     "output_type": "execute_result"
    }
   ],
   "source": [
    "a"
   ]
  },
  {
   "cell_type": "code",
   "execution_count": 59,
   "id": "736b66eb-e329-4599-b670-e1a5539be636",
   "metadata": {},
   "outputs": [
    {
     "data": {
      "text/plain": [
       "2"
      ]
     },
     "execution_count": 59,
     "metadata": {},
     "output_type": "execute_result"
    }
   ],
   "source": [
    "b"
   ]
  },
  {
   "cell_type": "code",
   "execution_count": 60,
   "id": "4e45b99d-7022-4a25-907a-29e7c7c53a15",
   "metadata": {},
   "outputs": [],
   "source": [
    "a = int(a)"
   ]
  },
  {
   "cell_type": "code",
   "execution_count": 61,
   "id": "c1b7d2fd-dd1b-4f68-8c0e-3763e891f2c0",
   "metadata": {},
   "outputs": [
    {
     "data": {
      "text/plain": [
       "2"
      ]
     },
     "execution_count": 61,
     "metadata": {},
     "output_type": "execute_result"
    }
   ],
   "source": [
    "a"
   ]
  },
  {
   "cell_type": "code",
   "execution_count": 62,
   "id": "52df402c-ec93-4b9e-baa8-8b8c9a2d88e0",
   "metadata": {},
   "outputs": [
    {
     "data": {
      "text/plain": [
       "int"
      ]
     },
     "execution_count": 62,
     "metadata": {},
     "output_type": "execute_result"
    }
   ],
   "source": [
    "type(a)"
   ]
  },
  {
   "cell_type": "code",
   "execution_count": 63,
   "id": "3fbd2b1e-413f-48ef-8791-37f598a69b94",
   "metadata": {},
   "outputs": [
    {
     "name": "stdin",
     "output_type": "stream",
     "text": [
      " 2\n"
     ]
    }
   ],
   "source": [
    "a = input()\n",
    "a = int(a)"
   ]
  },
  {
   "cell_type": "code",
   "execution_count": 64,
   "id": "b205bb71-6a8b-4765-909b-8a88fdf8e96a",
   "metadata": {},
   "outputs": [
    {
     "data": {
      "text/plain": [
       "2"
      ]
     },
     "execution_count": 64,
     "metadata": {},
     "output_type": "execute_result"
    }
   ],
   "source": [
    "a"
   ]
  },
  {
   "cell_type": "code",
   "execution_count": 65,
   "id": "4c89291c-d7fd-401f-9453-66e76c9919de",
   "metadata": {},
   "outputs": [
    {
     "name": "stdin",
     "output_type": "stream",
     "text": [
      " 2\n"
     ]
    }
   ],
   "source": [
    "a = int(input())"
   ]
  },
  {
   "cell_type": "code",
   "execution_count": 66,
   "id": "f755b9df-199a-465b-bfb5-8e0cff9a9e3f",
   "metadata": {},
   "outputs": [
    {
     "data": {
      "text/plain": [
       "2"
      ]
     },
     "execution_count": 66,
     "metadata": {},
     "output_type": "execute_result"
    }
   ],
   "source": [
    "a"
   ]
  },
  {
   "cell_type": "code",
   "execution_count": 67,
   "id": "24579441-28b9-4101-8a10-1cda35c04aea",
   "metadata": {},
   "outputs": [
    {
     "name": "stdin",
     "output_type": "stream",
     "text": [
      "Introduce un número 2\n"
     ]
    },
    {
     "data": {
      "text/plain": [
       "'2'"
      ]
     },
     "execution_count": 67,
     "metadata": {},
     "output_type": "execute_result"
    }
   ],
   "source": [
    "input(\"Introduce un número\")"
   ]
  },
  {
   "cell_type": "code",
   "execution_count": 68,
   "id": "339f4f6a-6bb7-4ff1-ae9a-3af689419249",
   "metadata": {},
   "outputs": [
    {
     "data": {
      "text/plain": [
       "4"
      ]
     },
     "execution_count": 68,
     "metadata": {},
     "output_type": "execute_result"
    }
   ],
   "source": [
    "len([1, 2, 2, 3])"
   ]
  },
  {
   "cell_type": "code",
   "execution_count": 69,
   "id": "d9491725-7a46-4e74-9a9c-2f0e3dcc276b",
   "metadata": {},
   "outputs": [
    {
     "data": {
      "text/plain": [
       "3"
      ]
     },
     "execution_count": 69,
     "metadata": {},
     "output_type": "execute_result"
    }
   ],
   "source": [
    "len({1, 1, 2, 3})"
   ]
  },
  {
   "cell_type": "code",
   "execution_count": 70,
   "id": "95c7ed02-6d87-467f-83bf-e72e9849629b",
   "metadata": {},
   "outputs": [
    {
     "data": {
      "text/plain": [
       "6"
      ]
     },
     "execution_count": 70,
     "metadata": {},
     "output_type": "execute_result"
    }
   ],
   "source": [
    "len(\"python\")"
   ]
  },
  {
   "cell_type": "code",
   "execution_count": 71,
   "id": "2fccc988-5d17-45d6-a488-0ba8bfe94f96",
   "metadata": {},
   "outputs": [
    {
     "data": {
      "text/plain": [
       "[1, 2]"
      ]
     },
     "execution_count": 71,
     "metadata": {},
     "output_type": "execute_result"
    }
   ],
   "source": [
    "list((1, 2))"
   ]
  },
  {
   "cell_type": "code",
   "execution_count": 72,
   "id": "87bb63ee-097e-44b2-8dd3-dae89ccfaa43",
   "metadata": {},
   "outputs": [
    {
     "data": {
      "text/plain": [
       "['p', 'y', 't', 'h', 'o', 'n']"
      ]
     },
     "execution_count": 72,
     "metadata": {},
     "output_type": "execute_result"
    }
   ],
   "source": [
    "list(\"python\")"
   ]
  },
  {
   "cell_type": "code",
   "execution_count": 73,
   "id": "67ab781d-b27b-44d4-90d6-f2371c22c8e0",
   "metadata": {},
   "outputs": [
    {
     "data": {
      "text/plain": [
       "{'enero': 31, 'febrero': 28}"
      ]
     },
     "execution_count": 73,
     "metadata": {},
     "output_type": "execute_result"
    }
   ],
   "source": [
    "i"
   ]
  },
  {
   "cell_type": "code",
   "execution_count": 74,
   "id": "15e525f0-e438-46c9-b8f3-2af7621a6048",
   "metadata": {},
   "outputs": [
    {
     "data": {
      "text/plain": [
       "2"
      ]
     },
     "execution_count": 74,
     "metadata": {},
     "output_type": "execute_result"
    }
   ],
   "source": [
    "len(i)"
   ]
  },
  {
   "cell_type": "code",
   "execution_count": 75,
   "id": "5ea22bed-2cc0-47c7-bbb8-56752b7e0a2a",
   "metadata": {},
   "outputs": [
    {
     "data": {
      "text/plain": [
       "17"
      ]
     },
     "execution_count": 75,
     "metadata": {},
     "output_type": "execute_result"
    }
   ],
   "source": [
    "max([3, 17, 5, 1])"
   ]
  },
  {
   "cell_type": "code",
   "execution_count": 76,
   "id": "acd84eb1-2dd3-4b7d-8646-152f279756db",
   "metadata": {},
   "outputs": [
    {
     "data": {
      "text/plain": [
       "1"
      ]
     },
     "execution_count": 76,
     "metadata": {},
     "output_type": "execute_result"
    }
   ],
   "source": [
    "min([3, 17, 5, 1])"
   ]
  },
  {
   "cell_type": "code",
   "execution_count": 77,
   "id": "dbbb3f9e-81cc-4944-91da-f321edd6dca5",
   "metadata": {},
   "outputs": [
    {
     "data": {
      "text/plain": [
       "17"
      ]
     },
     "execution_count": 77,
     "metadata": {},
     "output_type": "execute_result"
    }
   ],
   "source": [
    "max(3, 17, 5, 1)"
   ]
  },
  {
   "cell_type": "code",
   "execution_count": 78,
   "id": "f314589e-bfcb-4314-87f1-aecfe42b8710",
   "metadata": {},
   "outputs": [
    {
     "data": {
      "text/plain": [
       "'b'"
      ]
     },
     "execution_count": 78,
     "metadata": {},
     "output_type": "execute_result"
    }
   ],
   "source": [
    "max(\"a\", \"Z\", \"b\")"
   ]
  },
  {
   "cell_type": "code",
   "execution_count": 79,
   "id": "63fc79b4-9122-4869-bcec-e3ffb44b25b3",
   "metadata": {},
   "outputs": [
    {
     "data": {
      "text/plain": [
       "'Z'"
      ]
     },
     "execution_count": 79,
     "metadata": {},
     "output_type": "execute_result"
    }
   ],
   "source": [
    "min(\"a\", \"Z\", \"b\")"
   ]
  },
  {
   "cell_type": "code",
   "execution_count": 80,
   "id": "c6d519e1-d924-4a48-9895-4b253514fc3e",
   "metadata": {},
   "outputs": [
    {
     "data": {
      "text/plain": [
       "8"
      ]
     },
     "execution_count": 80,
     "metadata": {},
     "output_type": "execute_result"
    }
   ],
   "source": [
    "pow(2, 3)"
   ]
  },
  {
   "cell_type": "code",
   "execution_count": 81,
   "id": "84f40c26-0e64-4dd9-b5f7-f9b2d8bb6295",
   "metadata": {},
   "outputs": [
    {
     "data": {
      "text/plain": [
       "8"
      ]
     },
     "execution_count": 81,
     "metadata": {},
     "output_type": "execute_result"
    }
   ],
   "source": [
    "2 ** 3"
   ]
  },
  {
   "cell_type": "code",
   "execution_count": 82,
   "id": "e0cecdab-24b6-4510-bb73-d7c829a1e15b",
   "metadata": {},
   "outputs": [
    {
     "data": {
      "text/plain": [
       "3"
      ]
     },
     "execution_count": 82,
     "metadata": {},
     "output_type": "execute_result"
    }
   ],
   "source": [
    "round(3.141592)"
   ]
  },
  {
   "cell_type": "code",
   "execution_count": 83,
   "id": "c0ddcc28-6419-43e7-916e-91b26e575920",
   "metadata": {},
   "outputs": [
    {
     "data": {
      "text/plain": [
       "3.142"
      ]
     },
     "execution_count": 83,
     "metadata": {},
     "output_type": "execute_result"
    }
   ],
   "source": [
    "round(3.141592, 3)"
   ]
  },
  {
   "cell_type": "code",
   "execution_count": 84,
   "id": "4498ac4e-44c5-4633-b557-6c3f2411d535",
   "metadata": {},
   "outputs": [
    {
     "data": {
      "text/plain": [
       "10"
      ]
     },
     "execution_count": 84,
     "metadata": {},
     "output_type": "execute_result"
    }
   ],
   "source": [
    "sum([1, 2, 3, 4])"
   ]
  },
  {
   "cell_type": "code",
   "execution_count": 85,
   "id": "83b1792b-308b-432e-b208-d9c7f5b07085",
   "metadata": {},
   "outputs": [
    {
     "data": {
      "text/plain": [
       "20"
      ]
     },
     "execution_count": 85,
     "metadata": {},
     "output_type": "execute_result"
    }
   ],
   "source": [
    "sum([1, 2, 3, 4], start = 10)"
   ]
  },
  {
   "cell_type": "markdown",
   "id": "2724ac6b-938a-4b37-a004-ad90bd9ac457",
   "metadata": {},
   "source": [
    "# Estructuras de control"
   ]
  },
  {
   "cell_type": "markdown",
   "id": "5964f0ea-3b47-4281-a3f8-0c91b0d922a8",
   "metadata": {},
   "source": [
    "### Bucles for"
   ]
  },
  {
   "cell_type": "code",
   "execution_count": 86,
   "id": "4e863953-c162-4048-aaa0-a5af2b6716b3",
   "metadata": {},
   "outputs": [
    {
     "name": "stdout",
     "output_type": "stream",
     "text": [
      "2\n",
      "4\n",
      "6\n",
      "8\n"
     ]
    }
   ],
   "source": [
    "for x in [2, 4, 6, 8]:\n",
    "    print(x)"
   ]
  },
  {
   "cell_type": "code",
   "execution_count": 87,
   "id": "a82e4620-f5db-4ceb-895a-ff51e5e4c9c7",
   "metadata": {},
   "outputs": [
    {
     "data": {
      "text/plain": [
       "range(0, 6)"
      ]
     },
     "execution_count": 87,
     "metadata": {},
     "output_type": "execute_result"
    }
   ],
   "source": [
    "range(6)"
   ]
  },
  {
   "cell_type": "code",
   "execution_count": 88,
   "id": "9b0bc718-17a2-4331-a370-2a8f098eebc6",
   "metadata": {},
   "outputs": [
    {
     "data": {
      "text/plain": [
       "range(0, 10000000000000)"
      ]
     },
     "execution_count": 88,
     "metadata": {},
     "output_type": "execute_result"
    }
   ],
   "source": [
    "range(10_000_000_000_000)"
   ]
  },
  {
   "cell_type": "code",
   "execution_count": 89,
   "id": "4257c58a-5700-43a9-8984-e28453d5fa01",
   "metadata": {},
   "outputs": [
    {
     "data": {
      "text/plain": [
       "[0, 1, 2, 3, 4, 5]"
      ]
     },
     "execution_count": 89,
     "metadata": {},
     "output_type": "execute_result"
    }
   ],
   "source": [
    "list(range(6))"
   ]
  },
  {
   "cell_type": "code",
   "execution_count": 90,
   "id": "4240feaf-74cf-44bc-8c30-693d423aca7f",
   "metadata": {},
   "outputs": [
    {
     "data": {
      "text/plain": [
       "[4, 5, 6, 7, 8]"
      ]
     },
     "execution_count": 90,
     "metadata": {},
     "output_type": "execute_result"
    }
   ],
   "source": [
    "list(range(4, 9))"
   ]
  },
  {
   "cell_type": "code",
   "execution_count": 91,
   "id": "738da0fb-0783-45e7-9319-324d7d24056e",
   "metadata": {},
   "outputs": [
    {
     "name": "stdout",
     "output_type": "stream",
     "text": [
      "0\n",
      "1\n",
      "2\n",
      "3\n",
      "4\n",
      "5\n",
      "5\n"
     ]
    }
   ],
   "source": [
    "n = 10\n",
    "for n in range(6):\n",
    "    print(n)\n",
    "print(n)"
   ]
  },
  {
   "cell_type": "code",
   "execution_count": 92,
   "id": "13bfdb5a-ab5b-441e-9d6e-a821e86b8ffa",
   "metadata": {},
   "outputs": [],
   "source": [
    "# PEP 8"
   ]
  },
  {
   "cell_type": "code",
   "execution_count": 93,
   "id": "62cfd184-131c-4b41-a906-bc303e9fe922",
   "metadata": {},
   "outputs": [
    {
     "name": "stdout",
     "output_type": "stream",
     "text": [
      "El cuadrado de 0 es 0\n",
      "El cuadrado de 1 es 1\n",
      "El cuadrado de 2 es 4\n",
      "El cuadrado de 3 es 9\n",
      "El cuadrado de 4 es 16\n",
      "El cuadrado de 5 es 25\n"
     ]
    }
   ],
   "source": [
    "for n in range(6):\n",
    "    m = pow(n, 2)\n",
    "    print(\"El cuadrado de\", n, \"es\", m, sep = \" \")"
   ]
  },
  {
   "cell_type": "code",
   "execution_count": 94,
   "id": "0b3ff795-8d79-4eac-999a-ec95611da63f",
   "metadata": {},
   "outputs": [
    {
     "name": "stdout",
     "output_type": "stream",
     "text": [
      "hola\n",
      "hola\n",
      "hola\n",
      "hola\n",
      "hola\n"
     ]
    }
   ],
   "source": [
    "for _ in range(5):\n",
    "    print(\"hola\")"
   ]
  },
  {
   "cell_type": "code",
   "execution_count": 95,
   "id": "abee9f63-33b7-428b-aadd-e35ddbc77d70",
   "metadata": {},
   "outputs": [
    {
     "name": "stdout",
     "output_type": "stream",
     "text": [
      "NOTE: Enter 'c' at the ipdb>  prompt to continue execution.\n",
      "> \u001b[1;32m<string>\u001b[0m(1)\u001b[0;36m<module>\u001b[1;34m()\u001b[0m\n",
      "\n"
     ]
    },
    {
     "name": "stdin",
     "output_type": "stream",
     "text": [
      "ipdb>  quit\n"
     ]
    }
   ],
   "source": [
    "debug()"
   ]
  },
  {
   "cell_type": "markdown",
   "id": "0d8f97ec-b0ff-456b-8c5c-73de94f03766",
   "metadata": {},
   "source": [
    "### Bucles while"
   ]
  },
  {
   "cell_type": "code",
   "execution_count": 96,
   "id": "308a08f4-f76f-464e-92ca-99ceccf9affb",
   "metadata": {},
   "outputs": [
    {
     "name": "stdout",
     "output_type": "stream",
     "text": [
      "0\n",
      "1\n",
      "2\n",
      "3\n",
      "4\n",
      "fin\n"
     ]
    }
   ],
   "source": [
    "n = 0\n",
    "while n < 5:\n",
    "    print(n)\n",
    "    n += 1     # Es equivalente a n = n + 1\n",
    "print(\"fin\")"
   ]
  },
  {
   "cell_type": "code",
   "execution_count": 97,
   "id": "8bd81634-35dc-42fa-9e1c-53734413fa18",
   "metadata": {},
   "outputs": [],
   "source": [
    "a = 6\n",
    "a *= 3    # a = a * 3"
   ]
  },
  {
   "cell_type": "code",
   "execution_count": 98,
   "id": "7b63fcb3-3779-4cf9-b872-f15adf3ed745",
   "metadata": {},
   "outputs": [
    {
     "data": {
      "text/plain": [
       "18"
      ]
     },
     "execution_count": 98,
     "metadata": {},
     "output_type": "execute_result"
    }
   ],
   "source": [
    "a"
   ]
  },
  {
   "cell_type": "code",
   "execution_count": 99,
   "id": "70f41c46-0df0-4ed9-b40b-76dc3bc8af63",
   "metadata": {},
   "outputs": [
    {
     "name": "stdin",
     "output_type": "stream",
     "text": [
      "¿Qué número quieres multiplicar por 2? 3\n"
     ]
    },
    {
     "name": "stdout",
     "output_type": "stream",
     "text": [
      "El número 3 multiplicado por dos es 6\n"
     ]
    },
    {
     "name": "stdin",
     "output_type": "stream",
     "text": [
      "¿Qué número quieres multiplicar por 2? 2\n"
     ]
    },
    {
     "name": "stdout",
     "output_type": "stream",
     "text": [
      "El número 2 multiplicado por dos es 4\n"
     ]
    },
    {
     "name": "stdin",
     "output_type": "stream",
     "text": [
      "¿Qué número quieres multiplicar por 2? 0\n"
     ]
    }
   ],
   "source": [
    "number = int(input(\"¿Qué número quieres multiplicar por 2?\"))\n",
    "while number:\n",
    "    print(\"El número\", number, \"multiplicado por dos es\", number * 2)\n",
    "    number = int(input(\"¿Qué número quieres multiplicar por 2?\"))"
   ]
  },
  {
   "cell_type": "code",
   "execution_count": 100,
   "id": "17651ab5-34e1-47c7-a938-fd2f7f8971e4",
   "metadata": {},
   "outputs": [
    {
     "name": "stdin",
     "output_type": "stream",
     "text": [
      "¿Qué número quieres multiplicar por 2? 0\n"
     ]
    }
   ],
   "source": [
    "# Este enfoque no funciona\n",
    "while int(input(\"¿Qué número quieres multiplicar por 2?\")):\n",
    "    print(\"El número\", number, \"multiplicado por dos es\", number * 2)"
   ]
  },
  {
   "cell_type": "markdown",
   "id": "b4097175-0cba-463b-b88d-40761ace1849",
   "metadata": {},
   "source": [
    "### La palabra reservada if"
   ]
  },
  {
   "cell_type": "code",
   "execution_count": 101,
   "id": "c5c7cace-9e73-49f3-855c-f104dd80856f",
   "metadata": {},
   "outputs": [
    {
     "name": "stdout",
     "output_type": "stream",
     "text": [
      "se cumple\n"
     ]
    }
   ],
   "source": [
    "if 6 > 4:\n",
    "    print(\"se cumple\")"
   ]
  },
  {
   "cell_type": "code",
   "execution_count": 102,
   "id": "3ff676f1-f46c-4fee-b727-04e1fdcb97f6",
   "metadata": {},
   "outputs": [],
   "source": [
    "if 6 > 14:\n",
    "    print(\"se cumple\")"
   ]
  },
  {
   "cell_type": "code",
   "execution_count": 103,
   "id": "e195d6a1-711a-4e13-b869-60c929f3ca3f",
   "metadata": {},
   "outputs": [
    {
     "name": "stdout",
     "output_type": "stream",
     "text": [
      "no se cumple\n"
     ]
    }
   ],
   "source": [
    "if 6 > 14:\n",
    "    print(\"se cumple\")\n",
    "else:\n",
    "    print(\"no se cumple\")"
   ]
  },
  {
   "cell_type": "code",
   "execution_count": 104,
   "id": "8674a0e5-d38a-4f1b-a071-eebc06f1e0ff",
   "metadata": {},
   "outputs": [
    {
     "name": "stdin",
     "output_type": "stream",
     "text": [
      "Introduce un número 4\n"
     ]
    },
    {
     "name": "stdout",
     "output_type": "stream",
     "text": [
      "El número 4 es positivo o cero\n"
     ]
    }
   ],
   "source": [
    "number = int(input(\"Introduce un número\"))\n",
    "if number >= 0:\n",
    "    print(\"El número\", number, \"es positivo o cero\")\n",
    "else:\n",
    "    print(\"El número\", number, \"es negativo\")"
   ]
  },
  {
   "cell_type": "code",
   "execution_count": 105,
   "id": "ed40f854-7163-4470-863b-f163715fe25a",
   "metadata": {},
   "outputs": [
    {
     "name": "stdin",
     "output_type": "stream",
     "text": [
      "Introduce un número para multiplicar por dos:  3\n"
     ]
    },
    {
     "name": "stdout",
     "output_type": "stream",
     "text": [
      "El resultado es 6.0\n"
     ]
    },
    {
     "name": "stdin",
     "output_type": "stream",
     "text": [
      "Introduce un número para multiplicar por dos:  2\n"
     ]
    },
    {
     "name": "stdout",
     "output_type": "stream",
     "text": [
      "El resultado es 4.0\n"
     ]
    },
    {
     "name": "stdin",
     "output_type": "stream",
     "text": [
      "Introduce un número para multiplicar por dos:  0\n"
     ]
    },
    {
     "name": "stdout",
     "output_type": "stream",
     "text": [
      "El resultado es 0.0\n",
      "Hemos terminado\n"
     ]
    }
   ],
   "source": [
    "numero = 1\n",
    "while numero != 0:\n",
    "    numero = float(input(\"Introduce un número para multiplicar por dos: \"))\n",
    "    print (f\"El resultado es {numero * 2}\")\n",
    "    if numero == 0:\n",
    "        print (\"Hemos terminado\")"
   ]
  },
  {
   "cell_type": "code",
   "execution_count": 106,
   "id": "a9d99df9-1f77-42f2-906d-a3a22b28fc2e",
   "metadata": {},
   "outputs": [
    {
     "name": "stdin",
     "output_type": "stream",
     "text": [
      "Introduce un número -7\n"
     ]
    },
    {
     "name": "stdout",
     "output_type": "stream",
     "text": [
      "El número -7 es negativo\n"
     ]
    }
   ],
   "source": [
    "number = int(input(\"Introduce un número\"))\n",
    "if number > 0:\n",
    "    print(\"El número\", number, \"es positivo\")\n",
    "elif number == 0:\n",
    "    print(\"El número\", number, \"es cero\")\n",
    "else:\n",
    "    print(\"El número\", number, \"es negativo\")"
   ]
  },
  {
   "cell_type": "markdown",
   "id": "f9b95835-aeca-4f30-a22b-30120c345ee5",
   "metadata": {},
   "source": [
    "# Funciones estándar"
   ]
  },
  {
   "cell_type": "code",
   "execution_count": 107,
   "id": "5ca1dfb9-1de3-4a45-9f38-a5bdb4435aa2",
   "metadata": {},
   "outputs": [],
   "source": [
    "def nada():\n",
    "    pass\n",
    "\n",
    "nada()"
   ]
  },
  {
   "cell_type": "code",
   "execution_count": 108,
   "id": "c2b0e3a2-92b2-449b-8cac-80bf67e8513f",
   "metadata": {},
   "outputs": [
    {
     "name": "stdout",
     "output_type": "stream",
     "text": [
      "Hola\n"
     ]
    }
   ],
   "source": [
    "def saluda():\n",
    "    print(\"Hola\")\n",
    "\n",
    "saluda()"
   ]
  },
  {
   "cell_type": "code",
   "execution_count": 109,
   "id": "8e80aa13-a007-4c5b-8c54-a72de92282d3",
   "metadata": {},
   "outputs": [
    {
     "name": "stdout",
     "output_type": "stream",
     "text": [
      "Hola Daniel\n"
     ]
    }
   ],
   "source": [
    "def saluda(nombre):\n",
    "    print(\"Hola\", nombre)\n",
    "\n",
    "saluda(\"Daniel\")"
   ]
  },
  {
   "cell_type": "code",
   "execution_count": 110,
   "id": "56b5495a-c086-4383-8ffd-d80fe0e38bd9",
   "metadata": {},
   "outputs": [
    {
     "name": "stdout",
     "output_type": "stream",
     "text": [
      "11\n"
     ]
    }
   ],
   "source": [
    "def suma(a, b):\n",
    "    print(a + b)\n",
    "\n",
    "suma(4, 7)"
   ]
  },
  {
   "cell_type": "code",
   "execution_count": 111,
   "id": "6c02043f-fc31-4b48-a229-6842f9b36246",
   "metadata": {},
   "outputs": [],
   "source": [
    "# suma(4, 7) + 1    Error"
   ]
  },
  {
   "cell_type": "code",
   "execution_count": 112,
   "id": "e6755ae5-44d2-45e6-bc99-d320e735ea46",
   "metadata": {},
   "outputs": [
    {
     "data": {
      "text/plain": [
       "11"
      ]
     },
     "execution_count": 112,
     "metadata": {},
     "output_type": "execute_result"
    }
   ],
   "source": [
    "def suma(a, b):\n",
    "    return a + b\n",
    "\n",
    "suma(4, 7)"
   ]
  },
  {
   "cell_type": "code",
   "execution_count": 113,
   "id": "cb1357fa-9a90-4d62-9f65-95519f02b39a",
   "metadata": {},
   "outputs": [],
   "source": [
    "a = 1\n",
    "b = 2\n",
    "c = 3"
   ]
  },
  {
   "cell_type": "code",
   "execution_count": 114,
   "id": "0472e8e1-6778-4486-a22d-5f94df465115",
   "metadata": {},
   "outputs": [
    {
     "name": "stdout",
     "output_type": "stream",
     "text": [
      "1\n",
      "2\n"
     ]
    }
   ],
   "source": [
    "print(a)\n",
    "print(b)"
   ]
  },
  {
   "cell_type": "code",
   "execution_count": 115,
   "id": "e7143165-8163-4733-9cf2-fec85d6f2c26",
   "metadata": {},
   "outputs": [
    {
     "data": {
      "text/plain": [
       "9"
      ]
     },
     "execution_count": 115,
     "metadata": {},
     "output_type": "execute_result"
    }
   ],
   "source": [
    "def suma(a, b = 0):\n",
    "    return a + b\n",
    "\n",
    "suma(4, 5)"
   ]
  },
  {
   "cell_type": "code",
   "execution_count": 116,
   "id": "627e5b07-2f13-4066-a36f-aebfad2ea273",
   "metadata": {},
   "outputs": [
    {
     "name": "stdout",
     "output_type": "stream",
     "text": [
      "Help on function suma in module __main__:\n",
      "\n",
      "suma(a, b=0)\n",
      "\n"
     ]
    }
   ],
   "source": [
    "help(suma)"
   ]
  },
  {
   "cell_type": "code",
   "execution_count": 117,
   "id": "b84f962c-aa6f-4953-9a56-ac6d0f386874",
   "metadata": {},
   "outputs": [
    {
     "data": {
      "text/plain": [
       "7"
      ]
     },
     "execution_count": 117,
     "metadata": {},
     "output_type": "execute_result"
    }
   ],
   "source": [
    "suma(7)"
   ]
  },
  {
   "cell_type": "code",
   "execution_count": 118,
   "id": "6996d827-fe24-47f6-bf43-12927d0591c4",
   "metadata": {},
   "outputs": [
    {
     "ename": "SyntaxError",
     "evalue": "non-default argument follows default argument (1560828653.py, line 1)",
     "output_type": "error",
     "traceback": [
      "\u001b[1;36m  Cell \u001b[1;32mIn[118], line 1\u001b[1;36m\u001b[0m\n\u001b[1;33m    def suma(a = 0, b):\u001b[0m\n\u001b[1;37m                    ^\u001b[0m\n\u001b[1;31mSyntaxError\u001b[0m\u001b[1;31m:\u001b[0m non-default argument follows default argument\n"
     ]
    }
   ],
   "source": [
    "def suma(a = 0, b):\n",
    "    return a + b"
   ]
  },
  {
   "cell_type": "code",
   "execution_count": 119,
   "id": "6d4d8d25-2de6-4417-a3bc-d408ea7f3109",
   "metadata": {},
   "outputs": [
    {
     "data": {
      "text/plain": [
       "7"
      ]
     },
     "execution_count": 119,
     "metadata": {},
     "output_type": "execute_result"
    }
   ],
   "source": [
    "suma(7)"
   ]
  },
  {
   "cell_type": "code",
   "execution_count": 120,
   "id": "743bb55a-c809-4146-ba3c-692fdd98cab7",
   "metadata": {},
   "outputs": [
    {
     "data": {
      "text/plain": [
       "9"
      ]
     },
     "execution_count": 120,
     "metadata": {},
     "output_type": "execute_result"
    }
   ],
   "source": [
    "def suma(a, b):\n",
    "    return a + b\n",
    "\n",
    "suma(b = 4, a = 5)"
   ]
  },
  {
   "cell_type": "code",
   "execution_count": 121,
   "id": "23fbaeb7-c05a-4d6a-ac5f-a60d73233fb1",
   "metadata": {},
   "outputs": [
    {
     "data": {
      "text/plain": [
       "9"
      ]
     },
     "execution_count": 121,
     "metadata": {},
     "output_type": "execute_result"
    }
   ],
   "source": [
    "suma(a = 5, b = 4)"
   ]
  },
  {
   "cell_type": "code",
   "execution_count": 122,
   "id": "1b0cf014-d06b-44e8-94f0-c589a908662d",
   "metadata": {},
   "outputs": [
    {
     "data": {
      "text/plain": [
       "9"
      ]
     },
     "execution_count": 122,
     "metadata": {},
     "output_type": "execute_result"
    }
   ],
   "source": [
    "suma(5, b = 4)"
   ]
  },
  {
   "cell_type": "code",
   "execution_count": 123,
   "id": "35da96e7-43f8-45fa-ac18-57e7011530f8",
   "metadata": {},
   "outputs": [
    {
     "ename": "SyntaxError",
     "evalue": "positional argument follows keyword argument (562898638.py, line 1)",
     "output_type": "error",
     "traceback": [
      "\u001b[1;36m  Cell \u001b[1;32mIn[123], line 1\u001b[1;36m\u001b[0m\n\u001b[1;33m    suma(a = 5, 6)\u001b[0m\n\u001b[1;37m                 ^\u001b[0m\n\u001b[1;31mSyntaxError\u001b[0m\u001b[1;31m:\u001b[0m positional argument follows keyword argument\n"
     ]
    }
   ],
   "source": [
    "suma(a = 5, 6)"
   ]
  },
  {
   "cell_type": "code",
   "execution_count": 124,
   "id": "b6e260fc-d1a5-466d-970c-dd47416b39da",
   "metadata": {},
   "outputs": [
    {
     "name": "stdout",
     "output_type": "stream",
     "text": [
      "Help on built-in function print in module builtins:\n",
      "\n",
      "print(*args, sep=' ', end='\\n', file=None, flush=False)\n",
      "    Prints the values to a stream, or to sys.stdout by default.\n",
      "    \n",
      "    sep\n",
      "      string inserted between values, default a space.\n",
      "    end\n",
      "      string appended after the last value, default a newline.\n",
      "    file\n",
      "      a file-like object (stream); defaults to the current sys.stdout.\n",
      "    flush\n",
      "      whether to forcibly flush the stream.\n",
      "\n"
     ]
    }
   ],
   "source": [
    "help(print)"
   ]
  },
  {
   "cell_type": "code",
   "execution_count": 125,
   "id": "5b4fe58a-d442-4b75-9489-264cb13ffc0e",
   "metadata": {},
   "outputs": [
    {
     "name": "stdout",
     "output_type": "stream",
     "text": [
      "1*2*3\n"
     ]
    }
   ],
   "source": [
    "print(a, b, c, sep = \"*\")"
   ]
  },
  {
   "cell_type": "code",
   "execution_count": 126,
   "id": "047cd664-c204-4548-b064-ecdac886f5c7",
   "metadata": {},
   "outputs": [
    {
     "ename": "SyntaxError",
     "evalue": "positional argument follows keyword argument (2220901877.py, line 1)",
     "output_type": "error",
     "traceback": [
      "\u001b[1;36m  Cell \u001b[1;32mIn[126], line 1\u001b[1;36m\u001b[0m\n\u001b[1;33m    print(sep = \"*\", a, b, c)\u001b[0m\n\u001b[1;37m                            ^\u001b[0m\n\u001b[1;31mSyntaxError\u001b[0m\u001b[1;31m:\u001b[0m positional argument follows keyword argument\n"
     ]
    }
   ],
   "source": [
    "print(sep = \"*\", a, b, c)"
   ]
  },
  {
   "cell_type": "code",
   "execution_count": 127,
   "id": "c920e159-7cb5-4df6-9fb2-5776f481865f",
   "metadata": {},
   "outputs": [
    {
     "name": "stdout",
     "output_type": "stream",
     "text": [
      "<class 'tuple'>\n",
      "(2, 4, 1, 17)\n"
     ]
    },
    {
     "data": {
      "text/plain": [
       "24"
      ]
     },
     "execution_count": 127,
     "metadata": {},
     "output_type": "execute_result"
    }
   ],
   "source": [
    "def suma(*args):\n",
    "    print(type(args))\n",
    "    print(args)\n",
    "    total = 0\n",
    "    for n in args:\n",
    "        total += n  # Equivalente a total = total + n\n",
    "    return total\n",
    "\n",
    "suma(2, 4, 1, 17)"
   ]
  }
 ],
 "metadata": {
  "kernelspec": {
   "display_name": "Python 3 (ipykernel)",
   "language": "python",
   "name": "python3"
  },
  "language_info": {
   "codemirror_mode": {
    "name": "ipython",
    "version": 3
   },
   "file_extension": ".py",
   "mimetype": "text/x-python",
   "name": "python",
   "nbconvert_exporter": "python",
   "pygments_lexer": "ipython3",
   "version": "3.11.7"
  }
 },
 "nbformat": 4,
 "nbformat_minor": 5
}
