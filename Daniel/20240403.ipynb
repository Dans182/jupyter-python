{
 "cells": [
  {
   "cell_type": "code",
   "execution_count": null,
   "id": "a2f25ad8-3693-427a-bba7-fd6382bb7fdb",
   "metadata": {},
   "outputs": [],
   "source": []
  },
  {
   "cell_type": "code",
   "execution_count": null,
   "id": "9e6437b5-c5df-4cfa-8ea7-896682aae62e",
   "metadata": {},
   "outputs": [],
   "source": []
  },
  {
   "cell_type": "code",
   "execution_count": null,
   "id": "2bf4fd20-ba3e-40fa-9e9c-606ab233fab3",
   "metadata": {},
   "outputs": [],
   "source": [
    "def suma(a, b"
   ]
  },
  {
   "cell_type": "code",
   "execution_count": null,
   "id": "bf506f61-d99f-4967-9ed1-0cab37a7ea31",
   "metadata": {},
   "outputs": [],
   "source": []
  },
  {
   "cell_type": "code",
   "execution_count": null,
   "id": "0f0902d3-cc9e-4272-80b7-b5bdcdd602c7",
   "metadata": {},
   "outputs": [],
   "source": []
  },
  {
   "cell_type": "code",
   "execution_count": 2,
   "id": "1ac10c62-c593-4f93-8a8d-92908e38cf7b",
   "metadata": {},
   "outputs": [
    {
     "name": "stdout",
     "output_type": "stream",
     "text": [
      "\n"
     ]
    }
   ],
   "source": [
    "print()"
   ]
  },
  {
   "cell_type": "code",
   "execution_count": 1,
   "id": "a2069ddf-cfa3-4e80-80db-83b916e726fa",
   "metadata": {},
   "outputs": [
    {
     "name": "stdout",
     "output_type": "stream",
     "text": [
      "a\n",
      "\n",
      "b\n"
     ]
    }
   ],
   "source": [
    "print(\"a\")\n",
    "print()\n",
    "print(\"b\")"
   ]
  },
  {
   "cell_type": "code",
   "execution_count": 3,
   "id": "e6ebd737-ff9a-4f45-b97a-9250bbee5803",
   "metadata": {},
   "outputs": [
    {
     "name": "stdout",
     "output_type": "stream",
     "text": [
      "1 2 3\n"
     ]
    }
   ],
   "source": [
    "print(1, 2, 3)"
   ]
  },
  {
   "cell_type": "code",
   "execution_count": 8,
   "id": "4af84a16-6288-4767-abbc-837162f7fb90",
   "metadata": {},
   "outputs": [
    {
     "name": "stdout",
     "output_type": "stream",
     "text": [
      "<class 'tuple'>\n",
      "(1, 2, 3, 4, 5, 6, 7, 8, 9)\n"
     ]
    },
    {
     "data": {
      "text/plain": [
       "45"
      ]
     },
     "execution_count": 8,
     "metadata": {},
     "output_type": "execute_result"
    }
   ],
   "source": [
    "def suma(*args): #todos los argumentos... args es una tupla. Este args estaría recibiendo valores simples, todos los argumentos\n",
    "    print(type(args))\n",
    "    print(args)\n",
    "    return sum(args)\n",
    "\n",
    "suma(1, 2, 3, 4, 5, 6, 7, 8, 9)"
   ]
  },
  {
   "cell_type": "code",
   "execution_count": 12,
   "id": "8e43a475-0a00-4d9a-bccc-0412de83b0c8",
   "metadata": {},
   "outputs": [
    {
     "name": "stdout",
     "output_type": "stream",
     "text": [
      "<class 'dict'>\n",
      "{'a': 3, 'd': 2, 'b': -1, 'c': 17}\n"
     ]
    }
   ],
   "source": [
    "def suma(**kwargs): #keywords args\n",
    "    print(type(kwargs))\n",
    "    print(kwargs)\n",
    "\n",
    "suma(a = 3, d = 2, b = -1, c = 17)"
   ]
  },
  {
   "cell_type": "code",
   "execution_count": 13,
   "id": "be9608b5-774f-40c2-91f4-590f1db9c4a7",
   "metadata": {},
   "outputs": [],
   "source": [
    "def suma(a, b, c = 0, d = 0, *args, **kwargs):\n",
    "    pass"
   ]
  },
  {
   "cell_type": "code",
   "execution_count": null,
   "id": "8b56ee6d-bbe0-4752-a473-f9a9e113e4d8",
   "metadata": {},
   "outputs": [],
   "source": []
  },
  {
   "cell_type": "markdown",
   "id": "4186cfed-8110-44ae-b7d5-e38644c37700",
   "metadata": {},
   "source": [
    "## Funciones Lambda - Funciones anónimas"
   ]
  },
  {
   "cell_type": "code",
   "execution_count": 14,
   "id": "e7d26278-88ea-47b2-bac1-78559fa770ed",
   "metadata": {},
   "outputs": [
    {
     "data": {
      "text/plain": [
       "<function __main__.<lambda>(n)>"
      ]
     },
     "execution_count": 14,
     "metadata": {},
     "output_type": "execute_result"
    }
   ],
   "source": [
    "lambda n: n ** 2"
   ]
  },
  {
   "cell_type": "code",
   "execution_count": 15,
   "id": "3d3cba5f-039c-42b4-954f-791fb15c15ca",
   "metadata": {},
   "outputs": [
    {
     "data": {
      "text/plain": [
       "36"
      ]
     },
     "execution_count": 15,
     "metadata": {},
     "output_type": "execute_result"
    }
   ],
   "source": [
    "(lambda n: n ** 2)(6)"
   ]
  },
  {
   "cell_type": "code",
   "execution_count": 18,
   "id": "1f215969-5e56-4f6b-8888-b7ad5453a778",
   "metadata": {},
   "outputs": [],
   "source": [
    "square = lambda n: n ** 2 "
   ]
  },
  {
   "cell_type": "code",
   "execution_count": 20,
   "id": "1230eba2-1463-41a8-8299-0a113b485ba2",
   "metadata": {},
   "outputs": [
    {
     "data": {
      "text/plain": [
       "<function __main__.<lambda>(n)>"
      ]
     },
     "execution_count": 20,
     "metadata": {},
     "output_type": "execute_result"
    }
   ],
   "source": [
    "square"
   ]
  },
  {
   "cell_type": "code",
   "execution_count": 21,
   "id": "1c9cb8ce-1003-4c8b-b49c-ab710091203e",
   "metadata": {},
   "outputs": [
    {
     "data": {
      "text/plain": [
       "<function sum(iterable, /, start=0)>"
      ]
     },
     "execution_count": 21,
     "metadata": {},
     "output_type": "execute_result"
    }
   ],
   "source": [
    "sum"
   ]
  },
  {
   "cell_type": "code",
   "execution_count": 17,
   "id": "79da804e-bb64-4b94-b057-72b4a2f8d740",
   "metadata": {},
   "outputs": [
    {
     "data": {
      "text/plain": [
       "25"
      ]
     },
     "execution_count": 17,
     "metadata": {},
     "output_type": "execute_result"
    }
   ],
   "source": [
    "square(5)"
   ]
  },
  {
   "cell_type": "code",
   "execution_count": null,
   "id": "52d546b7-9691-475e-b43c-e1925329ca0d",
   "metadata": {},
   "outputs": [],
   "source": []
  },
  {
   "cell_type": "markdown",
   "id": "044757a5-4891-4f7e-b5c2-665663878022",
   "metadata": {},
   "source": [
    "## Función Filter"
   ]
  },
  {
   "cell_type": "code",
   "execution_count": 22,
   "id": "c80c4859-4ee2-473b-9c22-20841c37ca81",
   "metadata": {},
   "outputs": [],
   "source": [
    "temp = [16, -5, 11, -1, 32, 28]"
   ]
  },
  {
   "cell_type": "code",
   "execution_count": 29,
   "id": "6e275d2a-3054-4c07-8c22-8eccb8da9995",
   "metadata": {},
   "outputs": [
    {
     "data": {
      "text/plain": [
       "list"
      ]
     },
     "execution_count": 29,
     "metadata": {},
     "output_type": "execute_result"
    }
   ],
   "source": [
    "type(temp)"
   ]
  },
  {
   "cell_type": "code",
   "execution_count": 25,
   "id": "fe594a65-1067-41a1-be51-ddcb23fd06e3",
   "metadata": {},
   "outputs": [],
   "source": [
    "def temp_positive(n):\n",
    "    if n > 0:\n",
    "        return True\n",
    "    else:\n",
    "        return False"
   ]
  },
  {
   "cell_type": "code",
   "execution_count": 26,
   "id": "08f7a7ea-10f5-49e7-be74-92f23757e0ff",
   "metadata": {},
   "outputs": [],
   "source": [
    "def temp_positive(n):\n",
    "    return n > 0"
   ]
  },
  {
   "cell_type": "code",
   "execution_count": 27,
   "id": "9576e4e3-cbcd-4085-8732-4329492c7f46",
   "metadata": {},
   "outputs": [
    {
     "data": {
      "text/plain": [
       "<filter at 0x291dc314550>"
      ]
     },
     "execution_count": 27,
     "metadata": {},
     "output_type": "execute_result"
    }
   ],
   "source": [
    "filter(temp_positive, temp)"
   ]
  },
  {
   "cell_type": "code",
   "execution_count": 28,
   "id": "fe4a0706-7e2e-4d6c-9aa2-28be55558e29",
   "metadata": {},
   "outputs": [
    {
     "data": {
      "text/plain": [
       "[16, 11, 32, 28]"
      ]
     },
     "execution_count": 28,
     "metadata": {},
     "output_type": "execute_result"
    }
   ],
   "source": [
    "list(filter(temp_positive, temp))"
   ]
  },
  {
   "cell_type": "code",
   "execution_count": 30,
   "id": "9b2df5d8-6693-4ff4-a2b9-b6367e14f5cb",
   "metadata": {},
   "outputs": [
    {
     "data": {
      "text/plain": [
       "[16, 11, 32, 28]"
      ]
     },
     "execution_count": 30,
     "metadata": {},
     "output_type": "execute_result"
    }
   ],
   "source": [
    "list(filter(lambda n : n > 0, temp)) #ahora con funcion lambda"
   ]
  },
  {
   "cell_type": "code",
   "execution_count": null,
   "id": "3f0f8b90-6a5a-415f-852a-da3fc54393ed",
   "metadata": {},
   "outputs": [],
   "source": []
  },
  {
   "cell_type": "markdown",
   "id": "1523e971-9551-4551-9c9f-f3cbf2c1a2d8",
   "metadata": {},
   "source": [
    "## Función Map"
   ]
  },
  {
   "cell_type": "code",
   "execution_count": 33,
   "id": "8fee421c-2a3d-4e54-8a4b-c4e1eca3f797",
   "metadata": {},
   "outputs": [
    {
     "data": {
      "text/plain": [
       "[16, -5, 11, -1, 32, 28]"
      ]
     },
     "execution_count": 33,
     "metadata": {},
     "output_type": "execute_result"
    }
   ],
   "source": [
    "temp"
   ]
  },
  {
   "cell_type": "code",
   "execution_count": 52,
   "id": "0e89fad7-5d13-41e3-9a8d-e3ed0692f1ab",
   "metadata": {},
   "outputs": [],
   "source": [
    "def to_fahrenheit(n):\n",
    "    return n * 1.8 + 32"
   ]
  },
  {
   "cell_type": "code",
   "execution_count": 38,
   "id": "bc80cc93-66d4-44bd-ae0a-7c21b7069cc7",
   "metadata": {},
   "outputs": [
    {
     "data": {
      "text/plain": [
       "<map at 0x291dc31ba00>"
      ]
     },
     "execution_count": 38,
     "metadata": {},
     "output_type": "execute_result"
    }
   ],
   "source": [
    "map(to_fahrenheit, temp)"
   ]
  },
  {
   "cell_type": "code",
   "execution_count": 53,
   "id": "e05885c4-6806-4ca3-af0a-826fbe0854bf",
   "metadata": {},
   "outputs": [
    {
     "data": {
      "text/plain": [
       "[60.8, 23.0, 51.8, 30.2, 89.6, 82.4]"
      ]
     },
     "execution_count": 53,
     "metadata": {},
     "output_type": "execute_result"
    }
   ],
   "source": [
    "list(map(to_fahrenheit, temp))"
   ]
  },
  {
   "cell_type": "code",
   "execution_count": 44,
   "id": "11424f50-77f6-4b7a-a00a-ba849a77cd7d",
   "metadata": {},
   "outputs": [
    {
     "data": {
      "text/plain": [
       "[60.8, 23.0, 51.8, 30.2, 89.6, 82.4]"
      ]
     },
     "execution_count": 44,
     "metadata": {},
     "output_type": "execute_result"
    }
   ],
   "source": [
    "list(map(lambda n: n * 1.8 + 32, temp))"
   ]
  },
  {
   "cell_type": "code",
   "execution_count": null,
   "id": "1c237ce4-575f-45bd-bd66-0d7c57615005",
   "metadata": {},
   "outputs": [],
   "source": []
  },
  {
   "cell_type": "markdown",
   "id": "14388011-9cde-430e-ac72-c32d77853c31",
   "metadata": {},
   "source": [
    "# Librerías"
   ]
  },
  {
   "cell_type": "code",
   "execution_count": 45,
   "id": "0675a710-2ad3-49b8-b6e4-fb551c6a1681",
   "metadata": {},
   "outputs": [],
   "source": [
    "def suma(a, b):\n",
    "    return a + b"
   ]
  },
  {
   "cell_type": "code",
   "execution_count": 46,
   "id": "3ab1e393-598a-4577-bfec-6fff3d5bcce5",
   "metadata": {},
   "outputs": [],
   "source": [
    "def resta(a, b):\n",
    "    return a - b"
   ]
  },
  {
   "cell_type": "code",
   "execution_count": 50,
   "id": "f8fe5c23-9779-4443-b61c-164e190353e5",
   "metadata": {},
   "outputs": [],
   "source": [
    "def multiplica(a, b):\n",
    "    return a * b"
   ]
  },
  {
   "cell_type": "code",
   "execution_count": 48,
   "id": "97fe2d6a-a860-47c8-96a5-8044d10d2d34",
   "metadata": {},
   "outputs": [],
   "source": [
    "pi = 3.141592"
   ]
  },
  {
   "cell_type": "code",
   "execution_count": 51,
   "id": "4a8abe3d-9030-4232-ac47-ee2a54fc8d5b",
   "metadata": {},
   "outputs": [
    {
     "data": {
      "text/plain": [
       "17.009999999999998"
      ]
     },
     "execution_count": 51,
     "metadata": {},
     "output_type": "execute_result"
    }
   ],
   "source": [
    "multiplica(3, 5.67)"
   ]
  },
  {
   "cell_type": "code",
   "execution_count": null,
   "id": "4382be85-2ea1-41bb-9347-6570a9ecb416",
   "metadata": {},
   "outputs": [],
   "source": []
  }
 ],
 "metadata": {
  "kernelspec": {
   "display_name": "Python 3 (ipykernel)",
   "language": "python",
   "name": "python3"
  },
  "language_info": {
   "codemirror_mode": {
    "name": "ipython",
    "version": 3
   },
   "file_extension": ".py",
   "mimetype": "text/x-python",
   "name": "python",
   "nbconvert_exporter": "python",
   "pygments_lexer": "ipython3",
   "version": "3.11.7"
  }
 },
 "nbformat": 4,
 "nbformat_minor": 5
}
