{
 "cells": [
  {
   "cell_type": "code",
   "execution_count": 1,
   "id": "2c13641a-f5a4-4c36-a308-48f2c4523200",
   "metadata": {},
   "outputs": [],
   "source": [
    "import numpy as np\n",
    "import pandas as pd\n",
    "import matplotlib.pyplot as plt\n",
    "import seaborn as sns"
   ]
  },
  {
   "cell_type": "code",
   "execution_count": 2,
   "id": "2e2ab85a-11b2-4901-8978-450b45a74888",
   "metadata": {},
   "outputs": [],
   "source": [
    "names = lambda obj: print([name for name in dir(obj) if name[0] != \"_\"])"
   ]
  },
  {
   "cell_type": "code",
   "execution_count": 3,
   "id": "cef2d594-17e2-4d97-b77d-f1e4311007bb",
   "metadata": {},
   "outputs": [],
   "source": [
    "iris = sns.load_dataset(\"iris\")\n",
    "tips = sns.load_dataset(\"tips\")\n",
    "titanic = sns.load_dataset(\"titanic\")\n",
    "flights = sns.load_dataset(\"flights\")"
   ]
  },
  {
   "cell_type": "code",
   "execution_count": null,
   "id": "97ac8743-2867-440e-b397-1a173eb5b986",
   "metadata": {},
   "outputs": [],
   "source": []
  },
  {
   "cell_type": "markdown",
   "id": "7c85f1a4-f4c7-442c-ac54-333485a72d93",
   "metadata": {},
   "source": [
    "# Pandas"
   ]
  },
  {
   "cell_type": "markdown",
   "id": "4f9e0f6a-bbd5-4055-9b1a-32510dccbd7d",
   "metadata": {},
   "source": [
    "### Funciones y mapeado"
   ]
  },
  {
   "cell_type": "code",
   "execution_count": 4,
   "id": "a3e876b6-1579-49da-a55c-37852f10678b",
   "metadata": {},
   "outputs": [
    {
     "data": {
      "text/html": [
       "<div>\n",
       "<style scoped>\n",
       "    .dataframe tbody tr th:only-of-type {\n",
       "        vertical-align: middle;\n",
       "    }\n",
       "\n",
       "    .dataframe tbody tr th {\n",
       "        vertical-align: top;\n",
       "    }\n",
       "\n",
       "    .dataframe thead th {\n",
       "        text-align: right;\n",
       "    }\n",
       "</style>\n",
       "<table border=\"1\" class=\"dataframe\">\n",
       "  <thead>\n",
       "    <tr style=\"text-align: right;\">\n",
       "      <th></th>\n",
       "      <th>total_bill</th>\n",
       "      <th>tip</th>\n",
       "      <th>sex</th>\n",
       "      <th>smoker</th>\n",
       "      <th>day</th>\n",
       "      <th>time</th>\n",
       "      <th>size</th>\n",
       "    </tr>\n",
       "  </thead>\n",
       "  <tbody>\n",
       "    <tr>\n",
       "      <th>0</th>\n",
       "      <td>16.99</td>\n",
       "      <td>1.01</td>\n",
       "      <td>Female</td>\n",
       "      <td>No</td>\n",
       "      <td>Sun</td>\n",
       "      <td>Dinner</td>\n",
       "      <td>2</td>\n",
       "    </tr>\n",
       "    <tr>\n",
       "      <th>1</th>\n",
       "      <td>10.34</td>\n",
       "      <td>1.66</td>\n",
       "      <td>Male</td>\n",
       "      <td>No</td>\n",
       "      <td>Sun</td>\n",
       "      <td>Dinner</td>\n",
       "      <td>3</td>\n",
       "    </tr>\n",
       "    <tr>\n",
       "      <th>2</th>\n",
       "      <td>21.01</td>\n",
       "      <td>3.50</td>\n",
       "      <td>Male</td>\n",
       "      <td>No</td>\n",
       "      <td>Sun</td>\n",
       "      <td>Dinner</td>\n",
       "      <td>3</td>\n",
       "    </tr>\n",
       "    <tr>\n",
       "      <th>3</th>\n",
       "      <td>23.68</td>\n",
       "      <td>3.31</td>\n",
       "      <td>Male</td>\n",
       "      <td>No</td>\n",
       "      <td>Sun</td>\n",
       "      <td>Dinner</td>\n",
       "      <td>2</td>\n",
       "    </tr>\n",
       "    <tr>\n",
       "      <th>4</th>\n",
       "      <td>24.59</td>\n",
       "      <td>3.61</td>\n",
       "      <td>Female</td>\n",
       "      <td>No</td>\n",
       "      <td>Sun</td>\n",
       "      <td>Dinner</td>\n",
       "      <td>4</td>\n",
       "    </tr>\n",
       "  </tbody>\n",
       "</table>\n",
       "</div>"
      ],
      "text/plain": [
       "   total_bill   tip     sex smoker  day    time  size\n",
       "0       16.99  1.01  Female     No  Sun  Dinner     2\n",
       "1       10.34  1.66    Male     No  Sun  Dinner     3\n",
       "2       21.01  3.50    Male     No  Sun  Dinner     3\n",
       "3       23.68  3.31    Male     No  Sun  Dinner     2\n",
       "4       24.59  3.61  Female     No  Sun  Dinner     4"
      ]
     },
     "execution_count": 4,
     "metadata": {},
     "output_type": "execute_result"
    }
   ],
   "source": [
    "tips.head()"
   ]
  },
  {
   "cell_type": "code",
   "execution_count": 5,
   "id": "301dc193-61ca-4a2e-9aa2-4cfdd32b025a",
   "metadata": {},
   "outputs": [
    {
     "data": {
      "text/plain": [
       "['Sun', 'Sat', 'Thur', 'Fri']\n",
       "Categories (4, object): ['Thur', 'Fri', 'Sat', 'Sun']"
      ]
     },
     "execution_count": 5,
     "metadata": {},
     "output_type": "execute_result"
    }
   ],
   "source": [
    "tips.day.unique()"
   ]
  },
  {
   "cell_type": "code",
   "execution_count": 6,
   "id": "62276ab9-3da0-499f-8335-49342b8aa02d",
   "metadata": {},
   "outputs": [
    {
     "data": {
      "text/plain": [
       "day\n",
       "Sat     87\n",
       "Sun     76\n",
       "Thur    62\n",
       "Fri     19\n",
       "Name: count, dtype: int64"
      ]
     },
     "execution_count": 6,
     "metadata": {},
     "output_type": "execute_result"
    }
   ],
   "source": [
    "tips.day.value_counts() #el nº de vcs que aparece cada valor"
   ]
  },
  {
   "cell_type": "code",
   "execution_count": 7,
   "id": "0fbd3fbd-fd7d-41b4-b9e0-4c31a7506a4d",
   "metadata": {},
   "outputs": [
    {
     "data": {
      "text/plain": [
       "0        Sunday\n",
       "1        Sunday\n",
       "2        Sunday\n",
       "3        Sunday\n",
       "4        Sunday\n",
       "         ...   \n",
       "239    Saturday\n",
       "240    Saturday\n",
       "241    Saturday\n",
       "242    Saturday\n",
       "243    Thursday\n",
       "Name: day, Length: 244, dtype: category\n",
       "Categories (4, object): ['Thursday', 'Friday', 'Saturday', 'Sunday']"
      ]
     },
     "execution_count": 7,
     "metadata": {},
     "output_type": "execute_result"
    }
   ],
   "source": [
    "tips.day.map({\"Thur\": \"Thursday\", \"Fri\": \"Friday\", \"Sat\": \"Saturday\", \"Sun\": \"Sunday\"})"
   ]
  },
  {
   "cell_type": "code",
   "execution_count": 8,
   "id": "e7dd7cfb-28cf-4614-9e84-e8acc5b5b7bc",
   "metadata": {},
   "outputs": [],
   "source": [
    "tips.day = tips.day.map({\"Thur\": \"Thursday\", \"Fri\": \"Friday\", \"Sat\": \"Saturday\", \"Sun\": \"Sunday\"})"
   ]
  },
  {
   "cell_type": "code",
   "execution_count": 9,
   "id": "6e97195d-d9b7-4175-8b22-e34f6dd8a0fc",
   "metadata": {},
   "outputs": [
    {
     "data": {
      "text/plain": [
       "0        Sunday\n",
       "1        Sunday\n",
       "2        Sunday\n",
       "3        Sunday\n",
       "4        Sunday\n",
       "         ...   \n",
       "239    Saturday\n",
       "240    Saturday\n",
       "241    Saturday\n",
       "242    Saturday\n",
       "243    Thursday\n",
       "Name: day, Length: 244, dtype: category\n",
       "Categories (4, object): ['Thursday', 'Friday', 'Saturday', 'Sunday']"
      ]
     },
     "execution_count": 9,
     "metadata": {},
     "output_type": "execute_result"
    }
   ],
   "source": [
    "tips.day"
   ]
  },
  {
   "cell_type": "code",
   "execution_count": 10,
   "id": "2117bb69-dc7b-4ce2-a969-0f7731c125b6",
   "metadata": {},
   "outputs": [
    {
     "data": {
      "text/html": [
       "<div>\n",
       "<style scoped>\n",
       "    .dataframe tbody tr th:only-of-type {\n",
       "        vertical-align: middle;\n",
       "    }\n",
       "\n",
       "    .dataframe tbody tr th {\n",
       "        vertical-align: top;\n",
       "    }\n",
       "\n",
       "    .dataframe thead th {\n",
       "        text-align: right;\n",
       "    }\n",
       "</style>\n",
       "<table border=\"1\" class=\"dataframe\">\n",
       "  <thead>\n",
       "    <tr style=\"text-align: right;\">\n",
       "      <th></th>\n",
       "      <th>total_bill</th>\n",
       "      <th>tip</th>\n",
       "      <th>sex</th>\n",
       "      <th>smoker</th>\n",
       "      <th>day</th>\n",
       "      <th>time</th>\n",
       "      <th>size</th>\n",
       "    </tr>\n",
       "  </thead>\n",
       "  <tbody>\n",
       "    <tr>\n",
       "      <th>0</th>\n",
       "      <td>16.99</td>\n",
       "      <td>1.01</td>\n",
       "      <td>Female</td>\n",
       "      <td>No</td>\n",
       "      <td>Sunday</td>\n",
       "      <td>Dinner</td>\n",
       "      <td>2</td>\n",
       "    </tr>\n",
       "    <tr>\n",
       "      <th>1</th>\n",
       "      <td>10.34</td>\n",
       "      <td>1.66</td>\n",
       "      <td>Male</td>\n",
       "      <td>No</td>\n",
       "      <td>Sunday</td>\n",
       "      <td>Dinner</td>\n",
       "      <td>3</td>\n",
       "    </tr>\n",
       "    <tr>\n",
       "      <th>2</th>\n",
       "      <td>21.01</td>\n",
       "      <td>3.50</td>\n",
       "      <td>Male</td>\n",
       "      <td>No</td>\n",
       "      <td>Sunday</td>\n",
       "      <td>Dinner</td>\n",
       "      <td>3</td>\n",
       "    </tr>\n",
       "    <tr>\n",
       "      <th>3</th>\n",
       "      <td>23.68</td>\n",
       "      <td>3.31</td>\n",
       "      <td>Male</td>\n",
       "      <td>No</td>\n",
       "      <td>Sunday</td>\n",
       "      <td>Dinner</td>\n",
       "      <td>2</td>\n",
       "    </tr>\n",
       "    <tr>\n",
       "      <th>4</th>\n",
       "      <td>24.59</td>\n",
       "      <td>3.61</td>\n",
       "      <td>Female</td>\n",
       "      <td>No</td>\n",
       "      <td>Sunday</td>\n",
       "      <td>Dinner</td>\n",
       "      <td>4</td>\n",
       "    </tr>\n",
       "    <tr>\n",
       "      <th>...</th>\n",
       "      <td>...</td>\n",
       "      <td>...</td>\n",
       "      <td>...</td>\n",
       "      <td>...</td>\n",
       "      <td>...</td>\n",
       "      <td>...</td>\n",
       "      <td>...</td>\n",
       "    </tr>\n",
       "    <tr>\n",
       "      <th>239</th>\n",
       "      <td>29.03</td>\n",
       "      <td>5.92</td>\n",
       "      <td>Male</td>\n",
       "      <td>No</td>\n",
       "      <td>Saturday</td>\n",
       "      <td>Dinner</td>\n",
       "      <td>3</td>\n",
       "    </tr>\n",
       "    <tr>\n",
       "      <th>240</th>\n",
       "      <td>27.18</td>\n",
       "      <td>2.00</td>\n",
       "      <td>Female</td>\n",
       "      <td>Yes</td>\n",
       "      <td>Saturday</td>\n",
       "      <td>Dinner</td>\n",
       "      <td>2</td>\n",
       "    </tr>\n",
       "    <tr>\n",
       "      <th>241</th>\n",
       "      <td>22.67</td>\n",
       "      <td>2.00</td>\n",
       "      <td>Male</td>\n",
       "      <td>Yes</td>\n",
       "      <td>Saturday</td>\n",
       "      <td>Dinner</td>\n",
       "      <td>2</td>\n",
       "    </tr>\n",
       "    <tr>\n",
       "      <th>242</th>\n",
       "      <td>17.82</td>\n",
       "      <td>1.75</td>\n",
       "      <td>Male</td>\n",
       "      <td>No</td>\n",
       "      <td>Saturday</td>\n",
       "      <td>Dinner</td>\n",
       "      <td>2</td>\n",
       "    </tr>\n",
       "    <tr>\n",
       "      <th>243</th>\n",
       "      <td>18.78</td>\n",
       "      <td>3.00</td>\n",
       "      <td>Female</td>\n",
       "      <td>No</td>\n",
       "      <td>Thursday</td>\n",
       "      <td>Dinner</td>\n",
       "      <td>2</td>\n",
       "    </tr>\n",
       "  </tbody>\n",
       "</table>\n",
       "<p>244 rows × 7 columns</p>\n",
       "</div>"
      ],
      "text/plain": [
       "     total_bill   tip     sex smoker       day    time  size\n",
       "0         16.99  1.01  Female     No    Sunday  Dinner     2\n",
       "1         10.34  1.66    Male     No    Sunday  Dinner     3\n",
       "2         21.01  3.50    Male     No    Sunday  Dinner     3\n",
       "3         23.68  3.31    Male     No    Sunday  Dinner     2\n",
       "4         24.59  3.61  Female     No    Sunday  Dinner     4\n",
       "..          ...   ...     ...    ...       ...     ...   ...\n",
       "239       29.03  5.92    Male     No  Saturday  Dinner     3\n",
       "240       27.18  2.00  Female    Yes  Saturday  Dinner     2\n",
       "241       22.67  2.00    Male    Yes  Saturday  Dinner     2\n",
       "242       17.82  1.75    Male     No  Saturday  Dinner     2\n",
       "243       18.78  3.00  Female     No  Thursday  Dinner     2\n",
       "\n",
       "[244 rows x 7 columns]"
      ]
     },
     "execution_count": 10,
     "metadata": {},
     "output_type": "execute_result"
    }
   ],
   "source": [
    "tips"
   ]
  },
  {
   "cell_type": "code",
   "execution_count": 11,
   "id": "e35461fc-2730-416a-98d0-a2d9b3509bbf",
   "metadata": {},
   "outputs": [
    {
     "data": {
      "text/html": [
       "<div>\n",
       "<style scoped>\n",
       "    .dataframe tbody tr th:only-of-type {\n",
       "        vertical-align: middle;\n",
       "    }\n",
       "\n",
       "    .dataframe tbody tr th {\n",
       "        vertical-align: top;\n",
       "    }\n",
       "\n",
       "    .dataframe thead th {\n",
       "        text-align: right;\n",
       "    }\n",
       "</style>\n",
       "<table border=\"1\" class=\"dataframe\">\n",
       "  <thead>\n",
       "    <tr style=\"text-align: right;\">\n",
       "      <th></th>\n",
       "      <th>total_bill</th>\n",
       "      <th>tip</th>\n",
       "      <th>sex</th>\n",
       "      <th>smoker</th>\n",
       "      <th>day</th>\n",
       "      <th>time</th>\n",
       "      <th>size</th>\n",
       "    </tr>\n",
       "  </thead>\n",
       "  <tbody>\n",
       "    <tr>\n",
       "      <th>0</th>\n",
       "      <td>16.99</td>\n",
       "      <td>1.01</td>\n",
       "      <td>Female</td>\n",
       "      <td>No</td>\n",
       "      <td>Sunday</td>\n",
       "      <td>Dinner</td>\n",
       "      <td>2</td>\n",
       "    </tr>\n",
       "    <tr>\n",
       "      <th>1</th>\n",
       "      <td>10.34</td>\n",
       "      <td>1.66</td>\n",
       "      <td>Male</td>\n",
       "      <td>No</td>\n",
       "      <td>Sunday</td>\n",
       "      <td>Dinner</td>\n",
       "      <td>3</td>\n",
       "    </tr>\n",
       "    <tr>\n",
       "      <th>2</th>\n",
       "      <td>21.01</td>\n",
       "      <td>3.50</td>\n",
       "      <td>Male</td>\n",
       "      <td>No</td>\n",
       "      <td>Sunday</td>\n",
       "      <td>Dinner</td>\n",
       "      <td>3</td>\n",
       "    </tr>\n",
       "    <tr>\n",
       "      <th>3</th>\n",
       "      <td>23.68</td>\n",
       "      <td>3.31</td>\n",
       "      <td>Male</td>\n",
       "      <td>No</td>\n",
       "      <td>Sunday</td>\n",
       "      <td>Dinner</td>\n",
       "      <td>2</td>\n",
       "    </tr>\n",
       "    <tr>\n",
       "      <th>4</th>\n",
       "      <td>24.59</td>\n",
       "      <td>3.61</td>\n",
       "      <td>Female</td>\n",
       "      <td>No</td>\n",
       "      <td>Sunday</td>\n",
       "      <td>Dinner</td>\n",
       "      <td>4</td>\n",
       "    </tr>\n",
       "  </tbody>\n",
       "</table>\n",
       "</div>"
      ],
      "text/plain": [
       "   total_bill   tip     sex smoker     day    time  size\n",
       "0       16.99  1.01  Female     No  Sunday  Dinner     2\n",
       "1       10.34  1.66    Male     No  Sunday  Dinner     3\n",
       "2       21.01  3.50    Male     No  Sunday  Dinner     3\n",
       "3       23.68  3.31    Male     No  Sunday  Dinner     2\n",
       "4       24.59  3.61  Female     No  Sunday  Dinner     4"
      ]
     },
     "execution_count": 11,
     "metadata": {},
     "output_type": "execute_result"
    }
   ],
   "source": [
    "tips.head()"
   ]
  },
  {
   "cell_type": "code",
   "execution_count": 12,
   "id": "697b2755-75cf-4c30-b73b-1be5488f601a",
   "metadata": {},
   "outputs": [
    {
     "data": {
      "text/plain": [
       "0      288.6601\n",
       "1      106.9156\n",
       "2      441.4201\n",
       "3      560.7424\n",
       "4      604.6681\n",
       "         ...   \n",
       "239    842.7409\n",
       "240    738.7524\n",
       "241    513.9289\n",
       "242    317.5524\n",
       "243    352.6884\n",
       "Name: total_bill, Length: 244, dtype: float64"
      ]
     },
     "execution_count": 12,
     "metadata": {},
     "output_type": "execute_result"
    }
   ],
   "source": [
    "tips.total_bill.apply(np.square)"
   ]
  },
  {
   "cell_type": "code",
   "execution_count": 13,
   "id": "01f7d334-9a36-4123-a70f-a093ed5212d1",
   "metadata": {},
   "outputs": [],
   "source": [
    "def addOne(n):\n",
    "    return n + 1"
   ]
  },
  {
   "cell_type": "code",
   "execution_count": 14,
   "id": "681d3c5d-e303-4def-8029-d626d49c036c",
   "metadata": {},
   "outputs": [
    {
     "data": {
      "text/plain": [
       "0    16.99\n",
       "1    10.34\n",
       "2    21.01\n",
       "3    23.68\n",
       "4    24.59\n",
       "Name: total_bill, dtype: float64"
      ]
     },
     "execution_count": 14,
     "metadata": {},
     "output_type": "execute_result"
    }
   ],
   "source": [
    "tips.total_bill.head()"
   ]
  },
  {
   "cell_type": "code",
   "execution_count": 15,
   "id": "3cc9c208-e8be-460c-8794-a84a4eeb7385",
   "metadata": {},
   "outputs": [
    {
     "data": {
      "text/plain": [
       "0    17.99\n",
       "1    11.34\n",
       "2    22.01\n",
       "3    24.68\n",
       "4    25.59\n",
       "Name: total_bill, dtype: float64"
      ]
     },
     "execution_count": 15,
     "metadata": {},
     "output_type": "execute_result"
    }
   ],
   "source": [
    "tips.total_bill.apply(addOne).head()"
   ]
  },
  {
   "cell_type": "code",
   "execution_count": null,
   "id": "c0622044-b1ad-4686-9c34-bd05bfdcf0d6",
   "metadata": {},
   "outputs": [],
   "source": []
  },
  {
   "cell_type": "markdown",
   "id": "bb9e3d51-9d9b-4ff6-b801-dfb9ae29b6d6",
   "metadata": {},
   "source": [
    "## Agrupaciones con estructuras Pandas"
   ]
  },
  {
   "cell_type": "code",
   "execution_count": 16,
   "id": "5300d5cf-e989-419e-a5ff-69f27ec72cc7",
   "metadata": {},
   "outputs": [
    {
     "data": {
      "text/plain": [
       "A    2\n",
       "B    4\n",
       "A    6\n",
       "B    5\n",
       "C    3\n",
       "dtype: int64"
      ]
     },
     "execution_count": 16,
     "metadata": {},
     "output_type": "execute_result"
    }
   ],
   "source": [
    "s = pd.Series([2, 4, 6, 5, 3], index = list(\"ABABC\"))\n",
    "s"
   ]
  },
  {
   "cell_type": "code",
   "execution_count": 17,
   "id": "8837e30c-b671-4b64-9fe9-d3df4eb910f8",
   "metadata": {},
   "outputs": [
    {
     "data": {
      "text/plain": [
       "<pandas.core.groupby.generic.SeriesGroupBy object at 0x7f501bb7ff10>"
      ]
     },
     "execution_count": 17,
     "metadata": {},
     "output_type": "execute_result"
    }
   ],
   "source": [
    "s.groupby(s.index)"
   ]
  },
  {
   "cell_type": "code",
   "execution_count": 18,
   "id": "e0a0bf14-7ed5-45d0-8bb6-e022d0cf961f",
   "metadata": {},
   "outputs": [
    {
     "data": {
      "text/plain": [
       "A    8\n",
       "B    9\n",
       "C    3\n",
       "dtype: int64"
      ]
     },
     "execution_count": 18,
     "metadata": {},
     "output_type": "execute_result"
    }
   ],
   "source": [
    "s.groupby(s.index).sum()"
   ]
  },
  {
   "cell_type": "code",
   "execution_count": 19,
   "id": "430acbc7-b608-4286-b9ba-2c34ac8f84e6",
   "metadata": {},
   "outputs": [
    {
     "data": {
      "text/html": [
       "<div>\n",
       "<style scoped>\n",
       "    .dataframe tbody tr th:only-of-type {\n",
       "        vertical-align: middle;\n",
       "    }\n",
       "\n",
       "    .dataframe tbody tr th {\n",
       "        vertical-align: top;\n",
       "    }\n",
       "\n",
       "    .dataframe thead th {\n",
       "        text-align: right;\n",
       "    }\n",
       "</style>\n",
       "<table border=\"1\" class=\"dataframe\">\n",
       "  <thead>\n",
       "    <tr style=\"text-align: right;\">\n",
       "      <th></th>\n",
       "      <th>total_bill</th>\n",
       "      <th>tip</th>\n",
       "      <th>sex</th>\n",
       "      <th>smoker</th>\n",
       "      <th>day</th>\n",
       "      <th>time</th>\n",
       "      <th>size</th>\n",
       "    </tr>\n",
       "  </thead>\n",
       "  <tbody>\n",
       "    <tr>\n",
       "      <th>0</th>\n",
       "      <td>16.99</td>\n",
       "      <td>1.01</td>\n",
       "      <td>Female</td>\n",
       "      <td>No</td>\n",
       "      <td>Sunday</td>\n",
       "      <td>Dinner</td>\n",
       "      <td>2</td>\n",
       "    </tr>\n",
       "    <tr>\n",
       "      <th>1</th>\n",
       "      <td>10.34</td>\n",
       "      <td>1.66</td>\n",
       "      <td>Male</td>\n",
       "      <td>No</td>\n",
       "      <td>Sunday</td>\n",
       "      <td>Dinner</td>\n",
       "      <td>3</td>\n",
       "    </tr>\n",
       "    <tr>\n",
       "      <th>2</th>\n",
       "      <td>21.01</td>\n",
       "      <td>3.50</td>\n",
       "      <td>Male</td>\n",
       "      <td>No</td>\n",
       "      <td>Sunday</td>\n",
       "      <td>Dinner</td>\n",
       "      <td>3</td>\n",
       "    </tr>\n",
       "    <tr>\n",
       "      <th>3</th>\n",
       "      <td>23.68</td>\n",
       "      <td>3.31</td>\n",
       "      <td>Male</td>\n",
       "      <td>No</td>\n",
       "      <td>Sunday</td>\n",
       "      <td>Dinner</td>\n",
       "      <td>2</td>\n",
       "    </tr>\n",
       "    <tr>\n",
       "      <th>4</th>\n",
       "      <td>24.59</td>\n",
       "      <td>3.61</td>\n",
       "      <td>Female</td>\n",
       "      <td>No</td>\n",
       "      <td>Sunday</td>\n",
       "      <td>Dinner</td>\n",
       "      <td>4</td>\n",
       "    </tr>\n",
       "  </tbody>\n",
       "</table>\n",
       "</div>"
      ],
      "text/plain": [
       "   total_bill   tip     sex smoker     day    time  size\n",
       "0       16.99  1.01  Female     No  Sunday  Dinner     2\n",
       "1       10.34  1.66    Male     No  Sunday  Dinner     3\n",
       "2       21.01  3.50    Male     No  Sunday  Dinner     3\n",
       "3       23.68  3.31    Male     No  Sunday  Dinner     2\n",
       "4       24.59  3.61  Female     No  Sunday  Dinner     4"
      ]
     },
     "execution_count": 19,
     "metadata": {},
     "output_type": "execute_result"
    }
   ],
   "source": [
    "tips.head()"
   ]
  },
  {
   "cell_type": "code",
   "execution_count": 22,
   "id": "21e1ea79-4943-4c58-993c-0256f5b6c347",
   "metadata": {
    "scrolled": true
   },
   "outputs": [
    {
     "data": {
      "text/plain": [
       "<pandas.core.groupby.generic.DataFrameGroupBy object at 0x7f50194b9e10>"
      ]
     },
     "execution_count": 22,
     "metadata": {},
     "output_type": "execute_result"
    }
   ],
   "source": [
    "tips.groupby(by = \"day\", observed=False)"
   ]
  },
  {
   "cell_type": "code",
   "execution_count": 23,
   "id": "73a4b9e8-b187-4207-9792-eff092ea1e0d",
   "metadata": {},
   "outputs": [
    {
     "data": {
      "text/plain": [
       "day\n",
       "Thursday    17.682742\n",
       "Friday      17.151579\n",
       "Saturday    20.441379\n",
       "Sunday      21.410000\n",
       "Name: total_bill, dtype: float64"
      ]
     },
     "execution_count": 23,
     "metadata": {},
     "output_type": "execute_result"
    }
   ],
   "source": [
    "tips.groupby(by = \"day\", observed=False)[\"total_bill\"].mean()"
   ]
  },
  {
   "cell_type": "code",
   "execution_count": 24,
   "id": "b2258653-5e9f-4b81-b423-8da92e00815e",
   "metadata": {},
   "outputs": [
    {
     "data": {
      "text/plain": [
       "day       time  \n",
       "Thursday  Lunch     17.664754\n",
       "          Dinner    18.780000\n",
       "Friday    Lunch     12.845714\n",
       "          Dinner    19.663333\n",
       "Saturday  Lunch           NaN\n",
       "          Dinner    20.441379\n",
       "Sunday    Lunch           NaN\n",
       "          Dinner    21.410000\n",
       "Name: total_bill, dtype: float64"
      ]
     },
     "execution_count": 24,
     "metadata": {},
     "output_type": "execute_result"
    }
   ],
   "source": [
    "tips.groupby(by = [\"day\", \"time\"], observed=False)[\"total_bill\"].mean()"
   ]
  },
  {
   "cell_type": "code",
   "execution_count": 26,
   "id": "13118b62-78a0-45bf-88f9-486d9f746d2c",
   "metadata": {},
   "outputs": [
    {
     "data": {
      "text/html": [
       "<div>\n",
       "<style scoped>\n",
       "    .dataframe tbody tr th:only-of-type {\n",
       "        vertical-align: middle;\n",
       "    }\n",
       "\n",
       "    .dataframe tbody tr th {\n",
       "        vertical-align: top;\n",
       "    }\n",
       "\n",
       "    .dataframe thead th {\n",
       "        text-align: right;\n",
       "    }\n",
       "</style>\n",
       "<table border=\"1\" class=\"dataframe\">\n",
       "  <thead>\n",
       "    <tr style=\"text-align: right;\">\n",
       "      <th></th>\n",
       "      <th></th>\n",
       "      <th>total_bill</th>\n",
       "      <th>tip</th>\n",
       "    </tr>\n",
       "    <tr>\n",
       "      <th>day</th>\n",
       "      <th>time</th>\n",
       "      <th></th>\n",
       "      <th></th>\n",
       "    </tr>\n",
       "  </thead>\n",
       "  <tbody>\n",
       "    <tr>\n",
       "      <th rowspan=\"2\" valign=\"top\">Thursday</th>\n",
       "      <th>Lunch</th>\n",
       "      <td>17.664754</td>\n",
       "      <td>2.767705</td>\n",
       "    </tr>\n",
       "    <tr>\n",
       "      <th>Dinner</th>\n",
       "      <td>18.780000</td>\n",
       "      <td>3.000000</td>\n",
       "    </tr>\n",
       "    <tr>\n",
       "      <th rowspan=\"2\" valign=\"top\">Friday</th>\n",
       "      <th>Lunch</th>\n",
       "      <td>12.845714</td>\n",
       "      <td>2.382857</td>\n",
       "    </tr>\n",
       "    <tr>\n",
       "      <th>Dinner</th>\n",
       "      <td>19.663333</td>\n",
       "      <td>2.940000</td>\n",
       "    </tr>\n",
       "    <tr>\n",
       "      <th rowspan=\"2\" valign=\"top\">Saturday</th>\n",
       "      <th>Lunch</th>\n",
       "      <td>NaN</td>\n",
       "      <td>NaN</td>\n",
       "    </tr>\n",
       "    <tr>\n",
       "      <th>Dinner</th>\n",
       "      <td>20.441379</td>\n",
       "      <td>2.993103</td>\n",
       "    </tr>\n",
       "    <tr>\n",
       "      <th rowspan=\"2\" valign=\"top\">Sunday</th>\n",
       "      <th>Lunch</th>\n",
       "      <td>NaN</td>\n",
       "      <td>NaN</td>\n",
       "    </tr>\n",
       "    <tr>\n",
       "      <th>Dinner</th>\n",
       "      <td>21.410000</td>\n",
       "      <td>3.255132</td>\n",
       "    </tr>\n",
       "  </tbody>\n",
       "</table>\n",
       "</div>"
      ],
      "text/plain": [
       "                 total_bill       tip\n",
       "day      time                        \n",
       "Thursday Lunch    17.664754  2.767705\n",
       "         Dinner   18.780000  3.000000\n",
       "Friday   Lunch    12.845714  2.382857\n",
       "         Dinner   19.663333  2.940000\n",
       "Saturday Lunch          NaN       NaN\n",
       "         Dinner   20.441379  2.993103\n",
       "Sunday   Lunch          NaN       NaN\n",
       "         Dinner   21.410000  3.255132"
      ]
     },
     "execution_count": 26,
     "metadata": {},
     "output_type": "execute_result"
    }
   ],
   "source": [
    "tips.groupby(by = [\"day\", \"time\"], observed=False)[[\"total_bill\", \"tip\"]].mean()"
   ]
  },
  {
   "cell_type": "code",
   "execution_count": 28,
   "id": "ededc1d0-91bc-4386-9bab-b6b6e77294eb",
   "metadata": {},
   "outputs": [],
   "source": [
    "#pd.pivot_table"
   ]
  },
  {
   "cell_type": "code",
   "execution_count": 29,
   "id": "ae86fa70-a159-450d-a1db-e529c068a8eb",
   "metadata": {},
   "outputs": [
    {
     "data": {
      "text/html": [
       "<div>\n",
       "<style scoped>\n",
       "    .dataframe tbody tr th:only-of-type {\n",
       "        vertical-align: middle;\n",
       "    }\n",
       "\n",
       "    .dataframe tbody tr th {\n",
       "        vertical-align: top;\n",
       "    }\n",
       "\n",
       "    .dataframe thead th {\n",
       "        text-align: right;\n",
       "    }\n",
       "</style>\n",
       "<table border=\"1\" class=\"dataframe\">\n",
       "  <thead>\n",
       "    <tr style=\"text-align: right;\">\n",
       "      <th></th>\n",
       "      <th>total_bill</th>\n",
       "      <th>tip</th>\n",
       "      <th>sex</th>\n",
       "      <th>smoker</th>\n",
       "      <th>day</th>\n",
       "      <th>time</th>\n",
       "      <th>size</th>\n",
       "    </tr>\n",
       "  </thead>\n",
       "  <tbody>\n",
       "    <tr>\n",
       "      <th>0</th>\n",
       "      <td>16.99</td>\n",
       "      <td>1.01</td>\n",
       "      <td>Female</td>\n",
       "      <td>No</td>\n",
       "      <td>Sunday</td>\n",
       "      <td>Dinner</td>\n",
       "      <td>2</td>\n",
       "    </tr>\n",
       "    <tr>\n",
       "      <th>1</th>\n",
       "      <td>10.34</td>\n",
       "      <td>1.66</td>\n",
       "      <td>Male</td>\n",
       "      <td>No</td>\n",
       "      <td>Sunday</td>\n",
       "      <td>Dinner</td>\n",
       "      <td>3</td>\n",
       "    </tr>\n",
       "    <tr>\n",
       "      <th>2</th>\n",
       "      <td>21.01</td>\n",
       "      <td>3.50</td>\n",
       "      <td>Male</td>\n",
       "      <td>No</td>\n",
       "      <td>Sunday</td>\n",
       "      <td>Dinner</td>\n",
       "      <td>3</td>\n",
       "    </tr>\n",
       "    <tr>\n",
       "      <th>3</th>\n",
       "      <td>23.68</td>\n",
       "      <td>3.31</td>\n",
       "      <td>Male</td>\n",
       "      <td>No</td>\n",
       "      <td>Sunday</td>\n",
       "      <td>Dinner</td>\n",
       "      <td>2</td>\n",
       "    </tr>\n",
       "    <tr>\n",
       "      <th>4</th>\n",
       "      <td>24.59</td>\n",
       "      <td>3.61</td>\n",
       "      <td>Female</td>\n",
       "      <td>No</td>\n",
       "      <td>Sunday</td>\n",
       "      <td>Dinner</td>\n",
       "      <td>4</td>\n",
       "    </tr>\n",
       "  </tbody>\n",
       "</table>\n",
       "</div>"
      ],
      "text/plain": [
       "   total_bill   tip     sex smoker     day    time  size\n",
       "0       16.99  1.01  Female     No  Sunday  Dinner     2\n",
       "1       10.34  1.66    Male     No  Sunday  Dinner     3\n",
       "2       21.01  3.50    Male     No  Sunday  Dinner     3\n",
       "3       23.68  3.31    Male     No  Sunday  Dinner     2\n",
       "4       24.59  3.61  Female     No  Sunday  Dinner     4"
      ]
     },
     "execution_count": 29,
     "metadata": {},
     "output_type": "execute_result"
    }
   ],
   "source": [
    "tips.head()"
   ]
  },
  {
   "cell_type": "code",
   "execution_count": 33,
   "id": "9b6a18f3-0fe4-4f2d-a5eb-54364355ec0d",
   "metadata": {},
   "outputs": [
    {
     "data": {
      "text/html": [
       "<div>\n",
       "<style scoped>\n",
       "    .dataframe tbody tr th:only-of-type {\n",
       "        vertical-align: middle;\n",
       "    }\n",
       "\n",
       "    .dataframe tbody tr th {\n",
       "        vertical-align: top;\n",
       "    }\n",
       "\n",
       "    .dataframe thead th {\n",
       "        text-align: right;\n",
       "    }\n",
       "</style>\n",
       "<table border=\"1\" class=\"dataframe\">\n",
       "  <thead>\n",
       "    <tr style=\"text-align: right;\">\n",
       "      <th>sex</th>\n",
       "      <th>Male</th>\n",
       "      <th>Female</th>\n",
       "    </tr>\n",
       "    <tr>\n",
       "      <th>day</th>\n",
       "      <th></th>\n",
       "      <th></th>\n",
       "    </tr>\n",
       "  </thead>\n",
       "  <tbody>\n",
       "    <tr>\n",
       "      <th>Thursday</th>\n",
       "      <td>18.714667</td>\n",
       "      <td>16.715312</td>\n",
       "    </tr>\n",
       "    <tr>\n",
       "      <th>Friday</th>\n",
       "      <td>19.857000</td>\n",
       "      <td>14.145556</td>\n",
       "    </tr>\n",
       "    <tr>\n",
       "      <th>Saturday</th>\n",
       "      <td>20.802542</td>\n",
       "      <td>19.680357</td>\n",
       "    </tr>\n",
       "    <tr>\n",
       "      <th>Sunday</th>\n",
       "      <td>21.887241</td>\n",
       "      <td>19.872222</td>\n",
       "    </tr>\n",
       "  </tbody>\n",
       "</table>\n",
       "</div>"
      ],
      "text/plain": [
       "sex            Male     Female\n",
       "day                           \n",
       "Thursday  18.714667  16.715312\n",
       "Friday    19.857000  14.145556\n",
       "Saturday  20.802542  19.680357\n",
       "Sunday    21.887241  19.872222"
      ]
     },
     "execution_count": 33,
     "metadata": {},
     "output_type": "execute_result"
    }
   ],
   "source": [
    "tips.pivot_table(index = \"day\", columns = \"sex\", values = \"total_bill\")"
   ]
  },
  {
   "cell_type": "code",
   "execution_count": 35,
   "id": "9285895b-6ca1-4524-bfa5-0334b0fd5211",
   "metadata": {},
   "outputs": [
    {
     "data": {
      "text/html": [
       "<div>\n",
       "<style scoped>\n",
       "    .dataframe tbody tr th:only-of-type {\n",
       "        vertical-align: middle;\n",
       "    }\n",
       "\n",
       "    .dataframe tbody tr th {\n",
       "        vertical-align: top;\n",
       "    }\n",
       "\n",
       "    .dataframe thead tr th {\n",
       "        text-align: left;\n",
       "    }\n",
       "\n",
       "    .dataframe thead tr:last-of-type th {\n",
       "        text-align: right;\n",
       "    }\n",
       "</style>\n",
       "<table border=\"1\" class=\"dataframe\">\n",
       "  <thead>\n",
       "    <tr>\n",
       "      <th></th>\n",
       "      <th>sex</th>\n",
       "      <th colspan=\"2\" halign=\"left\">Male</th>\n",
       "      <th colspan=\"2\" halign=\"left\">Female</th>\n",
       "    </tr>\n",
       "    <tr>\n",
       "      <th></th>\n",
       "      <th>smoker</th>\n",
       "      <th>Yes</th>\n",
       "      <th>No</th>\n",
       "      <th>Yes</th>\n",
       "      <th>No</th>\n",
       "    </tr>\n",
       "    <tr>\n",
       "      <th>day</th>\n",
       "      <th>time</th>\n",
       "      <th></th>\n",
       "      <th></th>\n",
       "      <th></th>\n",
       "      <th></th>\n",
       "    </tr>\n",
       "  </thead>\n",
       "  <tbody>\n",
       "    <tr>\n",
       "      <th rowspan=\"2\" valign=\"top\">Thursday</th>\n",
       "      <th>Lunch</th>\n",
       "      <td>19.171000</td>\n",
       "      <td>18.486500</td>\n",
       "      <td>19.218571</td>\n",
       "      <td>15.899167</td>\n",
       "    </tr>\n",
       "    <tr>\n",
       "      <th>Dinner</th>\n",
       "      <td>NaN</td>\n",
       "      <td>NaN</td>\n",
       "      <td>NaN</td>\n",
       "      <td>18.780000</td>\n",
       "    </tr>\n",
       "    <tr>\n",
       "      <th rowspan=\"2\" valign=\"top\">Friday</th>\n",
       "      <th>Lunch</th>\n",
       "      <td>11.386667</td>\n",
       "      <td>NaN</td>\n",
       "      <td>13.260000</td>\n",
       "      <td>15.980000</td>\n",
       "    </tr>\n",
       "    <tr>\n",
       "      <th>Dinner</th>\n",
       "      <td>25.892000</td>\n",
       "      <td>17.475000</td>\n",
       "      <td>12.200000</td>\n",
       "      <td>22.750000</td>\n",
       "    </tr>\n",
       "    <tr>\n",
       "      <th>Saturday</th>\n",
       "      <th>Dinner</th>\n",
       "      <td>21.837778</td>\n",
       "      <td>19.929063</td>\n",
       "      <td>20.266667</td>\n",
       "      <td>19.003846</td>\n",
       "    </tr>\n",
       "    <tr>\n",
       "      <th>Sunday</th>\n",
       "      <th>Dinner</th>\n",
       "      <td>26.141333</td>\n",
       "      <td>20.403256</td>\n",
       "      <td>16.540000</td>\n",
       "      <td>20.824286</td>\n",
       "    </tr>\n",
       "  </tbody>\n",
       "</table>\n",
       "</div>"
      ],
      "text/plain": [
       "sex                   Male                Female           \n",
       "smoker                 Yes         No        Yes         No\n",
       "day      time                                              \n",
       "Thursday Lunch   19.171000  18.486500  19.218571  15.899167\n",
       "         Dinner        NaN        NaN        NaN  18.780000\n",
       "Friday   Lunch   11.386667        NaN  13.260000  15.980000\n",
       "         Dinner  25.892000  17.475000  12.200000  22.750000\n",
       "Saturday Dinner  21.837778  19.929063  20.266667  19.003846\n",
       "Sunday   Dinner  26.141333  20.403256  16.540000  20.824286"
      ]
     },
     "execution_count": 35,
     "metadata": {},
     "output_type": "execute_result"
    }
   ],
   "source": [
    "tips.pivot_table(index = [\"day\", \"time\"], columns = [\"sex\", \"smoker\"], values = \"total_bill\")"
   ]
  },
  {
   "cell_type": "code",
   "execution_count": 36,
   "id": "b916e76a-78db-4fda-a706-b765b23e4333",
   "metadata": {},
   "outputs": [
    {
     "data": {
      "text/html": [
       "<div>\n",
       "<style scoped>\n",
       "    .dataframe tbody tr th:only-of-type {\n",
       "        vertical-align: middle;\n",
       "    }\n",
       "\n",
       "    .dataframe tbody tr th {\n",
       "        vertical-align: top;\n",
       "    }\n",
       "\n",
       "    .dataframe thead tr th {\n",
       "        text-align: left;\n",
       "    }\n",
       "\n",
       "    .dataframe thead tr:last-of-type th {\n",
       "        text-align: right;\n",
       "    }\n",
       "</style>\n",
       "<table border=\"1\" class=\"dataframe\">\n",
       "  <thead>\n",
       "    <tr>\n",
       "      <th></th>\n",
       "      <th>sex</th>\n",
       "      <th colspan=\"2\" halign=\"left\">Male</th>\n",
       "      <th colspan=\"2\" halign=\"left\">Female</th>\n",
       "    </tr>\n",
       "    <tr>\n",
       "      <th></th>\n",
       "      <th>smoker</th>\n",
       "      <th>Yes</th>\n",
       "      <th>No</th>\n",
       "      <th>Yes</th>\n",
       "      <th>No</th>\n",
       "    </tr>\n",
       "    <tr>\n",
       "      <th>day</th>\n",
       "      <th>time</th>\n",
       "      <th></th>\n",
       "      <th></th>\n",
       "      <th></th>\n",
       "      <th></th>\n",
       "    </tr>\n",
       "  </thead>\n",
       "  <tbody>\n",
       "    <tr>\n",
       "      <th rowspan=\"2\" valign=\"top\">Thursday</th>\n",
       "      <th>Lunch</th>\n",
       "      <td>191.71</td>\n",
       "      <td>369.73</td>\n",
       "      <td>134.53</td>\n",
       "      <td>381.58</td>\n",
       "    </tr>\n",
       "    <tr>\n",
       "      <th>Dinner</th>\n",
       "      <td>0.00</td>\n",
       "      <td>0.00</td>\n",
       "      <td>0.00</td>\n",
       "      <td>18.78</td>\n",
       "    </tr>\n",
       "    <tr>\n",
       "      <th rowspan=\"2\" valign=\"top\">Friday</th>\n",
       "      <th>Lunch</th>\n",
       "      <td>34.16</td>\n",
       "      <td>0.00</td>\n",
       "      <td>39.78</td>\n",
       "      <td>15.98</td>\n",
       "    </tr>\n",
       "    <tr>\n",
       "      <th>Dinner</th>\n",
       "      <td>129.46</td>\n",
       "      <td>34.95</td>\n",
       "      <td>48.80</td>\n",
       "      <td>22.75</td>\n",
       "    </tr>\n",
       "    <tr>\n",
       "      <th rowspan=\"2\" valign=\"top\">Saturday</th>\n",
       "      <th>Lunch</th>\n",
       "      <td>0.00</td>\n",
       "      <td>0.00</td>\n",
       "      <td>0.00</td>\n",
       "      <td>0.00</td>\n",
       "    </tr>\n",
       "    <tr>\n",
       "      <th>Dinner</th>\n",
       "      <td>589.62</td>\n",
       "      <td>637.73</td>\n",
       "      <td>304.00</td>\n",
       "      <td>247.05</td>\n",
       "    </tr>\n",
       "    <tr>\n",
       "      <th rowspan=\"2\" valign=\"top\">Sunday</th>\n",
       "      <th>Lunch</th>\n",
       "      <td>0.00</td>\n",
       "      <td>0.00</td>\n",
       "      <td>0.00</td>\n",
       "      <td>0.00</td>\n",
       "    </tr>\n",
       "    <tr>\n",
       "      <th>Dinner</th>\n",
       "      <td>392.12</td>\n",
       "      <td>877.34</td>\n",
       "      <td>66.16</td>\n",
       "      <td>291.54</td>\n",
       "    </tr>\n",
       "  </tbody>\n",
       "</table>\n",
       "</div>"
      ],
      "text/plain": [
       "sex                Male          Female        \n",
       "smoker              Yes      No     Yes      No\n",
       "day      time                                  \n",
       "Thursday Lunch   191.71  369.73  134.53  381.58\n",
       "         Dinner    0.00    0.00    0.00   18.78\n",
       "Friday   Lunch    34.16    0.00   39.78   15.98\n",
       "         Dinner  129.46   34.95   48.80   22.75\n",
       "Saturday Lunch     0.00    0.00    0.00    0.00\n",
       "         Dinner  589.62  637.73  304.00  247.05\n",
       "Sunday   Lunch     0.00    0.00    0.00    0.00\n",
       "         Dinner  392.12  877.34   66.16  291.54"
      ]
     },
     "execution_count": 36,
     "metadata": {},
     "output_type": "execute_result"
    }
   ],
   "source": [
    "tips.pivot_table(index = [\"day\", \"time\"], columns = [\"sex\", \"smoker\"], values = \"total_bill\", aggfunc=\"sum\")"
   ]
  },
  {
   "cell_type": "code",
   "execution_count": 37,
   "id": "d33e523d-7dfc-49fb-be47-87950c1bda0f",
   "metadata": {},
   "outputs": [
    {
     "data": {
      "text/html": [
       "<div>\n",
       "<style scoped>\n",
       "    .dataframe tbody tr th:only-of-type {\n",
       "        vertical-align: middle;\n",
       "    }\n",
       "\n",
       "    .dataframe tbody tr th {\n",
       "        vertical-align: top;\n",
       "    }\n",
       "\n",
       "    .dataframe thead th {\n",
       "        text-align: right;\n",
       "    }\n",
       "</style>\n",
       "<table border=\"1\" class=\"dataframe\">\n",
       "  <thead>\n",
       "    <tr style=\"text-align: right;\">\n",
       "      <th></th>\n",
       "      <th>total_bill</th>\n",
       "      <th>tip</th>\n",
       "      <th>sex</th>\n",
       "      <th>smoker</th>\n",
       "      <th>day</th>\n",
       "      <th>time</th>\n",
       "      <th>size</th>\n",
       "    </tr>\n",
       "  </thead>\n",
       "  <tbody>\n",
       "    <tr>\n",
       "      <th>0</th>\n",
       "      <td>16.99</td>\n",
       "      <td>1.01</td>\n",
       "      <td>Female</td>\n",
       "      <td>No</td>\n",
       "      <td>Sunday</td>\n",
       "      <td>Dinner</td>\n",
       "      <td>2</td>\n",
       "    </tr>\n",
       "    <tr>\n",
       "      <th>1</th>\n",
       "      <td>10.34</td>\n",
       "      <td>1.66</td>\n",
       "      <td>Male</td>\n",
       "      <td>No</td>\n",
       "      <td>Sunday</td>\n",
       "      <td>Dinner</td>\n",
       "      <td>3</td>\n",
       "    </tr>\n",
       "    <tr>\n",
       "      <th>2</th>\n",
       "      <td>21.01</td>\n",
       "      <td>3.50</td>\n",
       "      <td>Male</td>\n",
       "      <td>No</td>\n",
       "      <td>Sunday</td>\n",
       "      <td>Dinner</td>\n",
       "      <td>3</td>\n",
       "    </tr>\n",
       "    <tr>\n",
       "      <th>3</th>\n",
       "      <td>23.68</td>\n",
       "      <td>3.31</td>\n",
       "      <td>Male</td>\n",
       "      <td>No</td>\n",
       "      <td>Sunday</td>\n",
       "      <td>Dinner</td>\n",
       "      <td>2</td>\n",
       "    </tr>\n",
       "    <tr>\n",
       "      <th>4</th>\n",
       "      <td>24.59</td>\n",
       "      <td>3.61</td>\n",
       "      <td>Female</td>\n",
       "      <td>No</td>\n",
       "      <td>Sunday</td>\n",
       "      <td>Dinner</td>\n",
       "      <td>4</td>\n",
       "    </tr>\n",
       "  </tbody>\n",
       "</table>\n",
       "</div>"
      ],
      "text/plain": [
       "   total_bill   tip     sex smoker     day    time  size\n",
       "0       16.99  1.01  Female     No  Sunday  Dinner     2\n",
       "1       10.34  1.66    Male     No  Sunday  Dinner     3\n",
       "2       21.01  3.50    Male     No  Sunday  Dinner     3\n",
       "3       23.68  3.31    Male     No  Sunday  Dinner     2\n",
       "4       24.59  3.61  Female     No  Sunday  Dinner     4"
      ]
     },
     "execution_count": 37,
     "metadata": {},
     "output_type": "execute_result"
    }
   ],
   "source": [
    "tips.head()"
   ]
  },
  {
   "cell_type": "code",
   "execution_count": 40,
   "id": "a360ba46-5a16-4e9a-912d-47c307b68362",
   "metadata": {},
   "outputs": [
    {
     "data": {
      "text/html": [
       "<div>\n",
       "<style scoped>\n",
       "    .dataframe tbody tr th:only-of-type {\n",
       "        vertical-align: middle;\n",
       "    }\n",
       "\n",
       "    .dataframe tbody tr th {\n",
       "        vertical-align: top;\n",
       "    }\n",
       "\n",
       "    .dataframe thead th {\n",
       "        text-align: right;\n",
       "    }\n",
       "</style>\n",
       "<table border=\"1\" class=\"dataframe\">\n",
       "  <thead>\n",
       "    <tr style=\"text-align: right;\">\n",
       "      <th></th>\n",
       "      <th>total_bill</th>\n",
       "      <th>tip</th>\n",
       "      <th>smoker</th>\n",
       "      <th>day</th>\n",
       "      <th>time</th>\n",
       "      <th>size</th>\n",
       "    </tr>\n",
       "    <tr>\n",
       "      <th>sex</th>\n",
       "      <th></th>\n",
       "      <th></th>\n",
       "      <th></th>\n",
       "      <th></th>\n",
       "      <th></th>\n",
       "      <th></th>\n",
       "    </tr>\n",
       "  </thead>\n",
       "  <tbody>\n",
       "    <tr>\n",
       "      <th>Female</th>\n",
       "      <td>16.99</td>\n",
       "      <td>1.01</td>\n",
       "      <td>No</td>\n",
       "      <td>Sunday</td>\n",
       "      <td>Dinner</td>\n",
       "      <td>2</td>\n",
       "    </tr>\n",
       "    <tr>\n",
       "      <th>Male</th>\n",
       "      <td>10.34</td>\n",
       "      <td>1.66</td>\n",
       "      <td>No</td>\n",
       "      <td>Sunday</td>\n",
       "      <td>Dinner</td>\n",
       "      <td>3</td>\n",
       "    </tr>\n",
       "    <tr>\n",
       "      <th>Male</th>\n",
       "      <td>21.01</td>\n",
       "      <td>3.50</td>\n",
       "      <td>No</td>\n",
       "      <td>Sunday</td>\n",
       "      <td>Dinner</td>\n",
       "      <td>3</td>\n",
       "    </tr>\n",
       "    <tr>\n",
       "      <th>Male</th>\n",
       "      <td>23.68</td>\n",
       "      <td>3.31</td>\n",
       "      <td>No</td>\n",
       "      <td>Sunday</td>\n",
       "      <td>Dinner</td>\n",
       "      <td>2</td>\n",
       "    </tr>\n",
       "    <tr>\n",
       "      <th>Female</th>\n",
       "      <td>24.59</td>\n",
       "      <td>3.61</td>\n",
       "      <td>No</td>\n",
       "      <td>Sunday</td>\n",
       "      <td>Dinner</td>\n",
       "      <td>4</td>\n",
       "    </tr>\n",
       "  </tbody>\n",
       "</table>\n",
       "</div>"
      ],
      "text/plain": [
       "        total_bill   tip smoker     day    time  size\n",
       "sex                                                  \n",
       "Female       16.99  1.01     No  Sunday  Dinner     2\n",
       "Male         10.34  1.66     No  Sunday  Dinner     3\n",
       "Male         21.01  3.50     No  Sunday  Dinner     3\n",
       "Male         23.68  3.31     No  Sunday  Dinner     2\n",
       "Female       24.59  3.61     No  Sunday  Dinner     4"
      ]
     },
     "execution_count": 40,
     "metadata": {},
     "output_type": "execute_result"
    }
   ],
   "source": [
    "tips.set_index(\"sex\").head() #me cambia el index, por el que yo le indiqué"
   ]
  },
  {
   "cell_type": "code",
   "execution_count": null,
   "id": "cc2b0e8b-b0eb-4014-a68d-ea1ef4ee0775",
   "metadata": {},
   "outputs": [],
   "source": []
  },
  {
   "attachments": {},
   "cell_type": "markdown",
   "id": "91e1747e-f1ed-4607-9738-d89f0751aea7",
   "metadata": {},
   "source": [
    "# Matplotlib"
   ]
  },
  {
   "cell_type": "code",
   "execution_count": 45,
   "id": "9101eada-6e10-4c40-8609-ad1e554084c5",
   "metadata": {},
   "outputs": [],
   "source": [
    "#figura, que solo hay una y siempre existe\n",
    "#Conjuntos de ejes dentro de la figura y hay 0 o mas\n",
    "#Graficas o trazas dentro de cada conjunto de ejes y hay 0 o mas"
   ]
  },
  {
   "cell_type": "code",
   "execution_count": 44,
   "id": "33e2e652-8c4e-4cba-ad7c-d5bafa9bd124",
   "metadata": {
    "scrolled": true
   },
   "outputs": [
    {
     "data": {
      "image/png": "[encoded data removed]",
      "text/plain": [
       "<Figure size 640x480 with 1 Axes>"
      ]
     },
     "metadata": {},
     "output_type": "display_data"
    }
   ],
   "source": [
    "plt.plot([2,5,4,6,1]);\n",
    "plt.show()"
   ]
  },
  {
   "cell_type": "code",
   "execution_count": null,
   "id": "580f486e-f307-4591-bc45-a7748f5974a0",
   "metadata": {},
   "outputs": [],
   "source": []
  },
  {
   "cell_type": "markdown",
   "id": "95f2e563-6145-4142-ae25-ee580e826f91",
   "metadata": {},
   "source": [
    "# Ruido Blanco"
   ]
  },
  {
   "cell_type": "code",
   "execution_count": 46,
   "id": "59bd98a1-a879-419f-92de-de3b9d789ea5",
   "metadata": {},
   "outputs": [],
   "source": [
    "generator = np.random.Generator(np.random.PCG64(seed = 0))"
   ]
  },
  {
   "cell_type": "code",
   "execution_count": 58,
   "id": "66503b97-3ba1-44e2-9ca5-05f313f39915",
   "metadata": {},
   "outputs": [
    {
     "data": {
      "text/plain": [
       "array([3, 5, 4, 4, 7, 4, 5])"
      ]
     },
     "execution_count": 58,
     "metadata": {},
     "output_type": "execute_result"
    }
   ],
   "source": [
    "generator.integers(3, 8, size = 7)"
   ]
  },
  {
   "cell_type": "code",
   "execution_count": 59,
   "id": "7d9ee758-7b53-47ff-9bcf-3aa20348fff2",
   "metadata": {},
   "outputs": [],
   "source": [
    "a = generator.normal(0, 1, size = 50)"
   ]
  },
  {
   "cell_type": "code",
   "execution_count": 60,
   "id": "f132c104-8d7d-4e32-8a9f-146af529cb26",
   "metadata": {},
   "outputs": [
    {
     "data": {
      "image/png": "[encoded data removed]",
      "text/plain": [
       "<Figure size 640x480 with 1 Axes>"
      ]
     },
     "metadata": {},
     "output_type": "display_data"
    }
   ],
   "source": [
    "plt.scatter(range(len(a)), a);"
   ]
  },
  {
   "cell_type": "code",
   "execution_count": null,
   "id": "ddf67545-6303-473e-8fc8-1d832ffcbd22",
   "metadata": {},
   "outputs": [],
   "source": []
  },
  {
   "cell_type": "markdown",
   "id": "83d1f973-381a-4ef7-bca7-97ad1084ccb7",
   "metadata": {},
   "source": [
    "# Random Walk"
   ]
  },
  {
   "cell_type": "code",
   "execution_count": 62,
   "id": "4f96f5e1-2d5e-4e2f-ae5e-5e2e70c8bc29",
   "metadata": {},
   "outputs": [],
   "source": [
    "#Es coger ruido blanco y reemplazarlo por la suma acumulada de valores previos hasta este"
   ]
  },
  {
   "cell_type": "code",
   "execution_count": 63,
   "id": "f8c61e5c-4d1a-4a50-b972-5602f7040a4e",
   "metadata": {},
   "outputs": [
    {
     "data": {
      "text/plain": [
       "array([ 0.50574605,  0.33950947, -1.28538139,  2.36916385, -0.02826316])"
      ]
     },
     "execution_count": 63,
     "metadata": {},
     "output_type": "execute_result"
    }
   ],
   "source": [
    "a = generator.normal(0, 1, size = 5)\n",
    "a"
   ]
  },
  {
   "cell_type": "code",
   "execution_count": 64,
   "id": "9825414e-9a01-4ef8-8c49-d704bec714fe",
   "metadata": {},
   "outputs": [
    {
     "data": {
      "text/plain": [
       "array([ 0.50574605,  0.84525552, -0.44012587,  1.92903798,  1.90077482])"
      ]
     },
     "execution_count": 64,
     "metadata": {},
     "output_type": "execute_result"
    }
   ],
   "source": [
    "a.cumsum()"
   ]
  },
  {
   "cell_type": "code",
   "execution_count": 74,
   "id": "78053b2a-48d5-4708-8440-dd8e67e80609",
   "metadata": {},
   "outputs": [],
   "source": [
    "a = generator.normal(0, 1, size = 500).cumsum()\n",
    "b = generator.normal(0, 1, size = 500).cumsum()"
   ]
  },
  {
   "cell_type": "markdown",
   "id": "0f96da0b-499e-48d2-ad4d-b3fe2e851e76",
   "metadata": {},
   "source": [
    "## Interfaz funcional de MatPlotLib"
   ]
  },
  {
   "cell_type": "code",
   "execution_count": 85,
   "id": "91a2cbe0-8767-47c8-b74e-68a4b8dc309a",
   "metadata": {},
   "outputs": [
    {
     "data": {
      "image/png": "[encoded data removed]",
      "text/plain": [
       "<Figure size 800x300 with 1 Axes>"
      ]
     },
     "metadata": {},
     "output_type": "display_data"
    }
   ],
   "source": [
    "plt.figure(figsize = (8, 3),facecolor = \"#EEEEEE\") #crea figura\n",
    "plt.axes() #crea conjunto de ejes\n",
    "plt.plot(a, label = \"national sales\")\n",
    "plt.plot(b, label = \"international sales\")\n",
    "plt.title(\"Sales evolution\")\n",
    "plt.xlabel(\"Time\")\n",
    "plt.ylabel(\"Value\")\n",
    "plt.grid()\n",
    "plt.legend()\n",
    "plt.show()"
   ]
  },
  {
   "cell_type": "code",
   "execution_count": null,
   "id": "87b3568d-c444-4c13-829c-e1c075315e49",
   "metadata": {},
   "outputs": [],
   "source": []
  },
  {
   "cell_type": "markdown",
   "id": "77ab0857-b701-4ea8-bd8c-abf8afb32472",
   "metadata": {},
   "source": [
    "## Interfaz Orientada a Objetos"
   ]
  },
  {
   "cell_type": "code",
   "execution_count": 106,
   "id": "e803e209-6759-487c-9f17-6f6d1f7c3a18",
   "metadata": {},
   "outputs": [
    {
     "data": {
      "image/png": "[encoded data removed]",
      "text/plain": [
       "<Figure size 1000x300 with 1 Axes>"
      ]
     },
     "metadata": {},
     "output_type": "display_data"
    }
   ],
   "source": [
    "fig = plt.figure(figsize = (10, 3),facecolor = \"#EEEEEE\")\n",
    "ax = fig.add_axes([0, 0, 1, 1])\n",
    "ax.plot(a, label = \"National Sales\");\n",
    "ax.plot(b, label = \"International Sales\");\n",
    "ax.set_title(\"Sales evolution\");\n",
    "ax.set_xlabel(\"Time\");\n",
    "ax.set_ylabel(\"Value\");\n",
    "ax.grid()\n",
    "ax.legend();"
   ]
  },
  {
   "cell_type": "code",
   "execution_count": null,
   "id": "4505d6ba-1223-428f-9384-3db9882ae96c",
   "metadata": {},
   "outputs": [],
   "source": []
  },
  {
   "cell_type": "code",
   "execution_count": 113,
   "id": "b69b5237-49ee-4d99-b978-c5af5a767171",
   "metadata": {},
   "outputs": [
    {
     "data": {
      "text/plain": [
       "(<Figure size 640x480 with 1 Axes>, <Axes: >)"
      ]
     },
     "execution_count": 113,
     "metadata": {},
     "output_type": "execute_result"
    },
    {
     "data": {
      "image/png": "[encoded data removed]",
      "text/plain": [
       "<Figure size 640x480 with 1 Axes>"
      ]
     },
     "metadata": {},
     "output_type": "display_data"
    }
   ],
   "source": [
    "plt.subplots() #En un paso hago esto. Antes era asi \n",
    "#fig = plt.figure(figsize = (10, 3),facecolor = \"#EEEEEE\")\n",
    "#ax = fig.add_axes([0, 0, 1, 1])"
   ]
  },
  {
   "cell_type": "code",
   "execution_count": 115,
   "id": "dd12544b-431d-48e4-a4da-b83f793ef26a",
   "metadata": {},
   "outputs": [
    {
     "data": {
      "image/png": "[encoded data removed]",
      "text/plain": [
       "<Figure size 800x300 with 1 Axes>"
      ]
     },
     "metadata": {},
     "output_type": "display_data"
    }
   ],
   "source": [
    "fig, ax = plt.subplots(figsize = (8, 3), facecolor = \"#EEEEEE\")\n",
    "ax.plot(a, label = \"National Sales\");\n",
    "ax.plot(b, label = \"International Sales\");\n",
    "ax.set_title(\"Sales evolution\");\n",
    "ax.set_xlabel(\"Time\");\n",
    "ax.set_ylabel(\"Value\");\n",
    "ax.grid()\n",
    "ax.legend();"
   ]
  },
  {
   "cell_type": "code",
   "execution_count": 116,
   "id": "59e15821-7053-4093-929e-f9c4d7412ae5",
   "metadata": {},
   "outputs": [
    {
     "data": {
      "text/plain": [
       "matplotlib.figure.Figure"
      ]
     },
     "execution_count": 116,
     "metadata": {},
     "output_type": "execute_result"
    }
   ],
   "source": [
    "type(fig)"
   ]
  },
  {
   "cell_type": "code",
   "execution_count": 117,
   "id": "7b80a453-248f-4ec7-b09e-8877130bcc95",
   "metadata": {},
   "outputs": [
    {
     "data": {
      "text/plain": [
       "matplotlib.axes._axes.Axes"
      ]
     },
     "execution_count": 117,
     "metadata": {},
     "output_type": "execute_result"
    }
   ],
   "source": [
    "type(ax)"
   ]
  },
  {
   "cell_type": "code",
   "execution_count": 119,
   "id": "16940beb-4aad-46c5-a5bc-96b65ef65295",
   "metadata": {},
   "outputs": [
    {
     "data": {
      "image/png": "[encoded data removed]",
      "text/plain": [
       "<Figure size 640x480 with 6 Axes>"
      ]
     },
     "metadata": {},
     "output_type": "display_data"
    }
   ],
   "source": [
    "fig, ax = plt.subplots(2, 3) #me permite crear un grid de conjunto de ejes."
   ]
  },
  {
   "cell_type": "code",
   "execution_count": 121,
   "id": "641774a7-de9c-47e4-9c31-6cfa6a6a8ddf",
   "metadata": {},
   "outputs": [
    {
     "data": {
      "text/plain": [
       "numpy.ndarray"
      ]
     },
     "execution_count": 121,
     "metadata": {},
     "output_type": "execute_result"
    }
   ],
   "source": [
    "type(ax)"
   ]
  },
  {
   "cell_type": "code",
   "execution_count": 122,
   "id": "4780abd5-d95a-461d-b79e-b01ec357a19e",
   "metadata": {},
   "outputs": [
    {
     "data": {
      "text/plain": [
       "array([[<Axes: >, <Axes: >, <Axes: >],\n",
       "       [<Axes: >, <Axes: >, <Axes: >]], dtype=object)"
      ]
     },
     "execution_count": 122,
     "metadata": {},
     "output_type": "execute_result"
    }
   ],
   "source": [
    "ax"
   ]
  },
  {
   "cell_type": "code",
   "execution_count": 123,
   "id": "8f21b00b-a5f5-4483-b365-3d7c668dbce7",
   "metadata": {},
   "outputs": [
    {
     "data": {
      "text/plain": [
       "<Axes: >"
      ]
     },
     "execution_count": 123,
     "metadata": {},
     "output_type": "execute_result"
    }
   ],
   "source": [
    "ax[0, 1]"
   ]
  },
  {
   "cell_type": "code",
   "execution_count": 136,
   "id": "54de3065-c8fb-4233-b9b3-16b1c0f80b8a",
   "metadata": {},
   "outputs": [
    {
     "data": {
      "text/html": [
       "<div>\n",
       "<style scoped>\n",
       "    .dataframe tbody tr th:only-of-type {\n",
       "        vertical-align: middle;\n",
       "    }\n",
       "\n",
       "    .dataframe tbody tr th {\n",
       "        vertical-align: top;\n",
       "    }\n",
       "\n",
       "    .dataframe thead th {\n",
       "        text-align: right;\n",
       "    }\n",
       "</style>\n",
       "<table border=\"1\" class=\"dataframe\">\n",
       "  <thead>\n",
       "    <tr style=\"text-align: right;\">\n",
       "      <th></th>\n",
       "      <th>total_bill</th>\n",
       "      <th>tip</th>\n",
       "      <th>sex</th>\n",
       "      <th>smoker</th>\n",
       "      <th>day</th>\n",
       "      <th>time</th>\n",
       "      <th>size</th>\n",
       "    </tr>\n",
       "  </thead>\n",
       "  <tbody>\n",
       "    <tr>\n",
       "      <th>0</th>\n",
       "      <td>16.99</td>\n",
       "      <td>1.01</td>\n",
       "      <td>Female</td>\n",
       "      <td>No</td>\n",
       "      <td>Sunday</td>\n",
       "      <td>Dinner</td>\n",
       "      <td>2</td>\n",
       "    </tr>\n",
       "    <tr>\n",
       "      <th>1</th>\n",
       "      <td>10.34</td>\n",
       "      <td>1.66</td>\n",
       "      <td>Male</td>\n",
       "      <td>No</td>\n",
       "      <td>Sunday</td>\n",
       "      <td>Dinner</td>\n",
       "      <td>3</td>\n",
       "    </tr>\n",
       "    <tr>\n",
       "      <th>2</th>\n",
       "      <td>21.01</td>\n",
       "      <td>3.50</td>\n",
       "      <td>Male</td>\n",
       "      <td>No</td>\n",
       "      <td>Sunday</td>\n",
       "      <td>Dinner</td>\n",
       "      <td>3</td>\n",
       "    </tr>\n",
       "    <tr>\n",
       "      <th>3</th>\n",
       "      <td>23.68</td>\n",
       "      <td>3.31</td>\n",
       "      <td>Male</td>\n",
       "      <td>No</td>\n",
       "      <td>Sunday</td>\n",
       "      <td>Dinner</td>\n",
       "      <td>2</td>\n",
       "    </tr>\n",
       "    <tr>\n",
       "      <th>4</th>\n",
       "      <td>24.59</td>\n",
       "      <td>3.61</td>\n",
       "      <td>Female</td>\n",
       "      <td>No</td>\n",
       "      <td>Sunday</td>\n",
       "      <td>Dinner</td>\n",
       "      <td>4</td>\n",
       "    </tr>\n",
       "  </tbody>\n",
       "</table>\n",
       "</div>"
      ],
      "text/plain": [
       "   total_bill   tip     sex smoker     day    time  size\n",
       "0       16.99  1.01  Female     No  Sunday  Dinner     2\n",
       "1       10.34  1.66    Male     No  Sunday  Dinner     3\n",
       "2       21.01  3.50    Male     No  Sunday  Dinner     3\n",
       "3       23.68  3.31    Male     No  Sunday  Dinner     2\n",
       "4       24.59  3.61  Female     No  Sunday  Dinner     4"
      ]
     },
     "execution_count": 136,
     "metadata": {},
     "output_type": "execute_result"
    }
   ],
   "source": [
    "tips.head()"
   ]
  },
  {
   "cell_type": "code",
   "execution_count": null,
   "id": "1acf9e21-dadf-4d1d-a1a3-598b119f99cd",
   "metadata": {},
   "outputs": [],
   "source": []
  },
  {
   "cell_type": "code",
   "execution_count": 152,
   "id": "e6e72f84-9dc4-44d9-9d5c-c76e2817e5d9",
   "metadata": {},
   "outputs": [
    {
     "data": {
      "text/plain": [
       "day\n",
       "Saturday    87\n",
       "Sunday      76\n",
       "Thursday    62\n",
       "Friday      19\n",
       "Name: count, dtype: int64"
      ]
     },
     "execution_count": 152,
     "metadata": {},
     "output_type": "execute_result"
    }
   ],
   "source": [
    "meals_per_day = tips.day.value_counts()\n",
    "meals_per_day"
   ]
  },
  {
   "cell_type": "code",
   "execution_count": 159,
   "id": "ac9f3342-de18-403e-bee5-1f034c3c25d6",
   "metadata": {},
   "outputs": [
    {
     "data": {
      "image/png": "[encoded data removed]",
      "text/plain": [
       "<Figure size 1200x500 with 8 Axes>"
      ]
     },
     "metadata": {},
     "output_type": "display_data"
    }
   ],
   "source": [
    "fig, ax = plt.subplots(2, 4, figsize = (12, 5))\n",
    "ax[0, 0].pie([3, 2, 1, 5], labels=\"ABCD\")\n",
    "ax[0, 1].plot(a)\n",
    "ax[0, 1].plot(b)\n",
    "ax[0, 1].grid()\n",
    "ax[0, 2].bar(x = meals_per_day.index, height = meals_per_day)\n",
    "ax[0, 3].hist(tips.total_bill, bins = 20)\n",
    "ax[1, 2].scatter(x = tips.total_bill, y = tips.tip)\n",
    "\n",
    "plt.show()"
   ]
  },
  {
   "cell_type": "code",
   "execution_count": null,
   "id": "b0058f59-4a43-4053-bb7a-7be32c915e6f",
   "metadata": {},
   "outputs": [],
   "source": []
  },
  {
   "cell_type": "code",
   "execution_count": null,
   "id": "adfb6524-fb7a-4076-822c-5e4b2cd246fc",
   "metadata": {},
   "outputs": [],
   "source": []
  },
  {
   "cell_type": "code",
   "execution_count": null,
   "id": "e35dcb4e-4fe1-4297-8211-f37913ded365",
   "metadata": {},
   "outputs": [],
   "source": []
  },
  {
   "cell_type": "code",
   "execution_count": null,
   "id": "5cdbaefc-207d-408d-b3ff-968df04025dc",
   "metadata": {},
   "outputs": [],
   "source": []
  },
  {
   "cell_type": "code",
   "execution_count": null,
   "id": "40276fad-7ae6-4fea-9e8b-e710a88a8cda",
   "metadata": {},
   "outputs": [],
   "source": []
  },
  {
   "cell_type": "code",
   "execution_count": null,
   "id": "fd0bb014-19ec-46f7-9fb9-18cc6d162151",
   "metadata": {},
   "outputs": [],
   "source": []
  },
  {
   "cell_type": "code",
   "execution_count": null,
   "id": "343d18fa-c529-4339-98a1-80b78d562504",
   "metadata": {},
   "outputs": [],
   "source": []
  },
  {
   "cell_type": "code",
   "execution_count": null,
   "id": "2af8adb4-d785-4d17-8ac9-60b94a631716",
   "metadata": {},
   "outputs": [],
   "source": []
  },
  {
   "cell_type": "code",
   "execution_count": null,
   "id": "6e0d1fae-91d0-48c2-b02f-27764d6c9af5",
   "metadata": {},
   "outputs": [],
   "source": []
  },
  {
   "cell_type": "code",
   "execution_count": null,
   "id": "044db6d9-3cc2-4ae4-a360-62e166d82a50",
   "metadata": {},
   "outputs": [],
   "source": []
  },
  {
   "cell_type": "code",
   "execution_count": null,
   "id": "16b65f7a-67d6-440d-9e9c-895725d63d13",
   "metadata": {},
   "outputs": [],
   "source": []
  },
  {
   "cell_type": "code",
   "execution_count": null,
   "id": "b868dfc7-7456-4fe7-b46c-2df892d6657d",
   "metadata": {},
   "outputs": [],
   "source": []
  },
  {
   "cell_type": "code",
   "execution_count": null,
   "id": "d5f8b056-a3b2-4f0b-b9f3-4cd4304a5f7a",
   "metadata": {},
   "outputs": [],
   "source": []
  },
  {
   "cell_type": "code",
   "execution_count": null,
   "id": "1e2fb366-dd7e-4437-81b9-9a186792b85c",
   "metadata": {},
   "outputs": [],
   "source": []
  },
  {
   "cell_type": "code",
   "execution_count": null,
   "id": "98ed4d8d-42cd-4d3b-b07e-f0d4c68ae5ba",
   "metadata": {},
   "outputs": [],
   "source": []
  },
  {
   "cell_type": "code",
   "execution_count": null,
   "id": "cf36e010-30c2-4f6b-8590-2460e463d5b8",
   "metadata": {},
   "outputs": [],
   "source": []
  },
  {
   "cell_type": "code",
   "execution_count": null,
   "id": "33e22d2e-91dc-47b4-a680-62c26079c738",
   "metadata": {},
   "outputs": [],
   "source": []
  },
  {
   "cell_type": "code",
   "execution_count": null,
   "id": "119d6688-c7a0-4867-987b-ff2c74f3c56f",
   "metadata": {},
   "outputs": [],
   "source": []
  },
  {
   "cell_type": "code",
   "execution_count": null,
   "id": "6e60a6a3-9a59-4f47-8e9e-e2b8e6510ac2",
   "metadata": {},
   "outputs": [],
   "source": []
  },
  {
   "cell_type": "code",
   "execution_count": null,
   "id": "f8440f31-1451-4313-ab32-93481e42e55c",
   "metadata": {},
   "outputs": [],
   "source": []
  },
  {
   "cell_type": "code",
   "execution_count": null,
   "id": "a5c48440-6f49-4775-8161-274627da4d52",
   "metadata": {},
   "outputs": [],
   "source": []
  },
  {
   "cell_type": "code",
   "execution_count": null,
   "id": "9fa2c8f3-a87b-423a-aa47-b819567fb17b",
   "metadata": {},
   "outputs": [],
   "source": []
  },
  {
   "cell_type": "code",
   "execution_count": null,
   "id": "20689d97-d169-4775-85d6-4bc10581fe02",
   "metadata": {},
   "outputs": [],
   "source": []
  }
 ],
 "metadata": {
  "kernelspec": {
   "display_name": "Python 3 (ipykernel)",
   "language": "python",
   "name": "python3"
  },
  "language_info": {
   "codemirror_mode": {
    "name": "ipython",
    "version": 3
   },
   "file_extension": ".py",
   "mimetype": "text/x-python",
   "name": "python",
   "nbconvert_exporter": "python",
   "pygments_lexer": "ipython3",
   "version": "3.11.7"
  }
 },
 "nbformat": 4,
 "nbformat_minor": 5
}
