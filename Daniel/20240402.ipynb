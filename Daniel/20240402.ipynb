{
 "cells": [
  {
   "cell_type": "markdown",
   "id": "63e3beba-8fa7-4483-ac19-73c07f2ec9bf",
   "metadata": {},
   "source": [
    "# Tipos básicos"
   ]
  },
  {
   "cell_type": "code",
   "execution_count": 13,
   "id": "be45f065-7003-4231-8f8d-a022053a7cac",
   "metadata": {},
   "outputs": [],
   "source": [
    "a = 1\n",
    "b = 1.4\n",
    "c = 2 - 5j\n",
    "d = True\n",
    "e = \"python for data science\""
   ]
  },
  {
   "cell_type": "code",
   "execution_count": null,
   "id": "d1371a8d-09cb-4136-a7c8-cea55cae85b3",
   "metadata": {},
   "outputs": [],
   "source": []
  },
  {
   "cell_type": "markdown",
   "id": "5cdb24ae-bb74-4e03-981a-605eb13b8c21",
   "metadata": {},
   "source": [
    "# Tipos complejos"
   ]
  },
  {
   "cell_type": "code",
   "execution_count": 2,
   "id": "61c9b575-3bca-46df-828c-206bc22bd7bc",
   "metadata": {},
   "outputs": [
    {
     "data": {
      "text/plain": [
       "(3, 'python')"
      ]
     },
     "execution_count": 2,
     "metadata": {},
     "output_type": "execute_result"
    }
   ],
   "source": [
    "f = [1, 1, 3.14, True, (3, \"python\")] #Listas Sucesion ordenada de valores. De diferentes tipos. Mutables.\n",
    "f[-1]"
   ]
  },
  {
   "cell_type": "code",
   "execution_count": 4,
   "id": "e98a0bdf-e1ee-4220-bfd1-3d220156e340",
   "metadata": {},
   "outputs": [
    {
     "data": {
      "text/plain": [
       "'python'"
      ]
     },
     "execution_count": 4,
     "metadata": {},
     "output_type": "execute_result"
    }
   ],
   "source": [
    "f[-1][1]"
   ]
  },
  {
   "cell_type": "code",
   "execution_count": 5,
   "id": "edf5a05c-8bdd-47c2-a556-3ad445d4b4cf",
   "metadata": {},
   "outputs": [],
   "source": [
    "g = (1, 2, 3, \"python\") #Tupla. Sucesión ordenada de elementos, que pueden ser de diferentes tipos. Pero acá NO son mutables"
   ]
  },
  {
   "cell_type": "code",
   "execution_count": 8,
   "id": "5f1df69e-4d79-4b4c-a769-32faafc1d257",
   "metadata": {},
   "outputs": [],
   "source": [
    "h = {1, 1, 1, True, \"python\"} #Conjuntos. No pueden haber valores repetidos. No es estructura ordenada. Los valores no tienen un índice"
   ]
  },
  {
   "cell_type": "code",
   "execution_count": 9,
   "id": "32f12131-d92e-4d3c-b36e-f96692e48327",
   "metadata": {},
   "outputs": [],
   "source": [
    "i = {\"enero\": 31, \"febrero\": 28, \"marzo\": 31, \"abril\": 30} #Diccionarios.  Parejas clave valor"
   ]
  },
  {
   "cell_type": "code",
   "execution_count": 10,
   "id": "2cd7d8d2-3b6c-4769-9178-bf7e8414257b",
   "metadata": {},
   "outputs": [
    {
     "data": {
      "text/plain": [
       "31"
      ]
     },
     "execution_count": 10,
     "metadata": {},
     "output_type": "execute_result"
    }
   ],
   "source": [
    "i[\"enero\"]"
   ]
  },
  {
   "cell_type": "code",
   "execution_count": null,
   "id": "0132ce4b-28b8-4063-8ab7-3582c6b22f63",
   "metadata": {},
   "outputs": [],
   "source": []
  },
  {
   "cell_type": "markdown",
   "id": "896c936c-d21d-4ba2-beee-25dc24a32b4a",
   "metadata": {},
   "source": [
    "# Funciones integradas"
   ]
  },
  {
   "cell_type": "code",
   "execution_count": 14,
   "id": "7ed22a44-8971-4b55-afdc-6399626a34eb",
   "metadata": {},
   "outputs": [
    {
     "name": "stdout",
     "output_type": "stream",
     "text": [
      "1 (1, 2, 3, 'python') 35 python\n"
     ]
    }
   ],
   "source": [
    "print(a, g, 35, \"python\")"
   ]
  },
  {
   "cell_type": "code",
   "execution_count": 15,
   "id": "8330e8a5-fbbe-4194-8d52-9990b927aee2",
   "metadata": {},
   "outputs": [
    {
     "data": {
      "text/plain": [
       "str"
      ]
     },
     "execution_count": 15,
     "metadata": {},
     "output_type": "execute_result"
    }
   ],
   "source": [
    "type(\"python\")"
   ]
  },
  {
   "cell_type": "code",
   "execution_count": 16,
   "id": "5f36fef3-1d6c-4faa-a5d8-9fab6d0fd68b",
   "metadata": {},
   "outputs": [
    {
     "data": {
      "text/plain": [
       "complex"
      ]
     },
     "execution_count": 16,
     "metadata": {},
     "output_type": "execute_result"
    }
   ],
   "source": [
    "type(c)"
   ]
  },
  {
   "cell_type": "code",
   "execution_count": 20,
   "id": "eed27ce4-c2c0-434c-ad97-3c49d085954f",
   "metadata": {},
   "outputs": [
    {
     "data": {
      "text/plain": [
       "list"
      ]
     },
     "execution_count": 20,
     "metadata": {},
     "output_type": "execute_result"
    }
   ],
   "source": [
    "type(f)"
   ]
  },
  {
   "cell_type": "code",
   "execution_count": 21,
   "id": "7258d4e9-6f75-46db-a6c9-70e07d506074",
   "metadata": {},
   "outputs": [
    {
     "data": {
      "text/plain": [
       "tuple"
      ]
     },
     "execution_count": 21,
     "metadata": {},
     "output_type": "execute_result"
    }
   ],
   "source": [
    "type(f[-1])"
   ]
  },
  {
   "cell_type": "code",
   "execution_count": 23,
   "id": "4170d294-921e-49bc-bda7-30f452417d7f",
   "metadata": {},
   "outputs": [
    {
     "data": {
      "text/plain": [
       "3.14"
      ]
     },
     "execution_count": 23,
     "metadata": {},
     "output_type": "execute_result"
    }
   ],
   "source": [
    "abs(3.14)"
   ]
  },
  {
   "cell_type": "code",
   "execution_count": 22,
   "id": "62d34e69-29c4-478e-b8d7-8064095339d7",
   "metadata": {},
   "outputs": [
    {
     "data": {
      "text/plain": [
       "3.14"
      ]
     },
     "execution_count": 22,
     "metadata": {},
     "output_type": "execute_result"
    }
   ],
   "source": [
    "abs(-3.14)"
   ]
  },
  {
   "cell_type": "code",
   "execution_count": 25,
   "id": "2f0d8dba-b9fe-415a-94aa-00c48dac6a03",
   "metadata": {},
   "outputs": [
    {
     "data": {
      "text/plain": [
       "3"
      ]
     },
     "execution_count": 25,
     "metadata": {},
     "output_type": "execute_result"
    }
   ],
   "source": [
    "int(3.14)"
   ]
  },
  {
   "cell_type": "code",
   "execution_count": 27,
   "id": "69007f78-6159-4884-b65a-ee8c82e85b26",
   "metadata": {},
   "outputs": [
    {
     "data": {
      "text/plain": [
       "-3"
      ]
     },
     "execution_count": 27,
     "metadata": {},
     "output_type": "execute_result"
    }
   ],
   "source": [
    "int(-3.14)"
   ]
  },
  {
   "cell_type": "code",
   "execution_count": 28,
   "id": "49e32def-7ed3-4e9f-9394-d35bac68aaab",
   "metadata": {},
   "outputs": [
    {
     "data": {
      "text/plain": [
       "34"
      ]
     },
     "execution_count": 28,
     "metadata": {},
     "output_type": "execute_result"
    }
   ],
   "source": [
    "int(\"34\")"
   ]
  },
  {
   "cell_type": "code",
   "execution_count": 30,
   "id": "a82c3380-3947-40af-84d2-175b9d1d2891",
   "metadata": {},
   "outputs": [],
   "source": [
    "#int(\"3.14\") Esto daría error, porque  3.14 ya no es un entero"
   ]
  },
  {
   "cell_type": "code",
   "execution_count": 31,
   "id": "3ac67da1-ad19-4e94-a3fe-b5370c9a5f13",
   "metadata": {},
   "outputs": [
    {
     "data": {
      "text/plain": [
       "3.0"
      ]
     },
     "execution_count": 31,
     "metadata": {},
     "output_type": "execute_result"
    }
   ],
   "source": [
    "float(3.0) #Nº real"
   ]
  },
  {
   "cell_type": "code",
   "execution_count": 33,
   "id": "f6f1853b-b2b3-4900-b159-1f0ec81587e2",
   "metadata": {},
   "outputs": [
    {
     "data": {
      "text/plain": [
       "3.14"
      ]
     },
     "execution_count": 33,
     "metadata": {},
     "output_type": "execute_result"
    }
   ],
   "source": [
    "float(\"3.14\")"
   ]
  },
  {
   "cell_type": "code",
   "execution_count": 34,
   "id": "afcd5460-538d-44e3-97d0-247c5974f94b",
   "metadata": {},
   "outputs": [
    {
     "data": {
      "text/plain": [
       "3.0"
      ]
     },
     "execution_count": 34,
     "metadata": {},
     "output_type": "execute_result"
    }
   ],
   "source": [
    "float(\"3\")"
   ]
  },
  {
   "cell_type": "code",
   "execution_count": 35,
   "id": "bbc15c9e-858f-4b8b-8594-427a764476c5",
   "metadata": {},
   "outputs": [
    {
     "data": {
      "text/plain": [
       "(4+0j)"
      ]
     },
     "execution_count": 35,
     "metadata": {},
     "output_type": "execute_result"
    }
   ],
   "source": [
    "complex(4)"
   ]
  },
  {
   "cell_type": "code",
   "execution_count": 40,
   "id": "db196995-30a4-4d19-86bd-5705503b253f",
   "metadata": {},
   "outputs": [
    {
     "data": {
      "text/plain": [
       "False"
      ]
     },
     "execution_count": 40,
     "metadata": {},
     "output_type": "execute_result"
    }
   ],
   "source": [
    "bool(0) #El unico numero cuya conversión a bool se convierte en false es el 0. Todo lo demás, siempre arroja True"
   ]
  },
  {
   "cell_type": "code",
   "execution_count": 39,
   "id": "4ed99fdb-bb9f-419d-b8ea-513d91ec1fca",
   "metadata": {},
   "outputs": [
    {
     "data": {
      "text/plain": [
       "True"
      ]
     },
     "execution_count": 39,
     "metadata": {},
     "output_type": "execute_result"
    }
   ],
   "source": [
    "bool(1)"
   ]
  },
  {
   "cell_type": "code",
   "execution_count": 41,
   "id": "b1f9c0d5-d899-4ecb-a06c-8f3372b3a510",
   "metadata": {},
   "outputs": [
    {
     "data": {
      "text/plain": [
       "False"
      ]
     },
     "execution_count": 41,
     "metadata": {},
     "output_type": "execute_result"
    }
   ],
   "source": [
    "bool(\"\")"
   ]
  },
  {
   "cell_type": "code",
   "execution_count": 42,
   "id": "6388addd-2ff7-4836-8af6-7c7204117214",
   "metadata": {},
   "outputs": [
    {
     "data": {
      "text/plain": [
       "True"
      ]
     },
     "execution_count": 42,
     "metadata": {},
     "output_type": "execute_result"
    }
   ],
   "source": [
    "bool(\"hola\")"
   ]
  },
  {
   "cell_type": "code",
   "execution_count": null,
   "id": "cded88a6-b532-4b85-b484-5ba61bcb4453",
   "metadata": {},
   "outputs": [],
   "source": []
  },
  {
   "cell_type": "code",
   "execution_count": null,
   "id": "1e4a0868-c5a0-498e-8022-ae22306704e7",
   "metadata": {},
   "outputs": [],
   "source": []
  },
  {
   "cell_type": "code",
   "execution_count": null,
   "id": "8257f15d-7cda-411d-a4de-c6c21a399aba",
   "metadata": {},
   "outputs": [],
   "source": []
  },
  {
   "cell_type": "markdown",
   "id": "08bf014c-0c6c-4642-8078-89c9b987ce20",
   "metadata": {},
   "source": [
    "# Estructuras de control"
   ]
  },
  {
   "cell_type": "markdown",
   "id": "2e089966-75d5-4d6e-8e0a-021e987d9abe",
   "metadata": {},
   "source": [
    "### Bucles for"
   ]
  },
  {
   "cell_type": "code",
   "execution_count": 1,
   "id": "fc3b9f04-abb1-4c1f-883d-a27f011c3f71",
   "metadata": {},
   "outputs": [
    {
     "name": "stdout",
     "output_type": "stream",
     "text": [
      "2\n",
      "4\n",
      "6\n",
      "8\n"
     ]
    }
   ],
   "source": [
    "for x in [2, 4, 6, 8]:\n",
    "    print(x)"
   ]
  },
  {
   "cell_type": "code",
   "execution_count": 2,
   "id": "09740107-29ad-4e3b-979c-ce3eb7e4b66c",
   "metadata": {},
   "outputs": [
    {
     "data": {
      "text/plain": [
       "range(0, 6)"
      ]
     },
     "execution_count": 2,
     "metadata": {},
     "output_type": "execute_result"
    }
   ],
   "source": [
    "range(6)"
   ]
  },
  {
   "cell_type": "code",
   "execution_count": 3,
   "id": "7333b4f1-5e0d-4d55-a7dd-92dfa813af2b",
   "metadata": {},
   "outputs": [
    {
     "data": {
      "text/plain": [
       "range(0, 10000000000000)"
      ]
     },
     "execution_count": 3,
     "metadata": {},
     "output_type": "execute_result"
    }
   ],
   "source": [
    "range(10_000_000_000_000)"
   ]
  },
  {
   "cell_type": "code",
   "execution_count": 4,
   "id": "b90bff9d-9167-4c65-9783-6e0f4388f8fe",
   "metadata": {},
   "outputs": [],
   "source": [
    "# con range genero un generador"
   ]
  },
  {
   "cell_type": "code",
   "execution_count": 5,
   "id": "914c4303-9d5c-40ac-8afb-6a1864b2a9c0",
   "metadata": {},
   "outputs": [
    {
     "data": {
      "text/plain": [
       "[0, 1, 2, 3, 4, 5]"
      ]
     },
     "execution_count": 5,
     "metadata": {},
     "output_type": "execute_result"
    }
   ],
   "source": [
    "list(range(6))"
   ]
  },
  {
   "cell_type": "code",
   "execution_count": 6,
   "id": "8eb7c423-31b9-451a-909a-354437ef10e6",
   "metadata": {},
   "outputs": [
    {
     "data": {
      "text/plain": [
       "[4, 5, 6, 7, 8]"
      ]
     },
     "execution_count": 6,
     "metadata": {},
     "output_type": "execute_result"
    }
   ],
   "source": [
    "list(range(4, 9))"
   ]
  },
  {
   "cell_type": "code",
   "execution_count": 7,
   "id": "e5584858-6fe1-4401-b606-d00dacadf8e1",
   "metadata": {},
   "outputs": [
    {
     "name": "stdout",
     "output_type": "stream",
     "text": [
      "0\n",
      "1\n",
      "2\n",
      "3\n",
      "4\n",
      "5\n"
     ]
    }
   ],
   "source": [
    "for n in range(6):\n",
    "    print(n)"
   ]
  },
  {
   "cell_type": "code",
   "execution_count": 8,
   "id": "8a0137f6-9b07-4f9d-b9b5-3e9ad8f3850c",
   "metadata": {},
   "outputs": [
    {
     "name": "stdout",
     "output_type": "stream",
     "text": [
      "El cuadrado de 0 es 0\n",
      "El cuadrado de 1 es 1\n",
      "El cuadrado de 2 es 4\n",
      "El cuadrado de 3 es 9\n",
      "El cuadrado de 4 es 16\n",
      "El cuadrado de 5 es 25\n"
     ]
    }
   ],
   "source": [
    "for n in range(6):\n",
    "    m = n ** 2\n",
    "    #m = pow(n, 2)\n",
    "    print(\"El cuadrado de\", n, \"es\", m)"
   ]
  },
  {
   "cell_type": "code",
   "execution_count": 9,
   "id": "949f63b7-3b12-4c4a-96d9-44f2fcf4a20a",
   "metadata": {},
   "outputs": [
    {
     "name": "stdout",
     "output_type": "stream",
     "text": [
      "Hola\n",
      "Hola\n",
      "Hola\n",
      "Hola\n",
      "Hola\n"
     ]
    }
   ],
   "source": [
    "for _ in range(5):\n",
    "    print(\"Hola\")"
   ]
  },
  {
   "cell_type": "markdown",
   "id": "02c8078a-3570-4fa5-b89a-7cb61b73881c",
   "metadata": {},
   "source": [
    "### Bucles While"
   ]
  },
  {
   "cell_type": "code",
   "execution_count": 10,
   "id": "fd0742d7-e46f-43a6-9eec-06bc16fb752c",
   "metadata": {},
   "outputs": [
    {
     "name": "stdout",
     "output_type": "stream",
     "text": [
      "0\n",
      "1\n",
      "2\n",
      "3\n",
      "4\n",
      "fin\n"
     ]
    }
   ],
   "source": [
    "n = 0\n",
    "while n < 5:\n",
    "    print(n)\n",
    "    n = n + 1\n",
    "    # n += 1\n",
    "print(\"fin\")"
   ]
  },
  {
   "cell_type": "code",
   "execution_count": 11,
   "id": "2540b9fb-3622-4904-b958-63b82b5f7161",
   "metadata": {},
   "outputs": [],
   "source": [
    "a = 6\n",
    "a *= 3 # a = a * 3"
   ]
  },
  {
   "cell_type": "code",
   "execution_count": 12,
   "id": "83887be6-0447-4d12-8d93-2aff107fd84e",
   "metadata": {},
   "outputs": [
    {
     "data": {
      "text/plain": [
       "18"
      ]
     },
     "execution_count": 12,
     "metadata": {},
     "output_type": "execute_result"
    }
   ],
   "source": [
    "a"
   ]
  },
  {
   "cell_type": "code",
   "execution_count": 26,
   "id": "cfb2ce89-ea49-46fb-98e5-26adea879d16",
   "metadata": {},
   "outputs": [
    {
     "name": "stdin",
     "output_type": "stream",
     "text": [
      "¿Qué número quieres multiplicar por 2? 2\n"
     ]
    },
    {
     "name": "stdout",
     "output_type": "stream",
     "text": [
      "El número 2 multiplicado por dos es 4\n"
     ]
    },
    {
     "name": "stdin",
     "output_type": "stream",
     "text": [
      "número quieres multiplicar por 2? \"\"\n"
     ]
    },
    {
     "ename": "ValueError",
     "evalue": "invalid literal for int() with base 10: '\"\"'",
     "output_type": "error",
     "traceback": [
      "\u001b[1;31m---------------------------------------------------------------------------\u001b[0m",
      "\u001b[1;31mValueError\u001b[0m                                Traceback (most recent call last)",
      "Cell \u001b[1;32mIn[26], line 5\u001b[0m\n\u001b[0;32m      3\u001b[0m \u001b[38;5;28;01mwhile\u001b[39;00m request:\n\u001b[0;32m      4\u001b[0m     \u001b[38;5;28mprint\u001b[39m(\u001b[38;5;124m\"\u001b[39m\u001b[38;5;124mEl número\u001b[39m\u001b[38;5;124m\"\u001b[39m, request, \u001b[38;5;124m\"\u001b[39m\u001b[38;5;124mmultiplicado por dos es\u001b[39m\u001b[38;5;124m\"\u001b[39m, request \u001b[38;5;241m*\u001b[39m \u001b[38;5;241m2\u001b[39m)\n\u001b[1;32m----> 5\u001b[0m     request \u001b[38;5;241m=\u001b[39m \u001b[38;5;28mint\u001b[39m(\u001b[38;5;28minput\u001b[39m(\u001b[38;5;124m\"\u001b[39m\u001b[38;5;124mnúmero quieres multiplicar por 2?\u001b[39m\u001b[38;5;124m\"\u001b[39m))\n",
      "\u001b[1;31mValueError\u001b[0m: invalid literal for int() with base 10: '\"\"'"
     ]
    }
   ],
   "source": [
    "request = int(input(\"¿Qué número quieres multiplicar por 2?\"))\n",
    "\n",
    "while request:\n",
    "    print(\"El número\", request, \"multiplicado por dos es\", request * 2)\n",
    "    request = int(input(\"número quieres multiplicar por 2?\"))\n"
   ]
  },
  {
   "cell_type": "code",
   "execution_count": null,
   "id": "76764742-ee66-4fc3-b277-9d0ce42175fa",
   "metadata": {},
   "outputs": [],
   "source": []
  },
  {
   "cell_type": "markdown",
   "id": "a04c4db2-0810-458a-a3d5-d2d7bcd77a88",
   "metadata": {},
   "source": [
    "#  La palabra reservada If"
   ]
  },
  {
   "cell_type": "code",
   "execution_count": 14,
   "id": "68441de3-01c9-4e27-b578-a4fee48a26f4",
   "metadata": {},
   "outputs": [
    {
     "name": "stdout",
     "output_type": "stream",
     "text": [
      "Se cumple\n"
     ]
    }
   ],
   "source": [
    "if 6 > 4:\n",
    "    print(\"Se cumple\")"
   ]
  },
  {
   "cell_type": "code",
   "execution_count": 15,
   "id": "477a2579-e6d3-4930-a64a-0418a1d3d18f",
   "metadata": {},
   "outputs": [],
   "source": [
    "if 6 > 14:\n",
    "    print(\"Se cumple\")"
   ]
  },
  {
   "cell_type": "code",
   "execution_count": 16,
   "id": "249d11d2-5e4e-4bdb-ac81-459c48ea5327",
   "metadata": {},
   "outputs": [
    {
     "name": "stdout",
     "output_type": "stream",
     "text": [
      "No se cumple\n"
     ]
    }
   ],
   "source": [
    "if 6 > 14:\n",
    "    print(\"Se cumple\")\n",
    "else:\n",
    "    print(\"No se cumple\")"
   ]
  },
  {
   "cell_type": "code",
   "execution_count": 17,
   "id": "3728ee10-c536-48a2-bf28-925554ea3e78",
   "metadata": {},
   "outputs": [
    {
     "name": "stdin",
     "output_type": "stream",
     "text": [
      "Introduce un número 5\n"
     ]
    },
    {
     "name": "stdout",
     "output_type": "stream",
     "text": [
      "El número 5 es positivo o cero\n"
     ]
    }
   ],
   "source": [
    "number = int(input(\"Introduce un número\"))\n",
    "if number >= 0:\n",
    "    print(\"El número\", number, \"es positivo o cero\")\n",
    "else:\n",
    "    print(\"El número\", number, \"es negativo\")"
   ]
  },
  {
   "cell_type": "code",
   "execution_count": 22,
   "id": "1a297b4e-3289-4b89-a8ad-13c0c32498f9",
   "metadata": {},
   "outputs": [
    {
     "name": "stdin",
     "output_type": "stream",
     "text": [
      "Introduce un número 5\n"
     ]
    },
    {
     "name": "stdout",
     "output_type": "stream",
     "text": [
      "El numero 5 es positivo\n"
     ]
    }
   ],
   "source": [
    "number = int(input(\"Introduce un número\"))\n",
    "if number > 0:\n",
    "    print(\"El numero\", number, \"es positivo\")\n",
    "elif number < 0:\n",
    "    print(\"El numero\", number, \"es negativo\")\n",
    "elif number == 0:\n",
    "    print(\"El numero\", number, \"es igual a cero\")"
   ]
  },
  {
   "cell_type": "code",
   "execution_count": null,
   "id": "b3306542-5a2a-46bc-bc5c-fcf185ae2217",
   "metadata": {},
   "outputs": [],
   "source": []
  },
  {
   "cell_type": "markdown",
   "id": "d6f77dfd-7697-4682-a2d6-e3de055fee1e",
   "metadata": {},
   "source": [
    "# Funciones estándar"
   ]
  },
  {
   "cell_type": "code",
   "execution_count": null,
   "id": "984a7258-f050-4d9b-9751-ac2285ca23b0",
   "metadata": {},
   "outputs": [],
   "source": [
    "def nada():\n",
    "    pass"
   ]
  },
  {
   "cell_type": "code",
   "execution_count": 23,
   "id": "3e1c90ca-479c-41dc-9643-da24a62fdd1f",
   "metadata": {},
   "outputs": [
    {
     "name": "stdout",
     "output_type": "stream",
     "text": [
      "Hola Daniel\n"
     ]
    }
   ],
   "source": [
    "def saluda(nombre):\n",
    "    print(\"Hola\", nombre)\n",
    "\n",
    "saluda(\"Daniel\")"
   ]
  },
  {
   "cell_type": "code",
   "execution_count": 24,
   "id": "66ffc29b-4e12-4c14-9891-57e1ad0290af",
   "metadata": {},
   "outputs": [
    {
     "name": "stdout",
     "output_type": "stream",
     "text": [
      "11\n"
     ]
    }
   ],
   "source": [
    "def suma(a, b):\n",
    "    print(a + b)\n",
    "\n",
    "suma(4, 7)"
   ]
  },
  {
   "cell_type": "code",
   "execution_count": 25,
   "id": "d9a8f910-1fbf-4002-a60b-60e73e835503",
   "metadata": {},
   "outputs": [
    {
     "data": {
      "text/plain": [
       "11"
      ]
     },
     "execution_count": 25,
     "metadata": {},
     "output_type": "execute_result"
    }
   ],
   "source": [
    "def suma(a, b):\n",
    "    return a + b\n",
    "\n",
    "suma(4, 7)"
   ]
  },
  {
   "cell_type": "code",
   "execution_count": 27,
   "id": "eec06ceb-1b50-4243-8259-eb037863dd0c",
   "metadata": {},
   "outputs": [],
   "source": [
    "a = 1\n",
    "b = 2\n",
    "c = 3"
   ]
  },
  {
   "cell_type": "code",
   "execution_count": 30,
   "id": "a4914dcb-de67-4624-a7c1-63e0c5f62c41",
   "metadata": {},
   "outputs": [
    {
     "name": "stdout",
     "output_type": "stream",
     "text": [
      "1\n",
      "2\n"
     ]
    }
   ],
   "source": [
    "print(a)\n",
    "print(b)"
   ]
  },
  {
   "cell_type": "code",
   "execution_count": 35,
   "id": "12c58537-a061-43fb-8beb-494cf91b6879",
   "metadata": {},
   "outputs": [
    {
     "data": {
      "text/plain": [
       "9"
      ]
     },
     "execution_count": 35,
     "metadata": {},
     "output_type": "execute_result"
    }
   ],
   "source": [
    "def suma(a, b = 0):\n",
    "    return a + b\n",
    "\n",
    "suma(4, 5)"
   ]
  },
  {
   "cell_type": "code",
   "execution_count": 32,
   "id": "a927835c-4823-4796-8784-8b065d3f6165",
   "metadata": {},
   "outputs": [
    {
     "name": "stdout",
     "output_type": "stream",
     "text": [
      "Help on function suma in module __main__:\n",
      "\n",
      "suma(a, b=0)\n",
      "\n"
     ]
    }
   ],
   "source": [
    "help(suma)"
   ]
  },
  {
   "cell_type": "code",
   "execution_count": 33,
   "id": "5f710d68-0847-4677-8b84-a76d9fa94fde",
   "metadata": {},
   "outputs": [
    {
     "data": {
      "text/plain": [
       "7"
      ]
     },
     "execution_count": 33,
     "metadata": {},
     "output_type": "execute_result"
    }
   ],
   "source": [
    "suma(7)"
   ]
  },
  {
   "cell_type": "code",
   "execution_count": 36,
   "id": "d627218c-b6c0-4404-862c-1515ab6e9b2b",
   "metadata": {},
   "outputs": [
    {
     "ename": "SyntaxError",
     "evalue": "non-default argument follows default argument (2759828019.py, line 1)",
     "output_type": "error",
     "traceback": [
      "\u001b[1;36m  Cell \u001b[1;32mIn[36], line 1\u001b[1;36m\u001b[0m\n\u001b[1;33m    def suma2(a = 0, b)\u001b[0m\n\u001b[1;37m                     ^\u001b[0m\n\u001b[1;31mSyntaxError\u001b[0m\u001b[1;31m:\u001b[0m non-default argument follows default argument\n"
     ]
    }
   ],
   "source": [
    "def suma2(a = 0, b)\n",
    "return a + b"
   ]
  },
  {
   "cell_type": "code",
   "execution_count": 37,
   "id": "b6b95acf-d0cf-4139-baa9-f14c222941e1",
   "metadata": {},
   "outputs": [
    {
     "data": {
      "text/plain": [
       "9"
      ]
     },
     "execution_count": 37,
     "metadata": {},
     "output_type": "execute_result"
    }
   ],
   "source": [
    "def suma(a, b):\n",
    "    return a + b\n",
    "\n",
    "suma(b = 4, a = 5)"
   ]
  },
  {
   "cell_type": "code",
   "execution_count": 38,
   "id": "d5faa341-66fe-4d5e-954f-cbc9eabd907f",
   "metadata": {},
   "outputs": [
    {
     "data": {
      "text/plain": [
       "9"
      ]
     },
     "execution_count": 38,
     "metadata": {},
     "output_type": "execute_result"
    }
   ],
   "source": [
    "suma(a = 5, b = 4)"
   ]
  },
  {
   "cell_type": "code",
   "execution_count": 39,
   "id": "8cfa4125-7faa-462b-9408-50cd82685908",
   "metadata": {},
   "outputs": [
    {
     "data": {
      "text/plain": [
       "9"
      ]
     },
     "execution_count": 39,
     "metadata": {},
     "output_type": "execute_result"
    }
   ],
   "source": [
    "suma(5, b = 4)"
   ]
  },
  {
   "cell_type": "code",
   "execution_count": null,
   "id": "98402714-62cb-4ec0-8c04-cee7d813812e",
   "metadata": {},
   "outputs": [],
   "source": []
  },
  {
   "cell_type": "code",
   "execution_count": null,
   "id": "82666321-6595-4eda-b8b8-e84198a0054d",
   "metadata": {},
   "outputs": [],
   "source": []
  },
  {
   "cell_type": "code",
   "execution_count": null,
   "id": "e76b92ca-4b92-45fe-881e-f1b228f8381a",
   "metadata": {},
   "outputs": [],
   "source": []
  },
  {
   "cell_type": "code",
   "execution_count": null,
   "id": "1ea4e99c-f7b0-4bb3-9d7e-638e589d391c",
   "metadata": {},
   "outputs": [],
   "source": []
  },
  {
   "cell_type": "code",
   "execution_count": 46,
   "id": "36dc4e7e-6a52-464d-b0d2-478673bc89d6",
   "metadata": {},
   "outputs": [
    {
     "name": "stdout",
     "output_type": "stream",
     "text": [
      "<class 'tuple'>\n",
      "(2, 4, 1, 17)\n"
     ]
    },
    {
     "data": {
      "text/plain": [
       "24"
      ]
     },
     "execution_count": 46,
     "metadata": {},
     "output_type": "execute_result"
    }
   ],
   "source": [
    "def suma(*args):\n",
    "    print(type(args))\n",
    "    print(args)\n",
    "    total = 0\n",
    "    for n in args:\n",
    "        total = total + n\n",
    "    return total\n",
    "\n",
    "suma(2, 4, 1, 17)"
   ]
  }
 ],
 "metadata": {
  "kernelspec": {
   "display_name": "Python 3 (ipykernel)",
   "language": "python",
   "name": "python3"
  },
  "language_info": {
   "codemirror_mode": {
    "name": "ipython",
    "version": 3
   },
   "file_extension": ".py",
   "mimetype": "text/x-python",
   "name": "python",
   "nbconvert_exporter": "python",
   "pygments_lexer": "ipython3",
   "version": "3.11.7"
  }
 },
 "nbformat": 4,
 "nbformat_minor": 5
}
