{
 "cells": [
  {
   "cell_type": "code",
   "execution_count": 1,
   "id": "67f78b8e-c8ee-46b4-9685-29ba64776976",
   "metadata": {},
   "outputs": [],
   "source": [
    "a = 5\n",
    "b = 7"
   ]
  },
  {
   "cell_type": "code",
   "execution_count": 2,
   "id": "dc4d05b5-e54c-4341-a9b9-36eaea6551e1",
   "metadata": {},
   "outputs": [
    {
     "data": {
      "text/plain": [
       "int"
      ]
     },
     "execution_count": 2,
     "metadata": {},
     "output_type": "execute_result"
    }
   ],
   "source": [
    "type(a)"
   ]
  },
  {
   "cell_type": "code",
   "execution_count": 3,
   "id": "f648209a-bfee-47e3-a18c-1f0405ea432e",
   "metadata": {},
   "outputs": [
    {
     "data": {
      "text/plain": [
       "int"
      ]
     },
     "execution_count": 3,
     "metadata": {},
     "output_type": "execute_result"
    }
   ],
   "source": [
    "type(b)"
   ]
  },
  {
   "cell_type": "code",
   "execution_count": 4,
   "id": "06eaaf09-0eb9-4d6a-86c5-23d9a4659e4d",
   "metadata": {},
   "outputs": [
    {
     "data": {
      "text/plain": [
       "int"
      ]
     },
     "execution_count": 4,
     "metadata": {},
     "output_type": "execute_result"
    }
   ],
   "source": [
    "type(8)"
   ]
  },
  {
   "cell_type": "code",
   "execution_count": 5,
   "id": "a7965348-7d51-4906-ac03-18aea3527b62",
   "metadata": {},
   "outputs": [
    {
     "data": {
      "text/plain": [
       "str"
      ]
     },
     "execution_count": 5,
     "metadata": {},
     "output_type": "execute_result"
    }
   ],
   "source": [
    "type(\"python\")"
   ]
  },
  {
   "cell_type": "code",
   "execution_count": 6,
   "id": "b64572e5-bca3-41b9-9873-0151c8a7ea9d",
   "metadata": {},
   "outputs": [
    {
     "data": {
      "text/plain": [
       "float"
      ]
     },
     "execution_count": 6,
     "metadata": {},
     "output_type": "execute_result"
    }
   ],
   "source": [
    "type(3.1415)"
   ]
  },
  {
   "cell_type": "code",
   "execution_count": 7,
   "id": "27863c1f-c541-4ae1-b345-612db0a11363",
   "metadata": {},
   "outputs": [
    {
     "name": "stdout",
     "output_type": "stream",
     "text": [
      "5\n"
     ]
    }
   ],
   "source": [
    "print(a)"
   ]
  },
  {
   "cell_type": "code",
   "execution_count": 8,
   "id": "31f720e0-d635-4178-9908-d4de69548f10",
   "metadata": {},
   "outputs": [
    {
     "name": "stdout",
     "output_type": "stream",
     "text": [
      "5 7\n"
     ]
    }
   ],
   "source": [
    "print(a, b)"
   ]
  },
  {
   "cell_type": "code",
   "execution_count": 9,
   "id": "fb32ca8b-0891-460b-bdc6-605f90ef6618",
   "metadata": {},
   "outputs": [
    {
     "data": {
      "text/plain": [
       "5"
      ]
     },
     "execution_count": 9,
     "metadata": {},
     "output_type": "execute_result"
    }
   ],
   "source": [
    "a"
   ]
  },
  {
   "cell_type": "code",
   "execution_count": 10,
   "id": "59a2d66f-5fcb-49d2-a932-da6a582d704e",
   "metadata": {},
   "outputs": [
    {
     "data": {
      "text/plain": [
       "6"
      ]
     },
     "execution_count": 10,
     "metadata": {},
     "output_type": "execute_result"
    }
   ],
   "source": [
    "1 + 7 + a - b"
   ]
  },
  {
   "cell_type": "code",
   "execution_count": 11,
   "id": "c8818303-4890-4527-be2f-94202a87b83d",
   "metadata": {},
   "outputs": [
    {
     "name": "stdout",
     "output_type": "stream",
     "text": [
      "5\n"
     ]
    }
   ],
   "source": [
    "print(a)"
   ]
  },
  {
   "cell_type": "code",
   "execution_count": 12,
   "id": "cc629f14-8955-42a2-beb4-bb27bcf016d9",
   "metadata": {},
   "outputs": [
    {
     "name": "stdout",
     "output_type": "stream",
     "text": [
      "6\n"
     ]
    }
   ],
   "source": [
    "print(1 + 7 + a - b)"
   ]
  },
  {
   "cell_type": "code",
   "execution_count": 13,
   "id": "c0972f26-86b6-4307-b4c8-87dd81971457",
   "metadata": {},
   "outputs": [],
   "source": [
    "#print (1) + 2"
   ]
  },
  {
   "cell_type": "code",
   "execution_count": 14,
   "id": "eca62173-43b6-4280-8e51-3de8d76abe81",
   "metadata": {},
   "outputs": [],
   "source": [
    "a = True"
   ]
  },
  {
   "cell_type": "code",
   "execution_count": 15,
   "id": "d0717f42-6ab7-4b80-8e0b-186fde96fa78",
   "metadata": {},
   "outputs": [
    {
     "name": "stdout",
     "output_type": "stream",
     "text": [
      "True\n"
     ]
    }
   ],
   "source": [
    "print(a)"
   ]
  },
  {
   "cell_type": "code",
   "execution_count": 16,
   "id": "65f19253-170c-4941-bdc3-38969bd643ae",
   "metadata": {},
   "outputs": [
    {
     "data": {
      "text/plain": [
       "bool"
      ]
     },
     "execution_count": 16,
     "metadata": {},
     "output_type": "execute_result"
    }
   ],
   "source": [
    "type(a)"
   ]
  },
  {
   "cell_type": "code",
   "execution_count": 17,
   "id": "31bbdd66-9da6-4705-9371-64225ea6ca0e",
   "metadata": {},
   "outputs": [],
   "source": [
    "b = False"
   ]
  },
  {
   "cell_type": "code",
   "execution_count": 18,
   "id": "0e240343-f575-4b8f-b46e-ce066af51810",
   "metadata": {},
   "outputs": [
    {
     "name": "stdout",
     "output_type": "stream",
     "text": [
      "False\n"
     ]
    }
   ],
   "source": [
    "print(b)"
   ]
  },
  {
   "cell_type": "code",
   "execution_count": 19,
   "id": "e026f587-cac8-4800-9267-bde58e45e6fc",
   "metadata": {},
   "outputs": [],
   "source": [
    "c = 5 - 4j"
   ]
  },
  {
   "cell_type": "code",
   "execution_count": 20,
   "id": "239e05d1-9b95-4b3e-b2c2-98d6fa7b6d6d",
   "metadata": {},
   "outputs": [
    {
     "name": "stdout",
     "output_type": "stream",
     "text": [
      "(5-4j)\n"
     ]
    }
   ],
   "source": [
    "print(c)"
   ]
  },
  {
   "cell_type": "code",
   "execution_count": 21,
   "id": "a74cbcd5-2645-4638-a31b-6ca150ac9d19",
   "metadata": {},
   "outputs": [
    {
     "data": {
      "text/plain": [
       "complex"
      ]
     },
     "execution_count": 21,
     "metadata": {},
     "output_type": "execute_result"
    }
   ],
   "source": [
    "type(c)"
   ]
  },
  {
   "cell_type": "code",
   "execution_count": 22,
   "id": "5971a650-8aa2-4933-9cc8-19be2d8295f7",
   "metadata": {},
   "outputs": [],
   "source": [
    "# listas, tuplas, conjuntos, diccionarios"
   ]
  },
  {
   "cell_type": "markdown",
   "id": "b9b39ddf-be31-4eb6-b6a8-5f907322a1c6",
   "metadata": {},
   "source": [
    "Sed ut perspiciatis unde omnis iste natus error sit voluptatem accusantium doloremque laudantium, totam rem aperiam, eaque ipsa quae ab illo inventore veritatis et quasi architecto beatae vitae dicta "
   ]
  },
  {
   "cell_type": "markdown",
   "id": "304bc97d-8f76-43e9-94ad-28e33a77b29e",
   "metadata": {},
   "source": [
    "# Listas"
   ]
  },
  {
   "cell_type": "markdown",
   "id": "ac4a490a-a22f-4cc1-ae23-ab927e8dd216",
   "metadata": {},
   "source": [
    "### Diccionarios"
   ]
  },
  {
   "cell_type": "markdown",
   "id": "818469e9-f101-47ef-ad68-58fc3eb7686c",
   "metadata": {},
   "source": [
    "#### tuplas"
   ]
  },
  {
   "cell_type": "code",
   "execution_count": null,
   "id": "e08a7c96-3407-4499-b27b-26d1411b7cfd",
   "metadata": {},
   "outputs": [],
   "source": []
  },
  {
   "cell_type": "markdown",
   "id": "36b905be-7758-409b-9b63-e99f67acf23f",
   "metadata": {},
   "source": [
    "# Tipos simples"
   ]
  },
  {
   "cell_type": "code",
   "execution_count": 23,
   "id": "199f2ba4-2789-4aa8-b70b-223367b19664",
   "metadata": {},
   "outputs": [],
   "source": [
    "a = 1\n",
    "b = 3.14"
   ]
  },
  {
   "cell_type": "code",
   "execution_count": 24,
   "id": "bcc4e798-d5b0-45af-8e37-59a4678c4d63",
   "metadata": {},
   "outputs": [
    {
     "data": {
      "text/plain": [
       "float"
      ]
     },
     "execution_count": 24,
     "metadata": {},
     "output_type": "execute_result"
    }
   ],
   "source": [
    "type(3.14)"
   ]
  },
  {
   "cell_type": "code",
   "execution_count": 25,
   "id": "0325285c-b821-48fa-af6e-4fc346c58a85",
   "metadata": {},
   "outputs": [
    {
     "data": {
      "text/plain": [
       "float"
      ]
     },
     "execution_count": 25,
     "metadata": {},
     "output_type": "execute_result"
    }
   ],
   "source": [
    "type(3.0)"
   ]
  },
  {
   "cell_type": "code",
   "execution_count": null,
   "id": "a5e23084-c4fd-4215-a9d0-a477be18cc09",
   "metadata": {},
   "outputs": [],
   "source": []
  },
  {
   "cell_type": "code",
   "execution_count": 26,
   "id": "381fd3e5-9e05-4404-a212-461c8579c749",
   "metadata": {},
   "outputs": [],
   "source": [
    "c = 4 + 7j\n",
    "d = True\n",
    "e = \"Python\""
   ]
  },
  {
   "cell_type": "code",
   "execution_count": null,
   "id": "a0c5e0b3-6dfd-4eb7-b36c-f95c70ffe94e",
   "metadata": {},
   "outputs": [],
   "source": []
  },
  {
   "cell_type": "code",
   "execution_count": null,
   "id": "f6fd2310-b0b8-4016-8a7b-3d040c7a48fe",
   "metadata": {},
   "outputs": [],
   "source": []
  },
  {
   "cell_type": "markdown",
   "id": "b282e268-5206-45fb-a1bf-4bf780ad578a",
   "metadata": {},
   "source": [
    "# Tipos complejos"
   ]
  },
  {
   "cell_type": "markdown",
   "id": "fe5d5d63-fe4b-43ab-b76d-b4f834123e75",
   "metadata": {},
   "source": [
    "## Listas"
   ]
  },
  {
   "cell_type": "markdown",
   "id": "5d10c2c4-55fd-47a8-9df7-be90d97e05ff",
   "metadata": {},
   "source": [
    "#### Sucesión ordenada de valores. Objeto ordenado. Mutable."
   ]
  },
  {
   "cell_type": "code",
   "execution_count": 27,
   "id": "977e3e30-cd23-4e66-a3f4-29dbf8463277",
   "metadata": {},
   "outputs": [],
   "source": [
    "f = [2, 5, True, \"python\", 3.1415]"
   ]
  },
  {
   "cell_type": "code",
   "execution_count": 28,
   "id": "14c893c8-e06e-421e-824a-8b6cf4b22731",
   "metadata": {},
   "outputs": [
    {
     "name": "stdout",
     "output_type": "stream",
     "text": [
      "[2, 5, True, 'python', 3.1415]\n"
     ]
    }
   ],
   "source": [
    "print(f)"
   ]
  },
  {
   "cell_type": "code",
   "execution_count": 29,
   "id": "580bbf18-25ee-4c56-88d7-d227d837b08e",
   "metadata": {},
   "outputs": [
    {
     "data": {
      "text/plain": [
       "[2, 5, True, 'python', 3.1415]"
      ]
     },
     "execution_count": 29,
     "metadata": {},
     "output_type": "execute_result"
    }
   ],
   "source": [
    "f"
   ]
  },
  {
   "cell_type": "code",
   "execution_count": 30,
   "id": "2106dd3b-fcb9-41e7-ba74-af0cec8af69a",
   "metadata": {},
   "outputs": [
    {
     "data": {
      "text/plain": [
       "list"
      ]
     },
     "execution_count": 30,
     "metadata": {},
     "output_type": "execute_result"
    }
   ],
   "source": [
    "type(f)"
   ]
  },
  {
   "cell_type": "code",
   "execution_count": 31,
   "id": "7d925c0e-e2f7-4f7d-9b78-971867145477",
   "metadata": {},
   "outputs": [
    {
     "data": {
      "text/plain": [
       "2"
      ]
     },
     "execution_count": 31,
     "metadata": {},
     "output_type": "execute_result"
    }
   ],
   "source": [
    "f[0]"
   ]
  },
  {
   "cell_type": "code",
   "execution_count": 32,
   "id": "721ff212-fb02-4714-9805-6e16ee3ad3b7",
   "metadata": {},
   "outputs": [
    {
     "data": {
      "text/plain": [
       "3.1415"
      ]
     },
     "execution_count": 32,
     "metadata": {},
     "output_type": "execute_result"
    }
   ],
   "source": [
    "f[4]"
   ]
  },
  {
   "cell_type": "code",
   "execution_count": 33,
   "id": "39cfab64-e0bd-41a0-ae27-a62cf9c8cfb5",
   "metadata": {},
   "outputs": [
    {
     "data": {
      "text/plain": [
       "3.1415"
      ]
     },
     "execution_count": 33,
     "metadata": {},
     "output_type": "execute_result"
    }
   ],
   "source": [
    "f[-1]"
   ]
  },
  {
   "cell_type": "code",
   "execution_count": 34,
   "id": "2901ddd3-4243-4c46-ac6e-3851a45394a2",
   "metadata": {},
   "outputs": [],
   "source": [
    "f = [\"a\", \"b\", \"c\"]"
   ]
  },
  {
   "cell_type": "code",
   "execution_count": 35,
   "id": "abedf53c-e6e8-43c8-9511-bf82d32eb3d5",
   "metadata": {},
   "outputs": [
    {
     "data": {
      "text/plain": [
       "['a', 'b', 'c']"
      ]
     },
     "execution_count": 35,
     "metadata": {},
     "output_type": "execute_result"
    }
   ],
   "source": [
    "f"
   ]
  },
  {
   "cell_type": "code",
   "execution_count": 36,
   "id": "e9f1f075-3865-4a49-be63-d94c6a24bc79",
   "metadata": {},
   "outputs": [],
   "source": [
    "f = list(\"abcdefg\")"
   ]
  },
  {
   "cell_type": "code",
   "execution_count": 37,
   "id": "f87e1de6-5640-407f-afd4-28e7644983de",
   "metadata": {},
   "outputs": [
    {
     "data": {
      "text/plain": [
       "['a', 'b', 'c', 'd', 'e', 'f', 'g']"
      ]
     },
     "execution_count": 37,
     "metadata": {},
     "output_type": "execute_result"
    }
   ],
   "source": [
    "f"
   ]
  },
  {
   "cell_type": "code",
   "execution_count": 38,
   "id": "efe00bc0-1017-468c-91b2-d9c80286b039",
   "metadata": {},
   "outputs": [
    {
     "data": {
      "text/plain": [
       "'g'"
      ]
     },
     "execution_count": 38,
     "metadata": {},
     "output_type": "execute_result"
    }
   ],
   "source": [
    "f[-1]"
   ]
  },
  {
   "cell_type": "code",
   "execution_count": 39,
   "id": "0e6cfbb8-d35e-43ed-8649-074a1988585c",
   "metadata": {},
   "outputs": [
    {
     "data": {
      "text/plain": [
       "['b', 'c', 'd']"
      ]
     },
     "execution_count": 39,
     "metadata": {},
     "output_type": "execute_result"
    }
   ],
   "source": [
    "f[1:4]"
   ]
  },
  {
   "cell_type": "code",
   "execution_count": 40,
   "id": "924b0450-561e-4f93-9cc1-6b846b9d17f9",
   "metadata": {},
   "outputs": [
    {
     "data": {
      "text/plain": [
       "['b', 'c', 'd']"
      ]
     },
     "execution_count": 40,
     "metadata": {},
     "output_type": "execute_result"
    }
   ],
   "source": [
    "f[-6:-3]"
   ]
  },
  {
   "cell_type": "code",
   "execution_count": null,
   "id": "bf07a5f8-a535-4c6f-a0e8-a1246143b75b",
   "metadata": {},
   "outputs": [],
   "source": []
  },
  {
   "cell_type": "markdown",
   "id": "9fa56279-631e-400b-a868-97ff9f430f59",
   "metadata": {},
   "source": [
    "## Tuplas"
   ]
  },
  {
   "cell_type": "markdown",
   "id": "4ecbef43-cb3c-4eb9-8f32-fdd9c165a503",
   "metadata": {},
   "source": [
    "#### Es una secuencia ordenada de valores, que puede ser de cualquier tipo, pero las tuplas son INMUTABLES. No puedo añadir ni eliminar elementos de ella"
   ]
  },
  {
   "cell_type": "code",
   "execution_count": 41,
   "id": "8a175e66-a885-4879-a67b-09a154db0ef5",
   "metadata": {},
   "outputs": [],
   "source": [
    "g = (2, 3.14, True, \"python\")"
   ]
  },
  {
   "cell_type": "code",
   "execution_count": 42,
   "id": "1f62c01f-09c8-4b94-8f8b-38948c7a13e4",
   "metadata": {},
   "outputs": [
    {
     "data": {
      "text/plain": [
       "(2, 3.14, True, 'python')"
      ]
     },
     "execution_count": 42,
     "metadata": {},
     "output_type": "execute_result"
    }
   ],
   "source": [
    "g"
   ]
  },
  {
   "cell_type": "code",
   "execution_count": 43,
   "id": "0e442f70-1564-4b45-bdbf-a4c3f1ae6f51",
   "metadata": {},
   "outputs": [
    {
     "data": {
      "text/plain": [
       "tuple"
      ]
     },
     "execution_count": 43,
     "metadata": {},
     "output_type": "execute_result"
    }
   ],
   "source": [
    "type(g)"
   ]
  },
  {
   "cell_type": "code",
   "execution_count": 44,
   "id": "a20d4796-7086-44b6-8e37-b5e0d8812b65",
   "metadata": {},
   "outputs": [
    {
     "data": {
      "text/plain": [
       "3.14"
      ]
     },
     "execution_count": 44,
     "metadata": {},
     "output_type": "execute_result"
    }
   ],
   "source": [
    "g[1]"
   ]
  },
  {
   "cell_type": "code",
   "execution_count": 45,
   "id": "3c8c5283-a3f2-44c4-be3a-70e56be684f0",
   "metadata": {},
   "outputs": [
    {
     "data": {
      "text/plain": [
       "(3.14, True)"
      ]
     },
     "execution_count": 45,
     "metadata": {},
     "output_type": "execute_result"
    }
   ],
   "source": [
    "g[1:3]"
   ]
  },
  {
   "cell_type": "code",
   "execution_count": null,
   "id": "08992d3b-170a-49f4-9564-d63696f2a6b9",
   "metadata": {},
   "outputs": [],
   "source": []
  },
  {
   "cell_type": "markdown",
   "id": "05b979ed-5ad5-4ce6-a0b3-7aebcd028387",
   "metadata": {},
   "source": [
    "## Conjuntos"
   ]
  },
  {
   "cell_type": "markdown",
   "id": "b085c746-9a31-4c03-9292-cdd43f1ece8b",
   "metadata": {},
   "source": [
    "#### Estructura de valores que pueden ser de diferente tipo, pero es una estructura NO ordenada\n",
    "#### En un conjunto no hay valores repetidos. Los conjuntos si son mutables. Puedo añadir o eliminar elementos de ella"
   ]
  },
  {
   "cell_type": "code",
   "execution_count": 46,
   "id": "17004c59-9d31-4bfe-a658-c9ada937921f",
   "metadata": {},
   "outputs": [],
   "source": [
    "h = {1, 1, 1, True, \"python\"}"
   ]
  },
  {
   "cell_type": "code",
   "execution_count": 47,
   "id": "9c0bfff7-e90e-4752-ac60-2c27243dcebb",
   "metadata": {},
   "outputs": [
    {
     "data": {
      "text/plain": [
       "{1, 'python'}"
      ]
     },
     "execution_count": 47,
     "metadata": {},
     "output_type": "execute_result"
    }
   ],
   "source": [
    "h"
   ]
  },
  {
   "cell_type": "code",
   "execution_count": 48,
   "id": "0543b0b0-0f3f-4660-a64e-dfc86a6a991b",
   "metadata": {},
   "outputs": [],
   "source": [
    "# h[0]: esto devuelve error, porque es una estructura NO ordenada"
   ]
  },
  {
   "cell_type": "code",
   "execution_count": 49,
   "id": "72ed8c35-258f-4220-ba0a-d741c7dcca27",
   "metadata": {},
   "outputs": [],
   "source": [
    "# El true no aparece, porque True es 1 en binario"
   ]
  },
  {
   "cell_type": "code",
   "execution_count": 50,
   "id": "867c42c4-8ccb-405e-8ada-962dc8da1e7b",
   "metadata": {},
   "outputs": [
    {
     "data": {
      "text/plain": [
       "set"
      ]
     },
     "execution_count": 50,
     "metadata": {},
     "output_type": "execute_result"
    }
   ],
   "source": [
    "type(h)"
   ]
  },
  {
   "cell_type": "markdown",
   "id": "38c686b9-0ffe-4cda-bc8f-c09bf7b90eaa",
   "metadata": {},
   "source": [
    "## Diccionarios"
   ]
  },
  {
   "cell_type": "markdown",
   "id": "a658ff69-ae3d-49b2-a838-7056a3610ee0",
   "metadata": {},
   "source": [
    "#### Es una pareja de valores. Pareja clave-valor. Valores con clave asociada. No es una estructura ordenada. No tiene un orden"
   ]
  },
  {
   "cell_type": "code",
   "execution_count": null,
   "id": "cf4c6536-a7c6-4c75-9b36-e6f7c4130fab",
   "metadata": {},
   "outputs": [],
   "source": []
  },
  {
   "cell_type": "code",
   "execution_count": 51,
   "id": "ce831e8c-2ad4-4a24-9576-a6b377e250fe",
   "metadata": {},
   "outputs": [],
   "source": [
    "i = {\"enero\": 31, \"febrero\": 28, \"marzo\": 31, \"abril\": 30}"
   ]
  },
  {
   "cell_type": "code",
   "execution_count": 52,
   "id": "e4a120c5-0eb2-4d71-9090-cb08c090e164",
   "metadata": {},
   "outputs": [
    {
     "data": {
      "text/plain": [
       "{'enero': 31, 'febrero': 28, 'marzo': 31, 'abril': 30}"
      ]
     },
     "execution_count": 52,
     "metadata": {},
     "output_type": "execute_result"
    }
   ],
   "source": [
    "i"
   ]
  },
  {
   "cell_type": "code",
   "execution_count": 53,
   "id": "549c1452-f458-46e8-99bb-122902699995",
   "metadata": {},
   "outputs": [
    {
     "data": {
      "text/plain": [
       "dict"
      ]
     },
     "execution_count": 53,
     "metadata": {},
     "output_type": "execute_result"
    }
   ],
   "source": [
    "type(i)"
   ]
  },
  {
   "cell_type": "code",
   "execution_count": 54,
   "id": "49de7dce-b8dc-4dc3-b794-84e621cd19ee",
   "metadata": {},
   "outputs": [
    {
     "data": {
      "text/plain": [
       "31"
      ]
     },
     "execution_count": 54,
     "metadata": {},
     "output_type": "execute_result"
    }
   ],
   "source": [
    "i[\"enero\"]"
   ]
  },
  {
   "cell_type": "code",
   "execution_count": 55,
   "id": "6757d472-6c1a-4642-85ab-3acfd539bfb4",
   "metadata": {},
   "outputs": [],
   "source": [
    "j = {\"enero\": [1, 3, 6], \"febrero\": (2, 4, 6)}"
   ]
  },
  {
   "cell_type": "code",
   "execution_count": 56,
   "id": "bd4ef9e4-4a3b-433f-8778-f785dcb8cfcc",
   "metadata": {},
   "outputs": [
    {
     "data": {
      "text/plain": [
       "{'enero': [1, 3, 6], 'febrero': (2, 4, 6)}"
      ]
     },
     "execution_count": 56,
     "metadata": {},
     "output_type": "execute_result"
    }
   ],
   "source": [
    "j"
   ]
  },
  {
   "cell_type": "code",
   "execution_count": null,
   "id": "97baadd1-db4b-4d25-b4eb-30ff16a860dc",
   "metadata": {},
   "outputs": [],
   "source": []
  },
  {
   "cell_type": "code",
   "execution_count": null,
   "id": "fbc02ecb-449c-42fd-8dce-9e67692c7b2b",
   "metadata": {},
   "outputs": [],
   "source": []
  },
  {
   "cell_type": "code",
   "execution_count": null,
   "id": "d801e0c1-9ce6-4bea-842b-07863051ad3c",
   "metadata": {},
   "outputs": [],
   "source": []
  }
 ],
 "metadata": {
  "kernelspec": {
   "display_name": "Python 3 (ipykernel)",
   "language": "python",
   "name": "python3"
  },
  "language_info": {
   "codemirror_mode": {
    "name": "ipython",
    "version": 3
   },
   "file_extension": ".py",
   "mimetype": "text/x-python",
   "name": "python",
   "nbconvert_exporter": "python",
   "pygments_lexer": "ipython3",
   "version": "3.11.7"
  }
 },
 "nbformat": 4,
 "nbformat_minor": 5
}
