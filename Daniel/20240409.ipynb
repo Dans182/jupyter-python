{
 "cells": [
  {
   "cell_type": "code",
   "execution_count": 1,
   "id": "86330dc4",
   "metadata": {},
   "outputs": [],
   "source": [
    "import random #Libreria random - se importa sin alias"
   ]
  },
  {
   "cell_type": "code",
   "execution_count": 2,
   "id": "a61e0d6e",
   "metadata": {},
   "outputs": [],
   "source": [
    "names = lambda obj: print([name for name in dir(obj) if name[0] != \"_\"]) #func lambda que recibe un arg que guardo en la variable \"obj\"\n",
    "#devuelve una list comprehension"
   ]
  },
  {
   "cell_type": "code",
   "execution_count": 3,
   "id": "b99a0074",
   "metadata": {},
   "outputs": [
    {
     "name": "stdout",
     "output_type": "stream",
     "text": [
      "['BPF', 'LOG4', 'NV_MAGICCONST', 'RECIP_BPF', 'Random', 'SG_MAGICCONST', 'SystemRandom', 'TWOPI', 'betavariate', 'choice', 'choices', 'expovariate', 'gammavariate', 'gauss', 'getrandbits', 'getstate', 'lognormvariate', 'normalvariate', 'paretovariate', 'randbytes', 'randint', 'random', 'randrange', 'sample', 'seed', 'setstate', 'shuffle', 'triangular', 'uniform', 'vonmisesvariate', 'weibullvariate']\n"
     ]
    }
   ],
   "source": [
    "names(random) #todos los nombres asociados a la libreria random"
   ]
  },
  {
   "cell_type": "code",
   "execution_count": 4,
   "id": "19976f2c",
   "metadata": {},
   "outputs": [],
   "source": [
    "#random genera un nº pseudo aleatorio. Genera im mº entre 0 y 1 (0, 1) rango cerrado por la izquierda, abierto por \n",
    "#la derecha. porque puede salir el 0, pero no el 1 [0, 1). Lo maximo sería un 0.9^"
   ]
  },
  {
   "cell_type": "code",
   "execution_count": 5,
   "id": "0033953f",
   "metadata": {},
   "outputs": [
    {
     "data": {
      "text/plain": [
       "8"
      ]
     },
     "execution_count": 5,
     "metadata": {},
     "output_type": "execute_result"
    }
   ],
   "source": [
    "random.randint(4, 17) #generar nºs enteros entre dos valores dados"
   ]
  },
  {
   "cell_type": "code",
   "execution_count": 6,
   "id": "496c8c79",
   "metadata": {},
   "outputs": [],
   "source": [
    "random.seed(0) #asi inicializamos el metodo que se encarga de dar un numero aleatorio"
   ]
  },
  {
   "cell_type": "code",
   "execution_count": 7,
   "id": "a9d04b07",
   "metadata": {},
   "outputs": [],
   "source": [
    "#el tema es que al inicializarlo, esa aleatoriedad no es tal, porque siempre serán los mismos. No se sabe si el"
   ]
  },
  {
   "cell_type": "code",
   "execution_count": 8,
   "id": "48996830",
   "metadata": {},
   "outputs": [],
   "source": [
    "#metodo que se encarga de random es en base a la hora reloj, procesos del PC, etc"
   ]
  },
  {
   "cell_type": "code",
   "execution_count": 9,
   "id": "dfe2f433",
   "metadata": {},
   "outputs": [
    {
     "data": {
      "text/plain": [
       "'D'"
      ]
     },
     "execution_count": 9,
     "metadata": {},
     "output_type": "execute_result"
    }
   ],
   "source": [
    "random.choice(list(\"ABCDEF\")) #escoge elemento aleatorio de una secuencia que no esté vacia"
   ]
  },
  {
   "cell_type": "code",
   "execution_count": 10,
   "id": "0f450813",
   "metadata": {},
   "outputs": [
    {
     "data": {
      "text/plain": [
       "['A', 'B', 'C', 'D', 'E']"
      ]
     },
     "execution_count": 10,
     "metadata": {},
     "output_type": "execute_result"
    }
   ],
   "source": [
    "list(\"ABCDE\")"
   ]
  },
  {
   "cell_type": "code",
   "execution_count": 11,
   "id": "71b4e23c",
   "metadata": {},
   "outputs": [],
   "source": [
    "#sin reemplazo, es que hace una extracción de una lista y si tiene que extraer de nuevo, ya no toma en cuenta al ya extraido"
   ]
  },
  {
   "cell_type": "code",
   "execution_count": 12,
   "id": "bd632519",
   "metadata": {},
   "outputs": [],
   "source": [
    "#con reemplazo, es que hace una extracción de una lista y si tiene que extraer de nuevo, toma en cuenta al ya extraido, pudiendo volver a extraer el mismo"
   ]
  },
  {
   "cell_type": "code",
   "execution_count": 13,
   "id": "e1036704",
   "metadata": {},
   "outputs": [
    {
     "data": {
      "text/plain": [
       "['E',\n",
       " 'C',\n",
       " 'B',\n",
       " 'D',\n",
       " 'C',\n",
       " 'E',\n",
       " 'B',\n",
       " 'C',\n",
       " 'D',\n",
       " 'F',\n",
       " 'D',\n",
       " 'B',\n",
       " 'E',\n",
       " 'D',\n",
       " 'B',\n",
       " 'F',\n",
       " 'F']"
      ]
     },
     "execution_count": 13,
     "metadata": {},
     "output_type": "execute_result"
    }
   ],
   "source": [
    "random.choices(list(\"ABCDEF\"), k = 17) #Damos conjunto de elementos y le decimos la cantidad de elementos a extraer aleatoriamente\n",
    "#con reemplazo --Es para extraccion sin reemplazo"
   ]
  },
  {
   "cell_type": "code",
   "execution_count": 14,
   "id": "d99a2df0",
   "metadata": {},
   "outputs": [
    {
     "data": {
      "text/plain": [
       "['E', 'B', 'C', 'A', 'D', 'F']"
      ]
     },
     "execution_count": 14,
     "metadata": {},
     "output_type": "execute_result"
    }
   ],
   "source": [
    "random.sample(list(\"ABCDEF\"), k = 6) # Es para extraccion sin reemplazo \n",
    "#Si intentas que haga mas extracciones de los valores que puede, dara error"
   ]
  },
  {
   "cell_type": "code",
   "execution_count": null,
   "id": "3f174d5b",
   "metadata": {},
   "outputs": [],
   "source": []
  },
  {
   "cell_type": "markdown",
   "id": "d4fb0b7e",
   "metadata": {},
   "source": [
    "# Piedra, papel o tijera "
   ]
  },
  {
   "cell_type": "code",
   "execution_count": 15,
   "id": "32a31dc3",
   "metadata": {},
   "outputs": [],
   "source": [
    "opciones = [\"piedra\", \"papel, tijeras\"]"
   ]
  },
  {
   "cell_type": "code",
   "execution_count": 17,
   "id": "6b50cd11",
   "metadata": {},
   "outputs": [
    {
     "name": "stdout",
     "output_type": "stream",
     "text": [
      "Escoge entre piedra, papel o tijeras: tijeras\n",
      "Tu elección fue tijeras y yo he escogido piedra, asi que el ganador es pc\n"
     ]
    }
   ],
   "source": [
    "respuesta_usuario = input(\"Escoge entre piedra, papel o tijeras: \")\n",
    "respuesta_pc = random.choice(opciones)\n",
    "\n",
    "if (respuesta_usuario == \"piedra\") and (respuesta_pc == \"piedra\"):\n",
    "    ganador = \"empate\"\n",
    "elif (respuesta_usuario == \"piedra\") and (respuesta_pc == \"papel\"):\n",
    "    ganador = \"pc\"\n",
    "elif (respuesta_usuario == \"piedra\") and (respuesta_pc == \"tijeras\"):\n",
    "    ganador = \"usuario\"\n",
    "elif (respuesta_usuario == \"papel\") and (respuesta_pc == \"papel\"):\n",
    "    ganador = \"empate\"\n",
    "elif (respuesta_usuario == \"papel\") and (respuesta_pc == \"piedra\"):\n",
    "    ganador = \"usuario\"\n",
    "elif (respuesta_usuario == \"papel\") and (respuesta_pc == \"tijeras\"):\n",
    "    ganador = \"pc\"\n",
    "elif (respuesta_usuario == \"tijeras\") and (respuesta_pc == \"tijeras\"):\n",
    "    ganador = \"empate\"\n",
    "elif (respuesta_usuario == \"tijeras\") and (respuesta_pc == \"piedra\"):\n",
    "    ganador = \"pc\"\n",
    "elif (respuesta_usuario == \"tijeras\") and (respuesta_pc == \"papel\"):\n",
    "    ganador = \"usuario\"\n",
    "    \n",
    "print(f\"Tu elección fue {respuesta_usuario} y yo he escogido {respuesta_pc}, asi que el ganador es {ganador}\")"
   ]
  },
  {
   "cell_type": "code",
   "execution_count": null,
   "id": "4c130c1d",
   "metadata": {},
   "outputs": [],
   "source": []
  },
  {
   "cell_type": "markdown",
   "id": "e321e465",
   "metadata": {},
   "source": [
    "# Gestor de contraseñas "
   ]
  },
  {
   "cell_type": "code",
   "execution_count": 18,
   "id": "fdc8be8c",
   "metadata": {},
   "outputs": [],
   "source": [
    "#passwords = {}\n",
    "\n",
    "#user = \"\"\n",
    "\n",
    "#while user != \"exit\":\n",
    "#    username = input(\"Introduce un nombre de usuario o exit para salir: \")\n",
    "#    password = input(\"Introduce la contraseña: \")\n",
    "#    passwords[username] = password"
   ]
  },
  {
   "cell_type": "code",
   "execution_count": 19,
   "id": "13a631d1",
   "metadata": {},
   "outputs": [],
   "source": [
    "passwords = {}"
   ]
  },
  {
   "cell_type": "code",
   "execution_count": 20,
   "id": "38c5eaab",
   "metadata": {},
   "outputs": [
    {
     "data": {
      "text/plain": [
       "dict"
      ]
     },
     "execution_count": 20,
     "metadata": {},
     "output_type": "execute_result"
    }
   ],
   "source": [
    "type(passwords)"
   ]
  },
  {
   "cell_type": "code",
   "execution_count": 22,
   "id": "3920eab9",
   "metadata": {},
   "outputs": [
    {
     "name": "stdout",
     "output_type": "stream",
     "text": [
      "Introduce un nombre de usuario o exit para salir: pedro\n",
      "Introduce la contraseña: cosa\n",
      "Introduce un nombre de usuario o exit para salir: exit\n"
     ]
    },
    {
     "data": {
      "text/plain": [
       "{'pedro': 'cosa'}"
      ]
     },
     "execution_count": 22,
     "metadata": {},
     "output_type": "execute_result"
    }
   ],
   "source": [
    "while True:\n",
    "    username = input(\"Introduce un nombre de usuario o exit para salir: \")\n",
    "    if username == \"exit\":\n",
    "        break\n",
    "    password = input(\"Introduce la contraseña: \")\n",
    "    passwords[username] = password\n",
    "    \n",
    "passwords"
   ]
  },
  {
   "cell_type": "code",
   "execution_count": 25,
   "id": "51732b9e",
   "metadata": {},
   "outputs": [],
   "source": [
    "import getpass #libreria de python para gestion de contraseñas"
   ]
  },
  {
   "cell_type": "code",
   "execution_count": 26,
   "id": "2793e4c0",
   "metadata": {},
   "outputs": [
    {
     "name": "stdout",
     "output_type": "stream",
     "text": [
      "['GetPassWarning', 'contextlib', 'fallback_getpass', 'getpass', 'getuser', 'io', 'os', 'sys', 'termios', 'unix_getpass', 'warnings', 'win_getpass']\n"
     ]
    }
   ],
   "source": [
    "names(getpass) #contenido de la libreria getpass"
   ]
  },
  {
   "cell_type": "code",
   "execution_count": 27,
   "id": "b6d64e34",
   "metadata": {},
   "outputs": [
    {
     "name": "stdout",
     "output_type": "stream",
     "text": [
      "Introduce tu contraseña········\n"
     ]
    },
    {
     "data": {
      "text/plain": [
       "'Perro'"
      ]
     },
     "execution_count": 27,
     "metadata": {},
     "output_type": "execute_result"
    }
   ],
   "source": [
    "getpass.getpass(\"Introduce tu contraseña\")"
   ]
  },
  {
   "cell_type": "code",
   "execution_count": null,
   "id": "022de541",
   "metadata": {},
   "outputs": [],
   "source": []
  },
  {
   "cell_type": "markdown",
   "id": "bef7d79c",
   "metadata": {},
   "source": [
    "# Función hash. "
   ]
  },
  {
   "cell_type": "code",
   "execution_count": 28,
   "id": "1435069f",
   "metadata": {},
   "outputs": [],
   "source": [
    "#Método de cifrado, que no tiene método de descifrado asociado. Forma de cifrar datos, que ya no se puedan descrifrar"
   ]
  },
  {
   "cell_type": "code",
   "execution_count": 34,
   "id": "6a512adb",
   "metadata": {},
   "outputs": [
    {
     "data": {
      "text/plain": [
       "-818499083554869053"
      ]
     },
     "execution_count": 34,
     "metadata": {},
     "output_type": "execute_result"
    }
   ],
   "source": [
    "hash(\"python\") #Esto es una funcion de juguete. \n",
    "# No es para uso serio de encriptación"
   ]
  },
  {
   "cell_type": "code",
   "execution_count": 35,
   "id": "b93473d6",
   "metadata": {},
   "outputs": [],
   "source": [
    "import hashlib #libreria seria de encriptación"
   ]
  },
  {
   "cell_type": "code",
   "execution_count": 37,
   "id": "aaf6f3f7",
   "metadata": {},
   "outputs": [
    {
     "name": "stdout",
     "output_type": "stream",
     "text": [
      "['algorithms_available', 'algorithms_guaranteed', 'blake2b', 'blake2s', 'md5', 'new', 'pbkdf2_hmac', 'scrypt', 'sha1', 'sha224', 'sha256', 'sha384', 'sha3_224', 'sha3_256', 'sha3_384', 'sha3_512', 'sha512', 'shake_128', 'shake_256']\n"
     ]
    }
   ],
   "source": [
    "names(hashlib)"
   ]
  },
  {
   "cell_type": "code",
   "execution_count": 51,
   "id": "2d074cde",
   "metadata": {},
   "outputs": [
    {
     "data": {
      "text/plain": [
       "b'python'"
      ]
     },
     "execution_count": 51,
     "metadata": {},
     "output_type": "execute_result"
    }
   ],
   "source": [
    "\"python\".encode(\"utf8\") #Las cadenas de texto tienen que ser \n",
    "#codificadas antes de pasarlas a una funcion de hash\n",
    "\n",
    "#hashlib.md5(\"python\") -> por eso esto no funciona. y habria que hacer \n",
    "#lo de arriba. Aca codificamos haciendo uso del standard utf8"
   ]
  },
  {
   "cell_type": "code",
   "execution_count": 43,
   "id": "8e03ebdf",
   "metadata": {},
   "outputs": [
    {
     "data": {
      "text/plain": [
       "<md5 _hashlib.HASH object @ 0x7fc2f1bac7b0>"
      ]
     },
     "execution_count": 43,
     "metadata": {},
     "output_type": "execute_result"
    }
   ],
   "source": [
    "hashlib.md5(\"python\".encode(\"utf8\"))"
   ]
  },
  {
   "cell_type": "code",
   "execution_count": 53,
   "id": "1e6e71ae",
   "metadata": {},
   "outputs": [
    {
     "name": "stdout",
     "output_type": "stream",
     "text": [
      "['block_size', 'copy', 'digest', 'digest_size', 'hexdigest', 'name', 'update']\n"
     ]
    }
   ],
   "source": [
    "names(hashlib.md5(\"python\".encode(\"utf8\"))) #metodos asociados al objeto"
   ]
  },
  {
   "cell_type": "code",
   "execution_count": 55,
   "id": "11ffd4b5",
   "metadata": {},
   "outputs": [
    {
     "data": {
      "text/plain": [
       "'23eeeb4347bdd26bfc6b7ee9a3b755dd'"
      ]
     },
     "execution_count": 55,
     "metadata": {},
     "output_type": "execute_result"
    }
   ],
   "source": [
    "hashlib.md5(\"python\".encode(\"utf8\")).hexdigest() #aca veo el cifrado hash"
   ]
  },
  {
   "cell_type": "code",
   "execution_count": 67,
   "id": "2d24845c",
   "metadata": {},
   "outputs": [
    {
     "name": "stdout",
     "output_type": "stream",
     "text": [
      "Introduce un nombre de usuario o exit para salir: Rick\n",
      "Introduce la contraseña: ········\n",
      "Introduce un nombre de usuario o exit para salir: exit\n"
     ]
    },
    {
     "data": {
      "text/plain": [
       "{'pedro': 'cosa',\n",
       " 'Dan': <md5 _hashlib.HASH object @ 0x7fc314c3f910>,\n",
       " 'Rec': '59506b7d50499cf62e3099491c108c9d',\n",
       " 'Rick': '17ad55a9b8384777496330d23e59d520'}"
      ]
     },
     "execution_count": 67,
     "metadata": {},
     "output_type": "execute_result"
    }
   ],
   "source": [
    "while True:\n",
    "    username = input(\"Introduce un nombre de usuario o exit para salir: \")\n",
    "    if username == \"exit\":\n",
    "        break\n",
    "    password = getpass.getpass(\"Introduce la contraseña: \")\n",
    "    passwords[username] = hashlib.md5(password.encode(\"utf8\")).hexdigest()\n",
    "    \n",
    "passwords"
   ]
  },
  {
   "cell_type": "code",
   "execution_count": 78,
   "id": "8278b6c3",
   "metadata": {},
   "outputs": [
    {
     "name": "stdout",
     "output_type": "stream",
     "text": [
      "Introduce tu nombre de usuario: rick\n",
      "Introduce tu contraseña: ········\n",
      "No eres tu, adeu!\n"
     ]
    }
   ],
   "source": [
    "user = input(\"Introduce tu nombre de usuario: \")\n",
    "password = getpass.getpass(\"Introduce tu contraseña: \")\n",
    "    \n",
    "if passwords.get(user) == hashlib.md5(password.encode(\"utf8\")).hexdigest():\n",
    "    print(\"Eres tu, entra!\")\n",
    "else:\n",
    "    print(\"No eres tu, adeu!\")\n"
   ]
  },
  {
   "cell_type": "code",
   "execution_count": 80,
   "id": "76bc0ea2",
   "metadata": {},
   "outputs": [
    {
     "name": "stdout",
     "output_type": "stream",
     "text": [
      "['clear', 'copy', 'fromkeys', 'get', 'items', 'keys', 'pop', 'popitem', 'setdefault', 'update', 'values']\n"
     ]
    }
   ],
   "source": [
    "names(passwords)"
   ]
  },
  {
   "cell_type": "code",
   "execution_count": 81,
   "id": "f81726a1",
   "metadata": {},
   "outputs": [
    {
     "data": {
      "text/plain": [
       "'17ad55a9b8384777496330d23e59d520'"
      ]
     },
     "execution_count": 81,
     "metadata": {},
     "output_type": "execute_result"
    }
   ],
   "source": [
    "passwords.get(\"Rick\")"
   ]
  },
  {
   "cell_type": "code",
   "execution_count": 83,
   "id": "0aafad47",
   "metadata": {},
   "outputs": [],
   "source": [
    "passwords.get(\"Luis\") #no existe en el diccionario"
   ]
  },
  {
   "cell_type": "code",
   "execution_count": null,
   "id": "ddec5dc4",
   "metadata": {},
   "outputs": [],
   "source": []
  },
  {
   "cell_type": "markdown",
   "id": "9952a6dd",
   "metadata": {},
   "source": [
    "# Expresiones regulares "
   ]
  },
  {
   "cell_type": "code",
   "execution_count": 60,
   "id": "fc9061d7",
   "metadata": {},
   "outputs": [],
   "source": [
    "import re"
   ]
  },
  {
   "cell_type": "code",
   "execution_count": 61,
   "id": "cb9a6343",
   "metadata": {
    "scrolled": true
   },
   "outputs": [
    {
     "name": "stdout",
     "output_type": "stream",
     "text": [
      "['A', 'ASCII', 'DEBUG', 'DOTALL', 'I', 'IGNORECASE', 'L', 'LOCALE', 'M', 'MULTILINE', 'Match', 'Pattern', 'RegexFlag', 'S', 'Scanner', 'T', 'TEMPLATE', 'U', 'UNICODE', 'VERBOSE', 'X', 'compile', 'copyreg', 'enum', 'error', 'escape', 'findall', 'finditer', 'fullmatch', 'functools', 'match', 'purge', 'search', 'split', 'sre_compile', 'sre_parse', 'sub', 'subn', 'template']\n"
     ]
    }
   ],
   "source": [
    "names(re)"
   ]
  },
  {
   "cell_type": "code",
   "execution_count": null,
   "id": "4281d777",
   "metadata": {},
   "outputs": [],
   "source": [
    "text = \"python for data science\"\n",
    "re.search(r\"data\", text)"
   ]
  },
  {
   "cell_type": "code",
   "execution_count": null,
   "id": "7ad0696c",
   "metadata": {},
   "outputs": [],
   "source": [
    "text = \"mi gato y tu gata juegan con los gatitos del gato del vecino\""
   ]
  },
  {
   "cell_type": "code",
   "execution_count": null,
   "id": "c1c4062f",
   "metadata": {},
   "outputs": [],
   "source": [
    "re.search(r\"gato\", text)"
   ]
  },
  {
   "cell_type": "code",
   "execution_count": null,
   "id": "a11c4650",
   "metadata": {},
   "outputs": [],
   "source": [
    "re.findall(r\"gato\", text)"
   ]
  },
  {
   "cell_type": "code",
   "execution_count": null,
   "id": "7c56b4c6",
   "metadata": {},
   "outputs": [],
   "source": [
    "for match in re.finditer(r\"gato\", text):\n",
    "    print(match)"
   ]
  },
  {
   "cell_type": "code",
   "execution_count": null,
   "id": "f0abed3c",
   "metadata": {},
   "outputs": [],
   "source": [
    "for match in re.finditer(r\"gat[oa]\", text):\n",
    "    print(match)"
   ]
  },
  {
   "cell_type": "code",
   "execution_count": null,
   "id": "2b816d1c",
   "metadata": {},
   "outputs": [],
   "source": [
    "text = \"mi gato y tus gatas juegan con los gatitos del gato del vecino\""
   ]
  },
  {
   "cell_type": "code",
   "execution_count": null,
   "id": "2d10e7bc",
   "metadata": {},
   "outputs": [],
   "source": [
    "for match in re.finditer(r\"gat[oa]s?\", text):\n",
    "    print(match)"
   ]
  },
  {
   "cell_type": "code",
   "execution_count": null,
   "id": "d86550ad",
   "metadata": {},
   "outputs": [],
   "source": [
    "for match in re.finditer(r\"gat(it)?[oa]s?\", text):\n",
    "    print(match)"
   ]
  },
  {
   "cell_type": "code",
   "execution_count": null,
   "id": "02e3664a",
   "metadata": {},
   "outputs": [],
   "source": [
    "email = \"daniel@blablabla.com\"\n",
    "pattern = r\".+@.+\\..+\" # \".\" representa cualquier caracter Para un punto literal, hay que escapar el punto con un slash\n",
    "re.fullmatch(pattern, email)"
   ]
  },
  {
   "cell_type": "code",
   "execution_count": null,
   "id": "9f695458",
   "metadata": {},
   "outputs": [],
   "source": [
    "pattern"
   ]
  },
  {
   "cell_type": "code",
   "execution_count": null,
   "id": "14eb8277",
   "metadata": {},
   "outputs": [],
   "source": [
    "# * 0 o mas veces + 1 o mas veces"
   ]
  },
  {
   "cell_type": "code",
   "execution_count": null,
   "id": "f92a0204",
   "metadata": {},
   "outputs": [],
   "source": [
    "email = \"daniel@blablabla.comm\"\n",
    "pattern = r\".+@.+\\..{3}\" \n",
    "re.fullmatch(pattern, email) #no encaja porque se indica que el dominio es de 3 letras y tiene 4"
   ]
  },
  {
   "cell_type": "code",
   "execution_count": null,
   "id": "632c7386",
   "metadata": {},
   "outputs": [],
   "source": [
    "email = \"daniel@blablabla.com\"\n",
    "pattern = r\".+@.+\\..{2,3}\" \n",
    "re.fullmatch(pattern, email) #admitimos dominios de longitud 2 o 3"
   ]
  },
  {
   "cell_type": "code",
   "execution_count": null,
   "id": "eb86bfd0",
   "metadata": {},
   "outputs": [],
   "source": [
    "email = \"daniel@blablabla.ia\"\n",
    "pattern = r\"\\w+@.+\\..{2,3}\" \n",
    "re.fullmatch(pattern, email) #w es permitir un caracter de los ppales alfabetos del mundo"
   ]
  },
  {
   "cell_type": "code",
   "execution_count": null,
   "id": "6bfb2c96",
   "metadata": {},
   "outputs": [],
   "source": [
    "print(dir(re))"
   ]
  },
  {
   "cell_type": "code",
   "execution_count": null,
   "id": "46ea5bd9",
   "metadata": {},
   "outputs": [],
   "source": [
    "text"
   ]
  },
  {
   "cell_type": "code",
   "execution_count": null,
   "id": "0484cd6b",
   "metadata": {},
   "outputs": [],
   "source": [
    "re.split(r\" \", text)"
   ]
  },
  {
   "cell_type": "code",
   "execution_count": null,
   "id": "20c21659",
   "metadata": {},
   "outputs": [],
   "source": [
    "text"
   ]
  },
  {
   "cell_type": "code",
   "execution_count": null,
   "id": "1ca1dcdf",
   "metadata": {},
   "outputs": [],
   "source": [
    "re.split(r\"gat(it)?[oa]s?\", text)"
   ]
  },
  {
   "cell_type": "code",
   "execution_count": null,
   "id": "97f6c56a",
   "metadata": {},
   "outputs": [],
   "source": [
    "phone = \"91-678-912-456\"\n",
    "re.split(r\"-\", phone)"
   ]
  },
  {
   "cell_type": "code",
   "execution_count": null,
   "id": "dfd96ab9",
   "metadata": {},
   "outputs": [],
   "source": [
    "\"*\".join([\"hola\", \"adios\", \"python\"])"
   ]
  },
  {
   "cell_type": "code",
   "execution_count": null,
   "id": "2fe970aa",
   "metadata": {},
   "outputs": [],
   "source": [
    "\"\".join([\"hola\", \"adios\", \"python\"])"
   ]
  },
  {
   "cell_type": "code",
   "execution_count": null,
   "id": "daae1282",
   "metadata": {},
   "outputs": [],
   "source": [
    "\"\".join(re.split(r\"-\", phone))"
   ]
  },
  {
   "cell_type": "code",
   "execution_count": null,
   "id": "7d49f983",
   "metadata": {},
   "outputs": [],
   "source": [
    "phone = \"91-678/912/456\""
   ]
  },
  {
   "cell_type": "code",
   "execution_count": null,
   "id": "8b01b56d",
   "metadata": {},
   "outputs": [],
   "source": [
    "\"\".join(re.split(r\"[-/]\", phone))"
   ]
  },
  {
   "cell_type": "code",
   "execution_count": null,
   "id": "69706103",
   "metadata": {},
   "outputs": [],
   "source": [
    "text"
   ]
  },
  {
   "cell_type": "code",
   "execution_count": null,
   "id": "331337f7",
   "metadata": {},
   "outputs": [],
   "source": [
    "re.sub(r\"gato\", \"perro\", text)"
   ]
  },
  {
   "cell_type": "code",
   "execution_count": null,
   "id": "46766d9a",
   "metadata": {},
   "outputs": [],
   "source": [
    "re.sub(r\"gat[oa]\", \"perro\", text)"
   ]
  },
  {
   "cell_type": "code",
   "execution_count": null,
   "id": "90580707",
   "metadata": {},
   "outputs": [],
   "source": [
    "re.sub(r\"gat\", \"perr\", text)"
   ]
  },
  {
   "cell_type": "code",
   "execution_count": null,
   "id": "22860377",
   "metadata": {},
   "outputs": [],
   "source": [
    "phone"
   ]
  },
  {
   "cell_type": "code",
   "execution_count": null,
   "id": "710233a3",
   "metadata": {},
   "outputs": [],
   "source": [
    "re.sub(r\"[-/]\", \"\", phone)"
   ]
  },
  {
   "cell_type": "code",
   "execution_count": null,
   "id": "d4f25b58",
   "metadata": {},
   "outputs": [],
   "source": []
  },
  {
   "cell_type": "code",
   "execution_count": null,
   "id": "8eddbdf0",
   "metadata": {},
   "outputs": [],
   "source": []
  },
  {
   "cell_type": "code",
   "execution_count": null,
   "id": "9d545916",
   "metadata": {},
   "outputs": [],
   "source": []
  },
  {
   "cell_type": "code",
   "execution_count": null,
   "id": "4b4d4c7b",
   "metadata": {},
   "outputs": [],
   "source": []
  },
  {
   "cell_type": "code",
   "execution_count": null,
   "id": "318e0cb0",
   "metadata": {},
   "outputs": [],
   "source": []
  },
  {
   "cell_type": "code",
   "execution_count": null,
   "id": "45dabac6",
   "metadata": {},
   "outputs": [],
   "source": []
  },
  {
   "cell_type": "code",
   "execution_count": null,
   "id": "27eaf281",
   "metadata": {},
   "outputs": [],
   "source": []
  },
  {
   "cell_type": "code",
   "execution_count": null,
   "id": "b5d127ba",
   "metadata": {},
   "outputs": [],
   "source": []
  },
  {
   "cell_type": "code",
   "execution_count": null,
   "id": "cd39af15",
   "metadata": {},
   "outputs": [],
   "source": []
  },
  {
   "cell_type": "code",
   "execution_count": null,
   "id": "db977081",
   "metadata": {},
   "outputs": [],
   "source": []
  },
  {
   "cell_type": "code",
   "execution_count": null,
   "id": "01a49905",
   "metadata": {},
   "outputs": [],
   "source": []
  }
 ],
 "metadata": {
  "kernelspec": {
   "display_name": "Python 3 (ipykernel)",
   "language": "python",
   "name": "python3"
  },
  "language_info": {
   "codemirror_mode": {
    "name": "ipython",
    "version": 3
   },
   "file_extension": ".py",
   "mimetype": "text/x-python",
   "name": "python",
   "nbconvert_exporter": "python",
   "pygments_lexer": "ipython3",
   "version": "3.10.12"
  }
 },
 "nbformat": 4,
 "nbformat_minor": 5
}
