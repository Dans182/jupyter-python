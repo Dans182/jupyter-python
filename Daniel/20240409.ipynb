{
 "cells": [
  {
   "cell_type": "code",
   "execution_count": 1,
   "id": "6dce9e65",
   "metadata": {},
   "outputs": [],
   "source": [
    "import random #Libreria random - se importa sin alias"
   ]
  },
  {
   "cell_type": "code",
   "execution_count": 2,
   "id": "a34f91f6",
   "metadata": {},
   "outputs": [],
   "source": [
    "names = lambda obj: print([name for name in dir(obj) if name[0] != \"_\"]) #func lambda que recibe un arg que guardo en la variable \"obj\"\n",
    "#devuelve una list comprehension"
   ]
  },
  {
   "cell_type": "code",
   "execution_count": 3,
   "id": "25a5aaa1",
   "metadata": {},
   "outputs": [
    {
     "name": "stdout",
     "output_type": "stream",
     "text": [
      "['BPF', 'LOG4', 'NV_MAGICCONST', 'RECIP_BPF', 'Random', 'SG_MAGICCONST', 'SystemRandom', 'TWOPI', 'betavariate', 'choice', 'choices', 'expovariate', 'gammavariate', 'gauss', 'getrandbits', 'getstate', 'lognormvariate', 'normalvariate', 'paretovariate', 'randbytes', 'randint', 'random', 'randrange', 'sample', 'seed', 'setstate', 'shuffle', 'triangular', 'uniform', 'vonmisesvariate', 'weibullvariate']\n"
     ]
    }
   ],
   "source": [
    "names(random) #todos los nombres asociados a la libreria random"
   ]
  },
  {
   "cell_type": "code",
   "execution_count": 4,
   "id": "fd57710e",
   "metadata": {},
   "outputs": [],
   "source": [
    "#random genera un nº pseudo aleatorio. Genera im mº entre 0 y 1 (0, 1) rango cerrado por la izquierda, abierto por \n",
    "#la derecha. porque puede salir el 0, pero no el 1 [0, 1). Lo maximo sería un 0.9^"
   ]
  },
  {
   "cell_type": "code",
   "execution_count": 5,
   "id": "cddfb137",
   "metadata": {},
   "outputs": [
    {
     "data": {
      "text/plain": [
       "8"
      ]
     },
     "execution_count": 5,
     "metadata": {},
     "output_type": "execute_result"
    }
   ],
   "source": [
    "random.randint(4, 17) #generar nºs enteros entre dos valores dados"
   ]
  },
  {
   "cell_type": "code",
   "execution_count": 6,
   "id": "43860fa5",
   "metadata": {},
   "outputs": [],
   "source": [
    "random.seed(0) #asi inicializamos el metodo que se encarga de dar un numero aleatorio"
   ]
  },
  {
   "cell_type": "code",
   "execution_count": 7,
   "id": "55b18a4e",
   "metadata": {},
   "outputs": [],
   "source": [
    "#el tema es que al inicializarlo, esa aleatoriedad no es tal, porque siempre serán los mismos. No se sabe si el"
   ]
  },
  {
   "cell_type": "code",
   "execution_count": 8,
   "id": "a19ed3f7",
   "metadata": {},
   "outputs": [],
   "source": [
    "#metodo que se encarga de random es en base a la hora reloj, procesos del PC, etc"
   ]
  },
  {
   "cell_type": "code",
   "execution_count": 9,
   "id": "1e9af7ed",
   "metadata": {},
   "outputs": [
    {
     "data": {
      "text/plain": [
       "'D'"
      ]
     },
     "execution_count": 9,
     "metadata": {},
     "output_type": "execute_result"
    }
   ],
   "source": [
    "random.choice(list(\"ABCDEF\")) #escoge elemento aleatorio de una secuencia que no esté vacia"
   ]
  },
  {
   "cell_type": "code",
   "execution_count": 10,
   "id": "33304e87",
   "metadata": {},
   "outputs": [
    {
     "data": {
      "text/plain": [
       "['A', 'B', 'C', 'D', 'E']"
      ]
     },
     "execution_count": 10,
     "metadata": {},
     "output_type": "execute_result"
    }
   ],
   "source": [
    "list(\"ABCDE\")"
   ]
  },
  {
   "cell_type": "code",
   "execution_count": 11,
   "id": "a877de4a",
   "metadata": {},
   "outputs": [],
   "source": [
    "#sin reemplazo, es que hace una extracción de una lista y si tiene que extraer de nuevo, ya no toma en cuenta al ya extraido"
   ]
  },
  {
   "cell_type": "code",
   "execution_count": 12,
   "id": "d0445883",
   "metadata": {},
   "outputs": [],
   "source": [
    "#con reemplazo, es que hace una extracción de una lista y si tiene que extraer de nuevo, toma en cuenta al ya extraido, pudiendo volver a extraer el mismo"
   ]
  },
  {
   "cell_type": "code",
   "execution_count": 13,
   "id": "ffeac810",
   "metadata": {},
   "outputs": [
    {
     "data": {
      "text/plain": [
       "['E',\n",
       " 'C',\n",
       " 'B',\n",
       " 'D',\n",
       " 'C',\n",
       " 'E',\n",
       " 'B',\n",
       " 'C',\n",
       " 'D',\n",
       " 'F',\n",
       " 'D',\n",
       " 'B',\n",
       " 'E',\n",
       " 'D',\n",
       " 'B',\n",
       " 'F',\n",
       " 'F']"
      ]
     },
     "execution_count": 13,
     "metadata": {},
     "output_type": "execute_result"
    }
   ],
   "source": [
    "random.choices(list(\"ABCDEF\"), k = 17) #Damos conjunto de elementos y le decimos la cantidad de elementos a extraer aleatoriamente\n",
    "#con reemplazo --Es para extraccion sin reemplazo"
   ]
  },
  {
   "cell_type": "code",
   "execution_count": 14,
   "id": "0739aaad",
   "metadata": {},
   "outputs": [
    {
     "data": {
      "text/plain": [
       "['E', 'B', 'C', 'A', 'D', 'F']"
      ]
     },
     "execution_count": 14,
     "metadata": {},
     "output_type": "execute_result"
    }
   ],
   "source": [
    "random.sample(list(\"ABCDEF\"), k = 6) # Es para extraccion sin reemplazo \n",
    "#Si intentas que haga mas extracciones de los valores que puede, dara error"
   ]
  },
  {
   "cell_type": "code",
   "execution_count": null,
   "id": "79737229",
   "metadata": {},
   "outputs": [],
   "source": []
  },
  {
   "cell_type": "markdown",
   "id": "71222eca",
   "metadata": {},
   "source": [
    "# Piedra, papel o tijera "
   ]
  },
  {
   "cell_type": "code",
   "execution_count": 15,
   "id": "ac02e0f8",
   "metadata": {},
   "outputs": [],
   "source": [
    "opciones = [\"piedra\", \"papel, tijeras\"]"
   ]
  },
  {
   "cell_type": "code",
   "execution_count": 17,
   "id": "ac14309e",
   "metadata": {},
   "outputs": [
    {
     "name": "stdout",
     "output_type": "stream",
     "text": [
      "Escoge entre piedra, papel o tijeras: tijeras\n",
      "Tu elección fue tijeras y yo he escogido piedra, asi que el ganador es pc\n"
     ]
    }
   ],
   "source": [
    "respuesta_usuario = input(\"Escoge entre piedra, papel o tijeras: \")\n",
    "respuesta_pc = random.choice(opciones)\n",
    "\n",
    "if (respuesta_usuario == \"piedra\") and (respuesta_pc == \"piedra\"):\n",
    "    ganador = \"empate\"\n",
    "elif (respuesta_usuario == \"piedra\") and (respuesta_pc == \"papel\"):\n",
    "    ganador = \"pc\"\n",
    "elif (respuesta_usuario == \"piedra\") and (respuesta_pc == \"tijeras\"):\n",
    "    ganador = \"usuario\"\n",
    "elif (respuesta_usuario == \"papel\") and (respuesta_pc == \"papel\"):\n",
    "    ganador = \"empate\"\n",
    "elif (respuesta_usuario == \"papel\") and (respuesta_pc == \"piedra\"):\n",
    "    ganador = \"usuario\"\n",
    "elif (respuesta_usuario == \"papel\") and (respuesta_pc == \"tijeras\"):\n",
    "    ganador = \"pc\"\n",
    "elif (respuesta_usuario == \"tijeras\") and (respuesta_pc == \"tijeras\"):\n",
    "    ganador = \"empate\"\n",
    "elif (respuesta_usuario == \"tijeras\") and (respuesta_pc == \"piedra\"):\n",
    "    ganador = \"pc\"\n",
    "elif (respuesta_usuario == \"tijeras\") and (respuesta_pc == \"papel\"):\n",
    "    ganador = \"usuario\"\n",
    "    \n",
    "print(f\"Tu elección fue {respuesta_usuario} y yo he escogido {respuesta_pc}, asi que el ganador es {ganador}\")"
   ]
  },
  {
   "cell_type": "code",
   "execution_count": null,
   "id": "9c1d8bc5",
   "metadata": {},
   "outputs": [],
   "source": []
  },
  {
   "cell_type": "markdown",
   "id": "d4a34696",
   "metadata": {},
   "source": [
    "# Gestor de contraseñas "
   ]
  },
  {
   "cell_type": "code",
   "execution_count": 18,
   "id": "161b6b5d",
   "metadata": {},
   "outputs": [],
   "source": [
    "#passwords = {}\n",
    "\n",
    "#user = \"\"\n",
    "\n",
    "#while user != \"exit\":\n",
    "#    username = input(\"Introduce un nombre de usuario o exit para salir: \")\n",
    "#    password = input(\"Introduce la contraseña: \")\n",
    "#    passwords[username] = password"
   ]
  },
  {
   "cell_type": "code",
   "execution_count": 19,
   "id": "ee489108",
   "metadata": {},
   "outputs": [],
   "source": [
    "passwords = {}"
   ]
  },
  {
   "cell_type": "code",
   "execution_count": 20,
   "id": "9162fc3a",
   "metadata": {},
   "outputs": [
    {
     "data": {
      "text/plain": [
       "dict"
      ]
     },
     "execution_count": 20,
     "metadata": {},
     "output_type": "execute_result"
    }
   ],
   "source": [
    "type(passwords)"
   ]
  },
  {
   "cell_type": "code",
   "execution_count": 22,
   "id": "83e2ef73",
   "metadata": {},
   "outputs": [
    {
     "name": "stdout",
     "output_type": "stream",
     "text": [
      "Introduce un nombre de usuario o exit para salir: pedro\n",
      "Introduce la contraseña: cosa\n",
      "Introduce un nombre de usuario o exit para salir: exit\n"
     ]
    },
    {
     "data": {
      "text/plain": [
       "{'pedro': 'cosa'}"
      ]
     },
     "execution_count": 22,
     "metadata": {},
     "output_type": "execute_result"
    }
   ],
   "source": [
    "while True:\n",
    "    username = input(\"Introduce un nombre de usuario o exit para salir: \")\n",
    "    if username == \"exit\":\n",
    "        break\n",
    "    password = input(\"Introduce la contraseña: \")\n",
    "    passwords[username] = password\n",
    "    \n",
    "passwords"
   ]
  },
  {
   "cell_type": "code",
   "execution_count": 25,
   "id": "0a4ccaea",
   "metadata": {},
   "outputs": [],
   "source": [
    "import getpass #libreria de python para gestion de contraseñas"
   ]
  },
  {
   "cell_type": "code",
   "execution_count": 26,
   "id": "c513638e",
   "metadata": {},
   "outputs": [
    {
     "name": "stdout",
     "output_type": "stream",
     "text": [
      "['GetPassWarning', 'contextlib', 'fallback_getpass', 'getpass', 'getuser', 'io', 'os', 'sys', 'termios', 'unix_getpass', 'warnings', 'win_getpass']\n"
     ]
    }
   ],
   "source": [
    "names(getpass) #contenido de la libreria getpass"
   ]
  },
  {
   "cell_type": "code",
   "execution_count": 27,
   "id": "56449a2d",
   "metadata": {},
   "outputs": [
    {
     "name": "stdout",
     "output_type": "stream",
     "text": [
      "Introduce tu contraseña········\n"
     ]
    },
    {
     "data": {
      "text/plain": [
       "'Perro'"
      ]
     },
     "execution_count": 27,
     "metadata": {},
     "output_type": "execute_result"
    }
   ],
   "source": [
    "getpass.getpass(\"Introduce tu contraseña\")"
   ]
  },
  {
   "cell_type": "code",
   "execution_count": null,
   "id": "92bd937a",
   "metadata": {},
   "outputs": [],
   "source": []
  },
  {
   "cell_type": "markdown",
   "id": "c4390b94",
   "metadata": {},
   "source": [
    "# Función hash. "
   ]
  },
  {
   "cell_type": "code",
   "execution_count": 28,
   "id": "0eaac205",
   "metadata": {},
   "outputs": [],
   "source": [
    "#Método de cifrado, que no tiene método de descifrado asociado. Forma de cifrar datos, que ya no se puedan descrifrar"
   ]
  },
  {
   "cell_type": "code",
   "execution_count": 34,
   "id": "0e0810e4",
   "metadata": {},
   "outputs": [
    {
     "data": {
      "text/plain": [
       "-818499083554869053"
      ]
     },
     "execution_count": 34,
     "metadata": {},
     "output_type": "execute_result"
    }
   ],
   "source": [
    "hash(\"python\") #Esto es una funcion de juguete. \n",
    "# No es para uso serio de encriptación"
   ]
  },
  {
   "cell_type": "code",
   "execution_count": 35,
   "id": "2931e5cc",
   "metadata": {},
   "outputs": [],
   "source": [
    "import hashlib #libreria seria de encriptación"
   ]
  },
  {
   "cell_type": "code",
   "execution_count": 37,
   "id": "b980f077",
   "metadata": {},
   "outputs": [
    {
     "name": "stdout",
     "output_type": "stream",
     "text": [
      "['algorithms_available', 'algorithms_guaranteed', 'blake2b', 'blake2s', 'md5', 'new', 'pbkdf2_hmac', 'scrypt', 'sha1', 'sha224', 'sha256', 'sha384', 'sha3_224', 'sha3_256', 'sha3_384', 'sha3_512', 'sha512', 'shake_128', 'shake_256']\n"
     ]
    }
   ],
   "source": [
    "names(hashlib)"
   ]
  },
  {
   "cell_type": "code",
   "execution_count": 51,
   "id": "710a9d04",
   "metadata": {},
   "outputs": [
    {
     "data": {
      "text/plain": [
       "b'python'"
      ]
     },
     "execution_count": 51,
     "metadata": {},
     "output_type": "execute_result"
    }
   ],
   "source": [
    "\"python\".encode(\"utf8\") #Las cadenas de texto tienen que ser \n",
    "#codificadas antes de pasarlas a una funcion de hash\n",
    "\n",
    "#hashlib.md5(\"python\") -> por eso esto no funciona. y habria que hacer \n",
    "#lo de arriba. Aca codificamos haciendo uso del standard utf8"
   ]
  },
  {
   "cell_type": "code",
   "execution_count": 43,
   "id": "69c18023",
   "metadata": {},
   "outputs": [
    {
     "data": {
      "text/plain": [
       "<md5 _hashlib.HASH object @ 0x7fc2f1bac7b0>"
      ]
     },
     "execution_count": 43,
     "metadata": {},
     "output_type": "execute_result"
    }
   ],
   "source": [
    "hashlib.md5(\"python\".encode(\"utf8\"))"
   ]
  },
  {
   "cell_type": "code",
   "execution_count": 53,
   "id": "ce72e7c7",
   "metadata": {},
   "outputs": [
    {
     "name": "stdout",
     "output_type": "stream",
     "text": [
      "['block_size', 'copy', 'digest', 'digest_size', 'hexdigest', 'name', 'update']\n"
     ]
    }
   ],
   "source": [
    "names(hashlib.md5(\"python\".encode(\"utf8\"))) #metodos asociados al objeto"
   ]
  },
  {
   "cell_type": "code",
   "execution_count": 55,
   "id": "77d2931f",
   "metadata": {},
   "outputs": [
    {
     "data": {
      "text/plain": [
       "'23eeeb4347bdd26bfc6b7ee9a3b755dd'"
      ]
     },
     "execution_count": 55,
     "metadata": {},
     "output_type": "execute_result"
    }
   ],
   "source": [
    "hashlib.md5(\"python\".encode(\"utf8\")).hexdigest() #aca veo el cifrado hash"
   ]
  },
  {
   "cell_type": "code",
   "execution_count": 67,
   "id": "84e12c7c",
   "metadata": {},
   "outputs": [
    {
     "name": "stdout",
     "output_type": "stream",
     "text": [
      "Introduce un nombre de usuario o exit para salir: Rick\n",
      "Introduce la contraseña: ········\n",
      "Introduce un nombre de usuario o exit para salir: exit\n"
     ]
    },
    {
     "data": {
      "text/plain": [
       "{'pedro': 'cosa',\n",
       " 'Dan': <md5 _hashlib.HASH object @ 0x7fc314c3f910>,\n",
       " 'Rec': '59506b7d50499cf62e3099491c108c9d',\n",
       " 'Rick': '17ad55a9b8384777496330d23e59d520'}"
      ]
     },
     "execution_count": 67,
     "metadata": {},
     "output_type": "execute_result"
    }
   ],
   "source": [
    "while True:\n",
    "    username = input(\"Introduce un nombre de usuario o exit para salir: \")\n",
    "    if username == \"exit\":\n",
    "        break\n",
    "    password = getpass.getpass(\"Introduce la contraseña: \")\n",
    "    passwords[username] = hashlib.md5(password.encode(\"utf8\")).hexdigest()\n",
    "    \n",
    "passwords"
   ]
  },
  {
   "cell_type": "code",
   "execution_count": 78,
   "id": "cc70dd91",
   "metadata": {},
   "outputs": [
    {
     "name": "stdout",
     "output_type": "stream",
     "text": [
      "Introduce tu nombre de usuario: rick\n",
      "Introduce tu contraseña: ········\n",
      "No eres tu, adeu!\n"
     ]
    }
   ],
   "source": [
    "user = input(\"Introduce tu nombre de usuario: \")\n",
    "password = getpass.getpass(\"Introduce tu contraseña: \")\n",
    "    \n",
    "if passwords.get(user) == hashlib.md5(password.encode(\"utf8\")).hexdigest():\n",
    "    print(\"Eres tu, entra!\")\n",
    "else:\n",
    "    print(\"No eres tu, adeu!\")\n"
   ]
  },
  {
   "cell_type": "code",
   "execution_count": 80,
   "id": "50788724",
   "metadata": {},
   "outputs": [
    {
     "name": "stdout",
     "output_type": "stream",
     "text": [
      "['clear', 'copy', 'fromkeys', 'get', 'items', 'keys', 'pop', 'popitem', 'setdefault', 'update', 'values']\n"
     ]
    }
   ],
   "source": [
    "names(passwords)"
   ]
  },
  {
   "cell_type": "code",
   "execution_count": 81,
   "id": "6e71fe57",
   "metadata": {},
   "outputs": [
    {
     "data": {
      "text/plain": [
       "'17ad55a9b8384777496330d23e59d520'"
      ]
     },
     "execution_count": 81,
     "metadata": {},
     "output_type": "execute_result"
    }
   ],
   "source": [
    "passwords.get(\"Rick\")"
   ]
  },
  {
   "cell_type": "code",
   "execution_count": 83,
   "id": "49e86636",
   "metadata": {},
   "outputs": [],
   "source": [
    "passwords.get(\"Luis\") #no existe en el diccionario"
   ]
  },
  {
   "cell_type": "code",
   "execution_count": null,
   "id": "4e9f691c",
   "metadata": {},
   "outputs": [],
   "source": []
  },
  {
   "cell_type": "markdown",
   "id": "05ec3579",
   "metadata": {},
   "source": [
    "# Expresiones regulares "
   ]
  },
  {
   "cell_type": "code",
   "execution_count": 84,
   "id": "ab3e32ff",
   "metadata": {},
   "outputs": [],
   "source": [
    "#Es un texto que define un patrón de busqueda"
   ]
  },
  {
   "cell_type": "code",
   "execution_count": 86,
   "id": "1120b3e7",
   "metadata": {},
   "outputs": [],
   "source": [
    "import re #libreria particular de python para expresiones regulares"
   ]
  },
  {
   "cell_type": "code",
   "execution_count": 61,
   "id": "792042cc",
   "metadata": {
    "scrolled": true
   },
   "outputs": [
    {
     "name": "stdout",
     "output_type": "stream",
     "text": [
      "['A', 'ASCII', 'DEBUG', 'DOTALL', 'I', 'IGNORECASE', 'L', 'LOCALE', 'M', 'MULTILINE', 'Match', 'Pattern', 'RegexFlag', 'S', 'Scanner', 'T', 'TEMPLATE', 'U', 'UNICODE', 'VERBOSE', 'X', 'compile', 'copyreg', 'enum', 'error', 'escape', 'findall', 'finditer', 'fullmatch', 'functools', 'match', 'purge', 'search', 'split', 'sre_compile', 'sre_parse', 'sub', 'subn', 'template']\n"
     ]
    }
   ],
   "source": [
    "names(re)"
   ]
  },
  {
   "cell_type": "code",
   "execution_count": 87,
   "id": "7121a297",
   "metadata": {},
   "outputs": [
    {
     "data": {
      "text/plain": [
       "<re.Match object; span=(11, 15), match='data'>"
      ]
     },
     "execution_count": 87,
     "metadata": {},
     "output_type": "execute_result"
    }
   ],
   "source": [
    "text = \"python for data science\"\n",
    "re.search(r\"data\", text)"
   ]
  },
  {
   "cell_type": "code",
   "execution_count": 88,
   "id": "9e8dd30c",
   "metadata": {},
   "outputs": [],
   "source": [
    "text = \"mi gato y tu gata juegan con los gatitos del gato del vecino\""
   ]
  },
  {
   "cell_type": "code",
   "execution_count": 96,
   "id": "c62e46c7",
   "metadata": {},
   "outputs": [
    {
     "data": {
      "text/plain": [
       "<re.Match object; span=(3, 7), match='gato'>"
      ]
     },
     "execution_count": 96,
     "metadata": {},
     "output_type": "execute_result"
    }
   ],
   "source": [
    "re.search(r\"gato\", text) #Raw string = cadena de texto en crudo\n",
    "#Es una buena practica, marcar el patron de busqueda como raw, o sea, la \"r\" justo\n",
    "#antes de gatos. Esto es para evitar caracteres raros, etc\n",
    "#search me encuentra la primer ocurrencia"
   ]
  },
  {
   "cell_type": "code",
   "execution_count": 97,
   "id": "121311d7",
   "metadata": {},
   "outputs": [
    {
     "data": {
      "text/plain": [
       "['gato', 'gato']"
      ]
     },
     "execution_count": 97,
     "metadata": {},
     "output_type": "execute_result"
    }
   ],
   "source": [
    "re.findall(r\"gato\", text) #me busca todas las ocurrencias"
   ]
  },
  {
   "cell_type": "code",
   "execution_count": 106,
   "id": "ef926237",
   "metadata": {},
   "outputs": [
    {
     "name": "stdout",
     "output_type": "stream",
     "text": [
      "<re.Match object; span=(3, 7), match='gato'>\n",
      "<re.Match object; span=(47, 51), match='gato'>\n"
     ]
    }
   ],
   "source": [
    "#search me devolvia un objeto match, solo que de la primera coincidencia y me decia su posicion\n",
    "#findall me encontraba todas las coincidencias pero no usaba el objeto match y no me indicaba sus posiciones\n",
    "#ahora con finditer podriamos saber todas las ocurrencias y sus posiciones\n",
    "\n",
    "for match in re.finditer(r\"gato\", text): #me devuelve un iterador\n",
    "    print(match)"
   ]
  },
  {
   "cell_type": "code",
   "execution_count": 133,
   "id": "af9b4a97",
   "metadata": {
    "scrolled": true
   },
   "outputs": [
    {
     "name": "stdout",
     "output_type": "stream",
     "text": [
      "<re.Match object; span=(3, 7), match='gato'>\n",
      "<re.Match object; span=(14, 18), match='gata'>\n",
      "<re.Match object; span=(47, 51), match='gato'>\n"
     ]
    }
   ],
   "source": [
    "for match in re.finditer(r\"gat[oa]\", text):\n",
    "    print(match)\n",
    "#Ahora no admito cualquier caracter, solo aquellos cuyo cuarto digito sea o u a... [oa]"
   ]
  },
  {
   "cell_type": "code",
   "execution_count": 126,
   "id": "f8ef46bc",
   "metadata": {},
   "outputs": [],
   "source": [
    "text = \"mi gato y tus gatas juegan con los gatitos del gato del vecino\""
   ]
  },
  {
   "cell_type": "code",
   "execution_count": 134,
   "id": "e891fc5f",
   "metadata": {},
   "outputs": [
    {
     "name": "stdout",
     "output_type": "stream",
     "text": [
      "<re.Match object; span=(3, 7), match='gato'>\n",
      "<re.Match object; span=(14, 19), match='gatas'>\n",
      "<re.Match object; span=(47, 51), match='gato'>\n"
     ]
    }
   ],
   "source": [
    "for match in re.finditer(r\"gat[oa]s?\", text):\n",
    "    print(match)\n",
    "# Ahora para añadir una posible \"s\" al final de la busqueda, seria con \"s?\""
   ]
  },
  {
   "cell_type": "code",
   "execution_count": 135,
   "id": "3ddb8abd",
   "metadata": {},
   "outputs": [
    {
     "name": "stdout",
     "output_type": "stream",
     "text": [
      "<re.Match object; span=(3, 7), match='gato'>\n",
      "<re.Match object; span=(14, 19), match='gatas'>\n",
      "<re.Match object; span=(35, 42), match='gatitos'>\n",
      "<re.Match object; span=(47, 51), match='gato'>\n"
     ]
    }
   ],
   "source": [
    "for match in re.finditer(r\"gat(it)?[oa]s?\", text):\n",
    "    print(match)\n",
    "    \n",
    "#por ejm \"gat.\"\" seria decirle que me busque cualquier cosa que coincida con \"gat\" y que su cuarta letra sea cualquiera\n",
    "#por ejm (it)? esto hace que la \"it\" sean optativas    "
   ]
  },
  {
   "cell_type": "code",
   "execution_count": 131,
   "id": "336ab7ee",
   "metadata": {},
   "outputs": [
    {
     "data": {
      "text/plain": [
       "<re.Match object; span=(0, 20), match='daniel@blablabla.com'>"
      ]
     },
     "execution_count": 131,
     "metadata": {},
     "output_type": "execute_result"
    }
   ],
   "source": [
    "email = \"daniel@blablabla.com\"\n",
    "pattern = r\".+@.+\\..+\" # \".\" representa cualquier caracter Para un punto literal, hay que escapar el punto con un slash\n",
    "re.fullmatch(pattern, email)"
   ]
  },
  {
   "cell_type": "code",
   "execution_count": 112,
   "id": "d9e22365",
   "metadata": {},
   "outputs": [
    {
     "data": {
      "text/plain": [
       "'.+@.+\\\\..+'"
      ]
     },
     "execution_count": 112,
     "metadata": {},
     "output_type": "execute_result"
    }
   ],
   "source": [
    "pattern"
   ]
  },
  {
   "cell_type": "code",
   "execution_count": 113,
   "id": "c5edab64",
   "metadata": {},
   "outputs": [],
   "source": [
    "# * 0 o mas veces + 1 o mas veces"
   ]
  },
  {
   "cell_type": "code",
   "execution_count": 139,
   "id": "c6fa529d",
   "metadata": {},
   "outputs": [],
   "source": [
    "email = \"daniel@blablabla.comm\"\n",
    "pattern = r\".+@.+\\..{3}\" \n",
    "re.fullmatch(pattern, email) #no encaja porque se indica que el dominio es de 3 letras y tiene 4"
   ]
  },
  {
   "cell_type": "code",
   "execution_count": 138,
   "id": "30ab5396",
   "metadata": {},
   "outputs": [
    {
     "data": {
      "text/plain": [
       "<re.Match object; span=(0, 20), match='daniel@blablabla.com'>"
      ]
     },
     "execution_count": 138,
     "metadata": {},
     "output_type": "execute_result"
    }
   ],
   "source": [
    "email = \"daniel@blablabla.com\"\n",
    "pattern = r\".+@.+\\..{2,3}\" \n",
    "re.fullmatch(pattern, email) #admitimos dominios de longitud 2 o 3"
   ]
  },
  {
   "cell_type": "code",
   "execution_count": 137,
   "id": "c0e086ae",
   "metadata": {},
   "outputs": [
    {
     "data": {
      "text/plain": [
       "<re.Match object; span=(0, 19), match='daniel@blablabla.ia'>"
      ]
     },
     "execution_count": 137,
     "metadata": {},
     "output_type": "execute_result"
    }
   ],
   "source": [
    "email = \"daniel@blablabla.ia\"\n",
    "pattern = r\"\\w+@.+\\..{2,3}\" \n",
    "re.fullmatch(pattern, email) #w es permitir un caracter de los ppales alfabetos del mundo"
   ]
  },
  {
   "cell_type": "code",
   "execution_count": 136,
   "id": "33f43be7",
   "metadata": {},
   "outputs": [
    {
     "name": "stdout",
     "output_type": "stream",
     "text": [
      "['A', 'ASCII', 'DEBUG', 'DOTALL', 'I', 'IGNORECASE', 'L', 'LOCALE', 'M', 'MULTILINE', 'Match', 'Pattern', 'RegexFlag', 'S', 'Scanner', 'T', 'TEMPLATE', 'U', 'UNICODE', 'VERBOSE', 'X', 'compile', 'copyreg', 'enum', 'error', 'escape', 'findall', 'finditer', 'fullmatch', 'functools', 'match', 'purge', 'search', 'split', 'sre_compile', 'sre_parse', 'sub', 'subn', 'template']\n"
     ]
    }
   ],
   "source": [
    "names(re)"
   ]
  },
  {
   "cell_type": "code",
   "execution_count": 140,
   "id": "27312122",
   "metadata": {},
   "outputs": [
    {
     "data": {
      "text/plain": [
       "'mi gato y tus gatas juegan con los gatitos del gato del vecino'"
      ]
     },
     "execution_count": 140,
     "metadata": {},
     "output_type": "execute_result"
    }
   ],
   "source": [
    "text"
   ]
  },
  {
   "cell_type": "code",
   "execution_count": 141,
   "id": "d374f45e",
   "metadata": {},
   "outputs": [
    {
     "data": {
      "text/plain": [
       "['mi',\n",
       " 'gato',\n",
       " 'y',\n",
       " 'tus',\n",
       " 'gatas',\n",
       " 'juegan',\n",
       " 'con',\n",
       " 'los',\n",
       " 'gatitos',\n",
       " 'del',\n",
       " 'gato',\n",
       " 'del',\n",
       " 'vecino']"
      ]
     },
     "execution_count": 141,
     "metadata": {},
     "output_type": "execute_result"
    }
   ],
   "source": [
    "re.split(r\" \", text)"
   ]
  },
  {
   "cell_type": "code",
   "execution_count": 142,
   "id": "067824a2",
   "metadata": {},
   "outputs": [
    {
     "data": {
      "text/plain": [
       "'mi gato y tus gatas juegan con los gatitos del gato del vecino'"
      ]
     },
     "execution_count": 142,
     "metadata": {},
     "output_type": "execute_result"
    }
   ],
   "source": [
    "text"
   ]
  },
  {
   "cell_type": "code",
   "execution_count": 143,
   "id": "35515467",
   "metadata": {},
   "outputs": [
    {
     "data": {
      "text/plain": [
       "['mi ',\n",
       " None,\n",
       " ' y tus ',\n",
       " None,\n",
       " ' juegan con los ',\n",
       " 'it',\n",
       " ' del ',\n",
       " None,\n",
       " ' del vecino']"
      ]
     },
     "execution_count": 143,
     "metadata": {},
     "output_type": "execute_result"
    }
   ],
   "source": [
    "re.split(r\"gat(it)?[oa]s?\", text)"
   ]
  },
  {
   "cell_type": "code",
   "execution_count": 144,
   "id": "8b78e01e",
   "metadata": {},
   "outputs": [
    {
     "data": {
      "text/plain": [
       "['91', '678', '912', '456']"
      ]
     },
     "execution_count": 144,
     "metadata": {},
     "output_type": "execute_result"
    }
   ],
   "source": [
    "phone = \"91-678-912-456\"\n",
    "re.split(r\"-\", phone)"
   ]
  },
  {
   "cell_type": "code",
   "execution_count": 145,
   "id": "d2be45f0",
   "metadata": {},
   "outputs": [
    {
     "data": {
      "text/plain": [
       "'hola*adios*python'"
      ]
     },
     "execution_count": 145,
     "metadata": {},
     "output_type": "execute_result"
    }
   ],
   "source": [
    "\"*\".join([\"hola\", \"adios\", \"python\"])"
   ]
  },
  {
   "cell_type": "code",
   "execution_count": 146,
   "id": "d7f11e58",
   "metadata": {},
   "outputs": [
    {
     "data": {
      "text/plain": [
       "'holaadiospython'"
      ]
     },
     "execution_count": 146,
     "metadata": {},
     "output_type": "execute_result"
    }
   ],
   "source": [
    "\"\".join([\"hola\", \"adios\", \"python\"])"
   ]
  },
  {
   "cell_type": "code",
   "execution_count": 147,
   "id": "a3639109",
   "metadata": {},
   "outputs": [
    {
     "data": {
      "text/plain": [
       "'91678912456'"
      ]
     },
     "execution_count": 147,
     "metadata": {},
     "output_type": "execute_result"
    }
   ],
   "source": [
    "\"\".join(re.split(r\"-\", phone))"
   ]
  },
  {
   "cell_type": "code",
   "execution_count": 148,
   "id": "cf190f2a",
   "metadata": {},
   "outputs": [],
   "source": [
    "phone = \"91-678/912/456\""
   ]
  },
  {
   "cell_type": "code",
   "execution_count": 149,
   "id": "41bbcfe6",
   "metadata": {},
   "outputs": [
    {
     "data": {
      "text/plain": [
       "'91678912456'"
      ]
     },
     "execution_count": 149,
     "metadata": {},
     "output_type": "execute_result"
    }
   ],
   "source": [
    "\"\".join(re.split(r\"[-/]\", phone))"
   ]
  },
  {
   "cell_type": "code",
   "execution_count": 150,
   "id": "9520c1eb",
   "metadata": {},
   "outputs": [
    {
     "data": {
      "text/plain": [
       "'mi gato y tus gatas juegan con los gatitos del gato del vecino'"
      ]
     },
     "execution_count": 150,
     "metadata": {},
     "output_type": "execute_result"
    }
   ],
   "source": [
    "text"
   ]
  },
  {
   "cell_type": "code",
   "execution_count": 151,
   "id": "2f3ca7ea",
   "metadata": {},
   "outputs": [
    {
     "data": {
      "text/plain": [
       "'mi perro y tus gatas juegan con los gatitos del perro del vecino'"
      ]
     },
     "execution_count": 151,
     "metadata": {},
     "output_type": "execute_result"
    }
   ],
   "source": [
    "re.sub(r\"gato\", \"perro\", text)"
   ]
  },
  {
   "cell_type": "code",
   "execution_count": 152,
   "id": "f4ffd7e6",
   "metadata": {},
   "outputs": [
    {
     "data": {
      "text/plain": [
       "'mi perro y tus perros juegan con los gatitos del perro del vecino'"
      ]
     },
     "execution_count": 152,
     "metadata": {},
     "output_type": "execute_result"
    }
   ],
   "source": [
    "re.sub(r\"gat[oa]\", \"perro\", text)"
   ]
  },
  {
   "cell_type": "code",
   "execution_count": 153,
   "id": "5625ad87",
   "metadata": {},
   "outputs": [
    {
     "data": {
      "text/plain": [
       "'mi perro y tus perras juegan con los perritos del perro del vecino'"
      ]
     },
     "execution_count": 153,
     "metadata": {},
     "output_type": "execute_result"
    }
   ],
   "source": [
    "re.sub(r\"gat\", \"perr\", text)"
   ]
  },
  {
   "cell_type": "code",
   "execution_count": 154,
   "id": "fda48db0",
   "metadata": {},
   "outputs": [
    {
     "data": {
      "text/plain": [
       "'91-678/912/456'"
      ]
     },
     "execution_count": 154,
     "metadata": {},
     "output_type": "execute_result"
    }
   ],
   "source": [
    "phone"
   ]
  },
  {
   "cell_type": "code",
   "execution_count": 155,
   "id": "f2839d3e",
   "metadata": {},
   "outputs": [
    {
     "data": {
      "text/plain": [
       "'91678912456'"
      ]
     },
     "execution_count": 155,
     "metadata": {},
     "output_type": "execute_result"
    }
   ],
   "source": [
    "re.sub(r\"[-/]\", \"\", phone)"
   ]
  },
  {
   "cell_type": "code",
   "execution_count": null,
   "id": "191c257b",
   "metadata": {},
   "outputs": [],
   "source": []
  },
  {
   "cell_type": "markdown",
   "id": "004ff592",
   "metadata": {},
   "source": [
    "# Web Scrapping"
   ]
  },
  {
   "cell_type": "code",
   "execution_count": 156,
   "id": "84244f5d",
   "metadata": {},
   "outputs": [],
   "source": [
    "#Librerias que nos permiten visitar una pag web y leer su texto. Y podemos hacer uso de regex para limpiar"
   ]
  },
  {
   "cell_type": "code",
   "execution_count": null,
   "id": "22ffba28",
   "metadata": {},
   "outputs": [],
   "source": []
  },
  {
   "cell_type": "code",
   "execution_count": null,
   "id": "6520717c",
   "metadata": {},
   "outputs": [],
   "source": []
  },
  {
   "cell_type": "code",
   "execution_count": null,
   "id": "ba32c416",
   "metadata": {},
   "outputs": [],
   "source": []
  },
  {
   "cell_type": "code",
   "execution_count": null,
   "id": "0301a1d3",
   "metadata": {},
   "outputs": [],
   "source": []
  },
  {
   "cell_type": "code",
   "execution_count": null,
   "id": "14a6b0a6",
   "metadata": {},
   "outputs": [],
   "source": []
  },
  {
   "cell_type": "code",
   "execution_count": null,
   "id": "55399082",
   "metadata": {},
   "outputs": [],
   "source": []
  },
  {
   "cell_type": "code",
   "execution_count": null,
   "id": "f1af6ee6",
   "metadata": {},
   "outputs": [],
   "source": []
  },
  {
   "cell_type": "code",
   "execution_count": null,
   "id": "1ce62172",
   "metadata": {},
   "outputs": [],
   "source": []
  },
  {
   "cell_type": "code",
   "execution_count": null,
   "id": "71c7701d",
   "metadata": {},
   "outputs": [],
   "source": []
  },
  {
   "cell_type": "code",
   "execution_count": null,
   "id": "671535de",
   "metadata": {},
   "outputs": [],
   "source": []
  },
  {
   "cell_type": "code",
   "execution_count": null,
   "id": "fa52041a",
   "metadata": {},
   "outputs": [],
   "source": []
  },
  {
   "cell_type": "code",
   "execution_count": null,
   "id": "10e193b9",
   "metadata": {},
   "outputs": [],
   "source": []
  },
  {
   "cell_type": "code",
   "execution_count": null,
   "id": "9a561a2d",
   "metadata": {},
   "outputs": [],
   "source": []
  },
  {
   "cell_type": "code",
   "execution_count": null,
   "id": "1d2215e9",
   "metadata": {},
   "outputs": [],
   "source": []
  },
  {
   "cell_type": "code",
   "execution_count": null,
   "id": "74311738",
   "metadata": {},
   "outputs": [],
   "source": []
  },
  {
   "cell_type": "code",
   "execution_count": null,
   "id": "30c63b69",
   "metadata": {},
   "outputs": [],
   "source": []
  },
  {
   "cell_type": "code",
   "execution_count": null,
   "id": "a6e9574b",
   "metadata": {},
   "outputs": [],
   "source": []
  },
  {
   "cell_type": "code",
   "execution_count": null,
   "id": "901ff1e7",
   "metadata": {},
   "outputs": [],
   "source": []
  },
  {
   "cell_type": "code",
   "execution_count": null,
   "id": "0032c0b2",
   "metadata": {},
   "outputs": [],
   "source": []
  },
  {
   "cell_type": "code",
   "execution_count": null,
   "id": "7fed1891",
   "metadata": {},
   "outputs": [],
   "source": []
  },
  {
   "cell_type": "code",
   "execution_count": null,
   "id": "dc7fbb14",
   "metadata": {},
   "outputs": [],
   "source": []
  },
  {
   "cell_type": "code",
   "execution_count": null,
   "id": "479900b3",
   "metadata": {},
   "outputs": [],
   "source": []
  },
  {
   "cell_type": "code",
   "execution_count": null,
   "id": "fedcd4d8",
   "metadata": {},
   "outputs": [],
   "source": []
  },
  {
   "cell_type": "code",
   "execution_count": null,
   "id": "91154d8a",
   "metadata": {},
   "outputs": [],
   "source": []
  },
  {
   "cell_type": "code",
   "execution_count": null,
   "id": "a2d37e99",
   "metadata": {},
   "outputs": [],
   "source": []
  },
  {
   "cell_type": "code",
   "execution_count": null,
   "id": "0f5666dd",
   "metadata": {},
   "outputs": [],
   "source": []
  }
 ],
 "metadata": {
  "kernelspec": {
   "display_name": "Python 3 (ipykernel)",
   "language": "python",
   "name": "python3"
  },
  "language_info": {
   "codemirror_mode": {
    "name": "ipython",
    "version": 3
   },
   "file_extension": ".py",
   "mimetype": "text/x-python",
   "name": "python",
   "nbconvert_exporter": "python",
   "pygments_lexer": "ipython3",
   "version": "3.10.12"
  }
 },
 "nbformat": 4,
 "nbformat_minor": 5
}
