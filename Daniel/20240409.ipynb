{
 "cells": [
  {
   "cell_type": "code",
   "execution_count": 1,
   "id": "b60449c8",
   "metadata": {},
   "outputs": [],
   "source": [
    "import random #Libreria random - se importa sin alias"
   ]
  },
  {
   "cell_type": "code",
   "execution_count": 7,
   "id": "5fc5c4ac",
   "metadata": {},
   "outputs": [],
   "source": [
    "names = lambda obj: print([name for name in dir(obj) if name[0] != \"_\"]) #func lambda que recibe un arg que guardo en la variable \"obj\"\n",
    "#devuelve una list comprehension"
   ]
  },
  {
   "cell_type": "code",
   "execution_count": 11,
   "id": "9a13c6e7",
   "metadata": {},
   "outputs": [
    {
     "name": "stdout",
     "output_type": "stream",
     "text": [
      "['BPF', 'LOG4', 'NV_MAGICCONST', 'RECIP_BPF', 'Random', 'SG_MAGICCONST', 'SystemRandom', 'TWOPI', 'betavariate', 'choice', 'choices', 'expovariate', 'gammavariate', 'gauss', 'getrandbits', 'getstate', 'lognormvariate', 'normalvariate', 'paretovariate', 'randbytes', 'randint', 'random', 'randrange', 'sample', 'seed', 'setstate', 'shuffle', 'triangular', 'uniform', 'vonmisesvariate', 'weibullvariate']\n"
     ]
    }
   ],
   "source": [
    "names(random) #todos los nombres asociados a la libreria random"
   ]
  },
  {
   "cell_type": "code",
   "execution_count": 12,
   "id": "85ea4960",
   "metadata": {},
   "outputs": [],
   "source": [
    "#random genera un nº pseudo aleatorio. Genera im mº entre 0 y 1 (0, 1) rango cerrado por la izquierda, abierto por \n",
    "#la derecha. porque puede salir el 0, pero no el 1 [0, 1). Lo maximo sería un 0.9^"
   ]
  },
  {
   "cell_type": "code",
   "execution_count": 13,
   "id": "159a0795",
   "metadata": {},
   "outputs": [
    {
     "data": {
      "text/plain": [
       "15"
      ]
     },
     "execution_count": 13,
     "metadata": {},
     "output_type": "execute_result"
    }
   ],
   "source": [
    "random.randint(4, 17) #generar nºs enteros entre dos valores dados"
   ]
  },
  {
   "cell_type": "code",
   "execution_count": 15,
   "id": "8d78de4d",
   "metadata": {},
   "outputs": [],
   "source": [
    "random.seed(0) #asi inicializamos el metodo que se encarga de dar un numero aleatorio"
   ]
  },
  {
   "cell_type": "code",
   "execution_count": 16,
   "id": "d34b06eb",
   "metadata": {},
   "outputs": [],
   "source": [
    "#el tema es que al inicializarlo, esa aleatoriedad no es tal, porque siempre serán los mismos. No se sabe si el"
   ]
  },
  {
   "cell_type": "code",
   "execution_count": 17,
   "id": "4d6e2107",
   "metadata": {},
   "outputs": [],
   "source": [
    "#metodo que se encarga de random es en base a la hora reloj, procesos del PC, etc"
   ]
  },
  {
   "cell_type": "code",
   "execution_count": 22,
   "id": "705c2ed9",
   "metadata": {},
   "outputs": [
    {
     "data": {
      "text/plain": [
       "'E'"
      ]
     },
     "execution_count": 22,
     "metadata": {},
     "output_type": "execute_result"
    }
   ],
   "source": [
    "random.choice(list(\"ABCDEF\")) #escoge elemento aleatorio de una secuencia que no esté vacia"
   ]
  },
  {
   "cell_type": "code",
   "execution_count": 25,
   "id": "a81e0f30",
   "metadata": {},
   "outputs": [
    {
     "data": {
      "text/plain": [
       "['A', 'B', 'C', 'D', 'E']"
      ]
     },
     "execution_count": 25,
     "metadata": {},
     "output_type": "execute_result"
    }
   ],
   "source": [
    "list(\"ABCDE\")"
   ]
  },
  {
   "cell_type": "code",
   "execution_count": 28,
   "id": "20a301d1",
   "metadata": {},
   "outputs": [],
   "source": [
    "#sin reemplazo, es que hace una extracción de una lista y si tiene que extraer de nuevo, ya no toma en cuenta al ya extraido"
   ]
  },
  {
   "cell_type": "code",
   "execution_count": 29,
   "id": "ef220295",
   "metadata": {},
   "outputs": [],
   "source": [
    "#con reemplazo, es que hace una extracción de una lista y si tiene que extraer de nuevo, toma en cuenta al ya extraido, pudiendo volver a extraer el mismo"
   ]
  },
  {
   "cell_type": "code",
   "execution_count": 41,
   "id": "4a53d9e6",
   "metadata": {},
   "outputs": [
    {
     "data": {
      "text/plain": [
       "['C',\n",
       " 'D',\n",
       " 'A',\n",
       " 'F',\n",
       " 'F',\n",
       " 'A',\n",
       " 'F',\n",
       " 'E',\n",
       " 'E',\n",
       " 'D',\n",
       " 'D',\n",
       " 'E',\n",
       " 'B',\n",
       " 'E',\n",
       " 'E',\n",
       " 'A',\n",
       " 'F']"
      ]
     },
     "execution_count": 41,
     "metadata": {},
     "output_type": "execute_result"
    }
   ],
   "source": [
    "random.choices(list(\"ABCDEF\"), k = 17) #Damos conjunto de elementos y le decimos la cantidad de elementos a extraer aleatoriamente\n",
    "#con reemplazo --Es para extraccion sin reemplazo"
   ]
  },
  {
   "cell_type": "code",
   "execution_count": 50,
   "id": "54a4c987",
   "metadata": {},
   "outputs": [
    {
     "data": {
      "text/plain": [
       "['B', 'A', 'C', 'F', 'E', 'D']"
      ]
     },
     "execution_count": 50,
     "metadata": {},
     "output_type": "execute_result"
    }
   ],
   "source": [
    "random.sample(list(\"ABCDEF\"), k = 6) # Es para extraccion sin reemplazo \n",
    "#Si intentas que haga mas extracciones de los valores que puede, dara error"
   ]
  },
  {
   "cell_type": "code",
   "execution_count": null,
   "id": "1d003c2b",
   "metadata": {},
   "outputs": [],
   "source": []
  },
  {
   "cell_type": "code",
   "execution_count": null,
   "id": "265c5cff",
   "metadata": {},
   "outputs": [],
   "source": []
  },
  {
   "cell_type": "code",
   "execution_count": null,
   "id": "fc25da3f",
   "metadata": {},
   "outputs": [],
   "source": []
  },
  {
   "cell_type": "code",
   "execution_count": null,
   "id": "bdee81f8",
   "metadata": {},
   "outputs": [],
   "source": []
  },
  {
   "cell_type": "code",
   "execution_count": null,
   "id": "955d25ac",
   "metadata": {},
   "outputs": [],
   "source": []
  },
  {
   "cell_type": "code",
   "execution_count": null,
   "id": "a5d36a67",
   "metadata": {},
   "outputs": [],
   "source": []
  },
  {
   "cell_type": "code",
   "execution_count": null,
   "id": "e63dc933",
   "metadata": {},
   "outputs": [],
   "source": []
  },
  {
   "cell_type": "code",
   "execution_count": null,
   "id": "2f858a6b",
   "metadata": {},
   "outputs": [],
   "source": []
  },
  {
   "cell_type": "code",
   "execution_count": null,
   "id": "c799d0a7",
   "metadata": {},
   "outputs": [],
   "source": []
  },
  {
   "cell_type": "code",
   "execution_count": null,
   "id": "7d185d1e",
   "metadata": {},
   "outputs": [],
   "source": []
  },
  {
   "cell_type": "code",
   "execution_count": null,
   "id": "ce2fc3df",
   "metadata": {},
   "outputs": [],
   "source": []
  },
  {
   "cell_type": "code",
   "execution_count": null,
   "id": "0caa8af7",
   "metadata": {},
   "outputs": [],
   "source": []
  },
  {
   "cell_type": "code",
   "execution_count": null,
   "id": "0f8ca17f",
   "metadata": {},
   "outputs": [],
   "source": []
  },
  {
   "cell_type": "code",
   "execution_count": null,
   "id": "7e2f923a",
   "metadata": {},
   "outputs": [],
   "source": []
  },
  {
   "cell_type": "code",
   "execution_count": null,
   "id": "f0f715c3",
   "metadata": {},
   "outputs": [],
   "source": []
  },
  {
   "cell_type": "code",
   "execution_count": null,
   "id": "7d75a77f",
   "metadata": {},
   "outputs": [],
   "source": []
  },
  {
   "cell_type": "code",
   "execution_count": null,
   "id": "08f4ca82",
   "metadata": {},
   "outputs": [],
   "source": []
  },
  {
   "cell_type": "code",
   "execution_count": null,
   "id": "6586508f",
   "metadata": {},
   "outputs": [],
   "source": []
  },
  {
   "cell_type": "code",
   "execution_count": null,
   "id": "02b966b6",
   "metadata": {},
   "outputs": [],
   "source": []
  },
  {
   "cell_type": "code",
   "execution_count": null,
   "id": "f614a028",
   "metadata": {},
   "outputs": [],
   "source": []
  },
  {
   "cell_type": "code",
   "execution_count": null,
   "id": "0d1bf290",
   "metadata": {},
   "outputs": [],
   "source": []
  },
  {
   "cell_type": "code",
   "execution_count": null,
   "id": "0a8844cb",
   "metadata": {},
   "outputs": [],
   "source": []
  },
  {
   "cell_type": "code",
   "execution_count": null,
   "id": "f269568c",
   "metadata": {},
   "outputs": [],
   "source": []
  },
  {
   "cell_type": "code",
   "execution_count": null,
   "id": "bdf65222",
   "metadata": {},
   "outputs": [],
   "source": []
  },
  {
   "cell_type": "code",
   "execution_count": null,
   "id": "300ad20b",
   "metadata": {},
   "outputs": [],
   "source": []
  },
  {
   "cell_type": "code",
   "execution_count": null,
   "id": "6d49c209",
   "metadata": {},
   "outputs": [],
   "source": []
  },
  {
   "cell_type": "code",
   "execution_count": null,
   "id": "3ea0c5be",
   "metadata": {},
   "outputs": [],
   "source": []
  },
  {
   "cell_type": "code",
   "execution_count": null,
   "id": "41bce625",
   "metadata": {},
   "outputs": [],
   "source": []
  },
  {
   "cell_type": "code",
   "execution_count": null,
   "id": "24816a89",
   "metadata": {},
   "outputs": [],
   "source": []
  },
  {
   "cell_type": "code",
   "execution_count": null,
   "id": "0261acb1",
   "metadata": {},
   "outputs": [],
   "source": []
  },
  {
   "cell_type": "code",
   "execution_count": null,
   "id": "2948b374",
   "metadata": {},
   "outputs": [],
   "source": []
  },
  {
   "cell_type": "code",
   "execution_count": null,
   "id": "1b125560",
   "metadata": {},
   "outputs": [],
   "source": []
  },
  {
   "cell_type": "code",
   "execution_count": null,
   "id": "288fdbbd",
   "metadata": {},
   "outputs": [],
   "source": []
  },
  {
   "cell_type": "code",
   "execution_count": null,
   "id": "33940357",
   "metadata": {},
   "outputs": [],
   "source": []
  },
  {
   "cell_type": "markdown",
   "id": "b1d28774",
   "metadata": {},
   "source": [
    "# Expresiones regulares "
   ]
  },
  {
   "cell_type": "code",
   "execution_count": 4,
   "id": "acf2e0a0",
   "metadata": {},
   "outputs": [],
   "source": [
    "import re"
   ]
  },
  {
   "cell_type": "code",
   "execution_count": 5,
   "id": "dd262a17",
   "metadata": {
    "scrolled": true
   },
   "outputs": [
    {
     "ename": "IndexError",
     "evalue": "string index out of range",
     "output_type": "error",
     "traceback": [
      "\u001b[0;31m---------------------------------------------------------------------------\u001b[0m",
      "\u001b[0;31mIndexError\u001b[0m                                Traceback (most recent call last)",
      "\u001b[0;32m/tmp/ipykernel_93800/2519735561.py\u001b[0m in \u001b[0;36m<module>\u001b[0;34m\u001b[0m\n\u001b[0;32m----> 1\u001b[0;31m \u001b[0mnames\u001b[0m\u001b[0;34m(\u001b[0m\u001b[0mre\u001b[0m\u001b[0;34m)\u001b[0m\u001b[0;34m\u001b[0m\u001b[0;34m\u001b[0m\u001b[0m\n\u001b[0m",
      "\u001b[0;32m/tmp/ipykernel_93800/1155322615.py\u001b[0m in \u001b[0;36m<lambda>\u001b[0;34m(obj)\u001b[0m\n\u001b[0;32m----> 1\u001b[0;31m \u001b[0mnames\u001b[0m \u001b[0;34m=\u001b[0m \u001b[0;32mlambda\u001b[0m \u001b[0mobj\u001b[0m\u001b[0;34m:\u001b[0m \u001b[0mprint\u001b[0m\u001b[0;34m(\u001b[0m\u001b[0;34m[\u001b[0m\u001b[0mname\u001b[0m \u001b[0;32mfor\u001b[0m \u001b[0mname\u001b[0m \u001b[0;32min\u001b[0m \u001b[0mdir\u001b[0m\u001b[0;34m(\u001b[0m\u001b[0mobj\u001b[0m\u001b[0;34m)\u001b[0m \u001b[0;32mif\u001b[0m \u001b[0mname\u001b[0m\u001b[0;34m[\u001b[0m\u001b[0;36m0\u001b[0m \u001b[0;34m!=\u001b[0m \u001b[0;34m\"_\"\u001b[0m\u001b[0;34m]\u001b[0m\u001b[0;34m]\u001b[0m\u001b[0;34m)\u001b[0m \u001b[0;31m#func lambda que recibe un arg que guardo en la variable \"obj\"\u001b[0m\u001b[0;34m\u001b[0m\u001b[0;34m\u001b[0m\u001b[0m\n\u001b[0m\u001b[1;32m      2\u001b[0m \u001b[0;31m#devuelve una list comprehension\u001b[0m\u001b[0;34m\u001b[0m\u001b[0;34m\u001b[0m\u001b[0m\n",
      "\u001b[0;32m/tmp/ipykernel_93800/1155322615.py\u001b[0m in \u001b[0;36m<listcomp>\u001b[0;34m(.0)\u001b[0m\n\u001b[0;32m----> 1\u001b[0;31m \u001b[0mnames\u001b[0m \u001b[0;34m=\u001b[0m \u001b[0;32mlambda\u001b[0m \u001b[0mobj\u001b[0m\u001b[0;34m:\u001b[0m \u001b[0mprint\u001b[0m\u001b[0;34m(\u001b[0m\u001b[0;34m[\u001b[0m\u001b[0mname\u001b[0m \u001b[0;32mfor\u001b[0m \u001b[0mname\u001b[0m \u001b[0;32min\u001b[0m \u001b[0mdir\u001b[0m\u001b[0;34m(\u001b[0m\u001b[0mobj\u001b[0m\u001b[0;34m)\u001b[0m \u001b[0;32mif\u001b[0m \u001b[0mname\u001b[0m\u001b[0;34m[\u001b[0m\u001b[0;36m0\u001b[0m \u001b[0;34m!=\u001b[0m \u001b[0;34m\"_\"\u001b[0m\u001b[0;34m]\u001b[0m\u001b[0;34m]\u001b[0m\u001b[0;34m)\u001b[0m \u001b[0;31m#func lambda que recibe un arg que guardo en la variable \"obj\"\u001b[0m\u001b[0;34m\u001b[0m\u001b[0;34m\u001b[0m\u001b[0m\n\u001b[0m\u001b[1;32m      2\u001b[0m \u001b[0;31m#devuelve una list comprehension\u001b[0m\u001b[0;34m\u001b[0m\u001b[0;34m\u001b[0m\u001b[0m\n",
      "\u001b[0;31mIndexError\u001b[0m: string index out of range"
     ]
    }
   ],
   "source": [
    "names(re)"
   ]
  },
  {
   "cell_type": "raw",
   "id": "60e0c121",
   "metadata": {},
   "source": []
  },
  {
   "cell_type": "code",
   "execution_count": null,
   "id": "c554c161",
   "metadata": {},
   "outputs": [],
   "source": [
    "text = \"python for data science\"\n",
    "re.search(r\"data\", text)"
   ]
  },
  {
   "cell_type": "code",
   "execution_count": null,
   "id": "2bbf87bb",
   "metadata": {},
   "outputs": [],
   "source": [
    "text = \"mi gato y tu gata juegan con los gatitos del gato del vecino\""
   ]
  },
  {
   "cell_type": "code",
   "execution_count": null,
   "id": "3316c11f",
   "metadata": {},
   "outputs": [],
   "source": [
    "re.search(r\"gato\", text)"
   ]
  },
  {
   "cell_type": "code",
   "execution_count": null,
   "id": "f5d6dfa1",
   "metadata": {},
   "outputs": [],
   "source": [
    "re.findall(r\"gato\", text)"
   ]
  },
  {
   "cell_type": "code",
   "execution_count": null,
   "id": "58eb0f24",
   "metadata": {},
   "outputs": [],
   "source": [
    "for match in re.finditer(r\"gato\", text):\n",
    "    print(match)"
   ]
  },
  {
   "cell_type": "code",
   "execution_count": null,
   "id": "c41eb969",
   "metadata": {},
   "outputs": [],
   "source": [
    "for match in re.finditer(r\"gat[oa]\", text):\n",
    "    print(match)"
   ]
  },
  {
   "cell_type": "code",
   "execution_count": null,
   "id": "94b54a66",
   "metadata": {},
   "outputs": [],
   "source": [
    "text = \"mi gato y tus gatas juegan con los gatitos del gato del vecino\""
   ]
  },
  {
   "cell_type": "code",
   "execution_count": null,
   "id": "2087a06b",
   "metadata": {},
   "outputs": [],
   "source": [
    "for match in re.finditer(r\"gat[oa]s?\", text):\n",
    "    print(match)"
   ]
  },
  {
   "cell_type": "code",
   "execution_count": null,
   "id": "a1f48398",
   "metadata": {},
   "outputs": [],
   "source": [
    "for match in re.finditer(r\"gat(it)?[oa]s?\", text):\n",
    "    print(match)"
   ]
  },
  {
   "cell_type": "code",
   "execution_count": null,
   "id": "0bac9873",
   "metadata": {},
   "outputs": [],
   "source": [
    "email = \"daniel@blablabla.com\"\n",
    "pattern = r\".+@.+\\..+\" # \".\" representa cualquier caracter Para un punto literal, hay que escapar el punto con un slash\n",
    "re.fullmatch(pattern, email)"
   ]
  },
  {
   "cell_type": "code",
   "execution_count": null,
   "id": "c0f1532f",
   "metadata": {},
   "outputs": [],
   "source": [
    "pattern"
   ]
  },
  {
   "cell_type": "code",
   "execution_count": null,
   "id": "043639c9",
   "metadata": {},
   "outputs": [],
   "source": [
    "# * 0 o mas veces + 1 o mas veces"
   ]
  },
  {
   "cell_type": "code",
   "execution_count": null,
   "id": "03a8c976",
   "metadata": {},
   "outputs": [],
   "source": [
    "email = \"daniel@blablabla.comm\"\n",
    "pattern = r\".+@.+\\..{3}\" \n",
    "re.fullmatch(pattern, email) #no encaja porque se indica que el dominio es de 3 letras y tiene 4"
   ]
  },
  {
   "cell_type": "code",
   "execution_count": null,
   "id": "06c6d3bd",
   "metadata": {},
   "outputs": [],
   "source": [
    "email = \"daniel@blablabla.com\"\n",
    "pattern = r\".+@.+\\..{2,3}\" \n",
    "re.fullmatch(pattern, email) #admitimos dominios de longitud 2 o 3"
   ]
  },
  {
   "cell_type": "code",
   "execution_count": null,
   "id": "5373810a",
   "metadata": {},
   "outputs": [],
   "source": [
    "email = \"daniel@blablabla.ia\"\n",
    "pattern = r\"\\w+@.+\\..{2,3}\" \n",
    "re.fullmatch(pattern, email) #w es permitir un caracter de los ppales alfabetos del mundo"
   ]
  },
  {
   "cell_type": "code",
   "execution_count": null,
   "id": "fb85ed4b",
   "metadata": {},
   "outputs": [],
   "source": [
    "print(dir(re))"
   ]
  },
  {
   "cell_type": "code",
   "execution_count": null,
   "id": "fbf86664",
   "metadata": {},
   "outputs": [],
   "source": [
    "text"
   ]
  },
  {
   "cell_type": "code",
   "execution_count": null,
   "id": "f169d38f",
   "metadata": {},
   "outputs": [],
   "source": [
    "re.split(r\" \", text)"
   ]
  },
  {
   "cell_type": "code",
   "execution_count": null,
   "id": "aac59dd6",
   "metadata": {},
   "outputs": [],
   "source": [
    "text"
   ]
  },
  {
   "cell_type": "code",
   "execution_count": null,
   "id": "3aa1e9a1",
   "metadata": {},
   "outputs": [],
   "source": [
    "re.split(r\"gat(it)?[oa]s?\", text)"
   ]
  },
  {
   "cell_type": "code",
   "execution_count": null,
   "id": "0bd04e19",
   "metadata": {},
   "outputs": [],
   "source": [
    "phone = \"91-678-912-456\"\n",
    "re.split(r\"-\", phone)"
   ]
  },
  {
   "cell_type": "code",
   "execution_count": null,
   "id": "3a1c58a8",
   "metadata": {},
   "outputs": [],
   "source": [
    "\"*\".join([\"hola\", \"adios\", \"python\"])"
   ]
  },
  {
   "cell_type": "code",
   "execution_count": null,
   "id": "64626dc6",
   "metadata": {},
   "outputs": [],
   "source": [
    "\"\".join([\"hola\", \"adios\", \"python\"])"
   ]
  },
  {
   "cell_type": "code",
   "execution_count": null,
   "id": "50f5db77",
   "metadata": {},
   "outputs": [],
   "source": [
    "\"\".join(re.split(r\"-\", phone))"
   ]
  },
  {
   "cell_type": "code",
   "execution_count": null,
   "id": "628b998c",
   "metadata": {},
   "outputs": [],
   "source": [
    "phone = \"91-678/912/456\""
   ]
  },
  {
   "cell_type": "code",
   "execution_count": null,
   "id": "a383ca98",
   "metadata": {},
   "outputs": [],
   "source": [
    "\"\".join(re.split(r\"[-/]\", phone))"
   ]
  },
  {
   "cell_type": "code",
   "execution_count": null,
   "id": "4a047251",
   "metadata": {},
   "outputs": [],
   "source": [
    "text"
   ]
  },
  {
   "cell_type": "code",
   "execution_count": null,
   "id": "cf044156",
   "metadata": {},
   "outputs": [],
   "source": [
    "re.sub(r\"gato\", \"perro\", text)"
   ]
  },
  {
   "cell_type": "code",
   "execution_count": null,
   "id": "b2cd6572",
   "metadata": {},
   "outputs": [],
   "source": [
    "re.sub(r\"gat[oa]\", \"perro\", text)"
   ]
  },
  {
   "cell_type": "code",
   "execution_count": null,
   "id": "17b74361",
   "metadata": {},
   "outputs": [],
   "source": [
    "re.sub(r\"gat\", \"perr\", text)"
   ]
  },
  {
   "cell_type": "code",
   "execution_count": null,
   "id": "98e8ea75",
   "metadata": {},
   "outputs": [],
   "source": [
    "phone"
   ]
  },
  {
   "cell_type": "code",
   "execution_count": null,
   "id": "a0ce8968",
   "metadata": {},
   "outputs": [],
   "source": [
    "re.sub(r\"[-/]\", \"\", phone)"
   ]
  },
  {
   "cell_type": "code",
   "execution_count": null,
   "id": "c2a612c4",
   "metadata": {},
   "outputs": [],
   "source": []
  },
  {
   "cell_type": "code",
   "execution_count": null,
   "id": "21edc385",
   "metadata": {},
   "outputs": [],
   "source": []
  },
  {
   "cell_type": "code",
   "execution_count": null,
   "id": "9fc1a7f1",
   "metadata": {},
   "outputs": [],
   "source": []
  },
  {
   "cell_type": "code",
   "execution_count": null,
   "id": "8e97b47f",
   "metadata": {},
   "outputs": [],
   "source": []
  },
  {
   "cell_type": "code",
   "execution_count": null,
   "id": "8c5953e5",
   "metadata": {},
   "outputs": [],
   "source": []
  },
  {
   "cell_type": "code",
   "execution_count": null,
   "id": "6e56b6d4",
   "metadata": {},
   "outputs": [],
   "source": []
  },
  {
   "cell_type": "code",
   "execution_count": null,
   "id": "3a7327c8",
   "metadata": {},
   "outputs": [],
   "source": []
  },
  {
   "cell_type": "code",
   "execution_count": null,
   "id": "be78e91d",
   "metadata": {},
   "outputs": [],
   "source": []
  },
  {
   "cell_type": "code",
   "execution_count": null,
   "id": "08163df8",
   "metadata": {},
   "outputs": [],
   "source": []
  },
  {
   "cell_type": "code",
   "execution_count": null,
   "id": "8fe02da9",
   "metadata": {},
   "outputs": [],
   "source": []
  },
  {
   "cell_type": "code",
   "execution_count": null,
   "id": "1c3c12f2",
   "metadata": {},
   "outputs": [],
   "source": []
  }
 ],
 "metadata": {
  "kernelspec": {
   "display_name": "Python 3 (ipykernel)",
   "language": "python",
   "name": "python3"
  },
  "language_info": {
   "codemirror_mode": {
    "name": "ipython",
    "version": 3
   },
   "file_extension": ".py",
   "mimetype": "text/x-python",
   "name": "python",
   "nbconvert_exporter": "python",
   "pygments_lexer": "ipython3",
   "version": "3.10.12"
  }
 },
 "nbformat": 4,
 "nbformat_minor": 5
}
