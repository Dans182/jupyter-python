{
 "cells": [
  {
   "cell_type": "code",
   "execution_count": 1,
   "id": "c7ac9112-6268-4fba-b910-30a453ea0e7c",
   "metadata": {},
   "outputs": [
    {
     "name": "stdout",
     "output_type": "stream",
     "text": [
      "['In', 'Out', '_', '__', '___', '__builtin__', '__builtins__', '__doc__', '__loader__', '__name__', '__package__', '__session__', '__spec__', '_dh', '_i', '_i1', '_ih', '_ii', '_iii', '_oh', 'exit', 'get_ipython', 'open', 'quit']\n"
     ]
    }
   ],
   "source": [
    "print(dir())"
   ]
  },
  {
   "cell_type": "code",
   "execution_count": 2,
   "id": "89419d63-98bb-42d6-b72d-50134733e97f",
   "metadata": {},
   "outputs": [],
   "source": [
    "a = 1"
   ]
  },
  {
   "cell_type": "code",
   "execution_count": 3,
   "id": "2b881146-46ea-454d-a1c8-0a0a081fed17",
   "metadata": {},
   "outputs": [
    {
     "name": "stdout",
     "output_type": "stream",
     "text": [
      "['In', 'Out', '_', '__', '___', '__builtin__', '__builtins__', '__doc__', '__loader__', '__name__', '__package__', '__session__', '__spec__', '_dh', '_i', '_i1', '_i2', '_i3', '_ih', '_ii', '_iii', '_oh', 'a', 'exit', 'get_ipython', 'open', 'quit']\n"
     ]
    }
   ],
   "source": [
    "print(dir())"
   ]
  },
  {
   "cell_type": "code",
   "execution_count": 7,
   "id": "824eedba-190e-4bdc-b027-62593d379e26",
   "metadata": {},
   "outputs": [
    {
     "name": "stdout",
     "output_type": "stream",
     "text": [
      "['ArithmeticError', 'AssertionError', 'AttributeError', 'BaseException', 'BaseExceptionGroup', 'BlockingIOError', 'BrokenPipeError', 'BufferError', 'BytesWarning', 'ChildProcessError', 'ConnectionAbortedError', 'ConnectionError', 'ConnectionRefusedError', 'ConnectionResetError', 'DeprecationWarning', 'EOFError', 'Ellipsis', 'EncodingWarning', 'EnvironmentError', 'Exception', 'ExceptionGroup', 'False', 'FileExistsError', 'FileNotFoundError', 'FloatingPointError', 'FutureWarning', 'GeneratorExit', 'IOError', 'ImportError', 'ImportWarning', 'IndentationError', 'IndexError', 'InterruptedError', 'IsADirectoryError', 'KeyError', 'KeyboardInterrupt', 'LookupError', 'MemoryError', 'ModuleNotFoundError', 'NameError', 'None', 'NotADirectoryError', 'NotImplemented', 'NotImplementedError', 'OSError', 'OverflowError', 'PendingDeprecationWarning', 'PermissionError', 'ProcessLookupError', 'RecursionError', 'ReferenceError', 'ResourceWarning', 'RuntimeError', 'RuntimeWarning', 'StopAsyncIteration', 'StopIteration', 'SyntaxError', 'SyntaxWarning', 'SystemError', 'SystemExit', 'TabError', 'TimeoutError', 'True', 'TypeError', 'UnboundLocalError', 'UnicodeDecodeError', 'UnicodeEncodeError', 'UnicodeError', 'UnicodeTranslateError', 'UnicodeWarning', 'UserWarning', 'ValueError', 'Warning', 'WindowsError', 'ZeroDivisionError', '__IPYTHON__', '__build_class__', '__debug__', '__doc__', '__import__', '__loader__', '__name__', '__package__', '__spec__', 'abs', 'aiter', 'all', 'anext', 'any', 'ascii', 'bin', 'bool', 'breakpoint', 'bytearray', 'bytes', 'callable', 'chr', 'classmethod', 'compile', 'complex', 'copyright', 'credits', 'delattr', 'dict', 'dir', 'display', 'divmod', 'enumerate', 'eval', 'exec', 'execfile', 'filter', 'float', 'format', 'frozenset', 'get_ipython', 'getattr', 'globals', 'hasattr', 'hash', 'help', 'hex', 'id', 'input', 'int', 'isinstance', 'issubclass', 'iter', 'len', 'license', 'list', 'locals', 'map', 'max', 'memoryview', 'min', 'next', 'object', 'oct', 'open', 'ord', 'pow', 'print', 'property', 'range', 'repr', 'reversed', 'round', 'runfile', 'set', 'setattr', 'slice', 'sorted', 'staticmethod', 'str', 'sum', 'super', 'tuple', 'type', 'vars', 'zip']\n"
     ]
    }
   ],
   "source": [
    "print(dir(__builtins__)) #libreria integrada de python"
   ]
  },
  {
   "cell_type": "code",
   "execution_count": 9,
   "id": "6030ba23-b871-4960-a68c-319925a903c0",
   "metadata": {},
   "outputs": [
    {
     "name": "stdout",
     "output_type": "stream",
     "text": [
      "['__add__', '__class__', '__contains__', '__delattr__', '__dir__', '__doc__', '__eq__', '__format__', '__ge__', '__getattribute__', '__getitem__', '__getnewargs__', '__getstate__', '__gt__', '__hash__', '__init__', '__init_subclass__', '__iter__', '__le__', '__len__', '__lt__', '__mod__', '__mul__', '__ne__', '__new__', '__reduce__', '__reduce_ex__', '__repr__', '__rmod__', '__rmul__', '__setattr__', '__sizeof__', '__str__', '__subclasshook__', 'capitalize', 'casefold', 'center', 'count', 'encode', 'endswith', 'expandtabs', 'find', 'format', 'format_map', 'index', 'isalnum', 'isalpha', 'isascii', 'isdecimal', 'isdigit', 'isidentifier', 'islower', 'isnumeric', 'isprintable', 'isspace', 'istitle', 'isupper', 'join', 'ljust', 'lower', 'lstrip', 'maketrans', 'partition', 'removeprefix', 'removesuffix', 'replace', 'rfind', 'rindex', 'rjust', 'rpartition', 'rsplit', 'rstrip', 'split', 'splitlines', 'startswith', 'strip', 'swapcase', 'title', 'translate', 'upper', 'zfill']\n"
     ]
    }
   ],
   "source": [
    "print(dir(\"hola\")) #Me muestra todo el directorio de nombres del tipo de dato de \"hola\" O sea, de un str"
   ]
  },
  {
   "cell_type": "code",
   "execution_count": 27,
   "id": "a74b5441-33a6-481a-a189-169c771ef23e",
   "metadata": {},
   "outputs": [
    {
     "name": "stdout",
     "output_type": "stream",
     "text": [
      "Circulo creado. El radio es: 4\n"
     ]
    },
    {
     "data": {
      "text/plain": [
       "39.47840117785601"
      ]
     },
     "execution_count": 27,
     "metadata": {},
     "output_type": "execute_result"
    }
   ],
   "source": [
    "class Circulo:\n",
    "\n",
    "    pi = 3.141592\n",
    "    \n",
    "    def __init__(self, radio): #nombres reservados (dobles guiones)\n",
    "        self.radio = radio\n",
    "        print(\"Circulo creado.\", \"El radio es:\", radio)\n",
    "\n",
    "    def area(self):\n",
    "        return self.radio * Circulo.pi ** 2 \n",
    "\n",
    "        \n",
    "c = Circulo(radio = 4) #Instanciando la clase. Creando un objeto, a partir de una clase\n",
    "c.area()"
   ]
  },
  {
   "cell_type": "code",
   "execution_count": 13,
   "id": "caca43d0-cb66-4559-8fa2-a2c5eda92b92",
   "metadata": {},
   "outputs": [
    {
     "name": "stdout",
     "output_type": "stream",
     "text": [
      "<__main__.Circulo object at 0x000001B1673E1450>\n"
     ]
    }
   ],
   "source": [
    "print(c)"
   ]
  },
  {
   "cell_type": "code",
   "execution_count": 24,
   "id": "0f75fc60-5148-463c-9d4d-0e4893b77938",
   "metadata": {},
   "outputs": [
    {
     "data": {
      "text/plain": [
       "25.132736"
      ]
     },
     "execution_count": 24,
     "metadata": {},
     "output_type": "execute_result"
    }
   ],
   "source": [
    "c.area()"
   ]
  },
  {
   "cell_type": "code",
   "execution_count": 25,
   "id": "17817a4e-2a6b-4077-9e39-d9c486b9cbaa",
   "metadata": {},
   "outputs": [],
   "source": [
    "#Primero hay que instanciar una clase antes de hacer uso de las funcionalidades de ella"
   ]
  },
  {
   "cell_type": "code",
   "execution_count": 29,
   "id": "0916a0c2-6399-49b6-9d84-7a3105f4acf1",
   "metadata": {},
   "outputs": [],
   "source": [
    "def area(radio):\n",
    "    return 3.141592 * radio ** 2\n",
    "    "
   ]
  },
  {
   "cell_type": "code",
   "execution_count": 30,
   "id": "0031bf1c-4ce9-478c-937b-64b375efcbac",
   "metadata": {},
   "outputs": [
    {
     "data": {
      "text/plain": [
       "113.097312"
      ]
     },
     "execution_count": 30,
     "metadata": {},
     "output_type": "execute_result"
    }
   ],
   "source": [
    "area(6)"
   ]
  },
  {
   "cell_type": "code",
   "execution_count": 97,
   "id": "84f5e8d3-3e3c-4889-aac5-2047e5e4083f",
   "metadata": {},
   "outputs": [],
   "source": [
    "class Circulo:\n",
    "\n",
    "    pi = 3.141592\n",
    "    \n",
    "    def __init__(self, radio): #nombres reservados (dobles guiones)\n",
    "        self.radio = radio\n",
    "        print(\"Circulo creado.\", \"El radio es:\", radio)\n",
    "\n",
    "    def area(self):\n",
    "        return self.radio * Circulo.pi ** 2\n",
    "\n",
    "    def __del__(self):\n",
    "        print(\"Circulo eliminado\")\n",
    "\n",
    "    def __str__(self):\n",
    "        return \"Circulo de radio \" + str(self.radio) #Con este metodo, veo un msj de confirmación al hacer el print sobre el objeto que se crea\n",
    "        #a partir de la clase Circulo. Si lo hiciera sin sobreescribir el metodo, solo me mostraria el segmento de memoria"
   ]
  },
  {
   "cell_type": "code",
   "execution_count": 82,
   "id": "de7415f9-26ed-4279-8e91-d01100529b74",
   "metadata": {},
   "outputs": [
    {
     "name": "stdout",
     "output_type": "stream",
     "text": [
      "['__class__', '__del__', '__delattr__', '__dict__', '__dir__', '__doc__', '__eq__', '__format__', '__ge__', '__getattribute__', '__getstate__', '__gt__', '__hash__', '__init__', '__init_subclass__', '__le__', '__lt__', '__module__', '__ne__', '__new__', '__reduce__', '__reduce_ex__', '__repr__', '__setattr__', '__sizeof__', '__str__', '__subclasshook__', '__weakref__', 'area', 'pi']\n"
     ]
    }
   ],
   "source": [
    "print(dir(Circulo)) #Si los metodos no tienen \"_\" o \"__\" son publicos, y por ende forman parte de la interfaz publica y aparecen \n",
    "#abajo"
   ]
  },
  {
   "cell_type": "code",
   "execution_count": 83,
   "id": "323cb64f-20d4-4326-92d7-b01505313dfc",
   "metadata": {},
   "outputs": [],
   "source": [
    "# dunder methods = Double underscores"
   ]
  },
  {
   "cell_type": "code",
   "execution_count": 84,
   "id": "e5bb3d1d-15af-41ef-9105-bba43f2beebe",
   "metadata": {},
   "outputs": [
    {
     "data": {
      "text/plain": [
       "<__main__.Circulo at 0x1b168180390>"
      ]
     },
     "execution_count": 84,
     "metadata": {},
     "output_type": "execute_result"
    }
   ],
   "source": [
    "c"
   ]
  },
  {
   "cell_type": "code",
   "execution_count": 96,
   "id": "f4a8ac8f-ed12-4fa2-acb6-5be620ac8605",
   "metadata": {},
   "outputs": [],
   "source": [
    "del(c)"
   ]
  },
  {
   "cell_type": "code",
   "execution_count": 98,
   "id": "b248ff9b-99ce-4265-934d-3807368e8bd4",
   "metadata": {},
   "outputs": [
    {
     "name": "stdout",
     "output_type": "stream",
     "text": [
      "Circulo creado. El radio es: 8\n"
     ]
    }
   ],
   "source": [
    "c = Circulo(8)"
   ]
  },
  {
   "cell_type": "code",
   "execution_count": 99,
   "id": "e4e9a3fb-3f4b-4828-8295-1967408a8fd5",
   "metadata": {},
   "outputs": [
    {
     "name": "stdout",
     "output_type": "stream",
     "text": [
      "Circulo de radio 8\n"
     ]
    }
   ],
   "source": [
    "print(c)"
   ]
  },
  {
   "cell_type": "code",
   "execution_count": 100,
   "id": "0001dddb-05bf-4f72-b83a-96448dda7789",
   "metadata": {},
   "outputs": [
    {
     "name": "stdout",
     "output_type": "stream",
     "text": [
      "['__class__', '__del__', '__delattr__', '__dict__', '__dir__', '__doc__', '__eq__', '__format__', '__ge__', '__getattribute__', '__getstate__', '__gt__', '__hash__', '__init__', '__init_subclass__', '__le__', '__lt__', '__module__', '__ne__', '__new__', '__reduce__', '__reduce_ex__', '__repr__', '__setattr__', '__sizeof__', '__str__', '__subclasshook__', '__weakref__', 'area', 'pi']\n"
     ]
    }
   ],
   "source": [
    "print(dir(Circulo))"
   ]
  },
  {
   "cell_type": "code",
   "execution_count": 101,
   "id": "fb265a5d-a7d8-4ae9-8f66-42905a70a484",
   "metadata": {},
   "outputs": [
    {
     "name": "stdout",
     "output_type": "stream",
     "text": [
      "['__class__', '__del__', '__delattr__', '__dict__', '__dir__', '__doc__', '__eq__', '__format__', '__ge__', '__getattribute__', '__getstate__', '__gt__', '__hash__', '__init__', '__init_subclass__', '__le__', '__lt__', '__module__', '__ne__', '__new__', '__reduce__', '__reduce_ex__', '__repr__', '__setattr__', '__sizeof__', '__str__', '__subclasshook__', '__weakref__', 'area', 'pi', 'radio']\n"
     ]
    }
   ],
   "source": [
    "print(dir(c))"
   ]
  },
  {
   "cell_type": "code",
   "execution_count": 103,
   "id": "bcf88cfd-0b82-42e2-a5c2-dd3bc3afc2c1",
   "metadata": {},
   "outputs": [],
   "source": [
    "# En el objeto aparece el atributo que la clase no tiene. O sea, en la clase no está radio y en el objeto si"
   ]
  },
  {
   "cell_type": "code",
   "execution_count": null,
   "id": "1bd99e42-27c6-4418-9b07-d54093edef78",
   "metadata": {},
   "outputs": [],
   "source": []
  },
  {
   "cell_type": "markdown",
   "id": "9da298cb-5d52-4f36-ae6c-3a6cbd8980da",
   "metadata": {},
   "source": [
    "# Tipos simples"
   ]
  },
  {
   "cell_type": "code",
   "execution_count": 104,
   "id": "4b43d28d-38b0-447d-a052-e965e0c45416",
   "metadata": {},
   "outputs": [
    {
     "name": "stdout",
     "output_type": "stream",
     "text": [
      "['__abs__', '__add__', '__and__', '__bool__', '__ceil__', '__class__', '__delattr__', '__dir__', '__divmod__', '__doc__', '__eq__', '__float__', '__floor__', '__floordiv__', '__format__', '__ge__', '__getattribute__', '__getnewargs__', '__getstate__', '__gt__', '__hash__', '__index__', '__init__', '__init_subclass__', '__int__', '__invert__', '__le__', '__lshift__', '__lt__', '__mod__', '__mul__', '__ne__', '__neg__', '__new__', '__or__', '__pos__', '__pow__', '__radd__', '__rand__', '__rdivmod__', '__reduce__', '__reduce_ex__', '__repr__', '__rfloordiv__', '__rlshift__', '__rmod__', '__rmul__', '__ror__', '__round__', '__rpow__', '__rrshift__', '__rshift__', '__rsub__', '__rtruediv__', '__rxor__', '__setattr__', '__sizeof__', '__str__', '__sub__', '__subclasshook__', '__truediv__', '__trunc__', '__xor__', 'as_integer_ratio', 'bit_count', 'bit_length', 'conjugate', 'denominator', 'from_bytes', 'imag', 'numerator', 'real', 'to_bytes']\n"
     ]
    }
   ],
   "source": [
    "print(dir(int)) #espacio de nombres de una clase"
   ]
  },
  {
   "cell_type": "code",
   "execution_count": 106,
   "id": "5a2014a9-e9c5-4228-869c-cbfbe2161636",
   "metadata": {},
   "outputs": [
    {
     "name": "stdout",
     "output_type": "stream",
     "text": [
      "['__abs__', '__add__', '__and__', '__bool__', '__ceil__', '__class__', '__delattr__', '__dir__', '__divmod__', '__doc__', '__eq__', '__float__', '__floor__', '__floordiv__', '__format__', '__ge__', '__getattribute__', '__getnewargs__', '__getstate__', '__gt__', '__hash__', '__index__', '__init__', '__init_subclass__', '__int__', '__invert__', '__le__', '__lshift__', '__lt__', '__mod__', '__mul__', '__ne__', '__neg__', '__new__', '__or__', '__pos__', '__pow__', '__radd__', '__rand__', '__rdivmod__', '__reduce__', '__reduce_ex__', '__repr__', '__rfloordiv__', '__rlshift__', '__rmod__', '__rmul__', '__ror__', '__round__', '__rpow__', '__rrshift__', '__rshift__', '__rsub__', '__rtruediv__', '__rxor__', '__setattr__', '__sizeof__', '__str__', '__sub__', '__subclasshook__', '__truediv__', '__trunc__', '__xor__', 'as_integer_ratio', 'bit_count', 'bit_length', 'conjugate', 'denominator', 'from_bytes', 'imag', 'numerator', 'real', 'to_bytes']\n"
     ]
    }
   ],
   "source": [
    "print(dir(12)) #espacio de nombres de un objeto"
   ]
  },
  {
   "cell_type": "code",
   "execution_count": null,
   "id": "6db4a2f1-b6d1-465e-aff9-71200299ed9e",
   "metadata": {},
   "outputs": [],
   "source": []
  },
  {
   "cell_type": "markdown",
   "id": "53a1b820-abac-46be-a971-c2f2b644f201",
   "metadata": {},
   "source": [
    "# Numeros reales"
   ]
  },
  {
   "cell_type": "code",
   "execution_count": 107,
   "id": "e8cca477-059f-4c2e-ac1b-30c416b4f333",
   "metadata": {},
   "outputs": [
    {
     "name": "stdout",
     "output_type": "stream",
     "text": [
      "['__abs__', '__add__', '__bool__', '__ceil__', '__class__', '__delattr__', '__dir__', '__divmod__', '__doc__', '__eq__', '__float__', '__floor__', '__floordiv__', '__format__', '__ge__', '__getattribute__', '__getformat__', '__getnewargs__', '__getstate__', '__gt__', '__hash__', '__init__', '__init_subclass__', '__int__', '__le__', '__lt__', '__mod__', '__mul__', '__ne__', '__neg__', '__new__', '__pos__', '__pow__', '__radd__', '__rdivmod__', '__reduce__', '__reduce_ex__', '__repr__', '__rfloordiv__', '__rmod__', '__rmul__', '__round__', '__rpow__', '__rsub__', '__rtruediv__', '__setattr__', '__sizeof__', '__str__', '__sub__', '__subclasshook__', '__truediv__', '__trunc__', 'as_integer_ratio', 'conjugate', 'fromhex', 'hex', 'imag', 'is_integer', 'real']\n"
     ]
    }
   ],
   "source": [
    "print(dir(float))"
   ]
  },
  {
   "cell_type": "code",
   "execution_count": 108,
   "id": "09e1d9ff-7192-4be8-8d4e-3b47fc7e9342",
   "metadata": {},
   "outputs": [],
   "source": [
    "a = 3.14"
   ]
  },
  {
   "cell_type": "code",
   "execution_count": 110,
   "id": "d90c145a-7184-4e7b-a6df-b597ce9fce47",
   "metadata": {},
   "outputs": [
    {
     "data": {
      "text/plain": [
       "3.14"
      ]
     },
     "execution_count": 110,
     "metadata": {},
     "output_type": "execute_result"
    }
   ],
   "source": [
    "a.real"
   ]
  },
  {
   "cell_type": "code",
   "execution_count": 111,
   "id": "347a3034-13f3-48fc-858b-24dd971cd5df",
   "metadata": {},
   "outputs": [
    {
     "data": {
      "text/plain": [
       "0.0"
      ]
     },
     "execution_count": 111,
     "metadata": {},
     "output_type": "execute_result"
    }
   ],
   "source": [
    "a.imag"
   ]
  },
  {
   "cell_type": "code",
   "execution_count": null,
   "id": "c84a61dd-3a07-4710-8218-23c83df7fc27",
   "metadata": {},
   "outputs": [],
   "source": []
  },
  {
   "cell_type": "markdown",
   "id": "894082c4-a539-451a-ad1f-490836400f68",
   "metadata": {},
   "source": [
    "# Numeros Complejos"
   ]
  },
  {
   "cell_type": "code",
   "execution_count": 112,
   "id": "703f2dcb-856c-44aa-afbf-567ef02f5aab",
   "metadata": {},
   "outputs": [],
   "source": [
    "b = 4 - 7j"
   ]
  },
  {
   "cell_type": "code",
   "execution_count": 121,
   "id": "3bd1a1d9-c34a-442b-9c79-b96ccb78a950",
   "metadata": {},
   "outputs": [
    {
     "data": {
      "text/plain": [
       "4.0"
      ]
     },
     "execution_count": 121,
     "metadata": {},
     "output_type": "execute_result"
    }
   ],
   "source": [
    "b.real"
   ]
  },
  {
   "cell_type": "code",
   "execution_count": 114,
   "id": "ab43ad38-0df6-42e1-98a9-3c4d90033fbf",
   "metadata": {},
   "outputs": [
    {
     "data": {
      "text/plain": [
       "-7.0"
      ]
     },
     "execution_count": 114,
     "metadata": {},
     "output_type": "execute_result"
    }
   ],
   "source": [
    "b.imag"
   ]
  },
  {
   "cell_type": "code",
   "execution_count": null,
   "id": "8ee10e33-cc44-44ba-9efb-ac0e8efa622a",
   "metadata": {},
   "outputs": [],
   "source": []
  },
  {
   "cell_type": "markdown",
   "id": "d5c3dbc3-48b1-4809-a67c-d3fc63b11e6c",
   "metadata": {},
   "source": [
    "# Booleanos"
   ]
  },
  {
   "cell_type": "code",
   "execution_count": 115,
   "id": "ec4d8910-d505-48a5-b7bb-da6e5b6bbc72",
   "metadata": {},
   "outputs": [
    {
     "name": "stdout",
     "output_type": "stream",
     "text": [
      "['__abs__', '__add__', '__and__', '__bool__', '__ceil__', '__class__', '__delattr__', '__dir__', '__divmod__', '__doc__', '__eq__', '__float__', '__floor__', '__floordiv__', '__format__', '__ge__', '__getattribute__', '__getnewargs__', '__getstate__', '__gt__', '__hash__', '__index__', '__init__', '__init_subclass__', '__int__', '__invert__', '__le__', '__lshift__', '__lt__', '__mod__', '__mul__', '__ne__', '__neg__', '__new__', '__or__', '__pos__', '__pow__', '__radd__', '__rand__', '__rdivmod__', '__reduce__', '__reduce_ex__', '__repr__', '__rfloordiv__', '__rlshift__', '__rmod__', '__rmul__', '__ror__', '__round__', '__rpow__', '__rrshift__', '__rshift__', '__rsub__', '__rtruediv__', '__rxor__', '__setattr__', '__sizeof__', '__str__', '__sub__', '__subclasshook__', '__truediv__', '__trunc__', '__xor__', 'as_integer_ratio', 'bit_count', 'bit_length', 'conjugate', 'denominator', 'from_bytes', 'imag', 'numerator', 'real', 'to_bytes']\n"
     ]
    }
   ],
   "source": [
    "print(dir(bool))"
   ]
  },
  {
   "cell_type": "code",
   "execution_count": null,
   "id": "a1fc2ae3-2d18-436f-b363-c4c9fc79e9f6",
   "metadata": {},
   "outputs": [],
   "source": []
  },
  {
   "cell_type": "markdown",
   "id": "f68df81c-303e-424f-a98e-2c885779d105",
   "metadata": {},
   "source": [
    "# Textos"
   ]
  },
  {
   "cell_type": "code",
   "execution_count": 116,
   "id": "8a15ff19-bbf7-47e6-bf0a-26a044eeb63a",
   "metadata": {},
   "outputs": [
    {
     "name": "stdout",
     "output_type": "stream",
     "text": [
      "['__add__', '__class__', '__contains__', '__delattr__', '__dir__', '__doc__', '__eq__', '__format__', '__ge__', '__getattribute__', '__getitem__', '__getnewargs__', '__getstate__', '__gt__', '__hash__', '__init__', '__init_subclass__', '__iter__', '__le__', '__len__', '__lt__', '__mod__', '__mul__', '__ne__', '__new__', '__reduce__', '__reduce_ex__', '__repr__', '__rmod__', '__rmul__', '__setattr__', '__sizeof__', '__str__', '__subclasshook__', 'capitalize', 'casefold', 'center', 'count', 'encode', 'endswith', 'expandtabs', 'find', 'format', 'format_map', 'index', 'isalnum', 'isalpha', 'isascii', 'isdecimal', 'isdigit', 'isidentifier', 'islower', 'isnumeric', 'isprintable', 'isspace', 'istitle', 'isupper', 'join', 'ljust', 'lower', 'lstrip', 'maketrans', 'partition', 'removeprefix', 'removesuffix', 'replace', 'rfind', 'rindex', 'rjust', 'rpartition', 'rsplit', 'rstrip', 'split', 'splitlines', 'startswith', 'strip', 'swapcase', 'title', 'translate', 'upper', 'zfill']\n"
     ]
    }
   ],
   "source": [
    "print(dir(str)) #str es el nombre de la clase"
   ]
  },
  {
   "cell_type": "code",
   "execution_count": 3,
   "id": "cc4b35a1-9840-43ee-bbfd-61ae837d3107",
   "metadata": {},
   "outputs": [],
   "source": [
    "a = \"python for DATA SCIENce\""
   ]
  },
  {
   "cell_type": "code",
   "execution_count": 4,
   "id": "1aa7dcec-a2bb-434c-9bcf-acbf0c8a4e12",
   "metadata": {},
   "outputs": [
    {
     "data": {
      "text/plain": [
       "'PYTHON FOR DATA SCIENCE'"
      ]
     },
     "execution_count": 4,
     "metadata": {},
     "output_type": "execute_result"
    }
   ],
   "source": [
    "a.upper()"
   ]
  },
  {
   "cell_type": "code",
   "execution_count": 5,
   "id": "5e0405b9-8db0-40b6-a194-f90ff6df0229",
   "metadata": {},
   "outputs": [
    {
     "data": {
      "text/plain": [
       "'python for data science'"
      ]
     },
     "execution_count": 5,
     "metadata": {},
     "output_type": "execute_result"
    }
   ],
   "source": [
    "\"python for DATA SCIENce\".lower()"
   ]
  },
  {
   "cell_type": "code",
   "execution_count": 6,
   "id": "44d32c84-f68a-4c67-8bc5-47eef07b9d12",
   "metadata": {},
   "outputs": [
    {
     "data": {
      "text/plain": [
       "'Python For Data Science'"
      ]
     },
     "execution_count": 6,
     "metadata": {},
     "output_type": "execute_result"
    }
   ],
   "source": [
    "a.title()"
   ]
  },
  {
   "cell_type": "code",
   "execution_count": 124,
   "id": "358c3d66-2a78-4742-a08f-194524f8665d",
   "metadata": {},
   "outputs": [
    {
     "data": {
      "text/plain": [
       "' La diferencia en la sintaxis entre a.imag y b.upper() se debe a la naturaleza de los atributos y los métodos en Python.\\n\\n    En el caso de a.imag, imag es un atributo de la clase float. Al acceder a este atributo, no necesitas usar paréntesis porque no estás invocando una función o método, simplemente estás accediendo a un valor que ya está almacenado dentro del objeto float.\\n\\n    Por otro lado, b.upper() es un método de la clase str. Los métodos son funciones que están asociadas a un objeto y generalmente actúan sobre los datos contenidos en ese objeto. Cuando llamas a un método, necesitas usar paréntesis para indicar que estás invocando una función.\\n\\nEntonces, para resumir, en el primer caso estás accediendo a un atributo y en el segundo caso estás invocando un método, por eso la diferencia en la sintaxis.'"
      ]
     },
     "execution_count": 124,
     "metadata": {},
     "output_type": "execute_result"
    }
   ],
   "source": [
    "\"\"\" La diferencia en la sintaxis entre a.imag y b.upper() se debe a la naturaleza de los atributos y los métodos en Python.\n",
    "\n",
    "    En el caso de a.imag, imag es un atributo de la clase float. Al acceder a este atributo, no necesitas usar paréntesis porque no estás invocando una función o método, simplemente estás accediendo a un valor que ya está almacenado dentro del objeto float.\n",
    "\n",
    "    Por otro lado, b.upper() es un método de la clase str. Los métodos son funciones que están asociadas a un objeto y generalmente actúan sobre los datos contenidos en ese objeto. Cuando llamas a un método, necesitas usar paréntesis para indicar que estás invocando una función.\n",
    "\n",
    "Entonces, para resumir, en el primer caso estás accediendo a un atributo y en el segundo caso estás invocando un método, por eso la diferencia en la sintaxis.\"\"\""
   ]
  },
  {
   "cell_type": "code",
   "execution_count": 7,
   "id": "8416e1fe-622b-4d29-914c-77dbfb4e3790",
   "metadata": {},
   "outputs": [
    {
     "data": {
      "text/plain": [
       "'python for data science'"
      ]
     },
     "execution_count": 7,
     "metadata": {},
     "output_type": "execute_result"
    }
   ],
   "source": [
    "a.lower()"
   ]
  },
  {
   "cell_type": "code",
   "execution_count": 8,
   "id": "09312936-c73d-4791-aee0-3594e59b213e",
   "metadata": {},
   "outputs": [
    {
     "data": {
      "text/plain": [
       "False"
      ]
     },
     "execution_count": 8,
     "metadata": {},
     "output_type": "execute_result"
    }
   ],
   "source": [
    "a.istitle()"
   ]
  },
  {
   "cell_type": "code",
   "execution_count": 10,
   "id": "2a7bc777-d4f0-4f08-b976-4bc822a0ac29",
   "metadata": {},
   "outputs": [
    {
     "data": {
      "text/plain": [
       "True"
      ]
     },
     "execution_count": 10,
     "metadata": {},
     "output_type": "execute_result"
    }
   ],
   "source": [
    "a.title().istitle()"
   ]
  },
  {
   "cell_type": "code",
   "execution_count": 11,
   "id": "ee9f132e-ca64-4cfe-b808-09b304270485",
   "metadata": {},
   "outputs": [],
   "source": [
    "# Los textos son inmutables. Estos metodos lo que hacen es crear un nuevo texto. \"a\" no cambia"
   ]
  },
  {
   "cell_type": "code",
   "execution_count": 12,
   "id": "aafdefd6-a314-4182-a4a0-11411c50623b",
   "metadata": {},
   "outputs": [
    {
     "data": {
      "text/plain": [
       "'python for DATA SCIENce'"
      ]
     },
     "execution_count": 12,
     "metadata": {},
     "output_type": "execute_result"
    }
   ],
   "source": [
    "a"
   ]
  },
  {
   "cell_type": "code",
   "execution_count": 14,
   "id": "e3606c42-18fc-4ebd-8423-9371ab18eac3",
   "metadata": {},
   "outputs": [
    {
     "name": "stdout",
     "output_type": "stream",
     "text": [
      "Help on built-in function count:\n",
      "\n",
      "count(...) method of builtins.str instance\n",
      "    S.count(sub[, start[, end]]) -> int\n",
      "    \n",
      "    Return the number of non-overlapping occurrences of substring sub in\n",
      "    string S[start:end].  Optional arguments start and end are\n",
      "    interpreted as in slice notation.\n",
      "\n"
     ]
    }
   ],
   "source": [
    "help(\"\".count)"
   ]
  },
  {
   "cell_type": "code",
   "execution_count": 15,
   "id": "45bfe98f-98f2-445a-a268-15b851d9c4b4",
   "metadata": {},
   "outputs": [
    {
     "data": {
      "text/plain": [
       "1"
      ]
     },
     "execution_count": 15,
     "metadata": {},
     "output_type": "execute_result"
    }
   ],
   "source": [
    "a.count(\"e\")"
   ]
  },
  {
   "cell_type": "code",
   "execution_count": 16,
   "id": "5dbc7d2c-ace9-472e-9a88-e27ab9d872a4",
   "metadata": {},
   "outputs": [
    {
     "data": {
      "text/plain": [
       "0"
      ]
     },
     "execution_count": 16,
     "metadata": {},
     "output_type": "execute_result"
    }
   ],
   "source": [
    "a.count(\"e\", 4, 9)"
   ]
  },
  {
   "cell_type": "code",
   "execution_count": 17,
   "id": "5d9b15e0-3cfa-4660-87e2-74f2c707e59d",
   "metadata": {},
   "outputs": [
    {
     "name": "stdout",
     "output_type": "stream",
     "text": [
      "Help on built-in function index:\n",
      "\n",
      "index(...) method of builtins.str instance\n",
      "    S.index(sub[, start[, end]]) -> int\n",
      "    \n",
      "    Return the lowest index in S where substring sub is found,\n",
      "    such that sub is contained within S[start:end].  Optional\n",
      "    arguments start and end are interpreted as in slice notation.\n",
      "    \n",
      "    Raises ValueError when the substring is not found.\n",
      "\n"
     ]
    }
   ],
   "source": [
    "help(\"\".index)"
   ]
  },
  {
   "cell_type": "code",
   "execution_count": 20,
   "id": "d01c36da-8c89-4032-88b5-9e7c9f8913a6",
   "metadata": {},
   "outputs": [
    {
     "data": {
      "text/plain": [
       "22"
      ]
     },
     "execution_count": 20,
     "metadata": {},
     "output_type": "execute_result"
    }
   ],
   "source": [
    "a.index(\"e\")"
   ]
  },
  {
   "cell_type": "code",
   "execution_count": 21,
   "id": "665b8842-4075-481e-8ade-281937ebef9f",
   "metadata": {},
   "outputs": [
    {
     "name": "stdout",
     "output_type": "stream",
     "text": [
      "Help on built-in function split:\n",
      "\n",
      "split(sep=None, maxsplit=-1) method of builtins.str instance\n",
      "    Return a list of the substrings in the string, using sep as the separator string.\n",
      "    \n",
      "      sep\n",
      "        The separator used to split the string.\n",
      "    \n",
      "        When set to None (the default value), will split on any whitespace\n",
      "        character (including \\n \\r \\t \\f and spaces) and will discard\n",
      "        empty strings from the result.\n",
      "      maxsplit\n",
      "        Maximum number of splits (starting from the left).\n",
      "        -1 (the default value) means no limit.\n",
      "    \n",
      "    Note, str.split() is mainly useful for data that has been intentionally\n",
      "    delimited.  With natural text that includes punctuation, consider using\n",
      "    the regular expression module.\n",
      "\n"
     ]
    }
   ],
   "source": [
    "help(\"\".split)"
   ]
  },
  {
   "cell_type": "code",
   "execution_count": 22,
   "id": "8fb8583f-fdad-4b81-9eb6-89e6cde87ff0",
   "metadata": {},
   "outputs": [
    {
     "data": {
      "text/plain": [
       "['python', 'for', 'DATA', 'SCIENce']"
      ]
     },
     "execution_count": 22,
     "metadata": {},
     "output_type": "execute_result"
    }
   ],
   "source": [
    "a.split()"
   ]
  },
  {
   "cell_type": "code",
   "execution_count": 24,
   "id": "225b2107-130d-433a-9f24-1c2051859318",
   "metadata": {},
   "outputs": [
    {
     "data": {
      "text/plain": [
       "['p', 'thon for DATA SCIENce']"
      ]
     },
     "execution_count": 24,
     "metadata": {},
     "output_type": "execute_result"
    }
   ],
   "source": [
    "a.split(\"y\")"
   ]
  },
  {
   "cell_type": "code",
   "execution_count": 25,
   "id": "b6de461d-8630-4176-8957-602c096998d4",
   "metadata": {},
   "outputs": [
    {
     "data": {
      "text/plain": [
       "['pyth', 'n f', 'r DATA SCIENce']"
      ]
     },
     "execution_count": 25,
     "metadata": {},
     "output_type": "execute_result"
    }
   ],
   "source": [
    "a.split(sep = \"o\")"
   ]
  },
  {
   "cell_type": "code",
   "execution_count": 26,
   "id": "1d496ee6-45d0-4e5a-92ad-6b61ff45bd9b",
   "metadata": {},
   "outputs": [
    {
     "name": "stdout",
     "output_type": "stream",
     "text": [
      "Help on built-in function join:\n",
      "\n",
      "join(iterable, /) method of builtins.str instance\n",
      "    Concatenate any number of strings.\n",
      "    \n",
      "    The string whose method is called is inserted in between each given string.\n",
      "    The result is returned as a new string.\n",
      "    \n",
      "    Example: '.'.join(['ab', 'pq', 'rs']) -> 'ab.pq.rs'\n",
      "\n"
     ]
    }
   ],
   "source": [
    "help(\"\".join)"
   ]
  },
  {
   "cell_type": "code",
   "execution_count": 29,
   "id": "c1355da6-a123-4823-827e-2d578ccb6cad",
   "metadata": {},
   "outputs": [
    {
     "data": {
      "text/plain": [
       "'a*bc*de'"
      ]
     },
     "execution_count": 29,
     "metadata": {},
     "output_type": "execute_result"
    }
   ],
   "source": [
    "\"*\".join([\"a\", \"bc\", \"de\"])"
   ]
  },
  {
   "cell_type": "code",
   "execution_count": 30,
   "id": "e29bf0e3-8efa-42cb-8164-667fcb2bf3b6",
   "metadata": {},
   "outputs": [
    {
     "data": {
      "text/plain": [
       "'aholabcholade'"
      ]
     },
     "execution_count": 30,
     "metadata": {},
     "output_type": "execute_result"
    }
   ],
   "source": [
    "\"hola\".join([\"a\", \"bc\", \"de\"])"
   ]
  },
  {
   "cell_type": "code",
   "execution_count": 31,
   "id": "3e9dc2d7-a156-4341-8e49-542b18dbbe5f",
   "metadata": {},
   "outputs": [],
   "source": [
    "a = \"python for data science\""
   ]
  },
  {
   "cell_type": "code",
   "execution_count": 35,
   "id": "90ea51e4-62f4-4735-a44f-a732346a6f15",
   "metadata": {},
   "outputs": [],
   "source": [
    "b = a.split()"
   ]
  },
  {
   "cell_type": "code",
   "execution_count": 36,
   "id": "8fd7fbb4-f9bf-4317-b966-5046dc3ed2cb",
   "metadata": {},
   "outputs": [
    {
     "data": {
      "text/plain": [
       "['python', 'for', 'data', 'science']"
      ]
     },
     "execution_count": 36,
     "metadata": {},
     "output_type": "execute_result"
    }
   ],
   "source": [
    "b"
   ]
  },
  {
   "cell_type": "code",
   "execution_count": 37,
   "id": "e8d5a024-e5c3-4c86-8daa-4a77d5ab085e",
   "metadata": {},
   "outputs": [],
   "source": [
    "c = \"*\".join(b)"
   ]
  },
  {
   "cell_type": "code",
   "execution_count": 38,
   "id": "418446ef-7ad8-4d83-a20a-b575d7057c97",
   "metadata": {},
   "outputs": [
    {
     "data": {
      "text/plain": [
       "'python*for*data*science'"
      ]
     },
     "execution_count": 38,
     "metadata": {},
     "output_type": "execute_result"
    }
   ],
   "source": [
    "c"
   ]
  },
  {
   "cell_type": "code",
   "execution_count": 39,
   "id": "c3018863-0acc-4f61-a4dc-41c56d2819b3",
   "metadata": {},
   "outputs": [
    {
     "data": {
      "text/plain": [
       "'python*for*data*science'"
      ]
     },
     "execution_count": 39,
     "metadata": {},
     "output_type": "execute_result"
    }
   ],
   "source": [
    "\"*\".join(a.split())"
   ]
  },
  {
   "cell_type": "code",
   "execution_count": 40,
   "id": "a8fb7542-41e1-4cdc-9681-a4fdcb1cc7b9",
   "metadata": {},
   "outputs": [
    {
     "name": "stdout",
     "output_type": "stream",
     "text": [
      "['__add__', '__class__', '__contains__', '__delattr__', '__dir__', '__doc__', '__eq__', '__format__', '__ge__', '__getattribute__', '__getitem__', '__getnewargs__', '__getstate__', '__gt__', '__hash__', '__init__', '__init_subclass__', '__iter__', '__le__', '__len__', '__lt__', '__mod__', '__mul__', '__ne__', '__new__', '__reduce__', '__reduce_ex__', '__repr__', '__rmod__', '__rmul__', '__setattr__', '__sizeof__', '__str__', '__subclasshook__', 'capitalize', 'casefold', 'center', 'count', 'encode', 'endswith', 'expandtabs', 'find', 'format', 'format_map', 'index', 'isalnum', 'isalpha', 'isascii', 'isdecimal', 'isdigit', 'isidentifier', 'islower', 'isnumeric', 'isprintable', 'isspace', 'istitle', 'isupper', 'join', 'ljust', 'lower', 'lstrip', 'maketrans', 'partition', 'removeprefix', 'removesuffix', 'replace', 'rfind', 'rindex', 'rjust', 'rpartition', 'rsplit', 'rstrip', 'split', 'splitlines', 'startswith', 'strip', 'swapcase', 'title', 'translate', 'upper', 'zfill']\n"
     ]
    }
   ],
   "source": [
    "print(dir(\"\"))"
   ]
  },
  {
   "cell_type": "code",
   "execution_count": 41,
   "id": "db69c563-8cfb-4f8c-bed6-a2d7b1ac8a0e",
   "metadata": {},
   "outputs": [
    {
     "name": "stdout",
     "output_type": "stream",
     "text": [
      "Help on built-in function replace:\n",
      "\n",
      "replace(old, new, count=-1, /) method of builtins.str instance\n",
      "    Return a copy with all occurrences of substring old replaced by new.\n",
      "    \n",
      "      count\n",
      "        Maximum number of occurrences to replace.\n",
      "        -1 (the default value) means replace all occurrences.\n",
      "    \n",
      "    If the optional argument count is given, only the first count occurrences are\n",
      "    replaced.\n",
      "\n"
     ]
    }
   ],
   "source": [
    "help(\"\".replace)"
   ]
  },
  {
   "cell_type": "code",
   "execution_count": 42,
   "id": "767be872-1735-437c-8741-19afa540a7a3",
   "metadata": {},
   "outputs": [],
   "source": [
    "s = \"mi gato y tu gata juegan con los gatitos del gato del vecino\""
   ]
  },
  {
   "cell_type": "code",
   "execution_count": 43,
   "id": "a05d370d-b2e7-4cac-918f-36c4947bb814",
   "metadata": {},
   "outputs": [
    {
     "data": {
      "text/plain": [
       "['mi',\n",
       " 'gato',\n",
       " 'y',\n",
       " 'tu',\n",
       " 'gata',\n",
       " 'juegan',\n",
       " 'con',\n",
       " 'los',\n",
       " 'gatitos',\n",
       " 'del',\n",
       " 'gato',\n",
       " 'del',\n",
       " 'vecino']"
      ]
     },
     "execution_count": 43,
     "metadata": {},
     "output_type": "execute_result"
    }
   ],
   "source": [
    "s.split()"
   ]
  },
  {
   "cell_type": "code",
   "execution_count": 44,
   "id": "4e4f5b13-299f-47e9-8c78-272e430dc9ee",
   "metadata": {},
   "outputs": [
    {
     "data": {
      "text/plain": [
       "'mi perro y tu perra juegan con los perritos del perro del vecino'"
      ]
     },
     "execution_count": 44,
     "metadata": {},
     "output_type": "execute_result"
    }
   ],
   "source": [
    "s.replace(\"gat\", \"perr\")"
   ]
  },
  {
   "cell_type": "code",
   "execution_count": 45,
   "id": "fcf808ab-9864-40f4-9af2-94385f417639",
   "metadata": {},
   "outputs": [
    {
     "data": {
      "text/plain": [
       "'mi perro y tu perra juegan con los gatitos del gato del vecino'"
      ]
     },
     "execution_count": 45,
     "metadata": {},
     "output_type": "execute_result"
    }
   ],
   "source": [
    "s.replace(\"gat\", \"perr\", 2)"
   ]
  },
  {
   "cell_type": "code",
   "execution_count": null,
   "id": "8b50a1e3-68b9-4693-ad1e-7dc051c4a856",
   "metadata": {},
   "outputs": [],
   "source": []
  },
  {
   "cell_type": "code",
   "execution_count": null,
   "id": "83cf2799-a176-4756-a6e7-4b183868e917",
   "metadata": {},
   "outputs": [],
   "source": []
  },
  {
   "cell_type": "code",
   "execution_count": null,
   "id": "f6adf7c8-c51b-4c50-98ea-857bf3446db3",
   "metadata": {},
   "outputs": [],
   "source": []
  },
  {
   "cell_type": "code",
   "execution_count": null,
   "id": "75e83982-d5d2-4fea-993d-05020a1e0292",
   "metadata": {},
   "outputs": [],
   "source": []
  },
  {
   "cell_type": "code",
   "execution_count": null,
   "id": "00e506c8-6213-472f-917a-5d556565596d",
   "metadata": {},
   "outputs": [],
   "source": []
  },
  {
   "cell_type": "code",
   "execution_count": null,
   "id": "91c57091-9b8c-40dd-bc93-59ad29775c67",
   "metadata": {},
   "outputs": [],
   "source": []
  },
  {
   "cell_type": "code",
   "execution_count": null,
   "id": "29aa87ed-f926-46dc-8b8a-1e43bdbcb200",
   "metadata": {},
   "outputs": [],
   "source": []
  }
 ],
 "metadata": {
  "kernelspec": {
   "display_name": "Python 3 (ipykernel)",
   "language": "python",
   "name": "python3"
  },
  "language_info": {
   "codemirror_mode": {
    "name": "ipython",
    "version": 3
   },
   "file_extension": ".py",
   "mimetype": "text/x-python",
   "name": "python",
   "nbconvert_exporter": "python",
   "pygments_lexer": "ipython3",
   "version": "3.11.7"
  }
 },
 "nbformat": 4,
 "nbformat_minor": 5
}
