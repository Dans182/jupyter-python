{
 "cells": [
  {
   "cell_type": "code",
   "execution_count": 1,
   "id": "c7ac9112-6268-4fba-b910-30a453ea0e7c",
   "metadata": {},
   "outputs": [
    {
     "name": "stdout",
     "output_type": "stream",
     "text": [
      "['In', 'Out', '_', '__', '___', '__builtin__', '__builtins__', '__doc__', '__loader__', '__name__', '__package__', '__session__', '__spec__', '_dh', '_i', '_i1', '_ih', '_ii', '_iii', '_oh', 'exit', 'get_ipython', 'open', 'quit']\n"
     ]
    }
   ],
   "source": [
    "print(dir())"
   ]
  },
  {
   "cell_type": "code",
   "execution_count": 2,
   "id": "89419d63-98bb-42d6-b72d-50134733e97f",
   "metadata": {},
   "outputs": [],
   "source": [
    "a = 1"
   ]
  },
  {
   "cell_type": "code",
   "execution_count": 3,
   "id": "2b881146-46ea-454d-a1c8-0a0a081fed17",
   "metadata": {},
   "outputs": [
    {
     "name": "stdout",
     "output_type": "stream",
     "text": [
      "['In', 'Out', '_', '__', '___', '__builtin__', '__builtins__', '__doc__', '__loader__', '__name__', '__package__', '__session__', '__spec__', '_dh', '_i', '_i1', '_i2', '_i3', '_ih', '_ii', '_iii', '_oh', 'a', 'exit', 'get_ipython', 'open', 'quit']\n"
     ]
    }
   ],
   "source": [
    "print(dir())"
   ]
  },
  {
   "cell_type": "code",
   "execution_count": 4,
   "id": "824eedba-190e-4bdc-b027-62593d379e26",
   "metadata": {},
   "outputs": [
    {
     "name": "stdout",
     "output_type": "stream",
     "text": [
      "['ArithmeticError', 'AssertionError', 'AttributeError', 'BaseException', 'BaseExceptionGroup', 'BlockingIOError', 'BrokenPipeError', 'BufferError', 'BytesWarning', 'ChildProcessError', 'ConnectionAbortedError', 'ConnectionError', 'ConnectionRefusedError', 'ConnectionResetError', 'DeprecationWarning', 'EOFError', 'Ellipsis', 'EncodingWarning', 'EnvironmentError', 'Exception', 'ExceptionGroup', 'False', 'FileExistsError', 'FileNotFoundError', 'FloatingPointError', 'FutureWarning', 'GeneratorExit', 'IOError', 'ImportError', 'ImportWarning', 'IndentationError', 'IndexError', 'InterruptedError', 'IsADirectoryError', 'KeyError', 'KeyboardInterrupt', 'LookupError', 'MemoryError', 'ModuleNotFoundError', 'NameError', 'None', 'NotADirectoryError', 'NotImplemented', 'NotImplementedError', 'OSError', 'OverflowError', 'PendingDeprecationWarning', 'PermissionError', 'ProcessLookupError', 'RecursionError', 'ReferenceError', 'ResourceWarning', 'RuntimeError', 'RuntimeWarning', 'StopAsyncIteration', 'StopIteration', 'SyntaxError', 'SyntaxWarning', 'SystemError', 'SystemExit', 'TabError', 'TimeoutError', 'True', 'TypeError', 'UnboundLocalError', 'UnicodeDecodeError', 'UnicodeEncodeError', 'UnicodeError', 'UnicodeTranslateError', 'UnicodeWarning', 'UserWarning', 'ValueError', 'Warning', 'WindowsError', 'ZeroDivisionError', '__IPYTHON__', '__build_class__', '__debug__', '__doc__', '__import__', '__loader__', '__name__', '__package__', '__spec__', 'abs', 'aiter', 'all', 'anext', 'any', 'ascii', 'bin', 'bool', 'breakpoint', 'bytearray', 'bytes', 'callable', 'chr', 'classmethod', 'compile', 'complex', 'copyright', 'credits', 'delattr', 'dict', 'dir', 'display', 'divmod', 'enumerate', 'eval', 'exec', 'execfile', 'filter', 'float', 'format', 'frozenset', 'get_ipython', 'getattr', 'globals', 'hasattr', 'hash', 'help', 'hex', 'id', 'input', 'int', 'isinstance', 'issubclass', 'iter', 'len', 'license', 'list', 'locals', 'map', 'max', 'memoryview', 'min', 'next', 'object', 'oct', 'open', 'ord', 'pow', 'print', 'property', 'range', 'repr', 'reversed', 'round', 'runfile', 'set', 'setattr', 'slice', 'sorted', 'staticmethod', 'str', 'sum', 'super', 'tuple', 'type', 'vars', 'zip']\n"
     ]
    }
   ],
   "source": [
    "print(dir(__builtins__)) #libreria integrada de python"
   ]
  },
  {
   "cell_type": "code",
   "execution_count": 5,
   "id": "6030ba23-b871-4960-a68c-319925a903c0",
   "metadata": {},
   "outputs": [
    {
     "name": "stdout",
     "output_type": "stream",
     "text": [
      "['__add__', '__class__', '__contains__', '__delattr__', '__dir__', '__doc__', '__eq__', '__format__', '__ge__', '__getattribute__', '__getitem__', '__getnewargs__', '__getstate__', '__gt__', '__hash__', '__init__', '__init_subclass__', '__iter__', '__le__', '__len__', '__lt__', '__mod__', '__mul__', '__ne__', '__new__', '__reduce__', '__reduce_ex__', '__repr__', '__rmod__', '__rmul__', '__setattr__', '__sizeof__', '__str__', '__subclasshook__', 'capitalize', 'casefold', 'center', 'count', 'encode', 'endswith', 'expandtabs', 'find', 'format', 'format_map', 'index', 'isalnum', 'isalpha', 'isascii', 'isdecimal', 'isdigit', 'isidentifier', 'islower', 'isnumeric', 'isprintable', 'isspace', 'istitle', 'isupper', 'join', 'ljust', 'lower', 'lstrip', 'maketrans', 'partition', 'removeprefix', 'removesuffix', 'replace', 'rfind', 'rindex', 'rjust', 'rpartition', 'rsplit', 'rstrip', 'split', 'splitlines', 'startswith', 'strip', 'swapcase', 'title', 'translate', 'upper', 'zfill']\n"
     ]
    }
   ],
   "source": [
    "print(dir(\"hola\")) #Me muestra todo el directorio de nombres del tipo de dato de \"hola\" O sea, de un str"
   ]
  },
  {
   "cell_type": "code",
   "execution_count": 6,
   "id": "a74b5441-33a6-481a-a189-169c771ef23e",
   "metadata": {},
   "outputs": [
    {
     "name": "stdout",
     "output_type": "stream",
     "text": [
      "Circulo creado. El radio es: 4\n"
     ]
    },
    {
     "data": {
      "text/plain": [
       "39.47840117785601"
      ]
     },
     "execution_count": 6,
     "metadata": {},
     "output_type": "execute_result"
    }
   ],
   "source": [
    "class Circulo:\n",
    "\n",
    "    pi = 3.141592\n",
    "    \n",
    "    def __init__(self, radio): #nombres reservados (dobles guiones)\n",
    "        self.radio = radio\n",
    "        print(\"Circulo creado.\", \"El radio es:\", radio)\n",
    "\n",
    "    def area(self):\n",
    "        return self.radio * Circulo.pi ** 2 \n",
    "\n",
    "        \n",
    "c = Circulo(radio = 4) #Instanciando la clase. Creando un objeto, a partir de una clase\n",
    "c.area()"
   ]
  },
  {
   "cell_type": "code",
   "execution_count": 7,
   "id": "caca43d0-cb66-4559-8fa2-a2c5eda92b92",
   "metadata": {},
   "outputs": [
    {
     "name": "stdout",
     "output_type": "stream",
     "text": [
      "<__main__.Circulo object at 0x0000022BB29D34D0>\n"
     ]
    }
   ],
   "source": [
    "print(c)"
   ]
  },
  {
   "cell_type": "code",
   "execution_count": 8,
   "id": "0f75fc60-5148-463c-9d4d-0e4893b77938",
   "metadata": {},
   "outputs": [
    {
     "data": {
      "text/plain": [
       "39.47840117785601"
      ]
     },
     "execution_count": 8,
     "metadata": {},
     "output_type": "execute_result"
    }
   ],
   "source": [
    "c.area()"
   ]
  },
  {
   "cell_type": "code",
   "execution_count": 9,
   "id": "17817a4e-2a6b-4077-9e39-d9c486b9cbaa",
   "metadata": {},
   "outputs": [],
   "source": [
    "#Primero hay que instanciar una clase antes de hacer uso de las funcionalidades de ella"
   ]
  },
  {
   "cell_type": "code",
   "execution_count": 10,
   "id": "0916a0c2-6399-49b6-9d84-7a3105f4acf1",
   "metadata": {},
   "outputs": [],
   "source": [
    "def area(radio):\n",
    "    return 3.141592 * radio ** 2\n",
    "    "
   ]
  },
  {
   "cell_type": "code",
   "execution_count": 11,
   "id": "0031bf1c-4ce9-478c-937b-64b375efcbac",
   "metadata": {},
   "outputs": [
    {
     "data": {
      "text/plain": [
       "113.097312"
      ]
     },
     "execution_count": 11,
     "metadata": {},
     "output_type": "execute_result"
    }
   ],
   "source": [
    "area(6)"
   ]
  },
  {
   "cell_type": "code",
   "execution_count": 12,
   "id": "84f5e8d3-3e3c-4889-aac5-2047e5e4083f",
   "metadata": {},
   "outputs": [],
   "source": [
    "class Circulo:\n",
    "\n",
    "    pi = 3.141592\n",
    "    \n",
    "    def __init__(self, radio): #nombres reservados (dobles guiones)\n",
    "        self.radio = radio\n",
    "        print(\"Circulo creado.\", \"El radio es:\", radio)\n",
    "\n",
    "    def area(self):\n",
    "        return self.radio * Circulo.pi ** 2\n",
    "\n",
    "    def __del__(self):\n",
    "        print(\"Circulo eliminado\")\n",
    "\n",
    "    def __str__(self):\n",
    "        return \"Circulo de radio \" + str(self.radio) #Con este metodo, veo un msj de confirmación al hacer el print sobre el objeto que se crea\n",
    "        #a partir de la clase Circulo. Si lo hiciera sin sobreescribir el metodo, solo me mostraria el segmento de memoria"
   ]
  },
  {
   "cell_type": "code",
   "execution_count": 13,
   "id": "de7415f9-26ed-4279-8e91-d01100529b74",
   "metadata": {},
   "outputs": [
    {
     "name": "stdout",
     "output_type": "stream",
     "text": [
      "['__class__', '__del__', '__delattr__', '__dict__', '__dir__', '__doc__', '__eq__', '__format__', '__ge__', '__getattribute__', '__getstate__', '__gt__', '__hash__', '__init__', '__init_subclass__', '__le__', '__lt__', '__module__', '__ne__', '__new__', '__reduce__', '__reduce_ex__', '__repr__', '__setattr__', '__sizeof__', '__str__', '__subclasshook__', '__weakref__', 'area', 'pi']\n"
     ]
    }
   ],
   "source": [
    "print(dir(Circulo)) #Si los metodos no tienen \"_\" o \"__\" son publicos, y por ende forman parte de la interfaz publica y aparecen \n",
    "#abajo"
   ]
  },
  {
   "cell_type": "code",
   "execution_count": 14,
   "id": "323cb64f-20d4-4326-92d7-b01505313dfc",
   "metadata": {},
   "outputs": [],
   "source": [
    "# dunder methods = Double underscores"
   ]
  },
  {
   "cell_type": "code",
   "execution_count": 15,
   "id": "e5bb3d1d-15af-41ef-9105-bba43f2beebe",
   "metadata": {},
   "outputs": [
    {
     "data": {
      "text/plain": [
       "<__main__.Circulo at 0x22bb29d34d0>"
      ]
     },
     "execution_count": 15,
     "metadata": {},
     "output_type": "execute_result"
    }
   ],
   "source": [
    "c"
   ]
  },
  {
   "cell_type": "code",
   "execution_count": 16,
   "id": "f4a8ac8f-ed12-4fa2-acb6-5be620ac8605",
   "metadata": {},
   "outputs": [],
   "source": [
    "del(c)"
   ]
  },
  {
   "cell_type": "code",
   "execution_count": 17,
   "id": "b248ff9b-99ce-4265-934d-3807368e8bd4",
   "metadata": {},
   "outputs": [
    {
     "name": "stdout",
     "output_type": "stream",
     "text": [
      "Circulo creado. El radio es: 8\n"
     ]
    }
   ],
   "source": [
    "c = Circulo(8)"
   ]
  },
  {
   "cell_type": "code",
   "execution_count": 18,
   "id": "e4e9a3fb-3f4b-4828-8295-1967408a8fd5",
   "metadata": {},
   "outputs": [
    {
     "name": "stdout",
     "output_type": "stream",
     "text": [
      "Circulo de radio 8\n"
     ]
    }
   ],
   "source": [
    "print(c)"
   ]
  },
  {
   "cell_type": "code",
   "execution_count": 19,
   "id": "0001dddb-05bf-4f72-b83a-96448dda7789",
   "metadata": {},
   "outputs": [
    {
     "name": "stdout",
     "output_type": "stream",
     "text": [
      "['__class__', '__del__', '__delattr__', '__dict__', '__dir__', '__doc__', '__eq__', '__format__', '__ge__', '__getattribute__', '__getstate__', '__gt__', '__hash__', '__init__', '__init_subclass__', '__le__', '__lt__', '__module__', '__ne__', '__new__', '__reduce__', '__reduce_ex__', '__repr__', '__setattr__', '__sizeof__', '__str__', '__subclasshook__', '__weakref__', 'area', 'pi']\n"
     ]
    }
   ],
   "source": [
    "print(dir(Circulo))"
   ]
  },
  {
   "cell_type": "code",
   "execution_count": 20,
   "id": "fb265a5d-a7d8-4ae9-8f66-42905a70a484",
   "metadata": {},
   "outputs": [
    {
     "name": "stdout",
     "output_type": "stream",
     "text": [
      "['__class__', '__del__', '__delattr__', '__dict__', '__dir__', '__doc__', '__eq__', '__format__', '__ge__', '__getattribute__', '__getstate__', '__gt__', '__hash__', '__init__', '__init_subclass__', '__le__', '__lt__', '__module__', '__ne__', '__new__', '__reduce__', '__reduce_ex__', '__repr__', '__setattr__', '__sizeof__', '__str__', '__subclasshook__', '__weakref__', 'area', 'pi', 'radio']\n"
     ]
    }
   ],
   "source": [
    "print(dir(c))"
   ]
  },
  {
   "cell_type": "code",
   "execution_count": 21,
   "id": "bcf88cfd-0b82-42e2-a5c2-dd3bc3afc2c1",
   "metadata": {},
   "outputs": [],
   "source": [
    "# En el objeto aparece el atributo que la clase no tiene. O sea, en la clase no está radio y en el objeto si"
   ]
  },
  {
   "cell_type": "code",
   "execution_count": null,
   "id": "1bd99e42-27c6-4418-9b07-d54093edef78",
   "metadata": {},
   "outputs": [],
   "source": []
  },
  {
   "cell_type": "markdown",
   "id": "9da298cb-5d52-4f36-ae6c-3a6cbd8980da",
   "metadata": {},
   "source": [
    "# Tipos simples"
   ]
  },
  {
   "cell_type": "code",
   "execution_count": 22,
   "id": "4b43d28d-38b0-447d-a052-e965e0c45416",
   "metadata": {},
   "outputs": [
    {
     "name": "stdout",
     "output_type": "stream",
     "text": [
      "['__abs__', '__add__', '__and__', '__bool__', '__ceil__', '__class__', '__delattr__', '__dir__', '__divmod__', '__doc__', '__eq__', '__float__', '__floor__', '__floordiv__', '__format__', '__ge__', '__getattribute__', '__getnewargs__', '__getstate__', '__gt__', '__hash__', '__index__', '__init__', '__init_subclass__', '__int__', '__invert__', '__le__', '__lshift__', '__lt__', '__mod__', '__mul__', '__ne__', '__neg__', '__new__', '__or__', '__pos__', '__pow__', '__radd__', '__rand__', '__rdivmod__', '__reduce__', '__reduce_ex__', '__repr__', '__rfloordiv__', '__rlshift__', '__rmod__', '__rmul__', '__ror__', '__round__', '__rpow__', '__rrshift__', '__rshift__', '__rsub__', '__rtruediv__', '__rxor__', '__setattr__', '__sizeof__', '__str__', '__sub__', '__subclasshook__', '__truediv__', '__trunc__', '__xor__', 'as_integer_ratio', 'bit_count', 'bit_length', 'conjugate', 'denominator', 'from_bytes', 'imag', 'numerator', 'real', 'to_bytes']\n"
     ]
    }
   ],
   "source": [
    "print(dir(int)) #espacio de nombres de una clase"
   ]
  },
  {
   "cell_type": "code",
   "execution_count": 23,
   "id": "5a2014a9-e9c5-4228-869c-cbfbe2161636",
   "metadata": {},
   "outputs": [
    {
     "name": "stdout",
     "output_type": "stream",
     "text": [
      "['__abs__', '__add__', '__and__', '__bool__', '__ceil__', '__class__', '__delattr__', '__dir__', '__divmod__', '__doc__', '__eq__', '__float__', '__floor__', '__floordiv__', '__format__', '__ge__', '__getattribute__', '__getnewargs__', '__getstate__', '__gt__', '__hash__', '__index__', '__init__', '__init_subclass__', '__int__', '__invert__', '__le__', '__lshift__', '__lt__', '__mod__', '__mul__', '__ne__', '__neg__', '__new__', '__or__', '__pos__', '__pow__', '__radd__', '__rand__', '__rdivmod__', '__reduce__', '__reduce_ex__', '__repr__', '__rfloordiv__', '__rlshift__', '__rmod__', '__rmul__', '__ror__', '__round__', '__rpow__', '__rrshift__', '__rshift__', '__rsub__', '__rtruediv__', '__rxor__', '__setattr__', '__sizeof__', '__str__', '__sub__', '__subclasshook__', '__truediv__', '__trunc__', '__xor__', 'as_integer_ratio', 'bit_count', 'bit_length', 'conjugate', 'denominator', 'from_bytes', 'imag', 'numerator', 'real', 'to_bytes']\n"
     ]
    }
   ],
   "source": [
    "print(dir(12)) #espacio de nombres de un objeto"
   ]
  },
  {
   "cell_type": "code",
   "execution_count": null,
   "id": "6db4a2f1-b6d1-465e-aff9-71200299ed9e",
   "metadata": {},
   "outputs": [],
   "source": []
  },
  {
   "cell_type": "markdown",
   "id": "53a1b820-abac-46be-a971-c2f2b644f201",
   "metadata": {},
   "source": [
    "# Numeros reales"
   ]
  },
  {
   "cell_type": "code",
   "execution_count": 24,
   "id": "e8cca477-059f-4c2e-ac1b-30c416b4f333",
   "metadata": {},
   "outputs": [
    {
     "name": "stdout",
     "output_type": "stream",
     "text": [
      "['__abs__', '__add__', '__bool__', '__ceil__', '__class__', '__delattr__', '__dir__', '__divmod__', '__doc__', '__eq__', '__float__', '__floor__', '__floordiv__', '__format__', '__ge__', '__getattribute__', '__getformat__', '__getnewargs__', '__getstate__', '__gt__', '__hash__', '__init__', '__init_subclass__', '__int__', '__le__', '__lt__', '__mod__', '__mul__', '__ne__', '__neg__', '__new__', '__pos__', '__pow__', '__radd__', '__rdivmod__', '__reduce__', '__reduce_ex__', '__repr__', '__rfloordiv__', '__rmod__', '__rmul__', '__round__', '__rpow__', '__rsub__', '__rtruediv__', '__setattr__', '__sizeof__', '__str__', '__sub__', '__subclasshook__', '__truediv__', '__trunc__', 'as_integer_ratio', 'conjugate', 'fromhex', 'hex', 'imag', 'is_integer', 'real']\n"
     ]
    }
   ],
   "source": [
    "print(dir(float))"
   ]
  },
  {
   "cell_type": "code",
   "execution_count": 25,
   "id": "09e1d9ff-7192-4be8-8d4e-3b47fc7e9342",
   "metadata": {},
   "outputs": [],
   "source": [
    "a = 3.14"
   ]
  },
  {
   "cell_type": "code",
   "execution_count": 26,
   "id": "d90c145a-7184-4e7b-a6df-b597ce9fce47",
   "metadata": {},
   "outputs": [
    {
     "data": {
      "text/plain": [
       "3.14"
      ]
     },
     "execution_count": 26,
     "metadata": {},
     "output_type": "execute_result"
    }
   ],
   "source": [
    "a.real"
   ]
  },
  {
   "cell_type": "code",
   "execution_count": 27,
   "id": "347a3034-13f3-48fc-858b-24dd971cd5df",
   "metadata": {},
   "outputs": [
    {
     "data": {
      "text/plain": [
       "0.0"
      ]
     },
     "execution_count": 27,
     "metadata": {},
     "output_type": "execute_result"
    }
   ],
   "source": [
    "a.imag"
   ]
  },
  {
   "cell_type": "code",
   "execution_count": null,
   "id": "c84a61dd-3a07-4710-8218-23c83df7fc27",
   "metadata": {},
   "outputs": [],
   "source": []
  },
  {
   "cell_type": "markdown",
   "id": "894082c4-a539-451a-ad1f-490836400f68",
   "metadata": {},
   "source": [
    "# Numeros Complejos"
   ]
  },
  {
   "cell_type": "code",
   "execution_count": 28,
   "id": "703f2dcb-856c-44aa-afbf-567ef02f5aab",
   "metadata": {},
   "outputs": [],
   "source": [
    "b = 4 - 7j"
   ]
  },
  {
   "cell_type": "code",
   "execution_count": 29,
   "id": "3bd1a1d9-c34a-442b-9c79-b96ccb78a950",
   "metadata": {},
   "outputs": [
    {
     "data": {
      "text/plain": [
       "4.0"
      ]
     },
     "execution_count": 29,
     "metadata": {},
     "output_type": "execute_result"
    }
   ],
   "source": [
    "b.real"
   ]
  },
  {
   "cell_type": "code",
   "execution_count": 30,
   "id": "ab43ad38-0df6-42e1-98a9-3c4d90033fbf",
   "metadata": {},
   "outputs": [
    {
     "data": {
      "text/plain": [
       "-7.0"
      ]
     },
     "execution_count": 30,
     "metadata": {},
     "output_type": "execute_result"
    }
   ],
   "source": [
    "b.imag"
   ]
  },
  {
   "cell_type": "code",
   "execution_count": null,
   "id": "8ee10e33-cc44-44ba-9efb-ac0e8efa622a",
   "metadata": {},
   "outputs": [],
   "source": []
  },
  {
   "cell_type": "markdown",
   "id": "d5c3dbc3-48b1-4809-a67c-d3fc63b11e6c",
   "metadata": {},
   "source": [
    "# Booleanos"
   ]
  },
  {
   "cell_type": "code",
   "execution_count": 31,
   "id": "ec4d8910-d505-48a5-b7bb-da6e5b6bbc72",
   "metadata": {},
   "outputs": [
    {
     "name": "stdout",
     "output_type": "stream",
     "text": [
      "['__abs__', '__add__', '__and__', '__bool__', '__ceil__', '__class__', '__delattr__', '__dir__', '__divmod__', '__doc__', '__eq__', '__float__', '__floor__', '__floordiv__', '__format__', '__ge__', '__getattribute__', '__getnewargs__', '__getstate__', '__gt__', '__hash__', '__index__', '__init__', '__init_subclass__', '__int__', '__invert__', '__le__', '__lshift__', '__lt__', '__mod__', '__mul__', '__ne__', '__neg__', '__new__', '__or__', '__pos__', '__pow__', '__radd__', '__rand__', '__rdivmod__', '__reduce__', '__reduce_ex__', '__repr__', '__rfloordiv__', '__rlshift__', '__rmod__', '__rmul__', '__ror__', '__round__', '__rpow__', '__rrshift__', '__rshift__', '__rsub__', '__rtruediv__', '__rxor__', '__setattr__', '__sizeof__', '__str__', '__sub__', '__subclasshook__', '__truediv__', '__trunc__', '__xor__', 'as_integer_ratio', 'bit_count', 'bit_length', 'conjugate', 'denominator', 'from_bytes', 'imag', 'numerator', 'real', 'to_bytes']\n"
     ]
    }
   ],
   "source": [
    "print(dir(bool))"
   ]
  },
  {
   "cell_type": "code",
   "execution_count": null,
   "id": "a1fc2ae3-2d18-436f-b363-c4c9fc79e9f6",
   "metadata": {},
   "outputs": [],
   "source": []
  },
  {
   "cell_type": "markdown",
   "id": "f68df81c-303e-424f-a98e-2c885779d105",
   "metadata": {},
   "source": [
    "# Textos"
   ]
  },
  {
   "cell_type": "code",
   "execution_count": 32,
   "id": "8a15ff19-bbf7-47e6-bf0a-26a044eeb63a",
   "metadata": {},
   "outputs": [
    {
     "name": "stdout",
     "output_type": "stream",
     "text": [
      "['__add__', '__class__', '__contains__', '__delattr__', '__dir__', '__doc__', '__eq__', '__format__', '__ge__', '__getattribute__', '__getitem__', '__getnewargs__', '__getstate__', '__gt__', '__hash__', '__init__', '__init_subclass__', '__iter__', '__le__', '__len__', '__lt__', '__mod__', '__mul__', '__ne__', '__new__', '__reduce__', '__reduce_ex__', '__repr__', '__rmod__', '__rmul__', '__setattr__', '__sizeof__', '__str__', '__subclasshook__', 'capitalize', 'casefold', 'center', 'count', 'encode', 'endswith', 'expandtabs', 'find', 'format', 'format_map', 'index', 'isalnum', 'isalpha', 'isascii', 'isdecimal', 'isdigit', 'isidentifier', 'islower', 'isnumeric', 'isprintable', 'isspace', 'istitle', 'isupper', 'join', 'ljust', 'lower', 'lstrip', 'maketrans', 'partition', 'removeprefix', 'removesuffix', 'replace', 'rfind', 'rindex', 'rjust', 'rpartition', 'rsplit', 'rstrip', 'split', 'splitlines', 'startswith', 'strip', 'swapcase', 'title', 'translate', 'upper', 'zfill']\n"
     ]
    }
   ],
   "source": [
    "print(dir(str)) #str es el nombre de la clase"
   ]
  },
  {
   "cell_type": "code",
   "execution_count": 33,
   "id": "cc4b35a1-9840-43ee-bbfd-61ae837d3107",
   "metadata": {},
   "outputs": [],
   "source": [
    "a = \"python for DATA SCIENce\""
   ]
  },
  {
   "cell_type": "code",
   "execution_count": 34,
   "id": "1aa7dcec-a2bb-434c-9bcf-acbf0c8a4e12",
   "metadata": {},
   "outputs": [
    {
     "data": {
      "text/plain": [
       "'PYTHON FOR DATA SCIENCE'"
      ]
     },
     "execution_count": 34,
     "metadata": {},
     "output_type": "execute_result"
    }
   ],
   "source": [
    "a.upper()"
   ]
  },
  {
   "cell_type": "code",
   "execution_count": 35,
   "id": "5e0405b9-8db0-40b6-a194-f90ff6df0229",
   "metadata": {},
   "outputs": [
    {
     "data": {
      "text/plain": [
       "'python for data science'"
      ]
     },
     "execution_count": 35,
     "metadata": {},
     "output_type": "execute_result"
    }
   ],
   "source": [
    "\"python for DATA SCIENce\".lower()"
   ]
  },
  {
   "cell_type": "code",
   "execution_count": 36,
   "id": "44d32c84-f68a-4c67-8bc5-47eef07b9d12",
   "metadata": {},
   "outputs": [
    {
     "data": {
      "text/plain": [
       "'Python For Data Science'"
      ]
     },
     "execution_count": 36,
     "metadata": {},
     "output_type": "execute_result"
    }
   ],
   "source": [
    "a.title()"
   ]
  },
  {
   "cell_type": "code",
   "execution_count": 37,
   "id": "358c3d66-2a78-4742-a08f-194524f8665d",
   "metadata": {},
   "outputs": [
    {
     "data": {
      "text/plain": [
       "' La diferencia en la sintaxis entre a.imag y b.upper() se debe a la naturaleza de los atributos y los métodos en Python.\\n\\n    En el caso de a.imag, imag es un atributo de la clase float. Al acceder a este atributo, no necesitas usar paréntesis porque no estás invocando una función o método, simplemente estás accediendo a un valor que ya está almacenado dentro del objeto float.\\n\\n    Por otro lado, b.upper() es un método de la clase str. Los métodos son funciones que están asociadas a un objeto y generalmente actúan sobre los datos contenidos en ese objeto. Cuando llamas a un método, necesitas usar paréntesis para indicar que estás invocando una función.\\n\\nEntonces, para resumir, en el primer caso estás accediendo a un atributo y en el segundo caso estás invocando un método, por eso la diferencia en la sintaxis.'"
      ]
     },
     "execution_count": 37,
     "metadata": {},
     "output_type": "execute_result"
    }
   ],
   "source": [
    "\"\"\" La diferencia en la sintaxis entre a.imag y b.upper() se debe a la naturaleza de los atributos y los métodos en Python.\n",
    "\n",
    "    En el caso de a.imag, imag es un atributo de la clase float. Al acceder a este atributo, no necesitas usar paréntesis porque no estás invocando una función o método, simplemente estás accediendo a un valor que ya está almacenado dentro del objeto float.\n",
    "\n",
    "    Por otro lado, b.upper() es un método de la clase str. Los métodos son funciones que están asociadas a un objeto y generalmente actúan sobre los datos contenidos en ese objeto. Cuando llamas a un método, necesitas usar paréntesis para indicar que estás invocando una función.\n",
    "\n",
    "Entonces, para resumir, en el primer caso estás accediendo a un atributo y en el segundo caso estás invocando un método, por eso la diferencia en la sintaxis.\"\"\""
   ]
  },
  {
   "cell_type": "code",
   "execution_count": 38,
   "id": "8416e1fe-622b-4d29-914c-77dbfb4e3790",
   "metadata": {},
   "outputs": [
    {
     "data": {
      "text/plain": [
       "'python for data science'"
      ]
     },
     "execution_count": 38,
     "metadata": {},
     "output_type": "execute_result"
    }
   ],
   "source": [
    "a.lower()"
   ]
  },
  {
   "cell_type": "code",
   "execution_count": 39,
   "id": "09312936-c73d-4791-aee0-3594e59b213e",
   "metadata": {},
   "outputs": [
    {
     "data": {
      "text/plain": [
       "False"
      ]
     },
     "execution_count": 39,
     "metadata": {},
     "output_type": "execute_result"
    }
   ],
   "source": [
    "a.istitle()"
   ]
  },
  {
   "cell_type": "code",
   "execution_count": 40,
   "id": "2a7bc777-d4f0-4f08-b976-4bc822a0ac29",
   "metadata": {},
   "outputs": [
    {
     "data": {
      "text/plain": [
       "True"
      ]
     },
     "execution_count": 40,
     "metadata": {},
     "output_type": "execute_result"
    }
   ],
   "source": [
    "a.title().istitle()"
   ]
  },
  {
   "cell_type": "code",
   "execution_count": 41,
   "id": "ee9f132e-ca64-4cfe-b808-09b304270485",
   "metadata": {},
   "outputs": [],
   "source": [
    "# Los textos son inmutables. Estos metodos lo que hacen es crear un nuevo texto. \"a\" no cambia"
   ]
  },
  {
   "cell_type": "code",
   "execution_count": 42,
   "id": "aafdefd6-a314-4182-a4a0-11411c50623b",
   "metadata": {},
   "outputs": [
    {
     "data": {
      "text/plain": [
       "'python for DATA SCIENce'"
      ]
     },
     "execution_count": 42,
     "metadata": {},
     "output_type": "execute_result"
    }
   ],
   "source": [
    "a"
   ]
  },
  {
   "cell_type": "code",
   "execution_count": 43,
   "id": "e3606c42-18fc-4ebd-8423-9371ab18eac3",
   "metadata": {},
   "outputs": [
    {
     "name": "stdout",
     "output_type": "stream",
     "text": [
      "Help on built-in function count:\n",
      "\n",
      "count(...) method of builtins.str instance\n",
      "    S.count(sub[, start[, end]]) -> int\n",
      "    \n",
      "    Return the number of non-overlapping occurrences of substring sub in\n",
      "    string S[start:end].  Optional arguments start and end are\n",
      "    interpreted as in slice notation.\n",
      "\n"
     ]
    }
   ],
   "source": [
    "help(\"\".count)"
   ]
  },
  {
   "cell_type": "code",
   "execution_count": 44,
   "id": "45bfe98f-98f2-445a-a268-15b851d9c4b4",
   "metadata": {},
   "outputs": [
    {
     "data": {
      "text/plain": [
       "1"
      ]
     },
     "execution_count": 44,
     "metadata": {},
     "output_type": "execute_result"
    }
   ],
   "source": [
    "a.count(\"e\")"
   ]
  },
  {
   "cell_type": "code",
   "execution_count": 45,
   "id": "5dbc7d2c-ace9-472e-9a88-e27ab9d872a4",
   "metadata": {},
   "outputs": [
    {
     "data": {
      "text/plain": [
       "0"
      ]
     },
     "execution_count": 45,
     "metadata": {},
     "output_type": "execute_result"
    }
   ],
   "source": [
    "a.count(\"e\", 4, 9)"
   ]
  },
  {
   "cell_type": "code",
   "execution_count": 46,
   "id": "5d9b15e0-3cfa-4660-87e2-74f2c707e59d",
   "metadata": {},
   "outputs": [
    {
     "name": "stdout",
     "output_type": "stream",
     "text": [
      "Help on built-in function index:\n",
      "\n",
      "index(...) method of builtins.str instance\n",
      "    S.index(sub[, start[, end]]) -> int\n",
      "    \n",
      "    Return the lowest index in S where substring sub is found,\n",
      "    such that sub is contained within S[start:end].  Optional\n",
      "    arguments start and end are interpreted as in slice notation.\n",
      "    \n",
      "    Raises ValueError when the substring is not found.\n",
      "\n"
     ]
    }
   ],
   "source": [
    "help(\"\".index)"
   ]
  },
  {
   "cell_type": "code",
   "execution_count": 47,
   "id": "d01c36da-8c89-4032-88b5-9e7c9f8913a6",
   "metadata": {},
   "outputs": [
    {
     "data": {
      "text/plain": [
       "22"
      ]
     },
     "execution_count": 47,
     "metadata": {},
     "output_type": "execute_result"
    }
   ],
   "source": [
    "a.index(\"e\")"
   ]
  },
  {
   "cell_type": "code",
   "execution_count": 48,
   "id": "665b8842-4075-481e-8ade-281937ebef9f",
   "metadata": {},
   "outputs": [
    {
     "name": "stdout",
     "output_type": "stream",
     "text": [
      "Help on built-in function split:\n",
      "\n",
      "split(sep=None, maxsplit=-1) method of builtins.str instance\n",
      "    Return a list of the substrings in the string, using sep as the separator string.\n",
      "    \n",
      "      sep\n",
      "        The separator used to split the string.\n",
      "    \n",
      "        When set to None (the default value), will split on any whitespace\n",
      "        character (including \\n \\r \\t \\f and spaces) and will discard\n",
      "        empty strings from the result.\n",
      "      maxsplit\n",
      "        Maximum number of splits (starting from the left).\n",
      "        -1 (the default value) means no limit.\n",
      "    \n",
      "    Note, str.split() is mainly useful for data that has been intentionally\n",
      "    delimited.  With natural text that includes punctuation, consider using\n",
      "    the regular expression module.\n",
      "\n"
     ]
    }
   ],
   "source": [
    "help(\"\".split)"
   ]
  },
  {
   "cell_type": "code",
   "execution_count": 49,
   "id": "8fb8583f-fdad-4b81-9eb6-89e6cde87ff0",
   "metadata": {},
   "outputs": [
    {
     "data": {
      "text/plain": [
       "['python', 'for', 'DATA', 'SCIENce']"
      ]
     },
     "execution_count": 49,
     "metadata": {},
     "output_type": "execute_result"
    }
   ],
   "source": [
    "a.split()"
   ]
  },
  {
   "cell_type": "code",
   "execution_count": 50,
   "id": "225b2107-130d-433a-9f24-1c2051859318",
   "metadata": {},
   "outputs": [
    {
     "data": {
      "text/plain": [
       "['p', 'thon for DATA SCIENce']"
      ]
     },
     "execution_count": 50,
     "metadata": {},
     "output_type": "execute_result"
    }
   ],
   "source": [
    "a.split(\"y\")"
   ]
  },
  {
   "cell_type": "code",
   "execution_count": 51,
   "id": "b6de461d-8630-4176-8957-602c096998d4",
   "metadata": {},
   "outputs": [
    {
     "data": {
      "text/plain": [
       "['pyth', 'n f', 'r DATA SCIENce']"
      ]
     },
     "execution_count": 51,
     "metadata": {},
     "output_type": "execute_result"
    }
   ],
   "source": [
    "a.split(sep = \"o\")"
   ]
  },
  {
   "cell_type": "code",
   "execution_count": 52,
   "id": "1d496ee6-45d0-4e5a-92ad-6b61ff45bd9b",
   "metadata": {},
   "outputs": [
    {
     "name": "stdout",
     "output_type": "stream",
     "text": [
      "Help on built-in function join:\n",
      "\n",
      "join(iterable, /) method of builtins.str instance\n",
      "    Concatenate any number of strings.\n",
      "    \n",
      "    The string whose method is called is inserted in between each given string.\n",
      "    The result is returned as a new string.\n",
      "    \n",
      "    Example: '.'.join(['ab', 'pq', 'rs']) -> 'ab.pq.rs'\n",
      "\n"
     ]
    }
   ],
   "source": [
    "help(\"\".join)"
   ]
  },
  {
   "cell_type": "code",
   "execution_count": 53,
   "id": "c1355da6-a123-4823-827e-2d578ccb6cad",
   "metadata": {},
   "outputs": [
    {
     "data": {
      "text/plain": [
       "'a*bc*de'"
      ]
     },
     "execution_count": 53,
     "metadata": {},
     "output_type": "execute_result"
    }
   ],
   "source": [
    "\"*\".join([\"a\", \"bc\", \"de\"])"
   ]
  },
  {
   "cell_type": "code",
   "execution_count": 54,
   "id": "e29bf0e3-8efa-42cb-8164-667fcb2bf3b6",
   "metadata": {},
   "outputs": [
    {
     "data": {
      "text/plain": [
       "'aholabcholade'"
      ]
     },
     "execution_count": 54,
     "metadata": {},
     "output_type": "execute_result"
    }
   ],
   "source": [
    "\"hola\".join([\"a\", \"bc\", \"de\"])"
   ]
  },
  {
   "cell_type": "code",
   "execution_count": 55,
   "id": "3e9dc2d7-a156-4341-8e49-542b18dbbe5f",
   "metadata": {},
   "outputs": [],
   "source": [
    "a = \"python for data science\""
   ]
  },
  {
   "cell_type": "code",
   "execution_count": 56,
   "id": "90ea51e4-62f4-4735-a44f-a732346a6f15",
   "metadata": {},
   "outputs": [],
   "source": [
    "b = a.split()"
   ]
  },
  {
   "cell_type": "code",
   "execution_count": 57,
   "id": "8fd7fbb4-f9bf-4317-b966-5046dc3ed2cb",
   "metadata": {},
   "outputs": [
    {
     "data": {
      "text/plain": [
       "['python', 'for', 'data', 'science']"
      ]
     },
     "execution_count": 57,
     "metadata": {},
     "output_type": "execute_result"
    }
   ],
   "source": [
    "b"
   ]
  },
  {
   "cell_type": "code",
   "execution_count": 58,
   "id": "e8d5a024-e5c3-4c86-8daa-4a77d5ab085e",
   "metadata": {},
   "outputs": [
    {
     "name": "stdout",
     "output_type": "stream",
     "text": [
      "Circulo eliminado\n"
     ]
    }
   ],
   "source": [
    "c = \"*\".join(b)"
   ]
  },
  {
   "cell_type": "code",
   "execution_count": 59,
   "id": "418446ef-7ad8-4d83-a20a-b575d7057c97",
   "metadata": {},
   "outputs": [
    {
     "data": {
      "text/plain": [
       "'python*for*data*science'"
      ]
     },
     "execution_count": 59,
     "metadata": {},
     "output_type": "execute_result"
    }
   ],
   "source": [
    "c"
   ]
  },
  {
   "cell_type": "code",
   "execution_count": 60,
   "id": "c3018863-0acc-4f61-a4dc-41c56d2819b3",
   "metadata": {},
   "outputs": [
    {
     "data": {
      "text/plain": [
       "'python*for*data*science'"
      ]
     },
     "execution_count": 60,
     "metadata": {},
     "output_type": "execute_result"
    }
   ],
   "source": [
    "\"*\".join(a.split())"
   ]
  },
  {
   "cell_type": "code",
   "execution_count": 61,
   "id": "a8fb7542-41e1-4cdc-9681-a4fdcb1cc7b9",
   "metadata": {},
   "outputs": [
    {
     "name": "stdout",
     "output_type": "stream",
     "text": [
      "['__add__', '__class__', '__contains__', '__delattr__', '__dir__', '__doc__', '__eq__', '__format__', '__ge__', '__getattribute__', '__getitem__', '__getnewargs__', '__getstate__', '__gt__', '__hash__', '__init__', '__init_subclass__', '__iter__', '__le__', '__len__', '__lt__', '__mod__', '__mul__', '__ne__', '__new__', '__reduce__', '__reduce_ex__', '__repr__', '__rmod__', '__rmul__', '__setattr__', '__sizeof__', '__str__', '__subclasshook__', 'capitalize', 'casefold', 'center', 'count', 'encode', 'endswith', 'expandtabs', 'find', 'format', 'format_map', 'index', 'isalnum', 'isalpha', 'isascii', 'isdecimal', 'isdigit', 'isidentifier', 'islower', 'isnumeric', 'isprintable', 'isspace', 'istitle', 'isupper', 'join', 'ljust', 'lower', 'lstrip', 'maketrans', 'partition', 'removeprefix', 'removesuffix', 'replace', 'rfind', 'rindex', 'rjust', 'rpartition', 'rsplit', 'rstrip', 'split', 'splitlines', 'startswith', 'strip', 'swapcase', 'title', 'translate', 'upper', 'zfill']\n"
     ]
    }
   ],
   "source": [
    "print(dir(\"\"))"
   ]
  },
  {
   "cell_type": "code",
   "execution_count": 62,
   "id": "db69c563-8cfb-4f8c-bed6-a2d7b1ac8a0e",
   "metadata": {},
   "outputs": [
    {
     "name": "stdout",
     "output_type": "stream",
     "text": [
      "Help on built-in function replace:\n",
      "\n",
      "replace(old, new, count=-1, /) method of builtins.str instance\n",
      "    Return a copy with all occurrences of substring old replaced by new.\n",
      "    \n",
      "      count\n",
      "        Maximum number of occurrences to replace.\n",
      "        -1 (the default value) means replace all occurrences.\n",
      "    \n",
      "    If the optional argument count is given, only the first count occurrences are\n",
      "    replaced.\n",
      "\n"
     ]
    }
   ],
   "source": [
    "help(\"\".replace)"
   ]
  },
  {
   "cell_type": "code",
   "execution_count": 63,
   "id": "767be872-1735-437c-8741-19afa540a7a3",
   "metadata": {},
   "outputs": [],
   "source": [
    "s = \"mi gato y tu gata juegan con los gatitos del gato del vecino\""
   ]
  },
  {
   "cell_type": "code",
   "execution_count": 64,
   "id": "a05d370d-b2e7-4cac-918f-36c4947bb814",
   "metadata": {},
   "outputs": [
    {
     "data": {
      "text/plain": [
       "['mi',\n",
       " 'gato',\n",
       " 'y',\n",
       " 'tu',\n",
       " 'gata',\n",
       " 'juegan',\n",
       " 'con',\n",
       " 'los',\n",
       " 'gatitos',\n",
       " 'del',\n",
       " 'gato',\n",
       " 'del',\n",
       " 'vecino']"
      ]
     },
     "execution_count": 64,
     "metadata": {},
     "output_type": "execute_result"
    }
   ],
   "source": [
    "s.split()"
   ]
  },
  {
   "cell_type": "code",
   "execution_count": 65,
   "id": "4e4f5b13-299f-47e9-8c78-272e430dc9ee",
   "metadata": {},
   "outputs": [
    {
     "data": {
      "text/plain": [
       "'mi perro y tu perra juegan con los perritos del perro del vecino'"
      ]
     },
     "execution_count": 65,
     "metadata": {},
     "output_type": "execute_result"
    }
   ],
   "source": [
    "s.replace(\"gat\", \"perr\")"
   ]
  },
  {
   "cell_type": "code",
   "execution_count": 66,
   "id": "fcf808ab-9864-40f4-9af2-94385f417639",
   "metadata": {},
   "outputs": [
    {
     "data": {
      "text/plain": [
       "'mi perro y tu perra juegan con los gatitos del gato del vecino'"
      ]
     },
     "execution_count": 66,
     "metadata": {},
     "output_type": "execute_result"
    }
   ],
   "source": [
    "s.replace(\"gat\", \"perr\", 2)"
   ]
  },
  {
   "cell_type": "code",
   "execution_count": 67,
   "id": "8b50a1e3-68b9-4693-ad1e-7dc051c4a856",
   "metadata": {},
   "outputs": [
    {
     "data": {
      "text/plain": [
       "'Mi gato y tu gata juegan con los gatitos del gato del vecino'"
      ]
     },
     "execution_count": 67,
     "metadata": {},
     "output_type": "execute_result"
    }
   ],
   "source": [
    "s.capitalize()"
   ]
  },
  {
   "cell_type": "code",
   "execution_count": 68,
   "id": "8e3c2840-f371-44e6-a689-f10c7094ea40",
   "metadata": {},
   "outputs": [
    {
     "name": "stdout",
     "output_type": "stream",
     "text": [
      "Help on built-in function center:\n",
      "\n",
      "center(width, fillchar=' ', /) method of builtins.str instance\n",
      "    Return a centered string of length width.\n",
      "    \n",
      "    Padding is done using the specified fill character (default is a space).\n",
      "\n"
     ]
    }
   ],
   "source": [
    "help(\"\".center)"
   ]
  },
  {
   "cell_type": "code",
   "execution_count": 69,
   "id": "83cf2799-a176-4756-a6e7-4b183868e917",
   "metadata": {},
   "outputs": [
    {
     "data": {
      "text/plain": [
       "'       python       '"
      ]
     },
     "execution_count": 69,
     "metadata": {},
     "output_type": "execute_result"
    }
   ],
   "source": [
    "\"python\".center(20)"
   ]
  },
  {
   "cell_type": "code",
   "execution_count": 70,
   "id": "395203fa-c416-4771-9096-214169be3a69",
   "metadata": {},
   "outputs": [
    {
     "data": {
      "text/plain": [
       "'_______python_______'"
      ]
     },
     "execution_count": 70,
     "metadata": {},
     "output_type": "execute_result"
    }
   ],
   "source": [
    "\"python\".center(20, \"_\")"
   ]
  },
  {
   "cell_type": "code",
   "execution_count": 71,
   "id": "033232be-a2b2-4c5a-b997-fee2c4fb2c8c",
   "metadata": {},
   "outputs": [
    {
     "name": "stdout",
     "output_type": "stream",
     "text": [
      "Help on built-in function strip:\n",
      "\n",
      "strip(chars=None, /) method of builtins.str instance\n",
      "    Return a copy of the string with leading and trailing whitespace removed.\n",
      "    \n",
      "    If chars is given and not None, remove characters in chars instead.\n",
      "\n"
     ]
    }
   ],
   "source": [
    "help(\"\".strip)"
   ]
  },
  {
   "cell_type": "code",
   "execution_count": 72,
   "id": "10553d39-ad91-4d29-9416-81d47144855e",
   "metadata": {},
   "outputs": [
    {
     "data": {
      "text/plain": [
       "'python'"
      ]
     },
     "execution_count": 72,
     "metadata": {},
     "output_type": "execute_result"
    }
   ],
   "source": [
    "\"                         python           \".strip()"
   ]
  },
  {
   "cell_type": "code",
   "execution_count": 73,
   "id": "0e40f609-2153-45ba-9f40-4594ef835c59",
   "metadata": {},
   "outputs": [
    {
     "data": {
      "text/plain": [
       "'... ___ ..                     python ---:::___'"
      ]
     },
     "execution_count": 73,
     "metadata": {},
     "output_type": "execute_result"
    }
   ],
   "source": [
    "\"... ___ ..                     python ---:::___           \".strip()"
   ]
  },
  {
   "cell_type": "code",
   "execution_count": 74,
   "id": "1aad4f9b-eabb-445e-ad3e-84828522ebda",
   "metadata": {},
   "outputs": [
    {
     "data": {
      "text/plain": [
       "'python'"
      ]
     },
     "execution_count": 74,
     "metadata": {},
     "output_type": "execute_result"
    }
   ],
   "source": [
    "\"... ___ ..                     python ---:::___           \".strip(\" . _ : -\")"
   ]
  },
  {
   "cell_type": "code",
   "execution_count": 75,
   "id": "a16d376a-ec1e-46d9-bcca-a06ade9732cb",
   "metadata": {},
   "outputs": [
    {
     "data": {
      "text/plain": [
       "'pyt__hon'"
      ]
     },
     "execution_count": 75,
     "metadata": {},
     "output_type": "execute_result"
    }
   ],
   "source": [
    "\"... ___ ..                     pyt__hon ---:::___           \".strip(\" . _ : -\")"
   ]
  },
  {
   "cell_type": "code",
   "execution_count": 76,
   "id": "f6adf7c8-c51b-4c50-98ea-857bf3446db3",
   "metadata": {},
   "outputs": [],
   "source": [
    "#solo funciona cuando limpia espacios o caracteres en los extremos. Si dichos caracteres o espacios ya\n",
    "#estan en mis datos, palabras, ya ahi no elimina. Solo trabaja en los extremos de los textos"
   ]
  },
  {
   "cell_type": "code",
   "execution_count": 77,
   "id": "75e83982-d5d2-4fea-993d-05020a1e0292",
   "metadata": {},
   "outputs": [
    {
     "data": {
      "text/plain": [
       "'python ---:::___           '"
      ]
     },
     "execution_count": 77,
     "metadata": {},
     "output_type": "execute_result"
    }
   ],
   "source": [
    "\"... ___ ..                     python ---:::___           \".lstrip(\" . _ : -\") #leftstrip"
   ]
  },
  {
   "cell_type": "code",
   "execution_count": 78,
   "id": "a50608d9-459a-48e9-aaaf-08468bd44c76",
   "metadata": {},
   "outputs": [
    {
     "data": {
      "text/plain": [
       "'... ___ ..                     python'"
      ]
     },
     "execution_count": 78,
     "metadata": {},
     "output_type": "execute_result"
    }
   ],
   "source": [
    "\"... ___ ..                     python ---:::___           \".rstrip(\" . _ : -\") #rightstrip"
   ]
  },
  {
   "cell_type": "code",
   "execution_count": 79,
   "id": "df549e79-6998-4a9b-b8ea-801891b3611e",
   "metadata": {},
   "outputs": [
    {
     "data": {
      "text/plain": [
       "'p'"
      ]
     },
     "execution_count": 79,
     "metadata": {},
     "output_type": "execute_result"
    }
   ],
   "source": [
    "\"python\"[0]"
   ]
  },
  {
   "cell_type": "code",
   "execution_count": 80,
   "id": "0a120e5c-acbf-4c61-b10b-e7ad42d72e45",
   "metadata": {},
   "outputs": [
    {
     "data": {
      "text/plain": [
       "'n'"
      ]
     },
     "execution_count": 80,
     "metadata": {},
     "output_type": "execute_result"
    }
   ],
   "source": [
    "\"python\"[-1]"
   ]
  },
  {
   "cell_type": "code",
   "execution_count": null,
   "id": "3694ce9e-6fda-4fb4-816f-23e4c543c5ea",
   "metadata": {},
   "outputs": [],
   "source": []
  },
  {
   "cell_type": "markdown",
   "id": "5add4032-413f-4791-b342-bedb4702291e",
   "metadata": {},
   "source": [
    "# Listas"
   ]
  },
  {
   "cell_type": "code",
   "execution_count": 81,
   "id": "266afa9f-0ffa-476d-8ddf-92273bcc4245",
   "metadata": {},
   "outputs": [
    {
     "name": "stdout",
     "output_type": "stream",
     "text": [
      "['__add__', '__class__', '__class_getitem__', '__contains__', '__delattr__', '__delitem__', '__dir__', '__doc__', '__eq__', '__format__', '__ge__', '__getattribute__', '__getitem__', '__getstate__', '__gt__', '__hash__', '__iadd__', '__imul__', '__init__', '__init_subclass__', '__iter__', '__le__', '__len__', '__lt__', '__mul__', '__ne__', '__new__', '__reduce__', '__reduce_ex__', '__repr__', '__reversed__', '__rmul__', '__setattr__', '__setitem__', '__sizeof__', '__str__', '__subclasshook__', 'append', 'clear', 'copy', 'count', 'extend', 'index', 'insert', 'pop', 'remove', 'reverse', 'sort']\n"
     ]
    }
   ],
   "source": [
    "print(dir(list))"
   ]
  },
  {
   "cell_type": "code",
   "execution_count": 82,
   "id": "1e52ec68-6617-4f34-82fc-2c757ba68461",
   "metadata": {},
   "outputs": [],
   "source": [
    "a = list(\"python\")"
   ]
  },
  {
   "cell_type": "code",
   "execution_count": 83,
   "id": "b702c3f9-a85b-4ece-a112-f7adbbdc3fe0",
   "metadata": {},
   "outputs": [
    {
     "data": {
      "text/plain": [
       "['p', 'y', 't', 'h', 'o', 'n']"
      ]
     },
     "execution_count": 83,
     "metadata": {},
     "output_type": "execute_result"
    }
   ],
   "source": [
    "a"
   ]
  },
  {
   "cell_type": "code",
   "execution_count": 84,
   "id": "6e316a69-788e-46a3-b68b-bbd052eb0560",
   "metadata": {},
   "outputs": [],
   "source": [
    "a.append(2)"
   ]
  },
  {
   "cell_type": "code",
   "execution_count": 85,
   "id": "0031b249-2f87-4df3-aa9b-592fe2b4eb6e",
   "metadata": {},
   "outputs": [
    {
     "data": {
      "text/plain": [
       "['p', 'y', 't', 'h', 'o', 'n', 2]"
      ]
     },
     "execution_count": 85,
     "metadata": {},
     "output_type": "execute_result"
    }
   ],
   "source": [
    "a"
   ]
  },
  {
   "cell_type": "code",
   "execution_count": 86,
   "id": "d33e2594-ded7-41a7-9956-71513d6680d7",
   "metadata": {},
   "outputs": [],
   "source": [
    "a.clear()"
   ]
  },
  {
   "cell_type": "code",
   "execution_count": 87,
   "id": "24aa40e5-8ae1-44b5-a710-4deed585d066",
   "metadata": {},
   "outputs": [
    {
     "data": {
      "text/plain": [
       "[]"
      ]
     },
     "execution_count": 87,
     "metadata": {},
     "output_type": "execute_result"
    }
   ],
   "source": [
    "a"
   ]
  },
  {
   "cell_type": "code",
   "execution_count": 88,
   "id": "6703bfb0-5dbd-4fb6-b292-0c8f2f811ae4",
   "metadata": {},
   "outputs": [],
   "source": [
    "a = list(\"python\")"
   ]
  },
  {
   "cell_type": "code",
   "execution_count": 89,
   "id": "66a1cbf3-2fdb-4b42-a382-212c0e609df7",
   "metadata": {},
   "outputs": [
    {
     "data": {
      "text/plain": [
       "['p', 'y', 't', 'h', 'o', 'n']"
      ]
     },
     "execution_count": 89,
     "metadata": {},
     "output_type": "execute_result"
    }
   ],
   "source": [
    "a"
   ]
  },
  {
   "cell_type": "code",
   "execution_count": 90,
   "id": "85b646f1-f725-4e6a-bf4e-7c8f503724e5",
   "metadata": {},
   "outputs": [
    {
     "data": {
      "text/plain": [
       "['p', 'y', 't', 'h', 'o', 'n']"
      ]
     },
     "execution_count": 90,
     "metadata": {},
     "output_type": "execute_result"
    }
   ],
   "source": [
    "a.copy()"
   ]
  },
  {
   "cell_type": "code",
   "execution_count": 91,
   "id": "a0a9faaa-e451-44fa-8897-d17f92a27189",
   "metadata": {},
   "outputs": [],
   "source": [
    "b = a.copy()"
   ]
  },
  {
   "cell_type": "code",
   "execution_count": 92,
   "id": "3f8042e2-9414-45a1-a186-cb8997b6d8c2",
   "metadata": {},
   "outputs": [
    {
     "data": {
      "text/plain": [
       "['p', 'y', 't', 'h', 'o', 'n']"
      ]
     },
     "execution_count": 92,
     "metadata": {},
     "output_type": "execute_result"
    }
   ],
   "source": [
    "a"
   ]
  },
  {
   "cell_type": "code",
   "execution_count": 93,
   "id": "3fb5ed1c-5e00-4114-a16d-387d7dbb0a18",
   "metadata": {},
   "outputs": [
    {
     "data": {
      "text/plain": [
       "['p', 'y', 't', 'h', 'o', 'n']"
      ]
     },
     "execution_count": 93,
     "metadata": {},
     "output_type": "execute_result"
    }
   ],
   "source": [
    "b"
   ]
  },
  {
   "cell_type": "code",
   "execution_count": 94,
   "id": "e1f39b98-cc8e-49c8-b836-bf0e9834540e",
   "metadata": {},
   "outputs": [
    {
     "name": "stdout",
     "output_type": "stream",
     "text": [
      "Help on built-in function id in module builtins:\n",
      "\n",
      "id(obj, /)\n",
      "    Return the identity of an object.\n",
      "    \n",
      "    This is guaranteed to be unique among simultaneously existing objects.\n",
      "    (CPython uses the object's memory address.)\n",
      "\n"
     ]
    }
   ],
   "source": [
    "help(id)"
   ]
  },
  {
   "cell_type": "code",
   "execution_count": 95,
   "id": "50111d60-1f63-4920-a746-e5fde8b69297",
   "metadata": {},
   "outputs": [
    {
     "data": {
      "text/plain": [
       "2386708566400"
      ]
     },
     "execution_count": 95,
     "metadata": {},
     "output_type": "execute_result"
    }
   ],
   "source": [
    "id(a)"
   ]
  },
  {
   "cell_type": "code",
   "execution_count": 96,
   "id": "9b9cafbe-6553-4dc9-b9fa-dd1fb62d6bff",
   "metadata": {},
   "outputs": [
    {
     "data": {
      "text/plain": [
       "2386708566592"
      ]
     },
     "execution_count": 96,
     "metadata": {},
     "output_type": "execute_result"
    }
   ],
   "source": [
    "id(b)"
   ]
  },
  {
   "cell_type": "code",
   "execution_count": 97,
   "id": "2942c5b3-6510-40f1-867d-fa51eb11b0b4",
   "metadata": {},
   "outputs": [
    {
     "data": {
      "text/plain": [
       "['p', 'y', 't', 'h', 'o', 'n']"
      ]
     },
     "execution_count": 97,
     "metadata": {},
     "output_type": "execute_result"
    }
   ],
   "source": [
    "a"
   ]
  },
  {
   "cell_type": "code",
   "execution_count": 98,
   "id": "f2190841-fca0-4b5c-b7e6-413f7e2cf21b",
   "metadata": {},
   "outputs": [],
   "source": [
    "b = a"
   ]
  },
  {
   "cell_type": "code",
   "execution_count": 99,
   "id": "d6fc5e41-408a-4c00-9b8f-94bddaef2fe3",
   "metadata": {},
   "outputs": [
    {
     "data": {
      "text/plain": [
       "2386708566400"
      ]
     },
     "execution_count": 99,
     "metadata": {},
     "output_type": "execute_result"
    }
   ],
   "source": [
    "id(a)"
   ]
  },
  {
   "cell_type": "code",
   "execution_count": 100,
   "id": "ace76d83-4715-4a64-a686-6a2aefb2f9c7",
   "metadata": {},
   "outputs": [
    {
     "data": {
      "text/plain": [
       "2386708566400"
      ]
     },
     "execution_count": 100,
     "metadata": {},
     "output_type": "execute_result"
    }
   ],
   "source": [
    "id(b)"
   ]
  },
  {
   "cell_type": "code",
   "execution_count": 101,
   "id": "0f7c99da-43fe-4687-99b3-a634e15d3c80",
   "metadata": {},
   "outputs": [],
   "source": [
    "b.append(\"m\")"
   ]
  },
  {
   "cell_type": "code",
   "execution_count": 102,
   "id": "f9ce3489-6d15-4463-b9cc-2d4392c21d42",
   "metadata": {},
   "outputs": [
    {
     "data": {
      "text/plain": [
       "['p', 'y', 't', 'h', 'o', 'n', 'm']"
      ]
     },
     "execution_count": 102,
     "metadata": {},
     "output_type": "execute_result"
    }
   ],
   "source": [
    "b"
   ]
  },
  {
   "cell_type": "code",
   "execution_count": 103,
   "id": "5e3d8b29-b4b7-4602-b4ed-e7eea708c0b0",
   "metadata": {},
   "outputs": [
    {
     "data": {
      "text/plain": [
       "['p', 'y', 't', 'h', 'o', 'n', 'm']"
      ]
     },
     "execution_count": 103,
     "metadata": {},
     "output_type": "execute_result"
    }
   ],
   "source": [
    "a"
   ]
  },
  {
   "cell_type": "code",
   "execution_count": 104,
   "id": "92579e63-8ca4-4ad1-8153-94c317390a14",
   "metadata": {},
   "outputs": [],
   "source": [
    "b = a.copy()"
   ]
  },
  {
   "cell_type": "code",
   "execution_count": 105,
   "id": "49ea1f46-efeb-4b27-8aa5-a3a205fb3ef3",
   "metadata": {},
   "outputs": [
    {
     "data": {
      "text/plain": [
       "['p', 'y', 't', 'h', 'o', 'n', 'm']"
      ]
     },
     "execution_count": 105,
     "metadata": {},
     "output_type": "execute_result"
    }
   ],
   "source": [
    "b"
   ]
  },
  {
   "cell_type": "code",
   "execution_count": 106,
   "id": "08b237ba-a0af-41c6-82ba-804b203c428d",
   "metadata": {},
   "outputs": [
    {
     "data": {
      "text/plain": [
       "['p', 'y', 't', 'h', 'o', 'n', 'm']"
      ]
     },
     "execution_count": 106,
     "metadata": {},
     "output_type": "execute_result"
    }
   ],
   "source": [
    "a"
   ]
  },
  {
   "cell_type": "code",
   "execution_count": 107,
   "id": "8897c1fe-557f-4795-b8c9-91297c845a05",
   "metadata": {},
   "outputs": [],
   "source": [
    "b.append(\"n\")"
   ]
  },
  {
   "cell_type": "code",
   "execution_count": 108,
   "id": "4ae04f32-6ec7-46ff-9854-3ea42abce570",
   "metadata": {},
   "outputs": [
    {
     "data": {
      "text/plain": [
       "['p', 'y', 't', 'h', 'o', 'n', 'm', 'n']"
      ]
     },
     "execution_count": 108,
     "metadata": {},
     "output_type": "execute_result"
    }
   ],
   "source": [
    "b"
   ]
  },
  {
   "cell_type": "code",
   "execution_count": 109,
   "id": "e243dec3-8615-4d2e-8f8c-bd33a901b735",
   "metadata": {},
   "outputs": [
    {
     "data": {
      "text/plain": [
       "['p', 'y', 't', 'h', 'o', 'n', 'm']"
      ]
     },
     "execution_count": 109,
     "metadata": {},
     "output_type": "execute_result"
    }
   ],
   "source": [
    "a"
   ]
  },
  {
   "cell_type": "code",
   "execution_count": 110,
   "id": "cc3af85f-448f-4eb3-8cf1-4178b9f18f20",
   "metadata": {},
   "outputs": [
    {
     "name": "stdout",
     "output_type": "stream",
     "text": [
      "['__add__', '__class__', '__class_getitem__', '__contains__', '__delattr__', '__delitem__', '__dir__', '__doc__', '__eq__', '__format__', '__ge__', '__getattribute__', '__getitem__', '__getstate__', '__gt__', '__hash__', '__iadd__', '__imul__', '__init__', '__init_subclass__', '__iter__', '__le__', '__len__', '__lt__', '__mul__', '__ne__', '__new__', '__reduce__', '__reduce_ex__', '__repr__', '__reversed__', '__rmul__', '__setattr__', '__setitem__', '__sizeof__', '__str__', '__subclasshook__', 'append', 'clear', 'copy', 'count', 'extend', 'index', 'insert', 'pop', 'remove', 'reverse', 'sort']\n"
     ]
    }
   ],
   "source": [
    "print(dir(list))"
   ]
  },
  {
   "cell_type": "code",
   "execution_count": 111,
   "id": "ff4b76c5-4554-457e-88a0-a153e1529725",
   "metadata": {},
   "outputs": [],
   "source": [
    "a = list(\"python for data science\")"
   ]
  },
  {
   "cell_type": "code",
   "execution_count": 112,
   "id": "e4faec45-0aa9-434e-92df-7bf6eccbc97f",
   "metadata": {},
   "outputs": [
    {
     "name": "stdout",
     "output_type": "stream",
     "text": [
      "['p', 'y', 't', 'h', 'o', 'n', ' ', 'f', 'o', 'r', ' ', 'd', 'a', 't', 'a', ' ', 's', 'c', 'i', 'e', 'n', 'c', 'e']\n"
     ]
    }
   ],
   "source": [
    "print(a)"
   ]
  },
  {
   "cell_type": "code",
   "execution_count": 113,
   "id": "f2160fe5-8822-4434-bc9f-8eb7d5f9d731",
   "metadata": {},
   "outputs": [
    {
     "data": {
      "text/plain": [
       "2"
      ]
     },
     "execution_count": 113,
     "metadata": {},
     "output_type": "execute_result"
    }
   ],
   "source": [
    "a.count(\"a\")"
   ]
  },
  {
   "cell_type": "code",
   "execution_count": 114,
   "id": "3fd023b8-b103-4827-97df-39d3823b97e9",
   "metadata": {},
   "outputs": [
    {
     "data": {
      "text/plain": [
       "12"
      ]
     },
     "execution_count": 114,
     "metadata": {},
     "output_type": "execute_result"
    }
   ],
   "source": [
    "a.index(\"a\")"
   ]
  },
  {
   "cell_type": "code",
   "execution_count": 115,
   "id": "27a45f95-3739-4a6f-b620-b3015b72c48e",
   "metadata": {},
   "outputs": [
    {
     "data": {
      "text/plain": [
       "['p', 'y', 't', 'h', 'o', 'n']"
      ]
     },
     "execution_count": 115,
     "metadata": {},
     "output_type": "execute_result"
    }
   ],
   "source": [
    "a = list(\"python\")\n",
    "a"
   ]
  },
  {
   "cell_type": "code",
   "execution_count": 116,
   "id": "13c6f9b1-fdba-4e0d-912b-acefd05daa88",
   "metadata": {},
   "outputs": [
    {
     "data": {
      "text/plain": [
       "['d', 'a', 't', 'a']"
      ]
     },
     "execution_count": 116,
     "metadata": {},
     "output_type": "execute_result"
    }
   ],
   "source": [
    "b = list(\"data\")\n",
    "b"
   ]
  },
  {
   "cell_type": "code",
   "execution_count": 117,
   "id": "2be8fe36-039e-46cd-98b3-681fa7aaa257",
   "metadata": {},
   "outputs": [],
   "source": [
    "a.append(b) #añade un valor al final"
   ]
  },
  {
   "cell_type": "code",
   "execution_count": 118,
   "id": "672a1cef-de31-4f0f-aa18-6fb91c1fe2da",
   "metadata": {},
   "outputs": [
    {
     "data": {
      "text/plain": [
       "['p', 'y', 't', 'h', 'o', 'n', ['d', 'a', 't', 'a']]"
      ]
     },
     "execution_count": 118,
     "metadata": {},
     "output_type": "execute_result"
    }
   ],
   "source": [
    "a"
   ]
  },
  {
   "cell_type": "code",
   "execution_count": 119,
   "id": "c691cf22-9401-48fa-bd21-e31f2f1540db",
   "metadata": {},
   "outputs": [
    {
     "data": {
      "text/plain": [
       "['d', 'a', 't', 'a']"
      ]
     },
     "execution_count": 119,
     "metadata": {},
     "output_type": "execute_result"
    }
   ],
   "source": [
    "a[-1]"
   ]
  },
  {
   "cell_type": "code",
   "execution_count": 120,
   "id": "b1cffae8-4239-4518-9d2d-d311d783e976",
   "metadata": {},
   "outputs": [
    {
     "data": {
      "text/plain": [
       "['p', 'y', 't', 'h', 'o', 'n']"
      ]
     },
     "execution_count": 120,
     "metadata": {},
     "output_type": "execute_result"
    }
   ],
   "source": [
    "a = list(\"python\")\n",
    "a"
   ]
  },
  {
   "cell_type": "code",
   "execution_count": 121,
   "id": "7c222598-2b46-410f-b362-1beefe3a6f63",
   "metadata": {},
   "outputs": [
    {
     "data": {
      "text/plain": [
       "['d', 'a', 't', 'a']"
      ]
     },
     "execution_count": 121,
     "metadata": {},
     "output_type": "execute_result"
    }
   ],
   "source": [
    "b = list(\"data\")\n",
    "b"
   ]
  },
  {
   "cell_type": "code",
   "execution_count": 122,
   "id": "70aa58bf-540a-4207-af58-be62243eca15",
   "metadata": {},
   "outputs": [
    {
     "name": "stdout",
     "output_type": "stream",
     "text": [
      "Help on built-in function extend:\n",
      "\n",
      "extend(iterable, /) method of builtins.list instance\n",
      "    Extend list by appending elements from the iterable.\n",
      "\n"
     ]
    }
   ],
   "source": [
    "help(a.extend)"
   ]
  },
  {
   "cell_type": "code",
   "execution_count": 123,
   "id": "ab25b379-15f8-44ae-9fa9-35fa68c678d0",
   "metadata": {},
   "outputs": [],
   "source": [
    "a.extend(b) #añade todos los valores de un iterable en el iterable original"
   ]
  },
  {
   "cell_type": "code",
   "execution_count": 124,
   "id": "6b14a744-185a-440c-8b5d-4dd4511d263f",
   "metadata": {},
   "outputs": [
    {
     "data": {
      "text/plain": [
       "['p', 'y', 't', 'h', 'o', 'n', 'd', 'a', 't', 'a']"
      ]
     },
     "execution_count": 124,
     "metadata": {},
     "output_type": "execute_result"
    }
   ],
   "source": [
    "a"
   ]
  },
  {
   "cell_type": "code",
   "execution_count": 125,
   "id": "231dcb71-4816-4e4c-a288-e0eeea03ad9f",
   "metadata": {},
   "outputs": [],
   "source": [
    "a.insert(3, 18)     #inserta algo en una posicion especifica de la lista "
   ]
  },
  {
   "cell_type": "code",
   "execution_count": 126,
   "id": "0878fb74-928b-48b3-9c5b-ff606261b773",
   "metadata": {},
   "outputs": [
    {
     "data": {
      "text/plain": [
       "['p', 'y', 't', 18, 'h', 'o', 'n', 'd', 'a', 't', 'a']"
      ]
     },
     "execution_count": 126,
     "metadata": {},
     "output_type": "execute_result"
    }
   ],
   "source": [
    "a"
   ]
  },
  {
   "cell_type": "code",
   "execution_count": 127,
   "id": "bedba4b7-79c5-4aa4-a635-e9822e22f950",
   "metadata": {},
   "outputs": [
    {
     "name": "stdout",
     "output_type": "stream",
     "text": [
      "Help on built-in function pop:\n",
      "\n",
      "pop(index=-1, /) method of builtins.list instance\n",
      "    Remove and return item at index (default last).\n",
      "    \n",
      "    Raises IndexError if list is empty or index is out of range.\n",
      "\n"
     ]
    }
   ],
   "source": [
    "help(a.pop)"
   ]
  },
  {
   "cell_type": "code",
   "execution_count": 128,
   "id": "359c77ed-01e6-4b12-bc5c-f03470267eb9",
   "metadata": {},
   "outputs": [
    {
     "data": {
      "text/plain": [
       "'a'"
      ]
     },
     "execution_count": 128,
     "metadata": {},
     "output_type": "execute_result"
    }
   ],
   "source": [
    "a.pop() #elimina de la lista y devuelve el elemento que le indique"
   ]
  },
  {
   "cell_type": "code",
   "execution_count": 129,
   "id": "299e9983-9733-44c7-9a97-229994d3b91d",
   "metadata": {},
   "outputs": [
    {
     "data": {
      "text/plain": [
       "['p', 'y', 't', 18, 'h', 'o', 'n', 'd', 'a', 't']"
      ]
     },
     "execution_count": 129,
     "metadata": {},
     "output_type": "execute_result"
    }
   ],
   "source": [
    "a"
   ]
  },
  {
   "cell_type": "code",
   "execution_count": 130,
   "id": "24fa3bc6-227d-4521-9da9-17612fbf13e4",
   "metadata": {},
   "outputs": [
    {
     "data": {
      "text/plain": [
       "18"
      ]
     },
     "execution_count": 130,
     "metadata": {},
     "output_type": "execute_result"
    }
   ],
   "source": [
    "a.pop(3)"
   ]
  },
  {
   "cell_type": "code",
   "execution_count": 131,
   "id": "6229be9f-7d10-4f80-94c5-0a9e880980ff",
   "metadata": {},
   "outputs": [
    {
     "data": {
      "text/plain": [
       "['p', 'y', 't', 'h', 'o', 'n', 'd', 'a', 't']"
      ]
     },
     "execution_count": 131,
     "metadata": {},
     "output_type": "execute_result"
    }
   ],
   "source": [
    "a"
   ]
  },
  {
   "cell_type": "code",
   "execution_count": 132,
   "id": "47726c90-7a88-4d9b-be67-b2a780eafa76",
   "metadata": {},
   "outputs": [],
   "source": [
    "item = a.pop(0)"
   ]
  },
  {
   "cell_type": "code",
   "execution_count": 133,
   "id": "6dec65e6-251a-4136-a8a7-292b0a17230c",
   "metadata": {},
   "outputs": [
    {
     "data": {
      "text/plain": [
       "['y', 't', 'h', 'o', 'n', 'd', 'a', 't']"
      ]
     },
     "execution_count": 133,
     "metadata": {},
     "output_type": "execute_result"
    }
   ],
   "source": [
    "a"
   ]
  },
  {
   "cell_type": "code",
   "execution_count": 134,
   "id": "b519404a-44bd-4aae-b71c-bfae533d2606",
   "metadata": {},
   "outputs": [
    {
     "data": {
      "text/plain": [
       "'p'"
      ]
     },
     "execution_count": 134,
     "metadata": {},
     "output_type": "execute_result"
    }
   ],
   "source": [
    "item"
   ]
  },
  {
   "cell_type": "code",
   "execution_count": 135,
   "id": "4f409b09-68ad-4985-871c-770b63af41ac",
   "metadata": {},
   "outputs": [
    {
     "name": "stdout",
     "output_type": "stream",
     "text": [
      "Help on built-in function remove:\n",
      "\n",
      "remove(value, /) method of builtins.list instance\n",
      "    Remove first occurrence of value.\n",
      "    \n",
      "    Raises ValueError if the value is not present.\n",
      "\n"
     ]
    }
   ],
   "source": [
    "help(a.remove)"
   ]
  },
  {
   "cell_type": "code",
   "execution_count": 136,
   "id": "61428713-1867-429f-aa3e-47b092842e69",
   "metadata": {},
   "outputs": [],
   "source": [
    "a.remove(\"t\")#elimina la primera ocurrencia de determinado valor"
   ]
  },
  {
   "cell_type": "code",
   "execution_count": 137,
   "id": "46a614c5-6a46-43a1-8f54-1f275e0f77f5",
   "metadata": {},
   "outputs": [
    {
     "data": {
      "text/plain": [
       "['y', 'h', 'o', 'n', 'd', 'a', 't']"
      ]
     },
     "execution_count": 137,
     "metadata": {},
     "output_type": "execute_result"
    }
   ],
   "source": [
    "a"
   ]
  },
  {
   "cell_type": "code",
   "execution_count": 138,
   "id": "a1fd735d-8b95-437f-957a-511bd8e226db",
   "metadata": {},
   "outputs": [
    {
     "name": "stdout",
     "output_type": "stream",
     "text": [
      "el valor no existe\n"
     ]
    }
   ],
   "source": [
    "try:\n",
    "    a.remove(\"x\") #Error si el valor no existe\n",
    "except:\n",
    "    print(\"el valor no existe\")"
   ]
  },
  {
   "cell_type": "code",
   "execution_count": 139,
   "id": "6552e137-c6b8-4343-b4db-32ef4a82054b",
   "metadata": {},
   "outputs": [
    {
     "data": {
      "text/plain": [
       "['p', 'y', 't', 'h', 'o', 'n']"
      ]
     },
     "execution_count": 139,
     "metadata": {},
     "output_type": "execute_result"
    }
   ],
   "source": [
    "a = list(\"python\")\n",
    "a"
   ]
  },
  {
   "cell_type": "code",
   "execution_count": 140,
   "id": "b137b0cc-45b2-4fb6-9775-12aed0774cb0",
   "metadata": {},
   "outputs": [
    {
     "name": "stdout",
     "output_type": "stream",
     "text": [
      "Help on built-in function reverse:\n",
      "\n",
      "reverse() method of builtins.list instance\n",
      "    Reverse *IN PLACE*.\n",
      "\n"
     ]
    }
   ],
   "source": [
    "help(a.reverse)"
   ]
  },
  {
   "cell_type": "code",
   "execution_count": 141,
   "id": "2d6125dd-b89e-46a9-9367-843e9b1c238f",
   "metadata": {},
   "outputs": [
    {
     "data": {
      "text/plain": [
       "['n', 'o', 'h', 't', 'y', 'p']"
      ]
     },
     "execution_count": 141,
     "metadata": {},
     "output_type": "execute_result"
    }
   ],
   "source": [
    "a.reverse()\n",
    "a"
   ]
  },
  {
   "cell_type": "code",
   "execution_count": 142,
   "id": "238e2b68-904c-4971-b800-09eb5704da85",
   "metadata": {},
   "outputs": [
    {
     "data": {
      "text/plain": [
       "'mi gato y tu gata juegan con los gatitos del gato del vecino'"
      ]
     },
     "execution_count": 142,
     "metadata": {},
     "output_type": "execute_result"
    }
   ],
   "source": [
    "s = \"mi gato y tu gata juegan con los gatitos del gato del vecino\"\n",
    "s"
   ]
  },
  {
   "cell_type": "code",
   "execution_count": 143,
   "id": "08866e4b-1100-4220-a751-416bfdce7726",
   "metadata": {},
   "outputs": [],
   "source": [
    "z = s.split()\n",
    "z.reverse()"
   ]
  },
  {
   "cell_type": "code",
   "execution_count": 144,
   "id": "2c3d4940-a572-4695-8069-c27a568fa146",
   "metadata": {},
   "outputs": [
    {
     "name": "stdout",
     "output_type": "stream",
     "text": [
      "['vecino', 'del', 'gato', 'del', 'gatitos', 'los', 'con', 'juegan', 'gata', 'tu', 'y', 'gato', 'mi']\n"
     ]
    }
   ],
   "source": [
    "print(z)"
   ]
  },
  {
   "cell_type": "code",
   "execution_count": 145,
   "id": "c7f64796-d571-4d1c-8655-29e3c7ad6c18",
   "metadata": {},
   "outputs": [
    {
     "data": {
      "text/plain": [
       "'\\n# Usando inplace=True\\nlista = [3, 1, 4, 2]\\nlista.sort(inplace=True)\\nprint(lista)  # Output: [1, 2, 3, 4]\\n\\n# Usando inplace=False\\nlista = [3, 1, 4, 2]\\nnueva_lista = sorted(lista, reverse=True)\\nprint(lista)        # Output: [3, 1, 4, 2] (lista original no cambia)\\nprint(nueva_lista)  # Output: [4, 3, 2, 1]\\n'"
      ]
     },
     "execution_count": 145,
     "metadata": {},
     "output_type": "execute_result"
    }
   ],
   "source": [
    "\"\"\"\n",
    "# Usando inplace=True\n",
    "lista = [3, 1, 4, 2]\n",
    "lista.sort(inplace=True)\n",
    "print(lista)  # Output: [1, 2, 3, 4]\n",
    "\n",
    "# Usando inplace=False\n",
    "lista = [3, 1, 4, 2]\n",
    "nueva_lista = sorted(lista, reverse=True)\n",
    "print(lista)        # Output: [3, 1, 4, 2] (lista original no cambia)\n",
    "print(nueva_lista)  # Output: [4, 3, 2, 1]\n",
    "\"\"\""
   ]
  },
  {
   "cell_type": "code",
   "execution_count": 146,
   "id": "7abf3893-9f39-470c-8a9c-b666523ca129",
   "metadata": {},
   "outputs": [
    {
     "name": "stdout",
     "output_type": "stream",
     "text": [
      "Help on built-in function sort:\n",
      "\n",
      "sort(*, key=None, reverse=False) method of builtins.list instance\n",
      "    Sort the list in ascending order and return None.\n",
      "    \n",
      "    The sort is in-place (i.e. the list itself is modified) and stable (i.e. the\n",
      "    order of two equal elements is maintained).\n",
      "    \n",
      "    If a key function is given, apply it once to each list item and sort them,\n",
      "    ascending or descending, according to their function values.\n",
      "    \n",
      "    The reverse flag can be set to sort in descending order.\n",
      "\n"
     ]
    }
   ],
   "source": [
    "help(a.sort)"
   ]
  },
  {
   "cell_type": "code",
   "execution_count": 147,
   "id": "e7765bff-4d19-4038-89d3-55c45c80ece0",
   "metadata": {},
   "outputs": [],
   "source": [
    "#Esto es inplace. Te modifica la variable original."
   ]
  },
  {
   "cell_type": "code",
   "execution_count": 148,
   "id": "fdf54994-94dc-4da9-8543-cb20350ce43e",
   "metadata": {},
   "outputs": [],
   "source": [
    "a = [4, 1, 7, 3]"
   ]
  },
  {
   "cell_type": "code",
   "execution_count": 149,
   "id": "baa489d8-cba5-4c84-91c9-10ecdeecaefc",
   "metadata": {},
   "outputs": [],
   "source": [
    "a.sort()"
   ]
  },
  {
   "cell_type": "code",
   "execution_count": 150,
   "id": "f83626cf-4255-4395-af99-094b2d8bc5f6",
   "metadata": {},
   "outputs": [
    {
     "data": {
      "text/plain": [
       "[1, 3, 4, 7]"
      ]
     },
     "execution_count": 150,
     "metadata": {},
     "output_type": "execute_result"
    }
   ],
   "source": [
    "a"
   ]
  },
  {
   "cell_type": "code",
   "execution_count": 151,
   "id": "00e506c8-6213-472f-917a-5d556565596d",
   "metadata": {},
   "outputs": [],
   "source": [
    "a = [4, 1, 7, 3]\n",
    "a.sort(reverse = True)"
   ]
  },
  {
   "cell_type": "code",
   "execution_count": 152,
   "id": "91c57091-9b8c-40dd-bc93-59ad29775c67",
   "metadata": {},
   "outputs": [
    {
     "data": {
      "text/plain": [
       "[7, 4, 3, 1]"
      ]
     },
     "execution_count": 152,
     "metadata": {},
     "output_type": "execute_result"
    }
   ],
   "source": [
    "a"
   ]
  },
  {
   "cell_type": "code",
   "execution_count": 153,
   "id": "b4648838-e6e1-4a5c-9653-bb1d31bef6d0",
   "metadata": {},
   "outputs": [],
   "source": [
    "words = \"elefante casa mono cabra tigre\".split()"
   ]
  },
  {
   "cell_type": "code",
   "execution_count": 154,
   "id": "86939dbb-2fb8-4992-a5b5-c7f87aac02ad",
   "metadata": {},
   "outputs": [
    {
     "data": {
      "text/plain": [
       "['elefante', 'casa', 'mono', 'cabra', 'tigre']"
      ]
     },
     "execution_count": 154,
     "metadata": {},
     "output_type": "execute_result"
    }
   ],
   "source": [
    "words"
   ]
  },
  {
   "cell_type": "code",
   "execution_count": 155,
   "id": "05fd2b13-240d-4258-9b98-7ee69141b524",
   "metadata": {},
   "outputs": [],
   "source": [
    "words.sort()"
   ]
  },
  {
   "cell_type": "code",
   "execution_count": 156,
   "id": "ed59bd4b-d296-483e-819d-e845b57821d2",
   "metadata": {},
   "outputs": [
    {
     "data": {
      "text/plain": [
       "['cabra', 'casa', 'elefante', 'mono', 'tigre']"
      ]
     },
     "execution_count": 156,
     "metadata": {},
     "output_type": "execute_result"
    }
   ],
   "source": [
    "words"
   ]
  },
  {
   "cell_type": "code",
   "execution_count": 157,
   "id": "42eb9b89-bcee-445f-806d-6c47e2660874",
   "metadata": {},
   "outputs": [],
   "source": [
    "words = \"elefante casa mono cabra tigre\".split()"
   ]
  },
  {
   "cell_type": "code",
   "execution_count": 158,
   "id": "38402730-ded8-4616-870d-876f5ce8fe6a",
   "metadata": {},
   "outputs": [],
   "source": [
    "words.sort(key = len) #ahora aca se ordenan, de acuerdo al tamaño. Puedo pasarle un método o crear uno, que se encargue\n",
    "#de organizarlas de acuerdo al criterio que yo quiera. Sort solo las ordena alfabericamente"
   ]
  },
  {
   "cell_type": "code",
   "execution_count": 159,
   "id": "8dd7403f-10cd-4ba5-bb46-c553e7d85c94",
   "metadata": {},
   "outputs": [
    {
     "data": {
      "text/plain": [
       "['casa', 'mono', 'cabra', 'tigre', 'elefante']"
      ]
     },
     "execution_count": 159,
     "metadata": {},
     "output_type": "execute_result"
    }
   ],
   "source": [
    "words"
   ]
  },
  {
   "cell_type": "code",
   "execution_count": null,
   "id": "c53be74f-153f-477b-bc2a-e87750c021c0",
   "metadata": {},
   "outputs": [],
   "source": []
  },
  {
   "cell_type": "markdown",
   "id": "79a59c34-15eb-4304-9208-4bf280cd32f4",
   "metadata": {},
   "source": [
    "# Tuplas"
   ]
  },
  {
   "cell_type": "code",
   "execution_count": 160,
   "id": "52df5918-ffd1-4a3c-9d8b-71fdeef81cea",
   "metadata": {},
   "outputs": [
    {
     "name": "stdout",
     "output_type": "stream",
     "text": [
      "['__add__', '__class__', '__class_getitem__', '__contains__', '__delattr__', '__dir__', '__doc__', '__eq__', '__format__', '__ge__', '__getattribute__', '__getitem__', '__getnewargs__', '__getstate__', '__gt__', '__hash__', '__init__', '__init_subclass__', '__iter__', '__le__', '__len__', '__lt__', '__mul__', '__ne__', '__new__', '__reduce__', '__reduce_ex__', '__repr__', '__rmul__', '__setattr__', '__sizeof__', '__str__', '__subclasshook__', 'count', 'index']\n"
     ]
    }
   ],
   "source": [
    "print(dir(tuple))"
   ]
  },
  {
   "cell_type": "code",
   "execution_count": 161,
   "id": "a2e0fd14-6b42-4d2d-9c3e-8e70a52927c7",
   "metadata": {},
   "outputs": [],
   "source": [
    "#Solo dos metodos, porque NO son mutables. No puedo inicializar, limpiar, añadir o eliminar elementos"
   ]
  },
  {
   "cell_type": "code",
   "execution_count": null,
   "id": "24282c73-e77e-4957-b0ef-4ec8db3eb9ca",
   "metadata": {},
   "outputs": [],
   "source": []
  },
  {
   "cell_type": "markdown",
   "id": "c2bd3889-3e8a-4888-8757-d3ffe7cd1f8b",
   "metadata": {},
   "source": [
    "# Conjuntos"
   ]
  },
  {
   "cell_type": "code",
   "execution_count": 162,
   "id": "b37cfa64-cae4-401f-b68b-a02fca72fe1c",
   "metadata": {},
   "outputs": [
    {
     "name": "stdout",
     "output_type": "stream",
     "text": [
      "['__and__', '__class__', '__class_getitem__', '__contains__', '__delattr__', '__dir__', '__doc__', '__eq__', '__format__', '__ge__', '__getattribute__', '__getstate__', '__gt__', '__hash__', '__iand__', '__init__', '__init_subclass__', '__ior__', '__isub__', '__iter__', '__ixor__', '__le__', '__len__', '__lt__', '__ne__', '__new__', '__or__', '__rand__', '__reduce__', '__reduce_ex__', '__repr__', '__ror__', '__rsub__', '__rxor__', '__setattr__', '__sizeof__', '__str__', '__sub__', '__subclasshook__', '__xor__', 'add', 'clear', 'copy', 'difference', 'difference_update', 'discard', 'intersection', 'intersection_update', 'isdisjoint', 'issubset', 'issuperset', 'pop', 'remove', 'symmetric_difference', 'symmetric_difference_update', 'union', 'update']\n"
     ]
    }
   ],
   "source": [
    "print(dir(set))"
   ]
  },
  {
   "cell_type": "code",
   "execution_count": 163,
   "id": "7b44d57f-a5c7-47e5-8b69-a2446129b18a",
   "metadata": {},
   "outputs": [],
   "source": [
    "a = {\"a\", \"b\", \"c\"}\n",
    "b = {\"c\", \"d\", \"e\"}"
   ]
  },
  {
   "cell_type": "code",
   "execution_count": 164,
   "id": "c5937991-e416-43f2-840e-de17aaf0ff8c",
   "metadata": {},
   "outputs": [
    {
     "data": {
      "text/plain": [
       "{'a', 'b', 'c', 'd', 'e'}"
      ]
     },
     "execution_count": 164,
     "metadata": {},
     "output_type": "execute_result"
    }
   ],
   "source": [
    "a.union(b) #no se ejecutan in place. Nos devuelven un conjunto nuevo. Uno distinto"
   ]
  },
  {
   "cell_type": "code",
   "execution_count": 165,
   "id": "b1bd449b-75af-4351-a055-c19862abbc6e",
   "metadata": {},
   "outputs": [
    {
     "data": {
      "text/plain": [
       "{'c'}"
      ]
     },
     "execution_count": 165,
     "metadata": {},
     "output_type": "execute_result"
    }
   ],
   "source": [
    "a.intersection(b) #no son in place"
   ]
  },
  {
   "cell_type": "code",
   "execution_count": 166,
   "id": "283ae5e3-5cdc-4170-9ed2-141b0e6698ec",
   "metadata": {},
   "outputs": [
    {
     "data": {
      "text/plain": [
       "{'a', 'b', 'd', 'e'}"
      ]
     },
     "execution_count": 166,
     "metadata": {},
     "output_type": "execute_result"
    }
   ],
   "source": [
    "a.symmetric_difference(b)"
   ]
  },
  {
   "cell_type": "code",
   "execution_count": 167,
   "id": "87d871bc-1467-4923-a3a0-eab319dd0613",
   "metadata": {},
   "outputs": [
    {
     "data": {
      "text/plain": [
       "False"
      ]
     },
     "execution_count": 167,
     "metadata": {},
     "output_type": "execute_result"
    }
   ],
   "source": [
    "a.issubset(b)"
   ]
  },
  {
   "cell_type": "code",
   "execution_count": 168,
   "id": "46b13c56-7389-4d48-bb0e-8ded0b0032d8",
   "metadata": {},
   "outputs": [
    {
     "data": {
      "text/plain": [
       "{'a', 'b', 'c'}"
      ]
     },
     "execution_count": 168,
     "metadata": {},
     "output_type": "execute_result"
    }
   ],
   "source": [
    "a"
   ]
  },
  {
   "cell_type": "code",
   "execution_count": 169,
   "id": "242aa7eb-173d-499f-9a22-3ffd91a70e8f",
   "metadata": {},
   "outputs": [
    {
     "data": {
      "text/plain": [
       "True"
      ]
     },
     "execution_count": 169,
     "metadata": {},
     "output_type": "execute_result"
    }
   ],
   "source": [
    "{\"a\", \"c\"}.issubset(a)"
   ]
  },
  {
   "cell_type": "code",
   "execution_count": 170,
   "id": "7d680989-b6bc-455e-8abf-17764ab6e704",
   "metadata": {},
   "outputs": [],
   "source": [
    "#in place difference_update, update, intersection_update"
   ]
  },
  {
   "cell_type": "code",
   "execution_count": 171,
   "id": "b3640cf8-8320-4113-9508-83240fdefcfb",
   "metadata": {},
   "outputs": [
    {
     "data": {
      "text/plain": [
       "{'a', 'b', 'c'}"
      ]
     },
     "execution_count": 171,
     "metadata": {},
     "output_type": "execute_result"
    }
   ],
   "source": [
    "a"
   ]
  },
  {
   "cell_type": "code",
   "execution_count": 172,
   "id": "70fbfbcd-a793-4c13-9d20-e2822fd0ff84",
   "metadata": {},
   "outputs": [
    {
     "data": {
      "text/plain": [
       "{'c', 'd', 'e'}"
      ]
     },
     "execution_count": 172,
     "metadata": {},
     "output_type": "execute_result"
    }
   ],
   "source": [
    "b"
   ]
  },
  {
   "cell_type": "code",
   "execution_count": 173,
   "id": "cf11db5b-fd0f-49ed-8306-b186c412076c",
   "metadata": {},
   "outputs": [
    {
     "data": {
      "text/plain": [
       "{'a', 'b', 'c', 'd', 'e'}"
      ]
     },
     "execution_count": 173,
     "metadata": {},
     "output_type": "execute_result"
    }
   ],
   "source": [
    "a.union(b)"
   ]
  },
  {
   "cell_type": "code",
   "execution_count": 174,
   "id": "feac663e-d6b0-4770-8024-5db1a16e5387",
   "metadata": {},
   "outputs": [],
   "source": [
    "a.update(b) # Si no devuelve nada, es que se ejecuta in place, y crea un elemento nuevo. Que tendria que meten en una variable\n",
    "#o me sobreescribiria directamente la variable."
   ]
  },
  {
   "cell_type": "code",
   "execution_count": 175,
   "id": "f31a3f3f-ea8b-4fec-b794-9f62932f1cb2",
   "metadata": {},
   "outputs": [
    {
     "data": {
      "text/plain": [
       "{'a', 'b', 'c', 'd', 'e'}"
      ]
     },
     "execution_count": 175,
     "metadata": {},
     "output_type": "execute_result"
    }
   ],
   "source": [
    "a #metimos en a los elementos de b"
   ]
  },
  {
   "cell_type": "code",
   "execution_count": 176,
   "id": "200579a6-c27a-4467-89f5-9df2a30a2e26",
   "metadata": {},
   "outputs": [
    {
     "data": {
      "text/plain": [
       "{'a', 'b', 'c', 'd', 'e', 'f'}"
      ]
     },
     "execution_count": 176,
     "metadata": {},
     "output_type": "execute_result"
    }
   ],
   "source": [
    "a.add(\"f\")\n",
    "a"
   ]
  },
  {
   "cell_type": "code",
   "execution_count": 177,
   "id": "712d4346-7cac-4910-aab2-769896210ac4",
   "metadata": {},
   "outputs": [
    {
     "name": "stdout",
     "output_type": "stream",
     "text": [
      "Help on built-in function pop:\n",
      "\n",
      "pop(...) method of builtins.set instance\n",
      "    Remove and return an arbitrary set element.\n",
      "    Raises KeyError if the set is empty.\n",
      "\n"
     ]
    }
   ],
   "source": [
    "help(a.pop)"
   ]
  },
  {
   "cell_type": "code",
   "execution_count": 178,
   "id": "1286385a-4e3a-4255-9558-c35d2df621a8",
   "metadata": {},
   "outputs": [
    {
     "data": {
      "text/plain": [
       "{'a', 'b', 'c', 'd', 'f'}"
      ]
     },
     "execution_count": 178,
     "metadata": {},
     "output_type": "execute_result"
    }
   ],
   "source": [
    "a.pop()\n",
    "a"
   ]
  },
  {
   "cell_type": "code",
   "execution_count": 179,
   "id": "22864609-ab8c-4e6b-a1f3-d4cda1e39e6a",
   "metadata": {},
   "outputs": [
    {
     "data": {
      "text/plain": [
       "{'b', 'c', 'd', 'f'}"
      ]
     },
     "execution_count": 179,
     "metadata": {},
     "output_type": "execute_result"
    }
   ],
   "source": [
    "a.pop()\n",
    "a"
   ]
  },
  {
   "cell_type": "code",
   "execution_count": 180,
   "id": "f5a9ef3c-1e02-43f2-a424-4c13eb3db6b5",
   "metadata": {},
   "outputs": [
    {
     "data": {
      "text/plain": [
       "{'b', 'c', 'd', 'f'}"
      ]
     },
     "execution_count": 180,
     "metadata": {},
     "output_type": "execute_result"
    }
   ],
   "source": [
    "a"
   ]
  },
  {
   "cell_type": "code",
   "execution_count": 181,
   "id": "1aa95959-aec5-4a89-b307-cd368163af1e",
   "metadata": {},
   "outputs": [
    {
     "name": "stdout",
     "output_type": "stream",
     "text": [
      "Help on built-in function remove:\n",
      "\n",
      "remove(...) method of builtins.set instance\n",
      "    Remove an element from a set; it must be a member.\n",
      "    \n",
      "    If the element is not a member, raise a KeyError.\n",
      "\n"
     ]
    }
   ],
   "source": [
    "help(a.remove)"
   ]
  },
  {
   "cell_type": "code",
   "execution_count": 182,
   "id": "29aa87ed-f926-46dc-8b8a-1e43bdbcb200",
   "metadata": {},
   "outputs": [],
   "source": [
    "a.remove(\"d\")"
   ]
  },
  {
   "cell_type": "code",
   "execution_count": 183,
   "id": "47a2045f-46e0-4032-b99d-c1b9d2c12733",
   "metadata": {},
   "outputs": [
    {
     "data": {
      "text/plain": [
       "{'b', 'c', 'f'}"
      ]
     },
     "execution_count": 183,
     "metadata": {},
     "output_type": "execute_result"
    }
   ],
   "source": [
    "a"
   ]
  },
  {
   "cell_type": "code",
   "execution_count": 184,
   "id": "0848108c-5e5c-4f6d-a23e-d92e2ee89cb2",
   "metadata": {},
   "outputs": [
    {
     "name": "stdout",
     "output_type": "stream",
     "text": [
      "no existe el elemento\n"
     ]
    }
   ],
   "source": [
    "try: \n",
    "    a.remove(\"x\")\n",
    "except:\n",
    "    print(\"no existe el elemento\")"
   ]
  },
  {
   "cell_type": "code",
   "execution_count": 185,
   "id": "187b6987-68a2-472f-b1ba-289cc89d151c",
   "metadata": {},
   "outputs": [],
   "source": [
    "if \"x\" in a:\n",
    "    a.remove(\"x\")"
   ]
  },
  {
   "cell_type": "code",
   "execution_count": 186,
   "id": "3bbe781c-15e5-4e46-81e2-01738913622b",
   "metadata": {},
   "outputs": [
    {
     "name": "stdout",
     "output_type": "stream",
     "text": [
      "Help on built-in function discard:\n",
      "\n",
      "discard(...) method of builtins.set instance\n",
      "    Remove an element from a set if it is a member.\n",
      "    \n",
      "    Unlike set.remove(), the discard() method does not raise\n",
      "    an exception when an element is missing from the set.\n",
      "\n"
     ]
    }
   ],
   "source": [
    "help(a.discard)"
   ]
  },
  {
   "cell_type": "code",
   "execution_count": 187,
   "id": "d743a8da-c346-429d-baa9-c3aad380d0bb",
   "metadata": {},
   "outputs": [],
   "source": [
    "a.discard(\"x\")"
   ]
  },
  {
   "cell_type": "code",
   "execution_count": 188,
   "id": "ee5152a0-dc5e-411a-bcf3-ce0b815b61b6",
   "metadata": {},
   "outputs": [
    {
     "data": {
      "text/plain": [
       "{'b', 'c', 'f'}"
      ]
     },
     "execution_count": 188,
     "metadata": {},
     "output_type": "execute_result"
    }
   ],
   "source": [
    "a"
   ]
  },
  {
   "cell_type": "code",
   "execution_count": 189,
   "id": "85a8b857-c7a4-4f50-940a-20575809437d",
   "metadata": {},
   "outputs": [],
   "source": [
    "a.discard(\"c\") #discard no te da error, si el elemento no existe. Y si existe, lo elimina"
   ]
  },
  {
   "cell_type": "code",
   "execution_count": 190,
   "id": "1cb6627a-e4bd-4a67-b825-5c0c54a7ab5b",
   "metadata": {},
   "outputs": [
    {
     "data": {
      "text/plain": [
       "{'b', 'f'}"
      ]
     },
     "execution_count": 190,
     "metadata": {},
     "output_type": "execute_result"
    }
   ],
   "source": [
    "a"
   ]
  },
  {
   "cell_type": "code",
   "execution_count": null,
   "id": "71ff7866-64ca-4fd8-9f99-0c407cc92ab6",
   "metadata": {},
   "outputs": [],
   "source": []
  },
  {
   "cell_type": "markdown",
   "id": "0092e43a-3c6a-40cc-a111-6231b1ce2903",
   "metadata": {},
   "source": [
    "# Diccionarios"
   ]
  },
  {
   "cell_type": "code",
   "execution_count": 191,
   "id": "c8948418-cb8f-44b7-ac6f-f3e4356bc6a3",
   "metadata": {},
   "outputs": [
    {
     "name": "stdout",
     "output_type": "stream",
     "text": [
      "['__class__', '__class_getitem__', '__contains__', '__delattr__', '__delitem__', '__dir__', '__doc__', '__eq__', '__format__', '__ge__', '__getattribute__', '__getitem__', '__getstate__', '__gt__', '__hash__', '__init__', '__init_subclass__', '__ior__', '__iter__', '__le__', '__len__', '__lt__', '__ne__', '__new__', '__or__', '__reduce__', '__reduce_ex__', '__repr__', '__reversed__', '__ror__', '__setattr__', '__setitem__', '__sizeof__', '__str__', '__subclasshook__', 'clear', 'copy', 'fromkeys', 'get', 'items', 'keys', 'pop', 'popitem', 'setdefault', 'update', 'values']\n"
     ]
    }
   ],
   "source": [
    "print(dir(dict))"
   ]
  },
  {
   "cell_type": "code",
   "execution_count": 192,
   "id": "84ac284c-91a9-4b74-bf56-b95d53febef3",
   "metadata": {},
   "outputs": [],
   "source": [
    "a = dict(ene = 31, feb = 28, mar = 31, abr = 30)"
   ]
  },
  {
   "cell_type": "code",
   "execution_count": 193,
   "id": "4189eba5-7333-4e30-8ddc-8642bcb21e4e",
   "metadata": {},
   "outputs": [
    {
     "data": {
      "text/plain": [
       "{'ene': 31, 'feb': 28, 'mar': 31, 'abr': 30}"
      ]
     },
     "execution_count": 193,
     "metadata": {},
     "output_type": "execute_result"
    }
   ],
   "source": [
    "a"
   ]
  },
  {
   "cell_type": "code",
   "execution_count": 194,
   "id": "c353546d-0d7b-4089-81a9-941e2a94fb01",
   "metadata": {},
   "outputs": [
    {
     "data": {
      "text/plain": [
       "31"
      ]
     },
     "execution_count": 194,
     "metadata": {},
     "output_type": "execute_result"
    }
   ],
   "source": [
    "a[\"mar\"]"
   ]
  },
  {
   "cell_type": "code",
   "execution_count": 195,
   "id": "9c13491f-df48-4f86-8f6b-ae83ee4584af",
   "metadata": {},
   "outputs": [],
   "source": [
    "a.update(may = 31) #añadir un valor"
   ]
  },
  {
   "cell_type": "code",
   "execution_count": 196,
   "id": "637bc03a-1ed2-4313-af03-5419e5cfafd8",
   "metadata": {},
   "outputs": [
    {
     "data": {
      "text/plain": [
       "{'ene': 31, 'feb': 28, 'mar': 31, 'abr': 30, 'may': 31}"
      ]
     },
     "execution_count": 196,
     "metadata": {},
     "output_type": "execute_result"
    }
   ],
   "source": [
    "a"
   ]
  },
  {
   "cell_type": "code",
   "execution_count": 197,
   "id": "c60ef3d0-3b45-4189-8da7-6fdd7ed2b0d4",
   "metadata": {},
   "outputs": [],
   "source": [
    "a[\"jun\"] = 30 #añadir un valor"
   ]
  },
  {
   "cell_type": "code",
   "execution_count": 198,
   "id": "61a4640e-5174-41b2-a00e-decea8642498",
   "metadata": {},
   "outputs": [
    {
     "data": {
      "text/plain": [
       "{'ene': 31, 'feb': 28, 'mar': 31, 'abr': 30, 'may': 31, 'jun': 30}"
      ]
     },
     "execution_count": 198,
     "metadata": {},
     "output_type": "execute_result"
    }
   ],
   "source": [
    "a"
   ]
  },
  {
   "cell_type": "code",
   "execution_count": 199,
   "id": "c1d8371b-44f8-45ee-aa69-b178db4faedc",
   "metadata": {},
   "outputs": [
    {
     "name": "stdout",
     "output_type": "stream",
     "text": [
      "Help on built-in function get:\n",
      "\n",
      "get(key, default=None, /) method of builtins.dict instance\n",
      "    Return the value for key if key is in the dictionary, else default.\n",
      "\n"
     ]
    }
   ],
   "source": [
    "help(a.get)"
   ]
  },
  {
   "cell_type": "code",
   "execution_count": 200,
   "id": "650686c5-b49f-4652-90ad-e5c7ff6c2922",
   "metadata": {},
   "outputs": [
    {
     "data": {
      "text/plain": [
       "30"
      ]
     },
     "execution_count": 200,
     "metadata": {},
     "output_type": "execute_result"
    }
   ],
   "source": [
    "a.get(\"jun\")"
   ]
  },
  {
   "cell_type": "code",
   "execution_count": 201,
   "id": "56a6331b-77c8-4fde-b9d5-50581a71cd90",
   "metadata": {},
   "outputs": [
    {
     "data": {
      "text/plain": [
       "'no existe'"
      ]
     },
     "execution_count": 201,
     "metadata": {},
     "output_type": "execute_result"
    }
   ],
   "source": [
    "a.get(\"ago\", \"no existe\")"
   ]
  },
  {
   "cell_type": "code",
   "execution_count": 202,
   "id": "8dfcdb8d-06e8-4576-a353-930d914eae1a",
   "metadata": {},
   "outputs": [
    {
     "data": {
      "text/plain": [
       "31"
      ]
     },
     "execution_count": 202,
     "metadata": {},
     "output_type": "execute_result"
    }
   ],
   "source": [
    "a.get(\"may\", \"no existe\")"
   ]
  },
  {
   "cell_type": "code",
   "execution_count": 203,
   "id": "7d7e7386-f593-4caa-a5ee-eef60999a250",
   "metadata": {},
   "outputs": [
    {
     "data": {
      "text/plain": [
       "{'ene': 31, 'feb': 28, 'mar': 31, 'abr': 30, 'may': 31, 'jun': 30}"
      ]
     },
     "execution_count": 203,
     "metadata": {},
     "output_type": "execute_result"
    }
   ],
   "source": [
    "a"
   ]
  },
  {
   "cell_type": "code",
   "execution_count": 204,
   "id": "99943eeb-be8c-4db0-83e7-7dda4ce55e42",
   "metadata": {},
   "outputs": [
    {
     "data": {
      "text/plain": [
       "dict_keys(['ene', 'feb', 'mar', 'abr', 'may', 'jun'])"
      ]
     },
     "execution_count": 204,
     "metadata": {},
     "output_type": "execute_result"
    }
   ],
   "source": [
    "a.keys()"
   ]
  },
  {
   "cell_type": "code",
   "execution_count": 205,
   "id": "2e06d2a9-aefe-4db5-b0f7-4edc0af10703",
   "metadata": {},
   "outputs": [
    {
     "data": {
      "text/plain": [
       "dict_keys"
      ]
     },
     "execution_count": 205,
     "metadata": {},
     "output_type": "execute_result"
    }
   ],
   "source": [
    "type(a.keys())"
   ]
  },
  {
   "cell_type": "code",
   "execution_count": 206,
   "id": "02e10257-bcb2-4f70-bb0f-0162c8ac839a",
   "metadata": {},
   "outputs": [],
   "source": [
    "# a.keys()[0] no sirve. parece una lista, pero no funciona esta forma de acceder al array"
   ]
  },
  {
   "cell_type": "code",
   "execution_count": 207,
   "id": "c0cafc97-8449-44ed-be3e-b6cfd40a45d0",
   "metadata": {},
   "outputs": [
    {
     "name": "stdout",
     "output_type": "stream",
     "text": [
      "['__and__', '__class__', '__contains__', '__delattr__', '__dir__', '__doc__', '__eq__', '__format__', '__ge__', '__getattribute__', '__getstate__', '__gt__', '__hash__', '__init__', '__init_subclass__', '__iter__', '__le__', '__len__', '__lt__', '__ne__', '__new__', '__or__', '__rand__', '__reduce__', '__reduce_ex__', '__repr__', '__reversed__', '__ror__', '__rsub__', '__rxor__', '__setattr__', '__sizeof__', '__str__', '__sub__', '__subclasshook__', '__xor__', 'isdisjoint', 'mapping']\n"
     ]
    }
   ],
   "source": [
    "print(dir(a.keys()))"
   ]
  },
  {
   "cell_type": "code",
   "execution_count": 208,
   "id": "8f697c24-f3ff-46cb-89d9-12fcb9bab900",
   "metadata": {},
   "outputs": [
    {
     "name": "stdout",
     "output_type": "stream",
     "text": [
      "ene\n",
      "feb\n",
      "mar\n",
      "abr\n",
      "may\n",
      "jun\n"
     ]
    }
   ],
   "source": [
    "for mes in a.keys(): #se puede recorrer con un for. Es iterable\n",
    "    print(mes)"
   ]
  },
  {
   "cell_type": "code",
   "execution_count": 209,
   "id": "4fbcd04a-0814-4161-9477-e3d02ebd8a1f",
   "metadata": {},
   "outputs": [
    {
     "data": {
      "text/plain": [
       "dict_values([31, 28, 31, 30, 31, 30])"
      ]
     },
     "execution_count": 209,
     "metadata": {},
     "output_type": "execute_result"
    }
   ],
   "source": [
    "a.values()"
   ]
  },
  {
   "cell_type": "code",
   "execution_count": 210,
   "id": "007d87b3-884e-44e4-8d72-e9a61e166107",
   "metadata": {},
   "outputs": [
    {
     "name": "stdout",
     "output_type": "stream",
     "text": [
      "31\n",
      "28\n",
      "31\n",
      "30\n",
      "31\n",
      "30\n"
     ]
    }
   ],
   "source": [
    "for dias in a.values():\n",
    "    print(dias)"
   ]
  },
  {
   "cell_type": "code",
   "execution_count": 211,
   "id": "ac295922-0153-41a4-9e14-dbe0712f0ffe",
   "metadata": {},
   "outputs": [
    {
     "name": "stdout",
     "output_type": "stream",
     "text": [
      "Help on built-in function items:\n",
      "\n",
      "items(...) method of builtins.dict instance\n",
      "    D.items() -> a set-like object providing a view on D's items\n",
      "\n"
     ]
    }
   ],
   "source": [
    "help(a.items)"
   ]
  },
  {
   "cell_type": "code",
   "execution_count": 212,
   "id": "43f1e2f7-22e2-4698-a4f9-9e083cab7083",
   "metadata": {},
   "outputs": [
    {
     "data": {
      "text/plain": [
       "dict_items([('ene', 31), ('feb', 28), ('mar', 31), ('abr', 30), ('may', 31), ('jun', 30)])"
      ]
     },
     "execution_count": 212,
     "metadata": {},
     "output_type": "execute_result"
    }
   ],
   "source": [
    "a.items()"
   ]
  },
  {
   "cell_type": "code",
   "execution_count": 213,
   "id": "baac91da-c54a-46b9-8029-0746a8fc87dd",
   "metadata": {},
   "outputs": [
    {
     "name": "stdout",
     "output_type": "stream",
     "text": [
      "('ene', 31)\n",
      "('feb', 28)\n",
      "('mar', 31)\n",
      "('abr', 30)\n",
      "('may', 31)\n",
      "('jun', 30)\n"
     ]
    }
   ],
   "source": [
    "for item in a.items():\n",
    "    print(item)"
   ]
  },
  {
   "cell_type": "code",
   "execution_count": 214,
   "id": "8ec070b8-8b7a-4c64-8dbb-de9e46aa8630",
   "metadata": {},
   "outputs": [],
   "source": [
    "b = (2, 3)"
   ]
  },
  {
   "cell_type": "code",
   "execution_count": 215,
   "id": "619ad7aa-d422-4e17-ae2b-da0ce4c16dfa",
   "metadata": {},
   "outputs": [
    {
     "data": {
      "text/plain": [
       "(2, 3)"
      ]
     },
     "execution_count": 215,
     "metadata": {},
     "output_type": "execute_result"
    }
   ],
   "source": [
    "b"
   ]
  },
  {
   "cell_type": "code",
   "execution_count": 216,
   "id": "e897ac9d-b1e5-4108-8365-bb97bb6aee53",
   "metadata": {},
   "outputs": [],
   "source": [
    "b, c = (2, 3) #desempaquetado de una estructura. Sirve con tuplas, listas"
   ]
  },
  {
   "cell_type": "code",
   "execution_count": 217,
   "id": "8882e838-02a4-4621-8142-cfd31e0b2565",
   "metadata": {},
   "outputs": [
    {
     "data": {
      "text/plain": [
       "2"
      ]
     },
     "execution_count": 217,
     "metadata": {},
     "output_type": "execute_result"
    }
   ],
   "source": [
    "b"
   ]
  },
  {
   "cell_type": "code",
   "execution_count": 218,
   "id": "b960ee2b-fe21-44b1-a04d-6e1129b19e16",
   "metadata": {},
   "outputs": [
    {
     "name": "stdout",
     "output_type": "stream",
     "text": [
      "('ene', 31)\n",
      "('feb', 28)\n",
      "('mar', 31)\n",
      "('abr', 30)\n",
      "('may', 31)\n",
      "('jun', 30)\n"
     ]
    }
   ],
   "source": [
    "for item in a.items():\n",
    "    print(item)"
   ]
  },
  {
   "cell_type": "code",
   "execution_count": 219,
   "id": "c97d467a-01e8-439d-b54d-43ddadcb3d79",
   "metadata": {},
   "outputs": [
    {
     "name": "stdout",
     "output_type": "stream",
     "text": [
      "ene 31\n",
      "feb 28\n",
      "mar 31\n",
      "abr 30\n",
      "may 31\n",
      "jun 30\n"
     ]
    }
   ],
   "source": [
    "for key, value in a.items():\n",
    "    print(key, value) #de esta manera desempaqueto"
   ]
  },
  {
   "cell_type": "code",
   "execution_count": null,
   "id": "7acd424a-3e10-494e-917b-f12672068456",
   "metadata": {},
   "outputs": [],
   "source": []
  },
  {
   "cell_type": "code",
   "execution_count": 225,
   "id": "e766b531-abe9-4c0a-a55a-c82b04e8148d",
   "metadata": {},
   "outputs": [
    {
     "name": "stdin",
     "output_type": "stream",
     "text": [
      "Introduce un nombre de usuario Daniel\n",
      "Introduce un nombre de usuario Luis\n",
      "Introduce un nombre de usuario Susana\n",
      "Introduce un nombre de usuario \n",
      "Introduce un nombre de usuario exit\n"
     ]
    }
   ],
   "source": [
    "nombres = []\n",
    "nombre = \"test\"\n",
    "while nombre != \"exit\":\n",
    "    nombre = input(\"Introduce un nombre de usuario\")\n",
    "    if nombre != \"exit\":\n",
    "        nombres.append(nombre)"
   ]
  },
  {
   "cell_type": "code",
   "execution_count": 226,
   "id": "0fac1ff9-37e1-4cca-a886-7a3cc2b663d4",
   "metadata": {},
   "outputs": [
    {
     "data": {
      "text/plain": [
       "['Daniel', 'Luis', 'Susana', '']"
      ]
     },
     "execution_count": 226,
     "metadata": {},
     "output_type": "execute_result"
    }
   ],
   "source": [
    "nombres"
   ]
  },
  {
   "cell_type": "code",
   "execution_count": null,
   "id": "90635a9e-8cd9-485a-af44-f0c8071c7af2",
   "metadata": {},
   "outputs": [],
   "source": []
  },
  {
   "cell_type": "code",
   "execution_count": 228,
   "id": "85050f15-5e4d-4d52-b6b1-e6ccc0cf3860",
   "metadata": {},
   "outputs": [
    {
     "name": "stdout",
     "output_type": "stream",
     "text": [
      "0\n",
      "1\n",
      "2\n",
      "3\n",
      "4\n"
     ]
    }
   ],
   "source": [
    "for n in range(8):\n",
    "    if n == 5:\n",
    "        break\n",
    "    print(n)"
   ]
  },
  {
   "cell_type": "code",
   "execution_count": 230,
   "id": "c01c5640-90e9-4db2-a9f8-29df407a2b58",
   "metadata": {},
   "outputs": [
    {
     "name": "stdout",
     "output_type": "stream",
     "text": [
      "0\n",
      "1\n",
      "2\n",
      "3\n",
      "4\n",
      "6\n",
      "7\n"
     ]
    }
   ],
   "source": [
    "for n in range(8):\n",
    "    if n == 5:\n",
    "        continue #aca obliga a saltarse el print de la iteracion en la que la n == 5, y empieza nuevamente a iterar\n",
    "    print(n)"
   ]
  },
  {
   "cell_type": "code",
   "execution_count": null,
   "id": "a60dfd95-599d-4efe-9aee-9df23e796589",
   "metadata": {},
   "outputs": [],
   "source": []
  },
  {
   "cell_type": "code",
   "execution_count": null,
   "id": "a4f4c843-3ca1-40e4-9a1d-120380b086a5",
   "metadata": {},
   "outputs": [],
   "source": []
  },
  {
   "cell_type": "code",
   "execution_count": null,
   "id": "294f4564-1e4a-4cd5-842d-ff15c0740c2d",
   "metadata": {},
   "outputs": [],
   "source": []
  },
  {
   "cell_type": "code",
   "execution_count": null,
   "id": "7320aab1-f943-4061-b464-2404858b3f84",
   "metadata": {},
   "outputs": [],
   "source": []
  },
  {
   "cell_type": "code",
   "execution_count": null,
   "id": "50002100-dc99-4f03-8a0c-ceaab87bd777",
   "metadata": {},
   "outputs": [],
   "source": []
  }
 ],
 "metadata": {
  "kernelspec": {
   "display_name": "Python 3 (ipykernel)",
   "language": "python",
   "name": "python3"
  },
  "language_info": {
   "codemirror_mode": {
    "name": "ipython",
    "version": 3
   },
   "file_extension": ".py",
   "mimetype": "text/x-python",
   "name": "python",
   "nbconvert_exporter": "python",
   "pygments_lexer": "ipython3",
   "version": "3.11.7"
  }
 },
 "nbformat": 4,
 "nbformat_minor": 5
}
