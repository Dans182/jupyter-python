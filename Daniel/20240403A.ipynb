{
 "cells": [
  {
   "cell_type": "code",
   "execution_count": null,
   "id": "a2f25ad8-3693-427a-bba7-fd6382bb7fdb",
   "metadata": {},
   "outputs": [],
   "source": []
  },
  {
   "cell_type": "code",
   "execution_count": null,
   "id": "9e6437b5-c5df-4cfa-8ea7-896682aae62e",
   "metadata": {},
   "outputs": [],
   "source": []
  },
  {
   "cell_type": "code",
   "execution_count": null,
   "id": "2bf4fd20-ba3e-40fa-9e9c-606ab233fab3",
   "metadata": {},
   "outputs": [],
   "source": [
    "def suma(a, b"
   ]
  },
  {
   "cell_type": "code",
   "execution_count": null,
   "id": "bf506f61-d99f-4967-9ed1-0cab37a7ea31",
   "metadata": {},
   "outputs": [],
   "source": []
  },
  {
   "cell_type": "code",
   "execution_count": null,
   "id": "0f0902d3-cc9e-4272-80b7-b5bdcdd602c7",
   "metadata": {},
   "outputs": [],
   "source": []
  },
  {
   "cell_type": "code",
   "execution_count": 2,
   "id": "1ac10c62-c593-4f93-8a8d-92908e38cf7b",
   "metadata": {},
   "outputs": [
    {
     "name": "stdout",
     "output_type": "stream",
     "text": [
      "\n"
     ]
    }
   ],
   "source": [
    "print()"
   ]
  },
  {
   "cell_type": "code",
   "execution_count": 1,
   "id": "a2069ddf-cfa3-4e80-80db-83b916e726fa",
   "metadata": {},
   "outputs": [
    {
     "name": "stdout",
     "output_type": "stream",
     "text": [
      "a\n",
      "\n",
      "b\n"
     ]
    }
   ],
   "source": [
    "print(\"a\")\n",
    "print()\n",
    "print(\"b\")"
   ]
  },
  {
   "cell_type": "code",
   "execution_count": 3,
   "id": "e6ebd737-ff9a-4f45-b97a-9250bbee5803",
   "metadata": {},
   "outputs": [
    {
     "name": "stdout",
     "output_type": "stream",
     "text": [
      "1 2 3\n"
     ]
    }
   ],
   "source": [
    "print(1, 2, 3)"
   ]
  },
  {
   "cell_type": "code",
   "execution_count": 8,
   "id": "4af84a16-6288-4767-abbc-837162f7fb90",
   "metadata": {},
   "outputs": [
    {
     "name": "stdout",
     "output_type": "stream",
     "text": [
      "<class 'tuple'>\n",
      "(1, 2, 3, 4, 5, 6, 7, 8, 9)\n"
     ]
    },
    {
     "data": {
      "text/plain": [
       "45"
      ]
     },
     "execution_count": 8,
     "metadata": {},
     "output_type": "execute_result"
    }
   ],
   "source": [
    "def suma(*args): #todos los argumentos... args es una tupla. Este args estaría recibiendo valores simples, todos los argumentos\n",
    "    print(type(args))\n",
    "    print(args)\n",
    "    return sum(args)\n",
    "\n",
    "suma(1, 2, 3, 4, 5, 6, 7, 8, 9)"
   ]
  },
  {
   "cell_type": "code",
   "execution_count": 12,
   "id": "8e43a475-0a00-4d9a-bccc-0412de83b0c8",
   "metadata": {},
   "outputs": [
    {
     "name": "stdout",
     "output_type": "stream",
     "text": [
      "<class 'dict'>\n",
      "{'a': 3, 'd': 2, 'b': -1, 'c': 17}\n"
     ]
    }
   ],
   "source": [
    "def suma(**kwargs): #keywords args\n",
    "    print(type(kwargs))\n",
    "    print(kwargs)\n",
    "\n",
    "suma(a = 3, d = 2, b = -1, c = 17)"
   ]
  },
  {
   "cell_type": "code",
   "execution_count": 13,
   "id": "be9608b5-774f-40c2-91f4-590f1db9c4a7",
   "metadata": {},
   "outputs": [],
   "source": [
    "def suma(a, b, c = 0, d = 0, *args, **kwargs):\n",
    "    pass"
   ]
  },
  {
   "cell_type": "code",
   "execution_count": null,
   "id": "8b56ee6d-bbe0-4752-a473-f9a9e113e4d8",
   "metadata": {},
   "outputs": [],
   "source": []
  },
  {
   "cell_type": "markdown",
   "id": "4186cfed-8110-44ae-b7d5-e38644c37700",
   "metadata": {},
   "source": [
    "## Funciones Lambda - Funciones anónimas"
   ]
  },
  {
   "cell_type": "code",
   "execution_count": 14,
   "id": "e7d26278-88ea-47b2-bac1-78559fa770ed",
   "metadata": {},
   "outputs": [
    {
     "data": {
      "text/plain": [
       "<function __main__.<lambda>(n)>"
      ]
     },
     "execution_count": 14,
     "metadata": {},
     "output_type": "execute_result"
    }
   ],
   "source": [
    "lambda n: n ** 2"
   ]
  },
  {
   "cell_type": "code",
   "execution_count": 15,
   "id": "3d3cba5f-039c-42b4-954f-791fb15c15ca",
   "metadata": {},
   "outputs": [
    {
     "data": {
      "text/plain": [
       "36"
      ]
     },
     "execution_count": 15,
     "metadata": {},
     "output_type": "execute_result"
    }
   ],
   "source": [
    "(lambda n: n ** 2)(6)"
   ]
  },
  {
   "cell_type": "code",
   "execution_count": 18,
   "id": "1f215969-5e56-4f6b-8888-b7ad5453a778",
   "metadata": {},
   "outputs": [],
   "source": [
    "square = lambda n: n ** 2 "
   ]
  },
  {
   "cell_type": "code",
   "execution_count": 20,
   "id": "1230eba2-1463-41a8-8299-0a113b485ba2",
   "metadata": {},
   "outputs": [
    {
     "data": {
      "text/plain": [
       "<function __main__.<lambda>(n)>"
      ]
     },
     "execution_count": 20,
     "metadata": {},
     "output_type": "execute_result"
    }
   ],
   "source": [
    "square"
   ]
  },
  {
   "cell_type": "code",
   "execution_count": 21,
   "id": "1c9cb8ce-1003-4c8b-b49c-ab710091203e",
   "metadata": {},
   "outputs": [
    {
     "data": {
      "text/plain": [
       "<function sum(iterable, /, start=0)>"
      ]
     },
     "execution_count": 21,
     "metadata": {},
     "output_type": "execute_result"
    }
   ],
   "source": [
    "sum"
   ]
  },
  {
   "cell_type": "code",
   "execution_count": 17,
   "id": "79da804e-bb64-4b94-b057-72b4a2f8d740",
   "metadata": {},
   "outputs": [
    {
     "data": {
      "text/plain": [
       "25"
      ]
     },
     "execution_count": 17,
     "metadata": {},
     "output_type": "execute_result"
    }
   ],
   "source": [
    "square(5)"
   ]
  },
  {
   "cell_type": "code",
   "execution_count": null,
   "id": "52d546b7-9691-475e-b43c-e1925329ca0d",
   "metadata": {},
   "outputs": [],
   "source": []
  },
  {
   "cell_type": "markdown",
   "id": "044757a5-4891-4f7e-b5c2-665663878022",
   "metadata": {},
   "source": [
    "## Función Filter"
   ]
  },
  {
   "cell_type": "code",
   "execution_count": 22,
   "id": "c80c4859-4ee2-473b-9c22-20841c37ca81",
   "metadata": {},
   "outputs": [],
   "source": [
    "temp = [16, -5, 11, -1, 32, 28]"
   ]
  },
  {
   "cell_type": "code",
   "execution_count": 29,
   "id": "6e275d2a-3054-4c07-8c22-8eccb8da9995",
   "metadata": {},
   "outputs": [
    {
     "data": {
      "text/plain": [
       "list"
      ]
     },
     "execution_count": 29,
     "metadata": {},
     "output_type": "execute_result"
    }
   ],
   "source": [
    "type(temp)"
   ]
  },
  {
   "cell_type": "code",
   "execution_count": 25,
   "id": "fe594a65-1067-41a1-be51-ddcb23fd06e3",
   "metadata": {},
   "outputs": [],
   "source": [
    "def temp_positive(n):\n",
    "    if n > 0:\n",
    "        return True\n",
    "    else:\n",
    "        return False"
   ]
  },
  {
   "cell_type": "code",
   "execution_count": 26,
   "id": "08f7a7ea-10f5-49e7-be74-92f23757e0ff",
   "metadata": {},
   "outputs": [],
   "source": [
    "def temp_positive(n):\n",
    "    return n > 0"
   ]
  },
  {
   "cell_type": "code",
   "execution_count": 27,
   "id": "9576e4e3-cbcd-4085-8732-4329492c7f46",
   "metadata": {},
   "outputs": [
    {
     "data": {
      "text/plain": [
       "<filter at 0x291dc314550>"
      ]
     },
     "execution_count": 27,
     "metadata": {},
     "output_type": "execute_result"
    }
   ],
   "source": [
    "filter(temp_positive, temp)"
   ]
  },
  {
   "cell_type": "code",
   "execution_count": 28,
   "id": "fe4a0706-7e2e-4d6c-9aa2-28be55558e29",
   "metadata": {},
   "outputs": [
    {
     "data": {
      "text/plain": [
       "[16, 11, 32, 28]"
      ]
     },
     "execution_count": 28,
     "metadata": {},
     "output_type": "execute_result"
    }
   ],
   "source": [
    "list(filter(temp_positive, temp))"
   ]
  },
  {
   "cell_type": "code",
   "execution_count": 30,
   "id": "9b2df5d8-6693-4ff4-a2b9-b6367e14f5cb",
   "metadata": {},
   "outputs": [
    {
     "data": {
      "text/plain": [
       "[16, 11, 32, 28]"
      ]
     },
     "execution_count": 30,
     "metadata": {},
     "output_type": "execute_result"
    }
   ],
   "source": [
    "list(filter(lambda n : n > 0, temp)) #ahora con funcion lambda"
   ]
  },
  {
   "cell_type": "code",
   "execution_count": null,
   "id": "3f0f8b90-6a5a-415f-852a-da3fc54393ed",
   "metadata": {},
   "outputs": [],
   "source": []
  },
  {
   "cell_type": "markdown",
   "id": "1523e971-9551-4551-9c9f-f3cbf2c1a2d8",
   "metadata": {},
   "source": [
    "## Función Map"
   ]
  },
  {
   "cell_type": "code",
   "execution_count": 33,
   "id": "8fee421c-2a3d-4e54-8a4b-c4e1eca3f797",
   "metadata": {},
   "outputs": [
    {
     "data": {
      "text/plain": [
       "[16, -5, 11, -1, 32, 28]"
      ]
     },
     "execution_count": 33,
     "metadata": {},
     "output_type": "execute_result"
    }
   ],
   "source": [
    "temp"
   ]
  },
  {
   "cell_type": "code",
   "execution_count": 52,
   "id": "0e89fad7-5d13-41e3-9a8d-e3ed0692f1ab",
   "metadata": {},
   "outputs": [],
   "source": [
    "def to_fahrenheit(n):\n",
    "    return n * 1.8 + 32"
   ]
  },
  {
   "cell_type": "code",
   "execution_count": 38,
   "id": "bc80cc93-66d4-44bd-ae0a-7c21b7069cc7",
   "metadata": {},
   "outputs": [
    {
     "data": {
      "text/plain": [
       "<map at 0x291dc31ba00>"
      ]
     },
     "execution_count": 38,
     "metadata": {},
     "output_type": "execute_result"
    }
   ],
   "source": [
    "map(to_fahrenheit, temp)"
   ]
  },
  {
   "cell_type": "code",
   "execution_count": 53,
   "id": "e05885c4-6806-4ca3-af0a-826fbe0854bf",
   "metadata": {},
   "outputs": [
    {
     "data": {
      "text/plain": [
       "[60.8, 23.0, 51.8, 30.2, 89.6, 82.4]"
      ]
     },
     "execution_count": 53,
     "metadata": {},
     "output_type": "execute_result"
    }
   ],
   "source": [
    "list(map(to_fahrenheit, temp))"
   ]
  },
  {
   "cell_type": "code",
   "execution_count": 44,
   "id": "11424f50-77f6-4b7a-a00a-ba849a77cd7d",
   "metadata": {},
   "outputs": [
    {
     "data": {
      "text/plain": [
       "[60.8, 23.0, 51.8, 30.2, 89.6, 82.4]"
      ]
     },
     "execution_count": 44,
     "metadata": {},
     "output_type": "execute_result"
    }
   ],
   "source": [
    "list(map(lambda n: n * 1.8 + 32, temp))"
   ]
  },
  {
   "cell_type": "code",
   "execution_count": null,
   "id": "1c237ce4-575f-45bd-bd66-0d7c57615005",
   "metadata": {},
   "outputs": [],
   "source": []
  },
  {
   "cell_type": "markdown",
   "id": "14388011-9cde-430e-ac72-c32d77853c31",
   "metadata": {},
   "source": [
    "# Librerías"
   ]
  },
  {
   "cell_type": "code",
   "execution_count": 45,
   "id": "0675a710-2ad3-49b8-b6e4-fb551c6a1681",
   "metadata": {},
   "outputs": [],
   "source": [
    "def suma(a, b):\n",
    "    return a + b"
   ]
  },
  {
   "cell_type": "code",
   "execution_count": 46,
   "id": "3ab1e393-598a-4577-bfec-6fff3d5bcce5",
   "metadata": {},
   "outputs": [],
   "source": [
    "def resta(a, b):\n",
    "    return a - b"
   ]
  },
  {
   "cell_type": "code",
   "execution_count": 50,
   "id": "f8fe5c23-9779-4443-b61c-164e190353e5",
   "metadata": {},
   "outputs": [],
   "source": [
    "def multiplica(a, b):\n",
    "    return a * b"
   ]
  },
  {
   "cell_type": "code",
   "execution_count": 48,
   "id": "97fe2d6a-a860-47c8-96a5-8044d10d2d34",
   "metadata": {},
   "outputs": [],
   "source": [
    "pi = 3.141592"
   ]
  },
  {
   "cell_type": "code",
   "execution_count": 51,
   "id": "4a8abe3d-9030-4232-ac47-ee2a54fc8d5b",
   "metadata": {},
   "outputs": [
    {
     "data": {
      "text/plain": [
       "17.009999999999998"
      ]
     },
     "execution_count": 51,
     "metadata": {},
     "output_type": "execute_result"
    }
   ],
   "source": [
    "multiplica(3, 5.67)"
   ]
  },
  {
   "cell_type": "code",
   "execution_count": 54,
   "id": "4382be85-2ea1-41bb-9347-6570a9ecb416",
   "metadata": {},
   "outputs": [],
   "source": [
    "# Modulos, paquetes, librerías (bibliotecas)"
   ]
  },
  {
   "cell_type": "code",
   "execution_count": 55,
   "id": "ef44532c-e62e-4c69-af78-cf6a7f9f09c1",
   "metadata": {},
   "outputs": [],
   "source": [
    "import matematicas"
   ]
  },
  {
   "cell_type": "code",
   "execution_count": 57,
   "id": "e5e5394d-2ed7-430f-b637-e10222060788",
   "metadata": {},
   "outputs": [
    {
     "data": {
      "text/plain": [
       "3.141592"
      ]
     },
     "execution_count": 57,
     "metadata": {},
     "output_type": "execute_result"
    }
   ],
   "source": [
    "matematicas.pi"
   ]
  },
  {
   "cell_type": "code",
   "execution_count": 58,
   "id": "e28bbb34-6b20-4963-82b5-5e0cac170190",
   "metadata": {},
   "outputs": [
    {
     "data": {
      "text/plain": [
       "25"
      ]
     },
     "execution_count": 58,
     "metadata": {},
     "output_type": "execute_result"
    }
   ],
   "source": [
    "matematicas.suma(7, 18)"
   ]
  },
  {
   "cell_type": "code",
   "execution_count": 60,
   "id": "67fb9cc4-e87a-407e-9ebe-5e932f6339fa",
   "metadata": {},
   "outputs": [
    {
     "name": "stdout",
     "output_type": "stream",
     "text": [
      "Help on function suma in module __main__:\n",
      "\n",
      "suma(a, b)\n",
      "\n"
     ]
    }
   ],
   "source": [
    "help(suma)"
   ]
  },
  {
   "cell_type": "code",
   "execution_count": 59,
   "id": "731bd03e-d626-423e-b02c-864648478b54",
   "metadata": {},
   "outputs": [
    {
     "name": "stdout",
     "output_type": "stream",
     "text": [
      "Help on function suma in module matematicas:\n",
      "\n",
      "suma(a, b)\n",
      "    Suma los valores a y b, pasados como argumentos\n",
      "\n"
     ]
    }
   ],
   "source": [
    "help(matematicas.suma)"
   ]
  },
  {
   "cell_type": "code",
   "execution_count": 61,
   "id": "e2135fa1-5166-4dd6-a766-821e2f3b1bf6",
   "metadata": {},
   "outputs": [],
   "source": [
    "import matematicas as mates #aca importo esa libreria, con este alias que reasigné"
   ]
  },
  {
   "cell_type": "code",
   "execution_count": 62,
   "id": "b5013427-3c13-4cf6-9dce-2e8b0f0d4690",
   "metadata": {},
   "outputs": [
    {
     "data": {
      "text/plain": [
       "3.141592"
      ]
     },
     "execution_count": 62,
     "metadata": {},
     "output_type": "execute_result"
    }
   ],
   "source": [
    "mates.pi"
   ]
  },
  {
   "cell_type": "code",
   "execution_count": 64,
   "id": "8078ab66-65f2-490e-9ee6-c3c3850ef48d",
   "metadata": {},
   "outputs": [
    {
     "data": {
      "text/plain": [
       "6"
      ]
     },
     "execution_count": 64,
     "metadata": {},
     "output_type": "execute_result"
    }
   ],
   "source": [
    "mates.suma(2, 4)"
   ]
  },
  {
   "cell_type": "code",
   "execution_count": 65,
   "id": "c510d211-15fe-4f1d-8cc1-6ddb9f32cd8f",
   "metadata": {},
   "outputs": [],
   "source": [
    "import numpy"
   ]
  },
  {
   "cell_type": "code",
   "execution_count": 66,
   "id": "c5620912-d834-4245-87cf-eb09d6818b8a",
   "metadata": {},
   "outputs": [],
   "source": [
    "import numpy as np"
   ]
  },
  {
   "cell_type": "code",
   "execution_count": 67,
   "id": "2e40ec86-984e-4c57-a845-b549bfd32c32",
   "metadata": {},
   "outputs": [],
   "source": [
    "import pandas as pd"
   ]
  },
  {
   "cell_type": "code",
   "execution_count": 68,
   "id": "a58784c1-7c3b-4145-b97c-ae82990613b0",
   "metadata": {},
   "outputs": [],
   "source": [
    "# Hay librerías que importaremos siempre haciendo uso de un alias, que es recurrente en la práctica"
   ]
  },
  {
   "cell_type": "code",
   "execution_count": 71,
   "id": "0394fd28-0043-45c8-9fa2-ddbf5ce29525",
   "metadata": {},
   "outputs": [],
   "source": [
    "from matematicas import pi, multiplica #De esta manera, importamos elementos específicos de dicha librería, y de esta manera"
   ]
  },
  {
   "cell_type": "code",
   "execution_count": 72,
   "id": "c1bfc58c-a643-4feb-8b22-d43798b071e7",
   "metadata": {},
   "outputs": [],
   "source": [
    "# No nos haría falta invocarlos de la sintaxis \"matematicas.pi\" sino que solo con \"pi\" o con \"multiplica\""
   ]
  },
  {
   "cell_type": "code",
   "execution_count": 73,
   "id": "2876214d-14ea-4936-bbf3-c1dcf7b7c1e8",
   "metadata": {},
   "outputs": [],
   "source": [
    "# Pero de esta manera, puedo pisar variables o métodos locales, etc. No es lo recomendado"
   ]
  },
  {
   "cell_type": "code",
   "execution_count": 74,
   "id": "b7900740-1f29-4a11-9e00-983cb721b6df",
   "metadata": {},
   "outputs": [],
   "source": [
    "from matematicas import * #Esta forma importo TODO, pero no es lo recomendado. porque importo mil cosas a ciegas, y puede que"
   ]
  },
  {
   "cell_type": "code",
   "execution_count": 75,
   "id": "850ec2f1-8e49-480d-b5c7-16122c5962f4",
   "metadata": {},
   "outputs": [],
   "source": [
    "# pise cosas mias. No suele ser una buena práctica"
   ]
  },
  {
   "cell_type": "code",
   "execution_count": null,
   "id": "bfc53dbd-27af-4772-9d0d-9a71833add52",
   "metadata": {},
   "outputs": [],
   "source": []
  },
  {
   "cell_type": "markdown",
   "id": "7c472fa4-b03a-4a95-a29d-a73179663998",
   "metadata": {},
   "source": [
    "## Esto son librerías externas de python. Habría que o descargarlas por separado O en caso de usar anaconda, ya viene todo junto"
   ]
  },
  {
   "cell_type": "code",
   "execution_count": 84,
   "id": "7bc3bb06-95dc-45be-a618-08391ad7cad4",
   "metadata": {},
   "outputs": [],
   "source": [
    "# Hay muchísimas librerías que ya vienen incorporadas en anacoda."
   ]
  },
  {
   "cell_type": "code",
   "execution_count": 78,
   "id": "2553dfa0-2634-424b-afa4-c03b8009dabf",
   "metadata": {},
   "outputs": [],
   "source": [
    "import matplotlib as mpl #asi se importa una librería"
   ]
  },
  {
   "cell_type": "code",
   "execution_count": 77,
   "id": "ee2400fc-e3c5-43fd-9469-4267528419e2",
   "metadata": {},
   "outputs": [],
   "source": [
    "import matplotlib.pyplot as plt #asi se importa una sublibrería de una librería"
   ]
  },
  {
   "cell_type": "code",
   "execution_count": null,
   "id": "a3ad1c5d-7076-413a-8bcc-024ff8354932",
   "metadata": {},
   "outputs": [],
   "source": []
  },
  {
   "cell_type": "markdown",
   "id": "500fd835-454c-4a52-b0ac-fea6048bad78",
   "metadata": {},
   "source": [
    "## Librerías integradas de python. Vienen por defecto con python"
   ]
  },
  {
   "cell_type": "code",
   "execution_count": 80,
   "id": "c2e2c8bf-895e-4541-b68d-0e6e56950a00",
   "metadata": {},
   "outputs": [],
   "source": [
    "import math"
   ]
  },
  {
   "cell_type": "code",
   "execution_count": 82,
   "id": "d7a34236-db91-431a-a9cd-400b523450a8",
   "metadata": {},
   "outputs": [],
   "source": [
    "import random"
   ]
  },
  {
   "cell_type": "code",
   "execution_count": 81,
   "id": "d9e38f91-ebf7-43cf-958e-8d0b50ab7c4f",
   "metadata": {},
   "outputs": [],
   "source": [
    "import statistics"
   ]
  },
  {
   "cell_type": "code",
   "execution_count": null,
   "id": "2f13ab49-b3f3-4c4c-9336-2c56a3f41a31",
   "metadata": {},
   "outputs": [],
   "source": []
  },
  {
   "cell_type": "code",
   "execution_count": null,
   "id": "0eb2b127-d319-47b0-bcf8-8eb275464dae",
   "metadata": {},
   "outputs": [],
   "source": [
    "#Big data, deep learning, Ciencia de datos, Business Intelligence, Machine Learning"
   ]
  },
  {
   "cell_type": "code",
   "execution_count": 85,
   "id": "be406180-19ca-4275-8448-de1a49aa9d73",
   "metadata": {},
   "outputs": [],
   "source": [
    "# Modelos generativos (ChatGPT, Dolly). Esto es Deep Learning"
   ]
  },
  {
   "cell_type": "code",
   "execution_count": null,
   "id": "e58081f8-18b6-404e-89c9-edf1c85f052b",
   "metadata": {},
   "outputs": [],
   "source": []
  },
  {
   "cell_type": "code",
   "execution_count": null,
   "id": "ff697360-5a67-47a4-946c-03d6d626ba6b",
   "metadata": {},
   "outputs": [],
   "source": []
  },
  {
   "cell_type": "code",
   "execution_count": null,
   "id": "27ddd53e-975c-4401-8eb4-accdc557c533",
   "metadata": {},
   "outputs": [],
   "source": []
  },
  {
   "cell_type": "code",
   "execution_count": null,
   "id": "eeb58804-af8c-4553-9ee4-5d6fa758ff74",
   "metadata": {},
   "outputs": [],
   "source": []
  }
 ],
 "metadata": {
  "kernelspec": {
   "display_name": "Python 3 (ipykernel)",
   "language": "python",
   "name": "python3"
  },
  "language_info": {
   "codemirror_mode": {
    "name": "ipython",
    "version": 3
   },
   "file_extension": ".py",
   "mimetype": "text/x-python",
   "name": "python",
   "nbconvert_exporter": "python",
   "pygments_lexer": "ipython3",
   "version": "3.11.7"
  }
 },
 "nbformat": 4,
 "nbformat_minor": 5
}
