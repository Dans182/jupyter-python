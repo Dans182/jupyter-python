{
 "cells": [
  {
   "cell_type": "markdown",
   "id": "c3cb86c8-145c-4d15-af78-c50d4155b236",
   "metadata": {},
   "source": [
    "## Espacio de nombres globales"
   ]
  },
  {
   "cell_type": "code",
   "execution_count": 2,
   "id": "50bdde7e-dfcd-42bc-8e7b-8b41c5a3bba6",
   "metadata": {},
   "outputs": [
    {
     "name": "stdout",
     "output_type": "stream",
     "text": [
      "['In', 'Out', '_', '_1', '__', '___', '__builtin__', '__builtins__', '__doc__', '__loader__', '__name__', '__package__', '__session__', '__spec__', '_dh', '_i', '_i1', '_i2', '_ih', '_ii', '_iii', '_oh', 'exit', 'get_ipython', 'open', 'quit']\n"
     ]
    }
   ],
   "source": [
    "print(dir())"
   ]
  },
  {
   "cell_type": "code",
   "execution_count": 3,
   "id": "9ff15dd9-9604-4ce5-affb-9c5567b50c70",
   "metadata": {},
   "outputs": [],
   "source": [
    "a = 4"
   ]
  },
  {
   "cell_type": "code",
   "execution_count": 11,
   "id": "ccb48f7f-9a92-4176-b4ad-eb37d6e3356c",
   "metadata": {},
   "outputs": [
    {
     "name": "stdout",
     "output_type": "stream",
     "text": [
      "['In', 'Out', '_', '_1', '__', '___', '__builtin__', '__builtins__', '__doc__', '__loader__', '__name__', '__package__', '__session__', '__spec__', '_dh', '_i', '_i1', '_i10', '_i11', '_i2', '_i3', '_i4', '_i5', '_i6', '_i7', '_i8', '_i9', '_ih', '_ii', '_iii', '_oh', 'a', 'exit', 'get_ipython', 'matematicas', 'open', 'pi', 'quit']\n"
     ]
    }
   ],
   "source": [
    "print(dir()) #Ahora la variable a, forma parte del espacio de nombres global"
   ]
  },
  {
   "cell_type": "code",
   "execution_count": 5,
   "id": "61cd94a1-e831-48ef-bb45-100447085768",
   "metadata": {},
   "outputs": [],
   "source": [
    "pi = 3.141592"
   ]
  },
  {
   "cell_type": "code",
   "execution_count": 6,
   "id": "984ad51a-dcd1-4970-9aff-7a8580d67ad9",
   "metadata": {},
   "outputs": [
    {
     "name": "stdout",
     "output_type": "stream",
     "text": [
      "['In', 'Out', '_', '_1', '__', '___', '__builtin__', '__builtins__', '__doc__', '__loader__', '__name__', '__package__', '__session__', '__spec__', '_dh', '_i', '_i1', '_i2', '_i3', '_i4', '_i5', '_i6', '_ih', '_ii', '_iii', '_oh', 'a', 'exit', 'get_ipython', 'open', 'pi', 'quit']\n"
     ]
    }
   ],
   "source": [
    "print(dir())"
   ]
  },
  {
   "cell_type": "code",
   "execution_count": 14,
   "id": "b2da5467-8e5a-4bb2-9647-f2a741464dcb",
   "metadata": {},
   "outputs": [],
   "source": [
    "def pi():\n",
    "    return 3.141592"
   ]
  },
  {
   "cell_type": "code",
   "execution_count": 15,
   "id": "9b21bbfa-d194-41eb-9233-ea4bf06e330b",
   "metadata": {},
   "outputs": [
    {
     "name": "stdout",
     "output_type": "stream",
     "text": [
      "['In', 'Out', '_', '_1', '__', '___', '__builtin__', '__builtins__', '__doc__', '__loader__', '__name__', '__package__', '__session__', '__spec__', '_dh', '_i', '_i1', '_i10', '_i11', '_i12', '_i13', '_i14', '_i15', '_i2', '_i3', '_i4', '_i5', '_i6', '_i7', '_i8', '_i9', '_ih', '_ii', '_iii', '_oh', 'a', 'exit', 'get_ipython', 'matematicas', 'open', 'pi', 'quit']\n"
     ]
    }
   ],
   "source": [
    "print(dir())"
   ]
  },
  {
   "cell_type": "code",
   "execution_count": 7,
   "id": "aae18f90-8c4d-4eae-997f-befe3171faef",
   "metadata": {},
   "outputs": [],
   "source": [
    "#Aca no tengo forma de saber si a o pi, son variables o métodos. Pero con dir veo el espacio de nombres global"
   ]
  },
  {
   "cell_type": "code",
   "execution_count": 8,
   "id": "b8b993c5-3528-4676-80cf-61af410d993e",
   "metadata": {},
   "outputs": [],
   "source": [
    "import matematicas"
   ]
  },
  {
   "cell_type": "code",
   "execution_count": 9,
   "id": "a76eee82-2047-4511-b60b-dd00ecab061a",
   "metadata": {},
   "outputs": [
    {
     "name": "stdout",
     "output_type": "stream",
     "text": [
      "['In', 'Out', '_', '_1', '__', '___', '__builtin__', '__builtins__', '__doc__', '__loader__', '__name__', '__package__', '__session__', '__spec__', '_dh', '_i', '_i1', '_i2', '_i3', '_i4', '_i5', '_i6', '_i7', '_i8', '_i9', '_ih', '_ii', '_iii', '_oh', 'a', 'exit', 'get_ipython', 'matematicas', 'open', 'pi', 'quit']\n"
     ]
    }
   ],
   "source": [
    "print(dir())"
   ]
  },
  {
   "cell_type": "code",
   "execution_count": 13,
   "id": "26ffcc04-27a1-4a1c-a55f-3097260908e5",
   "metadata": {},
   "outputs": [
    {
     "name": "stdout",
     "output_type": "stream",
     "text": [
      "['__builtins__', '__cached__', '__doc__', '__file__', '__loader__', '__name__', '__package__', '__spec__', 'multiplica', 'pi', 'suma']\n"
     ]
    }
   ],
   "source": [
    "print(dir(matematicas)) #Esta libreria tiene su propio espacio de nombres"
   ]
  },
  {
   "cell_type": "code",
   "execution_count": 18,
   "id": "a87b08d7-48dc-4906-9299-d8968a12d618",
   "metadata": {},
   "outputs": [],
   "source": [
    "#Son las cosas disponibles de manera global."
   ]
  },
  {
   "cell_type": "code",
   "execution_count": 17,
   "id": "463bdcb0-4cef-496d-b0fb-7c4754c8452b",
   "metadata": {},
   "outputs": [],
   "source": [
    "#Las librerías tambien tienen su propio espacio de nombres"
   ]
  },
  {
   "cell_type": "code",
   "execution_count": 19,
   "id": "154c3fba-936b-4b10-b87b-fed5c6b035f6",
   "metadata": {},
   "outputs": [],
   "source": [
    "# No muestra las funciones integradas de python, porque está por defecto en la librería __builtins__ que no hace falta importar"
   ]
  },
  {
   "cell_type": "code",
   "execution_count": 20,
   "id": "8812cc13-3503-4f5b-b031-a2db56c3a0ba",
   "metadata": {},
   "outputs": [],
   "source": [
    "# explicitamente. Ahi están todas las func integradas de python, la cual si esta presente en los espacios de nombres globales"
   ]
  },
  {
   "cell_type": "code",
   "execution_count": null,
   "id": "6e1b072d-405b-4b8b-a1c7-325fdcdb2a65",
   "metadata": {},
   "outputs": [],
   "source": []
  },
  {
   "cell_type": "code",
   "execution_count": null,
   "id": "57d0f68b-b7e6-4c70-bd7c-da14eff0ae12",
   "metadata": {},
   "outputs": [],
   "source": []
  },
  {
   "cell_type": "code",
   "execution_count": null,
   "id": "a852df86-e9c7-4148-966d-abcbabf4a03f",
   "metadata": {},
   "outputs": [],
   "source": []
  },
  {
   "cell_type": "code",
   "execution_count": null,
   "id": "a9d56ec7-0a0c-4a04-aa3d-2b0eb56d2cc7",
   "metadata": {},
   "outputs": [],
   "source": []
  }
 ],
 "metadata": {
  "kernelspec": {
   "display_name": "Python 3 (ipykernel)",
   "language": "python",
   "name": "python3"
  },
  "language_info": {
   "codemirror_mode": {
    "name": "ipython",
    "version": 3
   },
   "file_extension": ".py",
   "mimetype": "text/x-python",
   "name": "python",
   "nbconvert_exporter": "python",
   "pygments_lexer": "ipython3",
   "version": "3.11.7"
  }
 },
 "nbformat": 4,
 "nbformat_minor": 5
}
