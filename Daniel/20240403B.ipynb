{
 "cells": [
  {
   "cell_type": "markdown",
   "id": "c3cb86c8-145c-4d15-af78-c50d4155b236",
   "metadata": {},
   "source": [
    "# Espacio de nombres globales (namspaces)"
   ]
  },
  {
   "cell_type": "code",
   "execution_count": 2,
   "id": "50bdde7e-dfcd-42bc-8e7b-8b41c5a3bba6",
   "metadata": {},
   "outputs": [
    {
     "name": "stdout",
     "output_type": "stream",
     "text": [
      "['In', 'Out', '_', '_1', '__', '___', '__builtin__', '__builtins__', '__doc__', '__loader__', '__name__', '__package__', '__session__', '__spec__', '_dh', '_i', '_i1', '_i2', '_ih', '_ii', '_iii', '_oh', 'exit', 'get_ipython', 'open', 'quit']\n"
     ]
    }
   ],
   "source": [
    "print(dir())"
   ]
  },
  {
   "cell_type": "code",
   "execution_count": 3,
   "id": "9ff15dd9-9604-4ce5-affb-9c5567b50c70",
   "metadata": {},
   "outputs": [],
   "source": [
    "a = 4"
   ]
  },
  {
   "cell_type": "code",
   "execution_count": 11,
   "id": "ccb48f7f-9a92-4176-b4ad-eb37d6e3356c",
   "metadata": {},
   "outputs": [
    {
     "name": "stdout",
     "output_type": "stream",
     "text": [
      "['In', 'Out', '_', '_1', '__', '___', '__builtin__', '__builtins__', '__doc__', '__loader__', '__name__', '__package__', '__session__', '__spec__', '_dh', '_i', '_i1', '_i10', '_i11', '_i2', '_i3', '_i4', '_i5', '_i6', '_i7', '_i8', '_i9', '_ih', '_ii', '_iii', '_oh', 'a', 'exit', 'get_ipython', 'matematicas', 'open', 'pi', 'quit']\n"
     ]
    }
   ],
   "source": [
    "print(dir()) #Ahora la variable a, forma parte del espacio de nombres global"
   ]
  },
  {
   "cell_type": "code",
   "execution_count": 5,
   "id": "61cd94a1-e831-48ef-bb45-100447085768",
   "metadata": {},
   "outputs": [],
   "source": [
    "pi = 3.141592"
   ]
  },
  {
   "cell_type": "code",
   "execution_count": 6,
   "id": "984ad51a-dcd1-4970-9aff-7a8580d67ad9",
   "metadata": {},
   "outputs": [
    {
     "name": "stdout",
     "output_type": "stream",
     "text": [
      "['In', 'Out', '_', '_1', '__', '___', '__builtin__', '__builtins__', '__doc__', '__loader__', '__name__', '__package__', '__session__', '__spec__', '_dh', '_i', '_i1', '_i2', '_i3', '_i4', '_i5', '_i6', '_ih', '_ii', '_iii', '_oh', 'a', 'exit', 'get_ipython', 'open', 'pi', 'quit']\n"
     ]
    }
   ],
   "source": [
    "print(dir())"
   ]
  },
  {
   "cell_type": "code",
   "execution_count": 14,
   "id": "b2da5467-8e5a-4bb2-9647-f2a741464dcb",
   "metadata": {},
   "outputs": [],
   "source": [
    "def pi():\n",
    "    return 3.141592"
   ]
  },
  {
   "cell_type": "code",
   "execution_count": 15,
   "id": "9b21bbfa-d194-41eb-9233-ea4bf06e330b",
   "metadata": {},
   "outputs": [
    {
     "name": "stdout",
     "output_type": "stream",
     "text": [
      "['In', 'Out', '_', '_1', '__', '___', '__builtin__', '__builtins__', '__doc__', '__loader__', '__name__', '__package__', '__session__', '__spec__', '_dh', '_i', '_i1', '_i10', '_i11', '_i12', '_i13', '_i14', '_i15', '_i2', '_i3', '_i4', '_i5', '_i6', '_i7', '_i8', '_i9', '_ih', '_ii', '_iii', '_oh', 'a', 'exit', 'get_ipython', 'matematicas', 'open', 'pi', 'quit']\n"
     ]
    }
   ],
   "source": [
    "print(dir())"
   ]
  },
  {
   "cell_type": "code",
   "execution_count": 7,
   "id": "aae18f90-8c4d-4eae-997f-befe3171faef",
   "metadata": {},
   "outputs": [],
   "source": [
    "#Aca no tengo forma de saber si a o pi, son variables o métodos. Pero con dir veo el espacio de nombres global"
   ]
  },
  {
   "cell_type": "code",
   "execution_count": 8,
   "id": "b8b993c5-3528-4676-80cf-61af410d993e",
   "metadata": {},
   "outputs": [],
   "source": [
    "import matematicas"
   ]
  },
  {
   "cell_type": "code",
   "execution_count": 9,
   "id": "a76eee82-2047-4511-b60b-dd00ecab061a",
   "metadata": {},
   "outputs": [
    {
     "name": "stdout",
     "output_type": "stream",
     "text": [
      "['In', 'Out', '_', '_1', '__', '___', '__builtin__', '__builtins__', '__doc__', '__loader__', '__name__', '__package__', '__session__', '__spec__', '_dh', '_i', '_i1', '_i2', '_i3', '_i4', '_i5', '_i6', '_i7', '_i8', '_i9', '_ih', '_ii', '_iii', '_oh', 'a', 'exit', 'get_ipython', 'matematicas', 'open', 'pi', 'quit']\n"
     ]
    }
   ],
   "source": [
    "print(dir())"
   ]
  },
  {
   "cell_type": "code",
   "execution_count": 13,
   "id": "26ffcc04-27a1-4a1c-a55f-3097260908e5",
   "metadata": {},
   "outputs": [
    {
     "name": "stdout",
     "output_type": "stream",
     "text": [
      "['__builtins__', '__cached__', '__doc__', '__file__', '__loader__', '__name__', '__package__', '__spec__', 'multiplica', 'pi', 'suma']\n"
     ]
    }
   ],
   "source": [
    "print(dir(matematicas)) #Esta libreria tiene su propio espacio de nombres"
   ]
  },
  {
   "cell_type": "code",
   "execution_count": 18,
   "id": "a87b08d7-48dc-4906-9299-d8968a12d618",
   "metadata": {},
   "outputs": [],
   "source": [
    "#Son las cosas disponibles de manera global."
   ]
  },
  {
   "cell_type": "code",
   "execution_count": 17,
   "id": "463bdcb0-4cef-496d-b0fb-7c4754c8452b",
   "metadata": {},
   "outputs": [],
   "source": [
    "#Las librerías tambien tienen su propio espacio de nombres"
   ]
  },
  {
   "cell_type": "code",
   "execution_count": 19,
   "id": "154c3fba-936b-4b10-b87b-fed5c6b035f6",
   "metadata": {},
   "outputs": [],
   "source": [
    "# No muestra las funciones integradas de python, porque está por defecto en la librería __builtins__ que no hace falta importar"
   ]
  },
  {
   "cell_type": "code",
   "execution_count": 20,
   "id": "8812cc13-3503-4f5b-b031-a2db56c3a0ba",
   "metadata": {},
   "outputs": [],
   "source": [
    "# explicitamente. Ahi están todas las func integradas de python, la cual si esta presente en los espacios de nombres globales"
   ]
  },
  {
   "cell_type": "code",
   "execution_count": null,
   "id": "6e1b072d-405b-4b8b-a1c7-325fdcdb2a65",
   "metadata": {},
   "outputs": [],
   "source": []
  },
  {
   "cell_type": "markdown",
   "id": "8efbe593-c458-41ef-8bb9-6bb0ec9b4d09",
   "metadata": {},
   "source": [
    "# Programación Orientada a Objetos (POO/OPP)"
   ]
  },
  {
   "cell_type": "code",
   "execution_count": 25,
   "id": "e44dcadf-67da-4b29-9cbb-392461d7f98f",
   "metadata": {},
   "outputs": [],
   "source": [
    "a = 6\n",
    "b = 3 #Variables"
   ]
  },
  {
   "cell_type": "code",
   "execution_count": 23,
   "id": "121ca263-9c2c-4847-9e27-04243b84353f",
   "metadata": {},
   "outputs": [
    {
     "data": {
      "text/plain": [
       "9"
      ]
     },
     "execution_count": 23,
     "metadata": {},
     "output_type": "execute_result"
    }
   ],
   "source": [
    "a + b #operadores"
   ]
  },
  {
   "cell_type": "code",
   "execution_count": 24,
   "id": "cc02bf7d-e43b-4e29-8580-1cc24485ba42",
   "metadata": {},
   "outputs": [],
   "source": [
    "c = \"python\""
   ]
  },
  {
   "cell_type": "code",
   "execution_count": 27,
   "id": "c52ecfb8-59be-487d-9620-7a2146bb1b40",
   "metadata": {},
   "outputs": [
    {
     "data": {
      "text/plain": [
       "6"
      ]
     },
     "execution_count": 27,
     "metadata": {},
     "output_type": "execute_result"
    }
   ],
   "source": [
    "len(c) #funciones"
   ]
  },
  {
   "cell_type": "code",
   "execution_count": 28,
   "id": "57d0f68b-b7e6-4c70-bd7c-da14eff0ae12",
   "metadata": {},
   "outputs": [],
   "source": [
    "# Todo esto es el enfoque imperativo, en el que yo escribo el orden en que quiero que ocurran"
   ]
  },
  {
   "cell_type": "code",
   "execution_count": null,
   "id": "a852df86-e9c7-4148-966d-abcbabf4a03f",
   "metadata": {},
   "outputs": [],
   "source": [
    "persona1 = \"Daniel\"\n",
    "edad1 = 34"
   ]
  },
  {
   "cell_type": "code",
   "execution_count": 30,
   "id": "41df4533-3172-4ceb-afc3-b36267847c52",
   "metadata": {},
   "outputs": [],
   "source": [
    "persona1 = {\"nombre\": \"Daniel\", \"edad\": 34, \"departamento\": \"ventas\"}\n",
    "persona2 = {\"nombre\": \"Alicia\", \"edad\": 40, \"departamento\": \"compras\"}"
   ]
  },
  {
   "cell_type": "code",
   "execution_count": 31,
   "id": "124f3023-5be7-4f3a-acaa-31f8acaed2cc",
   "metadata": {},
   "outputs": [],
   "source": [
    "marketing = {\"personas\": [\"alicia\", \"pepe\"]}"
   ]
  },
  {
   "cell_type": "code",
   "execution_count": null,
   "id": "da94bcd8-b65a-483e-b6fe-6d3d51d4203e",
   "metadata": {},
   "outputs": [],
   "source": []
  },
  {
   "cell_type": "markdown",
   "id": "e120e9e9-aac7-4d97-b337-cee63d40e4f1",
   "metadata": {},
   "source": [
    "## Clases"
   ]
  },
  {
   "cell_type": "code",
   "execution_count": 32,
   "id": "ae8ce555-fba3-40ee-ab78-1610de568acd",
   "metadata": {},
   "outputs": [],
   "source": [
    "class Circulo:\n",
    "\n",
    "    pass"
   ]
  },
  {
   "cell_type": "code",
   "execution_count": 33,
   "id": "d1e07cce-7fdb-40f5-ba7b-744e49cab1fd",
   "metadata": {},
   "outputs": [
    {
     "name": "stdout",
     "output_type": "stream",
     "text": [
      "['Circulo', 'In', 'Out', '_', '_1', '_23', '_26', '_27', '__', '___', '__builtin__', '__builtins__', '__doc__', '__loader__', '__name__', '__package__', '__session__', '__spec__', '_dh', '_i', '_i1', '_i10', '_i11', '_i12', '_i13', '_i14', '_i15', '_i16', '_i17', '_i18', '_i19', '_i2', '_i20', '_i21', '_i22', '_i23', '_i24', '_i25', '_i26', '_i27', '_i28', '_i29', '_i3', '_i30', '_i31', '_i32', '_i33', '_i4', '_i5', '_i6', '_i7', '_i8', '_i9', '_ih', '_ii', '_iii', '_oh', 'a', 'b', 'c', 'exit', 'get_ipython', 'marketing', 'matematicas', 'open', 'persona1', 'persona2', 'pi', 'quit']\n"
     ]
    }
   ],
   "source": [
    "print(dir())"
   ]
  },
  {
   "cell_type": "code",
   "execution_count": 36,
   "id": "25bcf0c4-4ea5-46d6-8706-4dfeb0ed5afb",
   "metadata": {},
   "outputs": [
    {
     "name": "stdout",
     "output_type": "stream",
     "text": [
      "['__class__', '__delattr__', '__dict__', '__dir__', '__doc__', '__eq__', '__format__', '__ge__', '__getattribute__', '__getstate__', '__gt__', '__hash__', '__init__', '__init_subclass__', '__le__', '__lt__', '__module__', '__ne__', '__new__', '__reduce__', '__reduce_ex__', '__repr__', '__setattr__', '__sizeof__', '__str__', '__subclasshook__', '__weakref__']\n"
     ]
    }
   ],
   "source": [
    "print(dir(Circulo))"
   ]
  },
  {
   "cell_type": "code",
   "execution_count": 35,
   "id": "1542701e-a3c7-4334-b4f3-3cf5bd91ac7a",
   "metadata": {},
   "outputs": [
    {
     "data": {
      "text/plain": [
       "__main__.Circulo"
      ]
     },
     "execution_count": 35,
     "metadata": {},
     "output_type": "execute_result"
    }
   ],
   "source": [
    "type(Circulo())"
   ]
  },
  {
   "cell_type": "code",
   "execution_count": 37,
   "id": "70437c50-1c31-45b5-912d-f7e86dc24c00",
   "metadata": {},
   "outputs": [],
   "source": [
    "b = [2, 3, 4]"
   ]
  },
  {
   "cell_type": "code",
   "execution_count": 38,
   "id": "3feb726a-ffe3-493e-9d58-5b7aca18fa00",
   "metadata": {},
   "outputs": [],
   "source": [
    "c1 = Circulo()"
   ]
  },
  {
   "cell_type": "code",
   "execution_count": 39,
   "id": "d4659bd1-6af7-4f38-bc99-1ddbfdb3c766",
   "metadata": {},
   "outputs": [
    {
     "data": {
      "text/plain": [
       "__main__.Circulo"
      ]
     },
     "execution_count": 39,
     "metadata": {},
     "output_type": "execute_result"
    }
   ],
   "source": [
    "type(c1)"
   ]
  },
  {
   "cell_type": "code",
   "execution_count": 41,
   "id": "0bad3b31-9c47-4681-bacf-66efc6c360e3",
   "metadata": {},
   "outputs": [],
   "source": [
    "class Circulo:\n",
    "\n",
    "    def __init__(self): #Este es el constructor. Es la función que se ejecuta automáticamente. Es la que inicializa mi Círculo\n",
    "        print(\"Circulo creado\") #self se usa por convenio. Ajuro se pasa ese argumento, con ese nombre por convenio"
   ]
  },
  {
   "cell_type": "code",
   "execution_count": 43,
   "id": "2c47509c-da62-47a2-b27d-d2a023e25a80",
   "metadata": {},
   "outputs": [],
   "source": [
    "#Init es el metodo que se ejecuta cada vez que se crea un objeto, a partir de dicha clase"
   ]
  },
  {
   "cell_type": "code",
   "execution_count": 42,
   "id": "6d8cb75e-0a37-466e-95a2-e024c2918a55",
   "metadata": {},
   "outputs": [
    {
     "name": "stdout",
     "output_type": "stream",
     "text": [
      "Circulo creado\n"
     ]
    }
   ],
   "source": [
    "c1 = Circulo()"
   ]
  },
  {
   "cell_type": "code",
   "execution_count": 49,
   "id": "9cedf452-34ef-423b-b6d4-ae66e92f9cbb",
   "metadata": {},
   "outputs": [],
   "source": [
    "class Circulo:\n",
    "\n",
    "    def __init__(self, radio):\n",
    "        self.radio = radio #no es lo mismo self.radio que radio. el segundo radio, es lo mismo que el parámetro radio del arg que pasamos en el metodo init\n",
    "        print(\"Circulo creado\", \"Su radio es de:\", radio)"
   ]
  },
  {
   "cell_type": "code",
   "execution_count": 48,
   "id": "5ad08644-28de-4c30-901d-295e82f25880",
   "metadata": {},
   "outputs": [
    {
     "name": "stdout",
     "output_type": "stream",
     "text": [
      "Circulo creado Su radio es de: 3\n"
     ]
    }
   ],
   "source": [
    "c1 = Circulo(radio = 3)"
   ]
  },
  {
   "cell_type": "code",
   "execution_count": 50,
   "id": "6ff0c6cb-f5c8-49dc-ae8b-1ee163a88420",
   "metadata": {},
   "outputs": [
    {
     "data": {
      "text/plain": [
       "3"
      ]
     },
     "execution_count": 50,
     "metadata": {},
     "output_type": "execute_result"
    }
   ],
   "source": [
    "c1.radio"
   ]
  },
  {
   "cell_type": "code",
   "execution_count": 51,
   "id": "7a78e926-5832-4d10-82a5-154814ef6b34",
   "metadata": {},
   "outputs": [
    {
     "name": "stdout",
     "output_type": "stream",
     "text": [
      "Circulo creado Su radio es de: 5\n"
     ]
    }
   ],
   "source": [
    "c2 = Circulo(radio = 5)"
   ]
  },
  {
   "cell_type": "code",
   "execution_count": 53,
   "id": "0e85762e-e66e-4c7e-95a1-f53111d0f378",
   "metadata": {},
   "outputs": [
    {
     "data": {
      "text/plain": [
       "5"
      ]
     },
     "execution_count": 53,
     "metadata": {},
     "output_type": "execute_result"
    }
   ],
   "source": [
    "c2.radio #Este radio, es lo mismo al self.radio del init de la clase"
   ]
  },
  {
   "cell_type": "code",
   "execution_count": 55,
   "id": "057c1ed8-ccdd-4cda-82f6-abd832ab6350",
   "metadata": {},
   "outputs": [],
   "source": [
    "class Circulo:\n",
    "\n",
    "    def __init__(self, radio, color):\n",
    "        self.radio = radio\n",
    "        self.c = color\n",
    "        print(\"Circulo creado\", \"Su radio es de:\", radio, \"color:\", color)"
   ]
  },
  {
   "cell_type": "code",
   "execution_count": 56,
   "id": "ff77a56b-21fd-4c1a-991d-3d02a0e4fe7a",
   "metadata": {},
   "outputs": [
    {
     "name": "stdout",
     "output_type": "stream",
     "text": [
      "Circulo creado Su radio es de: 8 color: azul\n"
     ]
    }
   ],
   "source": [
    "c3 = Circulo(8, \"azul\")"
   ]
  },
  {
   "cell_type": "code",
   "execution_count": 57,
   "id": "acce57bc-777a-4de4-9c40-952d4c86521a",
   "metadata": {},
   "outputs": [
    {
     "data": {
      "text/plain": [
       "8"
      ]
     },
     "execution_count": 57,
     "metadata": {},
     "output_type": "execute_result"
    }
   ],
   "source": [
    "c3.radio"
   ]
  },
  {
   "cell_type": "code",
   "execution_count": 59,
   "id": "f3fc962d-c239-4b22-960b-2023f6e0f113",
   "metadata": {},
   "outputs": [
    {
     "data": {
      "text/plain": [
       "'azul'"
      ]
     },
     "execution_count": 59,
     "metadata": {},
     "output_type": "execute_result"
    }
   ],
   "source": [
    "c3.c"
   ]
  },
  {
   "cell_type": "code",
   "execution_count": null,
   "id": "8d8be642-1ef3-4143-94b6-65a1f8d398f7",
   "metadata": {},
   "outputs": [],
   "source": []
  },
  {
   "cell_type": "code",
   "execution_count": null,
   "id": "3286f799-8eb7-45c7-a448-1e2eebcf7fe9",
   "metadata": {},
   "outputs": [],
   "source": []
  },
  {
   "cell_type": "code",
   "execution_count": 61,
   "id": "3a2b2728-f11d-4765-ae5b-39889a4cc9e3",
   "metadata": {},
   "outputs": [
    {
     "name": "stdout",
     "output_type": "stream",
     "text": [
      "['__class__', '__delattr__', '__dict__', '__dir__', '__doc__', '__eq__', '__format__', '__ge__', '__getattribute__', '__getstate__', '__gt__', '__hash__', '__init__', '__init_subclass__', '__le__', '__lt__', '__module__', '__ne__', '__new__', '__reduce__', '__reduce_ex__', '__repr__', '__setattr__', '__sizeof__', '__str__', '__subclasshook__', '__weakref__']\n"
     ]
    }
   ],
   "source": [
    "print(dir(Circulo))"
   ]
  },
  {
   "cell_type": "code",
   "execution_count": 62,
   "id": "c9dcb076-df0c-47f3-82aa-fc39cb3e9959",
   "metadata": {},
   "outputs": [
    {
     "name": "stdout",
     "output_type": "stream",
     "text": [
      "['__class__', '__delattr__', '__dict__', '__dir__', '__doc__', '__eq__', '__format__', '__ge__', '__getattribute__', '__getstate__', '__gt__', '__hash__', '__init__', '__init_subclass__', '__le__', '__lt__', '__module__', '__ne__', '__new__', '__reduce__', '__reduce_ex__', '__repr__', '__setattr__', '__sizeof__', '__str__', '__subclasshook__', '__weakref__', 'radio']\n"
     ]
    }
   ],
   "source": [
    "print(dir(c1))"
   ]
  },
  {
   "cell_type": "code",
   "execution_count": null,
   "id": "831b9ea1-8e56-40db-b12c-3c932c973f39",
   "metadata": {},
   "outputs": [],
   "source": []
  },
  {
   "cell_type": "code",
   "execution_count": 96,
   "id": "b27316a7-612c-4e8f-9ecf-80a9b36e6e6a",
   "metadata": {},
   "outputs": [],
   "source": [
    "class Circulo:\n",
    "\n",
    "    pi = 3.141592\n",
    "    \n",
    "    def __init__(self, radio, colorcito):\n",
    "        self.radio = radio #atributo radio\n",
    "        self.color = colorcito #atributo color\n",
    "        print(\"Circulo creado\", \"Su radio es de:\", radio, \"color:\", colorcito)\n",
    "\n",
    "    def area(self): #estas funciones, ahora se llaman métodos\n",
    "        return Circulo.pi * (self.radio ** 2)"
   ]
  },
  {
   "cell_type": "code",
   "execution_count": 95,
   "id": "1ca54498-84dd-4575-8cc3-a2205e6fa5a8",
   "metadata": {},
   "outputs": [
    {
     "name": "stdout",
     "output_type": "stream",
     "text": [
      "Circulo creado Su radio es de: 3 color: azul\n"
     ]
    }
   ],
   "source": [
    "c1 = Circulo(3, \"azul\") #aca estoy instanciando la clase para crear un objeto."
   ]
  },
  {
   "cell_type": "code",
   "execution_count": 85,
   "id": "aa606997-b881-471c-8684-38d1f8068081",
   "metadata": {},
   "outputs": [
    {
     "data": {
      "text/plain": [
       "3"
      ]
     },
     "execution_count": 85,
     "metadata": {},
     "output_type": "execute_result"
    }
   ],
   "source": [
    "c1.radio"
   ]
  },
  {
   "cell_type": "code",
   "execution_count": 88,
   "id": "f9dc4625-1278-431d-8993-ac54a7321dc3",
   "metadata": {},
   "outputs": [
    {
     "data": {
      "text/plain": [
       "'azul'"
      ]
     },
     "execution_count": 88,
     "metadata": {},
     "output_type": "execute_result"
    }
   ],
   "source": [
    "c1.color"
   ]
  },
  {
   "cell_type": "code",
   "execution_count": 74,
   "id": "34f30154-737c-46a0-b5e6-bd7037d30ca5",
   "metadata": {},
   "outputs": [
    {
     "data": {
      "text/plain": [
       "28.274328"
      ]
     },
     "execution_count": 74,
     "metadata": {},
     "output_type": "execute_result"
    }
   ],
   "source": [
    "c1.area()"
   ]
  },
  {
   "cell_type": "code",
   "execution_count": 75,
   "id": "91390429-e03c-4ad7-b915-a8358b17c462",
   "metadata": {},
   "outputs": [],
   "source": [
    "a = [1, 2, 3]"
   ]
  },
  {
   "cell_type": "code",
   "execution_count": 76,
   "id": "a9d56ec7-0a0c-4a04-aa3d-2b0eb56d2cc7",
   "metadata": {},
   "outputs": [],
   "source": [
    "b = [3, 4]"
   ]
  },
  {
   "cell_type": "code",
   "execution_count": 77,
   "id": "a4039923-f96a-49c5-9523-bc4e5fe564e8",
   "metadata": {},
   "outputs": [
    {
     "name": "stdout",
     "output_type": "stream",
     "text": [
      "Circulo creado Su radio es de: 6 color: rojo\n"
     ]
    }
   ],
   "source": [
    "c2 = Circulo(6, \"rojo\")"
   ]
  },
  {
   "cell_type": "code",
   "execution_count": 78,
   "id": "3930155d-d7c3-44e6-95d6-e0c1d87273f2",
   "metadata": {},
   "outputs": [
    {
     "data": {
      "text/plain": [
       "'rojo'"
      ]
     },
     "execution_count": 78,
     "metadata": {},
     "output_type": "execute_result"
    }
   ],
   "source": [
    "c2.color"
   ]
  },
  {
   "cell_type": "code",
   "execution_count": 79,
   "id": "737ca359-7ab6-488b-a93a-48836a6b41e1",
   "metadata": {},
   "outputs": [
    {
     "data": {
      "text/plain": [
       "6"
      ]
     },
     "execution_count": 79,
     "metadata": {},
     "output_type": "execute_result"
    }
   ],
   "source": [
    "c2.radio"
   ]
  },
  {
   "cell_type": "code",
   "execution_count": 80,
   "id": "93d03f05-0b1f-43e8-807c-f8ebfb3d9bfa",
   "metadata": {},
   "outputs": [
    {
     "data": {
      "text/plain": [
       "113.097312"
      ]
     },
     "execution_count": 80,
     "metadata": {},
     "output_type": "execute_result"
    }
   ],
   "source": [
    "c2.area()"
   ]
  },
  {
   "cell_type": "code",
   "execution_count": null,
   "id": "6f7577dd-5fbb-4321-8699-4cdaa7f960a2",
   "metadata": {},
   "outputs": [],
   "source": []
  },
  {
   "cell_type": "code",
   "execution_count": 97,
   "id": "24ae9269-d1f7-435a-b709-93c64a98a58c",
   "metadata": {},
   "outputs": [
    {
     "name": "stdout",
     "output_type": "stream",
     "text": [
      "['__class__', '__delattr__', '__dict__', '__dir__', '__doc__', '__eq__', '__format__', '__ge__', '__getattribute__', '__getstate__', '__gt__', '__hash__', '__init__', '__init_subclass__', '__le__', '__lt__', '__module__', '__ne__', '__new__', '__reduce__', '__reduce_ex__', '__repr__', '__setattr__', '__sizeof__', '__str__', '__subclasshook__', '__weakref__', 'area', 'pi']\n"
     ]
    }
   ],
   "source": [
    "print(dir(Circulo))"
   ]
  },
  {
   "cell_type": "code",
   "execution_count": 98,
   "id": "c4cfac0c-7d4f-4271-92e1-ab8a5d45a497",
   "metadata": {},
   "outputs": [
    {
     "name": "stdout",
     "output_type": "stream",
     "text": [
      "['__add__', '__class__', '__class_getitem__', '__contains__', '__delattr__', '__delitem__', '__dir__', '__doc__', '__eq__', '__format__', '__ge__', '__getattribute__', '__getitem__', '__getstate__', '__gt__', '__hash__', '__iadd__', '__imul__', '__init__', '__init_subclass__', '__iter__', '__le__', '__len__', '__lt__', '__mul__', '__ne__', '__new__', '__reduce__', '__reduce_ex__', '__repr__', '__reversed__', '__rmul__', '__setattr__', '__setitem__', '__sizeof__', '__str__', '__subclasshook__', 'append', 'clear', 'copy', 'count', 'extend', 'index', 'insert', 'pop', 'remove', 'reverse', 'sort']\n"
     ]
    }
   ],
   "source": [
    "print(dir([]))"
   ]
  },
  {
   "cell_type": "code",
   "execution_count": 99,
   "id": "55a8cabd-0b8e-4997-a7d0-a5265f68570f",
   "metadata": {},
   "outputs": [
    {
     "name": "stdout",
     "output_type": "stream",
     "text": [
      "['__class__', '__class_getitem__', '__contains__', '__delattr__', '__delitem__', '__dir__', '__doc__', '__eq__', '__format__', '__ge__', '__getattribute__', '__getitem__', '__getstate__', '__gt__', '__hash__', '__init__', '__init_subclass__', '__ior__', '__iter__', '__le__', '__len__', '__lt__', '__ne__', '__new__', '__or__', '__reduce__', '__reduce_ex__', '__repr__', '__reversed__', '__ror__', '__setattr__', '__setitem__', '__sizeof__', '__str__', '__subclasshook__', 'clear', 'copy', 'fromkeys', 'get', 'items', 'keys', 'pop', 'popitem', 'setdefault', 'update', 'values']\n"
     ]
    }
   ],
   "source": [
    "print(dir(dict))"
   ]
  },
  {
   "cell_type": "code",
   "execution_count": null,
   "id": "e7eb1954-28e6-4c44-a73d-ca22a7d41bda",
   "metadata": {},
   "outputs": [],
   "source": [
    " "
   ]
  },
  {
   "cell_type": "code",
   "execution_count": 100,
   "id": "eb88ddce-7aca-4951-904a-1d2cb79b4262",
   "metadata": {},
   "outputs": [],
   "source": [
    "# variables -> Atributos\n",
    "# Funciones -> Metodos\n",
    "# Objeto hereda los métodos y atributos de una clase"
   ]
  },
  {
   "cell_type": "code",
   "execution_count": null,
   "id": "2b420ece-7541-4d6e-8de4-686048d1bc1c",
   "metadata": {},
   "outputs": [],
   "source": []
  },
  {
   "cell_type": "code",
   "execution_count": 112,
   "id": "8f710090-8989-4b7c-ab56-70001659ee0b",
   "metadata": {},
   "outputs": [],
   "source": [
    "class Circulo:\n",
    "\n",
    "    pi = 3.141592\n",
    "    \n",
    "    def __init__(self, radio, colorcito):\n",
    "        self.radio = radio #atributo radio\n",
    "        self.color = colorcito #atributo color\n",
    "        print(\"Circulo creado\", \"Su radio es de:\", radio, \"color:\", colorcito)\n",
    "\n",
    "    def __eq__(c1, c2):\n",
    "        resultado = (c1.radio == c2.radio) and (c1.color == c2.color)\n",
    "        if resultado:\n",
    "            print(\"Los círculos son iguales\")\n",
    "        else:\n",
    "            print(\"Los círculos no son iguales\")\n",
    "\n",
    "    def area(self): #estas funciones, ahora se llaman métodos\n",
    "        return Circulo.pi * (self.radio ** 2)"
   ]
  },
  {
   "cell_type": "code",
   "execution_count": 113,
   "id": "bbb14ecf-ba15-4bdc-8ad4-60571cdd2f30",
   "metadata": {},
   "outputs": [
    {
     "name": "stdout",
     "output_type": "stream",
     "text": [
      "Circulo creado Su radio es de: 3 color: azul\n",
      "Circulo creado Su radio es de: 3 color: azul\n"
     ]
    }
   ],
   "source": [
    "c1 = Circulo(3, \"azul\")\n",
    "c2 = Circulo(3, \"azul\")"
   ]
  },
  {
   "cell_type": "code",
   "execution_count": 114,
   "id": "dcc3ca1b-d978-4348-8dbf-b7bf64f97e84",
   "metadata": {},
   "outputs": [
    {
     "name": "stdout",
     "output_type": "stream",
     "text": [
      "Los círculos son iguales\n"
     ]
    }
   ],
   "source": [
    "c1 == c2"
   ]
  },
  {
   "cell_type": "code",
   "execution_count": 115,
   "id": "a11716d5-036f-4ec4-a9fb-7b748657d6ab",
   "metadata": {},
   "outputs": [
    {
     "data": {
      "text/plain": [
       "list"
      ]
     },
     "execution_count": 115,
     "metadata": {},
     "output_type": "execute_result"
    }
   ],
   "source": [
    "type(dir(Circulo))"
   ]
  },
  {
   "cell_type": "code",
   "execution_count": 105,
   "id": "78764ed8-a1aa-4499-abdf-c95a2fe1494b",
   "metadata": {},
   "outputs": [
    {
     "name": "stdout",
     "output_type": "stream",
     "text": [
      "['__class__', '__delattr__', '__dict__', '__dir__', '__doc__', '__eq__', '__format__', '__ge__', '__getattribute__', '__getstate__', '__gt__', '__hash__', '__init__', '__init_subclass__', '__le__', '__lt__', '__module__', '__ne__', '__new__', '__reduce__', '__reduce_ex__', '__repr__', '__setattr__', '__sizeof__', '__str__', '__subclasshook__', '__weakref__', 'area', 'pi']\n"
     ]
    }
   ],
   "source": [
    "print(dir(Circulo))"
   ]
  },
  {
   "cell_type": "code",
   "execution_count": null,
   "id": "552fdd2a-ccea-460a-a762-cee60612cddc",
   "metadata": {},
   "outputs": [],
   "source": []
  },
  {
   "cell_type": "code",
   "execution_count": 116,
   "id": "a36fd2fd-9528-4055-90e3-c1f87aa127bf",
   "metadata": {},
   "outputs": [
    {
     "data": {
      "text/plain": [
       "int"
      ]
     },
     "execution_count": 116,
     "metadata": {},
     "output_type": "execute_result"
    }
   ],
   "source": [
    "type(4)"
   ]
  },
  {
   "cell_type": "code",
   "execution_count": 117,
   "id": "b4414797-72f4-4a33-9d11-06bab72a8e88",
   "metadata": {},
   "outputs": [
    {
     "name": "stdout",
     "output_type": "stream",
     "text": [
      "['__abs__', '__add__', '__and__', '__bool__', '__ceil__', '__class__', '__delattr__', '__dir__', '__divmod__', '__doc__', '__eq__', '__float__', '__floor__', '__floordiv__', '__format__', '__ge__', '__getattribute__', '__getnewargs__', '__getstate__', '__gt__', '__hash__', '__index__', '__init__', '__init_subclass__', '__int__', '__invert__', '__le__', '__lshift__', '__lt__', '__mod__', '__mul__', '__ne__', '__neg__', '__new__', '__or__', '__pos__', '__pow__', '__radd__', '__rand__', '__rdivmod__', '__reduce__', '__reduce_ex__', '__repr__', '__rfloordiv__', '__rlshift__', '__rmod__', '__rmul__', '__ror__', '__round__', '__rpow__', '__rrshift__', '__rshift__', '__rsub__', '__rtruediv__', '__rxor__', '__setattr__', '__sizeof__', '__str__', '__sub__', '__subclasshook__', '__truediv__', '__trunc__', '__xor__', 'as_integer_ratio', 'bit_count', 'bit_length', 'conjugate', 'denominator', 'from_bytes', 'imag', 'numerator', 'real', 'to_bytes']\n"
     ]
    }
   ],
   "source": [
    "print(dir(4))"
   ]
  },
  {
   "cell_type": "code",
   "execution_count": 118,
   "id": "88d36576-b9e6-46b5-8105-dc2af5ca49d7",
   "metadata": {},
   "outputs": [
    {
     "data": {
      "text/plain": [
       "4"
      ]
     },
     "execution_count": 118,
     "metadata": {},
     "output_type": "execute_result"
    }
   ],
   "source": [
    "(4).real"
   ]
  },
  {
   "cell_type": "code",
   "execution_count": 119,
   "id": "f64261a3-3078-4c2e-9a99-4b619aadb8df",
   "metadata": {},
   "outputs": [
    {
     "data": {
      "text/plain": [
       "0"
      ]
     },
     "execution_count": 119,
     "metadata": {},
     "output_type": "execute_result"
    }
   ],
   "source": [
    "(4).imag"
   ]
  },
  {
   "cell_type": "code",
   "execution_count": 120,
   "id": "76e79576-b07f-4ba4-8b74-739eaaeded0c",
   "metadata": {},
   "outputs": [],
   "source": [
    "a = 4 + 6j"
   ]
  },
  {
   "cell_type": "code",
   "execution_count": 121,
   "id": "d73902b2-9683-41b7-826e-e0e0d8eeb786",
   "metadata": {},
   "outputs": [
    {
     "data": {
      "text/plain": [
       "4.0"
      ]
     },
     "execution_count": 121,
     "metadata": {},
     "output_type": "execute_result"
    }
   ],
   "source": [
    "a.real"
   ]
  },
  {
   "cell_type": "code",
   "execution_count": 122,
   "id": "d4d446dc-3608-41ad-b553-ed1ab383185d",
   "metadata": {},
   "outputs": [
    {
     "data": {
      "text/plain": [
       "6.0"
      ]
     },
     "execution_count": 122,
     "metadata": {},
     "output_type": "execute_result"
    }
   ],
   "source": [
    "a.imag"
   ]
  },
  {
   "cell_type": "code",
   "execution_count": 123,
   "id": "af881bd6-33b7-4db5-917f-57e5bc3b2c2b",
   "metadata": {},
   "outputs": [],
   "source": [
    "a = \"python\""
   ]
  },
  {
   "cell_type": "code",
   "execution_count": 124,
   "id": "bf71cd5f-4d67-424d-a03d-545c0a83aa1c",
   "metadata": {},
   "outputs": [
    {
     "data": {
      "text/plain": [
       "6"
      ]
     },
     "execution_count": 124,
     "metadata": {},
     "output_type": "execute_result"
    }
   ],
   "source": [
    "len(a)"
   ]
  },
  {
   "cell_type": "code",
   "execution_count": 125,
   "id": "e35bf526-f7d2-4ebe-913e-f38db812b768",
   "metadata": {},
   "outputs": [
    {
     "data": {
      "text/plain": [
       "['p', 'y', 't', 'h', 'o', 'n']"
      ]
     },
     "execution_count": 125,
     "metadata": {},
     "output_type": "execute_result"
    }
   ],
   "source": [
    "list(a)"
   ]
  },
  {
   "cell_type": "code",
   "execution_count": 126,
   "id": "7c22056e-0c1b-4fb5-90e2-44271fae61d8",
   "metadata": {},
   "outputs": [
    {
     "name": "stdout",
     "output_type": "stream",
     "text": [
      "['__add__', '__class__', '__contains__', '__delattr__', '__dir__', '__doc__', '__eq__', '__format__', '__ge__', '__getattribute__', '__getitem__', '__getnewargs__', '__getstate__', '__gt__', '__hash__', '__init__', '__init_subclass__', '__iter__', '__le__', '__len__', '__lt__', '__mod__', '__mul__', '__ne__', '__new__', '__reduce__', '__reduce_ex__', '__repr__', '__rmod__', '__rmul__', '__setattr__', '__sizeof__', '__str__', '__subclasshook__', 'capitalize', 'casefold', 'center', 'count', 'encode', 'endswith', 'expandtabs', 'find', 'format', 'format_map', 'index', 'isalnum', 'isalpha', 'isascii', 'isdecimal', 'isdigit', 'isidentifier', 'islower', 'isnumeric', 'isprintable', 'isspace', 'istitle', 'isupper', 'join', 'ljust', 'lower', 'lstrip', 'maketrans', 'partition', 'removeprefix', 'removesuffix', 'replace', 'rfind', 'rindex', 'rjust', 'rpartition', 'rsplit', 'rstrip', 'split', 'splitlines', 'startswith', 'strip', 'swapcase', 'title', 'translate', 'upper', 'zfill']\n"
     ]
    }
   ],
   "source": [
    "print(dir(a))"
   ]
  },
  {
   "cell_type": "code",
   "execution_count": 128,
   "id": "3c3d2c38-e418-47d6-badd-1deea5d75f66",
   "metadata": {},
   "outputs": [
    {
     "data": {
      "text/plain": [
       "'PYTHON'"
      ]
     },
     "execution_count": 128,
     "metadata": {},
     "output_type": "execute_result"
    }
   ],
   "source": [
    "a.upper()"
   ]
  },
  {
   "cell_type": "code",
   "execution_count": 129,
   "id": "7c8abfa3-c8a6-45fe-b50f-15e69851ff75",
   "metadata": {},
   "outputs": [
    {
     "data": {
      "text/plain": [
       "'Python For Data Science'"
      ]
     },
     "execution_count": 129,
     "metadata": {},
     "output_type": "execute_result"
    }
   ],
   "source": [
    "\"python for data science\".title()"
   ]
  },
  {
   "cell_type": "code",
   "execution_count": null,
   "id": "bef059a6-633b-4323-8930-2465a5382fd6",
   "metadata": {},
   "outputs": [],
   "source": []
  },
  {
   "cell_type": "code",
   "execution_count": null,
   "id": "80a0295a-5253-42e5-8292-e6d719f05099",
   "metadata": {},
   "outputs": [],
   "source": []
  },
  {
   "cell_type": "code",
   "execution_count": null,
   "id": "160cb91f-e65f-4e06-a42c-b4d9a8e4080b",
   "metadata": {},
   "outputs": [],
   "source": []
  }
 ],
 "metadata": {
  "kernelspec": {
   "display_name": "Python 3 (ipykernel)",
   "language": "python",
   "name": "python3"
  },
  "language_info": {
   "codemirror_mode": {
    "name": "ipython",
    "version": 3
   },
   "file_extension": ".py",
   "mimetype": "text/x-python",
   "name": "python",
   "nbconvert_exporter": "python",
   "pygments_lexer": "ipython3",
   "version": "3.11.7"
  }
 },
 "nbformat": 4,
 "nbformat_minor": 5
}
